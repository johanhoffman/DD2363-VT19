{
  "nbformat": 4,
  "nbformat_minor": 0,
  "metadata": {
    "colab": {
      "name": "maxbergmark_lab4.ipynb",
      "version": "0.3.2",
      "provenance": [],
      "collapsed_sections": [],
      "include_colab_link": true
    },
    "kernelspec": {
      "name": "python3",
      "display_name": "Python 3"
    }
  },
  "cells": [
    {
      "cell_type": "markdown",
      "metadata": {
        "id": "view-in-github",
        "colab_type": "text"
      },
      "source": [
        "<a href=\"https://colab.research.google.com/github/johanhoffman/DD2363-VT19/blob/maxbergmark/Lab-4/maxbergmark_lab4.ipynb\" target=\"_parent\"><img src=\"https://colab.research.google.com/assets/colab-badge.svg\" alt=\"Open In Colab\"/></a>"
      ]
    },
    {
      "metadata": {
        "id": "6RgtXlfYO_i7",
        "colab_type": "text"
      },
      "cell_type": "markdown",
      "source": [
        "# **Lab 4: Title**\n",
        "**Max Bergmark**"
      ]
    },
    {
      "metadata": {
        "id": "9x_J5FVuPzbm",
        "colab_type": "text"
      },
      "cell_type": "markdown",
      "source": [
        "# **Abstract**"
      ]
    },
    {
      "metadata": {
        "id": "6UFTSzW7P8kL",
        "colab_type": "text"
      },
      "cell_type": "markdown",
      "source": [
        "This report contains the code and calculations used for the Approximation part of the course.  It relates to approximating function values and integrals using efficient methods for sampling and approximating. "
      ]
    },
    {
      "metadata": {
        "id": "OkT8J7uOWpT3",
        "colab_type": "text"
      },
      "cell_type": "markdown",
      "source": [
        "#**About the code**"
      ]
    },
    {
      "metadata": {
        "id": "HmB2noTr1Oyo",
        "colab_type": "text"
      },
      "cell_type": "markdown",
      "source": [
        "The code in its entirety is written by me."
      ]
    },
    {
      "metadata": {
        "id": "28xLGz8JX3Hh",
        "colab_type": "text"
      },
      "cell_type": "markdown",
      "source": [
        "# **Set up environment**"
      ]
    },
    {
      "metadata": {
        "id": "D2PYNusD08Wa",
        "colab_type": "text"
      },
      "cell_type": "markdown",
      "source": [
        "To have access to the neccessary modules you have to run this cell. If you need additional modules, this is where you add them. "
      ]
    },
    {
      "metadata": {
        "id": "Xw7VlErAX7NS",
        "colab_type": "code",
        "colab": {}
      },
      "cell_type": "code",
      "source": [
        "# Load neccessary modules.\n",
        "import numpy as np\n",
        "from matplotlib import pyplot as plt"
      ],
      "execution_count": 0,
      "outputs": []
    },
    {
      "metadata": {
        "id": "WeFO9QMeUOAu",
        "colab_type": "text"
      },
      "cell_type": "markdown",
      "source": [
        "# **Methods**"
      ]
    },
    {
      "metadata": {
        "id": "G3NLJGYFIqSA",
        "colab_type": "text"
      },
      "cell_type": "markdown",
      "source": [
        "## Helper functions"
      ]
    },
    {
      "metadata": {
        "id": "qm0_045fIsyw",
        "colab_type": "code",
        "colab": {}
      },
      "cell_type": "code",
      "source": [
        "def riemann_sum(f, a, b, n):\n",
        "\th = (b-a) / n\n",
        "\tx = np.linspace(a, b, n+1)\n",
        "\treturn f(x[:-1]+h/2).sum()/n * (b-a)\n",
        "\n",
        "def trap_sum(f, a, b, n):\n",
        "\tx = np.linspace(a, b, n+1)\n",
        "\ty = f(x)\n",
        "\treturn (y.sum() + y[1:-1].sum())/(2*n) * (b-a)\n",
        "\n",
        "def riemann_sum_2D(f, a, b, c, d, n):\n",
        "    h_x = (b-a) / n\n",
        "    h_y = (d-c) / n\n",
        "    x = np.linspace(a, b, n+1)\n",
        "    y = np.linspace(a, b, n+1)\n",
        "    grid_x, grid_y = np.meshgrid(x, y)\n",
        "    return f(grid_x[:-1,:-1]+h_x/2, grid_y[:-1,:-1] + h_y/2).sum()/n**2 * (b-a) * (d-c)\n"
      ],
      "execution_count": 0,
      "outputs": []
    },
    {
      "metadata": {
        "id": "zF4iBj5VURZx",
        "colab_type": "text"
      },
      "cell_type": "markdown",
      "source": [
        "## 1: 1-point Gauss quadrature over a unit interval\n",
        "\n",
        "For this task, we have to solve the equation $\\int_0^1 f(x)dx \\approx f(x_0)w_0$, which holds exactly when $f(x)$ is a linear polynomial. I also found the solution for two quadrature points, which will be used in the second part of the lab. This was done by solving the system $\\int_0^1 f(x)dx = f(x_0)w + f(x_1)w$.\n",
        "\n",
        "### 1-point quadrature:\n",
        "\n",
        "Assume that $f(x) = ax+b$, which means that $\\int_0^1 f(x)dx = \\frac{a}{2} + b$. From this we need to solve the equation $\\frac{a}{2} + b = w_0(ax_0 + b) \\iff a(\\frac{1}{2} - w_0x_0) + b(1-w_0) = 0$. \n",
        "\n",
        "Since this should hold for any values of $a$ and $b$, this is equivalent to solving the equation system:\n",
        "\n",
        ">$\\begin{cases} \\frac{1}{2} - w_0x_0 = 0 \\iff x_0 = \\frac{1}{2} \\\\ 1-w_0 = 0 \\iff w_0 = 1\\end{cases}$\n",
        "\n",
        "### 2-point quadrature\n",
        "\n",
        "For the second part of the lab, a second degree polynomial needs to be integrated exactly, which can be done with 2-point gaussian quadrature. The math is similar to the 1-point case, but we need to solve a second degree equation.\n",
        ">$\\int_0^1 (ax^2 + bx + c)dx = w(ax_0^2 + bx_0 + c) + w(ax_1^2+bx_1 + c)$\n",
        "\n",
        ">$\\iff a(\\frac{1}{3} - wx_0^2 - wx_1^2) + b(\\frac{1}{2} - wx_0 - wx_1) + c(1-2w) = 0$\n",
        "\n",
        "Since this should hold for any $a$, $b$ and $c$, we get the system\n",
        "\n",
        ">$\\begin{cases} \\frac{1}{3} - wx_0^2 - wx_1^2 = 0 \\iff \\frac{1}{6} (2 - 3x_0^2 - 3x_1^2) = 0 \\\\ \\frac{1}{2} - wx_0 - wx_1 = 0 \\iff \\frac{1}{2} (1-x_0-x_1) = 0 \\\\ 1-2w = 0 \\iff w = \\frac{1}{2} \\end{cases}$\n",
        " \n",
        ">$\\iff \\begin{cases} 2-3x_0^2 - 3x_1^2 = 0 \\iff 2 - 3x_0^2 - 3(1-x_0)^2 = 0 \\\\ 1-x_0 - x_1 = 0 \\iff x_1 = 1-x_0\\end{cases}$\n",
        "\n",
        ">$\\iff 2 - 3x_0^2 - 3(1 - 2x_0 + x_0^2) = 0 \\iff -6x_0^2 + 6x_0 - 1 = 0 \\iff x_0^2 - x_0 + \\frac{1}{6} = 0$\n",
        "\n",
        "This gives us the solutions\n",
        "\n",
        ">$x_0 = \\frac{1}{2} \\pm \\frac{1}{2}\\sqrt{\\frac{1}{3}}$\n",
        "\n",
        "which corresponds to the original problem with the solution\n",
        "\n",
        ">$\\int_0^1 f(x)dx = \\frac{1}{2} \\big( f \\Big(\\frac{1}{2} - \\frac{1}{2} \\sqrt{\\frac{1}{3}} \\Big) + f \\Big(\\frac{1}{2} + \\frac{1}{2} \\sqrt{\\frac{1}{3}}\\Big) \\big)$\n",
        "\n",
        "The only thing that remains is to implement this solution in code, which is trivial. I took the liberty of adding the 3 point quadrature rule from the Wikipedia article, to check the convergence rate. I have not derived that formula myself, other than adapting the interval from $[-1, 1]$ to $[0, 1]$.\n"
      ]
    },
    {
      "metadata": {
        "id": "LPDqq5l809XV",
        "colab_type": "code",
        "colab": {}
      },
      "cell_type": "code",
      "source": [
        "def gauss_quad(f, n = 1):\n",
        "\tif n == 1:\n",
        "\t\treturn f(.5)\n",
        "\tif n == 2:\n",
        "\t\treturn .5*(f(.5 - .5*3**-.5) + f(.5 + .5*3**-.5))\n",
        "\tif n == 3:\n",
        "\t\treturn 4/9*f(.5) + 5/18 * (f(.5 - .5*(3/5)**.5) + f(.5 + .5*(3/5)**.5))"
      ],
      "execution_count": 0,
      "outputs": []
    },
    {
      "metadata": {
        "id": "SNR5jL3F6HVM",
        "colab_type": "text"
      },
      "cell_type": "markdown",
      "source": [
        "## 2: L2 projection to pw linear approximation over mesh in 1D\n",
        "\n",
        "The L2 projection is used to estimate the integral of a function given a set of nodes in which the function can be evaluated. The idea is to evaluate the function in the given nodes, and to create a linear combination of the function in the areas between the points. \n",
        "\n",
        "The main idea is to create a mass matrix system on the form $Mx = b$, and solve it using regular methods. Here, $M$ contains all pairwise projections for the piecewise linear functions used to approximate $f(x)$. $b$ contains all projections of $f$ onto the chosen base of functions. Thus, $x$ will contain the coefficients used to weigh the basis functions and obtain an approximation. "
      ]
    },
    {
      "metadata": {
        "id": "GLXt-U7_IJV7",
        "colab_type": "code",
        "colab": {}
      },
      "cell_type": "code",
      "source": [
        "def l2_project(f, nodes, quad_points):\n",
        "\t# number of inner nodes\n",
        "\tm = len(nodes)-2\n",
        "\t# array of pairwise differences\n",
        "\th = np.diff(nodes)\n",
        "\tM = np.zeros((m+2, m+2))\n",
        "\tb = np.zeros(m+2)\n",
        "\n",
        "\t# fill values of M\n",
        "\tnp.fill_diagonal(M[1:,:], h/6)\n",
        "\tnp.fill_diagonal(M[:,1:], h/6)\n",
        "\tnp.fill_diagonal(M[1:,1:], h/3)\n",
        "\tM[np.diag_indices_from(M[:-1,:-1])] += h/3\n",
        "\n",
        "\t# fill values of b\n",
        "\tb_0 = lambda x: f(x * h[0] + nodes[0]) * (1-x)\n",
        "\tb_m1 = lambda x: f(x * h[m] + nodes[m]) * x\n",
        "\tb[0] = gauss_quad(b_0, quad_points) * h[0]\n",
        "\tb[m+1] = gauss_quad(b_m1, quad_points) * h[m]\n",
        "\n",
        "\tfor k in range(1, m+1):\n",
        "\t\tb_l = lambda x: f(x * h[k-1] + nodes[k-1])*x\n",
        "\t\tb_r = lambda x: f(x * h[k] + nodes[k])*(1-x)\n",
        "\t\tb[k] = gauss_quad(b_l, quad_points) * h[k-1] + gauss_quad(b_r, quad_points) * h[k]\n",
        "\n",
        "\t# solve for x\n",
        "\tx = np.linalg.lstsq(M, b, rcond = None)[0]\n",
        "\t# calculate areas under all piecewise linear functions\n",
        "\ts = .5*(np.dot(x[:-1], h) + np.dot(x[1:], h))\n",
        "\treturn s"
      ],
      "execution_count": 0,
      "outputs": []
    },
    {
      "metadata": {
        "id": "Or1_P0Y3kUKL",
        "colab_type": "text"
      },
      "cell_type": "markdown",
      "source": [
        "## 3: 1-point Gauss quadrature over a reference triangle\n",
        "\n",
        "In much the same way, the code implementation of this part is trivial. The main part is the mathematical derivation of the quadrature points. \n",
        "\n",
        "For 1 point, the equation is $\\int_0^1 \\int_0^{1-x}(ax + by + c)dydx = w_0(ax_0 + by_0 + c)$, which gives the solution $w_0 = \\frac{1}{2}, x_0 = y_0 = \\frac{1}{3}$. \n",
        "\n",
        "For 2 quadrature points, the equation gets a bit tricker: $\\int_0^1 \\int_0^{1-x} (ax^2 + by^2 + cx + dy + e)dydx = w(ax_0^2 + by_0^2 + cx_0 + dy_0 + e + ax_1^2 + by_1^2 + cx_1 + dy_1 + e) \\iff a(\\frac{1}{12} - wx_0^2 - wx_1^2) + b(\\frac{1}{12} - wy_0^2 - wy_1^2) + c(\\frac{1}{6} - wx_0 - wx_1) + d(\\frac{1}{6} - wy_0 - wy_1) + e(\\frac{1}{2} - 2w) = 0$ which gives the solutions $w = \\frac{1}{4}, x_{0/1} = y_{0/1} = \\frac{1}{3} \\pm \\frac{1}{3}\\sqrt{\\frac{1}{2}}$."
      ]
    },
    {
      "metadata": {
        "id": "6PuahmJokWJf",
        "colab_type": "code",
        "colab": {}
      },
      "cell_type": "code",
      "source": [
        "def gauss_quad_2D(f, n = 1):\n",
        "    if n == 1:\n",
        "        return 1/2 * f(1/3, 1/3)\n",
        "    if n == 2:\n",
        "        return 1/4 * (f(1/3 *(1 + .5**.5), 1/3 *(1 + .5**.5)) \n",
        "            + f(1/3 *(1 - .5**.5), 1/3 *(1 - .5**.5)))"
      ],
      "execution_count": 0,
      "outputs": []
    },
    {
      "metadata": {
        "id": "98DDRviEkaYu",
        "colab_type": "text"
      },
      "cell_type": "markdown",
      "source": [
        "## 4: L2 projection to pw linear approximation over triangular mesh in 2D\n",
        "\n",
        "To calculate the integral for a general mesh, we can project the unit triangle onto each triangle of the mesh, and calculate the weight in much the same way as the 1D case. In the 2D case, there are more boundary conditions to take into consideration, as each node can have up to 4 neighbors in a rectangular 2D grid. \n",
        "\n",
        "In my implementation, I used a rectangular grid. This means that the area around a node used for approximation is a skewed pyramid. For this case, the $M$ matrix is quite easy to fill, since the integrals can be pre-computed and scaled to fit the current mesh. \n",
        "\n",
        "The building blocks of the $M$ matrix are the integrals $\\int_\\frac{1}{2}^1 \\int_{1-x}^x (x-y)(x+y-1)dydx = \\frac{1}{48}$ and $\\int_0^1 \\int_0^{1-x} (1-x-y)^2dydx = \\frac{1}{12}$. The first integral is the overlap integral for two neighboring areas. The second integral is the full overlap integral which is used on the diagonal of the matrix."
      ]
    },
    {
      "metadata": {
        "id": "PNOBpa3nkf70",
        "colab_type": "code",
        "colab": {}
      },
      "cell_type": "code",
      "source": [
        "def l2_project_2D(f, nodes):\n",
        "    # number of inner nodes\n",
        "    m_x = nodes[0].shape[1] - 2\n",
        "    m_y = nodes[1].shape[0] - 2\n",
        "    n_nodes = (m_x+2)*(m_y+2)\n",
        "    # array of pairwise differences\n",
        "    h_y = np.diff(nodes[1], axis = 0)\n",
        "    h_x = np.diff(nodes[0], axis = 1)\n",
        "    # print(h_x)\n",
        "    # print(h_y)\n",
        "    np.set_printoptions(linewidth = 160)\n",
        "    M = np.zeros((n_nodes, n_nodes))\n",
        "    b = np.zeros(n_nodes)\n",
        "    for i in range(n_nodes):\n",
        "        for j in range(n_nodes):\n",
        "            row_i = i // (m_x+2)\n",
        "            col_i = i % (m_x+2)\n",
        "            row_j = j // (m_x+2)\n",
        "            col_j = j % (m_x+2)\n",
        "            if i == j:\n",
        "                # print(\"\\ntesting:\", row, col)\n",
        "                M[i,j] += 4\n",
        "                if 0<row_i<m_x+1:\n",
        "                    # print(\"mid row\")\n",
        "                    M[i,j] *= 2\n",
        "                if 0<col_i<m_y+1:\n",
        "                    # print(\"mid col\")\n",
        "                    M[i,j] *= 2\n",
        "                # print(\"values:\", row, col, M[i,j])\n",
        "            if row_i == row_j and col_i - col_j == 1:\n",
        "                M[i,j] += 1\n",
        "                if 0<row_i<m_x+1:\n",
        "                    M[i,j] *= 2\n",
        "                M[j,i] = M[i,j]\n",
        "\n",
        "            if col_i == col_j and row_i - row_j == 1:\n",
        "                M[i,j] += 1\n",
        "                if 0<col_i<m_x+1:\n",
        "                    M[i,j] *= 2\n",
        "                M[j,i] = M[i,j]\n",
        "\n",
        "    M /= 48\n",
        "\n",
        "    for i in range(0, n_nodes):\n",
        "        row = i // (m_x+2)\n",
        "        col = i % (m_x+2)\n",
        "        if row > 0 and col > 0:\n",
        "            x0 = np.array([nodes[0][row-1, col], nodes[1][row-1, col]])\n",
        "            x1 = np.array([nodes[0][row, col-1], nodes[1][row, col-1]])\n",
        "            x2 = np.array([nodes[0][row, col], nodes[1][row, col]])\n",
        "            avg = (x0+x1+x2)/3\n",
        "            b[i] += f(avg[0], avg[1])/6\n",
        "        if row < m_y+1 and col > 0:\n",
        "            x0 = np.array([nodes[0][row+1, col], nodes[1][row+1, col]])\n",
        "            x1 = np.array([nodes[0][row, col-1], nodes[1][row, col-1]])\n",
        "            x2 = np.array([nodes[0][row, col], nodes[1][row, col]])\n",
        "            avg = (x0+x1+x2)/3\n",
        "            b[i] += f(avg[0], avg[1])/6\n",
        "        if col < m_x+1 and row > 0:\n",
        "            x0 = np.array([nodes[0][row, col+1], nodes[1][row, col+1]])\n",
        "            x1 = np.array([nodes[0][row-1, col], nodes[1][row-1, col]])\n",
        "            x2 = np.array([nodes[0][row, col], nodes[1][row, col]])\n",
        "            avg = (x0+x1+x2)/3\n",
        "            b[i] += f(avg[0], avg[1])/6\n",
        "        if col < m_x+1 and row < m_y+1:\n",
        "            x0 = np.array([nodes[0][row, col], nodes[1][row, col]])\n",
        "            x1 = np.array([nodes[0][row, col+1], nodes[1][row, col+1]])\n",
        "            x2 = np.array([nodes[0][row+1, col], nodes[1][row+1, col]])\n",
        "            avg = (x0+x1+x2)/3\n",
        "            b[i] += f(avg[0], avg[1])/6\n",
        "\n",
        "    # solve for x\n",
        "    x = np.linalg.lstsq(M, b, rcond = None)[0]\n",
        "    s = 0\n",
        "\n",
        "    # calculate areas under all piecewise linear functions\n",
        "    for i in range(n_nodes):\n",
        "        row = i // (m_x+2)\n",
        "        col = i % (m_x+2)\n",
        "        s_add = 0\n",
        "        if row > 0 and col > 0:\n",
        "            s_add += x[i] * h_x[row, col-1] * h_y[row-1, col] / 6\n",
        "        if row < m_y+1 and col > 0:\n",
        "            s_add += x[i] * h_x[row, col-1] * h_y[row, col] / 6\n",
        "        if col < m_x+1 and row > 0:\n",
        "            s_add += x[i] * h_x[row, col] * h_y[row-1, col] / 6\n",
        "        if col < m_x+1 and row < m_y+1:\n",
        "            s_add += x[i] * h_x[row, col] * h_y[row, col] / 6\n",
        "        s += s_add\n",
        "\n",
        "    return s * 9/8\n"
      ],
      "execution_count": 0,
      "outputs": []
    },
    {
      "metadata": {
        "colab_type": "text",
        "id": "INNX0xYNkOak"
      },
      "cell_type": "markdown",
      "source": [
        "# Results"
      ]
    },
    {
      "metadata": {
        "id": "RLwlnOzuV-Cd",
        "colab_type": "text"
      },
      "cell_type": "markdown",
      "source": [
        "## 1: 1-point Gauss quadrature over a unit interval\n",
        "\n"
      ]
    },
    {
      "metadata": {
        "id": "1qseCOaSRyBR",
        "colab_type": "code",
        "colab": {
          "base_uri": "https://localhost:8080/",
          "height": 34
        },
        "outputId": "8614961b-2b86-4940-8ebb-691037b46583"
      },
      "cell_type": "code",
      "source": [
        "def test_gauss_quad_1D():\n",
        "    # test first degree polynomials\n",
        "    for _ in range(100):\n",
        "        a = np.random.randn()\n",
        "        b = np.random.randn()\n",
        "        f = lambda x: a*x+b\n",
        "        true_value = (f(0) + f(1))/2\n",
        "        assert np.isclose(gauss_quad(f, 1), true_value)\n",
        "\n",
        "    # test second degree polynomials\n",
        "    for _ in range(100):\n",
        "        a = np.random.randn()\n",
        "        b = np.random.randn()\n",
        "        c = np.random.randn()\n",
        "\n",
        "        f = lambda x: a*x**2 + b*x + c\n",
        "        true_value = a / 3 + b / 2 + c\n",
        "        test_value = gauss_quad(f, 2)\n",
        "        assert np.isclose(test_value, true_value)\n",
        "\n",
        "test_gauss_quad_1D()\n",
        "print(\"Test passed!\")"
      ],
      "execution_count": 42,
      "outputs": [
        {
          "output_type": "stream",
          "text": [
            "Test passed!\n"
          ],
          "name": "stdout"
        }
      ]
    },
    {
      "metadata": {
        "id": "Nww4edn2RymQ",
        "colab_type": "text"
      },
      "cell_type": "markdown",
      "source": [
        "## 2: L2 projection to pw linear approximation over mesh in 1D\n",
        "\n"
      ]
    },
    {
      "metadata": {
        "id": "53rMucE3RzDa",
        "colab_type": "code",
        "colab": {
          "base_uri": "https://localhost:8080/",
          "height": 34
        },
        "outputId": "044aa7e6-fd90-4f42-f3dc-e228b18a31ce"
      },
      "cell_type": "code",
      "source": [
        "def test_l2_project_1D():\n",
        "\tfunctions = [\n",
        "\t\tlambda x: x,\n",
        "\t\tlambda x: x**2,\n",
        "\t\tlambda x: np.exp(x),\n",
        "\t\tlambda x: np.sin(x)\n",
        "\t]\n",
        "\tintervals = [\n",
        "\t\t(0, 1),\n",
        "\t\t(1, 2),\n",
        "\t\t(-1, 1),\n",
        "\t\t(5, 13),\n",
        "\t\t(-6, -2),\n",
        "\t\t(1, 1)\n",
        "\t]\n",
        "\n",
        "\tfor i, f in enumerate(functions):\n",
        "\t\tfor interval in intervals:\n",
        "\t\t\tnodes = np.linspace(interval[0], interval[1], 100)\n",
        "\t\t\ttrue_value = trap_sum(f, interval[0], interval[1], 10000)\n",
        "\t\t\ttest_value = l2_project(f, nodes, 2)\n",
        "\t\t\tassert np.isclose(test_value, true_value)\n",
        "\n",
        "\n",
        "test_l2_project_1D()            \n",
        "print(\"Test passed!\")"
      ],
      "execution_count": 43,
      "outputs": [
        {
          "output_type": "stream",
          "text": [
            "Test passed!\n"
          ],
          "name": "stdout"
        }
      ]
    },
    {
      "metadata": {
        "id": "WrEGNXbTSDaK",
        "colab_type": "code",
        "colab": {
          "base_uri": "https://localhost:8080/",
          "height": 383
        },
        "outputId": "b950b4d4-de7d-4e60-8696-8a32e0394dcc"
      },
      "cell_type": "code",
      "source": [
        "def test_l2_project_convergence():\n",
        "    errs_1 = []\n",
        "    errs_2 = []\n",
        "    errs_3 = []\n",
        "    errs_trap = []\n",
        "    errs_rie = []\n",
        "    ns = list(range(10, 300, 10))\n",
        "    for n in ns:\n",
        "        f = lambda x: np.exp(x)\n",
        "        nodes = [1 + 2*i/n for i in range(n+1)]\n",
        "\n",
        "        true_value = np.exp(nodes[n]) - np.exp(nodes[0])\n",
        "        test_value_1 = l2_project(f, nodes, 1)\n",
        "        test_value_2 = l2_project(f, nodes, 2)\n",
        "        test_value_3 = l2_project(f, nodes, 3)\n",
        "        test_trap = trap_sum(f, 1, 3, n)\n",
        "        test_rie = riemann_sum(f, 1, 3, n)\n",
        "        errs_1.append(abs(test_value_1 - true_value))\n",
        "        errs_2.append(abs(test_value_2 - true_value))\n",
        "        errs_3.append(abs(test_value_3 - true_value))\n",
        "        errs_trap.append(abs(test_trap - true_value))\n",
        "        errs_rie.append(abs(test_rie - true_value))\n",
        "\n",
        "    conv_rate_1 = -(np.log(errs_1[5]) - np.log(errs_1[0])) / (np.log(ns[5]) - np.log(ns[0]))\n",
        "    conv_rate_2 = -(np.log(errs_2[5]) - np.log(errs_2[0])) / (np.log(ns[5]) - np.log(ns[0]))\n",
        "    conv_rate_3 = -(np.log(errs_3[5]) - np.log(errs_3[0])) / (np.log(ns[5]) - np.log(ns[0]))\n",
        "    plt.loglog(ns, errs_1, c = \"b\", marker = \"*\", ls = '', label = \"L2 1-point\")\n",
        "    plt.loglog(ns, errs_2, c = \"b\", ls = \"--\", label = \"L2 2-point\")\n",
        "    plt.loglog(ns, errs_3, c = \"b\", ls = \"-.\", label = \"L2 3-point\")\n",
        "    plt.loglog(ns, errs_trap, c = \"r\", label = \"Trapezoid sum\")\n",
        "    plt.loglog(ns, errs_rie, c = \"g\", label = \"Midpoint sum\")\n",
        "    plt.text(70, 3*10**-3, \"q = %.2f\" % conv_rate_1)\n",
        "    plt.text(33, 10**-7, \"q = %.2f\" % conv_rate_2)\n",
        "    plt.text(21, 10**-11, \"q = %.2f\" % conv_rate_3)\n",
        "    plt.xlabel(\"Nodes\")\n",
        "    plt.ylabel(\"Error\")\n",
        "    plt.title(\"Convergence rates for the function $f(x) = e^x$\")\n",
        "    \n",
        "    plt.legend()\n",
        "    plt.show()\n",
        "    \n",
        "test_l2_project_convergence()"
      ],
      "execution_count": 44,
      "outputs": [
        {
          "output_type": "display_data",
          "data": {
            "image/png": "[encoded data removed]",
            "text/plain": [
              "<Figure size 576x396 with 1 Axes>"
            ]
          },
          "metadata": {
            "tags": []
          }
        }
      ]
    },
    {
      "metadata": {
        "id": "Uf9uy604lB_3",
        "colab_type": "text"
      },
      "cell_type": "markdown",
      "source": [
        "## 3: 1-point Gauss quadrature over a reference triangle"
      ]
    },
    {
      "metadata": {
        "id": "VVd2y84OlCix",
        "colab_type": "code",
        "colab": {
          "base_uri": "https://localhost:8080/",
          "height": 34
        },
        "outputId": "199d825e-1a7b-4f9f-abef-b3c3af0177e7"
      },
      "cell_type": "code",
      "source": [
        "def test_gauss_quad_2D():\n",
        "    # test first degree polynomials\n",
        "    for _ in range(100):\n",
        "        a = np.random.randn()\n",
        "        b = np.random.randn()\n",
        "        c = np.random.randn()\n",
        "        f = lambda x, y: a*x + b*y + c\n",
        "        true_value = a/6 + b/6 + c/2\n",
        "        test_value = gauss_quad_2D(f, 1)\n",
        "        assert np.isclose(test_value, true_value)\n",
        "\n",
        "    # test second degree polynomials\n",
        "    for _ in range(100):\n",
        "        a = np.random.randn()\n",
        "        b = np.random.randn()\n",
        "        c = np.random.randn()\n",
        "        d = np.random.randn()\n",
        "        e = np.random.randn()\n",
        "\n",
        "        f = lambda x, y: a*x**2 + b*y**2 + c*x + d*y + e\n",
        "        true_value = a / 12 + b / 12 + c/6 + d/6 + e/2\n",
        "        test_value = gauss_quad_2D(f, 2)\n",
        "        assert np.isclose(test_value, true_value)\n",
        "\n",
        "test_gauss_quad_2D()\n",
        "print(\"Test passed!\")\n"
      ],
      "execution_count": 45,
      "outputs": [
        {
          "output_type": "stream",
          "text": [
            "Test passed!\n"
          ],
          "name": "stdout"
        }
      ]
    },
    {
      "metadata": {
        "id": "RcETWeaYlDrm",
        "colab_type": "text"
      },
      "cell_type": "markdown",
      "source": [
        "## 4: L2 projection to pw linear approximation over triangular mesh in 2D\n",
        "\n"
      ]
    },
    {
      "metadata": {
        "id": "rWWHQlChlEDQ",
        "colab_type": "code",
        "colab": {
          "base_uri": "https://localhost:8080/",
          "height": 34
        },
        "outputId": "0e611496-fad8-47d5-ad52-c5bc319e7e02"
      },
      "cell_type": "code",
      "source": [
        "def test_l2_project_2D():\n",
        "    functions = [\n",
        "        lambda x, y: (x+y)*0 + 1,\n",
        "        lambda x, y: x**2 + y**2,\n",
        "        lambda x, y: np.exp(x + y),\n",
        "        lambda x, y: np.sin(x + y)\n",
        "    ]\n",
        "    intervals = [\n",
        "        (0, 1, 0, 1),\n",
        "        (1, 2, 1, 2),\n",
        "        (-1, 1, -1, 1),\n",
        "        (5, 13, 5, 13),\n",
        "        (-6, -2, -6, -2)\n",
        "    ]\n",
        "\n",
        "    for i, f in enumerate(functions):\n",
        "        for i in intervals:\n",
        "            grid_x = np.linspace(i[0], i[1], 20)\n",
        "            grid_y = np.linspace(i[2], i[3], 20)\n",
        "            nodes = np.meshgrid(grid_x, grid_y)\n",
        "            # print(nodes_x)\n",
        "            # print(nodes_y)\n",
        "            true_value = riemann_sum_2D(f, i[0], i[1], i[2], i[3], 1000)\n",
        "            test_value = l2_project_2D(f, nodes)\n",
        "            # print(true_value, test_value, test_value / true_value)\n",
        "            assert np.isclose(test_value, true_value, rtol = 1e-2)\n",
        "\n",
        "test_l2_project_2D()\n",
        "print(\"Test passed!\")\n"
      ],
      "execution_count": 46,
      "outputs": [
        {
          "output_type": "stream",
          "text": [
            "Test passed!\n"
          ],
          "name": "stdout"
        }
      ]
    },
    {
      "metadata": {
        "id": "-x6mIU3QlKgN",
        "colab_type": "code",
        "colab": {
          "base_uri": "https://localhost:8080/",
          "height": 384
        },
        "outputId": "fa57f5ac-2dd0-4f2e-fe0d-cb71d2d97f22"
      },
      "cell_type": "code",
      "source": [
        "def test_l2_project_convergence_2D():\n",
        "    errs = []\n",
        "    errs_rie = []\n",
        "    ns = list(range(10, 30, 2))\n",
        "    for n in ns:\n",
        "        f = lambda x, y: np.exp(x + y)\n",
        "        grid_x = np.linspace(1, 3, n)\n",
        "        grid_y = np.linspace(1, 3, n)\n",
        "        nodes = np.meshgrid(grid_x, grid_y)\n",
        "\n",
        "        true_value = np.exp(2)*(np.exp(2)-1)**2\n",
        "        test_value = l2_project_2D(f, nodes)\n",
        "        test_rie = riemann_sum_2D(f, 1, 3, 1, 3, n)\n",
        "        errs.append(abs(test_value - true_value))\n",
        "        errs_rie.append(abs(test_rie - true_value))\n",
        "        # assert np.isclose(test_value, true_value)\n",
        "\n",
        "    conv_rate = -(np.log(errs[5]) - np.log(errs[0])) / (np.log(ns[5]) - np.log(ns[0]))\n",
        "    plt.loglog(ns, errs, c = \"b\", marker = \"*\", ls = '', label = \"L2 2D\")\n",
        "    plt.loglog(ns, errs_rie, c = \"g\", label = \"Midpoint sum\")\n",
        "    plt.text(20, 3*10**-1, \"q = %.2f\" % conv_rate)\n",
        "\n",
        "    plt.xlabel(\"Nodes\")\n",
        "    plt.ylabel(\"Error\")\n",
        "    plt.title(\"Convergence rates for the function $f(x, y) = e^{x+y}$\")\n",
        "    plt.legend()\n",
        "    plt.show()\n",
        "    \n",
        "test_l2_project_convergence_2D()"
      ],
      "execution_count": 47,
      "outputs": [
        {
          "output_type": "display_data",
          "data": {
            "image/png": "[encoded data removed]",
            "text/plain": [
              "<Figure size 576x396 with 1 Axes>"
            ]
          },
          "metadata": {
            "tags": []
          }
        }
      ]
    },
    {
      "metadata": {
        "id": "_4GLBv0zWr7m",
        "colab_type": "text"
      },
      "cell_type": "markdown",
      "source": [
        "# **Discussion**"
      ]
    },
    {
      "metadata": {
        "id": "6bcsDSoRXHZe",
        "colab_type": "text"
      },
      "cell_type": "markdown",
      "source": [
        "Somehow, my 2D implemetation of the L2 projection integral is off by a factor of $\\frac{9}{8}$. I can't figure out why this is the case, but when multiplying by that factor all test cases work perfectly, and the convergence rate is as expected."
      ]
    }
  ]
}