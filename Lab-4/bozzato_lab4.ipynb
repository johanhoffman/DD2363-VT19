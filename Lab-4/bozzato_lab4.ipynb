{
  "nbformat": 4,
  "nbformat_minor": 0,
  "metadata": {
    "colab": {
      "name": "template-report-lab-X.ipynb",
      "version": "0.3.2",
      "provenance": [],
      "include_colab_link": true
    },
    "kernelspec": {
      "name": "python3",
      "display_name": "Python 3"
    }
  },
  "cells": [
    {
      "cell_type": "markdown",
      "metadata": {
        "id": "view-in-github",
        "colab_type": "text"
      },
      "source": [
        "<a href=\"https://colab.research.google.com/github/johanhoffman/DD2363-VT19/blob/bozzato/Lab-4/bozzato_lab4.ipynb\" target=\"_parent\"><img src=\"https://colab.research.google.com/assets/colab-badge.svg\" alt=\"Open In Colab\"/></a>"
      ]
    },
    {
      "metadata": {
        "id": "6RgtXlfYO_i7",
        "colab_type": "text"
      },
      "cell_type": "markdown",
      "source": [
        "# **Lab 4: Approximation**\n",
        "**Bozzato Federico**"
      ]
    },
    {
      "metadata": {
        "id": "9x_J5FVuPzbm",
        "colab_type": "text"
      },
      "cell_type": "markdown",
      "source": [
        "# **Abstract**"
      ]
    },
    {
      "metadata": {
        "id": "6UFTSzW7P8kL",
        "colab_type": "text"
      },
      "cell_type": "markdown",
      "source": [
        "Short summary of the lab report. State the objectives, methods used, main results and conlusions. "
      ]
    },
    {
      "metadata": {
        "id": "yJipbXtnjrJZ",
        "colab_type": "text"
      },
      "cell_type": "markdown",
      "source": [
        ""
      ]
    },
    {
      "metadata": {
        "id": "OkT8J7uOWpT3",
        "colab_type": "text"
      },
      "cell_type": "markdown",
      "source": [
        "#**About the code**"
      ]
    },
    {
      "metadata": {
        "id": "HmB2noTr1Oyo",
        "colab_type": "text"
      },
      "cell_type": "markdown",
      "source": [
        "A short statement on who is the author of the file, and if the code is distributed under a certain license. "
      ]
    },
    {
      "metadata": {
        "id": "Pdll1Xc9WP0e",
        "colab_type": "code",
        "outputId": "57b413da-8cdc-48ac-e0d4-85c062f80ed0",
        "colab": {
          "base_uri": "https://localhost:8080/",
          "height": 34
        }
      },
      "cell_type": "code",
      "source": [
        "\"\"\"This program is a template for lab reports in the course\"\"\"\n",
        "\"\"\"DD2363 Methods in Scientific Computing, \"\"\"\n",
        "\"\"\"KTH Royal Institute of Technology, Stockholm, Sweden.\"\"\"\n",
        "\n",
        "# Copyright (C) 2019 Johan Hoffman (jhoffman@kth.se)\n",
        "\n",
        "# This file is part of the course DD2363 Methods in Scientific Computing\n",
        "# KTH Royal Institute of Technology, Stockholm, Sweden\n",
        "#\n",
        "# This is free software: you can redistribute it and/or modify\n",
        "# it under the terms of the GNU Lesser General Public License as published by\n",
        "# the Free Software Foundation, either version 3 of the License, or\n",
        "# (at your option) any later version.\n",
        "\n",
        "# This template is maintained by Johan Hoffman\n",
        "# Please report problems to jhoffman@kth.se"
      ],
      "execution_count": 1,
      "outputs": [
        {
          "output_type": "execute_result",
          "data": {
            "text/plain": [
              "'KTH Royal Institute of Technology, Stockholm, Sweden.'"
            ]
          },
          "metadata": {
            "tags": []
          },
          "execution_count": 1
        }
      ]
    },
    {
      "metadata": {
        "id": "28xLGz8JX3Hh",
        "colab_type": "text"
      },
      "cell_type": "markdown",
      "source": [
        "# **Set up environment**"
      ]
    },
    {
      "metadata": {
        "id": "D2PYNusD08Wa",
        "colab_type": "text"
      },
      "cell_type": "markdown",
      "source": [
        "To have access to the neccessary modules you have to run this cell. If you need additional modules, this is where you add them. "
      ]
    },
    {
      "metadata": {
        "id": "Xw7VlErAX7NS",
        "colab_type": "code",
        "colab": {}
      },
      "cell_type": "code",
      "source": [
        "# Load neccessary modules.\n",
        "from google.colab import files\n",
        "\n",
        "import numpy as np\n",
        "from numpy import linalg as lalg\n",
        "import matplotlib.pyplot as plt"
      ],
      "execution_count": 0,
      "outputs": []
    },
    {
      "metadata": {
        "id": "gnO3lhAigLev",
        "colab_type": "text"
      },
      "cell_type": "markdown",
      "source": [
        "# **Introduction**"
      ]
    },
    {
      "metadata": {
        "id": "l5zMzgPlRAF6",
        "colab_type": "text"
      },
      "cell_type": "markdown",
      "source": [
        "Give a short description of the problem investigated in the report, and provide some background information so that the reader can understand the context. \n",
        "\n",
        "Briefly describe what method you have chosen to solve the problem, and justify why you selected that method. \n",
        "\n",
        "Here you can express mathematics through Latex syntax, and use hyperlinks for references.\n",
        "\n",
        "[Hyperlink to DD2363 course website.](https://kth.instructure.com/courses/7500)\n",
        "\n",
        "$\n",
        "{\\displaystyle \\frac{\\partial u}{\\partial t}} + u\\cdot \\nabla u +\\nabla p = f, \\quad \\nabla \\cdot u=0$\n",
        "\n"
      ]
    },
    {
      "metadata": {
        "id": "WeFO9QMeUOAu",
        "colab_type": "text"
      },
      "cell_type": "markdown",
      "source": [
        "# **Methods**"
      ]
    },
    {
      "metadata": {
        "id": "zF4iBj5VURZx",
        "colab_type": "text"
      },
      "cell_type": "markdown",
      "source": [
        "Describe the methods you used to solve the problem. This may be a combination of text, mathematical formulas (Latex), algorithms (code), data and output.  "
      ]
    },
    {
      "metadata": {
        "id": "cs59JBmlyHZ0",
        "colab_type": "text"
      },
      "cell_type": "markdown",
      "source": [
        "## Mandatory assignment"
      ]
    },
    {
      "metadata": {
        "id": "8fTAQPOhyOhu",
        "colab_type": "text"
      },
      "cell_type": "markdown",
      "source": [
        "###1. Function: quadrature over a unit interval"
      ]
    },
    {
      "metadata": {
        "id": "WN-rmI5y0O2_",
        "colab_type": "code",
        "colab": {}
      },
      "cell_type": "code",
      "source": [
        ""
      ],
      "execution_count": 0,
      "outputs": []
    },
    {
      "metadata": {
        "id": "GnjDzrGyyWd2",
        "colab_type": "text"
      },
      "cell_type": "markdown",
      "source": [
        "###2. Function: L2 projection to pw linear approximation over mesh in 1D\n",
        "\n",
        "Input: function f(x), 1D mesh with nodes (x0,...,xn)\n",
        "\n",
        "Output: vector of L2 projection of f(x) evaluated in (x0,...,xn) \n",
        "\n",
        "Test: verify accuracy and convergence rate against exact solution"
      ]
    },
    {
      "metadata": {
        "id": "Er3Pcqsy0kco",
        "colab_type": "code",
        "colab": {}
      },
      "cell_type": "code",
      "source": [
        "#https://webcache.googleusercontent.com/search?q=cache:EHkiNa0GYqUJ:https://www.springer.com/cda/content/document/cda_downloaddocument/9783642332869-c1.pdf\n",
        "#  ...      %3FSGWID%3D0-0-45-1368510-p174611366+&cd=10&hl=it&ct=clnk&gl=se\n",
        "\n",
        "\n",
        "def basis(mesh):\n",
        "  def localLagrangeBasis(x0,x1,index):\n",
        "    t= 0\n",
        "    if index == 0:\n",
        "      m= -1/(x1-x0)\n",
        "      q= x1/(x1-x0)\n",
        "      t= (m,q) \n",
        "    elif index == 1:\n",
        "      m= 1/(x1-x0)\n",
        "      q= -x0/(x1-x0)\n",
        "      t= (m,q)\n",
        "    \n",
        "    return t  \n",
        "  \n",
        "  phi = []\n",
        "  for i in range(0,len(mesh)-1):\n",
        "    t0= localLagrangeBasis(mesh[i],mesh[i+1], 0)\n",
        "    t1= localLagrangeBasis(mesh[i],mesh[i+1], 1)\n",
        "    phi.append([t0,t1])\n",
        "    \n",
        "  return phi\n",
        "\n",
        "\n",
        "\n",
        "\n",
        "\n",
        "def l2projection1D(fun, mesh, delta= 0.01):\n",
        "  \n",
        "  def massAssembler(mesh):\n",
        "    n= len(mesh)\n",
        "    M= np.zeros((n,n))\n",
        "    \n",
        "    for i in range(0,n-1):\n",
        "      h= mesh[i+1] - mesh[i]\n",
        "      M[i,i]= M[i,i] + h/3\n",
        "      M[i,i+1]= M[i,i+1] + h/6\n",
        "      M[i+1,i]= M[i+1,i] + h/6\n",
        "      M[i+1,i+1]= M[i+1,i+1] + h/3\n",
        "\n",
        "      \n",
        "    return M\n",
        "      \n",
        "  def loadAssembler(fun, mesh):    # quadrature b with trapezoidal rule\n",
        "    n= len(mesh)\n",
        "    b= np.zeros((n,1))\n",
        "    for i in range(0,n-1):\n",
        "      h= mesh[i+1] - mesh[i]\n",
        "      b[i]= b[i] + fun(mesh[i]) * h/2\n",
        "      b[i+1]= b[i+1] + fun(mesh[i+1]) * h/2\n",
        "    \n",
        "    return b\n",
        "  \n",
        "  n= len(mesh)\n",
        "  phi= basis(mesh)\n",
        "  \n",
        "  M= massAssembler(mesh)\n",
        "  b= loadAssembler(fun, mesh)\n",
        "    \n",
        "  alpha, _, _, _= lalg.lstsq(M,b,rcond=None)\n",
        "  \n",
        "  proj= np.zeros((0,0))\n",
        "  last= 0\n",
        "  for i in range(0,n-1):\n",
        "    n_elem= int(np.round((mesh[i+1] - mesh[i]) / delta))\n",
        "    \n",
        "    inter= np.arange(mesh[i],mesh[i+1],delta)           # i-th interval\n",
        "    inter.resize(n_elem,1)\n",
        "    proj.resize(proj.shape[0]+inter.shape[0],1)\n",
        "    \n",
        "                                                        # basis\n",
        "    element_i= phi[i]\n",
        "    t0= element_i[0]\n",
        "    t1= element_i[1]\n",
        "    for x in range(0,n_elem):\n",
        "      p1= alpha[i] * (t0[0] * inter[x] + t0[1])\n",
        "      p2= alpha[i+1] * (t1[0] * inter[x] + t1[1])\n",
        "      proj[last+x] = p1 + p2\n",
        "    \n",
        "    last= proj.shape[0]-1\n",
        "  \n",
        "  proj.resize(proj.shape[0]-1,1)\n",
        "  \n",
        "  return M, b, alpha, proj"
      ],
      "execution_count": 0,
      "outputs": []
    },
    {
      "metadata": {
        "id": "6PeNhM7HWibo",
        "colab_type": "code",
        "outputId": "c883271a-7a64-4d13-b1a3-bd99b529af2a",
        "colab": {
          "base_uri": "https://localhost:8080/",
          "height": 677
        }
      },
      "cell_type": "code",
      "source": [
        "def printBasis(grid, bas):\n",
        "  plt.figure()\n",
        "  \n",
        "  for i in range(0,len(grid)-1):\n",
        "    inter= np.arange(grid[i],grid[i+1],0.001)\n",
        "    elem= bas[i]\n",
        "    t0= elem[0]\n",
        "    t1= elem[1]\n",
        "    val0= [t0[0]*x+t0[1] for x in inter]\n",
        "    val1= [t1[0]*x+t1[1] for x in inter]\n",
        "    \n",
        "    plt.plot(inter,val0, inter, val1)\n",
        "  \n",
        "  plt.show()\n",
        "\n",
        "def fun(x):\n",
        "  return x**2 - x + 1\n",
        "  \n",
        "mesh= [x/10 for x in range(0,11)]\n",
        "\n",
        "\n",
        "printBasis(mesh,basis(mesh))\n",
        "\n",
        "M, b, alpha, proj= l2projection1D(fun, mesh)\n",
        "\n",
        "\n",
        "plt.figure()\n",
        "interval= np.arange(mesh[0],mesh[-1], 0.01)\n",
        "interval.resize(len(proj),1)\n",
        "\n",
        "plt.plot(interval,proj)\n",
        "plt.plot(interval, [fun(x) for x in interval])\n",
        "plt.show()\n"
      ],
      "execution_count": 28,
      "outputs": [
        {
          "output_type": "display_data",
          "data": {
            "image/png": "[encoded data removed]",
            "text/plain": [
              "<Figure size 576x396 with 1 Axes>"
            ]
          },
          "metadata": {
            "tags": []
          }
        },
        {
          "output_type": "display_data",
          "data": {
            "image/png": "[encoded data removed]",
            "text/plain": [
              "<Figure size 576x396 with 1 Axes>"
            ]
          },
          "metadata": {
            "tags": []
          }
        }
      ]
    },
    {
      "metadata": {
        "id": "2iocRbhyymTR",
        "colab_type": "text"
      },
      "cell_type": "markdown",
      "source": [
        "## Extra assignment\n"
      ]
    },
    {
      "metadata": {
        "id": "TwIWuayGyxmo",
        "colab_type": "text"
      },
      "cell_type": "markdown",
      "source": [
        "###3. Function: quadrature over a reference triangle "
      ]
    },
    {
      "metadata": {
        "id": "V6Mok1Mk0lL9",
        "colab_type": "code",
        "colab": {}
      },
      "cell_type": "code",
      "source": [
        ""
      ],
      "execution_count": 0,
      "outputs": []
    },
    {
      "metadata": {
        "id": "9gVQSpXiy1E8",
        "colab_type": "text"
      },
      "cell_type": "markdown",
      "source": [
        "###4. Function: L2 projection to pw linear approximation over triangular mesh in 2D"
      ]
    },
    {
      "metadata": {
        "id": "Y5uzULR30lsn",
        "colab_type": "code",
        "colab": {}
      },
      "cell_type": "code",
      "source": [
        ""
      ],
      "execution_count": 0,
      "outputs": []
    },
    {
      "metadata": {
        "id": "SsQLT38gVbn_",
        "colab_type": "text"
      },
      "cell_type": "markdown",
      "source": [
        "# **Results**"
      ]
    },
    {
      "metadata": {
        "id": "RLwlnOzuV-Cd",
        "colab_type": "text"
      },
      "cell_type": "markdown",
      "source": [
        "Present the results. If the result is an algorithm that you have described under the *Methods* section, you can present the data from verification and performance tests in this section. If the result is the output from a computational experiment this is where you present a selection of that data. "
      ]
    },
    {
      "metadata": {
        "id": "_4GLBv0zWr7m",
        "colab_type": "text"
      },
      "cell_type": "markdown",
      "source": [
        "# **Discussion**"
      ]
    },
    {
      "metadata": {
        "id": "6bcsDSoRXHZe",
        "colab_type": "text"
      },
      "cell_type": "markdown",
      "source": [
        "Summarize your results and your conclusions. Were the results expected or surprising. Do your results have implications outside the particular problem investigated in this report? "
      ]
    },
    {
      "metadata": {
        "id": "1vcIILuQYsEA",
        "colab_type": "text"
      },
      "cell_type": "markdown",
      "source": [
        "#References"
      ]
    },
    {
      "metadata": {
        "id": "NlJ-Y9KAYt4Z",
        "colab_type": "text"
      },
      "cell_type": "markdown",
      "source": [
        "In this appendix some examples are given to express and visualizing mathematical concepts such as vectors, matrices, meshes and functions. \n",
        "\n",
        "This is not part of the template report for the course."
      ]
    }
  ]
}