{
  "nbformat": 4,
  "nbformat_minor": 0,
  "metadata": {
    "colab": {
      "name": "template-report-lab-X.ipynb",
      "version": "0.3.2",
      "provenance": [],
      "include_colab_link": true
    },
    "kernelspec": {
      "name": "python3",
      "display_name": "Python 3"
    }
  },
  "cells": [
    {
      "cell_type": "markdown",
      "metadata": {
        "id": "view-in-github",
        "colab_type": "text"
      },
      "source": [
        "<a href=\"https://colab.research.google.com/github/johanhoffman/DD2363-VT19/blob/bozzato/Lab-4/bozzato_lab4.ipynb\" target=\"_parent\"><img src=\"https://colab.research.google.com/assets/colab-badge.svg\" alt=\"Open In Colab\"/></a>"
      ]
    },
    {
      "metadata": {
        "id": "6RgtXlfYO_i7",
        "colab_type": "text"
      },
      "cell_type": "markdown",
      "source": [
        "# **Lab 4: Approximation**\n",
        "**Bozzato Federico**"
      ]
    },
    {
      "metadata": {
        "id": "9x_J5FVuPzbm",
        "colab_type": "text"
      },
      "cell_type": "markdown",
      "source": [
        "# **Abstract**"
      ]
    },
    {
      "metadata": {
        "id": "6UFTSzW7P8kL",
        "colab_type": "text"
      },
      "cell_type": "markdown",
      "source": [
        "Short summary of the lab report. State the objectives, methods used, main results and conlusions. "
      ]
    },
    {
      "metadata": {
        "id": "yJipbXtnjrJZ",
        "colab_type": "text"
      },
      "cell_type": "markdown",
      "source": [
        ""
      ]
    },
    {
      "metadata": {
        "id": "OkT8J7uOWpT3",
        "colab_type": "text"
      },
      "cell_type": "markdown",
      "source": [
        "#**About the code**"
      ]
    },
    {
      "metadata": {
        "id": "HmB2noTr1Oyo",
        "colab_type": "text"
      },
      "cell_type": "markdown",
      "source": [
        "A short statement on who is the author of the file, and if the code is distributed under a certain license. "
      ]
    },
    {
      "metadata": {
        "id": "Pdll1Xc9WP0e",
        "colab_type": "code",
        "outputId": "8f7d5bca-9783-4b30-f699-87096b83c284",
        "colab": {
          "base_uri": "https://localhost:8080/",
          "height": 34
        }
      },
      "cell_type": "code",
      "source": [
        "\"\"\"This program is a template for lab reports in the course\"\"\"\n",
        "\"\"\"DD2363 Methods in Scientific Computing, \"\"\"\n",
        "\"\"\"KTH Royal Institute of Technology, Stockholm, Sweden.\"\"\"\n",
        "\n",
        "# Copyright (C) 2019 Johan Hoffman (jhoffman@kth.se)\n",
        "\n",
        "# This file is part of the course DD2363 Methods in Scientific Computing\n",
        "# KTH Royal Institute of Technology, Stockholm, Sweden\n",
        "#\n",
        "# This is free software: you can redistribute it and/or modify\n",
        "# it under the terms of the GNU Lesser General Public License as published by\n",
        "# the Free Software Foundation, either version 3 of the License, or\n",
        "# (at your option) any later version.\n",
        "\n",
        "# This template is maintained by Johan Hoffman\n",
        "# Please report problems to jhoffman@kth.se"
      ],
      "execution_count": 1,
      "outputs": [
        {
          "output_type": "execute_result",
          "data": {
            "text/plain": [
              "'KTH Royal Institute of Technology, Stockholm, Sweden.'"
            ]
          },
          "metadata": {
            "tags": []
          },
          "execution_count": 1
        }
      ]
    },
    {
      "metadata": {
        "id": "28xLGz8JX3Hh",
        "colab_type": "text"
      },
      "cell_type": "markdown",
      "source": [
        "# **Set up environment**"
      ]
    },
    {
      "metadata": {
        "id": "D2PYNusD08Wa",
        "colab_type": "text"
      },
      "cell_type": "markdown",
      "source": [
        "To have access to the neccessary modules you have to run this cell. If you need additional modules, this is where you add them. "
      ]
    },
    {
      "metadata": {
        "id": "Xw7VlErAX7NS",
        "colab_type": "code",
        "colab": {}
      },
      "cell_type": "code",
      "source": [
        "# Load neccessary modules.\n",
        "from google.colab import files\n",
        "\n",
        "import numpy as np\n",
        "import matplotlib as plt"
      ],
      "execution_count": 0,
      "outputs": []
    },
    {
      "metadata": {
        "id": "gnO3lhAigLev",
        "colab_type": "text"
      },
      "cell_type": "markdown",
      "source": [
        "# **Introduction**"
      ]
    },
    {
      "metadata": {
        "id": "l5zMzgPlRAF6",
        "colab_type": "text"
      },
      "cell_type": "markdown",
      "source": [
        "Give a short description of the problem investigated in the report, and provide some background information so that the reader can understand the context. \n",
        "\n",
        "Briefly describe what method you have chosen to solve the problem, and justify why you selected that method. \n",
        "\n",
        "Here you can express mathematics through Latex syntax, and use hyperlinks for references.\n",
        "\n",
        "[Hyperlink to DD2363 course website.](https://kth.instructure.com/courses/7500)\n",
        "\n",
        "$\n",
        "{\\displaystyle \\frac{\\partial u}{\\partial t}} + u\\cdot \\nabla u +\\nabla p = f, \\quad \\nabla \\cdot u=0$\n",
        "\n"
      ]
    },
    {
      "metadata": {
        "id": "WeFO9QMeUOAu",
        "colab_type": "text"
      },
      "cell_type": "markdown",
      "source": [
        "# **Methods**"
      ]
    },
    {
      "metadata": {
        "id": "zF4iBj5VURZx",
        "colab_type": "text"
      },
      "cell_type": "markdown",
      "source": [
        "Describe the methods you used to solve the problem. This may be a combination of text, mathematical formulas (Latex), algorithms (code), data and output.  "
      ]
    },
    {
      "metadata": {
        "id": "cs59JBmlyHZ0",
        "colab_type": "text"
      },
      "cell_type": "markdown",
      "source": [
        "## Mandatory assignment"
      ]
    },
    {
      "metadata": {
        "id": "8fTAQPOhyOhu",
        "colab_type": "text"
      },
      "cell_type": "markdown",
      "source": [
        "###1. Function: quadrature over a unit interval"
      ]
    },
    {
      "metadata": {
        "id": "WN-rmI5y0O2_",
        "colab_type": "code",
        "colab": {}
      },
      "cell_type": "code",
      "source": [
        ""
      ],
      "execution_count": 0,
      "outputs": []
    },
    {
      "metadata": {
        "id": "GnjDzrGyyWd2",
        "colab_type": "text"
      },
      "cell_type": "markdown",
      "source": [
        "###2. Function: L2 projection to pw linear approximation over mesh in 1D\n",
        "\n",
        "Input: function f(x), 1D mesh with nodes (x0,...,xn)\n",
        "\n",
        "Output: vector of L2 projection of f(x) evaluated in (x0,...,xn) \n",
        "\n",
        "Test: verify accuracy and convergence rate against exact solution"
      ]
    },
    {
      "metadata": {
        "id": "Er3Pcqsy0kco",
        "colab_type": "code",
        "colab": {}
      },
      "cell_type": "code",
      "source": [
        "def basis(mesh):\n",
        "  nodes= mesh.shape[0]\n",
        "  \n",
        "  h= [np.round(mesh[i]-mesh[i-1],decimals= 4) for i in range(1,nodes)]\n",
        "  \n",
        "  phi = []\n",
        "  t0= [(-1/h[0],mesh[0]/h[0])]\n",
        "  phi.append(t0)\n",
        "  \n",
        "  \n",
        "  for i in range(1,nodes-1):\n",
        "    print('{}-th interval'.format(i))\n",
        "    t1= (1/h[i],-mesh[i-1]/h[i])\n",
        "    t0= (-1/h[i],mesh[i-1]/h[i])\n",
        "    phi.append([t1,t0])\n",
        "  \n",
        "  t1= [(1/h[-1],-mesh[nodes-2]/h[-1])]\n",
        "  phi.append(t1)\n",
        "    \n",
        "  print(h)\n",
        "  for i in range(0,len(phi)):\n",
        "    print(phi[i])\n",
        "\n",
        "def l2projection1D(fun, mesh):\n",
        "  nodes= mesh.shape[0]\n",
        "  \n",
        "  "
      ],
      "execution_count": 0,
      "outputs": []
    },
    {
      "metadata": {
        "id": "6PeNhM7HWibo",
        "colab_type": "code",
        "outputId": "80440144-1a92-4932-815b-5ea4cd6db1a9",
        "colab": {
          "base_uri": "https://localhost:8080/",
          "height": 207
        }
      },
      "cell_type": "code",
      "source": [
        "mesh= np.array([1, 1.5, 2.1, 4, 4.5, 5])\n",
        "\n",
        "basis(mesh)\n",
        "\n",
        "def printBasis(bas):\n",
        "  plt.figure()"
      ],
      "execution_count": 9,
      "outputs": [
        {
          "output_type": "stream",
          "text": [
            "1-th interval\n",
            "2-th interval\n",
            "3-th interval\n",
            "4-th interval\n",
            "[0.5, 0.6, 1.9, 0.5, 0.5]\n",
            "[(-2.0, 2.0)]\n",
            "[(1.6666666666666667, -1.6666666666666667), (-1.6666666666666667, 1.6666666666666667)]\n",
            "[(0.5263157894736842, -0.7894736842105263), (-0.5263157894736842, 0.7894736842105263)]\n",
            "[(2.0, -4.2), (-2.0, 4.2)]\n",
            "[(2.0, -8.0), (-2.0, 8.0)]\n",
            "[(2.0, -9.0)]\n"
          ],
          "name": "stdout"
        }
      ]
    },
    {
      "metadata": {
        "id": "2iocRbhyymTR",
        "colab_type": "text"
      },
      "cell_type": "markdown",
      "source": [
        "## Extra assignment\n"
      ]
    },
    {
      "metadata": {
        "id": "TwIWuayGyxmo",
        "colab_type": "text"
      },
      "cell_type": "markdown",
      "source": [
        "###3. Function: quadrature over a reference triangle "
      ]
    },
    {
      "metadata": {
        "id": "V6Mok1Mk0lL9",
        "colab_type": "code",
        "colab": {}
      },
      "cell_type": "code",
      "source": [
        ""
      ],
      "execution_count": 0,
      "outputs": []
    },
    {
      "metadata": {
        "id": "9gVQSpXiy1E8",
        "colab_type": "text"
      },
      "cell_type": "markdown",
      "source": [
        "###4. Function: L2 projection to pw linear approximation over triangular mesh in 2D"
      ]
    },
    {
      "metadata": {
        "id": "Y5uzULR30lsn",
        "colab_type": "code",
        "colab": {}
      },
      "cell_type": "code",
      "source": [
        ""
      ],
      "execution_count": 0,
      "outputs": []
    },
    {
      "metadata": {
        "id": "SsQLT38gVbn_",
        "colab_type": "text"
      },
      "cell_type": "markdown",
      "source": [
        "# **Results**"
      ]
    },
    {
      "metadata": {
        "id": "RLwlnOzuV-Cd",
        "colab_type": "text"
      },
      "cell_type": "markdown",
      "source": [
        "Present the results. If the result is an algorithm that you have described under the *Methods* section, you can present the data from verification and performance tests in this section. If the result is the output from a computational experiment this is where you present a selection of that data. "
      ]
    },
    {
      "metadata": {
        "id": "_4GLBv0zWr7m",
        "colab_type": "text"
      },
      "cell_type": "markdown",
      "source": [
        "# **Discussion**"
      ]
    },
    {
      "metadata": {
        "id": "6bcsDSoRXHZe",
        "colab_type": "text"
      },
      "cell_type": "markdown",
      "source": [
        "Summarize your results and your conclusions. Were the results expected or surprising. Do your results have implications outside the particular problem investigated in this report? "
      ]
    },
    {
      "metadata": {
        "id": "1vcIILuQYsEA",
        "colab_type": "text"
      },
      "cell_type": "markdown",
      "source": [
        "#References"
      ]
    },
    {
      "metadata": {
        "id": "NlJ-Y9KAYt4Z",
        "colab_type": "text"
      },
      "cell_type": "markdown",
      "source": [
        "In this appendix some examples are given to express and visualizing mathematical concepts such as vectors, matrices, meshes and functions. \n",
        "\n",
        "This is not part of the template report for the course."
      ]
    }
  ]
}