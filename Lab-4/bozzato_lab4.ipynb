{
  "nbformat": 4,
  "nbformat_minor": 0,
  "metadata": {
    "colab": {
      "name": "template-report-lab-X.ipynb",
      "version": "0.3.2",
      "provenance": [],
      "include_colab_link": true
    },
    "kernelspec": {
      "name": "python3",
      "display_name": "Python 3"
    },
    "accelerator": "GPU"
  },
  "cells": [
    {
      "cell_type": "markdown",
      "metadata": {
        "id": "view-in-github",
        "colab_type": "text"
      },
      "source": [
        "<a href=\"https://colab.research.google.com/github/johanhoffman/DD2363-VT19/blob/bozzato/Lab-4/bozzato_lab4.ipynb\" target=\"_parent\"><img src=\"https://colab.research.google.com/assets/colab-badge.svg\" alt=\"Open In Colab\"/></a>"
      ]
    },
    {
      "metadata": {
        "id": "6RgtXlfYO_i7",
        "colab_type": "text"
      },
      "cell_type": "markdown",
      "source": [
        "# **Lab 4: Approximation**\n",
        "**Bozzato Federico**"
      ]
    },
    {
      "metadata": {
        "id": "9x_J5FVuPzbm",
        "colab_type": "text"
      },
      "cell_type": "markdown",
      "source": [
        "# **Abstract**"
      ]
    },
    {
      "metadata": {
        "id": "6UFTSzW7P8kL",
        "colab_type": "text"
      },
      "cell_type": "markdown",
      "source": [
        "Short summary of the lab report. State the objectives, methods used, main results and conlusions. "
      ]
    },
    {
      "metadata": {
        "id": "yJipbXtnjrJZ",
        "colab_type": "text"
      },
      "cell_type": "markdown",
      "source": [
        ""
      ]
    },
    {
      "metadata": {
        "id": "OkT8J7uOWpT3",
        "colab_type": "text"
      },
      "cell_type": "markdown",
      "source": [
        "#**About the code**"
      ]
    },
    {
      "metadata": {
        "id": "HmB2noTr1Oyo",
        "colab_type": "text"
      },
      "cell_type": "markdown",
      "source": [
        "A short statement on who is the author of the file, and if the code is distributed under a certain license. "
      ]
    },
    {
      "metadata": {
        "id": "Pdll1Xc9WP0e",
        "colab_type": "code",
        "outputId": "c2a1b8db-2d0f-44f6-b443-6ad6031c4042",
        "colab": {
          "base_uri": "https://localhost:8080/",
          "height": 34
        }
      },
      "cell_type": "code",
      "source": [
        "\"\"\"This program is a template for lab reports in the course\"\"\"\n",
        "\"\"\"DD2363 Methods in Scientific Computing, \"\"\"\n",
        "\"\"\"KTH Royal Institute of Technology, Stockholm, Sweden.\"\"\"\n",
        "\n",
        "# Copyright (C) 2019 Johan Hoffman (jhoffman@kth.se)\n",
        "\n",
        "# This file is part of the course DD2363 Methods in Scientific Computing\n",
        "# KTH Royal Institute of Technology, Stockholm, Sweden\n",
        "#\n",
        "# This is free software: you can redistribute it and/or modify\n",
        "# it under the terms of the GNU Lesser General Public License as published by\n",
        "# the Free Software Foundation, either version 3 of the License, or\n",
        "# (at your option) any later version.\n",
        "\n",
        "# This template is maintained by Johan Hoffman\n",
        "# Please report problems to jhoffman@kth.se"
      ],
      "execution_count": 1,
      "outputs": [
        {
          "output_type": "execute_result",
          "data": {
            "text/plain": [
              "'KTH Royal Institute of Technology, Stockholm, Sweden.'"
            ]
          },
          "metadata": {
            "tags": []
          },
          "execution_count": 1
        }
      ]
    },
    {
      "metadata": {
        "id": "28xLGz8JX3Hh",
        "colab_type": "text"
      },
      "cell_type": "markdown",
      "source": [
        "# **Set up environment**"
      ]
    },
    {
      "metadata": {
        "id": "D2PYNusD08Wa",
        "colab_type": "text"
      },
      "cell_type": "markdown",
      "source": [
        "To have access to the neccessary modules you have to run this cell. If you need additional modules, this is where you add them. "
      ]
    },
    {
      "metadata": {
        "id": "Xw7VlErAX7NS",
        "colab_type": "code",
        "colab": {}
      },
      "cell_type": "code",
      "source": [
        "# Load neccessary modules.\n",
        "from google.colab import files\n",
        "\n",
        "import numpy as np\n",
        "from numpy import linalg as lalg\n",
        "\n",
        "from matplotlib import tri\n",
        "import matplotlib.pyplot as plt\n",
        "from mpl_toolkits.mplot3d import Axes3D"
      ],
      "execution_count": 0,
      "outputs": []
    },
    {
      "metadata": {
        "id": "gnO3lhAigLev",
        "colab_type": "text"
      },
      "cell_type": "markdown",
      "source": [
        "# **Introduction**"
      ]
    },
    {
      "metadata": {
        "id": "l5zMzgPlRAF6",
        "colab_type": "text"
      },
      "cell_type": "markdown",
      "source": [
        "Give a short description of the problem investigated in the report, and provide some background information so that the reader can understand the context. \n",
        "\n",
        "Briefly describe what method you have chosen to solve the problem, and justify why you selected that method. \n",
        "\n",
        "Here you can express mathematics through Latex syntax, and use hyperlinks for references.\n",
        "\n",
        "[Hyperlink to DD2363 course website.](https://kth.instructure.com/courses/7500)\n",
        "\n",
        "$\n",
        "{\\displaystyle \\frac{\\partial u}{\\partial t}} + u\\cdot \\nabla u +\\nabla p = f, \\quad \\nabla \\cdot u=0$\n",
        "\n"
      ]
    },
    {
      "metadata": {
        "id": "WeFO9QMeUOAu",
        "colab_type": "text"
      },
      "cell_type": "markdown",
      "source": [
        "# **Methods**"
      ]
    },
    {
      "metadata": {
        "id": "zF4iBj5VURZx",
        "colab_type": "text"
      },
      "cell_type": "markdown",
      "source": [
        "Describe the methods you used to solve the problem. This may be a combination of text, mathematical formulas (Latex), algorithms (code), data and output.  "
      ]
    },
    {
      "metadata": {
        "id": "cs59JBmlyHZ0",
        "colab_type": "text"
      },
      "cell_type": "markdown",
      "source": [
        "## Mandatory assignment"
      ]
    },
    {
      "metadata": {
        "id": "8fTAQPOhyOhu",
        "colab_type": "text"
      },
      "cell_type": "markdown",
      "source": [
        "###1. Function: 1-point Gauss quadrature over a unit interval\n",
        "\n",
        "Input: function f(x) \n",
        "\n",
        "Output: quadrature approximation of integral int_0^1 f(x) dx\n",
        "\n",
        "Test: verify exact integration of linear polynomial ax + b"
      ]
    },
    {
      "metadata": {
        "id": "WN-rmI5y0O2_",
        "colab_type": "code",
        "colab": {}
      },
      "cell_type": "code",
      "source": [
        "def quadRInter(fun):\n",
        "  return fun(0.5)\n",
        "  \n",
        "  \n"
      ],
      "execution_count": 0,
      "outputs": []
    },
    {
      "metadata": {
        "id": "GnjDzrGyyWd2",
        "colab_type": "text"
      },
      "cell_type": "markdown",
      "source": [
        "###2. Function: L2 projection to pw linear approximation over mesh in 1D\n",
        "\n",
        "Input: function f(x), 1D mesh with nodes (x0,...,xn)\n",
        "\n",
        "Output: vector of L2 projection of f(x) evaluated in (x0,...,xn) \n",
        "\n",
        "Test: verify accuracy and convergence rate against exact solution"
      ]
    },
    {
      "metadata": {
        "id": "Er3Pcqsy0kco",
        "colab_type": "code",
        "colab": {}
      },
      "cell_type": "code",
      "source": [
        "#https://webcache.googleusercontent.com/search?q=cache:EHkiNa0GYqUJ:https://www.springer.com/cda/content/document/cda_downloaddocument/9783642332869-c1.pdf\n",
        "#  ...      %3FSGWID%3D0-0-45-1368510-p174611366+&cd=10&hl=it&ct=clnk&gl=se\n",
        "\n",
        "\n",
        "def basis1D(mesh):\n",
        "  def localLagrangeBasis(x0,x1,index):\n",
        "    t= 0\n",
        "    if index == 0:\n",
        "      m= -1/(x1-x0)\n",
        "      q= x1/(x1-x0)\n",
        "      t= (m,q) \n",
        "    elif index == 1:\n",
        "      m= 1/(x1-x0)\n",
        "      q= -x0/(x1-x0)\n",
        "      t= (m,q)\n",
        "    \n",
        "    return t  \n",
        "  \n",
        "  phi = []\n",
        "  for i in range(0,len(mesh)-1):\n",
        "    t0= localLagrangeBasis(mesh[i],mesh[i+1], 0)\n",
        "    t1= localLagrangeBasis(mesh[i],mesh[i+1], 1)\n",
        "    phi.append([t0,t1])\n",
        "    \n",
        "  return phi\n",
        "\n",
        "\n",
        "def l2projection1D(fun, mesh, delta= 0.01):\n",
        "  \n",
        "  def massAssembler(mesh):\n",
        "    n= len(mesh)\n",
        "    M= np.zeros((n,n))\n",
        "    \n",
        "    for i in range(0,n-1):\n",
        "      h= mesh[i+1] - mesh[i]\n",
        "      M[i,i]= M[i,i] + h/3\n",
        "      M[i,i+1]= M[i,i+1] + h/6\n",
        "      M[i+1,i]= M[i+1,i] + h/6\n",
        "      M[i+1,i+1]= M[i+1,i+1] + h/3\n",
        "\n",
        "    return M\n",
        "   \n",
        "    \n",
        "  def loadAssembler(fun, mesh):    # quadrature b with trapezoidal rule\n",
        "    n= len(mesh)\n",
        "    b= np.zeros((n,1))\n",
        "    for i in range(0,n-1):\n",
        "      h= mesh[i+1] - mesh[i]\n",
        "      b[i]= b[i] + fun(mesh[i]) * h/2\n",
        "      b[i+1]= b[i+1] + fun(mesh[i+1]) * h/2\n",
        "    \n",
        "    return b\n",
        "  \n",
        "  \n",
        "  n= len(mesh)\n",
        "  phi= basis1D(mesh)\n",
        "  \n",
        "  M= massAssembler(mesh)\n",
        "  b= loadAssembler(fun, mesh)\n",
        "    \n",
        "  alpha, _, _, _= lalg.lstsq(M,b,rcond=None)\n",
        "  \n",
        "  proj= np.zeros((0,0))\n",
        "  last= 0\n",
        "  for i in range(0,n-1):\n",
        "    n_elem= int(np.round((mesh[i+1] - mesh[i]) / delta))\n",
        "    \n",
        "    inter= np.arange(mesh[i],mesh[i+1],delta)           # i-th interval\n",
        "    inter.resize(n_elem,1)\n",
        "    proj.resize(proj.shape[0]+inter.shape[0],1)\n",
        "    \n",
        "                                                        # basis\n",
        "    element_i= phi[i]\n",
        "    t0= element_i[0]\n",
        "    t1= element_i[1]\n",
        "    for x in range(0,n_elem):\n",
        "      p1= alpha[i] * (t0[0] * inter[x] + t0[1])\n",
        "      p2= alpha[i+1] * (t1[0] * inter[x] + t1[1])\n",
        "      proj[last+x] = p1 + p2\n",
        "    \n",
        "    last= proj.shape[0]-1\n",
        "  \n",
        "  proj.resize(proj.shape[0]-1,1)\n",
        "  \n",
        "  return M, b, alpha, proj"
      ],
      "execution_count": 0,
      "outputs": []
    },
    {
      "metadata": {
        "id": "6PeNhM7HWibo",
        "colab_type": "code",
        "outputId": "8f9ffeb0-fe04-4a44-b004-751bf013d934",
        "colab": {
          "base_uri": "https://localhost:8080/",
          "height": 764
        }
      },
      "cell_type": "code",
      "source": [
        "def printBasis(grid, bas):\n",
        "  plt.figure()\n",
        "  \n",
        "  for i in range(0,len(grid)-1):\n",
        "    inter= np.arange(grid[i],grid[i+1],0.001)\n",
        "    elem= bas[i]\n",
        "    t0= elem[0]\n",
        "    t1= elem[1]\n",
        "    val0= [t0[0]*x+t0[1] for x in inter]\n",
        "    val1= [t1[0]*x+t1[1] for x in inter]\n",
        "    \n",
        "    plt.plot(inter,val0, inter, val1)\n",
        "  \n",
        "  plt.show()\n",
        "\n",
        "def fun(x):\n",
        "  return np.e**(np.sin(x))\n",
        "  \n",
        "mesh= [x for x in range(0,5)]\n",
        "\n",
        "\n",
        "printBasis(mesh,basis1D(mesh))\n",
        "\n",
        "M, b, alpha, proj= l2projection1D(fun, mesh)\n",
        "\n",
        "print(M)\n",
        "\n",
        "plt.figure()\n",
        "interval= np.arange(mesh[0],mesh[-1], 0.01)\n",
        "interval.resize(len(proj),1)\n",
        "\n",
        "plt.plot(interval,proj)\n",
        "plt.plot(interval, [fun(x) for x in interval])\n",
        "plt.show()\n"
      ],
      "execution_count": 5,
      "outputs": [
        {
          "output_type": "display_data",
          "data": {
            "image/png": "[encoded data removed]",
            "text/plain": [
              "<Figure size 576x396 with 1 Axes>"
            ]
          },
          "metadata": {
            "tags": []
          }
        },
        {
          "output_type": "stream",
          "text": [
            "[[0.33333333 0.16666667 0.         0.         0.        ]\n",
            " [0.16666667 0.66666667 0.16666667 0.         0.        ]\n",
            " [0.         0.16666667 0.66666667 0.16666667 0.        ]\n",
            " [0.         0.         0.16666667 0.66666667 0.16666667]\n",
            " [0.         0.         0.         0.16666667 0.33333333]]\n"
          ],
          "name": "stdout"
        },
        {
          "output_type": "display_data",
          "data": {
            "image/png": "[encoded data removed]",
            "text/plain": [
              "<Figure size 576x396 with 1 Axes>"
            ]
          },
          "metadata": {
            "tags": []
          }
        }
      ]
    },
    {
      "metadata": {
        "id": "2iocRbhyymTR",
        "colab_type": "text"
      },
      "cell_type": "markdown",
      "source": [
        "## Extra assignment\n"
      ]
    },
    {
      "metadata": {
        "id": "TwIWuayGyxmo",
        "colab_type": "text"
      },
      "cell_type": "markdown",
      "source": [
        "###3. Function: quadrature over a reference triangle "
      ]
    },
    {
      "metadata": {
        "id": "V6Mok1Mk0lL9",
        "colab_type": "code",
        "colab": {}
      },
      "cell_type": "code",
      "source": [
        "def quadRTriangle(fun):\n",
        "  return fun(1/3,1/3)*1/2"
      ],
      "execution_count": 0,
      "outputs": []
    },
    {
      "metadata": {
        "id": "9gVQSpXiy1E8",
        "colab_type": "text"
      },
      "cell_type": "markdown",
      "source": [
        "###4. Function: L2 projection to pw linear approximation over triangular mesh in 2D\n",
        "\n",
        "Input: function f(x), triangular mesh data structure with nodes (x0,...,xn)\n",
        "\n",
        "Output: vector of L2 projection of f(x) evaluated in (x0,...,xn) \n",
        "\n",
        "Test: verify accuracy and convergence rate against exact function\n",
        "\n",
        "\n",
        "\n",
        "\n",
        "$\n",
        "\\begin{cases}\n",
        "  \\lambda_{0}(x,y) = 1- x - y \\\\\n",
        "  \\lambda_{1}(x,y)= x \\\\\n",
        "  \\lambda_{2}(x,y)= y\n",
        "\\end{cases}\n",
        "$\n",
        "\n",
        "\n",
        "$\n",
        "M=\\dfrac{\\det{F}}{24}\\begin{pmatrix}\n",
        "  2 & 1 & 1 \\\\\n",
        "  1 & 2 & 1 \\\\\n",
        "  1 & 1& 2\n",
        "\\end{pmatrix}\n",
        "$\n",
        "\n",
        "\n",
        "\n",
        "```\n",
        "def massAssembler:\n",
        "  N= mesh.x.shape[0]                             # number of nodes = number of basis\n",
        "  M= np.zeros((N,N))                             # mass matrix\n",
        "    \n",
        "  for i in range(0,N):\n",
        "    n_triang, type= neighTriangles(vertix[i])    # all the triangle having the vertix i in common\n",
        "    if type == 0:                                # angle |_ in common\n",
        "      M[i,i]= n_triang * <basis[i], basis[i]>\n",
        "    else if type == 1:                           # other angles in common\n",
        "      M[i,i]= n_triang * <basis[i], basis[j]>\n",
        "  \n",
        "    vertNeigh= neighVertices(vertix[i])          # all the vertices near vertix i\n",
        "  \n",
        "    for j in vertNeigh:\n",
        "      number, type= trianglesSameEdge(i,j)\n",
        "      M[i,j]= number * <basis[i],basis[j]>\n",
        "      M[j,i]= M[i,j]\n",
        "    end\n",
        "  \n",
        "  end\n",
        "```\n",
        "\n"
      ]
    },
    {
      "metadata": {
        "id": "cAHeqESLMriA",
        "colab_type": "code",
        "colab": {}
      },
      "cell_type": "code",
      "source": [
        "class Triangle:\n",
        "  def __init__(self, x0, x1, x2):\n",
        "    x0= np.array(x0)\n",
        "    x1= np.array(x1)\n",
        "    x2= np.array(x2)\n",
        "    if np.isclose(lalg.norm(x1-x2),2**(0.5)*lalg.norm(x0-x1)):\n",
        "      self.x0= x0\n",
        "      self.x1= x1\n",
        "      self.x2= x2\n",
        "    elif np.isclose(lalg.norm(x0-x2),2**(0.5)*lalg.norm(x1-x2)):\n",
        "      self.x0= x1\n",
        "      self.x1= x2\n",
        "      self.x2= x0\n",
        "    else:\n",
        "      self.x0= x2\n",
        "      self.x1= x0\n",
        "      self.x2= x1\n",
        "      \n",
        "    self.x0= self.x0.tolist()\n",
        "    self.x1= self.x1.tolist()\n",
        "    self.x2= self.x2.tolist()\n",
        "    \n",
        "    \n",
        "    self.F= np.array([ [x1[0]-x0[0], x2[0]-x0[0]],\n",
        "                       [x1[1]-x0[1], x2[1]-x0[1]] ])\n",
        "    \n",
        "    self.det= abs(lalg.det(self.F))\n",
        "    \n",
        "    self.b= np.array([ [x0[0]],\n",
        "                       [x0[1]] ])\n",
        "    \n",
        "    matrix= np.array([ [x0[0], x0[1], 1],\n",
        "                       [x1[0], x1[1], 1],\n",
        "                       [x2[0], x2[1], 1] ])\n",
        "    \n",
        "    z0= np.array([ [1],\n",
        "                   [0],\n",
        "                   [0] ])\n",
        "    \n",
        "    z1= np.array([ [0],\n",
        "                   [1],\n",
        "                   [0] ])\n",
        "    \n",
        "    z2= np.array([ [0],\n",
        "                   [0],\n",
        "                   [1] ])\n",
        "    \n",
        "    # z= ax + by + c\n",
        "    coeff0, _, _, _ = lalg.lstsq(matrix,z0,rcond= None)\n",
        "    coeff1, _, _, _ = lalg.lstsq(matrix,z1,rcond= None)\n",
        "    coeff2, _, _, _ = lalg.lstsq(matrix,z2,rcond= None)\n",
        "    \n",
        "    for i in [0,1,2]:\n",
        "      if np.isclose(coeff0[i],0):\n",
        "        coeff0[i]= 0\n",
        "      \n",
        "      if np.isclose(coeff1[i],0):\n",
        "        coeff1[i]= 0\n",
        "        \n",
        "      if np.isclose(coeff2[i],0):\n",
        "        coeff2[i]= 0\n",
        "        \n",
        "    self.t0= coeff0.flatten()\n",
        "    self.t1= coeff1.flatten()\n",
        "    self.t2= coeff2.flatten()\n",
        "    \n",
        "    self.integrals= (self.det / 24) * np.array([ [2, 1, 1], \n",
        "                                                 [1, 2, 1], \n",
        "                                                 [1, 1, 2] ])\n",
        "  \n",
        "  @staticmethod\n",
        "  def neighTriangles(vertix, triangles):\n",
        "    indeces= []\n",
        "    \n",
        "    for i in range(len(triangles)):\n",
        "      x0= triangles[i].x0\n",
        "      x1= triangles[i].x1\n",
        "      x2= triangles[i].x2\n",
        "      \n",
        "      if vertix in [x0, x1, x2]:\n",
        "        indeces.append(i)\n",
        "    \n",
        "    type_vertex= 0                                     # if the vertex is the right angle\n",
        "    if vertix != triangles[indeces[0]].x0:\n",
        "      type_vertex= 1                                   # if the vertex is not the right angle\n",
        "    \n",
        "    return indeces, type_vertex\n",
        "  \n",
        "  \n",
        "  \n",
        "  \n",
        "  @staticmethod\n",
        "  def neighVerteces(ind_vertix, edges):\n",
        "    indeces= np.where(edges[:,1] == ind_vertix)    \n",
        "    \n",
        "    vertices= []\n",
        "    for i in indeces:\n",
        "      vertices.append(edges[i,0])\n",
        "    \n",
        "    return vertices[0]\n",
        "  \n",
        "  \n",
        "  \n",
        "  \n",
        "  @staticmethod\n",
        "  def nEdgeSharing(i,j,mesh,triangles):\n",
        "    count= 0\n",
        "    v_i= [mesh.x[i], mesh.y[i]]\n",
        "    v_j= [mesh.x[j], mesh.y[j]]\n",
        "    \n",
        "    for el in triangles:\n",
        "      x0= el.x0\n",
        "      x1= el.x1\n",
        "      x2= el.x2\n",
        "      t= [x0, x1, x2]\n",
        "      \n",
        "      if v_i in t and v_j in t:\n",
        "        count+= 1\n",
        "    \n",
        "    return count\n",
        "    "
      ],
      "execution_count": 0,
      "outputs": []
    },
    {
      "metadata": {
        "id": "WkDbtFk4REpD",
        "colab_type": "code",
        "outputId": "ade9fc71-a8ae-4999-8103-7cb56051f3ae",
        "colab": {
          "base_uri": "https://localhost:8080/",
          "height": 69
        }
      },
      "cell_type": "code",
      "source": [
        "trian= Triangle([0,0], [1,0], [0,1])\n",
        "\n",
        "print(trian.t0)\n",
        "print(trian.t1)\n",
        "print(trian.t2)"
      ],
      "execution_count": 8,
      "outputs": [
        {
          "output_type": "stream",
          "text": [
            "[-1. -1.  1.]\n",
            "[1. 0. 0.]\n",
            "[0. 1. 0.]\n"
          ],
          "name": "stdout"
        }
      ]
    },
    {
      "metadata": {
        "id": "Y5uzULR30lsn",
        "colab_type": "code",
        "cellView": "code",
        "colab": {}
      },
      "cell_type": "code",
      "source": [
        "def l2projection2D(fun,mesh, Nx, Ny):\n",
        "  \n",
        "  #######################################\n",
        "  ####     MASS MATRIX ASSEMBLER     ####\n",
        "  #######################################\n",
        "  def massMatrixAssembler(mesh,triangles):\n",
        "    x= mesh.x\n",
        "    y= mesh.y\n",
        "    \n",
        "    N= x.shape[0]\n",
        "    \n",
        "    M= np.zeros((N,N))\n",
        "    \n",
        "    for i in range(0,N):\n",
        "      vertex= [x[i], y[i]]\n",
        "      \n",
        "      index_triangles, type_vertex= Triangle.neighTriangles(vertex, triangles)\n",
        "      \n",
        "      # compute M[i,i]\n",
        "      s= 0\n",
        "      for j in index_triangles:                                                 # elements on diagonal\n",
        "        if type_vertex == 0:\n",
        "          s+= triangles[j].integrals[0,0]\n",
        "        else:\n",
        "          s+= triangles[j].integrals[0,1]\n",
        "        \n",
        "      M[i,i]= s\n",
        "      \n",
        "      # compute M[i,j]= M[j,i]\n",
        "      index_vertices= Triangle.neighVerteces(i,mesh.edges)                      # elements out of diagonal\n",
        "\n",
        "      for j in index_vertices:\n",
        "        if j > i:                                                               # to avoid useless iterations\n",
        "          nTriangles= Triangle.nEdgeSharing(i,j,mesh,triangles[index_triangles])\n",
        "          M[i,j]= nTriangles * triangles[index_triangles[0]].integrals[2,1]\n",
        "          M[j,i]= M[i,j]\n",
        "    \n",
        "    print(M)\n",
        "    return M\n",
        "  \n",
        "  \n",
        "  #######################################\n",
        "  ####        LOAD ASSEMBLER         ####\n",
        "  #######################################\n",
        "  def loadAssembler(fun, mesh, triangles):\n",
        "    N= triangles.shape[0]\n",
        "    \n",
        "    x= mesh.x\n",
        "    y= mesh.y\n",
        "    \n",
        "    coord= np.array([x,y])\n",
        "    coord= coord.T\n",
        "    \n",
        "    load= np.zeros((x.shape[0],1))\n",
        "    \n",
        "    for t in range(0,N):\n",
        "      triangle= triangles[t]\n",
        "      \n",
        "      x0= triangle.x0\n",
        "      x1= triangle.x1\n",
        "      x2= triangle.x2\n",
        "      \n",
        "      ind0= 0\n",
        "      ind1= 0\n",
        "      ind2= 0\n",
        "      for c in range(0,coord.shape[0]):\n",
        "        if np.array_equal(x0,coord[c,:]):\n",
        "          ind0= c\n",
        "        if np.array_equal(x1,coord[c,:]):\n",
        "          ind1= c\n",
        "        if np.array_equal(x2,coord[c,:]):\n",
        "          ind2= c\n",
        "\n",
        "      \n",
        "      F= triangle.F\n",
        "      b= triangle.b\n",
        "      \n",
        "      ref= np.array([ [1/3], \n",
        "                      [1/3] ])\n",
        "      \n",
        "      new_ref= np.dot(F,ref) + b\n",
        "      \n",
        "      load[ind0]= load[ind0] + triangle.det * fun(new_ref) * 0.5\n",
        "      load[ind1]= load[ind1] + triangle.det * fun(new_ref) * 0.5\n",
        "      load[ind2]= load[ind2] + triangle.det * fun(new_ref) * 0.5\n",
        "    \n",
        "    return load\n",
        "      \n",
        "  #######################################\n",
        "  ####         APPROXIMATION         ####\n",
        "  ####################################### \n",
        "  \n",
        "  triangles= []\n",
        "  \n",
        "  for i in mesh.triangles:\n",
        "    v0= i[0]\n",
        "    v1= i[1]\n",
        "    v2= i[2]\n",
        "    \n",
        "    x0= [mesh.x[v0], mesh.y[v0]]\n",
        "    x1= [mesh.x[v1], mesh.y[v1]]\n",
        "    x2= [mesh.x[v2], mesh.y[v2]]\n",
        "    \n",
        "    t= Triangle(x0,x1,x2)\n",
        "    \n",
        "    triangles.append(t)\n",
        "\n",
        "    \n",
        "  triangles= np.array(triangles)\n",
        "  M= massMatrixAssembler(mesh,triangles)                 # mass matrix assembler\n",
        "  b= loadAssembler(fun, mesh, triangles)                 # load assembler\n",
        "  \n",
        "  alpha, _, _, _= lalg.lstsq(M,b,rcond= None)            # vector alpha\n",
        " \n",
        "  print(alpha)\n",
        "  x= mesh.x\n",
        "  y= mesh.y\n",
        "  \n",
        "  result= np.zeros((Nx,Ny))\n",
        "  map_matrix= []                                         # mapping array\n",
        "  for m in range(0,Nx):\n",
        "    for n in range(0,Ny):\n",
        "      map_matrix.append((Nx-m-1,n))\n",
        "    \n",
        "\n",
        "  coord= np.array([x,y])\n",
        "  coord= coord.T\n",
        "  for t in triangles:\n",
        "    x0= t.x0\n",
        "    x1= t.x1\n",
        "    x2= t.x2\n",
        "    \n",
        "    coeff0= t.t0\n",
        "    coeff1= t.t1\n",
        "    coeff2= t.t2\n",
        "    \n",
        "    ind0= 0\n",
        "    ind1= 0\n",
        "    ind2= 0\n",
        "    for c in range(0,coord.shape[0]):\n",
        "      if np.array_equal(x0,coord[c,:]):\n",
        "        ind0= c\n",
        "      if np.array_equal(x1,coord[c,:]):\n",
        "        ind1= c\n",
        "      if np.array_equal(x2,coord[c,:]):\n",
        "        ind2= c\n",
        "    \n",
        "    basis0= coeff0[0]*x0[0] + coeff0[1]*x0[1] + coeff0[2]\n",
        "    result[map_matrix[ind0]]+= alpha[ind0] * basis0\n",
        "    \n",
        "    basis1= coeff1[0]*x1[0] + coeff1[1]*x1[1] + coeff1[2]\n",
        "    result[map_matrix[ind1]]+= alpha[ind1] * basis1\n",
        "    \n",
        "    basis2= coeff2[0]*x2[0] + coeff2[1]*x2[1] + coeff2[2]\n",
        "    result[map_matrix[ind2]]+= alpha[ind2] * basis2\n",
        "  \n",
        "\n",
        "  return result"
      ],
      "execution_count": 0,
      "outputs": []
    },
    {
      "metadata": {
        "id": "jUiLfC0KHo8C",
        "colab_type": "code",
        "outputId": "c031e535-21c8-4a67-c6c0-4f26226d014a",
        "colab": {
          "base_uri": "https://localhost:8080/",
          "height": 1160
        }
      },
      "cell_type": "code",
      "source": [
        "def createMesh(Nx,Ny):\n",
        "  hx= 1.0 / (Nx-1)\n",
        "  hy= 1.0 / (Ny-1)\n",
        "  \n",
        "  x = np.zeros((Nx*Ny))\n",
        "  y = np.zeros((Nx*Ny))\n",
        "  for i in range(Nx):\n",
        "    for j in range(Ny):\n",
        "      x[i*Nx + j] = j*hx\n",
        "      y[i*Nx + j] = i*hy\n",
        "\n",
        "  # Generate a mesh from the point cloud using a Delaunay algorithm\n",
        "  mesh = tri.Triangulation(x,y)\n",
        "  \n",
        "  return mesh\n",
        "\n",
        "def fun(x):\n",
        "  return x[0]**2 + x[1]**2\n",
        "\n",
        "def fun1(x,y):\n",
        "  return x**2 + y**2\n",
        "\n",
        "################################################################################\n",
        "\n",
        "mesh= createMesh(3,3)\n",
        "x= mesh.x\n",
        "y= mesh.y\n",
        "\n",
        "coord= np.array([x,y])\n",
        "coord= coord.T\n",
        "\n",
        "res= l2projection2D(fun, mesh, 3, 3)\n",
        "\n",
        "print('RESULT: \\n{}'.format(res))\n",
        "\n",
        "# Plot the mesh \n",
        "plt.figure()\n",
        "plt.figure(figsize=(10,10))\n",
        "plt.triplot(mesh, 'bo-', lw=1)\n",
        "plt.title('Delaunay mesh')\n",
        "plt.show()\n",
        "\n",
        "\n",
        "\n",
        "\n"
      ],
      "execution_count": 56,
      "outputs": [
        {
          "output_type": "stream",
          "text": [
            "[[0.02083333 0.01041667 0.         0.01041667 0.         0.\n",
            "  0.         0.         0.        ]\n",
            " [0.01041667 0.04166667 0.01041667 0.02083333 0.02083333 0.02083333\n",
            "  0.         0.         0.        ]\n",
            " [0.         0.01041667 0.02083333 0.         0.         0.01041667\n",
            "  0.         0.         0.        ]\n",
            " [0.01041667 0.02083333 0.         0.04166667 0.02083333 0.\n",
            "  0.01041667 0.02083333 0.        ]\n",
            " [0.         0.02083333 0.         0.02083333 0.08333333 0.02083333\n",
            "  0.         0.02083333 0.        ]\n",
            " [0.         0.02083333 0.01041667 0.         0.02083333 0.04166667\n",
            "  0.         0.02083333 0.01041667]\n",
            " [0.         0.         0.         0.01041667 0.         0.\n",
            "  0.02083333 0.01041667 0.        ]\n",
            " [0.         0.         0.         0.02083333 0.02083333 0.02083333\n",
            "  0.01041667 0.04166667 0.01041667]\n",
            " [0.         0.         0.         0.         0.         0.01041667\n",
            "  0.         0.01041667 0.02083333]]\n",
            "[[-0.83333333]\n",
            " [ 1.16666667]\n",
            " [ 0.5       ]\n",
            " [ 1.16666667]\n",
            " [-0.5       ]\n",
            " [ 6.5       ]\n",
            " [ 0.5       ]\n",
            " [ 6.5       ]\n",
            " [ 1.83333333]]\n",
            "RESULT: \n",
            "[[ 5.00000000e-01  1.30000000e+01 -8.14163551e-16]\n",
            " [ 2.33333333e+00 -1.00000000e+00  1.30000000e+01]\n",
            " [-8.33333333e-01  2.33333333e+00  0.00000000e+00]]\n"
          ],
          "name": "stdout"
        },
        {
          "output_type": "display_data",
          "data": {
            "text/plain": [
              "<Figure size 576x396 with 0 Axes>"
            ]
          },
          "metadata": {
            "tags": []
          }
        },
        {
          "output_type": "display_data",
          "data": {
            "image/png": "[encoded data removed]",
            "text/plain": [
              "<Figure size 720x720 with 1 Axes>"
            ]
          },
          "metadata": {
            "tags": []
          }
        }
      ]
    },
    {
      "metadata": {
        "id": "SsQLT38gVbn_",
        "colab_type": "text"
      },
      "cell_type": "markdown",
      "source": [
        "# **Results**"
      ]
    },
    {
      "metadata": {
        "id": "RLwlnOzuV-Cd",
        "colab_type": "text"
      },
      "cell_type": "markdown",
      "source": [
        "Present the results. If the result is an algorithm that you have described under the *Methods* section, you can present the data from verification and performance tests in this section. If the result is the output from a computational experiment this is where you present a selection of that data. "
      ]
    },
    {
      "metadata": {
        "id": "_4GLBv0zWr7m",
        "colab_type": "text"
      },
      "cell_type": "markdown",
      "source": [
        "# **Discussion**"
      ]
    },
    {
      "metadata": {
        "id": "6bcsDSoRXHZe",
        "colab_type": "text"
      },
      "cell_type": "markdown",
      "source": [
        "Summarize your results and your conclusions. Were the results expected or surprising. Do your results have implications outside the particular problem investigated in this report? "
      ]
    },
    {
      "metadata": {
        "id": "1vcIILuQYsEA",
        "colab_type": "text"
      },
      "cell_type": "markdown",
      "source": [
        "#References"
      ]
    },
    {
      "metadata": {
        "id": "NlJ-Y9KAYt4Z",
        "colab_type": "text"
      },
      "cell_type": "markdown",
      "source": [
        "In this appendix some examples are given to express and visualizing mathematical concepts such as vectors, matrices, meshes and functions. \n",
        "\n",
        "This is not part of the template report for the course."
      ]
    }
  ]
}