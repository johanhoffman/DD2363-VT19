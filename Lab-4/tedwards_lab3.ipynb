{
  "nbformat": 4,
  "nbformat_minor": 0,
  "metadata": {
    "colab": {
      "name": "template-report-lab-X.ipynb",
      "version": "0.3.2",
      "provenance": [],
      "include_colab_link": true
    },
    "kernelspec": {
      "name": "python3",
      "display_name": "Python 3"
    }
  },
  "cells": [
    {
      "cell_type": "markdown",
      "metadata": {
        "id": "view-in-github",
        "colab_type": "text"
      },
      "source": [
        "<a href=\"https://colab.research.google.com/github/johanhoffman/DD2363-VT19/blob/tobzed/Lab-4/tedwards_lab3.ipynb\" target=\"_parent\"><img src=\"https://colab.research.google.com/assets/colab-badge.svg\" alt=\"Open In Colab\"/></a>"
      ]
    },
    {
      "metadata": {
        "id": "6RgtXlfYO_i7",
        "colab_type": "text"
      },
      "cell_type": "markdown",
      "source": [
        "# **Lab 4: Approximation**\n",
        "**Tobias Edwards**"
      ]
    },
    {
      "metadata": {
        "id": "9x_J5FVuPzbm",
        "colab_type": "text"
      },
      "cell_type": "markdown",
      "source": [
        "# **Abstract**"
      ]
    },
    {
      "metadata": {
        "id": "6UFTSzW7P8kL",
        "colab_type": "text"
      },
      "cell_type": "markdown",
      "source": [
        "This lab focused on various methods to approximate functions and integrals of functions. The main methods of this lab were the Gassian quadrature method for integral approximation, and the $L_2$-projection to piecewise linear functions. I did not do hte bonus problems."
      ]
    },
    {
      "metadata": {
        "id": "OkT8J7uOWpT3",
        "colab_type": "text"
      },
      "cell_type": "markdown",
      "source": [
        "#**About the code**"
      ]
    },
    {
      "metadata": {
        "id": "HmB2noTr1Oyo",
        "colab_type": "text"
      },
      "cell_type": "markdown",
      "source": [
        "The following code is authored by Tobias Edwards for the fourth lab in course DD2363  Methods in Scientific Computing.\n",
        "\n"
      ]
    },
    {
      "metadata": {
        "id": "28xLGz8JX3Hh",
        "colab_type": "text"
      },
      "cell_type": "markdown",
      "source": [
        "# **Set up environment**"
      ]
    },
    {
      "metadata": {
        "id": "D2PYNusD08Wa",
        "colab_type": "text"
      },
      "cell_type": "markdown",
      "source": [
        "To have access to the neccessary modules you have to run this cell. If you need additional modules, this is where you add them. "
      ]
    },
    {
      "metadata": {
        "id": "Xw7VlErAX7NS",
        "colab_type": "code",
        "colab": {}
      },
      "cell_type": "code",
      "source": [
        "# Load neccessary modules.\n",
        "from google.colab import files\n",
        "\n",
        "import numpy as np\n",
        "import unittest\n",
        "from matplotlib import pyplot as plt\n",
        "from math import *"
      ],
      "execution_count": 0,
      "outputs": []
    },
    {
      "metadata": {
        "id": "gnO3lhAigLev",
        "colab_type": "text"
      },
      "cell_type": "markdown",
      "source": [
        "# **Introduction**"
      ]
    },
    {
      "metadata": {
        "id": "l5zMzgPlRAF6",
        "colab_type": "text"
      },
      "cell_type": "markdown",
      "source": [
        "The Gaussian quadrature method says that, given $n$ points $(X_0,Y_0),...,(X_{n-1},Y_{n-1})$ from a function $f$, the method can give an exact integral for a polynomial approximation (interpolation) of $f$ with highest degree $2n-1$. \n",
        "\n",
        "The $L_2$-projection to piecewise linear functions does not interpolate the given nodes. Instead the function $f$ to approximate is projected to the space of piecewise linear functions over a mesh $I$ of $n-1$ intervals $I_0=[X_0,X_1]...,[I_{n-1}=X_{n-1},X_n]$. In this space we can express each linear function as a linear combination of linear basis functions $\\{\\phi\\}_{i=0}^n$. In particular we want to use a nodal basis such that each basis function $\\phi_i$is 1 for a corresponding $x_i$ and 0 $\\forall j \\neq i$.  The goal is then to find the coefficients $a_i$ that minimise the residual $|Pf-f|$. It can be shown that this results in solving the $Mx = b$ of size $n+1$. The deriviation of the mass matrix elements and the load vector $b$ can be found in the lecture notes. \n",
        "\n"
      ]
    },
    {
      "metadata": {
        "id": "SsQLT38gVbn_",
        "colab_type": "text"
      },
      "cell_type": "markdown",
      "source": [
        "# **Results**"
      ]
    },
    {
      "metadata": {
        "id": "ChMfNEPY7Vtd",
        "colab_type": "text"
      },
      "cell_type": "markdown",
      "source": [
        "## One point Gaussian quadrature"
      ]
    },
    {
      "metadata": {
        "id": "g8R9EXRi9Neb",
        "colab_type": "text"
      },
      "cell_type": "markdown",
      "source": [
        "This method approximates the integral of a function $f$ over an interval $[a,b]$. We use a single midpoint $x_0 = \\frac{a+b}{2}$ which means that our interpolated function is linear."
      ]
    },
    {
      "metadata": {
        "id": "f7H0a1Hg7eBB",
        "colab_type": "code",
        "colab": {}
      },
      "cell_type": "code",
      "source": [
        "def one_point_gaussian_quad(f, a=0, b=1):\n",
        "    return (b-a)*f((a+b)/2.)"
      ],
      "execution_count": 0,
      "outputs": []
    },
    {
      "metadata": {
        "id": "CFxem-0C7hoG",
        "colab_type": "text"
      },
      "cell_type": "markdown",
      "source": [
        "##L2 projection to pw linear approximation over mesh in 1D"
      ]
    },
    {
      "metadata": {
        "id": "hDqOmFs6-k3x",
        "colab_type": "text"
      },
      "cell_type": "markdown",
      "source": [
        "Here we contruct the mass matrix $M$ and the load vector $b$, finally solving the equation. The solution contains our approximate values for $f(x_i)$. As stated in the lectuer notes, the derivation of the elements of $M$ show that is is more efficient to iterate over the intervals of the mesh than to iterate over each element as elements of larger index depend on elements of smaller index. "
      ]
    },
    {
      "metadata": {
        "id": "hh0Y3PnvHHPW",
        "colab_type": "code",
        "colab": {}
      },
      "cell_type": "code",
      "source": [
        "def matrix_assembly(x_pts):\n",
        "    n = x_pts.size-1\n",
        "    M = np.zeros((n+1,n+1))\n",
        "    # rather than iterating over each element of M\n",
        "    # iterate over each interval of the mesh\n",
        "    for i in range(n):\n",
        "        h_i = x_pts[i+1] - x_pts[i]\n",
        "        M[i,i] += h_i/3.\n",
        "        M[i,i+1] = h_i/6.\n",
        "        M[i+1,i] = h_i/6.\n",
        "        M[i+1,i+1] += h_i/3.\n",
        "    return M\n",
        "\n",
        "def load_vector_assembly(f,x_pts):\n",
        "    n = x_pts.size-1\n",
        "    b = np.zeros((n+1,1))\n",
        "    for i in range(n):\n",
        "        h_i = x_pts[i+1]-x_pts[i]\n",
        "        b[i] += f(x_pts[i])*h_i/2.\n",
        "        b[i+1] += f(x_pts[i+1])*h_i/2.\n",
        "    return b\n",
        "\n",
        "def L2_projection_pw_linear_approx_1D(f,x_pts):\n",
        "    M = matrix_assembly(x_pts)\n",
        "    b = load_vector_assembly(f,x_pts)\n",
        "    return np.linalg.solve(M,b)\n"
      ],
      "execution_count": 0,
      "outputs": []
    },
    {
      "metadata": {
        "id": "vwbz_EXZ8v2R",
        "colab_type": "text"
      },
      "cell_type": "markdown",
      "source": [
        "## Tests"
      ]
    },
    {
      "metadata": {
        "id": "63TLvt808y51",
        "colab_type": "code",
        "outputId": "f549e2ca-c7dd-44fe-cb4f-3fbb05b9c479",
        "colab": {
          "base_uri": "https://localhost:8080/",
          "height": 511
        }
      },
      "cell_type": "code",
      "source": [
        "class Lab4FunctionsTest(unittest.TestCase):\n",
        "\n",
        "    def test_one_point_gaussian_quad(self):\n",
        "        f1 = lambda x: x**2\n",
        "        res = one_point_gaussian_quad(f1)\n",
        "        #on interval [0,1] exact integral is 1/4 for x^2\n",
        "        self.assertEquals(res,0.25)\n",
        "        f2 = lambda x : 3*x-1\n",
        "        res = one_point_gaussian_quad(f2)\n",
        "        #for a linear function f the integral is exact\n",
        "        self.assertEquals(res,0.5)\n",
        "\n",
        "    def test_L2_projection_pw_linear_1D(self):\n",
        "        f1 = lambda x: sin(x)*3\n",
        "        steps = np.array([1.,0.5,0.25,0.125,0.0625])\n",
        "        errors = np.zeros(steps.size)\n",
        "        for step in range(steps.size):\n",
        "            x_pts = np.arange(0,11,steps[step])\n",
        "            l2_res = L2_projection_pw_linear_approx_1D(f1,x_pts)\n",
        "            lst_sq_res = sum([(f1(x_pts[i])-l2_res[i])**2 for i in range(x_pts.size)])\n",
        "            errors[step] = lst_sq_res\n",
        "            plt.plot(step,lst_sq_res, 'o',label=\"Step size = \"+str(steps[step]))\n",
        "        plt.plot(np.arange(0,steps.size),errors, label='Error convergenence')\n",
        "        plt.legend()\n",
        "        plt.show()\n",
        "\n",
        "if __name__ == '__main__':\n",
        "    unittest.main(argv=['first-arg-is-ignored'], exit=False)"
      ],
      "execution_count": 9,
      "outputs": [
        {
          "output_type": "display_data",
          "data": {
            "image/png": "[encoded data removed]",
            "text/plain": [
              "<Figure size 576x396 with 1 Axes>"
            ]
          },
          "metadata": {
            "tags": []
          }
        },
        {
          "output_type": "stream",
          "text": [
            "./usr/local/lib/python3.6/dist-packages/ipykernel_launcher.py:7: DeprecationWarning: Please use assertEqual instead.\n",
            "  import sys\n",
            "/usr/local/lib/python3.6/dist-packages/ipykernel_launcher.py:11: DeprecationWarning: Please use assertEqual instead.\n",
            "  # This is added back by InteractiveShellApp.init_path()\n",
            ".\n",
            "----------------------------------------------------------------------\n",
            "Ran 2 tests in 0.273s\n",
            "\n",
            "OK\n"
          ],
          "name": "stderr"
        }
      ]
    },
    {
      "metadata": {
        "id": "ZgQmho1f8qRU",
        "colab_type": "text"
      },
      "cell_type": "markdown",
      "source": [
        "# Discussion"
      ]
    },
    {
      "metadata": {
        "id": "cC7E2P3IDowo",
        "colab_type": "text"
      },
      "cell_type": "markdown",
      "source": [
        "The theory for this lab was quite challenging. I had a hard time following the derivation for the elements of of the assembly matrix despite understanding roughly what was being achieved.  "
      ]
    },
    {
      "metadata": {
        "id": "s9AH-x0PI_w9",
        "colab_type": "text"
      },
      "cell_type": "markdown",
      "source": [
        "  ## Sources\n",
        "  \n",
        "  1. Introduction to Scientific Computing by Johan Hoffman\n",
        "  \n",
        "  2. The Finite Element Method: Theory, Implementation, and Applications, Chapter 1: Piecewise Polynomial Approximation in 1D\n",
        "  Authors: Larson, Mats G., Bengzon, Fredrik\n"
      ]
    }
  ]
}