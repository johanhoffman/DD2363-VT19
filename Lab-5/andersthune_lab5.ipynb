{
 "cells": [
  {
   "cell_type": "markdown",
   "metadata": {
    "ein.tags": "worksheet-0",
    "slideshow": {
     "slide_type": "-"
    }
   },
   "source": [
    "**Note:** This notebook is written in the Julia language, so the cells can't be\n",
    "  executed in Google Colab. If you want to verify that the notebook works, I\n",
    "  recommend [JuliaBox](https://juliabox.com/) or testing locally. The syntax is\n",
    "  very similar to Python and MATLAB. Note in particular the dot syntax used to\n",
    "  perform elementwise operations ( `f.(x)` applies `f` to all elements of `x` ),\n",
    "  that indices start at 1 and that the last statement of all functions is returned\n",
    "  automatically."
   ]
  },
  {
   "cell_type": "markdown",
   "metadata": {
    "colab_type": "text",
    "ein.tags": "worksheet-0",
    "id": "6RgtXlfYO_i7",
    "slideshow": {
     "slide_type": "-"
    }
   },
   "source": [
    "# **Lab 5: Ordinary Differential Equations**\n",
    "**Anders Ågren Thuné**"
   ]
  },
  {
   "cell_type": "markdown",
   "metadata": {
    "colab_type": "text",
    "ein.tags": "worksheet-0",
    "id": "9x_J5FVuPzbm",
    "slideshow": {
     "slide_type": "-"
    }
   },
   "source": [
    "# **Abstract**"
   ]
  },
  {
   "cell_type": "markdown",
   "metadata": {
    "colab_type": "text",
    "ein.tags": "worksheet-0",
    "id": "6UFTSzW7P8kL",
    "slideshow": {
     "slide_type": "-"
    }
   },
   "source": []
  },
  {
   "cell_type": "markdown",
   "metadata": {
    "colab_type": "text",
    "ein.tags": "worksheet-0",
    "id": "OkT8J7uOWpT3",
    "slideshow": {
     "slide_type": "-"
    }
   },
   "source": [
    "# **About the code**"
   ]
  },
  {
   "cell_type": "code",
   "execution_count": 1,
   "metadata": {
    "autoscroll": false,
    "colab": {
     "base_uri": "https://localhost:8080/",
     "height": 34
    },
    "colab_type": "code",
    "collapsed": false,
    "ein.hycell": false,
    "ein.tags": "worksheet-0",
    "id": "Pdll1Xc9WP0e",
    "outputId": "1e1de3c9-fbe5-46c9-c3de-2986013df3c9",
    "slideshow": {
     "slide_type": "-"
    }
   },
   "outputs": [
    {
     "data": {
      "text/plain": [
       "\"DD2363 Methods in Scientific Computing,\\nKTH Royal Institute of Technology, Stockholm, Sweden.\\n\""
      ]
     },
     "execution_count": 1,
     "metadata": {},
     "output_type": "execute_result"
    }
   ],
   "source": [
    "\"\"\"\n",
    "DD2363 Methods in Scientific Computing,\n",
    "KTH Royal Institute of Technology, Stockholm, Sweden.\n",
    "\"\"\"\n",
    "\n",
    "# Copyright (C) 2019\n",
    "# Anders Ågren Thuné (athune@kth.se)\n",
    "# Johan Hoffman (jhoffman@kth.se)\n",
    "\n",
    "# Code written by Anders Ågren Thuné based on the template by Johan Hoffman.\n",
    "\n",
    "# This file is part of the course DD2363 Methods in Scientific Computing\n",
    "# KTH Royal Institute of Technology, Stockholm, Sweden\n",
    "#\n",
    "# This is free software: you can redistribute it and/or modify\n",
    "# it under the terms of the GNU Lesser General Public License as published by\n",
    "# the Free Software Foundation, either version 3 of the License, or\n",
    "# (at your option) any later version."
   ]
  },
  {
   "cell_type": "markdown",
   "metadata": {
    "colab_type": "text",
    "ein.tags": "worksheet-0",
    "id": "28xLGz8JX3Hh",
    "slideshow": {
     "slide_type": "-"
    }
   },
   "source": [
    "# **Set up environment**"
   ]
  },
  {
   "cell_type": "code",
   "execution_count": 25,
   "metadata": {
    "autoscroll": false,
    "colab": null,
    "colab_type": "code",
    "collapsed": false,
    "ein.hycell": false,
    "ein.tags": "worksheet-0",
    "id": "Xw7VlErAX7NS",
    "slideshow": {
     "slide_type": "-"
    }
   },
   "outputs": [
    {
     "data": {
      "text/plain": [
       "Plots.PyPlotBackend()"
      ]
     },
     "execution_count": 25,
     "metadata": {},
     "output_type": "execute_result"
    }
   ],
   "source": [
    "using LinearAlgebra\n",
    "using Plots\n",
    "pyplot()"
   ]
  },
  {
   "cell_type": "markdown",
   "metadata": {
    "colab_type": "text",
    "ein.tags": "worksheet-0",
    "id": "gnO3lhAigLev",
    "slideshow": {
     "slide_type": "-"
    }
   },
   "source": [
    "# **Introduction**"
   ]
  },
  {
   "cell_type": "markdown",
   "metadata": {
    "colab_type": "text",
    "ein.tags": "worksheet-0",
    "id": "l5zMzgPlRAF6",
    "slideshow": {
     "slide_type": "-"
    }
   },
   "source": [
    "Differential equations are often used to model a wide variety of natural and\n",
    "physical systems, as they naturally encode the mechanics of change. An ordinary\n",
    "differential equation is an equation in a single function $u$ and its\n",
    "derivatives. In case higher order derivatives are involved, the equation can be\n",
    "reformulated as a *system* of first-order differential equations.\n",
    "\n",
    "A common type of problem is where some initial value $u_0$ is given, and the\n",
    "value at time $T$ is sought. These problems can be solved using time-stepping\n",
    "methods, which estimate the value at each point in time using the previous\n",
    "value, starting from the given value and stepping forward. There are a number of\n",
    "types of such methods with different *accuracy* and *stability* properties,\n",
    "where the accuracy of a method indicates how the error changes with respect to\n",
    "the granularity of the time discretization and the stability indicates how\n",
    "robust a method is using timesteps of arbitrary length.\n",
    "\n",
    "In this report, a function using the theta method for solving initial value\n",
    "problems is implemented both for scalar problems and for systems of ordinary\n",
    "differential equations. In addition, this solver is used to solve the\n",
    "Lotka-Volterra equations describing population change, and the parameters\n",
    "affecting the model are analyzed."
   ]
  },
  {
   "cell_type": "markdown",
   "metadata": {
    "colab_type": "text",
    "ein.tags": "worksheet-0",
    "id": "WeFO9QMeUOAu",
    "slideshow": {
     "slide_type": "-"
    }
   },
   "source": [
    "# **Methods**"
   ]
  },
  {
   "cell_type": "code",
   "execution_count": 142,
   "metadata": {
    "autoscroll": false,
    "collapsed": false,
    "ein.hycell": false,
    "ein.tags": "worksheet-0",
    "slideshow": {
     "slide_type": "-"
    }
   },
   "outputs": [
    {
     "data": {
      "text/plain": [
       "newton (generic function with 9 methods)"
      ]
     },
     "execution_count": 142,
     "metadata": {},
     "output_type": "execute_result"
    }
   ],
   "source": [
    "\"\"\"\n",
    "Calculate f'(x) using a central difference.\n",
    "\"\"\"\n",
    "centdiff(f, x, h = 1e-5) = (f(x+h) - f(x-h))/2h\n",
    "\n",
    "\"\"\"\n",
    "Calculate J(f)(p). Modifies the argument jac in place.\n",
    "Based on @bozzato's implementation for lab 3.\n",
    "\"\"\"\n",
    "function filljacobian!(jac, f, p, h = 1e-5)\n",
    "    p1 = p\n",
    "    p2 = copy(p1)\n",
    "    for i in 1:length(p)\n",
    "        p1[i] += h\n",
    "        p2[i] -= h\n",
    "\n",
    "        jac[:,i] .= (f(p1) - f(p2)) / 2h\n",
    "\n",
    "        p1[i] -= h\n",
    "        p2[i] += h\n",
    "    end\n",
    "end\n",
    "\n",
    "\"\"\"\n",
    "Compute x such that f(x) = 0 using Newton's method.\n",
    "\"\"\"\n",
    "function newton(f, x0::Float64, TOL = 1e-5)\n",
    "    x = x0\n",
    "    h = Inf\n",
    "    while abs(h) > TOL\n",
    "        h = f(x)/centdiff(f, x)\n",
    "        x -= h\n",
    "    end\n",
    "    x\n",
    "end\n",
    "\n",
    "function newton(f, x0::Vector{Float64}, TOL = 1e-5)\n",
    "    n = length(x0); x = copy(x0); δf = zeros(n, n); h = Inf*ones(n)\n",
    "    while norm(h) > TOL\n",
    "        filljacobian!(δf, f, x)\n",
    "        h .= δf\\f(x)\n",
    "        x .-= h\n",
    "    end\n",
    "    x\n",
    "end"
   ]
  },
  {
   "cell_type": "code",
   "execution_count": 143,
   "metadata": {
    "autoscroll": false,
    "collapsed": false,
    "ein.hycell": false,
    "ein.tags": "worksheet-0",
    "slideshow": {
     "slide_type": "-"
    }
   },
   "outputs": [
    {
     "data": {
      "text/plain": [
       "thetamethod"
      ]
     },
     "execution_count": 143,
     "metadata": {},
     "output_type": "execute_result"
    }
   ],
   "source": [
    "\"\"\"\n",
    "Solve an IVP given f(u(t), t), a list of times [t0, t1, ..., tn], and a starting value u0\n",
    "using a theta method with theta = θ. Newton's method is used to obtain the new value of\n",
    "Un in each step. Works for both scalar problems and systems of ODEs.\n",
    "\"\"\"\n",
    "function thetamethod(f, ts, u0, θ, TOL = 1e-5)\n",
    "    U = u0\n",
    "    ks = diff(ts)\n",
    "\n",
    "    results = zeros(length(ts)-1, length(u0))\n",
    "\n",
    "    for i in 2:length(ts)\n",
    "        U .= newton(x -> U + ks[i-1]*((1.0-θ)*f(x, ts[i]) + θ*f(U,ts[i-1])) - x, U)\n",
    "        results[i-1,:] .= U\n",
    "    end\n",
    "    results\n",
    "end"
   ]
  },
  {
   "cell_type": "markdown",
   "metadata": {
    "ein.tags": "worksheet-0",
    "slideshow": {
     "slide_type": "-"
    }
   },
   "source": [
    "# **Results**"
   ]
  },
  {
   "cell_type": "code",
   "execution_count": 144,
   "metadata": {
    "autoscroll": false,
    "collapsed": false,
    "ein.hycell": false,
    "ein.tags": "worksheet-0",
    "slideshow": {
     "slide_type": "-"
    }
   },
   "outputs": [
    {
     "data": {
      "text/plain": [
       "2-element Array{Float64,1}:\n 5.0\n 3.0"
      ]
     },
     "execution_count": 144,
     "metadata": {},
     "output_type": "execute_result"
    }
   ],
   "source": [
    "α = 0.1; β = 0.02; γ = 0.7; δ = 0.1\n",
    "\n",
    "# The system\n",
    "f(xy, t) = [α*xy[1] - β*xy[1]*xy[2];\n",
    "            δ*xy[1]*xy[2] - γ*xy[2]]\n",
    "\n",
    "# Preparing θ-method.\n",
    "ts = 0.0:0.01:100\n",
    "xy = [5.; 3.]"
   ]
  },
  {
   "cell_type": "code",
   "execution_count": 145,
   "metadata": {
    "autoscroll": false,
    "collapsed": false,
    "ein.hycell": false,
    "ein.tags": "worksheet-0",
    "slideshow": {
     "slide_type": "-"
    }
   },
   "outputs": [
    {
     "data": {
      "text/plain": [
       "10000×2 Array{Float64,2}:\n 5.00201  2.99402\n 5.00402  2.98805\n 5.00604  2.98211\n 5.00807  2.97618\n 5.0101   2.97027\n 5.01214  2.96438\n 5.01419  2.9585 \n 5.01624  2.95264\n 5.0183   2.9468 \n 5.02037  2.94098\n 5.02245  2.93518\n 5.02453  2.92939\n 5.02661  2.92362\n ⋮               \n 5.22398  2.66173\n 5.22643  2.65701\n 5.22888  2.65232\n 5.23134  2.64763\n 5.23381  2.64296\n 5.23628  2.63831\n 5.23876  2.63367\n 5.24125  2.62905\n 5.24374  2.62444\n 5.24624  2.61985\n 5.24874  2.61527\n 5.25125  2.6107 "
      ]
     },
     "execution_count": 145,
     "metadata": {},
     "output_type": "execute_result"
    }
   ],
   "source": [
    "# Run method and get results\n",
    "res = thetamethod(f, ts, xy, 0.0)"
   ]
  },
  {
   "cell_type": "code",
   "execution_count": 146,
   "metadata": {
    "autoscroll": false,
    "collapsed": false,
    "ein.hycell": false,
    "ein.tags": "worksheet-0",
    "slideshow": {
     "slide_type": "-"
    }
   },
   "outputs": [
    {
     "data": {
      "image/png": "[encoded data removed]"
     },
     "execution_count": 146,
     "metadata": {},
     "output_type": "execute_result"
    }
   ],
   "source": [
    "# Plot results\n",
    "plt = plot(title = \"Lotka-Volterra\")\n",
    "plot!(ts, res[:,1], label = \"Prey\")\n",
    "plot!(ts, res[:,2], label = \"Predators\")"
   ]
  },
  {
   "cell_type": "markdown",
   "metadata": {
    "colab_type": "text",
    "ein.tags": "worksheet-0",
    "id": "_4GLBv0zWr7m",
    "slideshow": {
     "slide_type": "-"
    }
   },
   "source": [
    "# **Discussion**"
   ]
  },
  {
   "cell_type": "markdown",
   "metadata": {
    "colab_type": "text",
    "ein.tags": "worksheet-0",
    "id": "6bcsDSoRXHZe",
    "slideshow": {
     "slide_type": "-"
    }
   },
   "source": []
  },
  {
   "cell_type": "markdown",
   "metadata": {
    "ein.tags": "worksheet-0",
    "slideshow": {
     "slide_type": "-"
    }
   },
   "source": [
    "# **References**"
   ]
  },
  {
   "cell_type": "markdown",
   "metadata": {
    "ein.tags": "worksheet-0",
    "slideshow": {
     "slide_type": "-"
    }
   },
   "source": [
    "- Hoffman, J. 2019. *Introduction to Scientific Computing*\n",
    "- Golub, Gene H. and Van Loan, Charles F. 2013. *Matrix Computations*. 4th ed. Baltimore: John Hopkins University Press."
   ]
  }
 ],
 "metadata": {
  "colab": {
   "include_colab_link": true,
   "name": "template-report-lab-X.ipynb",
   "provenance": null,
   "version": "0.3.2"
  },
  "kernelspec": {
   "display_name": "Julia 1.1.0",
   "name": "julia-1.1"
  },
  "name": "andersthune_lab5.ipynb"
 },
 "nbformat": 4,
 "nbformat_minor": 0
}
