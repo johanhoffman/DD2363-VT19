{
  "nbformat": 4,
  "nbformat_minor": 0,
  "metadata": {
    "colab": {
      "name": "template-report-lab-X.ipynb",
      "version": "0.3.2",
      "provenance": [],
      "include_colab_link": true
    },
    "kernelspec": {
      "name": "python3",
      "display_name": "Python 3"
    }
  },
  "cells": [
    {
      "cell_type": "markdown",
      "metadata": {
        "id": "view-in-github",
        "colab_type": "text"
      },
      "source": [
        "<a href=\"https://colab.research.google.com/github/johanhoffman/DD2363-VT19/blob/bozzato/Lab-5/bozzato_lab5.ipynb\" target=\"_parent\"><img src=\"https://colab.research.google.com/assets/colab-badge.svg\" alt=\"Open In Colab\"/></a>"
      ]
    },
    {
      "metadata": {
        "id": "6RgtXlfYO_i7",
        "colab_type": "text"
      },
      "cell_type": "markdown",
      "source": [
        "# **Lab 5: Ordinary differential equations**\n",
        "**Bozzato Federico**"
      ]
    },
    {
      "metadata": {
        "id": "9x_J5FVuPzbm",
        "colab_type": "text"
      },
      "cell_type": "markdown",
      "source": [
        "# **Abstract**"
      ]
    },
    {
      "metadata": {
        "id": "6UFTSzW7P8kL",
        "colab_type": "text"
      },
      "cell_type": "markdown",
      "source": [
        "Short summary of the lab report. State the objectives, methods used, main results and conlusions. "
      ]
    },
    {
      "metadata": {
        "id": "yJipbXtnjrJZ",
        "colab_type": "text"
      },
      "cell_type": "markdown",
      "source": [
        ""
      ]
    },
    {
      "metadata": {
        "id": "OkT8J7uOWpT3",
        "colab_type": "text"
      },
      "cell_type": "markdown",
      "source": [
        "#**About the code**"
      ]
    },
    {
      "metadata": {
        "id": "HmB2noTr1Oyo",
        "colab_type": "text"
      },
      "cell_type": "markdown",
      "source": [
        "A short statement on who is the author of the file, and if the code is distributed under a certain license. "
      ]
    },
    {
      "metadata": {
        "id": "Pdll1Xc9WP0e",
        "colab_type": "code",
        "outputId": "d7bf0534-8498-4176-af6e-15c00a3a38c9",
        "colab": {
          "base_uri": "https://localhost:8080/",
          "height": 34
        }
      },
      "cell_type": "code",
      "source": [
        "\"\"\"This program is a template for lab reports in the course\"\"\"\n",
        "\"\"\"DD2363 Methods in Scientific Computing, \"\"\"\n",
        "\"\"\"KTH Royal Institute of Technology, Stockholm, Sweden.\"\"\"\n",
        "\n",
        "# Copyright (C) 2019 Johan Hoffman (jhoffman@kth.se)\n",
        "\n",
        "# This file is part of the course DD2363 Methods in Scientific Computing\n",
        "# KTH Royal Institute of Technology, Stockholm, Sweden\n",
        "#\n",
        "# This is free software: you can redistribute it and/or modify\n",
        "# it under the terms of the GNU Lesser General Public License as published by\n",
        "# the Free Software Foundation, either version 3 of the License, or\n",
        "# (at your option) any later version.\n",
        "\n",
        "# This template is maintained by Johan Hoffman\n",
        "# Please report problems to jhoffman@kth.se"
      ],
      "execution_count": 1,
      "outputs": [
        {
          "output_type": "execute_result",
          "data": {
            "text/plain": [
              "'KTH Royal Institute of Technology, Stockholm, Sweden.'"
            ]
          },
          "metadata": {
            "tags": []
          },
          "execution_count": 1
        }
      ]
    },
    {
      "metadata": {
        "id": "28xLGz8JX3Hh",
        "colab_type": "text"
      },
      "cell_type": "markdown",
      "source": [
        "# **Set up environment**"
      ]
    },
    {
      "metadata": {
        "id": "D2PYNusD08Wa",
        "colab_type": "text"
      },
      "cell_type": "markdown",
      "source": [
        "To have access to the neccessary modules you have to run this cell. If you need additional modules, this is where you add them. "
      ]
    },
    {
      "metadata": {
        "id": "Xw7VlErAX7NS",
        "colab_type": "code",
        "colab": {}
      },
      "cell_type": "code",
      "source": [
        "# Load neccessary modules.\n",
        "from google.colab import files\n",
        "\n",
        "import numpy as np\n",
        "\n",
        "from matplotlib import pyplot as plt"
      ],
      "execution_count": 0,
      "outputs": []
    },
    {
      "metadata": {
        "id": "ATNH_ll8hr4U",
        "colab_type": "text"
      },
      "cell_type": "markdown",
      "source": [
        "## Useful functions from previous labs\n",
        "Functions taken from [here](https://github.com/johanhoffman/DD2363-VT19/blob/bozzato/Lab-3/bozzato_lab3.ipynb.)"
      ]
    },
    {
      "metadata": {
        "id": "iqZzeK6hhra-",
        "colab_type": "code",
        "colab": {}
      },
      "cell_type": "code",
      "source": [
        "def derivative(fun, point, h, opt):\n",
        "  '''\n",
        "  Calculates the first order derivative of the function @fun at the point @point.\n",
        "  Parameters:\n",
        "  - fun: function for which the 1st order derivative is wanted\n",
        "  - point: point where to calculate the derivative\n",
        "  Output:\n",
        "  - derivative: central 1st order derivative\n",
        "  '''\n",
        "  ode= opt[0]\n",
        "  step= opt[1]\n",
        "  theta= opt[2]\n",
        "  u0= opt[3]\n",
        "  t0= opt[4]\n",
        "  u1= opt[5]\n",
        "  t1= opt[6]\n",
        "  f1= fun(ode,step,theta,u0,t0,u1+h,t1)\n",
        "  f2= fun(ode,step,theta,u0,t0,u1-h,t1)\n",
        "  \n",
        "  return (f1 - f2) / (2*h)               # central derivative f'= (f(x+1) - f(x-1))/2\n",
        "\n",
        "\n",
        "\n",
        "def newtonScalarNLeq(fun, opt, h= 0.1, tol= 1e-5):\n",
        "  '''\n",
        "  Solve the scalar nonlinear equation f(x) = 0, where f(x) is the function @fun.\n",
        "  The method used is Newton's method.\n",
        "  Parameters:\n",
        "  - fun: function \n",
        "  - point: starting guess for the iteration\n",
        "  - der (default = None): derivative of the function @fun, calculated manually. \n",
        "  - h (default = 0.1): dx used in computing the derivative\n",
        "  - tol (default= 1e-5): tolerance to stop the iterations\n",
        "  Output:\n",
        "  - x: point x such that f(x)=0\n",
        "  - residuals: vector containing all the residuals for each iteration\n",
        "  - iter: number of iterations for reaching the convergence\n",
        "  '''\n",
        "  \n",
        "  ode= opt[0]\n",
        "  step= opt[1]\n",
        "  theta= opt[2]\n",
        "  u0= opt[3]\n",
        "  t0= opt[4]\n",
        "  u1= opt[5]\n",
        "  t1= opt[6]\n",
        "  \n",
        "  \n",
        "  if not callable(fun):\n",
        "    print('Error: impossible to continue! Parameter @fun is not callable()')\n",
        "    return None, None\n",
        "    \n",
        "  # loop until convergence is not reached\n",
        "  residuals= []\n",
        "  x= u1.item()\n",
        "  res= np.absolute(fun(ode,step,theta,u0,t0,x,t1))\n",
        "  residuals.append(res)\n",
        "  k= 1\n",
        "  while res >= tol and k < 1000:\n",
        "    alpha= derivative(fun, x, h, opt)\n",
        "    \n",
        "    x= x - fun(ode,step,theta,u0,t0,x,t1)/alpha\n",
        "    res= np.absolute(fun(ode,step,theta,u0,t0,x,t1))\n",
        "    residuals.append(res)\n",
        "    k+= 1\n",
        "    \n",
        "  return x, np.array(residuals), k\n",
        "\n",
        "\n",
        "\n",
        "\n",
        "def jacobian(fun,point,h):\n",
        "  '''\n",
        "  Calculates the Jacobian matrix for the vector function @fun at the point @point.\n",
        "  Parameters:\n",
        "  - fun: function for which the Jacobian matrix is wanted\n",
        "  - point: point where to calculate the Jacobian\n",
        "  - h (default= 1): incrementation for the derivative\n",
        "  Output:\n",
        "  - jacobian: jacobian matrix of the function @fun\n",
        "  '''\n",
        "  if not isinstance(point, np.ndarray):\n",
        "    point = np.array(point)\n",
        "    \n",
        "  n= len(point)\n",
        "  \n",
        "  jacobian= np.zeros((n,n))\n",
        "  for i in range(0,n):\n",
        "    pp1= [p for p in point]\n",
        "    pp2= [p for p in point]\n",
        "    \n",
        "    pp1[i]= pp1[i] + h\n",
        "    pp2[i]= pp2[i] - h\n",
        "    \n",
        "    jacobian[:,i]= ((fun(pp1) - fun(pp2)) / (2*h)).T\n",
        "  \n",
        "  return jacobian\n",
        "  \n",
        "  \n",
        "  \n",
        "  \n",
        "def newtonNLsystems(fun, initialPoint, h=0.1, tol= 1e-5):\n",
        "  '''\n",
        "  Solve the vector nonlinear system of equations f(x) = 0, where f(x) is the\n",
        "  vector function @fun.\n",
        "  The method used is Newton's method.\n",
        "  Parameters:\n",
        "  - fun: vector function \n",
        "  - point: starting guess for the iteration\n",
        "  - J (default= None): the Jacobian matrix of the vector function. It improves\n",
        "    algorithm performances.\n",
        "    - h (default = 0.1): dx used in computing the derivative\n",
        "  - tol (default= 1e-5): tolerance to stop the iterations\n",
        "  Output:\n",
        "  - x: point x such that f(x)=0\n",
        "  - residuals: vector containing all the residuals for each iteration\n",
        "  - iter: number of iterations for reaching the convergence\n",
        "  '''\n",
        "  if not callable(fun):\n",
        "    print('Error: impossible to continue! Parameter @fun is not callable()')\n",
        "    return None, None\n",
        "  \n",
        "  if not isinstance(initialPoint, np.ndarray):\n",
        "    intialPoint = np.array(initialPoint)\n",
        "    \n",
        "  x= initialPoint\n",
        "  k = 1\n",
        "  residuals= []\n",
        "  res= linalg.norm(fun(x))\n",
        "  residuals.append(res)\n",
        "  while res >= tol and k < 1000:                                      # res= |f(x)|\n",
        "    jac= jacobian(fun,x,h)\n",
        "    \n",
        "    b= - fun(x)\n",
        "    dx, _, _, _ = linalg.lstsq(jac, b, rcond=None)       # built-in function\n",
        "    x = x + dx                    \n",
        "    res= linalg.norm(fun(x))\n",
        "    residuals.append(res)\n",
        "    k+= 1\n",
        "    \n",
        "  return x, np.array(residuals), k"
      ],
      "execution_count": 0,
      "outputs": []
    },
    {
      "metadata": {
        "id": "gnO3lhAigLev",
        "colab_type": "text"
      },
      "cell_type": "markdown",
      "source": [
        "# **Introduction**"
      ]
    },
    {
      "metadata": {
        "id": "l5zMzgPlRAF6",
        "colab_type": "text"
      },
      "cell_type": "markdown",
      "source": [
        "Give a short description of the problem investigated in the report, and provide some background information so that the reader can understand the context. \n",
        "\n",
        "Briefly describe what method you have chosen to solve the problem, and justify why you selected that method. \n",
        "\n",
        "Here you can express mathematics through Latex syntax, and use hyperlinks for references.\n",
        "\n",
        "[Hyperlink to DD2363 course website.](https://kth.instructure.com/courses/7500)\n",
        "\n",
        "$\n",
        "{\\displaystyle \\frac{\\partial u}{\\partial t}} + u\\cdot \\nabla u +\\nabla p = f, \\quad \\nabla \\cdot u=0$\n",
        "\n"
      ]
    },
    {
      "metadata": {
        "id": "B3KAvlC7yLCk",
        "colab_type": "text"
      },
      "cell_type": "markdown",
      "source": [
        "#Mandatory assignment"
      ]
    },
    {
      "metadata": {
        "id": "WeFO9QMeUOAu",
        "colab_type": "text"
      },
      "cell_type": "markdown",
      "source": [
        "##Methods"
      ]
    },
    {
      "metadata": {
        "id": "zF4iBj5VURZx",
        "colab_type": "text"
      },
      "cell_type": "markdown",
      "source": [
        "###1. Time stepping for scalar initial value problem $du/dt= f(u,t)$\n",
        "\n",
        "Input: final time T, function f(u,t), initial value u(0)\n",
        "\n",
        "Output: approximation U(t_n) for the time interval $[0,T$] \n",
        "\n",
        "Test: verify accuracy and stability of chosen method "
      ]
    },
    {
      "metadata": {
        "id": "mFc97gj1w-EE",
        "colab_type": "code",
        "colab": {}
      },
      "cell_type": "code",
      "source": [
        "def odeSolver(T, odeFun, theta, u0, N):\n",
        "  \n",
        "  def stepFunction(ode,step,theta,u0,t0,u1,t1):\n",
        "    \n",
        "    # u1 is my variable x to be found\n",
        "    tmp= u0 + step*((1-theta) * ode(u1,t1) + theta * odeFun(u0,t0))\n",
        "    \n",
        "    if theta != 1:\n",
        "      tmp -= u1\n",
        "    \n",
        "    return tmp\n",
        "  \n",
        "  step= T/N\n",
        "  intervals= np.arange(0, T+step, step)\n",
        "  \n",
        "  U= np.zeros((len(intervals),1))\n",
        "  U[0]= u0\n",
        "  \n",
        "  for i in range(1,len(intervals)): \n",
        "    opt= [0 for _ in range(0,7)]\n",
        "    opt[0]= odeFun\n",
        "    opt[1]= step\n",
        "    opt[2]= theta\n",
        "    opt[3]= U[i-1][0]\n",
        "    opt[4]= intervals[i-1]\n",
        "    opt[5]= U[i-1][0]\n",
        "    opt[6]= intervals[i]\n",
        "    if theta != 1:\n",
        "      U[i]= newtonScalarNLeq(stepFunction, opt, h= 0.1, tol= 1e-5)[0]\n",
        "    else:\n",
        "      U[i]= U[i-1] + step * odeFun(U[i-1],intervals[i-1])\n",
        "  \n",
        "  #TODO: check of stability \n",
        "  \n",
        "  return intervals, U"
      ],
      "execution_count": 0,
      "outputs": []
    },
    {
      "metadata": {
        "id": "O1LY6xHSw-zq",
        "colab_type": "text"
      },
      "cell_type": "markdown",
      "source": [
        "###2. Time stepping for system of initial value problem $du/dt = f(u,t)$"
      ]
    },
    {
      "metadata": {
        "id": "bgBNeufSxQgF",
        "colab_type": "code",
        "colab": {}
      },
      "cell_type": "code",
      "source": [
        "def systemOdeSolver(T, odeSystem, theta, u0, N):\n",
        "  if not isinstance(u0,np.ndarray):\n",
        "    u0= np.array(u0)\n",
        "  \n",
        "  \n",
        "  step= T/N\n",
        "  x= np.arange(0, T+step, step)\n",
        "  \n",
        "  U= np.zeros((u0.shape[0],x.shape[0]))\n",
        "  U[:,0]= u0\n",
        "  \n",
        "  for i in range(1,len(x)):\n",
        "    U[:,i]= U[:,i-1] + step * odeSystem(U[:,i-1],x[i-1]).flatten()\n",
        "    \n",
        "  return x, U\n",
        " "
      ],
      "execution_count": 0,
      "outputs": []
    },
    {
      "metadata": {
        "id": "SsQLT38gVbn_",
        "colab_type": "text"
      },
      "cell_type": "markdown",
      "source": [
        "##Results"
      ]
    },
    {
      "metadata": {
        "id": "RLwlnOzuV-Cd",
        "colab_type": "text"
      },
      "cell_type": "markdown",
      "source": [
        "###1. Time stepping for scalar initial value problem $du/dt = f(u,t)$"
      ]
    },
    {
      "metadata": {
        "id": "AyS_ONrYxn87",
        "colab_type": "code",
        "outputId": "ea2235bd-1f81-4ac5-c1a1-bb3342ce1077",
        "colab": {
          "base_uri": "https://localhost:8080/",
          "height": 753
        }
      },
      "cell_type": "code",
      "source": [
        "def fun(t):\n",
        "  return np.e**(-np.sin(t))\n",
        "\n",
        "def odeFun(u,t):\n",
        "  return -u*np.cos(t)\n",
        "    \n",
        "\n",
        "theta= 1\n",
        "u0= 1\n",
        "T= 5\n",
        "\n",
        "x, y= odeSolver(T,odeFun,theta,u0,100)\n",
        "\n",
        "\n",
        "plt.figure()\n",
        "plt.plot(x,y)\n",
        "\n",
        "y_true= [fun(t) for t in x]\n",
        "plt.plot(x, y_true)\n",
        "plt.legend(('ode','true'))\n",
        "plt.show()\n",
        "\n",
        "print('####################################################')\n",
        "print('####################################################')\n",
        "print('####################################################')\n",
        "\n",
        "def odeFun(u,t):\n",
        "  return 1/(u*(t+1))\n",
        "\n",
        "def fun(t):\n",
        "  return np.sqrt(2*np.log(t+1)+1)\n",
        "\n",
        "theta= 0.5\n",
        "u0= 1\n",
        "T= 5\n",
        "\n",
        "x, y= odeSolver(T,odeFun,theta,u0,100)\n",
        "\n",
        "\n",
        "plt.figure()\n",
        "plt.plot(x,y)\n",
        "\n",
        "y_true= [fun(t) for t in x]\n",
        "plt.plot(x, y_true)\n",
        "plt.legend(('ode','true'))\n",
        "plt.show()\n"
      ],
      "execution_count": 6,
      "outputs": [
        {
          "output_type": "display_data",
          "data": {
            "image/png": "[encoded data removed]",
            "text/plain": [
              "<Figure size 576x396 with 1 Axes>"
            ]
          },
          "metadata": {
            "tags": []
          }
        },
        {
          "output_type": "stream",
          "text": [
            "####################################################\n",
            "####################################################\n",
            "####################################################\n"
          ],
          "name": "stdout"
        },
        {
          "output_type": "display_data",
          "data": {
            "image/png": "[encoded data removed]",
            "text/plain": [
              "<Figure size 576x396 with 1 Axes>"
            ]
          },
          "metadata": {
            "tags": []
          }
        }
      ]
    },
    {
      "metadata": {
        "id": "Uc_h0tX3xoeB",
        "colab_type": "text"
      },
      "cell_type": "markdown",
      "source": [
        "###2. Time stepping for system of initial value problems $du/dt = f(u,t)"
      ]
    },
    {
      "metadata": {
        "id": "Xt40osa-zhs7",
        "colab_type": "code",
        "colab": {
          "base_uri": "https://localhost:8080/",
          "height": 347
        },
        "outputId": "84348d95-57f5-4d34-d875-3643068ffa5b"
      },
      "cell_type": "code",
      "source": [
        "def systemOdeFun(varVect,t):\n",
        "  x1= varVect[0]\n",
        "  x2= varVect[1]\n",
        "  x3= varVect[2]\n",
        "  fun1= 3*x1 + t\n",
        "  fun2= x2 + 1\n",
        "  fun3= x2 + x3\n",
        "  \n",
        "  vect= np.array( [[fun1],\n",
        "                   [fun2],\n",
        "                   [fun3]] )\n",
        "  \n",
        "  return vect\n",
        "\n",
        "def systemFun(t):\n",
        "  x1= (1/9)*np.e**(3*t) - (1/3)*t - (1/9)\n",
        "  x2= np.e**t - 1\n",
        "  x3= (t-1)*np.e**t + 1\n",
        "  \n",
        "  return x1, x2, x3\n",
        "\n",
        "U0= [0, 0, 0]\n",
        "x,U= systemOdeSolver(1, systemOdeFun, None, U0, 200)\n",
        "\n",
        "U1, U2, U3= systemFun(x)\n",
        "\n",
        "\n",
        "plt.figure()\n",
        "plt.plot(x,U[0,:], '--')\n",
        "plt.plot(x,U[1,:], '--')\n",
        "plt.plot(x,U[2,:], '--')\n",
        "plt.plot(x,U1)\n",
        "plt.plot(x,U2)\n",
        "plt.plot(x,U3)\n",
        "\n",
        "plt.legend(['x1', 'x2', 'x3'])\n",
        "plt.show()"
      ],
      "execution_count": 7,
      "outputs": [
        {
          "output_type": "display_data",
          "data": {
            "image/png": "[encoded data removed]",
            "text/plain": [
              "<Figure size 576x396 with 1 Axes>"
            ]
          },
          "metadata": {
            "tags": []
          }
        }
      ]
    },
    {
      "metadata": {
        "id": "_4GLBv0zWr7m",
        "colab_type": "text"
      },
      "cell_type": "markdown",
      "source": [
        "##Discussion"
      ]
    },
    {
      "metadata": {
        "id": "6bcsDSoRXHZe",
        "colab_type": "text"
      },
      "cell_type": "markdown",
      "source": [
        "Summarize your results and your conclusions. Were the results expected or surprising. Do your results have implications outside the particular problem investigated in this report? "
      ]
    },
    {
      "metadata": {
        "id": "1vcIILuQYsEA",
        "colab_type": "text"
      },
      "cell_type": "markdown",
      "source": [
        "##References"
      ]
    },
    {
      "metadata": {
        "id": "NlJ-Y9KAYt4Z",
        "colab_type": "text"
      },
      "cell_type": "markdown",
      "source": [
        "In this appendix some examples are given to express and visualizing mathematical concepts such as vectors, matrices, meshes and functions. \n",
        "\n",
        "This is not part of the template report for the course."
      ]
    },
    {
      "metadata": {
        "id": "iOnDJyUNywWA",
        "colab_type": "text"
      },
      "cell_type": "markdown",
      "source": [
        "#Extra assignment"
      ]
    },
    {
      "metadata": {
        "id": "8SBorMmFy23y",
        "colab_type": "text"
      },
      "cell_type": "markdown",
      "source": [
        "##Introduction"
      ]
    },
    {
      "metadata": {
        "id": "0kDtgSTDy5H8",
        "colab_type": "text"
      },
      "cell_type": "markdown",
      "source": [
        "##Method"
      ]
    },
    {
      "metadata": {
        "id": "WLFT4S9hzIMp",
        "colab_type": "code",
        "colab": {}
      },
      "cell_type": "code",
      "source": [
        ""
      ],
      "execution_count": 0,
      "outputs": []
    },
    {
      "metadata": {
        "id": "1DHtt6VNy8gH",
        "colab_type": "text"
      },
      "cell_type": "markdown",
      "source": [
        "##Results"
      ]
    },
    {
      "metadata": {
        "id": "2SkMDLdZzIw-",
        "colab_type": "code",
        "colab": {}
      },
      "cell_type": "code",
      "source": [
        ""
      ],
      "execution_count": 0,
      "outputs": []
    },
    {
      "metadata": {
        "id": "1dxMvSCkzFqj",
        "colab_type": "text"
      },
      "cell_type": "markdown",
      "source": [
        "##Discussion"
      ]
    }
  ]
}