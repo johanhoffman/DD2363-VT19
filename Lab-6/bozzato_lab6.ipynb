{
  "nbformat": 4,
  "nbformat_minor": 0,
  "metadata": {
    "colab": {
      "name": "template-report-lab-X.ipynb",
      "version": "0.3.2",
      "provenance": [],
      "include_colab_link": true
    },
    "kernelspec": {
      "name": "python3",
      "display_name": "Python 3"
    }
  },
  "cells": [
    {
      "cell_type": "markdown",
      "metadata": {
        "id": "view-in-github",
        "colab_type": "text"
      },
      "source": [
        "<a href=\"https://colab.research.google.com/github/johanhoffman/DD2363-VT19/blob/bozzato/Lab-6/bozzato_lab6.ipynb\" target=\"_parent\"><img src=\"https://colab.research.google.com/assets/colab-badge.svg\" alt=\"Open In Colab\"/></a>"
      ]
    },
    {
      "metadata": {
        "id": "6RgtXlfYO_i7",
        "colab_type": "text"
      },
      "cell_type": "markdown",
      "source": [
        "# **Lab 6: Partial differential equation**\n",
        "**Bozzato Federico**"
      ]
    },
    {
      "metadata": {
        "id": "9x_J5FVuPzbm",
        "colab_type": "text"
      },
      "cell_type": "markdown",
      "source": [
        "# **Abstract**"
      ]
    },
    {
      "metadata": {
        "id": "6UFTSzW7P8kL",
        "colab_type": "text"
      },
      "cell_type": "markdown",
      "source": [
        "In the previous lab, we have talked about the initial value problem for which we have provided approximation tools. In this lab, instead, we will analyze a different problem involving differential equations: the boundary value problem both in one and two dimensions."
      ]
    },
    {
      "metadata": {
        "id": "OkT8J7uOWpT3",
        "colab_type": "text"
      },
      "cell_type": "markdown",
      "source": [
        "#**About the code**"
      ]
    },
    {
      "metadata": {
        "id": "HmB2noTr1Oyo",
        "colab_type": "text"
      },
      "cell_type": "markdown",
      "source": [
        "**Author:** Federico Bozzato"
      ]
    },
    {
      "metadata": {
        "id": "Pdll1Xc9WP0e",
        "colab_type": "code",
        "outputId": "5ba88bd0-469b-4a9d-fbbe-e8e5d36ac890",
        "colab": {
          "base_uri": "https://localhost:8080/",
          "height": 34
        }
      },
      "cell_type": "code",
      "source": [
        "\"\"\"This program is a template for lab reports in the course\"\"\"\n",
        "\"\"\"DD2363 Methods in Scientific Computing, \"\"\"\n",
        "\"\"\"KTH Royal Institute of Technology, Stockholm, Sweden.\"\"\"\n",
        "\n",
        "# Copyright (C) 2019 Johan Hoffman (jhoffman@kth.se)\n",
        "\n",
        "# This file is part of the course DD2363 Methods in Scientific Computing\n",
        "# KTH Royal Institute of Technology, Stockholm, Sweden\n",
        "#\n",
        "# This is free software: you can redistribute it and/or modify\n",
        "# it under the terms of the GNU Lesser General Public License as published by\n",
        "# the Free Software Foundation, either version 3 of the License, or\n",
        "# (at your option) any later version.\n",
        "\n",
        "# This template is maintained by Johan Hoffman\n",
        "# Please report problems to jhoffman@kth.se"
      ],
      "execution_count": 1,
      "outputs": [
        {
          "output_type": "execute_result",
          "data": {
            "text/plain": [
              "'KTH Royal Institute of Technology, Stockholm, Sweden.'"
            ]
          },
          "metadata": {
            "tags": []
          },
          "execution_count": 1
        }
      ]
    },
    {
      "metadata": {
        "id": "28xLGz8JX3Hh",
        "colab_type": "text"
      },
      "cell_type": "markdown",
      "source": [
        "# **Set up environment**"
      ]
    },
    {
      "metadata": {
        "id": "D2PYNusD08Wa",
        "colab_type": "text"
      },
      "cell_type": "markdown",
      "source": [
        "To have access to the neccessary modules you have to run this cell. If you need additional modules, this is where you add them. "
      ]
    },
    {
      "metadata": {
        "id": "Xw7VlErAX7NS",
        "colab_type": "code",
        "colab": {}
      },
      "cell_type": "code",
      "source": [
        "# Load neccessary modules.\n",
        "from google.colab import files\n",
        "\n",
        "import time\n",
        "\n",
        "import numpy as np\n",
        "from numpy import linalg as la\n",
        "\n",
        "from matplotlib import tri\n",
        "from matplotlib import pyplot as plt\n",
        "\n",
        "from matplotlib import axes\n",
        "from mpl_toolkits.mplot3d import Axes3D"
      ],
      "execution_count": 0,
      "outputs": []
    },
    {
      "metadata": {
        "id": "gnO3lhAigLev",
        "colab_type": "text"
      },
      "cell_type": "markdown",
      "source": [
        "# **Introduction**"
      ]
    },
    {
      "metadata": {
        "id": "l5zMzgPlRAF6",
        "colab_type": "text"
      },
      "cell_type": "markdown",
      "source": [
        "The boundary value problem is an ordinary differential equation where boundary conditions are specified at the boundaries of the domain where the problem is given [1]. If the problem is posed in one dimension, the boundaries are the ends of an interval; while, instead, if the the problem is posed in two or more dimensions, the boundaries could be either a curve, or a superface or even a volume.\n",
        "\n",
        "This report is divided into three parts:\n",
        "1. Methods: in this section, each algorithm is presented and explained, giving also the mathematic definition of the operation the algorithm implements.\n",
        "\n",
        "2. Results: in this section, the results of each algorithm are presented.\n",
        "\n",
        "3. Discussion: in this last section, results are discussed.\n",
        "\n"
      ]
    },
    {
      "metadata": {
        "id": "WeFO9QMeUOAu",
        "colab_type": "text"
      },
      "cell_type": "markdown",
      "source": [
        "#Methods\n",
        "\n",
        "This section is divided into two subsection: the mandatory part and the extra assignment."
      ]
    },
    {
      "metadata": {
        "id": "rsgQw_rbGs_0",
        "colab_type": "text"
      },
      "cell_type": "markdown",
      "source": [
        "##Mandatory assignment"
      ]
    },
    {
      "metadata": {
        "id": "JmY5gxMcHFUf",
        "colab_type": "text"
      },
      "cell_type": "markdown",
      "source": [
        "###1. FEM for 1D boundary value problem $-u''(x) = f(x)$ with $u(0)=u(1)=0$\n",
        "\n",
        "####Definition\n",
        "The boundary value problem (bvp for short) is defined as\n",
        "\n",
        ">$\n",
        "  \\begin{cases}\n",
        "    -u''(x)=f(x),    \\quad  x\\in(a,b) \\\\\n",
        "    u(a)= \\alpha \\\\\n",
        "    u(b)=\\beta\n",
        "  \\end{cases}\n",
        "$\n",
        "\n",
        "where $f(x)\\in\\mathcal{C}([a,b])$, and $u(a)=\\alpha$ and $u(b)= \\beta$ are the boundary conditions. Since the boundary conditions involve the function $u$ itself, they are named *Dirichlet boundary condition* [1].\n",
        "\n",
        "####Solution\n",
        "We are now interested in how to find an approximation to the bvp defined as above. One way is to define a mesh dividing the interval $I=[a,b]$ into $M$ nodes, that is\n",
        "\n",
        ">$\n",
        "a=x_0 < x_1 < \\dots < x_{m+1}=b\n",
        "$\n",
        "\n",
        "Now, we know that the first and second order derivatives are defined as\n",
        "\n",
        ">$\n",
        "\\begin{align}\n",
        "  \\dfrac{du(x)}{dx}&= \\lim_{h\\to0} \\dfrac{u(x+h)-u(x-h)}{2h} \\\\\n",
        "  \\dfrac{d^2u(x)}{dx^2}&=\\lim_{h\\to0} \\dfrac{u(x-h) -2u(x) + u(x+h)}{h^2}\n",
        "\\end{align}\n",
        "$\n",
        "\n",
        "Given $u_i$, which is the approximation of $u(x)$ at the point $x_i$ of the mesh, the second order derivative can be rewritten as the following [2]:\n",
        "\n",
        ">$\n",
        "  -u''(x_i)= \\dfrac{u_{i-1} - 2u_i + u_{i+1}}{h_i^2}\n",
        "$\n",
        "\n",
        "where the distance between two consecutive mesh nodes is $h_i$. As we can notice, the approximated second order derivative is defined only for the internal nodes of the mesh, because if we take the intial point $x_0$, no $u_{-1}$ is defined.\n",
        "\n",
        "Now, we are ready to rewrite the bvp as the following system:\n",
        "\n",
        ">$\n",
        "\\begin{cases}\n",
        "  \\dfrac{u_{0} - 2u_1 + u_{2}}{h_1^2} = f(x_1) \\\\\n",
        "  \\qquad \\quad \\vdots \\\\\n",
        "  \\dfrac{u_{i-1} - 2u_i + u_{i+1}}{h_1^2} = f(x_i) \\\\\n",
        "  \\qquad \\quad \\vdots \\\\\n",
        "  \\dfrac{u_{m-1} - 2u_m + u_{m+1}}{h_1^2} = f(x_m) \n",
        "\\end{cases}\n",
        "$\n",
        "\n",
        "where the $f(x_i)$ is the value of $f$ evaluated at the $i$-th node $x_i$ of the mesh.\n",
        "\n",
        "As we can notice, the first members of the first and last equations in the above system are different from the others, because they contain the boundary values $u_0$ and $u_{m+1}$, which can be moved to the rightside of the equation. Thus, the final form of the above system will be\n",
        "\n",
        ">$\n",
        "\\begin{cases}\n",
        "  \\dfrac{ - 2u_1 + u_{2}}{h_1^2} = f(x_1) - \\dfrac{u_0}{h_1^2} = f(x_1) - \\dfrac{\\alpha}{h_1^2}\\\\\n",
        "  \\qquad \\quad \\vdots \\\\\n",
        "  \\dfrac{u_{i-1} - 2u_i + u_{i+1}}{h_i^2} = f(x_i) \\\\\n",
        "  \\qquad \\quad \\vdots \\\\\n",
        "  \\dfrac{u_{m-1} - 2u_m}{h_m^2} = f(x_m) - \\dfrac{u_{m+1}}{h_m^2}=f(x_m) - \\dfrac{\\beta}{h_m^2}\\\\\n",
        "\\end{cases}\n",
        "$\n",
        "\n",
        "The system can be rewritten in the following way:\n",
        "\n",
        ">$\n",
        "Sx=b \\quad \\Longleftrightarrow \\quad \\begin{pmatrix}\n",
        "  -\\dfrac{2}{h_1^2} & \\dfrac{1}{h_1^2} & 0  & 0& \\dots & 0 \\\\\n",
        "  \\dfrac{1}{h_2^2} & \\ddots & \\ddots & 0  & \\dots & 0 \\\\\n",
        "  0 & \\ddots & \\ddots &\\ddots & 0 & 0 \\\\\n",
        "  \\vdots   & 0 & \\ddots & \\ddots &\\ddots & 0\\\\\n",
        "  \\vdots  &\\vdots & 0 & \\ddots & \\ddots & \\dfrac{1}{h_{m-1}^2}\\\\\n",
        "  0 & 0 & 0 & 0 & \\dfrac{1}{h_m^2} & -\\dfrac{2}{h_m^2}\n",
        "\\end{pmatrix} \\begin{pmatrix}\n",
        "u_1 \\\\\n",
        "u_2 \\\\\n",
        "u_3 \\\\\n",
        "\\vdots \\\\\n",
        "u_{m}\n",
        "\\end{pmatrix} = \\begin{pmatrix}\n",
        "f(x_1) - \\dfrac{\\alpha}{h^2_1} \\\\\n",
        "f(x_2) \\\\\n",
        "f(x_3) \\\\\n",
        "\\vdots \\\\\n",
        "f(x_m) - \\dfrac{\\beta}{h_m^2}\n",
        "\\end{pmatrix}\n",
        "$\n",
        "\n",
        "where $S\\in\\mathbb{R}^{m\\times m}$ is the stiffness matrix, $b\\in\\mathbb{R}^m$ is the load vector and $x\\in\\mathbb{R}^m$ is the solution vector of $\\{u(x_i)\\}_{i=1}^M$.\n",
        "\n",
        "####Implementation\n",
        "The implementation follows step by step what has been explained in the previous paragraph and it can be summarized in the following steps:\n",
        "\n",
        "1. calculate the length $h_i$ of each subinterval in the mesh;\n",
        "2. calculate the stiffness matrix $S$;\n",
        "3. calculate the load vector $b$;\n",
        "4. add the boundary conditions to the load vector;\n",
        "5. calculate the solution vector $x$ of the system $Sx=b$ with least squares;\n",
        "6. add the values at the ends for the complete solution."
      ]
    },
    {
      "metadata": {
        "id": "pn4Jn3bZC4PZ",
        "colab_type": "code",
        "colab": {}
      },
      "cell_type": "code",
      "source": [
        "def bvp1d(fun, mesh, ua, ub):\n",
        "  '''\n",
        "  Solves the one dimensional boundary value problem -u''(x)= fun, with u(a)= ua\n",
        "  and u(b)= ub over the mesh which discretizes the interval [a,b].\n",
        "  Parameters:\n",
        "  - fun: one variable function\n",
        "  - mesh: mesh discritizing the interval [a,b]\n",
        "  - ua: boundary condition at the point a\n",
        "  - ub: boundary condition at the point b\n",
        "  Output:\n",
        "  - S: stiffness matrix\n",
        "  - b: load vector\n",
        "  - x: approximate solution of the bvp -u''(x)= fun\n",
        "  '''\n",
        "  if not isinstance(mesh, np.ndarray):\n",
        "    mesh= np.array(mesh)\n",
        "    \n",
        "  n= mesh.shape[0]\n",
        "  h= mesh[1:] - mesh[:-1]                     # vector of all the lengths\n",
        "  inNodes= n-2                                # inNodes= number of inner nodes\n",
        "  \n",
        "    \n",
        "  ############################\n",
        "  ###   STIFFNESS MATRIX   ###\n",
        "  ############################\n",
        "  S= np.zeros((inNodes,inNodes))              # S is defined only for the internal\n",
        "                                              # nodes\n",
        "  S[0,0]= 1/h[0]**2\n",
        "  S[-1,-1]= 1/h[-1]**2\n",
        "  \n",
        "  for i in range(0,inNodes-1):\n",
        "    S[i,i]+= 1/h[i]**2\n",
        "    S[i+1,i]= -1/h[i]**2\n",
        "    S[i,i+1]= -1/h[i]**2\n",
        "    S[i+1,i+1]+= 1/h[i]**2\n",
        "    \n",
        "  ############################\n",
        "  #####   LOAD  FACTOR   #####     \n",
        "  ############################\n",
        "  b= np.zeros((inNodes,1))\n",
        "  b[0]= ua/(h[0]**2)\n",
        "  b[-1]= ub/(h[-1]**2)\n",
        "  \n",
        "  for k in range(1,n-1):\n",
        "    b[k-1]+= - fun(mesh[k])                   # here the bvp is u''(x) = - fun\n",
        "     \n",
        "  ############################\n",
        "  ###       SOLUTION       ###        \n",
        "  ############################\n",
        "  _x= la.lstsq(S,b,rcond=None)[0]\n",
        "  \n",
        "  x= np.zeros((n,1))                          # update the solution with the contraints\n",
        "  x[0]= ua\n",
        "  x[1:n-1]= _x\n",
        "  x[-1]= ub\n",
        "    \n",
        "  return S, b, x"
      ],
      "execution_count": 0,
      "outputs": []
    },
    {
      "metadata": {
        "id": "TIocBq-AGwGG",
        "colab_type": "text"
      },
      "cell_type": "markdown",
      "source": [
        "##Extra assignment"
      ]
    },
    {
      "metadata": {
        "id": "jjLlfWVZKB_A",
        "colab_type": "text"
      },
      "cell_type": "markdown",
      "source": [
        "###2. Function: FEM for 2D Poisson equation -Delta u(x) = f(x), with triangular mesh"
      ]
    },
    {
      "metadata": {
        "id": "PZEDeopH0aUb",
        "colab_type": "code",
        "colab": {}
      },
      "cell_type": "code",
      "source": [
        "def generateU0(mesh, meshSize, fun):\n",
        "  '''\n",
        "  Generates the values of the function @fun at the boundaries of the mesh @mesh \n",
        "  of size @meshSize\n",
        "  Parameters:\n",
        "  - mesh: mesh which is the discretization of the domain\n",
        "  - meshSize: size of the mesh (along x and along y)\n",
        "  - fun: function for which boundary values are wanted\n",
        "  Output:\n",
        "  - u0: vector of two columns. The first column is the index of the boundary node\n",
        "  and the second column is the value of the function @fun evaluated in the boundaries\n",
        "  '''\n",
        "  \n",
        "  x= mesh.x\n",
        "  y= mesh.y\n",
        "  Nx= meshSize[0]\n",
        "  Ny= meshSize[1]\n",
        "  \n",
        "  nodes= []\n",
        "  for row in range(0,Ny):\n",
        "    if row == 0 or row == Ny-1:\n",
        "      for col in range(0,Nx):\n",
        "        nodes.append(col+ row*Nx)\n",
        "    else:\n",
        "      nodes.append(row*(meshSize[0]))\n",
        "      nodes.append(row*(meshSize[0]) + meshSize[0]-1)\n",
        "      \n",
        "  u0= np.zeros((len(nodes),2))\n",
        "  u0[:,0]= nodes\n",
        "\n",
        "  index= 0\n",
        "  for n in nodes:\n",
        "    u0[index,1]= fun(mesh.x[n],mesh.y[n])\n",
        "    index+= 1\n",
        "  \n",
        "  return u0  \n",
        "\n",
        "\n",
        "\n",
        "def quadrature(fun, x0, x1, x2):\n",
        "  '''\n",
        "  Calculates the bi-dimensional integral of the function @fun over the triangle of\n",
        "  vertices @x0, @x1 and @x2\n",
        "  Parameters:\n",
        "  - fun: function for which the integral is wanted\n",
        "  - x0: list of 2d coordinates of the first vertex of the triangle\n",
        "  - x1: list of 2d coordinates of the second vertex of the triangle\n",
        "  - x2: list of 2d coordinates of the third vertex of the triangle\n",
        "  Output:\n",
        "  - integral: scalar value of the integral \n",
        "  '''\n",
        "  F= np.array([ [x1[0]-x0[0], x2[0]-x0[0]],\n",
        "                [x1[1]-x0[1], x2[1]-x0[1]] ])\n",
        "    \n",
        "  c= np.array([ [x0[0]],\n",
        "                [x0[1]] ])\n",
        "  \n",
        "  ref= np.array([ [1/3], \n",
        "                  [1/3] ])\n",
        "      \n",
        "  new_ref= np.dot(F,ref) + c\n",
        "  \n",
        "  return fun(new_ref)*abs(la.det(F))/2\n",
        "\n",
        "\n",
        "\n",
        "def isBoundary(v, u0):\n",
        "  '''\n",
        "  Returns True if v is a boundary vertex, False otherwise.\n",
        "  Parameters:\n",
        "  - v: vertex of the mesh\n",
        "  - u0: list of boundary condition generated by @generateU0\n",
        "  Output:\n",
        "  - Look at the description\n",
        "  '''\n",
        "  return v in u0[:,0]\n",
        "\n",
        "\n",
        "\n",
        "def fromVertexToCoordinates(mesh, v):\n",
        "  '''\n",
        "  Gives the coordinates in the mesh @mesh of the vertex @v.\n",
        "  Paramaters:\n",
        "  - mesh: mesh which is the discretization of the domain\n",
        "  - v: vertex for which the coordinates are desired\n",
        "  Output:\n",
        "  - coord: 2d coordinates of the vertex \n",
        "  '''\n",
        "  return [mesh.x[v], mesh.y[v]]\n",
        "\n",
        "\n",
        "\n",
        "def loc2glob(inner, v):\n",
        "  '''\n",
        "  Maps the local index of the vertex @v into the global coordinates\n",
        "  Parameters:\n",
        "  - inner: list of internal nodes\n",
        "  - v: vertex for which the global index is wanted\n",
        "  Output:\n",
        "  - glob: global index\n",
        "  '''\n",
        "  return np.where(inner == v)[0][0]\n",
        "\n",
        "\n",
        "\n",
        "def verticesSorter(mesh, triangle):\n",
        "  '''\n",
        "  Sorts the vertices of the triangle @triangle so that the first vertex corresponds\n",
        "  to the right angle. \n",
        "  Parameters:\n",
        "  - mesh: mesh which is the discretization of the domain\n",
        "  - triangle: list of vertices to sort\n",
        "  Output:\n",
        "  - newTriangle: list of sorted vertices\n",
        "  '''\n",
        "  x0= fromVertexToCoordinates(mesh, triangle[0])\n",
        "  x1= fromVertexToCoordinates(mesh, triangle[1])\n",
        "  x2= fromVertexToCoordinates(mesh, triangle[2])\n",
        "\n",
        "  x0= np.array(x0)\n",
        "  x1= np.array(x1)\n",
        "  x2= np.array(x2)\n",
        "\n",
        "  new_v0= 0\n",
        "  new_v1= 0\n",
        "  new_v2= 0\n",
        "  if np.isclose(la.norm(x1-x2), 2**(0.5)*la.norm(x0-x1)):      # || x1-x2 || == sqrt(2) * || x0-x1 || ?\n",
        "    new_v0= triangle[0]\n",
        "    new_v1= triangle[1]\n",
        "    new_v2= triangle[2]\n",
        "  elif np.isclose(la.norm(x0-x2), 2**(0.5)*la.norm(x1-x2)):    # || x0-x2 || == sqrt(2) * || x1-x2 || ?\n",
        "    new_v0= triangle[1]\n",
        "    new_v1= triangle[2]\n",
        "    new_v2= triangle[0]\n",
        "  else:                                                        # || x0-x1 || == sqrt(2) * || x2-x0 || ?\n",
        "    new_v0= triangle[2]\n",
        "    new_v1= triangle[0]\n",
        "    new_v2= triangle[1]\n",
        "\n",
        "  return [new_v0, new_v1, new_v2]\n",
        "\n",
        "\n",
        "\n",
        "def addBoundariesToSolution(meshSize, _x, nodes, u0):\n",
        "  '''\n",
        "  Assembles the complete solution of the boundary value problem defined over a \n",
        "  triangular mesh of size @meshSize\n",
        "  Parameters:\n",
        "  - meshSize: size of the mesh (along x and along y)\n",
        "  - _x: list of the approximated solution in the internal nodes of the mesh\n",
        "  - nodes: internal nodes of the mesh\n",
        "  - u0: boundary constraints generated by @generateU0\n",
        "  Output:\n",
        "  - x: complete solution of the boundary value problem\n",
        "  '''\n",
        "  Nx= meshSize[0]\n",
        "  Ny= meshSize[1]\n",
        "  x= np.zeros((Nx*Ny,1))\n",
        "\n",
        "  for i in range(Nx*Ny):\n",
        "    if i in u0[:,0]:\n",
        "      ind= np.where(u0[:,0] == i)[0][0]\n",
        "      x[i]= u0[ind,1]\n",
        "    else:\n",
        "      ind= np.where(nodes == i)[0][0]\n",
        "      x[i]= _x[ind]\n",
        "      \n",
        "  return x"
      ],
      "execution_count": 0,
      "outputs": []
    },
    {
      "metadata": {
        "id": "l-vp2Bu14ZnP",
        "colab_type": "code",
        "colab": {}
      },
      "cell_type": "code",
      "source": [
        "def bvp2d(fun, mesh, meshSize, u0):\n",
        "  \n",
        "  def internalNodes():\n",
        "    Nx= meshSize[0]\n",
        "    Ny= meshSize[1]\n",
        "    \n",
        "    n= []\n",
        "    for v in range(0,Nx*Ny):\n",
        "      if not isBoundary(v, u0):\n",
        "        n.append(v)\n",
        "\n",
        "    return np.array(n)\n",
        "    \n",
        "    \n",
        "    \n",
        "    \n",
        "  def stiffnessAssembler(mini_stiffness):\n",
        "    S= np.zeros((nInnerNodes,nInnerNodes))                      # global stiffness matrix\n",
        "    for k in range(0, triangles.shape[0]):\n",
        "      tr= verticesSorter(mesh, triangles[k,:])               # REMEMBER: tr[:,0]= x0, tr[:,1]= x1, tr[:,2]= x2\n",
        "\n",
        "      for i in range(3):\n",
        "        for j in range(3):\n",
        "          if (not isBoundary(tr[i], u0)) and (not isBoundary(tr[j], u0)):         \n",
        "            ind0= loc2glob(nodes, tr[i])\n",
        "            ind1= loc2glob(nodes, tr[j])\n",
        "\n",
        "            S[ind0, ind1]+= mini_stiffness[i,j]\n",
        "    \n",
        "    return S\n",
        "  \n",
        "  \n",
        "  \n",
        "  def loadAssembler():\n",
        "    b= np.zeros((nInnerNodes,1))\n",
        "    for k in range(0, triangles.shape[0]):\n",
        "      tr= verticesSorter(mesh, triangles[k,:])               # REMEMBER: tr[:,0]= x0, tr[:,1]= x1, tr[:,2]= x2\n",
        "\n",
        "\n",
        "      # load factor assembly\n",
        "      v0= fromVertexToCoordinates(mesh, tr[0])\n",
        "      v1= fromVertexToCoordinates(mesh, tr[1])\n",
        "      v2= fromVertexToCoordinates(mesh, tr[2])\n",
        "\n",
        "      if not isBoundary(tr[0], u0):\n",
        "        index= loc2glob(nodes, tr[0])\n",
        "        b[index]+= quadrature(fun, v0, v1, v2)\n",
        "\n",
        "      if not isBoundary(tr[1], u0):\n",
        "        index= loc2glob(nodes, tr[1])\n",
        "        b[index]+= quadrature(fun, v0, v1, v2)\n",
        "\n",
        "      if not isBoundary(tr[2], u0):\n",
        "        index= loc2glob(nodes, tr[2])\n",
        "        b[index]+= quadrature(fun, v0, v1, v2)\n",
        "        \n",
        "    return b\n",
        "  \n",
        "  \n",
        "  #################################\n",
        "  if not isinstance(u0,np.ndarray):\n",
        "    u0= np.array(u0)\n",
        "    \n",
        "  x= mesh.x\n",
        "  y= mesh.y\n",
        "\n",
        "  h_x= max(x[1:] - x[:-1])\n",
        "  h_y= max(y[1:] - y[:-1])\n",
        "\n",
        "  s00= 1/h_x**2 + 1/h_y**2\n",
        "  s01= -1/h_x**2\n",
        "  s02= -1/h_y**2\n",
        "  s11= 1/h_x**2\n",
        "  s12= 0\n",
        "  s22= 1/h_y**2\n",
        "\n",
        "  mini_stiffness= np.array( [[s00, s01, s02],\n",
        "                             [s01, s11, s12],\n",
        "                             [s02, s12, s22]] )         # stiffness matrix for \n",
        "                                                        # the reference triangle\n",
        "    \n",
        "  Nx= meshSize[0]\n",
        "  Ny= meshSize[1]\n",
        "    \n",
        "  nInnerNodes= (Nx-2)*(Ny-2)\n",
        "  nodes= internalNodes()                                # internal nodes\n",
        "  \n",
        "  triangles= mesh.triangles    \n",
        "  \n",
        "  S= stiffnessAssembler(mini_stiffness)\n",
        "  b= loadAssembler()\n",
        "  \n",
        "  # solution\n",
        "  _x= la.lstsq(S,b,rcond=None)[0]\n",
        "  \n",
        "  x= addBoundariesToSolution(meshSize, _x, nodes, u0)\n",
        "    \n",
        "  return mini_stiffness, S, b, x.flatten()"
      ],
      "execution_count": 0,
      "outputs": []
    },
    {
      "metadata": {
        "id": "SsQLT38gVbn_",
        "colab_type": "text"
      },
      "cell_type": "markdown",
      "source": [
        "# **Results**"
      ]
    },
    {
      "metadata": {
        "id": "RLwlnOzuV-Cd",
        "colab_type": "text"
      },
      "cell_type": "markdown",
      "source": [
        "Present the results. If the result is an algorithm that you have described under the *Methods* section, you can present the data from verification and performance tests in this section. If the result is the output from a computational experiment this is where you present a selection of that data. "
      ]
    },
    {
      "metadata": {
        "id": "oETeYqiS8ABt",
        "colab_type": "code",
        "outputId": "dd946b21-7bb0-431a-b446-6e190cf3c2bb",
        "colab": {
          "base_uri": "https://localhost:8080/",
          "height": 781
        }
      },
      "cell_type": "code",
      "source": [
        "def fun(x):\n",
        "\te= np.e\n",
        "\tC1= -e/(e**2-1)\n",
        "\tC2= -C1\n",
        "\treturn C1*np.e**(-x)+C2*np.e**x\n",
        "\n",
        "mesh= np.array([x/10 for x in range(11)])         # mesh= [ 0, pi/4, pi/2, 3*pi/4, pi ]\n",
        "print(mesh)\n",
        "\n",
        "fsec= lambda x : x                                 # bvp: u''= -x with u(0)=u(pi)=0\n",
        "\n",
        "\n",
        "S, b, x= bvp1d(fsec, mesh, fun(0), fun(1))\n",
        "print('S=\\n',S)\n",
        "print('b=\\n',b.T)\n",
        "print('x=\\n',x)\n",
        "\n",
        "plt.figure()\n",
        "plt.plot(mesh,x)\n",
        "plt.plot(mesh,fun(mesh))\n",
        "plt.legend(['approximated solution', 'analytical solution'])\n",
        "plt.show()"
      ],
      "execution_count": 6,
      "outputs": [
        {
          "output_type": "stream",
          "text": [
            "[0.  0.1 0.2 0.3 0.4 0.5 0.6 0.7 0.8 0.9 1. ]\n",
            "S=\n",
            " [[ 200. -100.    0.    0.    0.    0.    0.    0.    0.]\n",
            " [-100.  200. -100.    0.    0.    0.    0.    0.    0.]\n",
            " [   0. -100.  200. -100.    0.    0.    0.    0.    0.]\n",
            " [   0.    0. -100.  200. -100.    0.    0.    0.    0.]\n",
            " [   0.    0.    0. -100.  200. -100.    0.    0.    0.]\n",
            " [   0.    0.    0.    0. -100.  200. -100.    0.    0.]\n",
            " [   0.    0.    0.    0.    0. -100.  200. -100.    0.]\n",
            " [   0.    0.    0.    0.    0.    0. -100.  200. -100.]\n",
            " [   0.    0.    0.    0.    0.    0.    0. -100.  200.]]\n",
            "b=\n",
            " [[-0.1 -0.2 -0.3 -0.4 -0.5 -0.6 -0.7 -0.8 99.1]]\n",
            "x=\n",
            " [[0.    ]\n",
            " [0.0835]\n",
            " [0.168 ]\n",
            " [0.2545]\n",
            " [0.344 ]\n",
            " [0.4375]\n",
            " [0.536 ]\n",
            " [0.6405]\n",
            " [0.752 ]\n",
            " [0.8715]\n",
            " [1.    ]]\n"
          ],
          "name": "stdout"
        },
        {
          "output_type": "display_data",
          "data": {
            "image/png": "[encoded data removed]",
            "text/plain": [
              "<Figure size 576x396 with 1 Axes>"
            ]
          },
          "metadata": {
            "tags": []
          }
        }
      ]
    },
    {
      "metadata": {
        "id": "um3yD9gnv3Mx",
        "colab_type": "code",
        "colab": {
          "base_uri": "https://localhost:8080/",
          "height": 1199
        },
        "outputId": "7fc94c4b-e4b0-4e97-a4dc-8d5ce53b52c7"
      },
      "cell_type": "code",
      "source": [
        "def createMesh(Nx,Ny):\n",
        "  hx= 1 / (Nx-1)\n",
        "  hy= 1 / (Ny-1)\n",
        "  \n",
        "  x = np.zeros((Nx*Ny))\n",
        "  y = np.zeros((Nx*Ny))\n",
        "  for i in range(Nx):\n",
        "    for j in range(Ny):\n",
        "      x[i*Nx + j] = j*hx\n",
        "      y[i*Nx + j] = i*hy\n",
        "\n",
        "  mesh = tri.Triangulation(x,y)\n",
        "  \n",
        "  return mesh\n",
        "\n",
        "\n",
        "def fun(x,y):\n",
        "  return x**3*(x-1)*y**2*(y-1)**2\n",
        "\n",
        "def fsec(u):\n",
        "  x= u[0]\n",
        "  y= u[1]\n",
        "  \n",
        "  g_xx= 9*x**2*y**2*(y-1)*2 - 6*x*y**2*(y-1)**2\n",
        "  g_yy= 12*y**2*x**3*(x-1) - 12*y*x**3*(x-1) + 2*x**3*(x-1)\n",
        "  \n",
        "  return (g_xx + g_yy)\n",
        "\n",
        "\n",
        "meshSize= [6,6]\n",
        "mesh= createMesh(meshSize[0],meshSize[1])\n",
        "u0 = generateU0(mesh, meshSize, fun)\n",
        "\n",
        "s, S, b, x= bvp2d(fsec,mesh,meshSize,u0)\n",
        "\n",
        "print(S)\n",
        "\n",
        "fig = plt.figure()\n",
        "ax1 = fig.add_subplot(111, projection='3d')\n",
        "surf = ax1.plot_trisurf(mesh, -x, cmap=plt.cm.coolwarm)\n",
        "fig.colorbar(surf, shrink=0.5, aspect=10)\n",
        "ax1.view_init(20,10)\n",
        "plt.show()\n",
        "\n",
        "fig = plt.figure()\n",
        "ax1 = fig.add_subplot(111, projection='3d')\n",
        "surf = ax1.plot_trisurf(mesh, -fun(mesh.x,mesh.y), cmap=plt.cm.coolwarm)\n",
        "fig.colorbar(surf, shrink=0.5, aspect=10)\n",
        "ax1.view_init(20,10)\n",
        "plt.show()"
      ],
      "execution_count": 7,
      "outputs": [
        {
          "output_type": "stream",
          "text": [
            "[[200. -50.   0.   0. -50.   0.   0.   0.   0.   0.   0.   0.   0.   0.\n",
            "    0.   0.]\n",
            " [-50. 200. -50.   0.   0. -50.   0.   0.   0.   0.   0.   0.   0.   0.\n",
            "    0.   0.]\n",
            " [  0. -50. 200. -50.   0.   0. -50.   0.   0.   0.   0.   0.   0.   0.\n",
            "    0.   0.]\n",
            " [  0.   0. -50. 200.   0.   0.   0. -50.   0.   0.   0.   0.   0.   0.\n",
            "    0.   0.]\n",
            " [-50.   0.   0.   0. 200. -50.   0.   0. -50.   0.   0.   0.   0.   0.\n",
            "    0.   0.]\n",
            " [  0. -50.   0.   0. -50. 200. -50.   0.   0. -50.   0.   0.   0.   0.\n",
            "    0.   0.]\n",
            " [  0.   0. -50.   0.   0. -50. 200. -50.   0.   0. -50.   0.   0.   0.\n",
            "    0.   0.]\n",
            " [  0.   0.   0. -50.   0.   0. -50. 200.   0.   0.   0. -50.   0.   0.\n",
            "    0.   0.]\n",
            " [  0.   0.   0.   0. -50.   0.   0.   0. 200. -50.   0.   0. -50.   0.\n",
            "    0.   0.]\n",
            " [  0.   0.   0.   0.   0. -50.   0.   0. -50. 200. -50.   0.   0. -50.\n",
            "    0.   0.]\n",
            " [  0.   0.   0.   0.   0.   0. -50.   0.   0. -50. 200. -50.   0.   0.\n",
            "  -50.   0.]\n",
            " [  0.   0.   0.   0.   0.   0.   0. -50.   0.   0. -50. 200.   0.   0.\n",
            "    0. -50.]\n",
            " [  0.   0.   0.   0.   0.   0.   0.   0. -50.   0.   0.   0. 200. -50.\n",
            "    0.   0.]\n",
            " [  0.   0.   0.   0.   0.   0.   0.   0.   0. -50.   0.   0. -50. 200.\n",
            "  -50.   0.]\n",
            " [  0.   0.   0.   0.   0.   0.   0.   0.   0.   0. -50.   0.   0. -50.\n",
            "  200. -50.]\n",
            " [  0.   0.   0.   0.   0.   0.   0.   0.   0.   0.   0. -50.   0.   0.\n",
            "  -50. 200.]]\n"
          ],
          "name": "stdout"
        },
        {
          "output_type": "display_data",
          "data": {
            "image/png": "[encoded data removed]",
            "text/plain": [
              "<Figure size 576x396 with 2 Axes>"
            ]
          },
          "metadata": {
            "tags": []
          }
        },
        {
          "output_type": "display_data",
          "data": {
            "image/png": "[encoded data removed]",
            "text/plain": [
              "<Figure size 576x396 with 2 Axes>"
            ]
          },
          "metadata": {
            "tags": []
          }
        }
      ]
    },
    {
      "metadata": {
        "id": "_4GLBv0zWr7m",
        "colab_type": "text"
      },
      "cell_type": "markdown",
      "source": [
        "# **Discussion**"
      ]
    },
    {
      "metadata": {
        "id": "6bcsDSoRXHZe",
        "colab_type": "text"
      },
      "cell_type": "markdown",
      "source": [
        "Summarize your results and your conclusions. Were the results expected or surprising. Do your results have implications outside the particular problem investigated in this report? "
      ]
    },
    {
      "metadata": {
        "id": "1vcIILuQYsEA",
        "colab_type": "text"
      },
      "cell_type": "markdown",
      "source": [
        "# **APPENDIX**"
      ]
    },
    {
      "metadata": {
        "id": "NlJ-Y9KAYt4Z",
        "colab_type": "text"
      },
      "cell_type": "markdown",
      "source": [
        "[1] from Lecture Notes, *Boundary values problems, chapter 16*, pg. 215\n",
        "\n",
        "[2] from Youtube, [ch10 5. Finite Difference method for two-point boundary value problem. Wen Shen](https://www.youtube.com/watch?v=hCjPyeA4A9Q)\n",
        "\n",
        "\n",
        "[fast stiffness](https://www.hindawi.com/journals/jam/2014/932314/)\n",
        "\n",
        "[MIT Numerical Methods for PDE Lecture 3: Finite Difference for 2D Poisson's equation](https://www.youtube.com/watch?v=bLiaz-IHX_Y)\n",
        "\n"
      ]
    }
  ]
}