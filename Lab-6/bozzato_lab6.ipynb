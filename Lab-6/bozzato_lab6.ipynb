{
  "nbformat": 4,
  "nbformat_minor": 0,
  "metadata": {
    "colab": {
      "name": "template-report-lab-X.ipynb",
      "version": "0.3.2",
      "provenance": [],
      "include_colab_link": true
    },
    "kernelspec": {
      "name": "python3",
      "display_name": "Python 3"
    }
  },
  "cells": [
    {
      "cell_type": "markdown",
      "metadata": {
        "id": "view-in-github",
        "colab_type": "text"
      },
      "source": [
        "<a href=\"https://colab.research.google.com/github/johanhoffman/DD2363-VT19/blob/bozzato/Lab-6/bozzato_lab6.ipynb\" target=\"_parent\"><img src=\"https://colab.research.google.com/assets/colab-badge.svg\" alt=\"Open In Colab\"/></a>"
      ]
    },
    {
      "metadata": {
        "id": "6RgtXlfYO_i7",
        "colab_type": "text"
      },
      "cell_type": "markdown",
      "source": [
        "# **Lab 6: Partial differential equation**\n",
        "**Bozzato Federico**"
      ]
    },
    {
      "metadata": {
        "id": "9x_J5FVuPzbm",
        "colab_type": "text"
      },
      "cell_type": "markdown",
      "source": [
        "# **Abstract**"
      ]
    },
    {
      "metadata": {
        "id": "6UFTSzW7P8kL",
        "colab_type": "text"
      },
      "cell_type": "markdown",
      "source": [
        "Short summary of the lab report. State the objectives, methods used, main results and conlusions. "
      ]
    },
    {
      "metadata": {
        "id": "yJipbXtnjrJZ",
        "colab_type": "text"
      },
      "cell_type": "markdown",
      "source": [
        ""
      ]
    },
    {
      "metadata": {
        "id": "OkT8J7uOWpT3",
        "colab_type": "text"
      },
      "cell_type": "markdown",
      "source": [
        "#**About the code**"
      ]
    },
    {
      "metadata": {
        "id": "HmB2noTr1Oyo",
        "colab_type": "text"
      },
      "cell_type": "markdown",
      "source": [
        "**Author:** Federico Bozzato"
      ]
    },
    {
      "metadata": {
        "id": "Pdll1Xc9WP0e",
        "colab_type": "code",
        "outputId": "cca9d609-2381-44d4-ec3e-e896902bbde0",
        "colab": {
          "base_uri": "https://localhost:8080/",
          "height": 34
        }
      },
      "cell_type": "code",
      "source": [
        "\"\"\"This program is a template for lab reports in the course\"\"\"\n",
        "\"\"\"DD2363 Methods in Scientific Computing, \"\"\"\n",
        "\"\"\"KTH Royal Institute of Technology, Stockholm, Sweden.\"\"\"\n",
        "\n",
        "# Copyright (C) 2019 Johan Hoffman (jhoffman@kth.se)\n",
        "\n",
        "# This file is part of the course DD2363 Methods in Scientific Computing\n",
        "# KTH Royal Institute of Technology, Stockholm, Sweden\n",
        "#\n",
        "# This is free software: you can redistribute it and/or modify\n",
        "# it under the terms of the GNU Lesser General Public License as published by\n",
        "# the Free Software Foundation, either version 3 of the License, or\n",
        "# (at your option) any later version.\n",
        "\n",
        "# This template is maintained by Johan Hoffman\n",
        "# Please report problems to jhoffman@kth.se"
      ],
      "execution_count": 1,
      "outputs": [
        {
          "output_type": "execute_result",
          "data": {
            "text/plain": [
              "'KTH Royal Institute of Technology, Stockholm, Sweden.'"
            ]
          },
          "metadata": {
            "tags": []
          },
          "execution_count": 1
        }
      ]
    },
    {
      "metadata": {
        "id": "28xLGz8JX3Hh",
        "colab_type": "text"
      },
      "cell_type": "markdown",
      "source": [
        "# **Set up environment**"
      ]
    },
    {
      "metadata": {
        "id": "D2PYNusD08Wa",
        "colab_type": "text"
      },
      "cell_type": "markdown",
      "source": [
        "To have access to the neccessary modules you have to run this cell. If you need additional modules, this is where you add them. "
      ]
    },
    {
      "metadata": {
        "id": "Xw7VlErAX7NS",
        "colab_type": "code",
        "colab": {}
      },
      "cell_type": "code",
      "source": [
        "# Load neccessary modules.\n",
        "from google.colab import files\n",
        "\n",
        "import time\n",
        "import numpy as np\n",
        "from numpy import linalg as la\n",
        "from matplotlib import pyplot as plt\n"
      ],
      "execution_count": 0,
      "outputs": []
    },
    {
      "metadata": {
        "id": "gnO3lhAigLev",
        "colab_type": "text"
      },
      "cell_type": "markdown",
      "source": [
        "# **Introduction**"
      ]
    },
    {
      "metadata": {
        "id": "l5zMzgPlRAF6",
        "colab_type": "text"
      },
      "cell_type": "markdown",
      "source": [
        "Give a short description of the problem investigated in the report, and provide some background information so that the reader can understand the context. \n",
        "\n",
        "Briefly describe what method you have chosen to solve the problem, and justify why you selected that method. \n",
        "\n",
        "Here you can express mathematics through Latex syntax, and use hyperlinks for references.\n",
        "\n",
        "[Hyperlink to DD2363 course website.](https://kth.instructure.com/courses/7500)\n",
        "\n",
        "$\n",
        "{\\displaystyle \\frac{\\partial u}{\\partial t}} + u\\cdot \\nabla u +\\nabla p = f, \\quad \\nabla \\cdot u=0$\n",
        "\n"
      ]
    },
    {
      "metadata": {
        "id": "WeFO9QMeUOAu",
        "colab_type": "text"
      },
      "cell_type": "markdown",
      "source": [
        "#Methods"
      ]
    },
    {
      "metadata": {
        "id": "rsgQw_rbGs_0",
        "colab_type": "text"
      },
      "cell_type": "markdown",
      "source": [
        "##Mandatory assignment"
      ]
    },
    {
      "metadata": {
        "id": "JmY5gxMcHFUf",
        "colab_type": "text"
      },
      "cell_type": "markdown",
      "source": [
        "###1. Function: FEM for 1D boundary value problem $-u''(x) = f(x)$ with $u(0)=u(1)=0$"
      ]
    },
    {
      "metadata": {
        "id": "55e3jOPmQFsV",
        "colab_type": "code",
        "colab": {}
      },
      "cell_type": "code",
      "source": [
        "def basis1DPrime(mesh):  # I NEED THE FIRST ORDER DERIVATIVE OF THE BASIS\n",
        "  '''\n",
        "  Gives the Lagrange basis in 1D over the @mesh given as input.\n",
        "  Parameters:\n",
        "  - mesh: subintervals of the domain with M+1 nodes\n",
        "  Output:\n",
        "  - phi: Lagrange basis over the mesh\n",
        "  '''\n",
        "  def localLagrangeBasis(x0,x1,index):\n",
        "    m= 0\n",
        "    if index == 0:\n",
        "      m= -1/(x1-x0)\n",
        "    elif index == 1:\n",
        "      m= 1/(x1-x0)\n",
        "    \n",
        "    return m \n",
        "  \n",
        "  phiPrime = []\n",
        "  for i in range(0,len(mesh)-1):\n",
        "    m0= localLagrangeBasis(mesh[i],mesh[i+1], 0)\n",
        "    m1= localLagrangeBasis(mesh[i],mesh[i+1], 1)\n",
        "    phiPrime.append(m0)\n",
        "    phiPrime.append(m1)\n",
        "    \n",
        "  phiPrime= np.array(phiPrime)\n",
        "  phiPrime[0]= 0\n",
        "  phiPrime[-1]= 0\n",
        "  return phiPrime\n",
        "\n",
        "\n",
        "def bvp1D(fun, mesh, delta= 0.01):\n",
        "  \n",
        "  ##############################\n",
        "  ###### STIFFNESS MATRIX ######\n",
        "  ##############################\n",
        "  def stiffnessAssembler(mesh):\n",
        "    n= len(mesh)\n",
        "    S= np.zeros((n,n))\n",
        "    \n",
        "    for i in range(0,n-1):\n",
        "      h= mesh[i+1] - mesh[i]\n",
        "      S[i,i]= S[i,i] + 1/h\n",
        "      S[i,i+1]= S[i,i+1] - 1/h\n",
        "      S[i+1,i]= S[i+1,i] - 1/h\n",
        "      S[i+1,i+1]= S[i+1,i+1] + 1/h\n",
        "\n",
        "    return S\n",
        "  \n",
        "  \n",
        "  ##############################\n",
        "  ######  LOAD ASSEMBLER  ######\n",
        "  ##############################\n",
        "  def loadAssembler(fun, mesh):    # quadrature b with trapezoidal rule\n",
        "    n= len(mesh)\n",
        "    b= np.zeros((n,1))\n",
        "    for i in range(0,n-1):\n",
        "      h= mesh[i+1] - mesh[i]\n",
        "      b[i]= b[i] + fun(mesh[i]) * h/2\n",
        "      b[i+1]= b[i+1] + fun(mesh[i+1]) * h/2\n",
        "    \n",
        "    return b\n",
        "  \n",
        "  n= len(mesh)\n",
        "  \n",
        "  S= stiffnessAssembler(mesh)\n",
        "  b= loadAssembler(fun, mesh)\n",
        "  \n",
        "  alpha= la.lstsq(S,b,rcond=None)[0]\n",
        "  phiPrime= basis1DPrime(mesh) \n",
        " \n",
        "    \n",
        "  # a0*b0\n",
        "  # a0*b1 + a1*b1\n",
        "  # a1*b2 + a2*b2\n",
        "  # a2*b3 + a3*b3\n",
        "  \n",
        "  return S, b, alpha\n"
      ],
      "execution_count": 0,
      "outputs": []
    },
    {
      "metadata": {
        "id": "wMHf85OoV0Ew",
        "colab_type": "code",
        "outputId": "b671f73d-7301-41e9-8371-aadf1a539e3f",
        "colab": {
          "base_uri": "https://localhost:8080/",
          "height": 486
        }
      },
      "cell_type": "code",
      "source": [
        "def fun(u):\n",
        "  return -u\n",
        "\n",
        "mesh= np.pi*np.array([x/4 for x in range(0,5)])\n",
        "\n",
        "\n",
        "S, b, alpha= bvp1D(fun, mesh)\n",
        "\n",
        "print('S=\\n', S)\n",
        "print('alpha= ', alpha.T)\n",
        "print('b= ', b.T)\n",
        "\n",
        "plt.figure()\n",
        "plt.plot(mesh, alpha)\n",
        "plt.plot(mesh, np.sin(mesh))\n",
        "plt.show()\n"
      ],
      "execution_count": 4,
      "outputs": [
        {
          "output_type": "stream",
          "text": [
            "S=\n",
            " [[ 1.27323954 -1.27323954  0.          0.          0.        ]\n",
            " [-1.27323954  2.54647909 -1.27323954  0.          0.        ]\n",
            " [ 0.         -1.27323954  2.54647909 -1.27323954  0.        ]\n",
            " [ 0.          0.         -1.27323954  2.54647909 -1.27323954]\n",
            " [ 0.          0.          0.         -1.27323954  1.27323954]]\n",
            "alpha=  [[ 1.64720845  0.87205153 -0.19378923 -1.06584076 -1.25962999]]\n",
            "b=  [[ 0.         -0.61685028 -1.23370055 -1.85055083 -1.23370055]]\n"
          ],
          "name": "stdout"
        },
        {
          "output_type": "display_data",
          "data": {
            "image/png": "[encoded data removed]",
            "text/plain": [
              "<Figure size 576x396 with 1 Axes>"
            ]
          },
          "metadata": {
            "tags": []
          }
        }
      ]
    },
    {
      "metadata": {
        "id": "TIocBq-AGwGG",
        "colab_type": "text"
      },
      "cell_type": "markdown",
      "source": [
        "##Extra assignment"
      ]
    },
    {
      "metadata": {
        "id": "jjLlfWVZKB_A",
        "colab_type": "text"
      },
      "cell_type": "markdown",
      "source": [
        "###2. Function: FEM for 2D Poisson equation -Delta u(x) = f(x), with triangular mesh"
      ]
    },
    {
      "metadata": {
        "id": "mLo9Tsr_QGds",
        "colab_type": "code",
        "colab": {}
      },
      "cell_type": "code",
      "source": [
        ""
      ],
      "execution_count": 0,
      "outputs": []
    },
    {
      "metadata": {
        "id": "SsQLT38gVbn_",
        "colab_type": "text"
      },
      "cell_type": "markdown",
      "source": [
        "# **Results**"
      ]
    },
    {
      "metadata": {
        "id": "RLwlnOzuV-Cd",
        "colab_type": "text"
      },
      "cell_type": "markdown",
      "source": [
        "Present the results. If the result is an algorithm that you have described under the *Methods* section, you can present the data from verification and performance tests in this section. If the result is the output from a computational experiment this is where you present a selection of that data. "
      ]
    },
    {
      "metadata": {
        "id": "_4GLBv0zWr7m",
        "colab_type": "text"
      },
      "cell_type": "markdown",
      "source": [
        "# **Discussion**"
      ]
    },
    {
      "metadata": {
        "id": "6bcsDSoRXHZe",
        "colab_type": "text"
      },
      "cell_type": "markdown",
      "source": [
        "Summarize your results and your conclusions. Were the results expected or surprising. Do your results have implications outside the particular problem investigated in this report? "
      ]
    },
    {
      "metadata": {
        "id": "1vcIILuQYsEA",
        "colab_type": "text"
      },
      "cell_type": "markdown",
      "source": [
        "# **APPENDIX**"
      ]
    },
    {
      "metadata": {
        "id": "NlJ-Y9KAYt4Z",
        "colab_type": "text"
      },
      "cell_type": "markdown",
      "source": [
        "[fast stiffness](https://www.hindawi.com/journals/jam/2014/932314/)"
      ]
    }
  ]
}