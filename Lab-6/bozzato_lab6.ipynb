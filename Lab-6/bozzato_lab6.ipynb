{
  "nbformat": 4,
  "nbformat_minor": 0,
  "metadata": {
    "colab": {
      "name": "template-report-lab-X.ipynb",
      "version": "0.3.2",
      "provenance": [],
      "include_colab_link": true
    },
    "kernelspec": {
      "name": "python3",
      "display_name": "Python 3"
    }
  },
  "cells": [
    {
      "cell_type": "markdown",
      "metadata": {
        "id": "view-in-github",
        "colab_type": "text"
      },
      "source": [
        "<a href=\"https://colab.research.google.com/github/johanhoffman/DD2363-VT19/blob/bozzato/Lab-6/bozzato_lab6.ipynb\" target=\"_parent\"><img src=\"https://colab.research.google.com/assets/colab-badge.svg\" alt=\"Open In Colab\"/></a>"
      ]
    },
    {
      "metadata": {
        "id": "6RgtXlfYO_i7",
        "colab_type": "text"
      },
      "cell_type": "markdown",
      "source": [
        "# **Lab 6: Partial differential equation**\n",
        "**Bozzato Federico**"
      ]
    },
    {
      "metadata": {
        "id": "9x_J5FVuPzbm",
        "colab_type": "text"
      },
      "cell_type": "markdown",
      "source": [
        "# **Abstract**"
      ]
    },
    {
      "metadata": {
        "id": "6UFTSzW7P8kL",
        "colab_type": "text"
      },
      "cell_type": "markdown",
      "source": [
        "Short summary of the lab report. State the objectives, methods used, main results and conlusions. "
      ]
    },
    {
      "metadata": {
        "id": "yJipbXtnjrJZ",
        "colab_type": "text"
      },
      "cell_type": "markdown",
      "source": [
        ""
      ]
    },
    {
      "metadata": {
        "id": "OkT8J7uOWpT3",
        "colab_type": "text"
      },
      "cell_type": "markdown",
      "source": [
        "#**About the code**"
      ]
    },
    {
      "metadata": {
        "id": "HmB2noTr1Oyo",
        "colab_type": "text"
      },
      "cell_type": "markdown",
      "source": [
        "**Author:** Federico Bozzato"
      ]
    },
    {
      "metadata": {
        "id": "Pdll1Xc9WP0e",
        "colab_type": "code",
        "outputId": "2415d13e-b6d1-4f2c-e409-ddca3149df5d",
        "colab": {
          "base_uri": "https://localhost:8080/",
          "height": 34
        }
      },
      "cell_type": "code",
      "source": [
        "\"\"\"This program is a template for lab reports in the course\"\"\"\n",
        "\"\"\"DD2363 Methods in Scientific Computing, \"\"\"\n",
        "\"\"\"KTH Royal Institute of Technology, Stockholm, Sweden.\"\"\"\n",
        "\n",
        "# Copyright (C) 2019 Johan Hoffman (jhoffman@kth.se)\n",
        "\n",
        "# This file is part of the course DD2363 Methods in Scientific Computing\n",
        "# KTH Royal Institute of Technology, Stockholm, Sweden\n",
        "#\n",
        "# This is free software: you can redistribute it and/or modify\n",
        "# it under the terms of the GNU Lesser General Public License as published by\n",
        "# the Free Software Foundation, either version 3 of the License, or\n",
        "# (at your option) any later version.\n",
        "\n",
        "# This template is maintained by Johan Hoffman\n",
        "# Please report problems to jhoffman@kth.se"
      ],
      "execution_count": 1,
      "outputs": [
        {
          "output_type": "execute_result",
          "data": {
            "text/plain": [
              "'KTH Royal Institute of Technology, Stockholm, Sweden.'"
            ]
          },
          "metadata": {
            "tags": []
          },
          "execution_count": 1
        }
      ]
    },
    {
      "metadata": {
        "id": "28xLGz8JX3Hh",
        "colab_type": "text"
      },
      "cell_type": "markdown",
      "source": [
        "# **Set up environment**"
      ]
    },
    {
      "metadata": {
        "id": "D2PYNusD08Wa",
        "colab_type": "text"
      },
      "cell_type": "markdown",
      "source": [
        "To have access to the neccessary modules you have to run this cell. If you need additional modules, this is where you add them. "
      ]
    },
    {
      "metadata": {
        "id": "Xw7VlErAX7NS",
        "colab_type": "code",
        "colab": {}
      },
      "cell_type": "code",
      "source": [
        "# Load neccessary modules.\n",
        "from google.colab import files\n",
        "\n",
        "import time\n",
        "import numpy as np\n",
        "from numpy import linalg as la\n",
        "from matplotlib import pyplot as plt\n"
      ],
      "execution_count": 0,
      "outputs": []
    },
    {
      "metadata": {
        "id": "gnO3lhAigLev",
        "colab_type": "text"
      },
      "cell_type": "markdown",
      "source": [
        "# **Introduction**"
      ]
    },
    {
      "metadata": {
        "id": "l5zMzgPlRAF6",
        "colab_type": "text"
      },
      "cell_type": "markdown",
      "source": [
        "Give a short description of the problem investigated in the report, and provide some background information so that the reader can understand the context. \n",
        "\n",
        "Briefly describe what method you have chosen to solve the problem, and justify why you selected that method. \n",
        "\n",
        "Here you can express mathematics through Latex syntax, and use hyperlinks for references.\n",
        "\n",
        "[Hyperlink to DD2363 course website.](https://kth.instructure.com/courses/7500)\n",
        "\n",
        "$\n",
        "{\\displaystyle \\frac{\\partial u}{\\partial t}} + u\\cdot \\nabla u +\\nabla p = f, \\quad \\nabla \\cdot u=0$\n",
        "\n"
      ]
    },
    {
      "metadata": {
        "id": "WeFO9QMeUOAu",
        "colab_type": "text"
      },
      "cell_type": "markdown",
      "source": [
        "#Methods"
      ]
    },
    {
      "metadata": {
        "id": "rsgQw_rbGs_0",
        "colab_type": "text"
      },
      "cell_type": "markdown",
      "source": [
        "##Mandatory assignment"
      ]
    },
    {
      "metadata": {
        "id": "JmY5gxMcHFUf",
        "colab_type": "text"
      },
      "cell_type": "markdown",
      "source": [
        "###1. Function: FEM for 1D boundary value problem $-u''(x) = f(x)$ with $u(0)=u(1)=0$"
      ]
    },
    {
      "metadata": {
        "id": "pn4Jn3bZC4PZ",
        "colab_type": "code",
        "colab": {}
      },
      "cell_type": "code",
      "source": [
        "def bvp1d(fun, mesh, ua, ub):\n",
        "  if not isinstance(mesh, np.ndarray):\n",
        "    mesh= np.array(mesh)\n",
        "    \n",
        "  n= mesh.shape[0]\n",
        "  h= mesh[1:] - mesh[:-1]\n",
        "  inNodes= n-2                             # inNodes= number of inner nodes\n",
        "  \n",
        "  S= np.zeros((inNodes,inNodes))\n",
        "  S[0,0]= 1/h[0]**2\n",
        "  S[-1,-1]= 1/h[-1]**2\n",
        "  b= np.zeros((inNodes,1))\n",
        "  b[0]= ua/(h[0]**2)\n",
        "  b[-1]= ub/(h[-1]**2)\n",
        "  \n",
        "  # stiffness matrix\n",
        "  for i in range(0,inNodes-1):\n",
        "    S[i,i]+= 1/h[i]**2\n",
        "    S[i+1,i]= -1/h[i]**2\n",
        "    S[i,i+1]= -1/h[i]**2\n",
        "    S[i+1,i+1]+= 1/h[i]**2\n",
        "    \n",
        "  # load factor\n",
        "  for k in range(1,n-1):\n",
        "    b[k-1]+= - fun(mesh[k])\n",
        "    \n",
        "  _x= la.lstsq(S,b,rcond=None)[0]\n",
        "  \n",
        "  # update the solution with the contraints\n",
        "  x= np.zeros((n,1))\n",
        "  x[0]= ua\n",
        "  x[1:n-1]= _x\n",
        "  x[-1]= ub\n",
        "    \n",
        "  return S, b, x"
      ],
      "execution_count": 0,
      "outputs": []
    },
    {
      "metadata": {
        "id": "ujpkkP7gESQC",
        "colab_type": "code",
        "outputId": "6d005eb7-c1e1-46aa-a988-4a858d57beb0",
        "colab": {
          "base_uri": "https://localhost:8080/",
          "height": 538
        }
      },
      "cell_type": "code",
      "source": [
        "def fun(x):\n",
        "\te= np.e\n",
        "\tC1= -e/(e**2-1)\n",
        "\tC2= -C1\n",
        "\treturn C1*np.e**(-x)+C2*np.e**x\n",
        "\n",
        "mesh= np.array([x/4 for x in range(7,11)])         # mesh= [ 0, pi/4, pi/2, 3*pi/4, pi ]\n",
        "print(mesh)\n",
        "\n",
        "fsec= lambda x : x                                # bvp: u''= -x          with u(0)=u(pi)=0\n",
        "\n",
        "\n",
        "S, b, x= bvp1d(fsec, mesh, fun(7/4), fun(10/4))\n",
        "print('S=\\n',S)\n",
        "print('b=\\n',b.T)\n",
        "print('x=\\n',x)\n",
        "\n",
        "plt.figure()\n",
        "plt.plot(mesh,x)\n",
        "plt.plot(mesh,fun(mesh))\n",
        "plt.legend(['approximated solution', 'analytical solution'])\n",
        "plt.show()"
      ],
      "execution_count": 4,
      "outputs": [
        {
          "output_type": "stream",
          "text": [
            "[1.75 2.   2.25 2.5 ]\n",
            "S=\n",
            " [[ 32. -16.]\n",
            " [-16.  32.]]\n",
            "b=\n",
            " [[35.99062671 80.12165876]]\n",
            "x=\n",
            " [[2.37441417]\n",
            " [3.16881067]\n",
            " [4.08820717]\n",
            " [5.14822867]]\n"
          ],
          "name": "stdout"
        },
        {
          "output_type": "display_data",
          "data": {
            "image/png": "[encoded data removed]",
            "text/plain": [
              "<Figure size 576x396 with 1 Axes>"
            ]
          },
          "metadata": {
            "tags": []
          }
        }
      ]
    },
    {
      "metadata": {
        "id": "TIocBq-AGwGG",
        "colab_type": "text"
      },
      "cell_type": "markdown",
      "source": [
        "##Extra assignment"
      ]
    },
    {
      "metadata": {
        "id": "jjLlfWVZKB_A",
        "colab_type": "text"
      },
      "cell_type": "markdown",
      "source": [
        "###2. Function: FEM for 2D Poisson equation -Delta u(x) = f(x), with triangular mesh"
      ]
    },
    {
      "metadata": {
        "id": "mLo9Tsr_QGds",
        "colab_type": "code",
        "colab": {
          "base_uri": "https://localhost:8080/",
          "height": 173
        },
        "outputId": "241a8ac4-6436-43b2-f230-5ee9f7da3d94"
      },
      "cell_type": "code",
      "source": [
        "for i in [6,7,8,11,12,13,16,17,18]:\n",
        "  print('u({}) + u({}) - 4u({}) + u({}) + u({}) = -f(x({}))'.format(i-5, i-1, i, i+1, i+5,i))"
      ],
      "execution_count": 5,
      "outputs": [
        {
          "output_type": "stream",
          "text": [
            "u(1) + u(5) - 4u(6) + u(7) + u(11) = -f(x(6))\n",
            "u(2) + u(6) - 4u(7) + u(8) + u(12) = -f(x(7))\n",
            "u(3) + u(7) - 4u(8) + u(9) + u(13) = -f(x(8))\n",
            "u(6) + u(10) - 4u(11) + u(12) + u(16) = -f(x(11))\n",
            "u(7) + u(11) - 4u(12) + u(13) + u(17) = -f(x(12))\n",
            "u(8) + u(12) - 4u(13) + u(14) + u(18) = -f(x(13))\n",
            "u(11) + u(15) - 4u(16) + u(17) + u(21) = -f(x(16))\n",
            "u(12) + u(16) - 4u(17) + u(18) + u(22) = -f(x(17))\n",
            "u(13) + u(17) - 4u(18) + u(19) + u(23) = -f(x(18))\n"
          ],
          "name": "stdout"
        }
      ]
    },
    {
      "metadata": {
        "id": "ui-5ekkjFxB9",
        "colab_type": "code",
        "colab": {}
      },
      "cell_type": "code",
      "source": [
        "def bvp2d(fun, mesh):\n",
        "  if not isinstance(mesh, np.ndarray):\n",
        "    mesh= np.array(mesh)\n",
        "    \n",
        "  \n",
        "  "
      ],
      "execution_count": 0,
      "outputs": []
    },
    {
      "metadata": {
        "id": "6ia08gqlH0E5",
        "colab_type": "code",
        "colab": {
          "base_uri": "https://localhost:8080/",
          "height": 312
        },
        "outputId": "d2e52d09-3dfa-46da-dfc7-cc5ca79ac23e"
      },
      "cell_type": "code",
      "source": [
        "def createMesh(Nx,Ny):\n",
        "  hx= 1.0 / (Nx-1)\n",
        "  hy= 1.0 / (Ny-1)\n",
        "  \n",
        "  x = np.zeros((Nx*Ny))\n",
        "  y = np.zeros((Nx*Ny))\n",
        "  for i in range(Nx):\n",
        "    for j in range(Ny):\n",
        "      x[i*Nx + j] = j*hx\n",
        "      y[i*Nx + j] = i*hy\n",
        "\n",
        "  x= x.flatten()\n",
        "  y= y.flatten()\n",
        "  coord= np.array([x,y])\n",
        "  coord= coord.T\n",
        "  print(coord.shape)\n",
        "  \n",
        "  return coord\n",
        "\n",
        "print(createMesh(4,4))"
      ],
      "execution_count": 8,
      "outputs": [
        {
          "output_type": "stream",
          "text": [
            "(16, 2)\n",
            "[[0.         0.        ]\n",
            " [0.33333333 0.        ]\n",
            " [0.66666667 0.        ]\n",
            " [1.         0.        ]\n",
            " [0.         0.33333333]\n",
            " [0.33333333 0.33333333]\n",
            " [0.66666667 0.33333333]\n",
            " [1.         0.33333333]\n",
            " [0.         0.66666667]\n",
            " [0.33333333 0.66666667]\n",
            " [0.66666667 0.66666667]\n",
            " [1.         0.66666667]\n",
            " [0.         1.        ]\n",
            " [0.33333333 1.        ]\n",
            " [0.66666667 1.        ]\n",
            " [1.         1.        ]]\n"
          ],
          "name": "stdout"
        }
      ]
    },
    {
      "metadata": {
        "id": "SsQLT38gVbn_",
        "colab_type": "text"
      },
      "cell_type": "markdown",
      "source": [
        "# **Results**"
      ]
    },
    {
      "metadata": {
        "id": "RLwlnOzuV-Cd",
        "colab_type": "text"
      },
      "cell_type": "markdown",
      "source": [
        "Present the results. If the result is an algorithm that you have described under the *Methods* section, you can present the data from verification and performance tests in this section. If the result is the output from a computational experiment this is where you present a selection of that data. "
      ]
    },
    {
      "metadata": {
        "id": "_4GLBv0zWr7m",
        "colab_type": "text"
      },
      "cell_type": "markdown",
      "source": [
        "# **Discussion**"
      ]
    },
    {
      "metadata": {
        "id": "6bcsDSoRXHZe",
        "colab_type": "text"
      },
      "cell_type": "markdown",
      "source": [
        "Summarize your results and your conclusions. Were the results expected or surprising. Do your results have implications outside the particular problem investigated in this report? "
      ]
    },
    {
      "metadata": {
        "id": "1vcIILuQYsEA",
        "colab_type": "text"
      },
      "cell_type": "markdown",
      "source": [
        "# **APPENDIX**"
      ]
    },
    {
      "metadata": {
        "id": "NlJ-Y9KAYt4Z",
        "colab_type": "text"
      },
      "cell_type": "markdown",
      "source": [
        "[fast stiffness](https://www.hindawi.com/journals/jam/2014/932314/)\n",
        "\n",
        "[MIT Numerical Methods for PDE Lecture 3: Finite Difference for 2D Poisson's equation](https://www.youtube.com/watch?v=bLiaz-IHX_Y)\n",
        "\n",
        "[ch10 5. Finite Difference method for two-point boundary value problem. Wen Shen](https://www.youtube.com/watch?v=hCjPyeA4A9Q)"
      ]
    }
  ]
}