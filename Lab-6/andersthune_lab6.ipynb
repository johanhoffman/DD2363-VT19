{
 "cells": [
  {
   "cell_type": "markdown",
   "metadata": {
    "ein.tags": "worksheet-0",
    "slideshow": {
     "slide_type": "-"
    }
   },
   "source": [
    "**Note:** This notebook is written in the Julia language, so the cells can't be\n",
    "  executed in Google Colab. If you want to verify that the notebook works, I\n",
    "  recommend [JuliaBox](https://juliabox.com/) or testing locally. The syntax is\n",
    "  very similar to Python and MATLAB. Note in particular the dot syntax used to\n",
    "  perform elementwise operations ( `f.(x)` applies `f` to all elements of `x` ),\n",
    "  that indices start at 1 and that the last statement of all functions is returned\n",
    "  automatically."
   ]
  },
  {
   "cell_type": "markdown",
   "metadata": {
    "colab_type": "text",
    "ein.tags": "worksheet-0",
    "id": "6RgtXlfYO_i7",
    "slideshow": {
     "slide_type": "-"
    }
   },
   "source": [
    "# **Lab 6: Partial Differential Equations**\n",
    "**Anders Ågren Thuné**"
   ]
  },
  {
   "cell_type": "markdown",
   "metadata": {
    "colab_type": "text",
    "ein.tags": "worksheet-0",
    "id": "9x_J5FVuPzbm",
    "slideshow": {
     "slide_type": "-"
    }
   },
   "source": [
    "# **Abstract**"
   ]
  },
  {
   "cell_type": "markdown",
   "metadata": {
    "colab_type": "text",
    "ein.tags": "worksheet-0",
    "id": "6UFTSzW7P8kL",
    "slideshow": {
     "slide_type": "-"
    }
   },
   "source": [
    "This report presents how the finite element method was implemented to solve the Poisson\n",
    "equation in 1 and 2 dimensions."
   ]
  },
  {
   "cell_type": "markdown",
   "metadata": {
    "colab_type": "text",
    "ein.tags": "worksheet-0",
    "id": "OkT8J7uOWpT3",
    "slideshow": {
     "slide_type": "-"
    }
   },
   "source": [
    "# **About the code**"
   ]
  },
  {
   "cell_type": "code",
   "execution_count": 1,
   "metadata": {
    "autoscroll": false,
    "colab": {
     "base_uri": "https://localhost:8080/",
     "height": 34
    },
    "colab_type": "code",
    "collapsed": false,
    "ein.hycell": false,
    "ein.tags": "worksheet-0",
    "id": "Pdll1Xc9WP0e",
    "outputId": "1e1de3c9-fbe5-46c9-c3de-2986013df3c9",
    "slideshow": {
     "slide_type": "-"
    }
   },
   "outputs": [
    {
     "data": {
      "text/plain": [
       "\"DD2363 Methods in Scientific Computing,\\nKTH Royal Institute of Technology, Stockholm, Sweden.\\n\""
      ]
     },
     "execution_count": 1,
     "metadata": {},
     "output_type": "execute_result"
    }
   ],
   "source": [
    "\"\"\"\n",
    "DD2363 Methods in Scientific Computing,\n",
    "KTH Royal Institute of Technology, Stockholm, Sweden.\n",
    "\"\"\"\n",
    "\n",
    "# Copyright (C) 2019\n",
    "# Anders Ågren Thuné (athune@kth.se)\n",
    "# Johan Hoffman (jhoffman@kth.se)\n",
    "\n",
    "# Code written by Anders Ågren Thuné based on the template by Johan Hoffman.\n",
    "\n",
    "# This file is part of the course DD2363 Methods in Scientific Computing\n",
    "# KTH Royal Institute of Technology, Stockholm, Sweden\n",
    "#\n",
    "# This is free software: you can redistribute it and/or modify\n",
    "# it under the terms of the GNU Lesser General Public License as published by\n",
    "# the Free Software Foundation, either version 3 of the License, or\n",
    "# (at your option) any later version."
   ]
  },
  {
   "cell_type": "markdown",
   "metadata": {
    "colab_type": "text",
    "ein.tags": "worksheet-0",
    "id": "28xLGz8JX3Hh",
    "slideshow": {
     "slide_type": "-"
    }
   },
   "source": [
    "# **Set up environment**"
   ]
  },
  {
   "cell_type": "code",
   "execution_count": 3,
   "metadata": {
    "autoscroll": false,
    "colab": null,
    "colab_type": "code",
    "collapsed": false,
    "ein.hycell": false,
    "ein.tags": "worksheet-0",
    "id": "Xw7VlErAX7NS",
    "slideshow": {
     "slide_type": "-"
    }
   },
   "outputs": [
    {
     "data": {
      "text/plain": [
       "Plots.PyPlotBackend()"
      ]
     },
     "execution_count": 3,
     "metadata": {},
     "output_type": "execute_result"
    }
   ],
   "source": [
    "using LinearAlgebra\n",
    "using Plots\n",
    "pyplot()"
   ]
  },
  {
   "cell_type": "markdown",
   "metadata": {
    "colab_type": "text",
    "ein.tags": "worksheet-0",
    "id": "gnO3lhAigLev",
    "slideshow": {
     "slide_type": "-"
    }
   },
   "source": [
    "# **Introduction**"
   ]
  },
  {
   "cell_type": "markdown",
   "metadata": {
    "colab_type": "text",
    "ein.tags": "worksheet-0",
    "id": "l5zMzgPlRAF6",
    "slideshow": {
     "slide_type": "-"
    }
   },
   "source": [
    "As we've seen, time stepping methods are useful for modelling a wide variety of\n",
    "different initial value problems involving ordinary differential equations and\n",
    "systems of them. However, these models only take a single parameter into\n",
    "account, so if we wanted to perform a simulation over some 2-dimensional space\n",
    "with some property depending on both the $x$ and the $y$ value, for instance,\n",
    "we'd be out of luck. A differential equation involving several independent\n",
    "variables is called a partial differential equation. A common problem is where\n",
    "some partial differential equation involving $u$, a function of multiple\n",
    "variables, is given along with some boundary condition, for instance $u = 0$\n",
    "along the boundary. In order to solve these, a different approach needs to be taken.\n",
    "\n",
    "This report presents how the finite element method, a powerful tool for solving\n",
    "partial differential equations, was implemented and used for solving the boundary value\n",
    "problem described by the Poisson equation. First, the method and its\n",
    "implementation in the Julia language is presented, followed by tests and\n",
    "visualizations verifying the accuracy of the implementation."
   ]
  },
  {
   "cell_type": "markdown",
   "metadata": {
    "colab_type": "text",
    "ein.tags": "worksheet-0",
    "id": "WeFO9QMeUOAu",
    "slideshow": {
     "slide_type": "-"
    }
   },
   "source": [
    "# **Methods**"
   ]
  },
  {
   "cell_type": "markdown",
   "metadata": {
    "ein.tags": "worksheet-0",
    "slideshow": {
     "slide_type": "-"
    }
   },
   "source": [
    "### **The finite element method**"
   ]
  },
  {
   "cell_type": "markdown",
   "metadata": {
    "ein.tags": "worksheet-0",
    "slideshow": {
     "slide_type": "-"
    }
   },
   "source": [
    "The finite element method is used to solve partial differential equations, and in\n",
    "particular boundary value problems. The finite element method is a Galerkin\n",
    "method based on the exact same principles as $L^2$-projection, which we\n",
    "implemented in Lab 4. However, when solving a boundary value problem, we are no\n",
    "longer solving for $Pf$ such that $(Pf, v) = (f, v) \\forall v \\in V$ for some\n",
    "space $V$, but rather seeking $U$ such that $a(U,v) = L(v) \\forall v \\in V$,\n",
    "where $a$ is a bilinear form and $L$ is a linear form. We see that this is a\n",
    "generalization of the $L^2$-projection, which uses $a(u, v) = (u, v), \\quad L(v)\n",
    "= (f, v)$. For instance, we can show that setting $a(u, v) = (\\nabla u, \\nabla\n",
    "v), L(v) = (f, v)$ and solving for $U$ leads to an optimal solution to the\n",
    "boundary value problem $$\\left\\{ \\begin{array} -\\Delta u = f, & \\text{in}\\ \\Omega\n",
    "\\\\ u = 0, & \\text{on}\\ \\delta\\Omega\\end{array} \\right.$$ known as the Poisson\n",
    "equation. In practice, this only results in a slight difference in the assembly\n",
    "algorithm, where we have $M_{ij}^k = (\\lambda'_i, \\lambda'_j)$ in the\n",
    "one-dimensional case, and $M_{ij}^k = (\\nabla \\lambda_i, \\nabla \\lambda_j)$ in\n",
    "the higher-dimensional case."
   ]
  },
  {
   "cell_type": "markdown",
   "metadata": {
    "ein.tags": "worksheet-0",
    "slideshow": {
     "slide_type": "-"
    }
   },
   "source": [
    "#### **Code from previous labs**"
   ]
  },
  {
   "cell_type": "markdown",
   "metadata": {
    "ein.tags": "worksheet-0",
    "slideshow": {
     "slide_type": "-"
    }
   },
   "source": [
    "As we still need to calculate the relevant integrals in the 2d-case, the following code\n",
    "is reused from Lab 4."
   ]
  },
  {
   "cell_type": "code",
   "execution_count": 1,
   "metadata": {
    "autoscroll": false,
    "collapsed": false,
    "ein.hycell": false,
    "ein.tags": "worksheet-0",
    "slideshow": {
     "slide_type": "-"
    }
   },
   "outputs": [
    {
     "data": {
      "text/plain": [
       "gq_2d"
      ]
     },
     "execution_count": 1,
     "metadata": {},
     "output_type": "execute_result"
    }
   ],
   "source": [
    "\"\"\"\n",
    "  A function for computing the integral of the triangle with vertices xs[:,1], xs[:,2],\n",
    "  xs[:,3] using a one-point Gaussian quadrature rule. The function uses an affine map\n",
    "  Fk = Mx + b to translate the midpoint of the reference triangle to the given triangle\n",
    "  and compute the integral.\n",
    "\"\"\"\n",
    "function gq_2d(f, xs)\n",
    "    M = [-xs[1,1]+xs[1,2] -xs[1,1]+xs[1,3];\n",
    "         -xs[2,1]+xs[2,2] -xs[2,1]+xs[2,3]]\n",
    "    b = xs[:,1]\n",
    "\n",
    "    det(M)*f( M*[1/3,1/3] + b )/2\n",
    "end"
   ]
  },
  {
   "cell_type": "markdown",
   "metadata": {
    "ein.tags": "worksheet-0",
    "slideshow": {
     "slide_type": "-"
    }
   },
   "source": [
    "#### **1d FEM Poisson boundary problem solver**"
   ]
  },
  {
   "cell_type": "markdown",
   "metadata": {
    "ein.tags": "worksheet-0",
    "slideshow": {
     "slide_type": "-"
    }
   },
   "source": [
    "The code is practically the same as for lab 4, but the elements of the mass\n",
    "matrix need to be updated correctly according to the new rule. Calculating the\n",
    "derivatives of the Lagrange basis functions, we get: $$\\lambda'_{i, 1} =\n",
    "\\frac{d}{dx}\\frac{x-x_{i-1}}{h_i} = \\frac{1}{h_i},$$ $$\\lambda'_{i+1, 0} =\n",
    "\\frac{d}{dx}\\frac{x_{i+1}-x}{h_{i+1}} = \\frac{-1}{h_{i+1}}$$ Plugging into the\n",
    "formulae, we get $$M_{ii} = (\\lambda'_i, \\lambda'_i) = \\int_{I_{i+1}} \\lambda_{i,1}^{\\prime 2} + \\lambda_{i+1,0}^{\\prime 2} dx = \\int_{x_{i-1}}^{x_i}\n",
    "\\frac{1}{h_i^2} dx + \\int_{x_i}^{x_{i+1}} \\frac{1}{h_{i+1}^2} dx = \\frac{1}{h_i}\n",
    "+ \\frac{1}{h_{i+1}}$$ Similarly, we have $$M_{ii+1} = (\\lambda'_i,\n",
    "\\lambda'_{i+1}) = \\int_{I_{i+1}} \\lambda'_{i+1,0} \\lambda'_{i+1,1} dx =\n",
    "\\int_{I_{i+1}} \\frac{-1}{h_{i+1}^2} dx = \\frac{-1}{h_{i+1}}$$\n",
    "We also need to take into consideration that the boundary values should be zero,\n",
    "meaning we should loop through a smaller interval when filling in the matrix."
   ]
  },
  {
   "cell_type": "code",
   "execution_count": 2,
   "metadata": {
    "autoscroll": false,
    "collapsed": false,
    "ein.hycell": false,
    "ein.tags": "worksheet-0",
    "slideshow": {
     "slide_type": "-"
    }
   },
   "outputs": [
    {
     "data": {
      "text/plain": [
       "fem_1d"
      ]
     },
     "execution_count": 2,
     "metadata": {},
     "output_type": "execute_result"
    }
   ],
   "source": [
    "\"\"\"\n",
    "  Compute the vector U = {U(xᵢ)}, containing the approximate solution to the problem\n",
    "  u'' = -f, u₀ = uₙ = 0, with mesh = {xᵢ}.\n",
    "\"\"\"\n",
    "function fem_1d(f, mesh)\n",
    "    m = length(mesh)\n",
    "    b = zeros(m)\n",
    "    M = zeros(m,m)\n",
    "    h = diff(mesh)\n",
    "\n",
    "    M[2,2] = 1/h[2]\n",
    "    b[2] += f(mesh[2])*h[2]/2\n",
    "    M[end-1,end-1] = 1/h[end-1]\n",
    "    b[end-1] += f(mesh[end-1])*h[end-2]/2\n",
    "    for i in 2:m-2\n",
    "        b[i] += f(mesh[i])*h[i]/2\n",
    "        b[i+1] += f(mesh[i+1])*h[i]/2\n",
    "\n",
    "        M[i,i] += 1/h[i]\n",
    "        M[i,i+1] -= 1/h[i]\n",
    "        M[i+1,i] -= 1/h[i]\n",
    "        M[i+1,i+1] += 1/h[i]\n",
    "    end\n",
    "\n",
    "    pinv(M)*b # for some reason the \\ operator would give me a SingularException...\n",
    "end"
   ]
  },
  {
   "cell_type": "markdown",
   "metadata": {
    "ein.tags": "worksheet-0",
    "slideshow": {
     "slide_type": "-"
    }
   },
   "source": [
    "#### **2d FEM Poisson boundary problem solver**"
   ]
  },
  {
   "cell_type": "markdown",
   "metadata": {
    "ein.tags": "worksheet-0",
    "slideshow": {
     "slide_type": "-"
    }
   },
   "source": [
    "Here, the inner product $(\\lambda_i, \\lambda_j)$ should change to $(\\nabla\n",
    "\\lambda_i, \\nabla \\lambda_j)$. Computing the derivatives of the basis functions\n",
    "on the reference triangle, we obtain\n",
    "$$ \\nabla \\lambda_1 = \\nabla (1 - x - y) = \\left[\\begin{array} x-1 \\\\ -1 \\end{array}\\right]$$\n",
    "$$ \\nabla \\lambda_2 = \\nabla (x) = \\left[\\begin{array} x1 \\\\ 0 \\end{array}\\right]$$\n",
    "$$ \\nabla \\lambda_3 = \\nabla (y) = \\left[\\begin{array} x0 \\\\ 1 \\end{array}\\right]$$\n",
    "We can then call the quadrature function with the relevant constants and let it map the\n",
    "result to the current triangle, which we then sum to obtain the dot product."
   ]
  },
  {
   "cell_type": "code",
   "execution_count": 53,
   "metadata": {
    "autoscroll": false,
    "collapsed": false,
    "ein.hycell": false,
    "ein.tags": "worksheet-0",
    "slideshow": {
     "slide_type": "-"
    }
   },
   "outputs": [
    {
     "name": "stderr",
     "output_type": "stream",
     "text": [
      "WARNING: redefining constant ∇λ\n"
     ]
    },
    {
     "data": {
      "text/plain": [
       "fem_2d"
      ]
     },
     "execution_count": 53,
     "metadata": {},
     "output_type": "execute_result"
    }
   ],
   "source": [
    "\"\"\"\n",
    "  An array containing the values of ∇λᵢ for the reference triangle.\n",
    "\"\"\"\n",
    "const ∇λ = [-1. -1.;\n",
    "             1.  0.;\n",
    "             0.  1.]\n",
    "\n",
    "\"\"\"\n",
    "  Compute the vector U = {U(xᵢ)}, containing the coefficients used to approximate the solution\n",
    "  to the problem Δu = -f in Ω, u = 0 on δΩ. The parameters vertices and elements describe\n",
    "  the mesh: vertices contains x and y coordinates of the nodes in the mesh and elements\n",
    "  contains one row for each element in the mesh, each entry being the index of a vertex\n",
    "  node of the element. The boundary parameter is a boolean list of which nodes are\n",
    "  on the boundary.\n",
    "\"\"\"\n",
    "function fem_2d(f, vertices, elements, boundary)\n",
    "    m = size(vertices, 1)\n",
    "    b = zeros(m)\n",
    "    M = zeros(m,m)\n",
    "    for tr in elements\n",
    "        for i in 1:3\n",
    "            loc2glob_i = tr[i]\n",
    "            if !boundary[loc2glob_i]\n",
    "                b[loc2glob_i] += gq_2d(x -> f(x)/3, vertices[:,tr])\n",
    "                for j in 1:3\n",
    "                    loc2glob_j = tr[j]\n",
    "                    if !boundary[loc2glob_j]\n",
    "                        M[loc2glob_i,loc2glob_j] += sum(gq_2d(x -> ∇λ[i,:].*∇λ[j,:],\n",
    "                                                                vertices[:,tr]))\n",
    "                    end\n",
    "                end\n",
    "            end\n",
    "        end\n",
    "    end\n",
    "\n",
    "    pinv(M)*b\n",
    "end"
   ]
  },
  {
   "cell_type": "markdown",
   "metadata": {
    "ein.tags": "worksheet-0",
    "slideshow": {
     "slide_type": "-"
    }
   },
   "source": [
    "# **Results**"
   ]
  },
  {
   "cell_type": "markdown",
   "metadata": {
    "ein.tags": "worksheet-0",
    "slideshow": {
     "slide_type": "-"
    }
   },
   "source": [
    "This section presents tests of the accuracy and stability of the implemented\n",
    "finite element solvers."
   ]
  },
  {
   "cell_type": "markdown",
   "metadata": {
    "ein.tags": "worksheet-0",
    "slideshow": {
     "slide_type": "-"
    }
   },
   "source": [
    "## **1d FEM**"
   ]
  },
  {
   "cell_type": "markdown",
   "metadata": {
    "ein.tags": "worksheet-0",
    "slideshow": {
     "slide_type": "-"
    }
   },
   "source": [
    "I manufacture a solution by using a factored polynomial which I compute the second order\n",
    "derivative of by hand. Choosing the polynomial $p(x) = (x-3)(x+2)^2$ with roots\n",
    "$x = 3, \\quad x = -2$ gives $p''(x) = -f(x) = 6x + 2$."
   ]
  },
  {
   "cell_type": "markdown",
   "metadata": {
    "ein.tags": "worksheet-0",
    "slideshow": {
     "slide_type": "-"
    }
   },
   "source": [
    "#### **Accuracy**"
   ]
  },
  {
   "cell_type": "code",
   "execution_count": 5,
   "metadata": {
    "autoscroll": false,
    "collapsed": false,
    "ein.hycell": false,
    "ein.tags": "worksheet-0",
    "slideshow": {
     "slide_type": "-"
    }
   },
   "outputs": [
    {
     "data": {
      "image/png": "[encoded data removed]"
     },
     "execution_count": 5,
     "metadata": {},
     "output_type": "execute_result"
    }
   ],
   "source": [
    "u_ref(x) = (x-3)*(x+2)^2\n",
    "interval = -2:0.01:3\n",
    "plot(u_ref, interval, title=\"Manufactured solution\", label = \"\\$(x-3)(x+2)^2\\$\")"
   ]
  },
  {
   "cell_type": "code",
   "execution_count": 6,
   "metadata": {
    "autoscroll": false,
    "collapsed": false,
    "ein.hycell": false,
    "ein.tags": "worksheet-0",
    "slideshow": {
     "slide_type": "-"
    }
   },
   "outputs": [
    {
     "data": {
      "image/png": "[encoded data removed]"
     },
     "execution_count": 6,
     "metadata": {},
     "output_type": "execute_result"
    }
   ],
   "source": [
    "f(x) = -6x - 2\n",
    "sol = fem_1d(f, interval);\n",
    "plot(interval, sol, title=\"FEM solution\", label=\"Approximation\")"
   ]
  },
  {
   "cell_type": "code",
   "execution_count": 7,
   "metadata": {
    "autoscroll": false,
    "collapsed": false,
    "ein.hycell": false,
    "ein.tags": "worksheet-0",
    "slideshow": {
     "slide_type": "-"
    }
   },
   "outputs": [
    {
     "name": "stdout",
     "output_type": "stream",
     "text": [
      "Error = 1.1601579726125756e-9\n"
     ]
    }
   ],
   "source": [
    "println(\"Error = $(norm(sol.-u_ref.(interval)))\")"
   ]
  },
  {
   "cell_type": "markdown",
   "metadata": {
    "ein.tags": "worksheet-0",
    "slideshow": {
     "slide_type": "-"
    }
   },
   "source": [
    "#### **Convergence**"
   ]
  },
  {
   "cell_type": "code",
   "execution_count": 8,
   "metadata": {
    "autoscroll": false,
    "collapsed": false,
    "ein.hycell": false,
    "ein.tags": "worksheet-0",
    "slideshow": {
     "slide_type": "-"
    }
   },
   "outputs": [
    {
     "data": {
      "image/png": "[encoded data removed]"
     },
     "execution_count": 8,
     "metadata": {},
     "output_type": "execute_result"
    }
   ],
   "source": [
    "steps = 0.1:-0.001:0.001\n",
    "errors = zeros(length(steps))\n",
    "for (i, h) = enumerate(steps)\n",
    "    interval = -2:h:3\n",
    "    sol = fem_1d(f, interval)\n",
    "    errors[i] = norm(sol.-u_ref.(interval))\n",
    "end\n",
    "plot(steps, errors, xscale = :log10, yscale = :log10)"
   ]
  },
  {
   "cell_type": "markdown",
   "metadata": {
    "ein.tags": "worksheet-0",
    "slideshow": {
     "slide_type": "-"
    }
   },
   "source": [
    "I unfortunately didn't have time to test the 2d solution."
   ]
  },
  {
   "cell_type": "markdown",
   "metadata": {
    "colab_type": "text",
    "ein.tags": "worksheet-0",
    "id": "_4GLBv0zWr7m",
    "slideshow": {
     "slide_type": "-"
    }
   },
   "source": [
    "# **Discussion**"
   ]
  },
  {
   "cell_type": "markdown",
   "metadata": {
    "colab_type": "text",
    "ein.tags": "worksheet-0",
    "id": "6bcsDSoRXHZe",
    "slideshow": {
     "slide_type": "-"
    }
   },
   "source": [
    "The 1d method worked as expected; unfortunately I wasn't able to test out the 2d version."
   ]
  },
  {
   "cell_type": "markdown",
   "metadata": {
    "ein.tags": "worksheet-0",
    "slideshow": {
     "slide_type": "-"
    }
   },
   "source": [
    "# **References**"
   ]
  },
  {
   "cell_type": "markdown",
   "metadata": {
    "ein.tags": "worksheet-0",
    "slideshow": {
     "slide_type": "-"
    }
   },
   "source": [
    "- Hoffman, J. 2019. *Introduction to Scientific Computing*"
   ]
  }
 ],
 "metadata": {
  "colab": {
   "include_colab_link": true,
   "name": "template-report-lab-X.ipynb",
   "provenance": null,
   "version": "0.3.2"
  },
  "kernelspec": {
   "display_name": "Julia 1.1.0",
   "name": "julia-1.1"
  },
  "language_info": {
   "file_extension": ".jl",
   "mimetype": "application/julia",
   "name": "julia",
   "version": "1.1.0"
  },
  "name": "andersthune_lab6.ipynb"
 },
 "nbformat": 4,
 "nbformat_minor": 1
}
