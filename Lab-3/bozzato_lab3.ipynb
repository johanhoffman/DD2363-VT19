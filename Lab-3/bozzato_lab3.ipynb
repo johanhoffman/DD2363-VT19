{
  "nbformat": 4,
  "nbformat_minor": 0,
  "metadata": {
    "colab": {
      "name": "template-report-lab-X.ipynb",
      "version": "0.3.2",
      "provenance": [],
      "include_colab_link": true
    },
    "kernelspec": {
      "name": "python3",
      "display_name": "Python 3"
    },
    "accelerator": "GPU"
  },
  "cells": [
    {
      "cell_type": "markdown",
      "metadata": {
        "id": "view-in-github",
        "colab_type": "text"
      },
      "source": [
        "<a href=\"https://colab.research.google.com/github/johanhoffman/DD2363-VT19/blob/bozzato/Lab-3/bozzato_lab3.ipynb\" target=\"_parent\"><img src=\"https://colab.research.google.com/assets/colab-badge.svg\" alt=\"Open In Colab\"/></a>"
      ]
    },
    {
      "metadata": {
        "id": "6RgtXlfYO_i7",
        "colab_type": "text"
      },
      "cell_type": "markdown",
      "source": [
        "# **Lab 3: Iterative methods**\n",
        "**Bozzato Federico**"
      ]
    },
    {
      "metadata": {
        "id": "9x_J5FVuPzbm",
        "colab_type": "text"
      },
      "cell_type": "markdown",
      "source": [
        "# **Abstract**"
      ]
    },
    {
      "metadata": {
        "id": "6UFTSzW7P8kL",
        "colab_type": "text"
      },
      "cell_type": "markdown",
      "source": [
        "In this lab we deepen the problem of solving systems of equations, both linear and nonlinear. There will be presented three methods for solving systems of linear equations, one for solving nonlinear equations and another method for systems of nonlinear equations."
      ]
    },
    {
      "metadata": {
        "id": "OkT8J7uOWpT3",
        "colab_type": "text"
      },
      "cell_type": "markdown",
      "source": [
        "#**About the code**"
      ]
    },
    {
      "metadata": {
        "id": "HmB2noTr1Oyo",
        "colab_type": "text"
      },
      "cell_type": "markdown",
      "source": [
        "**Author:** Federico Bozzato"
      ]
    },
    {
      "metadata": {
        "id": "Pdll1Xc9WP0e",
        "colab_type": "code",
        "outputId": "9bd09851-fc16-43c7-db49-55dc57899faf",
        "colab": {
          "base_uri": "https://localhost:8080/",
          "height": 34
        }
      },
      "cell_type": "code",
      "source": [
        "\"\"\"This program is a template for lab reports in the course\"\"\"\n",
        "\"\"\"DD2363 Methods in Scientific Computing, \"\"\"\n",
        "\"\"\"KTH Royal Institute of Technology, Stockholm, Sweden.\"\"\"\n",
        "\n",
        "# Copyright (C) 2019 Johan Hoffman (jhoffman@kth.se)\n",
        "\n",
        "# This file is part of the course DD2363 Methods in Scientific Computing\n",
        "# KTH Royal Institute of Technology, Stockholm, Sweden\n",
        "#\n",
        "# This is free software: you can redistribute it and/or modify\n",
        "# it under the terms of the GNU Lesser General Public License as published by\n",
        "# the Free Software Foundation, either version 3 of the License, or\n",
        "# (at your option) any later version.\n",
        "\n",
        "# This template is maintained by Johan Hoffman\n",
        "# Please report problems to jhoffman@kth.se"
      ],
      "execution_count": 1,
      "outputs": [
        {
          "output_type": "execute_result",
          "data": {
            "text/plain": [
              "'KTH Royal Institute of Technology, Stockholm, Sweden.'"
            ]
          },
          "metadata": {
            "tags": []
          },
          "execution_count": 1
        }
      ]
    },
    {
      "metadata": {
        "id": "28xLGz8JX3Hh",
        "colab_type": "text"
      },
      "cell_type": "markdown",
      "source": [
        "# **Set up environment**"
      ]
    },
    {
      "metadata": {
        "id": "D2PYNusD08Wa",
        "colab_type": "text"
      },
      "cell_type": "markdown",
      "source": [
        "To have access to the neccessary modules you have to run this cell. If you need additional modules, this is where you add them. "
      ]
    },
    {
      "metadata": {
        "id": "Xw7VlErAX7NS",
        "colab_type": "code",
        "colab": {}
      },
      "cell_type": "code",
      "source": [
        "# Load neccessary modules.\n",
        "from google.colab import files\n",
        "\n",
        "import sys\n",
        "import math\n",
        "import numpy as np\n",
        "from numpy import linalg\n",
        "import matplotlib.pyplot as plt"
      ],
      "execution_count": 0,
      "outputs": []
    },
    {
      "metadata": {
        "id": "gnO3lhAigLev",
        "colab_type": "text"
      },
      "cell_type": "markdown",
      "source": [
        "# **Introduction**"
      ]
    },
    {
      "metadata": {
        "id": "l5zMzgPlRAF6",
        "colab_type": "text"
      },
      "cell_type": "markdown",
      "source": [
        "Iterative methods differ from direct methods because they do not need a specific number of steps to complete as the direct methods need [1]. The way the iterative methods operate is to reduce the approximation error in each iteration, but they need a convergence criterion in order to stop when a certain condition is reached.\n",
        "\n",
        "This report is divided into three parts:\n",
        "\n",
        "1. Methods: in this section, each algorithm is presented and explained, giving also the mathematic definition of the operation the algorithm implements.\n",
        "\n",
        "2. Results: in this section, the results of each algorithm are presented.\n",
        "\n",
        "3. Discussion: in this last section, results are discussed.\n",
        "\n"
      ]
    },
    {
      "metadata": {
        "id": "WeFO9QMeUOAu",
        "colab_type": "text"
      },
      "cell_type": "markdown",
      "source": [
        "# **Methods**\n",
        "\n",
        "This section is divided into two subsection: the mandatory part and the extra assignment."
      ]
    },
    {
      "metadata": {
        "id": "zF4iBj5VURZx",
        "colab_type": "text"
      },
      "cell_type": "markdown",
      "source": [
        "## Mandatory assignment"
      ]
    },
    {
      "metadata": {
        "id": "qeEw6toOP6Xy",
        "colab_type": "text"
      },
      "cell_type": "markdown",
      "source": [
        "###1. Jacobi iteration\n",
        "Jacobi method is an iterative method for determining the solution of a diagonally dominant system of linear equations [2].\n",
        "\n",
        "####Definition\n",
        "Given the system $Ax=b$, where $A\\in\\mathbb{R}^{n\\times n}$ and $x,b\\in\\mathbb{R}^n$, Jacobi iteration consists firstly in splitting the matrix $A$ into two matrix $D$ and $E$ such that\n",
        "\n",
        ">$\n",
        "D= \\text{diag}(A) \\qquad \\qquad E= A-D\n",
        "$\n",
        "\n",
        "Thus, the system can be rewritten as \n",
        "\n",
        ">$\n",
        "  (D + E)x=b \\Longrightarrow Dx= -Ex + b\n",
        "$\n",
        "\n",
        "from which we can get the iteration step given by\n",
        "\n",
        ">$\n",
        " x^{(k+1)}= -D^{-1}Ex^{(k)} + D^{-1}b=Mx^{(k)}+c\n",
        "$\n",
        "\n",
        "where $M$ is called *iteration matrix*.\n",
        "\n",
        "####Convergence\n",
        "The convergence is reached if the spectral radius is lower than 1, or\n",
        "\n",
        ">$\n",
        "\\rho(M) < 1 \\quad \\Longleftrightarrow \\quad \\rho\\left(-D^{-1}\\left(A-D\\right)\\right) < 1\n",
        "$\n",
        "\n",
        "A sufficient (but not necessary) condition for the method to converge is that the matrix $A$ is strictly diagonally dominant [2], which means\n",
        "\n",
        ">$\n",
        "|a_{ii}| > \\displaystyle \\sum_{i\\ne j}^n |a_{ij}|\n",
        "$\n",
        "\n",
        "In case the matrix is not strictly diagonally dominant, it might be possible to make it strictly diagonally dominant by applying a permutation to the system $Ax=b$. The permutation does not change the solution of the systems because the system can be rewritten as\n",
        "\n",
        ">$\n",
        " Ax = b \\quad \\Longrightarrow \\quad PAx = Pb\n",
        "$\n",
        "\n",
        "where $P\\in\\mathbb{R}^{n\\times n}$ is the permutation matrix.\n",
        "\n",
        "Clearly applying the permutation matrix does not guarantee the convergence of the method, since the condition of being strictly diagonally dominant is not necessary, but it is an approach that can be used to modify the system without changing its solutions.\n",
        "\n",
        "####Implementation\n",
        "The algorithm for implementing the Jacobi method is very simple, since all we need to do is to follow the mathematical steps presented in the above section. The algorithm below is written in pseudocode\n",
        "\n",
        "\n",
        "\n",
        "```\n",
        "norm_b= norm(b)\n",
        "x(0) = initialPoint\n",
        "while (res / nomr_b) > tolerance do:\n",
        "  x(k+1) = M*x(k) + c\n",
        "  \n",
        "  res = ||b - A*x(k+1)||\n",
        "```\n",
        "\n",
        "In my implementation I have also inserted a control for assuring that the iteration matrix $M$ given in the input has the spectrum radius lower than $1$: if the matrix $M$ does not have the spectrum radius lower than $1$, then the matrix $A$ undergoes a permutation in order to make $A$ diagonally dominant and $M$ have $\\rho(M) < 1$. \n",
        "\n",
        "The pseudocode for the permutation is the following one:\n",
        "\n",
        "\n",
        "```\n",
        "indeces = list()\n",
        "for i = 1, ..., n do:\n",
        "  ind = argmax(|A[:,i]|)\n",
        "  indeces[i] = ind\n",
        "  \n",
        "for i = 1, ..., n do:\n",
        "  if i not in indeces then:\n",
        "    indeces.append(i)\n",
        "    \n",
        "perm_matrix = zeros(n,n)\n",
        "for i = 1, ..., n do:\n",
        "  perm_matrix[indeces[i], i] = 1\n",
        "```\n",
        "\n",
        "As we can see, it might happen that more than one row in the matrix $A$ could be mapped into the same row in the new matrix: in order to avoid this, these rows are mapped into other rows. For example, we can consider the matrix\n",
        "\n",
        ">$\n",
        "\\begin{pmatrix}\n",
        " -1 & 0 & 4 \\\\\n",
        " 2 & -1 & 0 \\\\\n",
        " -2 & 1 & 5 \n",
        "\\end{pmatrix}\n",
        "$\n",
        "\n",
        "The first and the third rows have the highest value at the same position, so following the permutation these two rows should be moved both to the last row in the new matrix, but obviously this is impossible. Therefore, the first row is moved correctly to the third row, the second rows is moved to the first row and the the third row is moved in the only row which is still free, that is the second. Thus, the new matrix is\n",
        "\n",
        ">$\n",
        "\\begin{pmatrix}\n",
        " 2 & -1 & 0 \\\\\n",
        " -2 & 1 & 5 \\\\\n",
        " -1 & 0 & 4\n",
        "\\end{pmatrix}\n",
        "$\n"
      ]
    },
    {
      "metadata": {
        "id": "FiuAizDY29LN",
        "colab_type": "code",
        "colab": {}
      },
      "cell_type": "code",
      "source": [
        "def jacobiIteration(matrixA, b, initialPoint, tol=1e-5):\n",
        "  '''\n",
        "  Solves the system of linear equations matrixA * x = b, using the Jacobi\n",
        "  iteration.\n",
        "  Parameters:\n",
        "  - matrixA: n x n matrix\n",
        "  - b: n x 1 vector\n",
        "  - initialPoint: starting guess for the iteration\n",
        "  - tol (default= 1e-5): tolerance to stop the iterations\n",
        "  Output:\n",
        "  - x: n x 1 vector, solution of matrixA * x = b\n",
        "  - residuals: vector containing all the residuals for each iteration\n",
        "  - wres: normalized residuals\n",
        "  - iter: number of iterations for reaching the convergence\n",
        "  '''\n",
        "  ############################################\n",
        "  ##           ITERATION MATRIX             ##\n",
        "  ############################################\n",
        "  def iterationMatrix(matrixA,b):                                               \n",
        "    if not isinstance(matrixA,np.ndarray):\n",
        "      matrixA= np.array(matrixA) \n",
        "    \n",
        "    D= np.diag(matrixA)\n",
        "    invD= np.diag([1/D[i] for i in range(0,matrixA.shape[0])])\n",
        "    D= np.diag(D)\n",
        "    E= matrixA - D\n",
        "    M= -np.dot(invD,E)\n",
        "    \n",
        "    return M, D, E, invD\n",
        "  \n",
        "  ############################################\n",
        "  ##           PERMUTATION MATRIX           ##\n",
        "  ############################################\n",
        "  def permutation(matrixA):                                      \n",
        "    if not isinstance(matrixA,np.ndarray):\n",
        "      matrixA= np.array(matrixA)  \n",
        "    \n",
        "    indeces= []\n",
        "    n= matrixA.shape[0]\n",
        "    for i in range(0,n):\n",
        "      ind= np.argmax(np.absolute(matrixA[i,:]))         # the permutation is done\n",
        "      if ind not in indeces:                            # in order to obtain a\n",
        "        indeces.append(ind)                             # diagonally dominant matrix \n",
        "\n",
        "    for i in range(0,n):\n",
        "      if i not in indeces:\n",
        "        indeces.append(i)\n",
        "\n",
        "    perm= np.zeros((n,n))\n",
        "    for i in range(0,len(indeces)):\n",
        "      perm[indeces[i],i]= 1\n",
        "\n",
        "    return perm\n",
        "\n",
        "   \n",
        "  ############################################\n",
        "  ##            JACOBI ITERATION            ##\n",
        "  ############################################\n",
        "  if not isinstance(matrixA,np.ndarray):\n",
        "    matrixA= np.array(matrixA)\n",
        "    \n",
        "  n= matrixA.shape[0]\n",
        "  \n",
        "  # M = -invD * (A - D) = -invD * E\n",
        "  # D = diag(A)\n",
        "  # E = A - D\n",
        "  # c = invD * b\n",
        "  M, D, E, invD= iterationMatrix(matrixA,b)\n",
        "  c= np.dot(invD,b)\n",
        "  \n",
        "  if np.isnan(M).any() or np.isinf(M).any():           # if matrixA has zero in the\n",
        "    perm= permutation(matrixA)                         # diagonal, do the permutation\n",
        "    \n",
        "    matrixA= np.dot(perm,matrixA) \n",
        "    \n",
        "    b= np.dot(perm,b)\n",
        "\n",
        "    M, D, E, invD= iterationMatrix(matrixA,b)           \n",
        "    c= np.dot(invD,b)\n",
        "  \n",
        "  # convergence if rho(M)<1\n",
        "  eigvals,_= np.linalg.eig(M)\n",
        "\n",
        "  if max(np.absolute(eigvals)) >= 1:                    # rho(M) >= 1\n",
        "    perm= permutation(matrixA)                          # try to permutation of matrixA\n",
        "                                                        # in order to get a diagonally\n",
        "    matrixA= np.dot(perm,matrixA)                       # dominant matrix\n",
        "    b= np.dot(perm,b)\n",
        "\n",
        "    M, D, E, invD= iterationMatrix(matrixA,b)           # calculate again M, ...\n",
        "    c= np.dot(invD,b)\n",
        "\n",
        "    eigvals,_= np.linalg.eig(M)                         # new eigenvalues BUT THE \n",
        "                                                        # SOLUTIONS OF THE SYSTEM\n",
        "                                                        # DON'T CHANGE\n",
        "    \n",
        "    if max(np.absolute(eigvals)) >= 1:\n",
        "      print('Convergence will not be reached because rho(I-invD*A)>=1.\\nTry other methods.')\n",
        "      return None, None, None, None\n",
        "\n",
        "  # we are sure that the algorithm converges. Now we can find x\n",
        "  x= initialPoint\n",
        "  res = b - np.dot(matrixA,x)    \n",
        "  res= linalg.norm(res)\n",
        "  norm_b= linalg.norm(b)\n",
        "  residuals= []\n",
        "  it= 0\n",
        "  while res/norm_b > tol and it < 1000:\n",
        "    x= np.dot(M,x) + c\n",
        "    \n",
        "    res = b - np.dot(matrixA,x)    \n",
        "    res= linalg.norm(res)\n",
        "    residuals.append(res)\n",
        "    it+= 1\n",
        "  \n",
        "  return x, np.array(residuals), np.array(residuals / norm_b), it"
      ],
      "execution_count": 0,
      "outputs": []
    },
    {
      "metadata": {
        "id": "PMOKr5ZePoqq",
        "colab_type": "text"
      },
      "cell_type": "markdown",
      "source": [
        "###2. Gauss-Seidel iteration\n",
        "Gauss-Seidel method is a method to solve system of linear equations and it is similar to Jacobi iteration. Even though it can be applied to any matrix with non-zero elements on the diagonal, convergence is only guaranteed if the matrix is either diagonally dominant, or symmetrix and positive definite [3].\n",
        "\n",
        "####Definition\n",
        "As the Jacobi method, also Gauss-Seidel iteration is based on the splitting the matrix $A$ of the system $Ax=b$ into \n",
        "\n",
        ">$\n",
        "L= \\text{lower}(A) \\qquad  \\qquad  U= A-L\n",
        "$\n",
        "\n",
        "Thus, the system can be rewritten as \n",
        "\n",
        ">$\n",
        "  (L + U)x=b \\Longrightarrow Lx= -Ux + b\n",
        "$\n",
        "\n",
        "from which we can get the iteration step given by\n",
        "\n",
        ">$\n",
        " x^{(k+1)}= -L^{-1}Ux^{(k)} + L^{-1}b=Mx^{(k)}+c\n",
        "$\n",
        "\n",
        "\n",
        "####Convergence\n",
        "Since Gauss-Seidel iteration is quite similar to Jacobi iteration, also here the convergence is reached if [4]\n",
        "\n",
        ">$\n",
        "\\rho(M) < 1\n",
        "$\n",
        "\n",
        "####Implementation\n",
        "The implementation of Gauss-Seidel is exactly the same as the implementation of Jacobi iteration, with the only difference that $M= - L^{-1}U$  istead of $M=-D^{-1}E$."
      ]
    },
    {
      "metadata": {
        "id": "8TT9gErYP80J",
        "colab_type": "code",
        "colab": {}
      },
      "cell_type": "code",
      "source": [
        "def gaussSeidelIteration(matrixA ,b, initialPoint, tol=1e-5):\n",
        "  '''\n",
        "  Solves the system of linear equations matrixA * x = b, using the Gauss - Seidel\n",
        "  iteration.\n",
        "  Parameters:\n",
        "  - matrixA: n x n matrix\n",
        "  - b: n x 1 vector\n",
        "  - initialPoint: starting guess for the iteration\n",
        "  - tol (default= 1e-5): tolerance to stop the iterations\n",
        "  Output:\n",
        "  - x: n x 1 vector, solution of matrixA * x = b\n",
        "  - residuals: vector containing all the residuals for each iteration\n",
        "  - wres: normalized residuals\n",
        "  - iter: number of iterations for reaching the convergence\n",
        "  '''\n",
        "  \n",
        "  ############################################\n",
        "  ##           ITERATION MATRIX             ##\n",
        "  ############################################\n",
        "  def iterationMatrix(matrixA,b):\n",
        "    if not isinstance(matrixA,np.ndarray):\n",
        "      matrixA= np.array(matrixA) \n",
        "    \n",
        "    # split matrixA= L + U\n",
        "    L= np.tril(matrixA)\n",
        "    U= np.triu(matrixA,1)\n",
        "    try:\n",
        "      invL= linalg.inv(L)\n",
        "      M= -np.dot(invL,U)\n",
        "    except np.linalg.LinAlgError:\n",
        "      perm= permutation(matrixA) \n",
        "      matrixA= np.dot(perm,matrixA)                       # dominant matrix\n",
        "      b= np.dot(perm,b)\n",
        "      L= np.tril(matrixA)\n",
        "      U= np.triu(matrixA,1)\n",
        "      invL= linalg.inv(L)\n",
        "      M= -np.dot(invL,U)\n",
        "     \n",
        "    return M, L, U, invL\n",
        "  \n",
        "  ############################################\n",
        "  ##           PERMUTATION MATRIX           ##\n",
        "  ############################################\n",
        "  def permutation(matrixA):                                      \n",
        "    if not isinstance(matrixA,np.ndarray):\n",
        "      matrixA= np.array(matrixA)  \n",
        "    \n",
        "    indeces= []\n",
        "    n= matrixA.shape[0]\n",
        "    for i in range(0,n):\n",
        "      ind= np.argmax(np.absolute(matrixA[i,:]))         # the permutation is done\n",
        "      if ind not in indeces:                            # in order to obtain a\n",
        "        indeces.append(ind)                             # diagonally dominant matrix \n",
        "\n",
        "    for i in range(0,n):\n",
        "      if i not in indeces:\n",
        "        indeces.append(i)\n",
        "\n",
        "    perm= np.zeros((n,n))\n",
        "    for i in range(0,len(indeces)):\n",
        "      perm[indeces[i],i]= 1\n",
        "\n",
        "    return perm\n",
        "  \n",
        "  ############################################\n",
        "  ##       GAUSS - SEIDEL ITERATION         ##\n",
        "  ############################################\n",
        "  if not isinstance(matrixA,np.ndarray):\n",
        "    matrixA= np.array(matrixA)\n",
        "  \n",
        "  n= matrixA.shape[0]\n",
        "  \n",
        "  # M = -invL * (A - L) = -invL * U\n",
        "  # L = lowerTriangular(A)\n",
        "  # U = A - L\n",
        "  # c = invL * b\n",
        "  M, L, U, invL= iterationMatrix(matrixA,b)\n",
        "  c= np.dot(invL,b)\n",
        "  \n",
        "  # convergence if rho(M)<1\n",
        "  eigvals,_= np.linalg.eig(M)\n",
        "  if max(np.absolute(eigvals)) >= 1:         # rho(M) >= 1\n",
        "    perm= permutation(matrixA)                          # try to permutation of matrixA\n",
        "                                                        # in order to get a diagonally\n",
        "    matrixA= np.dot(perm,matrixA)                       # dominant matrix\n",
        "    b= np.dot(perm,b)\n",
        "\n",
        "    M, L, U, invL= iterationMatrix(matrixA,b)           # calculate again M, ...\n",
        "    c= np.dot(invL,b)\n",
        "\n",
        "    eigvals,_= np.linalg.eig(M)                         # new eigenvalues BUT THE \n",
        "                                                        # SOLUTIONS OF THE SYSTEM\n",
        "                                                        # DON'T CHANGE\n",
        "  \n",
        "    \n",
        "    if max(np.absolute(eigvals)) >= 1:\n",
        "      print('Convergence will not be reached because rho(I-invD*A)>=1.\\nTry other methods.')\n",
        "      return None, None, None, None\n",
        "\n",
        "    \n",
        "  # we are sure that the algorithm converges. Now we can find x\n",
        "  x= initialPoint\n",
        "  residuals= []\n",
        "  res = b - np.dot(matrixA,x)    # initial residual -> just to enter in the loop\n",
        "  res= linalg.norm(res)\n",
        "  norm_b= linalg.norm(b)\n",
        "  it= 0\n",
        "  while res/norm_b > tol and it < 1000:\n",
        "    x= np.dot(M,x) + c\n",
        "    \n",
        "    res = b - np.dot(matrixA,x)    \n",
        "    res= linalg.norm(res)\n",
        "    residuals.append(res)\n",
        "    it+= 1\n",
        "  \n",
        "  return x, np.array(residuals), np.array(residuals / norm_b), it\n",
        "  "
      ],
      "execution_count": 0,
      "outputs": []
    },
    {
      "metadata": {
        "id": "TszYWshaae3S",
        "colab_type": "text"
      },
      "cell_type": "markdown",
      "source": [
        "###3. Newton's method for scalar nonlinear equation\n",
        "In numerical analysis, Newton's method is a method for finding successively better approximation to the zeros of a real-valued function [5]. \n",
        "\n",
        "####Definition\n",
        "Given a nonlinear function $f:\\mathbb{R}\\to\\mathbb{R}$, we want to find the solution to the equation\n",
        "\n",
        ">$\n",
        "  f(x)=0\n",
        "$\n",
        "\n",
        "One approach is to use the fixed point iteration [6], for which the $(k+1)$-th approximation $x^{(k+1)}$ is defined as\n",
        "\n",
        ">$\n",
        "  x^{(k+1)} = x^{(k)} + \\alpha f\\left(x^{(k)}\\right)\n",
        "$\n",
        "\n",
        "where $alpha$ for the Newton's method is equal to\n",
        "\n",
        ">$\n",
        "  \\alpha = -\\dfrac{1}{f'\\left(x^{(k)}\\right)}\n",
        "$\n",
        "\n",
        "####Convergence\n",
        "This method converges quadratically to the exact solution: in fact, the error $e^{(k+1)}$ at the $(k+1)$-th step is equal to\n",
        "\n",
        ">$\n",
        "  e^{(k+1)}= \\dfrac{1}{2}|f'\\left(x^{(k)}\\right)^{-1}f''\\left(\\xi\\right)||e^{(k)}|^2\n",
        "$\n",
        "\n",
        "and it depends quadratically on the error of the previous iteration [6].\n",
        "\n",
        "####Implementation\n",
        "The implementation of the Newton's method is given by [7]:\n",
        "\n",
        "\n",
        "\n",
        "```\n",
        "x(0) = initialPoint\n",
        "while |f(x(k))| >= tolerance do:\n",
        "  compute f'(x(k))\n",
        "  x(k+1) = x(k) - f(x(k)) / f'(x(k))\n",
        "end\n",
        "```\n",
        "\n",
        "There may be difficulties in handling the derivative of the function $f$, since there exist different way to estimate a derivative. Here I chose to compute the central derivative of $f$, which is defined as\n",
        "\n",
        ">$\n",
        "  \\dfrac{df}{dx}= \\dfrac{f(x+h)-f(x-h)}{2h}\n",
        "$\n",
        "\n",
        "where $h$ is a parameter to be chosen.\n"
      ]
    },
    {
      "metadata": {
        "id": "sB8TvzAcasVv",
        "colab_type": "code",
        "colab": {}
      },
      "cell_type": "code",
      "source": [
        "def derivative(fun, point, h):\n",
        "  '''\n",
        "  Calculates the first order derivative of the function @fun at the point @point.\n",
        "  Parameters:\n",
        "  - fun: function for which the 1st order derivative is wanted\n",
        "  - point: point where to calculate the derivative\n",
        "  Output:\n",
        "  - derivative: central 1st order derivative\n",
        "  '''\n",
        "  return (fun(point+h) - fun(point-h)) / (2*h)               # central derivative f'= (f(x+1) - f(x-1))/2\n",
        "\n",
        "\n",
        "\n",
        "\n",
        "def newtonScalarNLeq(fun, point, der=None, h= 0.1, tol= 1e-5):\n",
        "  '''\n",
        "  Solve the scalar nonlinear equation f(x) = 0, where f(x) is the function @fun.\n",
        "  The method used is Newton's method.\n",
        "  Parameters:\n",
        "  - fun: function \n",
        "  - point: starting guess for the iteration\n",
        "  - der (default = None): derivative of the function @fun, calculated manually. \n",
        "  - h (default = 0.1): dx used in computing the derivative\n",
        "  - tol (default= 1e-5): tolerance to stop the iterations\n",
        "  Output:\n",
        "  - x: point x such that f(x)=0\n",
        "  - residuals: vector containing all the residuals for each iteration\n",
        "  - iter: number of iterations for reaching the convergence\n",
        "  '''\n",
        "  \n",
        "  \n",
        "  if not callable(fun):\n",
        "    print('Error: impossible to continue! Parameter @fun is not callable()')\n",
        "    return None, None\n",
        "    \n",
        "  # loop until convergence is not reached\n",
        "  residuals= []\n",
        "  x= point\n",
        "  res= np.absolute(fun(x))\n",
        "  residuals.append(res)\n",
        "  k= 1\n",
        "  while res >= tol and k < 1000:\n",
        "    alpha = 0\n",
        "    if callable(der):\n",
        "      alpha= der(x)\n",
        "    else:\n",
        "      alpha= derivative(fun, x, h)\n",
        "      \n",
        "    x= x - fun(x)/alpha\n",
        "    res= np.absolute(fun(x))\n",
        "    residuals.append(res)\n",
        "    k+= 1\n",
        "    \n",
        "  return x, np.array(residuals), k\n"
      ],
      "execution_count": 0,
      "outputs": []
    },
    {
      "metadata": {
        "id": "KvJrrDKbsqgK",
        "colab_type": "text"
      },
      "cell_type": "markdown",
      "source": [
        "## Extra assignment"
      ]
    },
    {
      "metadata": {
        "id": "axlgjBl8vXZr",
        "colab_type": "text"
      },
      "cell_type": "markdown",
      "source": [
        "###4. GMRES method\n",
        "The generalized minimal residual method (GMRES) is an iterative method for the numerical solution of a nonsymmetric system of linear equation. This method approximates the solution by the vector in a Krylov subspace with minimal residual [8].\n",
        "\n",
        "####Definition\n",
        "Given the system of linear equations $Ax=b$ with $A\\in\\mathbb{R}^{n\\times n}$ and $x,b\\in\\mathbb{R}^n$, GMRES [9] consists of finding the vector $x^{(k)}\\in K_k$ that minimizes the norm \n",
        "\n",
        ">$\n",
        "  ||r^{(k)}||= ||b-Ax^{(x)}||\n",
        "$\n",
        " \n",
        "In order to this, GMRES approximates the exact solution of $Ax=b$ by the vector $x^{k}$ belonging to the Krylov subspace, defined as\n",
        "\n",
        ">$\n",
        " K_n = span\\{b,Ab,A^2b,\\dots,A^{n-1}b\\}\n",
        "$\n",
        "\n",
        "\n",
        "####Implementation\n",
        "The implementation is based on the Arnoldi iteration [10], which is used to construct a partial similarity transformation of $A$ into the Hessenberg matrix $\\tilde{H}_k \\in\\mathbb{R}^{(k+1)\\times k}$.\n",
        "\n",
        "The pseudocode for GMRES is the following one:\n",
        "\n",
        "\n",
        "\n",
        "```\n",
        "k = 0\n",
        "q[1]= b / ||b||\n",
        "while ||res[k]|| / ||r[1]|| >= tolerance do:\n",
        "  q[k], h[k] = arnoldiIteration(A, Q, k)\n",
        "  \n",
        "  update Q with q[k]\n",
        "  update H with h[k]\n",
        "  \n",
        "  y = leastSquares(H,||b||*e_1)\n",
        "  x(k) = Q * y\n",
        "  \n",
        "  res[k] = ||b - A * x(k)||\n",
        "```\n",
        "\n",
        "where the ```arnoldiIteration(A, Q, k)``` is \n",
        "\n",
        "\n",
        "```\n",
        "h = zeros(K+1,1)\n",
        "q = A * Q[:, K-1]\n",
        "\n",
        "for k = 1, ..., K do:\n",
        "  h[k] = Q[:,k] * q\n",
        "  q = q - h[k] * Q[:,k]\n",
        "end\n",
        "\n",
        "h[K+1] = ||q||\n",
        "q = q / h[K+1]\n",
        "  \n",
        "```\n",
        "\n",
        "For more details, see [8, 9, 10, 11].\n",
        "\n",
        "\n",
        "\n",
        "\n"
      ]
    },
    {
      "metadata": {
        "id": "pjXYv7W0vWek",
        "colab_type": "code",
        "colab": {}
      },
      "cell_type": "code",
      "source": [
        "def GMRESiteration(matrixA, b, tol=1e-5):\n",
        "  '''\n",
        "  Solves the system of linear equations matrixA * x = b, using the GMRES\n",
        "  iteration.\n",
        "  Parameters:\n",
        "  - matrixA: n x n matrix\n",
        "  - b: n x 1 vector\n",
        "  - tol (default= 1e-5): tolerance to stop the iterations\n",
        "  Output:\n",
        "  - x: n x 1 vector, solution of matrixA * x = b\n",
        "  - residuals: vector containing all the residuals for each iteration\n",
        "  - wres: normalized residuals\n",
        "  - iter: number of iterations for reaching the convergence\n",
        "  '''\n",
        "  \n",
        "  ######################################\n",
        "  ##             ARNOLDI              ##\n",
        "  ######################################\n",
        "  def arnoldiIteration(matrixA, Q, K):\n",
        "    '''\n",
        "    Gives a partial similarity transformation of matrixA into a Hessenberg \n",
        "    matrix.\n",
        "    Parameters:\n",
        "    - matrixA: n x n matrix\n",
        "    - Q: orthogonal matrix of the previous step\n",
        "    - K: k-th step of the iteration\n",
        "    Output:\n",
        "    - vect_h: new vector of the Hessenberg matrix\n",
        "    - q: new vector of the orthogonal matrix\n",
        "    '''\n",
        "    if not isinstance(matrixA, np.ndarray):\n",
        "      matrixA= np.array(matrixA)\n",
        "    \n",
        "    if not isinstance(Q, np.ndarray):\n",
        "      Q= np.array(Q)\n",
        "  \n",
        "    vect_h= np.zeros((K+1,1))\n",
        "    q= np.dot(matrixA, Q[:,K-1])  \n",
        "    \n",
        "    for k in range(0,K):\n",
        "      vect_h[k]= np.inner(Q[:,k],q)\n",
        "      q= q - vect_h[k]*Q[:,k]\n",
        "      \n",
        "    vect_h[K]= linalg.norm(q)\n",
        "    q= q / vect_h[K]\n",
        "  \n",
        "    return vect_h, q\n",
        "  \n",
        "  ######################################\n",
        "  ##              GMRES               ##\n",
        "  ######################################\n",
        "  if not isinstance(matrixA,np.ndarray):\n",
        "    matrixA= np.array(matrixA)\n",
        "    \n",
        "  if not isinstance(b,np.ndarray):\n",
        "    b= np.array(b)\n",
        "  \n",
        "  n= matrixA.shape[0]\n",
        "  k= 1\n",
        "  Q= np.zeros((n,1))\n",
        "  Q[:]= b / linalg.norm(b)\n",
        "  res_0= linalg.norm(b)\n",
        "  res= res_0\n",
        "  residuals= []\n",
        "  residuals.append(res)\n",
        "  \n",
        "  while res / res_0 >= tol and k < 1000:\n",
        "    h_new, q_new= arnoldiIteration(matrixA, Q, k)         # k-th step of Arnoldi iteration\n",
        "    \n",
        "    # UPDATE H: the new H is build by adding a new row and a new column to the \n",
        "    # previous one. The last column will be equal to the vector h_new calculated\n",
        "    # by the Arnoldi iteration in the current step.\n",
        "    if k == 1:\n",
        "      H= h_new\n",
        "    else:\n",
        "      H_new= np.zeros((k+1,k))\n",
        "      H_new[0:k,0:k-1]= H\n",
        "      H_new[:,k-1]= h_new.T\n",
        "      H= H_new\n",
        "    \n",
        "    \n",
        "    ########### LEAST SQUARES ###############\n",
        "    # least square of (|b|e_1 - H_ky)\n",
        "    e_1= np.zeros((k+1,1))                                \n",
        "    e_1[0]= linalg.norm(b)                                \n",
        "    \n",
        "    \n",
        "    y,_,_,_= linalg.lstsq(H,e_1,rcond=None)               # using a built-in function\n",
        "    \n",
        "    x= np.dot(Q,y)\n",
        "    \n",
        "    # UPDATE Q: the new Q is build by adding to the prevoius Q the column vector\n",
        "    # q_new, calculated by the Arnoldi iteration in the current step.\n",
        "    Q_new= np.zeros((n,k+1))\n",
        "    Q_new[:,0:k]= Q\n",
        "    Q_new[:,k]= q_new\n",
        "    Q= Q_new\n",
        "    \n",
        "    # residual\n",
        "    res= b - np.dot(matrixA,x)\n",
        "    res= linalg.norm(res)\n",
        "    residuals.append(res)\n",
        "    \n",
        "    k+= 1\n",
        "  \n",
        "  return x, np.array(residuals), np.array(residuals/res_0), k-1\n",
        "  "
      ],
      "execution_count": 0,
      "outputs": []
    },
    {
      "metadata": {
        "id": "0-scZ9moayuA",
        "colab_type": "text"
      },
      "cell_type": "markdown",
      "source": [
        "###5. Newton's method for vector nonlinear equation\n",
        "This method is a generalization of Newton's method for only one equation. In fact, the Newton's method for nonlinear equation can be extended also to systems of nonlinear equations, with one adjustment.\n",
        "\n",
        "####Definition\n",
        "Given the following system of nonlinear equation\n",
        "\n",
        ">$\n",
        " \\begin{cases}\n",
        "  f_1(x_1,\\dots,x_n) = 0 \\\\\n",
        "  f_2(x_1,\\dots,x_n) = 0 \\\\\n",
        "  \\qquad \\vdots \\\\\n",
        "  f_n(x_1,\\dots,x_n) = 0\n",
        "  \\end{cases}\n",
        "$\n",
        "\n",
        "the $(k+1)$-th solution $\\tilde{x}= (\\tilde{x}_1,\\dots,\\tilde{x}_n)$ is given by the iteration step\n",
        "\n",
        ">$\n",
        "  x^{(k+1)} = x^{(k)} + \\alpha f\\left(x^{(k)}\\right)\n",
        "$\n",
        "\n",
        "where $\\alpha$ is a pamater to be chosen. For nonlinear equations $\\alpha$ was equal to\n",
        "\n",
        ">$\n",
        "  \\alpha = - \\dfrac{1}{f'(x^{(k)})}\n",
        "$\n",
        "\n",
        "but here, for systems of nonlinear equations, the parameter $\\alpha$ is defined similarly as\n",
        "\n",
        ">$\n",
        " \\alpha = - \\text{Jac}\\left(f\\left(\\vec{x}^{(k)}\\right)\\right)^{-1}\n",
        "$\n",
        "\n",
        "where $\\text{Jac}\\left(f\\left(\\vec{x}^{(k)}\\right)\\right)$ is the Jacobian of the system calculated in $\\vec{x}^{(k)}$:\n",
        "\n",
        ">$\n",
        "  \\text{Jac}\\left(f\\left(\\vec{x}^{(k)}\\right)\\right) = \\begin{pmatrix}\n",
        "  \\left(\\nabla f_1\\left(\\vec{x}^{(k)}\\right)\\right)^T \\\\\n",
        "  \\left(\\nabla f_2\\left(\\vec{x}^{(k)}\\right)\\right)^T \\\\\n",
        "  \\! \\vdots \\\\\n",
        "  \\left(\\nabla f_n\\left(\\vec{x}^{(k)}\\right)\\right)^T \\\\\n",
        "  \\end{pmatrix}\n",
        "$\n",
        "\n",
        "####Implementation\n",
        "The implementation is given by [12] and here is reported in pseudocode:\n",
        "\n",
        "\n",
        "```\n",
        "x[0] = initialPoint\n",
        "while |f(x(k))| >= tolerance do:\n",
        "  compute the Jacobian f'(x[k]) in x[k]\n",
        "  solve f'(x[k]) * dx[k+1] = -f(x[k])\n",
        "  \n",
        "  x[k+1] = x[k] + dx[k+1]\n",
        "  \n",
        "end\n",
        "```\n",
        "\n"
      ]
    },
    {
      "metadata": {
        "id": "UMSlfsoFaxyz",
        "colab_type": "code",
        "colab": {}
      },
      "cell_type": "code",
      "source": [
        "def jacobian(fun,point,h):\n",
        "  '''\n",
        "  Calculates the Jacobian matrix for the vector function @fun at the point @point.\n",
        "  Parameters:\n",
        "  - fun: function for which the Jacobian matrix is wanted\n",
        "  - point: point where to calculate the Jacobian\n",
        "  - h (default= 1): incrementation for the derivative\n",
        "  Output:\n",
        "  - jacobian: jacobian matrix of the function @fun\n",
        "  '''\n",
        "  if not isinstance(point, np.ndarray):\n",
        "    point = np.array(point)\n",
        "    \n",
        "  n= len(point)\n",
        "  \n",
        "  jacobian= np.zeros((n,n))\n",
        "  for i in range(0,n):\n",
        "    pp1= [p for p in point]\n",
        "    pp2= [p for p in point]\n",
        "    \n",
        "    pp1[i]= pp1[i] + h\n",
        "    pp2[i]= pp2[i] - h\n",
        "    \n",
        "    jacobian[:,i]= ((fun(pp1) - fun(pp2)) / (2*h)).T\n",
        "  \n",
        "  return jacobian\n",
        "  \n",
        "  \n",
        "  \n",
        "  \n",
        "def newtonNLsystems(fun, initialPoint, J= None, h=0.1, tol= 1e-5):\n",
        "  '''\n",
        "  Solve the vector nonlinear system of equations f(x) = 0, where f(x) is the\n",
        "  vector function @fun.\n",
        "  The method used is Newton's method.\n",
        "  Parameters:\n",
        "  - fun: vector function \n",
        "  - point: starting guess for the iteration\n",
        "  - J (default= None): the Jacobian matrix of the vector function. It improves\n",
        "    algorithm performances.\n",
        "    - h (default = 0.1): dx used in computing the derivative\n",
        "  - tol (default= 1e-5): tolerance to stop the iterations\n",
        "  Output:\n",
        "  - x: point x such that f(x)=0\n",
        "  - residuals: vector containing all the residuals for each iteration\n",
        "  - iter: number of iterations for reaching the convergence\n",
        "  '''\n",
        "  if not callable(fun):\n",
        "    print('Error: impossible to continue! Parameter @fun is not callable()')\n",
        "    return None, None\n",
        "  \n",
        "  if not isinstance(initialPoint, np.ndarray):\n",
        "    intialPoint = np.array(initialPoint)\n",
        "    \n",
        "  x= initialPoint\n",
        "  k = 1\n",
        "  residuals= []\n",
        "  res= linalg.norm(fun(x))\n",
        "  residuals.append(res)\n",
        "  while res >= tol and k < 1000:                                      # res= |f(x)|\n",
        "    jac= []\n",
        "    if callable(J):                                      # use J given by the user\n",
        "      jac= J(x)                                          # or calculate it\n",
        "    else:\n",
        "      jac= jacobian(fun,x,h)\n",
        "    \n",
        "\n",
        "    b= - fun(x)\n",
        "    dx, _, _, _ = linalg.lstsq(jac, b, rcond=None)       # built-in function\n",
        "    x = x + dx                    \n",
        "    res= linalg.norm(fun(x))\n",
        "    residuals.append(res)\n",
        "    k+= 1\n",
        "    \n",
        "  return x, np.array(residuals), k"
      ],
      "execution_count": 0,
      "outputs": []
    },
    {
      "metadata": {
        "id": "Yy9Uo7VnyKth",
        "colab_type": "text"
      },
      "cell_type": "markdown",
      "source": [
        "# **Results**\n",
        "This section, where the above algorithms are going to be tested, is divided in the following way:\n",
        "\n",
        "1. Tests on Jacobi iteration, Gauss-Seidel iteration and GMRES iteration\n",
        "2. Tests on Newton's method for nonlinear equations and systems of nonlinear equations."
      ]
    },
    {
      "metadata": {
        "id": "SsQLT38gVbn_",
        "colab_type": "text"
      },
      "cell_type": "markdown",
      "source": [
        "## Systems of linear equations\n",
        "The tests on Jacobi iteration, Gauss-Seidel iteration and GMRES iteration will be conducted on the same systems, in order to observe the differences between these three methods.\n",
        "\n",
        "The test systems are exercises taken from [12]:\n",
        "\n",
        "1. System number 1:\n",
        ">$\n",
        "\\begin{pmatrix}\n",
        "  2 & 7 & 1 \\\\\n",
        "  4 & 1 & -1 \\\\\n",
        "  1 & -3 & 12\n",
        "\\end{pmatrix}\\begin{pmatrix}\n",
        " x_1 \\\\\n",
        " x_2 \\\\\n",
        " x_3\n",
        "\\end{pmatrix} = \\begin{pmatrix}\n",
        "  19 \\\\\n",
        "  3 \\\\\n",
        "  31\n",
        "\\end{pmatrix} \\Longrightarrow x = \\begin{pmatrix}\n",
        " 1 & 2 & 3\n",
        "\\end{pmatrix}^T\n",
        "$\n",
        "\n",
        "\n",
        "\n",
        " 2.  System number 2:\n",
        " >$\n",
        "\\begin{pmatrix}\n",
        "  2 & 1 & 1 \\\\\n",
        "  1 & 2 & 1 \\\\\n",
        "  1 & 1 & 2\n",
        "\\end{pmatrix}\\begin{pmatrix}\n",
        " x_1 \\\\\n",
        " x_2 \\\\\n",
        " x_3\n",
        "\\end{pmatrix} = \\begin{pmatrix}\n",
        "  4 \\\\\n",
        "  4 \\\\\n",
        "  4\n",
        "\\end{pmatrix} \\Longrightarrow x = \\begin{pmatrix}\n",
        " 1 & 1 & 1\n",
        "\\end{pmatrix}^T\n",
        " $\n",
        " \n",
        " 3. System number 3:\n",
        "  >$\n",
        "\\begin{pmatrix}\n",
        "  3 & 0 & 1 \\\\\n",
        "  -1 & -1 & 3 \\\\\n",
        "  1 & 2 & 0\n",
        "\\end{pmatrix}\\begin{pmatrix}\n",
        " x_1 \\\\\n",
        " x_2 \\\\\n",
        " x_3\n",
        "\\end{pmatrix} = \\begin{pmatrix}\n",
        "  4 \\\\\n",
        "  1 \\\\\n",
        "  3\n",
        "\\end{pmatrix} \\Longrightarrow x = \\begin{pmatrix}\n",
        " 1 & 1 & 1\n",
        "\\end{pmatrix}^T\n",
        " $\n",
        " \n",
        " 4. System number 4:\n",
        ">$\n",
        "\\begin{pmatrix}\n",
        "  2 & -1 & 0 & 0 \\\\\n",
        "  -1 & 2 & -1 & 0 \\\\\n",
        "  0 & -1 & 2 & -1 \\\\\n",
        "  0 & 0 & -1& 2\n",
        "\\end{pmatrix}\\begin{pmatrix}\n",
        " x_1 \\\\\n",
        " x_2 \\\\\n",
        " x_3 \\\\\n",
        " x_4\n",
        "\\end{pmatrix} = \\begin{pmatrix}\n",
        "  19 \\\\\n",
        "  19 \\\\\n",
        "  -3 \\\\\n",
        "  -12\n",
        "\\end{pmatrix} \\Longrightarrow x = \\begin{pmatrix}\n",
        " 23 & 27 & 17 & 0\n",
        "\\end{pmatrix}^T\n",
        " $\n"
      ]
    },
    {
      "metadata": {
        "id": "qyWQrLh_FaD3",
        "colab_type": "code",
        "colab": {
          "base_uri": "https://localhost:8080/",
          "height": 2655
        },
        "outputId": "7f9a86a9-6ed4-4d81-b00f-aba3b58b87b9"
      },
      "cell_type": "code",
      "source": [
        "def printSolution(method, correctSolution, sol):\n",
        "  t= method + '\\n'\n",
        "  t+= '> solution after {} iterations \\n'.format(sol[3])\n",
        "  if sol[0] is not None:\n",
        "    t+= '> x = {} \\n'.format(sol[0].T)\n",
        "    res = np.linalg.norm(correctSolution - sol[0])\n",
        "    t+= '> ||x - correctSolution || = {:.5} \\n'.format(res)\n",
        "  else:\n",
        "    t+= '> x = {} \\n'.format(sol[0])\n",
        "    \n",
        "\n",
        "  if sol[1] is not None:\n",
        "    plt.plot([x for x in range(0,len(sol[1]))],sol[1])\n",
        "  \n",
        "  print(t)\n",
        "  \n",
        "\n",
        "A1= [[2,  7,  1],\n",
        "    [4,  1, -1],\n",
        "    [1, -3, 12]]\n",
        "\n",
        "b1= [[19],\n",
        "     [ 3],\n",
        "     [31]]\n",
        "\n",
        "startingPoint= [[0],[0],[0]]\n",
        "corSol= [[1],\n",
        "         [2],\n",
        "         [3]]\n",
        "\n",
        "plt.figure()\n",
        "plt.subplot(3,1,1)\n",
        "printSolution('JACOBI ITERATION', corSol, jacobiIteration(A1, b1, startingPoint, tol= 1e-10))\n",
        "\n",
        "plt.subplot(3,1,2)\n",
        "printSolution('GAUSS-SEIDEL ITERATION', corSol, gaussSeidelIteration(A1, b1, startingPoint , tol= 1e-10))\n",
        "            \n",
        "plt.subplot(3,1,3)\n",
        "printSolution('GMRES ITERATION', corSol, GMRESiteration(A1, b1, tol=1e-10))\n",
        "\n",
        "plt.show()\n",
        "\n",
        "\n",
        "print('\\n-----------------------------------------------------------------------')\n",
        "print('-----------------------------------------------------------------------')\n",
        "print('-----------------------------------------------------------------------\\n')\n",
        "\n",
        "A2= [[2,  1, 1],\n",
        "    [1,  2, 1],\n",
        "    [1,  1, 2]]\n",
        "\n",
        "b2= [[ 4],\n",
        "     [ 4],\n",
        "     [ 4]]\n",
        "\n",
        "startingPoint= [[0],[0],[0]]\n",
        "\n",
        "corSol= [[1],\n",
        "         [1],\n",
        "         [1]]\n",
        "\n",
        "\n",
        "plt.figure()\n",
        "plt.subplot(3,1,1)\n",
        "printSolution('JACOBI ITERATION', corSol, jacobiIteration(A2, b2, startingPoint, tol= 1e-10))\n",
        "\n",
        "plt.subplot(3,1,2)\n",
        "printSolution('GAUSS-SEIDEL ITERATION', corSol, gaussSeidelIteration(A2, b2, startingPoint , tol= 1e-10))\n",
        "            \n",
        "plt.subplot(3,1,3)\n",
        "printSolution('GMRES ITERATION', corSol, GMRESiteration(A2, b2, tol=1e-10))\n",
        "\n",
        "plt.show()\n",
        "\n",
        "\n",
        "print('\\n-----------------------------------------------------------------------')\n",
        "print('-----------------------------------------------------------------------')\n",
        "print('-----------------------------------------------------------------------\\n')\n",
        "\n",
        "A3= [[ 3,  0,  1],\n",
        "     [-1, -1,  3],\n",
        "     [1,   2,  0]]\n",
        "\n",
        "b3= [[4],\n",
        "     [1],\n",
        "     [3]]\n",
        "\n",
        "startingPoint= [[0],[0],[0]]\n",
        "\n",
        "corSol= [[1],\n",
        "         [1],\n",
        "         [1]]\n",
        "\n",
        "\n",
        "plt.figure()\n",
        "plt.subplot(3,1,1)\n",
        "printSolution('JACOBI ITERATION', corSol, jacobiIteration(A3, b3, startingPoint, tol= 1e-10))\n",
        "\n",
        "plt.subplot(3,1,2)\n",
        "printSolution('GAUSS-SEIDEL ITERATION', corSol, gaussSeidelIteration(A3, b3, startingPoint , tol= 1e-10))\n",
        "            \n",
        "plt.subplot(3,1,3)\n",
        "printSolution('GMRES ITERATION', corSol, GMRESiteration(A3, b3, tol=1e-10))\n",
        "\n",
        "plt.show()\n",
        "\n",
        "print('\\n-----------------------------------------------------------------------')\n",
        "print('-----------------------------------------------------------------------')\n",
        "print('-----------------------------------------------------------------------\\n')\n",
        "\n",
        "A4= [[ 2, -1 ,  0,  0],\n",
        "     [-1,  2,  -1,  0],\n",
        "     [ 0, -1,   2, -1],\n",
        "     [ 0,  0,  -1,  2]]\n",
        "\n",
        "b4= [[ 19],\n",
        "     [ 19],\n",
        "     [ -3],\n",
        "     [-12]]\n",
        "\n",
        "startingPoint= [[0],[0],[0],[0]]\n",
        "\n",
        "corSol= [[ 23],\n",
        "         [ 27],\n",
        "         [ 12],\n",
        "         [  0]]\n",
        "\n",
        "\n",
        "plt.figure()\n",
        "plt.subplot(3,1,1)\n",
        "printSolution('JACOBI ITERATION', corSol, jacobiIteration(A4, b4, startingPoint, tol= 1e-10))\n",
        "\n",
        "plt.subplot(3,1,2)\n",
        "printSolution('GAUSS-SEIDEL ITERATION', corSol, gaussSeidelIteration(A4, b4, startingPoint , tol= 1e-10))\n",
        "            \n",
        "plt.subplot(3,1,3)\n",
        "printSolution('GMRES ITERATION', corSol, GMRESiteration(A4, b4, tol=1e-10))\n",
        "\n",
        "plt.show()\n",
        "\n"
      ],
      "execution_count": 8,
      "outputs": [
        {
          "output_type": "stream",
          "text": [
            "JACOBI ITERATION\n",
            "> solution after 18 iterations \n",
            "> x = [[1. 2. 3.]] \n",
            "> ||x - correctSolution || = 4.0946e-10 \n",
            "\n",
            "GAUSS-SEIDEL ITERATION\n",
            "> solution after 9 iterations \n",
            "> x = [[1. 2. 3.]] \n",
            "> ||x - correctSolution || = 6.3096e-11 \n",
            "\n",
            "GMRES ITERATION\n",
            "> solution after 3 iterations \n",
            "> x = [[1. 2. 3.]] \n",
            "> ||x - correctSolution || = 1.8971e-15 \n",
            "\n"
          ],
          "name": "stdout"
        },
        {
          "output_type": "display_data",
          "data": {
            "image/png": "[encoded data removed]",
            "text/plain": [
              "<Figure size 576x396 with 3 Axes>"
            ]
          },
          "metadata": {
            "tags": []
          }
        },
        {
          "output_type": "stream",
          "text": [
            "\n",
            "-----------------------------------------------------------------------\n",
            "-----------------------------------------------------------------------\n",
            "-----------------------------------------------------------------------\n",
            "\n",
            "JACOBI ITERATION\n",
            "> solution after 1000 iterations \n",
            "> x = [[0. 0. 0.]] \n",
            "> ||x - correctSolution || = 1.7321 \n",
            "\n",
            "GAUSS-SEIDEL ITERATION\n",
            "> solution after 22 iterations \n",
            "> x = [[1. 1. 1.]] \n",
            "> ||x - correctSolution || = 2.7772e-10 \n",
            "\n",
            "GMRES ITERATION\n",
            "> solution after 1 iterations \n",
            "> x = [[1. 1. 1.]] \n",
            "> ||x - correctSolution || = 3.8459e-16 \n",
            "\n"
          ],
          "name": "stdout"
        },
        {
          "output_type": "display_data",
          "data": {
            "image/png": "[encoded data removed]",
            "text/plain": [
              "<Figure size 576x396 with 3 Axes>"
            ]
          },
          "metadata": {
            "tags": []
          }
        },
        {
          "output_type": "stream",
          "text": [
            "\n",
            "-----------------------------------------------------------------------\n",
            "-----------------------------------------------------------------------\n",
            "-----------------------------------------------------------------------\n",
            "\n",
            "JACOBI ITERATION\n",
            "> solution after 29 iterations \n",
            "> x = [[1. 1. 1.]] \n",
            "> ||x - correctSolution || = 9.7566e-11 \n",
            "\n",
            "GAUSS-SEIDEL ITERATION\n",
            "> solution after 1000 iterations \n",
            "> x = [[0.89473684 0.05263158 1.31578947]] \n",
            "> ||x - correctSolution || = 1.0041 \n",
            "\n",
            "GMRES ITERATION\n",
            "> solution after 3 iterations \n",
            "> x = [[1. 1. 1.]] \n",
            "> ||x - correctSolution || = 6.4737e-16 \n",
            "\n"
          ],
          "name": "stdout"
        },
        {
          "output_type": "stream",
          "text": [
            "/usr/local/lib/python3.6/dist-packages/ipykernel_launcher.py:24: RuntimeWarning: divide by zero encountered in long_scalars\n"
          ],
          "name": "stderr"
        },
        {
          "output_type": "display_data",
          "data": {
            "image/png": "[encoded data removed]",
            "text/plain": [
              "<Figure size 576x396 with 3 Axes>"
            ]
          },
          "metadata": {
            "tags": []
          }
        },
        {
          "output_type": "stream",
          "text": [
            "\n",
            "-----------------------------------------------------------------------\n",
            "-----------------------------------------------------------------------\n",
            "-----------------------------------------------------------------------\n",
            "\n",
            "JACOBI ITERATION\n",
            "> solution after 105 iterations \n",
            "> x = [[ 2.30000000e+01  2.70000000e+01  1.20000000e+01 -2.53871413e-09]] \n",
            "> ||x - correctSolution || = 6.9322e-09 \n",
            "\n",
            "GAUSS-SEIDEL ITERATION\n",
            "> solution after 52 iterations \n",
            "> x = [[ 2.3000000e+01  2.7000000e+01  1.2000000e+01 -1.5262307e-09]] \n",
            "> ||x - correctSolution || = 5.8473e-09 \n",
            "\n",
            "GMRES ITERATION\n",
            "> solution after 4 iterations \n",
            "> x = [[2.30000000e+01 2.70000000e+01 1.20000000e+01 5.32907052e-15]] \n",
            "> ||x - correctSolution || = 2.7804e-14 \n",
            "\n"
          ],
          "name": "stdout"
        },
        {
          "output_type": "display_data",
          "data": {
            "image/png": "[encoded data removed]",
            "text/plain": [
              "<Figure size 576x396 with 3 Axes>"
            ]
          },
          "metadata": {
            "tags": []
          }
        }
      ]
    },
    {
      "metadata": {
        "id": "L4VuMjibEYS9",
        "colab_type": "text"
      },
      "cell_type": "markdown",
      "source": [
        "## Nonlinear equations and systems of nonlinear equations\n",
        "In order to test the ```newtonScalarNLeq``` function defined in the above section, some exercises taken from [13, 14] have been used.\n",
        "\n",
        "1. $f(x) = x - \\sqrt{x+3} = 0 \\qquad \\qquad \\qquad x = \\dfrac{1 \\pm \\sqrt{13}}{2}$\n",
        "\n",
        "2. $f(x) = 2^x -3 = 0 \\qquad \\qquad \\qquad \\qquad x = \\dfrac{\\log 3}{\\log 2}$\n",
        "\n",
        "3. $f(x)= e^x -x -2 = 0 \\qquad \\qquad \\qquad x \\approx -1.84141 \\vee x \\approx 1.14619$ (solution calculated with [Wolfram Alpha](https://www.wolframalpha.com/input/?i=e%5Ex-x-2+%3D+0))\n",
        "\n"
      ]
    },
    {
      "metadata": {
        "id": "ecU-xzHYEgQO",
        "colab_type": "code",
        "colab": {
          "base_uri": "https://localhost:8080/",
          "height": 2930
        },
        "outputId": "2c03616a-2718-4ff6-855a-621cdcbea1bd"
      },
      "cell_type": "code",
      "source": [
        "def printSolutionScalarEquation(fun, cs, sol):\n",
        "  t= 'Solution after {} iterations \\n'.format(sol[2])\n",
        "  t+= '> x = {} \\n'.format(sol[0])\n",
        "  t+= '> f(x={:.5})= {:.2} \\n'.format(sol[0], fun(sol[0]))\n",
        "  res = np.linalg.norm(cs - sol[0])\n",
        "  t+= '> ||x - correctSolution || = {:.5} \\n'.format(res)\n",
        "  t+= '> res= {}'.format(sol[1])\n",
        "  print(t)\n",
        "  \n",
        "  plt.figure()\n",
        "  plt.plot([x for x in range(0,len(sol[1]))],sol[1])\n",
        "  plt.xlabel('iterations')\n",
        "  plt.ylabel('|f(x)|')\n",
        "\n",
        "  plt.show()\n",
        "  \n",
        "\n",
        "\n",
        "        \n",
        "def f1(x):\n",
        "  return x - np.sqrt(x+3)\n",
        "\n",
        "def derf1(x):\n",
        "  return 1 - 1 / (2*np.sqrt(x+3))\n",
        "\n",
        "correctSolution= (1+math.sqrt(13))/2\n",
        "\n",
        "print('derivative computed automatically')\n",
        "printSolutionScalarEquation(f1, correctSolution, newtonScalarNLeq(f1, -2, h=0.005))\n",
        "\n",
        "print()\n",
        "print('derivative given as input')\n",
        "printSolutionScalarEquation(f1, correctSolution, newtonScalarNLeq(f1, -2, der= derf1, h=0.005))\n",
        "      \n",
        "print('-----------------------------------------------------------------------')\n",
        "print('-----------------------------------------------------------------------')\n",
        "print('-----------------------------------------------------------------------')\n",
        "\n",
        "def f2(x):\n",
        "  return 2**x - 3\n",
        "\n",
        "def derf2(x):\n",
        "  return 2**x\n",
        "\n",
        "correctSolution= np.log(3)/np.log(2)\n",
        "\n",
        "print('derivative computed automatically')\n",
        "printSolutionScalarEquation(f2, correctSolution, newtonScalarNLeq(f2, 3, h=0.05))\n",
        "\n",
        "print()\n",
        "print('derivative given as input')\n",
        "printSolutionScalarEquation(f2, correctSolution, newtonScalarNLeq(f2, 3, der= derf2, h=0.05))\n",
        "        \n",
        "print('-----------------------------------------------------------------------')\n",
        "print('-----------------------------------------------------------------------')\n",
        "print('-----------------------------------------------------------------------')\n",
        "\n",
        "        \n",
        "def f3(x):\n",
        "  return np.e**x -x - 2\n",
        "\n",
        "def derf3(x):\n",
        "  return np.e**x - 1\n",
        "\n",
        "correctSolution= -1.84141\n",
        "\n",
        "print('derivative computed automatically')\n",
        "printSolutionScalarEquation(f3, correctSolution, newtonScalarNLeq(f3, -2, h=0.05))\n",
        "\n",
        "print()\n",
        "print('derivative given as input')\n",
        "printSolutionScalarEquation(f3, correctSolution, newtonScalarNLeq(f3, -2, der= derf3, h=0.05))"
      ],
      "execution_count": 9,
      "outputs": [
        {
          "output_type": "stream",
          "text": [
            "derivative computed automatically\n",
            "Solution after 4 iterations \n",
            "> x = 2.302785403994 \n",
            "> f(x=2.3028)= 7.6e-06 \n",
            "> ||x - correctSolution || = 9.7663e-06 \n",
            "> res= [3.00000000e+00 1.35426390e+00 2.14669528e-02 7.64572161e-06]\n"
          ],
          "name": "stdout"
        },
        {
          "output_type": "display_data",
          "data": {
            "image/png": "[encoded data removed]",
            "text/plain": [
              "<Figure size 576x396 with 1 Axes>"
            ]
          },
          "metadata": {
            "tags": []
          }
        },
        {
          "output_type": "stream",
          "text": [
            "\n",
            "derivative given as input\n",
            "Solution after 4 iterations \n",
            "> x = 2.3027854044745224 \n",
            "> f(x=2.3028)= 7.6e-06 \n",
            "> ||x - correctSolution || = 9.7667e-06 \n",
            "> res= [3.00000000e+00 1.35424869e+00 2.14665639e-02 7.64609780e-06]\n"
          ],
          "name": "stdout"
        },
        {
          "output_type": "display_data",
          "data": {
            "image/png": "[encoded data removed]",
            "text/plain": [
              "<Figure size 576x396 with 1 Axes>"
            ]
          },
          "metadata": {
            "tags": []
          }
        },
        {
          "output_type": "stream",
          "text": [
            "-----------------------------------------------------------------------\n",
            "-----------------------------------------------------------------------\n",
            "-----------------------------------------------------------------------\n",
            "derivative computed automatically\n",
            "Solution after 5 iterations \n",
            "> x = 1.584964752651281 \n",
            "> f(x=1.585)= 4.7e-06 \n",
            "> ||x - correctSolution || = 2.2519e-06 \n",
            "> res= [5.00000000e+00 1.28262715e+00 1.74439827e-01 4.73930491e-03\n",
            " 4.68276070e-06]\n"
          ],
          "name": "stdout"
        },
        {
          "output_type": "display_data",
          "data": {
            "image/png": "[encoded data removed]",
            "text/plain": [
              "<Figure size 576x396 with 1 Axes>"
            ]
          },
          "metadata": {
            "tags": []
          }
        },
        {
          "output_type": "stream",
          "text": [
            "\n",
            "derivative given as input\n",
            "Solution after 13 iterations \n",
            "> x = 1.5849665380189424 \n",
            "> f(x=1.585)= 8.4e-06 \n",
            "> ||x - correctSolution || = 4.0373e-06 \n",
            "> res= [5.00000000e+00 2.18735822e+00 8.72671312e-01 3.12655414e-01\n",
            " 1.02875968e-01 3.23809180e-02 1.00190359e-02 3.08237457e-03\n",
            " 9.46595168e-04 2.90537119e-04 8.91588927e-05 2.73592941e-05\n",
            " 8.39533648e-06]\n"
          ],
          "name": "stdout"
        },
        {
          "output_type": "display_data",
          "data": {
            "image/png": "[encoded data removed]",
            "text/plain": [
              "<Figure size 576x396 with 1 Axes>"
            ]
          },
          "metadata": {
            "tags": []
          }
        },
        {
          "output_type": "stream",
          "text": [
            "-----------------------------------------------------------------------\n",
            "-----------------------------------------------------------------------\n",
            "-----------------------------------------------------------------------\n",
            "derivative computed automatically\n",
            "Solution after 3 iterations \n",
            "> x = -1.8414059002841576 \n",
            "> f(x=-1.8414)= 2e-07 \n",
            "> ||x - correctSolution || = 4.0997e-06 \n",
            "> res= [1.35335283e-01 1.73909265e-03 2.01808794e-07]\n"
          ],
          "name": "stdout"
        },
        {
          "output_type": "display_data",
          "data": {
            "image/png": "[encoded data removed]",
            "text/plain": [
              "<Figure size 576x396 with 1 Axes>"
            ]
          },
          "metadata": {
            "tags": []
          }
        },
        {
          "output_type": "stream",
          "text": [
            "\n",
            "derivative given as input\n",
            "Solution after 3 iterations \n",
            "> x = -1.8414060661579263 \n",
            "> f(x=-1.8414)= 3.4e-07 \n",
            "> ||x - correctSolution || = 3.9338e-06 \n",
            "> res= [1.35335283e-01 1.74768620e-03 3.41375930e-07]\n"
          ],
          "name": "stdout"
        },
        {
          "output_type": "display_data",
          "data": {
            "image/png": "[encoded data removed]",
            "text/plain": [
              "<Figure size 576x396 with 1 Axes>"
            ]
          },
          "metadata": {
            "tags": []
          }
        }
      ]
    },
    {
      "metadata": {
        "id": "Sd2LKAO-91O7",
        "colab_type": "text"
      },
      "cell_type": "markdown",
      "source": [
        "In order to test the ```newtonNLsystems``` function defined in the above section, some exercises taken from [15] have been used.\n",
        "\n",
        "1. $\\begin{cases}\n",
        " f_1(x,y) = e^{2x} - y = 0\\\\\n",
        " f_2(x,y) = 2e^x - 1 -y = 0\n",
        "\\end{cases} \\qquad \\qquad \\qquad (x,y) = (0,1)\n",
        "$ (solution calculated with Wolfram Alpha)\n",
        "\n",
        "2. $\n",
        "\\begin{cases}\n",
        " f_1(x,y,z) = xy +2 y = 0\\\\\n",
        " f_2(x,y,z) = x + y = 0 \\\\\n",
        " f_3(x,y,z)= y(z+1) - 10 = 0\n",
        "\\end{cases} \\qquad \\qquad \\qquad (x,y,z) = \\left(-2,2,4\\right)\n",
        "$ (solution calculated with Wolfram Alpha)\n"
      ]
    },
    {
      "metadata": {
        "id": "isRWSfeaErGZ",
        "colab_type": "code",
        "colab": {
          "base_uri": "https://localhost:8080/",
          "height": 1982
        },
        "outputId": "cea59e01-f853-4513-95aa-b2a1bc9a8a15"
      },
      "cell_type": "code",
      "source": [
        "def printSolutionScalarEquation(fun, cs, sol):\n",
        "  t= 'Solution after {} iterations \\n'.format(sol[2])\n",
        "  t+= '> x = {} \\n'.format(sol[0].T)\n",
        "  t+= '> f(x={})= {:} \\n'.format(sol[0].T, fun(sol[0]).T)\n",
        "  res = np.linalg.norm(cs - sol[0])\n",
        "  t+= '> ||x - correctSolution || = {:.5} \\n'.format(res)\n",
        "  t+= '> res= {}'.format(sol[1])\n",
        "  print(t)\n",
        "  plt.figure()\n",
        "  plt.plot([x for x in range(0,len(sol[1]))],sol[1])\n",
        "  plt.xlabel('iterations')\n",
        "  plt.ylabel('|f(x)|')\n",
        "\n",
        "  plt.show()\n",
        "\n",
        "\n",
        "def funVect1(var):\n",
        "  if not isinstance(var,np.ndarray):\n",
        "    var= np.array(var)\n",
        "\n",
        "  fun1= np.e**(2*var[0]) - var[1]\n",
        "  fun2= 2*np.e**var[0] - 1 -var[1]\n",
        "  \n",
        "  vect= [fun1,\n",
        "         fun2]\n",
        "  vect= np.array(vect)\n",
        "  return vect\n",
        "\n",
        "def derFunVect1(var):\n",
        "  if not isinstance(var,np.ndarray):\n",
        "    var= np.array(var)\n",
        "\n",
        "  vect= [[2*np.e**(2*var[0]), -1],\n",
        "         [2*np.e**var[0],     -1]]\n",
        "  vect= np.array(vect)\n",
        "  return vect\n",
        "\n",
        "startingPoint= [[1], \n",
        "                [1]]\n",
        "\n",
        "correctSolution = [[0],\n",
        "                   [1]]\n",
        "\n",
        "print('Jacobian automatically computed')\n",
        "printSolutionScalarEquation(funVect1, correctSolution, newtonNLsystems(funVect1, startingPoint))\n",
        "\n",
        "print()\n",
        "print('Jacobian given as input')\n",
        "printSolutionScalarEquation(funVect1, correctSolution, newtonNLsystems(funVect1, startingPoint, J=derFunVect1))\n",
        "  \n",
        "print('-----------------------------------------------------------------------')\n",
        "print('-----------------------------------------------------------------------')\n",
        "print('-----------------------------------------------------------------------')\n",
        "\n",
        "\n",
        "  \n",
        "  \n",
        "def funVect2(var):\n",
        "  if not isinstance(var,np.ndarray):\n",
        "    var= np.array(var)\n",
        "  \n",
        "  fun1= var[0]*var[1] + 2*var[1]\n",
        "  fun2= var[0] + var[1]\n",
        "  fun3= var[1]*(var[2]+1) -10\n",
        "  \n",
        "  vect= [fun1,\n",
        "         fun2,\n",
        "         fun3]\n",
        "  vect= np.array(vect)\n",
        "  return vect\n",
        "\n",
        "def derFunVect2(var):\n",
        "  if not isinstance(var,np.ndarray):\n",
        "    var= np.array(var)\n",
        "    \n",
        "  vect= [[var[1], var[0]+2,      0],\n",
        "         [     1,        1,      0],\n",
        "         [     0, var[2]+1, var[1]]]\n",
        "  vect= np.array(vect)\n",
        "  return vect\n",
        "\n",
        "startingPoint= [[ 0],\n",
        "                [ 0],\n",
        "                [ 0]]\n",
        "\n",
        "correctSolution= [[-2],\n",
        "                  [ 2],\n",
        "                  [ 4]]\n",
        "\n",
        "print('Jacobian automatically computed')\n",
        "printSolutionScalarEquation(funVect2, correctSolution, newtonNLsystems(funVect2, startingPoint))\n",
        "\n",
        "print()\n",
        "print('Jacobian given as input')\n",
        "printSolutionScalarEquation(funVect2, correctSolution, newtonNLsystems(funVect2, startingPoint, J=derFunVect2))"
      ],
      "execution_count": 10,
      "outputs": [
        {
          "output_type": "stream",
          "text": [
            "Jacobian automatically computed\n",
            "Solution after 15 iterations \n",
            "> x = [[0.00230099 1.00460535]] \n",
            "> f(x=[[0.00230099 1.00460535]])= [[7.23326425e-06 1.92651768e-06]] \n",
            "> ||x - correctSolution || = 0.0051482 \n",
            "> res= [7.25465420e+00 1.24298623e+00 4.34849712e-01 1.46327596e-01\n",
            " 4.67911380e-02 1.42538191e-02 4.23550938e-03 1.28042652e-03\n",
            " 4.15407884e-04 1.52348662e-04 6.50738844e-05 3.22707849e-05\n",
            " 1.81340975e-05 1.12285810e-05 7.48542465e-06]\n"
          ],
          "name": "stdout"
        },
        {
          "output_type": "display_data",
          "data": {
            "image/png": "[encoded data removed]",
            "text/plain": [
              "<Figure size 576x396 with 1 Axes>"
            ]
          },
          "metadata": {
            "tags": []
          }
        },
        {
          "output_type": "stream",
          "text": [
            "\n",
            "Jacobian given as input\n",
            "Solution after 12 iterations \n",
            "> x = [[0.00130874 1.00261749]] \n",
            "> f(x=[[0.00130874 1.00261749]])= [[3.42264253e-06 1.70759618e-06]] \n",
            "> ||x - correctSolution || = 0.0029264 \n",
            "> res= [7.25465420e+00 1.23332377e+00 4.26239427e-01 1.40962167e-01\n",
            " 4.38641787e-02 1.27698222e-02 3.50966510e-03 9.26101127e-04\n",
            " 2.38349599e-04 6.04940051e-05 1.52404485e-05 3.82496622e-06]\n"
          ],
          "name": "stdout"
        },
        {
          "output_type": "display_data",
          "data": {
            "image/png": "[encoded data removed]",
            "text/plain": [
              "<Figure size 576x396 with 1 Axes>"
            ]
          },
          "metadata": {
            "tags": []
          }
        },
        {
          "output_type": "stream",
          "text": [
            "-----------------------------------------------------------------------\n",
            "-----------------------------------------------------------------------\n",
            "-----------------------------------------------------------------------\n",
            "Jacobian automatically computed\n",
            "Solution after 3 iterations \n",
            "> x = [[-2.  2.  4.]] \n",
            "> f(x=[[-2.  2.  4.]])= [[1.33226763e-15 1.11022302e-15 3.19744231e-14]] \n",
            "> ||x - correctSolution || = 1.512e-14 \n",
            "> res= [1.00000000e+01 8.00000000e+00 3.20214189e-14]\n"
          ],
          "name": "stdout"
        },
        {
          "output_type": "display_data",
          "data": {
            "image/png": "[encoded data removed]",
            "text/plain": [
              "<Figure size 576x396 with 1 Axes>"
            ]
          },
          "metadata": {
            "tags": []
          }
        },
        {
          "output_type": "stream",
          "text": [
            "\n",
            "Jacobian given as input\n",
            "Solution after 3 iterations \n",
            "> x = [[-2.  2.  4.]] \n",
            "> f(x=[[-2.  2.  4.]])= [[8.88178420e-16 2.22044605e-16 0.00000000e+00]] \n",
            "> ||x - correctSolution || = 1.0175e-15 \n",
            "> res= [1.0000000e+01 8.0000000e+00 9.1551336e-16]\n"
          ],
          "name": "stdout"
        },
        {
          "output_type": "display_data",
          "data": {
            "image/png": "[encoded data removed]",
            "text/plain": [
              "<Figure size 576x396 with 1 Axes>"
            ]
          },
          "metadata": {
            "tags": []
          }
        }
      ]
    },
    {
      "metadata": {
        "id": "_4GLBv0zWr7m",
        "colab_type": "text"
      },
      "cell_type": "markdown",
      "source": [
        "# **Discussion**"
      ]
    },
    {
      "metadata": {
        "id": "6bcsDSoRXHZe",
        "colab_type": "text"
      },
      "cell_type": "markdown",
      "source": [
        "Summarize your results and your conclusions. Were the results expected or surprising. Do your results have implications outside the particular problem investigated in this report? "
      ]
    },
    {
      "metadata": {
        "id": "1vcIILuQYsEA",
        "colab_type": "text"
      },
      "cell_type": "markdown",
      "source": [
        "# References"
      ]
    },
    {
      "metadata": {
        "id": "NlJ-Y9KAYt4Z",
        "colab_type": "text"
      },
      "cell_type": "markdown",
      "source": [
        "[1] from Lecture Notes, *Iterative methods, chapter 7*, pg. 93\n",
        "\n",
        "[2] from Wikipedia, *[Jacobi method](https://en.wikipedia.org/wiki/Jacobi_method)*\n",
        "\n",
        "[3] from Wikipedia, *[Gauss-Seidel method](https://en.wikipedia.org/wiki/Gauss%E2%80%93Seidel_method)*\n",
        "\n",
        "[4] from Lecture Notes, *Gauss-Seidel iteration, chapter 7*, pg. 99\n",
        "\n",
        "[5] from Wikipedia, *[Newton's method](https://en.wikipedia.org/wiki/Newton%27s_method)*\n",
        "\n",
        "[6] from Lecture Notes, *Nonlinear scalar equation, chapter 8*, pg. 108\n",
        "\n",
        "[7] from Lecture Notes, *Newton's method, algorithm 13, chapter 8*, pg. 111\n",
        "\n",
        "[8] from Wikipedia, *[Generalized minimal residual method](https://en.wikipedia.org/wiki/Generalized_minimal_residual_method)*\n",
        "\n",
        "[9] from Lecture Notes, *GMRES, chapter 7*, pg 100\n",
        "\n",
        "[10] from Lecture Notes, *Arnoldi iteration, algorithm 9*, pg. 101\n",
        "\n",
        "[11] from Lecture Notes, *GMRES, algorithm 10*, pg. 101\n",
        "\n",
        "[12] *[Exercises](https://s-mat-pcs.oulu.fi/~mpa/matreng/et55_60.htm)*\n",
        "\n",
        "[13] *[Exercises](http://www.maths.lth.se/na/courses/FMN050/media/material/Exercise_1.pdf)*\n",
        "\n",
        "[14] *[Exercises](https://ask.fxplus.ac.uk/tools/HELM/pages/workbooks_1_50_jan2008/Workbook31/31_4_non_lin_eqns.pdf)*\n",
        "\n",
        "[15] *[Exercises](https://www.cos.edu/Faculty/jonb/Documents/13.4.pdf)*"
      ]
    }
  ]
}