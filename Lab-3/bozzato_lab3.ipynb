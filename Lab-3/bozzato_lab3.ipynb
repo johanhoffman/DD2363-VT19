{
  "nbformat": 4,
  "nbformat_minor": 0,
  "metadata": {
    "colab": {
      "name": "template-report-lab-X.ipynb",
      "version": "0.3.2",
      "provenance": [],
      "include_colab_link": true
    },
    "kernelspec": {
      "name": "python3",
      "display_name": "Python 3"
    }
  },
  "cells": [
    {
      "cell_type": "markdown",
      "metadata": {
        "id": "view-in-github",
        "colab_type": "text"
      },
      "source": [
        "<a href=\"https://colab.research.google.com/github/johanhoffman/DD2363-VT19/blob/bozzato/Lab-3/bozzato_lab3.ipynb\" target=\"_parent\"><img src=\"https://colab.research.google.com/assets/colab-badge.svg\" alt=\"Open In Colab\"/></a>"
      ]
    },
    {
      "metadata": {
        "id": "6RgtXlfYO_i7",
        "colab_type": "text"
      },
      "cell_type": "markdown",
      "source": [
        "# **Lab 3: Iterative methods**\n",
        "**Bozzato Federico**"
      ]
    },
    {
      "metadata": {
        "id": "9x_J5FVuPzbm",
        "colab_type": "text"
      },
      "cell_type": "markdown",
      "source": [
        "# **Abstract**"
      ]
    },
    {
      "metadata": {
        "id": "6UFTSzW7P8kL",
        "colab_type": "text"
      },
      "cell_type": "markdown",
      "source": [
        "Short summary of the lab report. State the objectives, methods used, main results and conlusions. "
      ]
    },
    {
      "metadata": {
        "id": "yJipbXtnjrJZ",
        "colab_type": "text"
      },
      "cell_type": "markdown",
      "source": [
        ""
      ]
    },
    {
      "metadata": {
        "id": "OkT8J7uOWpT3",
        "colab_type": "text"
      },
      "cell_type": "markdown",
      "source": [
        "#**About the code**"
      ]
    },
    {
      "metadata": {
        "id": "HmB2noTr1Oyo",
        "colab_type": "text"
      },
      "cell_type": "markdown",
      "source": [
        "A short statement on who is the author of the file, and if the code is distributed under a certain license. "
      ]
    },
    {
      "metadata": {
        "id": "Pdll1Xc9WP0e",
        "colab_type": "code",
        "outputId": "8024b4c5-a57f-4771-f5b0-59e5dc96aa13",
        "colab": {
          "base_uri": "https://localhost:8080/",
          "height": 34
        }
      },
      "cell_type": "code",
      "source": [
        "\"\"\"This program is a template for lab reports in the course\"\"\"\n",
        "\"\"\"DD2363 Methods in Scientific Computing, \"\"\"\n",
        "\"\"\"KTH Royal Institute of Technology, Stockholm, Sweden.\"\"\"\n",
        "\n",
        "# Copyright (C) 2019 Johan Hoffman (jhoffman@kth.se)\n",
        "\n",
        "# This file is part of the course DD2363 Methods in Scientific Computing\n",
        "# KTH Royal Institute of Technology, Stockholm, Sweden\n",
        "#\n",
        "# This is free software: you can redistribute it and/or modify\n",
        "# it under the terms of the GNU Lesser General Public License as published by\n",
        "# the Free Software Foundation, either version 3 of the License, or\n",
        "# (at your option) any later version.\n",
        "\n",
        "# This template is maintained by Johan Hoffman\n",
        "# Please report problems to jhoffman@kth.se"
      ],
      "execution_count": 1,
      "outputs": [
        {
          "output_type": "execute_result",
          "data": {
            "text/plain": [
              "'KTH Royal Institute of Technology, Stockholm, Sweden.'"
            ]
          },
          "metadata": {
            "tags": []
          },
          "execution_count": 1
        }
      ]
    },
    {
      "metadata": {
        "id": "28xLGz8JX3Hh",
        "colab_type": "text"
      },
      "cell_type": "markdown",
      "source": [
        "# **Set up environment**"
      ]
    },
    {
      "metadata": {
        "id": "D2PYNusD08Wa",
        "colab_type": "text"
      },
      "cell_type": "markdown",
      "source": [
        "To have access to the neccessary modules you have to run this cell. If you need additional modules, this is where you add them. "
      ]
    },
    {
      "metadata": {
        "id": "Xw7VlErAX7NS",
        "colab_type": "code",
        "colab": {}
      },
      "cell_type": "code",
      "source": [
        "# Load neccessary modules.\n",
        "from google.colab import files\n",
        "\n",
        "import time\n",
        "import sys\n",
        "import numpy as np\n",
        "from numpy import linalg\n"
      ],
      "execution_count": 0,
      "outputs": []
    },
    {
      "metadata": {
        "id": "gnO3lhAigLev",
        "colab_type": "text"
      },
      "cell_type": "markdown",
      "source": [
        "# **Introduction**"
      ]
    },
    {
      "metadata": {
        "id": "l5zMzgPlRAF6",
        "colab_type": "text"
      },
      "cell_type": "markdown",
      "source": [
        "Give a short description of the problem investigated in the report, and provide some background information so that the reader can understand the context. \n",
        "\n",
        "Briefly describe what method you have chosen to solve the problem, and justify why you selected that method. \n",
        "\n",
        "Here you can express mathematics through Latex syntax, and use hyperlinks for references.\n",
        "\n",
        "[Hyperlink to DD2363 course website.](https://kth.instructure.com/courses/7500)\n",
        "\n",
        "$\n",
        "{\\displaystyle \\frac{\\partial u}{\\partial t}} + u\\cdot \\nabla u +\\nabla p = f, \\quad \\nabla \\cdot u=0$\n",
        "\n"
      ]
    },
    {
      "metadata": {
        "id": "WeFO9QMeUOAu",
        "colab_type": "text"
      },
      "cell_type": "markdown",
      "source": [
        "# **Methods**"
      ]
    },
    {
      "metadata": {
        "id": "zF4iBj5VURZx",
        "colab_type": "text"
      },
      "cell_type": "markdown",
      "source": [
        "## Mandatory assignment"
      ]
    },
    {
      "metadata": {
        "id": "qeEw6toOP6Xy",
        "colab_type": "text"
      },
      "cell_type": "markdown",
      "source": [
        "### Jacobi iteration"
      ]
    },
    {
      "metadata": {
        "id": "FiuAizDY29LN",
        "colab_type": "code",
        "colab": {}
      },
      "cell_type": "code",
      "source": [
        "# REFERENCE: https://en.wikipedia.org/wiki/Jacobi_method\n",
        "\n",
        "\n",
        "\n",
        "def jacobiIteration(matrixA ,b, tol=1e-5):\n",
        "  \n",
        "  # split matrixA= D + E= D + A-D\n",
        "  if not isinstance(matrixA,np.ndarray):\n",
        "    matrixA= np.array(matrixA)\n",
        "    \n",
        "  n= matrixA.shape[0]\n",
        "  \n",
        "  \n",
        "  # TODO: assure A1 does not have 0 in the diagonal. If yes, permutation\n",
        "  \n",
        "  \n",
        "  \n",
        "  D= np.diag(matrixA)\n",
        "  invD= np.diag([1/D[i] for i in range(0,matrixA.shape[0])])\n",
        "  E= matrixA - np.diag(D)\n",
        "  \n",
        "  \n",
        "  # calculating M and c\n",
        "  M= -np.dot(invD,E)\n",
        "  c= np.dot(invD,b)\n",
        "  \n",
        "  # convergence if rho(M)<1\n",
        "  eigvals,_= np.linalg.eig(M)\n",
        "  print(eigvals)\n",
        "  if max(abs(eigvals)) >= 1:\n",
        "    print('Convergence will not be reached because rho(I-invD*A)>=1.\\nTry other methods.')\n",
        "    sys.exit(1)\n",
        "\n",
        "  x= np.zeros((n,1))\n",
        "  res = b - np.dot(matrixA,x)    # initial residual -> just to enter in the loop\n",
        "  res= linalg.norm(res)\n",
        "  norm_b= linalg.norm(b)\n",
        "  it= 1\n",
        "  while res/norm_b > tol:\n",
        "    x= np.dot(M,x) + c\n",
        "    \n",
        "    res = b - np.dot(matrixA,x)    \n",
        "    res= linalg.norm(res)\n",
        "    it+= 1\n",
        "  \n",
        "  print('solution after {} iterations'.format(it))\n",
        "  return x"
      ],
      "execution_count": 0,
      "outputs": []
    },
    {
      "metadata": {
        "id": "RHSCXgUG_n7a",
        "colab_type": "code",
        "outputId": "7bca1f5c-d580-46e0-ae6d-8af806010ca5",
        "colab": {
          "base_uri": "https://localhost:8080/",
          "height": 69
        }
      },
      "cell_type": "code",
      "source": [
        "#TODO: moving this cell to Result section and add examples\n",
        "A= [[1,  0],\n",
        "    [1, -1]]\n",
        "\n",
        "b= [[11],\n",
        "    [13]]\n",
        "\n",
        "x= jacobiIteration(A,b,1e-10)\n",
        "print('x.T=',x.T)"
      ],
      "execution_count": 4,
      "outputs": [
        {
          "output_type": "stream",
          "text": [
            "[-0. -0.]\n",
            "solution after 3 iterations\n",
            "x.T= [[11. -2.]]\n"
          ],
          "name": "stdout"
        }
      ]
    },
    {
      "metadata": {
        "id": "PMOKr5ZePoqq",
        "colab_type": "text"
      },
      "cell_type": "markdown",
      "source": [
        "### Gauss-Seidel iteration"
      ]
    },
    {
      "metadata": {
        "id": "8TT9gErYP80J",
        "colab_type": "code",
        "colab": {}
      },
      "cell_type": "code",
      "source": [
        "def gaussSeidelIteration(matrixA ,b, tol=1e-5):\n",
        "  if not isinstance(matrixA,np.ndarray):\n",
        "    matrixA= np.array(matrixA)\n",
        "  \n",
        "  n= matrixA.shape[0]\n",
        "  \n",
        "  # split matrixA= L + U\n",
        "  L= np.tril(matrixA)\n",
        "  U= np.triu(matrixA,1)\n",
        "    \n",
        "  print('U=\\n{}'.format(U))\n",
        "  print('L=\\n{}'.format(L))\n",
        "    \n",
        "  invL= linalg.inv(L)\n",
        "  print('invL=\\n{}'.format(invL))\n",
        "  M= -np.dot(invL,U)\n",
        "  c= np.dot(invL,b)\n",
        "  print('M=\\n{}'.format(M))\n",
        "  \n",
        "  eigvals,_= np.linalg.eig(M)\n",
        "  print('Eig=',eigvals)\n",
        "  if max(abs(eigvals)) >= 1:\n",
        "    print('Convergence will not be reached because rho(I-invD*A)>=1.\\nTry other methods.')\n",
        "    sys.exit(1)\n",
        "    \n",
        "  x= np.zeros((n,1))\n",
        "  res = b - np.dot(matrixA,x)    # initial residual -> just to enter in the loop\n",
        "  res= linalg.norm(res)\n",
        "  norm_b= linalg.norm(b)\n",
        "  it= 1\n",
        "  while res/norm_b > tol:\n",
        "    x= np.dot(M,x) + c\n",
        "    \n",
        "    res = b - np.dot(matrixA,x)    \n",
        "    res= linalg.norm(res)\n",
        "    it+= 1\n",
        "  \n",
        "  print('solution after {} iterations'.format(it))\n",
        "  return x\n",
        "  "
      ],
      "execution_count": 0,
      "outputs": []
    },
    {
      "metadata": {
        "id": "CgAUTeRESJu4",
        "colab_type": "code",
        "outputId": "7f4de286-e42e-48e9-a56b-d1f9c8362b48",
        "colab": {
          "base_uri": "https://localhost:8080/",
          "height": 294
        }
      },
      "cell_type": "code",
      "source": [
        "A= [[16,  3],\n",
        "    [7, -11]]\n",
        "\n",
        "b= [[11],\n",
        "    [13]]\n",
        "\n",
        "gaussSeidelIteration(A,b)"
      ],
      "execution_count": 6,
      "outputs": [
        {
          "output_type": "stream",
          "text": [
            "U=\n",
            "[[0 3]\n",
            " [0 0]]\n",
            "L=\n",
            "[[ 16   0]\n",
            " [  7 -11]]\n",
            "invL=\n",
            "[[ 0.0625      0.        ]\n",
            " [ 0.03977273 -0.09090909]]\n",
            "M=\n",
            "[[-0.         -0.1875    ]\n",
            " [-0.         -0.11931818]]\n",
            "Eig= [-0.         -0.11931818]\n",
            "solution after 7 iterations\n"
          ],
          "name": "stdout"
        },
        {
          "output_type": "execute_result",
          "data": {
            "text/plain": [
              "array([[ 0.81218576],\n",
              "       [-0.6649727 ]])"
            ]
          },
          "metadata": {
            "tags": []
          },
          "execution_count": 6
        }
      ]
    },
    {
      "metadata": {
        "id": "KvJrrDKbsqgK",
        "colab_type": "text"
      },
      "cell_type": "markdown",
      "source": [
        "## Extra assignment"
      ]
    },
    {
      "metadata": {
        "id": "axlgjBl8vXZr",
        "colab_type": "text"
      },
      "cell_type": "markdown",
      "source": [
        "### GMRES method"
      ]
    },
    {
      "metadata": {
        "id": "pjXYv7W0vWek",
        "colab_type": "code",
        "colab": {}
      },
      "cell_type": "code",
      "source": [
        "def GMRESiteration(matrixA, b, tol=1e-5):\n",
        "  \n",
        "  ######################################\n",
        "  ##             ARNOLDI              ##\n",
        "  ######################################\n",
        "  def arnoldiIteration(matrixA, Q, K):\n",
        "    if not isinstance(matrixA, np.ndarray):\n",
        "      matrixA= np.array(matrixA)\n",
        "    \n",
        "    if not isinstance(Q, np.ndarray):\n",
        "      Q= np.array(Q)\n",
        "\n",
        "    vect_h= np.zeros((K+1,1))\n",
        "    q= np.dot(matrixA, Q[:,K-1])  \n",
        "    \n",
        "    for k in range(0,K):\n",
        "      vect_h[k]= np.inner(Q[:,k],q)\n",
        "      q= q - vect_h[k]*Q[:,k]\n",
        "      \n",
        "    vect_h[K]= linalg.norm(q)\n",
        "    q= q / vect_h[K]\n",
        "\n",
        "    return vect_h, q\n",
        "  \n",
        "  ######################################\n",
        "  ##              GMRES               ##\n",
        "  ######################################\n",
        "  if not isinstance(matrixA,np.ndarray):\n",
        "    matrixA= np.array(matrixA)\n",
        "    \n",
        "  if not isinstance(b,np.ndarray):\n",
        "    b= np.array(b)\n",
        "  \n",
        "  n= matrixA.shape[0]\n",
        "  k= 1\n",
        "  Q= np.zeros((n,1))\n",
        "  Q[:]= b / linalg.norm(b)\n",
        "  #while res / res_0 >= tol:\n",
        "  while k < 5:\n",
        "    h_new, q_new= arnoldiIteration(matrixA, Q, k)\n",
        "    \n",
        "    # update Q\n",
        "    Q_new= np.zeros((n,k+1))\n",
        "    Q_new[:,0:k]= Q\n",
        "    Q_new[:,k]= q_new\n",
        "    Q= Q_new\n",
        "    \n",
        "    # update H\n",
        "    if k == 1:\n",
        "      H= h_new\n",
        "    else:\n",
        "      H_new= np.zeros((k+1,k))\n",
        "      H_new[0:k,0:k-1]= H\n",
        "      #print(H_new)\n",
        "      #print(H_new.shape)\n",
        "      #print(h_new)\n",
        "      H_new[:,k-1]= h_new.T\n",
        "      H= H_new\n",
        "      \n",
        "    print('------------------------------')\n",
        "    print('Q=\\n{}'.format(Q))\n",
        "    print('H=\\n{}'.format(H))\n",
        "    print('------------------------------')\n",
        "    \n",
        "    k+= 1"
      ],
      "execution_count": 0,
      "outputs": []
    },
    {
      "metadata": {
        "id": "TgpBMc_w3pwL",
        "colab_type": "code",
        "colab": {
          "base_uri": "https://localhost:8080/",
          "height": 675
        },
        "outputId": "001374bd-72cf-4837-f65b-bbaa415f3ee2"
      },
      "cell_type": "code",
      "source": [
        "A= [[16,  3],\n",
        "    [7, -11]]\n",
        "\n",
        "b= [[11],\n",
        "    [13]]\n",
        "\n",
        "GMRESiteration(A,b)"
      ],
      "execution_count": 84,
      "outputs": [
        {
          "output_type": "stream",
          "text": [
            "------------------------------\n",
            "Q=\n",
            "[[ 0.64594224  0.76338629]\n",
            " [ 0.76338629 -0.64594224]]\n",
            "H=\n",
            "[[ 5.19655172]\n",
            " [12.14137931]]\n",
            "------------------------------\n",
            "------------------------------\n",
            "Q=\n",
            "[[ 0.64594224  0.76338629  0.64556387]\n",
            " [ 0.76338629 -0.64594224  0.76370628]]\n",
            "H=\n",
            "[[ 5.19655172e+00  1.61413793e+01]\n",
            " [ 1.21413793e+01 -1.96551724e-01]\n",
            " [ 0.00000000e+00  6.57812998e-15]]\n",
            "------------------------------\n",
            "------------------------------\n",
            "Q=\n",
            "[[ 0.64594224  0.76338629  0.64556387  0.76370628]\n",
            " [ 0.76338629 -0.64594224  0.76370628 -0.64556387]]\n",
            "H=\n",
            "[[ 5.19655172e+00  1.61413793e+01  5.18855239e+00]\n",
            " [ 1.21413793e+01 -1.96551724e-01  1.21414752e+01]\n",
            " [ 0.00000000e+00  6.57812998e-15  1.82505924e-15]\n",
            " [ 0.00000000e+00  0.00000000e+00  7.83238976e-16]]\n",
            "------------------------------\n",
            "------------------------------\n",
            "Q=\n",
            "[[ 0.64594224  0.76338629  0.64556387  0.76370628 -0.64513406]\n",
            " [ 0.76338629 -0.64594224  0.76370628 -0.64556387 -0.76406939]]\n",
            "H=\n",
            "[[ 5.19655172e+00  1.61413793e+01  5.18855239e+00  1.61439524e+01]\n",
            " [ 1.21413793e+01 -1.96551724e-01  1.21414752e+01 -1.90535160e-01]\n",
            " [ 0.00000000e+00  6.57812998e-15  1.82505924e-15  4.38188713e-15]\n",
            " [ 0.00000000e+00  0.00000000e+00  7.83238976e-16  2.98633282e-18]\n",
            " [ 0.00000000e+00  0.00000000e+00  0.00000000e+00  6.41246177e-31]]\n",
            "------------------------------\n"
          ],
          "name": "stdout"
        }
      ]
    },
    {
      "metadata": {
        "id": "SsQLT38gVbn_",
        "colab_type": "text"
      },
      "cell_type": "markdown",
      "source": [
        "# **Results**"
      ]
    },
    {
      "metadata": {
        "id": "RLwlnOzuV-Cd",
        "colab_type": "text"
      },
      "cell_type": "markdown",
      "source": [
        "Present the results. If the result is an algorithm that you have described under the *Methods* section, you can present the data from verification and performance tests in this section. If the result is the output from a computational experiment this is where you present a selection of that data. "
      ]
    },
    {
      "metadata": {
        "id": "_4GLBv0zWr7m",
        "colab_type": "text"
      },
      "cell_type": "markdown",
      "source": [
        "# **Discussion**"
      ]
    },
    {
      "metadata": {
        "id": "6bcsDSoRXHZe",
        "colab_type": "text"
      },
      "cell_type": "markdown",
      "source": [
        "Summarize your results and your conclusions. Were the results expected or surprising. Do your results have implications outside the particular problem investigated in this report? "
      ]
    },
    {
      "metadata": {
        "id": "1vcIILuQYsEA",
        "colab_type": "text"
      },
      "cell_type": "markdown",
      "source": [
        "# References"
      ]
    },
    {
      "metadata": {
        "id": "NlJ-Y9KAYt4Z",
        "colab_type": "text"
      },
      "cell_type": "markdown",
      "source": [
        "In this appendix some examples are given to express and visualizing mathematical concepts such as vectors, matrices, meshes and functions. \n",
        "\n",
        "This is not part of the template report for the course."
      ]
    }
  ]
}