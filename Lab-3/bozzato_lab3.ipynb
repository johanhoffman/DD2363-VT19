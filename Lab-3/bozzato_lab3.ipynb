{
  "nbformat": 4,
  "nbformat_minor": 0,
  "metadata": {
    "colab": {
      "name": "template-report-lab-X.ipynb",
      "version": "0.3.2",
      "provenance": [],
      "include_colab_link": true
    },
    "kernelspec": {
      "name": "python3",
      "display_name": "Python 3"
    },
    "accelerator": "GPU"
  },
  "cells": [
    {
      "cell_type": "markdown",
      "metadata": {
        "id": "view-in-github",
        "colab_type": "text"
      },
      "source": [
        "<a href=\"https://colab.research.google.com/github/johanhoffman/DD2363-VT19/blob/bozzato/Lab-3/bozzato_lab3.ipynb\" target=\"_parent\"><img src=\"https://colab.research.google.com/assets/colab-badge.svg\" alt=\"Open In Colab\"/></a>"
      ]
    },
    {
      "metadata": {
        "id": "6RgtXlfYO_i7",
        "colab_type": "text"
      },
      "cell_type": "markdown",
      "source": [
        "# **Lab 3: Iterative methods**\n",
        "**Bozzato Federico**"
      ]
    },
    {
      "metadata": {
        "id": "9x_J5FVuPzbm",
        "colab_type": "text"
      },
      "cell_type": "markdown",
      "source": [
        "# **Abstract**"
      ]
    },
    {
      "metadata": {
        "id": "6UFTSzW7P8kL",
        "colab_type": "text"
      },
      "cell_type": "markdown",
      "source": [
        "In this lab we deepen the problem of solving systems of equations, both linear and nonlinear. There will be presented three methods for solving systems of linear equations, one for solving nonlinear equations and another method for systems of nonlinear equations."
      ]
    },
    {
      "metadata": {
        "id": "OkT8J7uOWpT3",
        "colab_type": "text"
      },
      "cell_type": "markdown",
      "source": [
        "#**About the code**"
      ]
    },
    {
      "metadata": {
        "id": "HmB2noTr1Oyo",
        "colab_type": "text"
      },
      "cell_type": "markdown",
      "source": [
        "**Author:** Federico Bozzato"
      ]
    },
    {
      "metadata": {
        "id": "Pdll1Xc9WP0e",
        "colab_type": "code",
        "outputId": "429418da-5d5a-4222-9db7-f4e7efe81efe",
        "colab": {
          "base_uri": "https://localhost:8080/",
          "height": 34
        }
      },
      "cell_type": "code",
      "source": [
        "\"\"\"This program is a template for lab reports in the course\"\"\"\n",
        "\"\"\"DD2363 Methods in Scientific Computing, \"\"\"\n",
        "\"\"\"KTH Royal Institute of Technology, Stockholm, Sweden.\"\"\"\n",
        "\n",
        "# Copyright (C) 2019 Johan Hoffman (jhoffman@kth.se)\n",
        "\n",
        "# This file is part of the course DD2363 Methods in Scientific Computing\n",
        "# KTH Royal Institute of Technology, Stockholm, Sweden\n",
        "#\n",
        "# This is free software: you can redistribute it and/or modify\n",
        "# it under the terms of the GNU Lesser General Public License as published by\n",
        "# the Free Software Foundation, either version 3 of the License, or\n",
        "# (at your option) any later version.\n",
        "\n",
        "# This template is maintained by Johan Hoffman\n",
        "# Please report problems to jhoffman@kth.se"
      ],
      "execution_count": 1,
      "outputs": [
        {
          "output_type": "execute_result",
          "data": {
            "text/plain": [
              "'KTH Royal Institute of Technology, Stockholm, Sweden.'"
            ]
          },
          "metadata": {
            "tags": []
          },
          "execution_count": 1
        }
      ]
    },
    {
      "metadata": {
        "id": "28xLGz8JX3Hh",
        "colab_type": "text"
      },
      "cell_type": "markdown",
      "source": [
        "# **Set up environment**"
      ]
    },
    {
      "metadata": {
        "id": "D2PYNusD08Wa",
        "colab_type": "text"
      },
      "cell_type": "markdown",
      "source": [
        "To have access to the neccessary modules you have to run this cell. If you need additional modules, this is where you add them. "
      ]
    },
    {
      "metadata": {
        "id": "Xw7VlErAX7NS",
        "colab_type": "code",
        "colab": {}
      },
      "cell_type": "code",
      "source": [
        "# Load neccessary modules.\n",
        "from google.colab import files\n",
        "\n",
        "import sys\n",
        "import math\n",
        "import numpy as np\n",
        "from numpy import linalg\n",
        "import matplotlib.pyplot as plt"
      ],
      "execution_count": 0,
      "outputs": []
    },
    {
      "metadata": {
        "id": "gnO3lhAigLev",
        "colab_type": "text"
      },
      "cell_type": "markdown",
      "source": [
        "# **Introduction**"
      ]
    },
    {
      "metadata": {
        "id": "l5zMzgPlRAF6",
        "colab_type": "text"
      },
      "cell_type": "markdown",
      "source": [
        "Iterative methods differ from direct methods because they do not need a specific number of steps to complete as the direct methods need [1]. The way the iterative methods operate is to reduce the approximation error in each iteration, but they need a convergence criterion in order to stop when a certain condition is reached.\n",
        "\n",
        "This report is divided into three parts:\n",
        "\n",
        "1. Methods: in this section, each algorithm is presented and explained, giving also the mathematic definition of the operation the algorithm implements.\n",
        "\n",
        "2. Results: in this section, the results of each algorithm are presented.\n",
        "\n",
        "3. Discussion: in this last section, results are discussed.\n",
        "\n"
      ]
    },
    {
      "metadata": {
        "id": "WeFO9QMeUOAu",
        "colab_type": "text"
      },
      "cell_type": "markdown",
      "source": [
        "# **Methods**\n",
        "\n",
        "This section is divided into two subsection: the mandatory part and the extra assignment."
      ]
    },
    {
      "metadata": {
        "id": "zF4iBj5VURZx",
        "colab_type": "text"
      },
      "cell_type": "markdown",
      "source": [
        "## Mandatory assignment"
      ]
    },
    {
      "metadata": {
        "id": "qeEw6toOP6Xy",
        "colab_type": "text"
      },
      "cell_type": "markdown",
      "source": [
        "###1. Jacobi iteration\n",
        "Jacobi method is an iterative method for determining the solution of a diagonally dominant system of linear equations [2].\n",
        "\n",
        "####Definition\n",
        "Given the system $Ax=b$, where $A\\in\\mathbb{R}^{n\\times n}$ and $x,b\\in\\mathbb{R}^n$, Jacobi iteration consists firstly in splitting the matrix $A$ into two matrix $D$ and $E$ such that\n",
        "\n",
        ">$\n",
        "D= \\text{diag}(A) \\qquad \\& \\qquad E= A-D\n",
        "$\n",
        "\n",
        "Thus, the system can be rewritten as \n",
        "\n",
        ">$\n",
        "  (D + E)x=b \\Longrightarrow Dx= -Ex + b\n",
        "$\n",
        "\n",
        "from which we can get the iteration step given by\n",
        "\n",
        ">$\n",
        " x^{(k+1)}= -D^{-1}Ex^{(k)} + D^{-1}b=Mx^{(k)}+c\n",
        "$\n",
        "\n",
        "where $M$ is called *iteration matrix*.\n",
        "\n",
        "####Convergence\n",
        "The convergence is reached if the spectral radius is lower than 1, or\n",
        "\n",
        ">$\n",
        "\\rho(M) < 1 \\quad \\Longleftrightarrow \\quad \\rho\\left(-D^{-1}\\left(A-D\\right)\\right) < 1\n",
        "$\n",
        "\n",
        "A sufficient (but not necessary) condition for the method to converge is that the matrix $A$ is strictly diagonally dominant [2], which means\n",
        "\n",
        ">$\n",
        "|a_{ii}| > \\displaystyle \\sum_{i\\ne j}^n |a_{ij}|\n",
        "$\n",
        "\n",
        "In case the matrix is not strictly diagonally dominant, it might be possible to make it strictly diagonally dominant by applying a permutation to the system $Ax=b$. The permutation does not change the solution of the systems because the system can be rewritten as\n",
        "\n",
        ">$\n",
        " Ax = b \\quad \\Longrightarrow \\quad PAx = Pb\n",
        "$\n",
        "\n",
        "where $P\\in\\mathbb{R}^{n\\times n}$ is the permutation matrix.\n",
        "\n",
        "Clearly applying the permutation matrix does not guarantee the convergence of the method, since the condition of being strictly diagonally dominant is not necessary, but it is an approach that can be used to modify the system without changing its solutions.\n",
        "\n",
        "####Implementation\n",
        "The algorithm for implementing the Jacobi method is very simple, since all we need to do is to follow the mathematical steps presented in the above section. The algorithm below is written in pseudocode\n",
        "\n",
        "\n",
        "\n",
        "```\n",
        "norm_b= norm(b)\n",
        "x(0) = initialPoint\n",
        "while (res / nomr_b) > tolerance do:\n",
        "  x(k+1) = M*x(k) + c\n",
        "  \n",
        "  res = ||b - A*x(k+1)||\n",
        "```\n",
        "\n",
        "In my implementation I have also inserted a control for assuring that the matrix $A$ given in the input has the spectrum radius lower than $1$: if the matrix $A$ does not have the spectrum radius lower than $1$, then the matrix undergoes a permutation in order to make it, if possible, diagonally dominant. \n",
        "The pseudocode for the permutation is the following one:\n",
        "\n",
        "\n",
        "```\n",
        "indeces = list()\n",
        "for i = 1, ..., n do:\n",
        "  ind = argmax(|A[:,i]|)\n",
        "  indeces[i] = ind\n",
        "  \n",
        "for i = 1, ..., n do:\n",
        "  if i not in indeces then:\n",
        "    indeces.append(i)\n",
        "    \n",
        "perm_matrix = zeros(n,n)\n",
        "for i = 1, ..., n do:\n",
        "  perm_matrix[indeces[i], i] = 1\n",
        "```\n",
        "\n",
        "As we can see, it might happen that more than one row in the matrix $A$ could be mapped into the same row in the new matrix: in order to avoid this, these rows are mapped into other rows. For example, we can consider the matrix\n",
        "\n",
        ">$\n",
        "\\begin{pmatrix}\n",
        " -1 & 0 & 4 \\\\\n",
        " 2 & -1 & 0 \\\\\n",
        " -2 & 1 & 5 \n",
        "\\end{pmatrix}\n",
        "$\n",
        "\n",
        "The first and the third rows have the highest value at the same position, so following the permutation these two rows should be moved both to the last row in the new matrix, but obviously this is impossible. Therefore, the first row is moved correctly to the third row, the second rows is moved to the first row and the the third row is moved in the only row which is still free, that is the second. Thus, the new matrix is\n",
        "\n",
        ">$\n",
        "\\begin{pmatrix}\n",
        " 2 & -1 & 0 \\\\\n",
        " -2 & 1 & 5 \\\\\n",
        " -1 & 0 & 4\n",
        "\\end{pmatrix}\n",
        "$"
      ]
    },
    {
      "metadata": {
        "id": "FiuAizDY29LN",
        "colab_type": "code",
        "colab": {}
      },
      "cell_type": "code",
      "source": [
        "def jacobiIteration(matrixA, b, initialPoint, tol=1e-5):\n",
        "  '''\n",
        "  Solves the system of linear equations matrixA * x = b, using the Jacobi\n",
        "  iteration.\n",
        "  Parameters:\n",
        "  - matrixA: n x n matrix\n",
        "  - b: n x 1 vector\n",
        "  - initialPoint: starting guess for the iteration\n",
        "  - tol (default= 1e-5): tolerance to stop the iterations\n",
        "  Output:\n",
        "  - x: n x 1 vector, solution of matrixA * x = b\n",
        "  - residuals: vector containing all the residuals for each iteration\n",
        "  - wres: normalized residuals\n",
        "  \n",
        "  '''\n",
        "  ############################################\n",
        "  ##           ITERATION MATRIX             ##\n",
        "  ############################################\n",
        "  def iterationMatrix(matrixA,b):                                               \n",
        "    if not isinstance(matrixA,np.ndarray):\n",
        "      matrixA= np.array(matrixA) \n",
        "    \n",
        "    D= np.diag(matrixA)\n",
        "    invD= np.diag([1/D[i] for i in range(0,matrixA.shape[0])])\n",
        "    D= np.diag(D)\n",
        "    E= matrixA - D\n",
        "    M= -np.dot(invD,E)\n",
        "    \n",
        "    return M, D, E, invD\n",
        "  \n",
        "  ############################################\n",
        "  ##           PERMUTATION MATRIX           ##\n",
        "  ############################################\n",
        "  def permutation(matrixA):                                      \n",
        "    if not isinstance(matrixA,np.ndarray):\n",
        "      matrixA= np.array(matrixA)  \n",
        "    \n",
        "    indeces= []\n",
        "    n= matrixA.shape[0]\n",
        "    for i in range(0,n):\n",
        "      ind= np.argmax(np.absolute(matrixA[i,:]))         # the permutation is done\n",
        "      if ind not in indeces:                            # in order to obtain a\n",
        "        indeces.append(ind)                             # diagonally dominant matrix \n",
        "\n",
        "    for i in range(0,n):\n",
        "      if i not in indeces:\n",
        "        indeces.append(i)\n",
        "\n",
        "    perm= np.zeros((n,n))\n",
        "    for i in range(0,len(indeces)):\n",
        "      perm[indeces[i],i]= 1\n",
        "\n",
        "    return perm\n",
        "\n",
        "   \n",
        "  ############################################\n",
        "  ##            JACOBI ITERATION            ##\n",
        "  ############################################\n",
        "  if not isinstance(matrixA,np.ndarray):\n",
        "    matrixA= np.array(matrixA)\n",
        "    \n",
        "  n= matrixA.shape[0]\n",
        "  \n",
        "  # M = -invD * (A - D) = -invD * E\n",
        "  # D = diag(A)\n",
        "  # E = A - D\n",
        "  # c = invD * b\n",
        "  M, D, E, invD= iterationMatrix(matrixA,b)\n",
        "  c= np.dot(invD,b)\n",
        "    \n",
        "  \n",
        "  # convergence if rho(M)<1\n",
        "  eigvals,_= np.linalg.eig(M)\n",
        "  \n",
        "  if np.around(max(np.absolute(eigvals))) >= 1:         # rho(M) >= 1\n",
        "    perm= permutation(matrixA)                          # try to permutation of matrixA\n",
        "                                                        # in order to get a diagonally\n",
        "    matrixA= np.dot(perm,matrixA)                       # dominant matrix\n",
        "    b= np.dot(perm,b)\n",
        "\n",
        "    M, D, E, invD= iterationMatrix(matrixA,b)           # calculate again M, ...\n",
        "    c= np.dot(invD,b)\n",
        "\n",
        "    eigvals,_= np.linalg.eig(M)                         # new eigenvalues BUT THE \n",
        "                                                        # SOLUTIONS OF THE SYSTEM\n",
        "                                                        # DON'T CHANGE\n",
        "    \n",
        "    if np.around(max(np.absolute(eigvals))) >= 1:\n",
        "      print('Convergence will not be reached because rho(I-invD*A)>=1.\\nTry other methods.')\n",
        "      sys.exit(1)\n",
        "\n",
        "  # we are sure that the algorithm converges. Now we can find x\n",
        "  x= initialPoint\n",
        "  res = b - np.dot(matrixA,x)    \n",
        "  res= linalg.norm(res)\n",
        "  norm_b= linalg.norm(b)\n",
        "  residuals= []\n",
        "  it= 1\n",
        "  while res/norm_b > tol:\n",
        "    x= np.dot(M,x) + c\n",
        "    \n",
        "    res = b - np.dot(matrixA,x)    \n",
        "    res= linalg.norm(res)\n",
        "    residuals.append(res)\n",
        "    it+= 1\n",
        "  \n",
        "  print('solution after {} iterations'.format(it))\n",
        "  return x, np.array(residuals), np.array(residuals / norm_b)"
      ],
      "execution_count": 0,
      "outputs": []
    },
    {
      "metadata": {
        "id": "PMOKr5ZePoqq",
        "colab_type": "text"
      },
      "cell_type": "markdown",
      "source": [
        "###2. Gauss-Seidel iteration"
      ]
    },
    {
      "metadata": {
        "id": "8TT9gErYP80J",
        "colab_type": "code",
        "colab": {}
      },
      "cell_type": "code",
      "source": [
        "def gaussSeidelIteration(matrixA ,b, initialPoint, tol=1e-5):\n",
        "  '''\n",
        "  Solves the system of linear equations matrixA * x = b, using the Gauss - Seidel\n",
        "  iteration.\n",
        "  Parameters:\n",
        "  - matrixA: n x n matrix\n",
        "  - b: n x 1 vector\n",
        "  - initialPoint: starting guess for the iteration\n",
        "  - tol (default= 1e-5): tolerance to stop the iterations\n",
        "  Output:\n",
        "  - x: n x 1 vector, solution of matrixA * x = b\n",
        "  - residuals: vector containing all the residuals for each iteration\n",
        "  - wres: normalized residuals\n",
        "  '''\n",
        "  \n",
        "  ############################################\n",
        "  ##           ITERATION MATRIX             ##\n",
        "  ############################################\n",
        "  def iterationMatrix(matrixA):\n",
        "    if not isinstance(matrixA,np.ndarray):\n",
        "      matrixA= np.array(matrixA) \n",
        "    \n",
        "    # split matrixA= L + U\n",
        "    L= np.tril(matrixA)\n",
        "    U= np.triu(matrixA,1)\n",
        "    \n",
        "    invL= linalg.inv(L)\n",
        "    M= -np.dot(invL,U)\n",
        "    \n",
        "    return M, L, U, invL\n",
        "  \n",
        "  ############################################\n",
        "  ##           PERMUTATION MATRIX           ##\n",
        "  ############################################\n",
        "  def permutation(matrixA):                                      \n",
        "    if not isinstance(matrixA,np.ndarray):\n",
        "      matrixA= np.array(matrixA)  \n",
        "    \n",
        "    indeces= []\n",
        "    n= matrixA.shape[0]\n",
        "    for i in range(0,n):\n",
        "      ind= np.argmax(np.absolute(matrixA[i,:]))         # the permutation is done\n",
        "      if ind not in indeces:                            # in order to obtain a\n",
        "        indeces.append(ind)                             # diagonally dominant matrix \n",
        "\n",
        "    for i in range(0,n):\n",
        "      if i not in indeces:\n",
        "        indeces.append(i)\n",
        "\n",
        "    perm= np.zeros((n,n))\n",
        "    for i in range(0,len(indeces)):\n",
        "      perm[indeces[i],i]= 1\n",
        "\n",
        "    return perm\n",
        "  \n",
        "  ############################################\n",
        "  ##       GAUSS - SEIDEL ITERATION         ##\n",
        "  ############################################\n",
        "  if not isinstance(matrixA,np.ndarray):\n",
        "    matrixA= np.array(matrixA)\n",
        "  \n",
        "  n= matrixA.shape[0]\n",
        "  \n",
        "  # M = -invL * (A - L) = -invL * U\n",
        "  # L = lowerTriangular(A)\n",
        "  # U = A - L\n",
        "  # c = invL * b\n",
        "  M, L, U, invL= iterationMatrix(matrixA)\n",
        "  c= np.dot(invL,b)\n",
        "  \n",
        "  # convergence if rho(M)<1\n",
        "  eigvals,_= np.linalg.eig(M)\n",
        "  if np.around(max(np.absolute(eigvals))) >= 1:         # rho(M) >= 1\n",
        "    perm= permutation(matrixA)                          # try to permutation of matrixA\n",
        "                                                        # in order to get a diagonally\n",
        "    matrixA= np.dot(perm,matrixA)                       # dominant matrix\n",
        "    b= np.dot(perm,b)\n",
        "\n",
        "    M, L, U, invL= iterationMatrix(matrixA)             # calculate again M, ...\n",
        "    c= np.dot(invL,b)\n",
        "\n",
        "    eigvals,_= np.linalg.eig(M)                         # new eigenvalues BUT THE \n",
        "                                                        # SOLUTIONS OF THE SYSTEM\n",
        "                                                        # DON'T CHANGE\n",
        "  \n",
        "    \n",
        "    if np.around(max(np.absolute(eigvals))) >= 1:\n",
        "      print('Convergence will not be reached because rho(I-invD*A)>=1.\\nTry other methods.')\n",
        "      sys.exit(1)\n",
        "\n",
        "    \n",
        "  # we are sure that the algorithm converges. Now we can find x\n",
        "  x= initialPoint\n",
        "  residuals= []\n",
        "  res = b - np.dot(matrixA,x)    # initial residual -> just to enter in the loop\n",
        "  res= linalg.norm(res)\n",
        "  norm_b= linalg.norm(b)\n",
        "  it= 1\n",
        "  while res/norm_b > tol:\n",
        "    x= np.dot(M,x) + c\n",
        "    \n",
        "    res = b - np.dot(matrixA,x)    \n",
        "    res= linalg.norm(res)\n",
        "    residuals.append(res)\n",
        "    it+= 1\n",
        "  \n",
        "  print('solution after {} iterations'.format(it))\n",
        "  return x, np.array(residuals), np.array(residuals / norm_b)\n",
        "  "
      ],
      "execution_count": 0,
      "outputs": []
    },
    {
      "metadata": {
        "id": "TszYWshaae3S",
        "colab_type": "text"
      },
      "cell_type": "markdown",
      "source": [
        "###3. Newton's method for scalar nonlinear equation"
      ]
    },
    {
      "metadata": {
        "id": "sB8TvzAcasVv",
        "colab_type": "code",
        "colab": {}
      },
      "cell_type": "code",
      "source": [
        "def derivative(fun,point):\n",
        "  '''\n",
        "  Calculates the first order derivative of the function @fun at the point @point.\n",
        "  Parameters:\n",
        "  - fun: function for which the 1st order derivative is wanted\n",
        "  - point: point where to calculate the derivative\n",
        "  Output:\n",
        "  - derivative: central 1st order derivative\n",
        "  '''\n",
        "  return (fun(point+1) - fun(point-1)) / 2               # central derivative f'= (f(x+1) - f(x-1))/2\n",
        "\n",
        "\n",
        "\n",
        "\n",
        "def newtonScalarNLeq(fun,point,tol= 1e-5):\n",
        "  '''\n",
        "  Solve the scalar nonlinear equation f(x) = 0, where f(x) is the function @fun.\n",
        "  The method used is Newton's method.\n",
        "  Parameters:\n",
        "  - fun: function \n",
        "  - point: starting guess for the iteration\n",
        "  - tol (default= 1e-5): tolerance to stop the iterations\n",
        "  Output:\n",
        "  - x: point x such that f(x)=0\n",
        "  - residuals: vector containing all the residuals for each iteration\n",
        "  '''\n",
        "  \n",
        "  \n",
        "  if not callable(fun):\n",
        "    print('Error: impossible to continue! Parameter @fun is not callable()')\n",
        "    \n",
        "  # loop until convergence is not reached\n",
        "  residuals= []\n",
        "  x= point\n",
        "  res= np.absolute(fun(x))\n",
        "  residuals.append(res)\n",
        "  k= 1\n",
        "  while res >= tol:\n",
        "    alpha= derivative(fun,x)\n",
        "    x= x - fun(x)/alpha\n",
        "    res= np.absolute(fun(x))\n",
        "    residuals.append(res)\n",
        "    k+= 1\n",
        "    \n",
        "  print('solution after {} iterations'.format(k))\n",
        "  return x, np.array(residuals)\n"
      ],
      "execution_count": 0,
      "outputs": []
    },
    {
      "metadata": {
        "id": "KvJrrDKbsqgK",
        "colab_type": "text"
      },
      "cell_type": "markdown",
      "source": [
        "## Extra assignment"
      ]
    },
    {
      "metadata": {
        "id": "axlgjBl8vXZr",
        "colab_type": "text"
      },
      "cell_type": "markdown",
      "source": [
        "###4. GMRES method"
      ]
    },
    {
      "metadata": {
        "id": "pjXYv7W0vWek",
        "colab_type": "code",
        "colab": {}
      },
      "cell_type": "code",
      "source": [
        "def GMRESiteration(matrixA, b, tol=1e-5):\n",
        "  '''\n",
        "  Solves the system of linear equations matrixA * x = b, using the GMRES\n",
        "  iteration.\n",
        "  Parameters:\n",
        "  - matrixA: n x n matrix\n",
        "  - b: n x 1 vector\n",
        "  - tol (default= 1e-5): tolerance to stop the iterations\n",
        "  Output:\n",
        "  - x: n x 1 vector, solution of matrixA * x = b\n",
        "  - residuals: vector containing all the residuals for each iteration\n",
        "  - wres: normalized residuals\n",
        "  '''\n",
        "  \n",
        "  ######################################\n",
        "  ##             ARNOLDI              ##\n",
        "  ######################################\n",
        "  def arnoldiIteration(matrixA, Q, K):\n",
        "    '''\n",
        "    Gives a partial similarity transformation of matrixA into a Hessenberg \n",
        "    matrix.\n",
        "    Parameters:\n",
        "    - matrixA: n x n matrix\n",
        "    - Q: orthogonal matrix of the previous step\n",
        "    - K: k-th step of the iteration\n",
        "    Output:\n",
        "    - vect_h: new vector of the Hessenberg matrix\n",
        "    - q: new vector of the orthogonal matrix\n",
        "    '''\n",
        "    if not isinstance(matrixA, np.ndarray):\n",
        "      matrixA= np.array(matrixA)\n",
        "    \n",
        "    if not isinstance(Q, np.ndarray):\n",
        "      Q= np.array(Q)\n",
        "  \n",
        "    vect_h= np.zeros((K+1,1))\n",
        "    q= np.dot(matrixA, Q[:,K-1])  \n",
        "    \n",
        "    for k in range(0,K):\n",
        "      vect_h[k]= np.inner(Q[:,k],q)\n",
        "      q= q - vect_h[k]*Q[:,k]\n",
        "      \n",
        "    vect_h[K]= linalg.norm(q)\n",
        "    q= q / vect_h[K]\n",
        "  \n",
        "    return vect_h, q\n",
        "  \n",
        "  ######################################\n",
        "  ##              GMRES               ##\n",
        "  ######################################\n",
        "  if not isinstance(matrixA,np.ndarray):\n",
        "    matrixA= np.array(matrixA)\n",
        "    \n",
        "  if not isinstance(b,np.ndarray):\n",
        "    b= np.array(b)\n",
        "  \n",
        "  n= matrixA.shape[0]\n",
        "  k= 1\n",
        "  Q= np.zeros((n,1))\n",
        "  Q[:]= b / linalg.norm(b)\n",
        "  res_0= linalg.norm(b)\n",
        "  res= res_0\n",
        "  residuals= []\n",
        "  residuals.append(res)\n",
        "  \n",
        "  while res / res_0 >= tol:\n",
        "    h_new, q_new= arnoldiIteration(matrixA, Q, k)         # k-th step of Arnoldi iteration\n",
        "    \n",
        "    # UPDATE H: the new H is build by adding a new row and a new column to the \n",
        "    # previous one. The last column will be equal to the vector h_new calculated\n",
        "    # by the Arnoldi iteration in the current step.\n",
        "    if k == 1:\n",
        "      H= h_new\n",
        "    else:\n",
        "      H_new= np.zeros((k+1,k))\n",
        "      H_new[0:k,0:k-1]= H\n",
        "      H_new[:,k-1]= h_new.T\n",
        "      H= H_new\n",
        "    \n",
        "    \n",
        "    ########### LEAST SQUARES ###############\n",
        "    # least square of (|b|e_1 - H_ky)\n",
        "    e_1= np.zeros((k+1,1))                                \n",
        "    e_1[0]= linalg.norm(b)                                \n",
        "    \n",
        "    y,_,_,_= linalg.lstsq(H,e_1,rcond=None)               # using a built-in function\n",
        "    \n",
        "    x= np.dot(Q,y)\n",
        "    \n",
        "    # UPDATE Q: the new Q is build by adding to the prevoius Q the column vector\n",
        "    # q_new, calculated by the Arnoldi iteration in the current step.\n",
        "    Q_new= np.zeros((n,k+1))\n",
        "    Q_new[:,0:k]= Q\n",
        "    Q_new[:,k]= q_new\n",
        "    Q= Q_new\n",
        "    \n",
        "    # residual\n",
        "    res= b - np.dot(A,x)\n",
        "    res= linalg.norm(res)\n",
        "    residuals.append(res)\n",
        "    \n",
        "    k+= 1\n",
        "  \n",
        "  print('solution after {} iterations'.format(k))\n",
        "  return x, np.array(residuals), np.array(residuals/res_0)\n",
        "  "
      ],
      "execution_count": 0,
      "outputs": []
    },
    {
      "metadata": {
        "id": "0-scZ9moayuA",
        "colab_type": "text"
      },
      "cell_type": "markdown",
      "source": [
        "###5. Newton's method for vector nonlinear equation"
      ]
    },
    {
      "metadata": {
        "id": "UMSlfsoFaxyz",
        "colab_type": "code",
        "colab": {}
      },
      "cell_type": "code",
      "source": [
        "def jacobian(fun,point,h=1):\n",
        "  '''\n",
        "  Calculates the Jacobian matrix for the vector function @fun at the point @point.\n",
        "  Parameters:\n",
        "  - fun: function for which the Jacobian matrix is wanted\n",
        "  - point: point where to calculate the Jacobian\n",
        "  - h (default= 1): incrementation for the derivative\n",
        "  Output:\n",
        "  - jacobian: jacobian matrix of the function @fun\n",
        "  '''\n",
        "  n= len(point)\n",
        "  \n",
        "  jacobian= np.zeros((n,n))\n",
        "  \n",
        "  for i in range(0,n):\n",
        "    pp1= [p for p in point]\n",
        "    pp2= [p for p in point]\n",
        "    \n",
        "    pp1[i]= pp1[i] + h\n",
        "    pp2[i]= pp2[i] - h\n",
        "    \n",
        "    jacobian[:,i]= ((fun(pp1) - fun(pp2)) / (2*h)).T\n",
        "  \n",
        "  return jacobian\n",
        "  \n",
        "  \n",
        "  \n",
        "  \n",
        "def newtonNLsystems(fun, initialPoint, J= None, tol= 1e-5):\n",
        "  '''\n",
        "  Solve the vector nonlinear system of equations f(x) = 0, where f(x) is the\n",
        "  vector function @fun.\n",
        "  The method used is Newton's method.\n",
        "  Parameters:\n",
        "  - fun: vector function \n",
        "  - point: starting guess for the iteration\n",
        "  - J (default= None): the Jacobian matrix of the vector function. It improves\n",
        "    algorithm performances.\n",
        "  - tol (default= 1e-5): tolerance to stop the iterations\n",
        "  Output:\n",
        "  - x: point x such that f(x)=0\n",
        "  - residuals: vector containing all the residuals for each iteration\n",
        "  '''\n",
        "  if not callable(fun):\n",
        "    print('Error: impossible to continue! Parameter @fun is not callable()')\n",
        "    \n",
        "  n= len(initialPoint) \n",
        "  x= np.array(initialPoint)\n",
        "  \n",
        "  k = 1\n",
        "  residuals= []\n",
        "  res = linalg.norm(fun(x))\n",
        "  residuals.append(res)\n",
        "  while res >= tol:                                      # res= |f(x)|\n",
        "    jac= []\n",
        "    if callable(J):                                      # use J given by the user\n",
        "      jac= J(x)                                          # or calculate it\n",
        "    else:\n",
        "      jac= jacobian(fun,x)\n",
        "    \n",
        "    b= - fun(x)\n",
        "    \n",
        "    dx, _, _, _ = linalg.lstsq(jac, b, rcond=None)       # built-in function\n",
        "    x = x + dx                                           \n",
        "    \n",
        "    res = linalg.norm(fun(x))\n",
        "    residuals.append(res)\n",
        "    k+= 1\n",
        "    \n",
        "  print('solution after {} iterations'.format(k))\n",
        "  return x, np.array(residuals)"
      ],
      "execution_count": 0,
      "outputs": []
    },
    {
      "metadata": {
        "id": "SsQLT38gVbn_",
        "colab_type": "text"
      },
      "cell_type": "markdown",
      "source": [
        "# **Results**"
      ]
    },
    {
      "metadata": {
        "id": "RLwlnOzuV-Cd",
        "colab_type": "text"
      },
      "cell_type": "markdown",
      "source": [
        "## Jacobi iteration"
      ]
    },
    {
      "metadata": {
        "id": "BFIEmPNnESLc",
        "colab_type": "code",
        "outputId": "8b50e8b3-b4f8-48d6-fb8a-15473e5735d0",
        "colab": {
          "base_uri": "https://localhost:8080/",
          "height": 684
        }
      },
      "cell_type": "code",
      "source": [
        "#TODO: moving this cell to Result section and add examples\n",
        "# ex taken from https://s-mat-pcs.oulu.fi/~mpa/matreng/et55_60.htm\n",
        "\n",
        "A= [[2,  7,  1],\n",
        "    [4,  1, -1],\n",
        "    [1, -3, 12]]\n",
        "\n",
        "b= [[19],\n",
        "    [ 3],\n",
        "    [31]]\n",
        "\n",
        "\n",
        "x, res, wres= jacobiIteration(A,b,[[0],[0],[0]],1e-10)\n",
        "print('x.T=',x.T)\n",
        "print('res=', res)\n",
        "\n",
        "plt.figure\n",
        "plt.plot([x for x in range(0,len(res))],wres)\n",
        "plt.xlabel('iterations')\n",
        "plt.ylabel('weighted residuals')\n",
        "plt.show()\n",
        "\n",
        "print('--------------------------------------------------------------')\n",
        "print('--------------------------------------------------------------')\n",
        "A= [[2,  1, 1],\n",
        "    [1,  2, 1],\n",
        "    [1,  1, 2]]\n",
        "\n",
        "b= [[ 4],\n",
        "    [ 4],\n",
        "    [ 4]]\n",
        "\n",
        "x, res, wres= jacobiIteration(A,b,[[0],[0],[0]],1e-10)\n",
        "print('x.T=',x.T)\n",
        "print('res=', res)\n",
        "\n",
        "plt.figure\n",
        "plt.plot([x for x in range(0,len(res))],wres)\n",
        "plt.xlabel('iterations')\n",
        "plt.ylabel('weighted residuals')\n",
        "plt.show()"
      ],
      "execution_count": 8,
      "outputs": [
        {
          "output_type": "stream",
          "text": [
            "solution after 19 iterations\n",
            "x.T= [[1. 2. 3.]]\n",
            "res= [8.44660265e+00 2.16580594e+00 7.06921742e-01 1.96416773e-01\n",
            " 3.83156523e-02 1.37248195e-02 4.50260464e-03 7.26749448e-04\n",
            " 2.74462498e-04 1.02109998e-04 1.54653646e-05 5.83627522e-06\n",
            " 2.30680198e-06 3.66009710e-07 1.33768980e-07 5.23113707e-08\n",
            " 9.18576769e-09 3.25043704e-09]\n"
          ],
          "name": "stdout"
        },
        {
          "output_type": "display_data",
          "data": {
            "image/png": "[encoded data removed]",
            "text/plain": [
              "<Figure size 576x396 with 1 Axes>"
            ]
          },
          "metadata": {
            "tags": []
          }
        },
        {
          "output_type": "stream",
          "text": [
            "--------------------------------------------------------------\n",
            "--------------------------------------------------------------\n",
            "Convergence will not be reached because rho(I-invD*A)>=1.\n",
            "Try other methods.\n"
          ],
          "name": "stdout"
        },
        {
          "output_type": "error",
          "ename": "SystemExit",
          "evalue": "ignored",
          "traceback": [
            "An exception has occurred, use %tb to see the full traceback.\n",
            "\u001b[0;31mSystemExit\u001b[0m\u001b[0;31m:\u001b[0m 1\n"
          ]
        },
        {
          "output_type": "stream",
          "text": [
            "/usr/local/lib/python3.6/dist-packages/IPython/core/interactiveshell.py:2890: UserWarning: To exit: use 'exit', 'quit', or Ctrl-D.\n",
            "  warn(\"To exit: use 'exit', 'quit', or Ctrl-D.\", stacklevel=1)\n"
          ],
          "name": "stderr"
        }
      ]
    },
    {
      "metadata": {
        "id": "Ky3SotliESyx",
        "colab_type": "text"
      },
      "cell_type": "markdown",
      "source": [
        "## Gauss-Seidel iteration"
      ]
    },
    {
      "metadata": {
        "id": "2aZQdu5wEX8n",
        "colab_type": "code",
        "colab": {}
      },
      "cell_type": "code",
      "source": [
        "# ex taken from https://s-mat-pcs.oulu.fi/~mpa/matreng/et55_60.htm\n",
        "\n",
        "A= [[2,  7,  1],\n",
        "    [4,  1, -1],\n",
        "    [1, -3, 12]]\n",
        "\n",
        "b= [[19],\n",
        "    [ 3],\n",
        "    [31]]\n",
        "\n",
        "x, res, wres= gaussSeidelIteration(A,b,[[0],[0],[0]],1e-10)\n",
        "print('x.T=',x.T)\n",
        "print('res=', res)\n",
        "\n",
        "plt.figure\n",
        "plt.plot([x for x in range(0,len(res))],wres)\n",
        "plt.xlabel('iterations')\n",
        "plt.ylabel('weighted residuals')\n",
        "plt.show()\n",
        "\n",
        "print('--------------------------------------------------------------')\n",
        "print('--------------------------------------------------------------')\n",
        "A= [[2,  1, 1],\n",
        "    [1,  2, 1],\n",
        "    [1,  1, 2]]\n",
        "\n",
        "b= [[ 4],\n",
        "    [ 4],\n",
        "    [ 4]]\n",
        "\n",
        "x, res, wres= gaussSeidelIteration(A,b,[[0],[0],[0]],1e-10)\n",
        "print('x.T=',x.T)\n",
        "print('res=', res)\n",
        "\n",
        "plt.figure\n",
        "plt.plot([x for x in range(0,len(res))],wres)\n",
        "plt.xlabel('iterations')\n",
        "plt.ylabel('weighted residuals')\n",
        "plt.show()"
      ],
      "execution_count": 0,
      "outputs": []
    },
    {
      "metadata": {
        "id": "L4VuMjibEYS9",
        "colab_type": "text"
      },
      "cell_type": "markdown",
      "source": [
        "## Newton's method for scalar nonlinear equation"
      ]
    },
    {
      "metadata": {
        "id": "ecU-xzHYEgQO",
        "colab_type": "code",
        "colab": {}
      },
      "cell_type": "code",
      "source": [
        "def f(x):\n",
        "  return np.e**x -x - 2\n",
        "\n",
        "x, res= newtonScalarNLeq(f,-2)\n",
        "\n",
        "print('f(x={})= {}'.format(x,f(x)))\n",
        "print('res= ',res)\n",
        "plt.figure()\n",
        "plt.plot([x for x in range(0,len(res))],res)\n",
        "plt.xlabel('iterations')\n",
        "plt.ylabel('|f(x)|')\n",
        "\n",
        "plt.show()"
      ],
      "execution_count": 0,
      "outputs": []
    },
    {
      "metadata": {
        "id": "8ry-9HugEgt_",
        "colab_type": "text"
      },
      "cell_type": "markdown",
      "source": [
        "## GMRES method"
      ]
    },
    {
      "metadata": {
        "id": "jWpdUKGeEkin",
        "colab_type": "code",
        "colab": {}
      },
      "cell_type": "code",
      "source": [
        "A= [[2,  7,  1],\n",
        "    [4,  1, -1],\n",
        "    [1, -3, 12]]\n",
        "\n",
        "b= [[19],\n",
        "    [ 3],\n",
        "    [31]]\n",
        "\n",
        "x, res, wres= GMRESiteration(A,b,tol=1e-10)\n",
        "print('x.T=',x.T)\n",
        "print('res=', res)\n",
        "\n",
        "plt.figure\n",
        "plt.plot([x for x in range(0,len(res))],wres)\n",
        "plt.xlabel('iterations')\n",
        "plt.ylabel('weighted residuals')\n",
        "plt.show()\n",
        "\n",
        "print('--------------------------------------------------------------')\n",
        "print('--------------------------------------------------------------')\n",
        "A= [[2,  1, 1],\n",
        "    [1,  2, 1],\n",
        "    [1,  1, 2]]\n",
        "\n",
        "b= [[ 4],\n",
        "    [ 4],\n",
        "    [ 4]]\n",
        "\n",
        "x, res, wres= GMRESiteration(A,b,tol=1e-10)\n",
        "print('x.T=',x.T)\n",
        "print('res=', res)\n",
        "\n",
        "plt.figure\n",
        "plt.plot([x for x in range(0,len(res))],wres)\n",
        "plt.xlabel('iterations')\n",
        "plt.ylabel('weighted residuals')\n",
        "plt.show()"
      ],
      "execution_count": 0,
      "outputs": []
    },
    {
      "metadata": {
        "id": "933Am5i-Ek3F",
        "colab_type": "text"
      },
      "cell_type": "markdown",
      "source": [
        "## Newton's method for vector nonlinear equation"
      ]
    },
    {
      "metadata": {
        "id": "isRWSfeaErGZ",
        "colab_type": "code",
        "colab": {}
      },
      "cell_type": "code",
      "source": [
        "def funVect(var):\n",
        "  if not isinstance(var,np.ndarray):\n",
        "    var= np.array(var)\n",
        "  \n",
        "  fun1= var[0]*var[1] + 2*var[1]\n",
        "  fun2= var[0] + var[1]\n",
        "  fun3= var[1]*math.log(var[2]+1) - 10\n",
        "  \n",
        "  vect= [fun1,\n",
        "         fun2,\n",
        "         fun3]\n",
        "  \n",
        "  vect= np.array(vect)\n",
        "  \n",
        "  return vect\n",
        "\n",
        "\n",
        "x, res= newtonNLsystems(funVect,[[1],[2],[4]],tol=1e-10)\n",
        "\n",
        "print('x.T=',x.T)\n",
        "print('res=', res)\n",
        "\n",
        "plt.figure()\n",
        "plt.plot([x for x in range(0,len(res))],res)\n",
        "plt.xlabel('iterations')\n",
        "plt.ylabel('||fun(x)||')\n",
        "plt.show()"
      ],
      "execution_count": 0,
      "outputs": []
    },
    {
      "metadata": {
        "id": "_4GLBv0zWr7m",
        "colab_type": "text"
      },
      "cell_type": "markdown",
      "source": [
        "# **Discussion**"
      ]
    },
    {
      "metadata": {
        "id": "6bcsDSoRXHZe",
        "colab_type": "text"
      },
      "cell_type": "markdown",
      "source": [
        "Summarize your results and your conclusions. Were the results expected or surprising. Do your results have implications outside the particular problem investigated in this report? "
      ]
    },
    {
      "metadata": {
        "id": "1vcIILuQYsEA",
        "colab_type": "text"
      },
      "cell_type": "markdown",
      "source": [
        "# References"
      ]
    },
    {
      "metadata": {
        "id": "NlJ-Y9KAYt4Z",
        "colab_type": "text"
      },
      "cell_type": "markdown",
      "source": [
        "[1] from Lecture Note, *Iterative methods, chapter 7*, pg. 93\n",
        "\n",
        "[2] from Wikipedia, *[Jacobi method](https://en.wikipedia.org/wiki/Jacobi_method)*"
      ]
    }
  ]
}