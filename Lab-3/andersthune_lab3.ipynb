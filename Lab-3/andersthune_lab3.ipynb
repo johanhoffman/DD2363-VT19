{
 "cells": [
  {
   "cell_type": "markdown",
   "metadata": {
    "ein.tags": "worksheet-0",
    "slideshow": {
     "slide_type": "-"
    }
   },
   "source": [
    "**Note:** This notebook is written in the Julia language, so the cells can't be\n",
    "  executed in Google Colab. If you want to verify that the notebook works, I\n",
    "  recommend [JuliaBox](https://juliabox.com/) or testing locally. The syntax is\n",
    "  very similar to Python and MATLAB. Note in particular the dot syntax used to\n",
    "  perform elementwise operations (`f.(x)` applies `f` to all elements of `x`),\n",
    "  that indices start at 1 and that the last statement of all functions is returned\n",
    "  automatically."
   ]
  },
  {
   "cell_type": "markdown",
   "metadata": {
    "colab_type": "text",
    "ein.tags": "worksheet-0",
    "id": "6RgtXlfYO_i7",
    "slideshow": {
     "slide_type": "-"
    }
   },
   "source": [
    "# **Lab 3: Iterative methods**\n",
    "**Anders Ågren Thuné**"
   ]
  },
  {
   "cell_type": "markdown",
   "metadata": {
    "colab_type": "text",
    "ein.tags": "worksheet-0",
    "id": "9x_J5FVuPzbm",
    "slideshow": {
     "slide_type": "-"
    }
   },
   "source": [
    "# **Abstract**"
   ]
  },
  {
   "cell_type": "markdown",
   "metadata": {
    "colab_type": "text",
    "ein.tags": "worksheet-0",
    "id": "6UFTSzW7P8kL",
    "slideshow": {
     "slide_type": "-"
    }
   },
   "source": [
    "In this report, various iterative methods for solving systems of equations, both\n",
    "linear and nonlinear, were implemented. The algorithms largely worked as\n",
    "expected."
   ]
  },
  {
   "cell_type": "markdown",
   "metadata": {
    "colab_type": "text",
    "ein.tags": "worksheet-0",
    "id": "OkT8J7uOWpT3",
    "slideshow": {
     "slide_type": "-"
    }
   },
   "source": [
    "# **About the code**"
   ]
  },
  {
   "cell_type": "markdown",
   "metadata": {
    "colab_type": "text",
    "ein.tags": "worksheet-0",
    "id": "HmB2noTr1Oyo",
    "slideshow": {
     "slide_type": "-"
    }
   },
   "source": [
    "A short statement on who is the author of the file, and if the code is\n",
    "distributed under a certain license."
   ]
  },
  {
   "cell_type": "code",
   "execution_count": 1,
   "metadata": {
    "autoscroll": false,
    "colab": {
     "base_uri": "https://localhost:8080/",
     "height": 34
    },
    "colab_type": "code",
    "collapsed": false,
    "ein.hycell": false,
    "ein.tags": "worksheet-0",
    "id": "Pdll1Xc9WP0e",
    "outputId": "1e1de3c9-fbe5-46c9-c3de-2986013df3c9",
    "slideshow": {
     "slide_type": "-"
    }
   },
   "outputs": [
    {
     "data": {
      "text/plain": [
       "\"DD2363 Methods in Scientific Computing,\\nKTH Royal Institute of Technology, Stockholm, Sweden.\\n\""
      ]
     },
     "execution_count": 1,
     "metadata": {},
     "output_type": "execute_result"
    }
   ],
   "source": [
    "\"\"\"\n",
    "DD2363 Methods in Scientific Computing,\n",
    "KTH Royal Institute of Technology, Stockholm, Sweden.\n",
    "\"\"\"\n",
    "\n",
    "# Copyright (C) 2019\n",
    "# Anders Ågren Thuné (athune@kth.se)\n",
    "# Johan Hoffman (jhoffman@kth.se)\n",
    "\n",
    "# Code written by Anders Ågren Thuné based on the template by Johan Hoffman.\n",
    "\n",
    "# This file is part of the course DD2363 Methods in Scientific Computing\n",
    "# KTH Royal Institute of Technology, Stockholm, Sweden\n",
    "#\n",
    "# This is free software: you can redistribute it and/or modify\n",
    "# it under the terms of the GNU Lesser General Public License as published by\n",
    "# the Free Software Foundation, either version 3 of the License, or\n",
    "# (at your option) any later version."
   ]
  },
  {
   "cell_type": "markdown",
   "metadata": {
    "colab_type": "text",
    "ein.tags": "worksheet-0",
    "id": "28xLGz8JX3Hh",
    "slideshow": {
     "slide_type": "-"
    }
   },
   "source": [
    "# **Set up environment**"
   ]
  },
  {
   "cell_type": "code",
   "execution_count": 213,
   "metadata": {
    "autoscroll": false,
    "colab": null,
    "colab_type": "code",
    "collapsed": false,
    "ein.hycell": false,
    "ein.tags": "worksheet-0",
    "id": "Xw7VlErAX7NS",
    "slideshow": {
     "slide_type": "-"
    }
   },
   "outputs": [],
   "source": [
    "using LinearAlgebra"
   ]
  },
  {
   "cell_type": "markdown",
   "metadata": {
    "colab_type": "text",
    "ein.tags": "worksheet-0",
    "id": "gnO3lhAigLev",
    "slideshow": {
     "slide_type": "-"
    }
   },
   "source": [
    "# **Introduction**"
   ]
  },
  {
   "cell_type": "markdown",
   "metadata": {
    "colab_type": "text",
    "ein.tags": "worksheet-0",
    "id": "l5zMzgPlRAF6",
    "slideshow": {
     "slide_type": "-"
    }
   },
   "source": [
    "Direct methods for solving linear systems of equations are often efficient and\n",
    "easy to implement. However, when the system dimensions get large or when dealing\n",
    "with nonlinear systems, they fall short. Instead, iterative methods that neither\n",
    "require the matrix inverse nor a linear system can be put to use.\n",
    "\n",
    "In general, iterative methods are based on the concept of *fixed point\n",
    "iteration*, which is where an equation of the form $x^{(k+1)} = f(x^{(k)})$\n",
    "converges to some fixed value $x$. When dealing with linear equations, this\n",
    "takes the form $x^{(k+1)}=Mx^{(k)}+c$, and it can be shown that the iteration\n",
    "converges when $\\|M\\| < 1$. The situation is complicated somewhat when dealing\n",
    "with nonlinear equations, but under the assumption that the function whose roots\n",
    "are to be found is *Lipschitz continous* in the interval (that is, there is a\n",
    "constant $L_f$ such that for any $x$ and $y$ in the interval, $\\|f(x)-f(y)\\| <\n",
    "L_f\\|x-y\\|$), a similar assertion can be made. This is not uncommon, as all $f\n",
    "\\in C^'$ are Lipschitz continous, for instance. A suitable stopping criterion\n",
    "for an iterative method can often be set as the following:\n",
    "$\\frac{\\|r^{(k)}\\|}{\\|b\\|} < TOL$, where $r^{(k)}$ is the residual at step $k$,\n",
    "for some tolerance $TOL$.\n",
    "\n",
    "This report presents how these concepts, described in chapters\n",
    "7 and 8 of the lecture notes, were used to implement the following methods:\n",
    "- Jacobi iteration for solving of linear systems\n",
    "- Gauss-Seidel iteration for solving of linear systems\n",
    "- Newton's method for solving of nonlinear scalar equations\n",
    "- GMRES iteration for solving of linear systems\n",
    "- Newton's method for solving of nonlinear systems"
   ]
  },
  {
   "cell_type": "markdown",
   "metadata": {
    "colab_type": "text",
    "ein.tags": "worksheet-0",
    "id": "WeFO9QMeUOAu",
    "slideshow": {
     "slide_type": "-"
    }
   },
   "source": [
    "# **Methods**"
   ]
  },
  {
   "cell_type": "markdown",
   "metadata": {
    "ein.tags": "worksheet-0",
    "slideshow": {
     "slide_type": "-"
    }
   },
   "source": [
    "### **Jacobi and Gauss-Seidel iteration**"
   ]
  },
  {
   "cell_type": "markdown",
   "metadata": {
    "ein.tags": "worksheet-0",
    "slideshow": {
     "slide_type": "-"
    }
   },
   "source": [
    "The Jacobi and Gauss-Seidel methods are fixed-point iterations for solving\n",
    "linear systems of equations $Ax=b$ based on *matrix splitting*. In these\n",
    "methods, the matrix $A$ is split into a sum $A = A_1 + A_2$, where $A_1$ is easy\n",
    "to invert, giving the equation $A_1x = -A_2x + b$. The iteration is then\n",
    "formulated as $A_1x^{(k+1)} = -A_2x^{(k)} + b$, or $x^{(k+1)} = Mx^{(k)} + c$,\n",
    "with $M = -A_1^{-1}A_2, \\quad c=b$.\n",
    "\n",
    "In the Jacobi method, the splitting $A = D + (A - D)$ is used, where $D$ is a\n",
    "diagonal matrix with the same diagonal elements as $A$.\n",
    "\n",
    "In the Gauss-Seidel method, the splitting $A = L + (A-L)$ is used, where $L$ is\n",
    "a lower triangular matrix with the same lower triangular part as $A$.\n",
    "\n",
    "[Chapter 7.2 of the notes]"
   ]
  },
  {
   "cell_type": "code",
   "execution_count": 214,
   "metadata": {
    "autoscroll": false,
    "collapsed": false,
    "ein.hycell": false,
    "ein.tags": "worksheet-0",
    "slideshow": {
     "slide_type": "-"
    }
   },
   "outputs": [
    {
     "data": {
      "text/plain": [
       "jacobi (generic function with 3 methods)"
      ]
     },
     "execution_count": 214,
     "metadata": {},
     "output_type": "execute_result"
    }
   ],
   "source": [
    "function jacobi(A, b, x_zero = zeros(length(b)), TOL = 1e-6)\n",
    "    x = x_zero\n",
    "    n = length(b)\n",
    "    x_prev = zeros(n)\n",
    "    norm_b = norm(b)\n",
    "    res = [Inf for _ = 1:n]\n",
    "\n",
    "    k = 1\n",
    "    while norm(res)/norm_b >= TOL\n",
    "        x_prev .= x\n",
    "        for i = 1:n\n",
    "            x[i] = 1/A[i,i]*(b[i]-sum(j == i ? 0.0 : A[i,j]*x_prev[j] for j = 1:n))\n",
    "        end\n",
    "        mul!(res, A, x)\n",
    "        res .-= b\n",
    "        k+=1\n",
    "    end\n",
    "    x\n",
    "end"
   ]
  },
  {
   "cell_type": "code",
   "execution_count": 215,
   "metadata": {
    "autoscroll": false,
    "collapsed": false,
    "ein.hycell": false,
    "ein.tags": "worksheet-0",
    "slideshow": {
     "slide_type": "-"
    }
   },
   "outputs": [
    {
     "data": {
      "text/plain": [
       "gauss_seidel (generic function with 3 methods)"
      ]
     },
     "execution_count": 215,
     "metadata": {},
     "output_type": "execute_result"
    }
   ],
   "source": [
    "function gauss_seidel(A, b, x_zero = zeros(length(b)), TOL = 1e-6)\n",
    "    x = x_zero\n",
    "    n = length(b)\n",
    "    norm_b = norm(b)\n",
    "    res = [Inf for _ = 1:n]\n",
    "\n",
    "    while norm(res)/norm_b >= TOL\n",
    "        for i = 1:n\n",
    "            x[i] = 1/A[i,i]*(b[i]-sum(j == i ? 0.0 : A[i,j]*x[j] for j = 1:n))\n",
    "        end\n",
    "        mul!(res, A, x)\n",
    "        res .-= b\n",
    "    end\n",
    "    x\n",
    "end"
   ]
  },
  {
   "cell_type": "markdown",
   "metadata": {
    "ein.tags": "worksheet-0",
    "slideshow": {
     "slide_type": "-"
    }
   },
   "source": [
    "### **Newton's method for scalar equations**"
   ]
  },
  {
   "cell_type": "markdown",
   "metadata": {
    "ein.tags": "worksheet-0",
    "slideshow": {
     "slide_type": "-"
    }
   },
   "source": [
    "Newton's method is an iterative method for solving nonlinear equations, with\n",
    "$x^{(k+1)}= x^{(k)} - f'(x)^{-1}f(x)$. In order to compute the derivative of the\n",
    "function $f$, I use a finite difference with an arbitrarily chosen small $h$. The\n",
    "implementation is based on Algorithm 13 of chapter 8.3 in the notes."
   ]
  },
  {
   "cell_type": "code",
   "execution_count": 216,
   "metadata": {
    "autoscroll": false,
    "collapsed": false,
    "ein.hycell": false,
    "ein.tags": "worksheet-0",
    "slideshow": {
     "slide_type": "-"
    }
   },
   "outputs": [
    {
     "data": {
      "text/plain": [
       "findiff (generic function with 2 methods)"
      ]
     },
     "execution_count": 216,
     "metadata": {},
     "output_type": "execute_result"
    }
   ],
   "source": [
    "findiff(f, x, h = 1e-6) = (f(x+h)-f(x))/h"
   ]
  },
  {
   "cell_type": "code",
   "execution_count": 217,
   "metadata": {
    "autoscroll": false,
    "collapsed": false,
    "ein.hycell": false,
    "ein.tags": "worksheet-0",
    "slideshow": {
     "slide_type": "-"
    }
   },
   "outputs": [
    {
     "data": {
      "text/plain": [
       "newton (generic function with 3 methods)"
      ]
     },
     "execution_count": 217,
     "metadata": {},
     "output_type": "execute_result"
    }
   ],
   "source": [
    "function newton(f, x_zero = 0, TOL = 1e-6)\n",
    "    x = x_zero\n",
    "    while abs(f(x)) >= TOL\n",
    "        x -= f(x)/findiff(f, x)\n",
    "    end\n",
    "    x\n",
    "end"
   ]
  },
  {
   "cell_type": "markdown",
   "metadata": {
    "ein.tags": "worksheet-0",
    "slideshow": {
     "slide_type": "-"
    }
   },
   "source": [
    "### **GMRES**"
   ]
  },
  {
   "cell_type": "markdown",
   "metadata": {
    "ein.tags": "worksheet-0",
    "slideshow": {
     "slide_type": "-"
    }
   },
   "source": [
    "The key idea of the GMRES method is to solve the least squares problem\n",
    "$\\displaystyle \\min_{x^{k} \\in \\mathcal{K}_k}\\|b-Ax^{(k)}\\|$, where\n",
    "$\\mathcal{K}_k$ is the Krylov subspace $\\langle b, Ab, \\dots,\n",
    "A^{(k-1)}b\\rangle$. However, since using the Krylov vectors as they are results\n",
    "in an unstable method, the GMRES method orthogonalizes these basis vectors\n",
    "first. The implementation is based on algorithms 9 & 10 in chapter 7.3 of the\n",
    "lecture notes."
   ]
  },
  {
   "cell_type": "code",
   "execution_count": 218,
   "metadata": {
    "autoscroll": false,
    "collapsed": false,
    "ein.hycell": false,
    "ein.tags": "worksheet-0",
    "slideshow": {
     "slide_type": "-"
    }
   },
   "outputs": [
    {
     "data": {
      "text/plain": [
       "gmres (generic function with 3 methods)"
      ]
     },
     "execution_count": 218,
     "metadata": {},
     "output_type": "execute_result"
    }
   ],
   "source": [
    "function gmres(A, b, TOL = 1e-6, kmax=150)\n",
    "    n = length(b)\n",
    "    norm_b = norm(b)\n",
    "    x = v = zeros(n)\n",
    "\n",
    "    k_capac = 10 # initial capacity\n",
    "    Q = zeros(n,k_capac)\n",
    "    H = zeros(k_capac+1,k_capac)\n",
    "    b_e1 = [norm_b; zeros(k_capac-1)]\n",
    "    y = zeros(k_capac)\n",
    "\n",
    "    Q[:,1] .= b./norm_b\n",
    "    res = b - Q*(A*Q \\ b) # \\ solves least squares\n",
    "    norm_res0 = norm(res)\n",
    "\n",
    "    k = 1\n",
    "    while norm(res)/norm_res0 >= TOL && k < kmax\n",
    "        if k == k_capac # allocate more space\n",
    "            Q, Q_prev = zeros(n,k_capac*2), Q\n",
    "            H, H_prev = zeros(k_capac*2+1,k_capac*2), H\n",
    "            Q[:,1:k_capac] .= Q_prev\n",
    "            H[1:k_capac+1,1:k_capac] .= H_prev\n",
    "            k_capac *= 2\n",
    "            b_e1 = [norm_b; zeros(k_capac-1)]\n",
    "            y = zeros(k_capac)\n",
    "        end\n",
    "\n",
    "        mul!(v, A, Q[:,k]) # arnoldi\n",
    "        for j = 1:k\n",
    "            H[j,k] = dot(Q[:,j],v)\n",
    "            v .-= H[j,k].*Q[:,j]\n",
    "        end\n",
    "        H[k+1,k] = norm(v)\n",
    "        Q[:,k+1] .= v./H[k+1,k]\n",
    "\n",
    "        y[1:k] .= H[1:k+1,1:k] \\ b_e1[1:k+1]\n",
    "        mul!(x, Q[:,1:k], y[1:k])\n",
    "        mul!(res,A,x)\n",
    "        res.-=b\n",
    "        k += 1\n",
    "    end\n",
    "    x\n",
    "end"
   ]
  },
  {
   "cell_type": "markdown",
   "metadata": {
    "ein.tags": "worksheet-0",
    "slideshow": {
     "slide_type": "-"
    }
   },
   "source": [
    "### **Newton's method for nonlinear systems**"
   ]
  },
  {
   "cell_type": "markdown",
   "metadata": {
    "ein.tags": "worksheet-0",
    "slideshow": {
     "slide_type": "-"
    }
   },
   "source": [
    "This is practically the same as the scalar case; the only difference is that\n",
    "the Jacobian is somewhat harder to obtain than the scalar derivative. Due to lack\n",
    "of time, I take the Jacobian as an argument to the function instead of\n",
    "computing it myself."
   ]
  },
  {
   "cell_type": "code",
   "execution_count": 219,
   "metadata": {
    "autoscroll": false,
    "collapsed": false,
    "ein.hycell": false,
    "ein.tags": "worksheet-0",
    "slideshow": {
     "slide_type": "-"
    }
   },
   "outputs": [
    {
     "data": {
      "text/plain": [
       "newtonvec (generic function with 5 methods)"
      ]
     },
     "execution_count": 219,
     "metadata": {},
     "output_type": "execute_result"
    }
   ],
   "source": [
    "function newtonvec(f, δf, x_zero::Vector, TOL = 1e-6)\n",
    "    x = x_zero\n",
    "    while norm(f(x)) >= TOL\n",
    "        x.-=δf(x)\\f(x)\n",
    "    end\n",
    "    x\n",
    "end"
   ]
  },
  {
   "cell_type": "markdown",
   "metadata": {
    "ein.tags": "worksheet-0",
    "slideshow": {
     "slide_type": "-"
    }
   },
   "source": [
    "# **Results**"
   ]
  },
  {
   "cell_type": "markdown",
   "metadata": {
    "colab_type": "text",
    "ein.tags": "worksheet-0",
    "id": "RLwlnOzuV-Cd",
    "slideshow": {
     "slide_type": "-"
    }
   },
   "source": [
    "This section presents tests verifying that the implemented functions work as\n",
    "expected. Again due to lack of time, the tests are more limited than previous\n",
    "weeks."
   ]
  },
  {
   "cell_type": "code",
   "execution_count": 220,
   "metadata": {
    "autoscroll": false,
    "collapsed": false,
    "ein.hycell": false,
    "ein.tags": "worksheet-0",
    "slideshow": {
     "slide_type": "-"
    }
   },
   "outputs": [
    {
     "name": "stdout",
     "output_type": "stream",
     "text": [
      "Tests passed!\n"
     ]
    }
   ],
   "source": [
    "TOL = 1e-3\n",
    "\n",
    "A1 = [2. 3; 2 6]\n",
    "A2 = [7. 4; -3 3]\n",
    "A3 = [2. 2; 3 -5]\n",
    "\n",
    "x1 = [3.0, 2.5]\n",
    "x2 = [-2.5, 2]\n",
    "x3 = [1.5, 1.5]\n",
    "\n",
    "b1 = A1*x1\n",
    "b2 = A2*x2\n",
    "b3 = A3*x3\n",
    "\n",
    "# Jacobi\n",
    "@assert norm(b1-A1*jacobi(A1,b1)) < TOL\n",
    "@assert norm(x1-jacobi(A1,b1)) < TOL\n",
    "@assert norm(b2-A2*jacobi(A2,b2)) < TOL\n",
    "@assert norm(x2-jacobi(A2,b2)) < TOL\n",
    "@assert norm(b3-A3*jacobi(A3,b3)) < TOL\n",
    "@assert norm(x3-jacobi(A3,b3)) < TOL\n",
    "\n",
    "# Gauss-Seidel\n",
    "@assert norm(b1-A1*gauss_seidel(A1,b1)) < TOL\n",
    "@assert norm(x1-gauss_seidel(A1,b1)) < TOL\n",
    "@assert norm(b2-A2*gauss_seidel(A2,b2)) < TOL\n",
    "@assert norm(x2-gauss_seidel(A2,b2)) < TOL\n",
    "@assert norm(b3-A3*gauss_seidel(A3,b3)) < TOL\n",
    "@assert norm(x3-gauss_seidel(A3,b3)) < TOL\n",
    "\n",
    "# GMRES\n",
    "@assert norm(b1-A1*gmres(A1,b1)) < TOL\n",
    "@assert norm(x1-gmres(A1,b1)) < TOL\n",
    "@assert norm(b2-A2*gmres(A2,b2)) < TOL\n",
    "@assert norm(x2-gmres(A2,b2)) < TOL\n",
    "@assert norm(b3-A3*gmres(A3,b3)) < TOL\n",
    "@assert norm(x3-gmres(A3,b3)) < TOL\n",
    "\n",
    "# Newton\n",
    "@assert abs(newton(x -> x^2+2x+1, -2) + 1) < TOL\n",
    "@assert abs(newton(x -> sin(2x), -1) + pi/2) < TOL\n",
    "\n",
    "println(\"Tests passed!\")"
   ]
  },
  {
   "cell_type": "markdown",
   "metadata": {
    "colab_type": "text",
    "ein.tags": "worksheet-0",
    "id": "_4GLBv0zWr7m",
    "slideshow": {
     "slide_type": "-"
    }
   },
   "source": [
    "# **Discussion**"
   ]
  },
  {
   "cell_type": "markdown",
   "metadata": {
    "colab_type": "text",
    "ein.tags": "worksheet-0",
    "id": "6bcsDSoRXHZe",
    "slideshow": {
     "slide_type": "-"
    }
   },
   "source": [
    "All implementations work as expected; however, the GMRES function doesn't seem to\n",
    "approximate the solution well for $k < n$, so there might be some bug in the code."
   ]
  },
  {
   "cell_type": "markdown",
   "metadata": {
    "ein.tags": "worksheet-0",
    "slideshow": {
     "slide_type": "-"
    }
   },
   "source": [
    "# **Refences**"
   ]
  },
  {
   "cell_type": "markdown",
   "metadata": {
    "ein.tags": "worksheet-0",
    "slideshow": {
     "slide_type": "-"
    }
   },
   "source": [
    "- Hoffman, J. 2019. *Introduction to Scientific Computing*"
   ]
  },
  {
   "cell_type": "code",
   "execution_count": null,
   "metadata": {
    "autoscroll": false,
    "collapsed": false,
    "ein.hycell": false,
    "ein.tags": "worksheet-0",
    "slideshow": {
     "slide_type": "-"
    }
   },
   "outputs": [],
   "source": []
  }
 ],
 "metadata": {
  "colab": {
   "include_colab_link": true,
   "name": "template-report-lab-X.ipynb",
   "provenance": null,
   "version": "0.3.2"
  },
  "kernelspec": {
   "display_name": "Julia 1.1.0",
   "name": "julia-1.1"
  },
  "name": "andersthune_lab3.ipynb"
 },
 "nbformat": 4,
 "nbformat_minor": 0
}
