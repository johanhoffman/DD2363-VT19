{
 "cells": [
  {
   "cell_type": "markdown",
   "metadata": {},
   "source": [
    "Author: Natalie Strömdahl"
   ]
  },
  {
   "cell_type": "markdown",
   "metadata": {},
   "source": [
    "# Abstract\n",
    "This is a report for lab 1 in the course DD2363. \n",
    "\n",
    "# Introduction\n",
    "A majority of mathmaticians start by calculating everything by hand. However, as today's mathematical problems are so complex that it has become a necessity to instead use algorithms and program solutions in order to get more accurate and faster results. This report comes up with various algorithms for solving problems concering matricies and vectors.\n",
    "\n",
    "\n",
    "# Method\n",
    "This section  explains how a given mathematical problem is solved in theory and how it is implemented in python code.\n",
    "## Inner product\n",
    "The inner product of two vectors is solved as:\n",
    "$$v_1=[x_1,x_2,x_3,...,x_n]\\\\\n",
    "v_2=[y_1,y_2,y_3,...,y_n]\\\\\n",
    "v_1*v_2=x_1*y_1+x_2*y_2+x_3*y_3+...+x_n*y_n$$\n",
    "\n",
    "### Implementation\n",
    "Since the length of the vectors v_1 and v_2 have to be equal, it is safe to iterate over the length of one of the vectors.\n",
    "For each iteration, the two corresponding indexes for each vector is multiplied and added to the result. When the iteration is finished the result, which is the inner product, is returned.\n",
    "\n",
    "## Matrix-vector product Ax\n",
    "For a matrix with dimentions n and m multiplied with a vector v of length l, l must equal n. The matrix's rows can be treated as seperate vectors. The matrix then consists of n number of row vectors. For each row vector, the inner product with the vector v is calculated. The result will be a vector z of length l.\n",
    "\n",
    "### Implementation\n",
    "The matrix is separated into row vectors. Each row vector together with the vector v are used as input for the innerproduct-function. All the results are then appended into a new vector z, which is the result.\n",
    "\n",
    "## Matrix-matrix product\n",
    "Matrix m1 and m2 are to be multiplied. The m1 matrix is separated into row vectors and m2 matrix is separated into column vectors. For each column of matrix m2, a matrix-vector product implementation is made. This will result in a new vector. This vector represents the first column of the new matrix m3. All the columns of the m2 matrix will be used in this manner and all the vectors will be used as columns in the matrix m3.\n",
    "\n",
    "### Implementation\n",
    "The matrix m2 is first transposed. This will make extracting the columns much easier. Each column vector and matrix m1 are then used as input for the matrix-vector function. Finally, all the results are put together in a matrix.\n",
    "\n",
    "\n"
   ]
  },
  {
   "cell_type": "code",
   "execution_count": null,
   "metadata": {},
   "outputs": [],
   "source": [
    "import numpy as np\n",
    "    \n",
    "def matrixmatrix(m1,m2):\n",
    "    result=[]\n",
    "    m2 = np.transpose(m2)\n",
    "    \n",
    "    for m21 in m2:\n",
    "        \n",
    "        \n",
    "        result1=matrixvector(m1,m21)\n",
    "        \n",
    "        result = np.append(result,result1)\n",
    "        \n",
    "def matrixvector(m,v):\n",
    "    result=[]\n",
    "    for m1 in m:\n",
    "        result.append(innerproduct(m1,v))\n",
    "    return(result)\n",
    "       \n",
    "def innerproduct(v1,v2):\n",
    "    result=0\n",
    "    for i in range(0,len(v1)):\n",
    "        result += v2[i]*v1[i]\n",
    "    return(result)      \n"
   ]
  },
  {
   "cell_type": "markdown",
   "metadata": {},
   "source": []
  },
  {
   "cell_type": "markdown",
   "metadata": {},
   "source": [
    "## Sparse matrix\n",
    "A sparse matrix contains a lot of zeros. Therefore one can use a CRS representation can be used to save memory. Three vectors\n",
    "are used to implement a CRS. There is a vector for all the non-zero values in the matrix, a vector whose index matches the value vector's, where are columns are specified. Finally, there is a vector which shows on which rows the values correspond to. The values in the row vector represent where the next row begins for the value vector. If the row vector is: $$row_v=[1,3]$$ and the value vector is: $$val_v=[1,2,2,3,4]$$, then the values 1 and 2 are on the first row and the values 2,3,4 are on the second. Column vector $$col_v=[1,3,1,2,3]$$ means that the first value 1 is in on the first column, 2 is on the third etc  (Lecture 2 in the course DD2363 17/1-19).\n",
    "\n",
    "### Implementation\n",
    "First the dimensions of the sparse matrix have to be specified. The number of columns is the biggest value in the column list and the number of rows is length of the vector minus one. i represent the index of the value and column vectors. The values in the column vector are reduced by one since the matrix is zero indexed. The row number is incremented when i equals the value the the vector. "
   ]
  },
  {
   "cell_type": "code",
   "execution_count": null,
   "metadata": {},
   "outputs": [],
   "source": [
    "import numpy as np\n",
    "def sparsematrix(crs,col,row):\n",
    "    big=0\n",
    "    for col1 in col:\n",
    "        if col1 > big:\n",
    "            big=col1\n",
    "    matrix=np.zeros((len(row)-1,big))\n",
    "    \n",
    "    i=0\n",
    "    rownr=0\n",
    "    nextrow=row[rownr+1]\n",
    "    for elem in crs:\n",
    "        if i==nextrow-1:\n",
    "            rownr +=1\n",
    "            nextrow=row[rownr+1]\n",
    "        matrix[rownr][col[i]-1]=elem\n",
    "        i+=1\n",
    "    return(matrix)"
   ]
  },
  {
   "cell_type": "markdown",
   "metadata": {},
   "source": []
  },
  {
   "cell_type": "markdown",
   "metadata": {},
   "source": [
    "## Spare matrix-vector product\n",
    "This is no different from a normal matrix-vector product, as far as I can see. The only difference is that most operations will equal zero since 0*x=0.\n",
    "\n",
    "### Implementation\n",
    "Use the same code for the method matrixmatrix and use a sparse matrix as input.\n"
   ]
  },
  {
   "cell_type": "code",
   "execution_count": null,
   "metadata": {},
   "outputs": [],
   "source": []
  }
 ],
 "metadata": {
  "kernelspec": {
   "display_name": "Python 3",
   "language": "python",
   "name": "python3"
  },
  "language_info": {
   "codemirror_mode": {
    "name": "ipython",
    "version": 3
   },
   "file_extension": ".py",
   "mimetype": "text/x-python",
   "name": "python",
   "nbconvert_exporter": "python",
   "pygments_lexer": "ipython3",
   "version": "3.6.7"
  }
 },
 "nbformat": 4,
 "nbformat_minor": 2
}
