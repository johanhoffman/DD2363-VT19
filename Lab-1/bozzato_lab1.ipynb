{
  "nbformat": 4,
  "nbformat_minor": 0,
  "metadata": {
    "colab": {
      "name": "template-report-lab-X.ipynb",
      "version": "0.3.2",
      "provenance": [],
      "toc_visible": true,
      "include_colab_link": true
    },
    "kernelspec": {
      "name": "python3",
      "display_name": "Python 3"
    }
  },
  "cells": [
    {
      "cell_type": "markdown",
      "metadata": {
        "id": "view-in-github",
        "colab_type": "text"
      },
      "source": [
        "<a href=\"https://colab.research.google.com/github/johanhoffman/DD2363-VT19/blob/bozzato/Lab-1/bozzato_lab1.ipynb\" target=\"_parent\"><img src=\"https://colab.research.google.com/assets/colab-badge.svg\" alt=\"Open In Colab\"/></a>"
      ]
    },
    {
      "metadata": {
        "id": "6RgtXlfYO_i7",
        "colab_type": "text"
      },
      "cell_type": "markdown",
      "source": [
        "# **Lab 1: Matrix algorithms**\n",
        "**Bozzato Federico**"
      ]
    },
    {
      "metadata": {
        "id": "9x_J5FVuPzbm",
        "colab_type": "text"
      },
      "cell_type": "markdown",
      "source": [
        "# **Abstract**"
      ]
    },
    {
      "metadata": {
        "id": "6UFTSzW7P8kL",
        "colab_type": "text"
      },
      "cell_type": "markdown",
      "source": [
        "The aim of this lab is to implent  some algebraic operations and functions. The reader can find algorithms about: (i) inner product; (ii) matrix-vector product; (iii) matrix-matrix product; (iv) sparse matrices."
      ]
    },
    {
      "metadata": {
        "id": "OkT8J7uOWpT3",
        "colab_type": "text"
      },
      "cell_type": "markdown",
      "source": [
        "#**About the code**"
      ]
    },
    {
      "metadata": {
        "id": "HmB2noTr1Oyo",
        "colab_type": "text"
      },
      "cell_type": "markdown",
      "source": [
        "**Author:** Federico Bozzato"
      ]
    },
    {
      "metadata": {
        "id": "Pdll1Xc9WP0e",
        "colab_type": "code",
        "outputId": "9b0572d3-67ed-438a-ec66-3f5bad0359e3",
        "colab": {
          "base_uri": "https://localhost:8080/",
          "height": 34
        }
      },
      "cell_type": "code",
      "source": [
        "\"\"\"This program is a template for lab reports in the course\"\"\"\n",
        "\"\"\"DD2363 Methods in Scientific Computing, \"\"\"\n",
        "\"\"\"KTH Royal Institute of Technology, Stockholm, Sweden.\"\"\"\n",
        "\n",
        "# Copyright (C) 2019 Johan Hoffman (jhoffman@kth.se)\n",
        "\n",
        "# This file is part of the course DD2363 Methods in Scientific Computing\n",
        "# KTH Royal Institute of Technology, Stockholm, Sweden\n",
        "#\n",
        "# This is free software: you can redistribute it and/or modify\n",
        "# it under the terms of the GNU Lesser General Public License as published by\n",
        "# the Free Software Foundation, either version 3 of the License, or\n",
        "# (at your option) any later version.\n",
        "\n",
        "# This template is maintained by Johan Hoffman\n",
        "# Please report problems to jhoffman@kth.se"
      ],
      "execution_count": 1,
      "outputs": [
        {
          "output_type": "execute_result",
          "data": {
            "text/plain": [
              "'KTH Royal Institute of Technology, Stockholm, Sweden.'"
            ]
          },
          "metadata": {
            "tags": []
          },
          "execution_count": 1
        }
      ]
    },
    {
      "metadata": {
        "id": "28xLGz8JX3Hh",
        "colab_type": "text"
      },
      "cell_type": "markdown",
      "source": [
        "# **Set up environment**"
      ]
    },
    {
      "metadata": {
        "id": "D2PYNusD08Wa",
        "colab_type": "text"
      },
      "cell_type": "markdown",
      "source": [
        "To have access to the neccessary modules you have to run this cell. If you need additional modules, this is where you add them. "
      ]
    },
    {
      "metadata": {
        "id": "Xw7VlErAX7NS",
        "colab_type": "code",
        "colab": {}
      },
      "cell_type": "code",
      "source": [
        "# Load neccessary modules.\n",
        "from google.colab import files\n",
        "\n",
        "import sys\n",
        "import numpy as np"
      ],
      "execution_count": 0,
      "outputs": []
    },
    {
      "metadata": {
        "id": "gnO3lhAigLev",
        "colab_type": "text"
      },
      "cell_type": "markdown",
      "source": [
        "# **Introduction**"
      ]
    },
    {
      "metadata": {
        "id": "l5zMzgPlRAF6",
        "colab_type": "text"
      },
      "cell_type": "markdown",
      "source": [
        "In this lab we will see how to use some algebraic operations involving vectors and matrices. Algebraic operations such as inner product or matrix-matrix product are not only important for studying *linear physical phenomena* but also for approximation methods. An example of approximation method may be the orthogonal projection onto a subspace representing the best possible approximation in that subspace.\n",
        "\n",
        "The report is divided into 3 modules:\n",
        " \n",
        "1. Methods: in this section, each algorithm is presented and explained, giving also the mathematic definition of the operation the algorithm implements.\n",
        "2. Results: in this section, the results of each algorithm are presented.\n",
        "3. Discussion: in this last section, results are discussed."
      ]
    },
    {
      "metadata": {
        "id": "WeFO9QMeUOAu",
        "colab_type": "text"
      },
      "cell_type": "markdown",
      "source": [
        "# **Methods**"
      ]
    },
    {
      "metadata": {
        "id": "PBAh2hgVcoTN",
        "colab_type": "text"
      },
      "cell_type": "markdown",
      "source": [
        "This section is divided into two subsection: the mandatory part and the extra assignment.  \n",
        "\n",
        "##Mandatory part\n",
        "\n",
        "In this section we will see how some algebraic operations work and how they be implemented in Python. The algebraic operations are the following:\n",
        "\n",
        "1.   Inner product\n",
        "2.   Matrix-vector product\n",
        "3.   Matrix-matrix product\n",
        "\n",
        "All of the operations are defined in a vector space, that is a set $V$ which is closed under the following operations [1]:\n",
        "\n",
        "1. vector addition: \n",
        ">$\n",
        " x+y\\in V, \\quad \\forall x,y\\in V\n",
        " $\n",
        " \n",
        "2. scalar multiplication: \n",
        ">$\n",
        "\\alpha x\\in V, \\quad \\forall x \\in V, \\quad\\forall\\alpha\\in\\mathbb{R}\n",
        "$"
      ]
    },
    {
      "metadata": {
        "id": "zF4iBj5VURZx",
        "colab_type": "text"
      },
      "cell_type": "markdown",
      "source": [
        "###1. Inner Product\n",
        "####Definition\n",
        "Assuming that $V$ is a vector space as defined [here](https://colab.research.google.com/github/johanhoffman/DD2363-VT19/blob/bozzato/Lab-1/bozzato_lab1_1.ipynb#scrollTo=PBAh2hgVcoTN&line=21&uniqifier=1), the inner product is defined [2] as a function $(\\cdot,\\cdot): V\\times V \\to \\mathbb{R}$ on the vector space $V$ and it has the following properties for all $x,y,z \\in V$ and $\\alpha,\\beta\\in\\mathbb{R}$\n",
        "\n",
        "1. linearity in the first member: $(\\alpha x + \\beta y,z)= \\alpha(x,z) + \\beta(y,z)$\n",
        "2. linearity in the second member: $(x, \\alpha y + \\beta z)= \\alpha(x,y) + \\beta(x,z)$\n",
        "3. symmetry: $(x,y)=(y,x)$\n",
        "4. always non negative: $(x,x)\\geq 0$\n",
        "\n",
        "#### Euclidian inner product\n",
        "One common inner product is the Euclidian inner product [3], which is defined in the Euclidian space $\\mathbb{R}^n$. The Euclidian inner product is given by\n",
        "\n",
        ">$\n",
        "\\left(x,y\\right)= x \\cdot y= \\displaystyle \\sum_{i=1}^n x_iy_i $\n",
        "\n",
        "####Implementation\n",
        "One possible implentation of Euclidian inner product using Python is the following one:"
      ]
    },
    {
      "metadata": {
        "id": "5AG6oN7dUBCY",
        "colab_type": "code",
        "colab": {}
      },
      "cell_type": "code",
      "source": [
        "def innerProduct(vectA,vectB):\n",
        "  '''\n",
        "  Calculates the Euclidian inner product between vectA and vectB.\n",
        "  Parameters:\n",
        "  - vectA: vector of n elements\n",
        "  - vectB: vector of n elements\n",
        "  Output:\n",
        "  - innProd: vector of n elements containing the Euclidian inner product\n",
        "  '''\n",
        "  \n",
        "  if len(vectA) != len(vectB):                                                  # check if the two vectors have the same length\n",
        "    print('Error: vectors must have the same length!')\n",
        "    sys.exit(1)\n",
        "    \n",
        "  innProd= 0                                                                    # initialize the result and follow the definition of Euclidian inner product\n",
        "  for i in range(0,len(vectA)):\n",
        "    innProd += vectA[i]*vectB[i]\n",
        "    \n",
        "  return innProd                                                                # return the result"
      ],
      "execution_count": 0,
      "outputs": []
    },
    {
      "metadata": {
        "id": "mcS9TJvEq8m0",
        "colab_type": "text"
      },
      "cell_type": "markdown",
      "source": [
        "###2. Matrix-vector product\n",
        "####Definition\n",
        "Assuming that $V$ is the vector space defined [here](https://colab.research.google.com/github/johanhoffman/DD2363-VT19/blob/bozzato/Lab-1/bozzato_lab1_1.ipynb#scrollTo=PBAh2hgVcoTN&line=21&uniqifier=1), the product between a $m\\times n$ matrix $A$ and a $n\\times 1$ vector $x$ is given by [4]\n",
        "\n",
        ">$ b_i= Ax = \\displaystyle\\sum_{j=1}^n a_{ij}x_j , \\qquad i= 1,\\dots,m$\n",
        "\n",
        "where:\n",
        "* $b_i$ is the $i-$th element of the vector $b$\n",
        "* $x_j$ is the $j-$th element of the vector $x$\n",
        "* $a_{ij}$ is the element of the matrix $A$ placed at the row $i$ and column $j$\n",
        "\n",
        "####Implementation\n",
        "One possible implementation of the matrix-vector product in Python is the following one:\n",
        "\n"
      ]
    },
    {
      "metadata": {
        "id": "GbeRaUjIxnaW",
        "colab_type": "code",
        "colab": {}
      },
      "cell_type": "code",
      "source": [
        "def matrixVectorProduct(mtx,vect):\n",
        "  '''\n",
        "  Calculates the product between the matrix mtx and the vector vect.\n",
        "  Parameters:\n",
        "  - mtx: matrix with i rows and j columns\n",
        "  - vect: vector with j elements\n",
        "  Output:\n",
        "  - result: vector with i elements\n",
        "  '''\n",
        "\n",
        "  if len(mtx[0]) != len(vect):                                                  # check if it is possible to do the product\n",
        "    print('Error: the number of matrix columns must be the same',\n",
        "          'of the number of vector rows!')\n",
        "    sys.exit(1)\n",
        "    \n",
        "  result= [innerProduct(mtx[i],vect) for i in range(0,len(mtx))]                # follow the definition of matrix-vector product\n",
        "  \n",
        "  return result"
      ],
      "execution_count": 0,
      "outputs": []
    },
    {
      "metadata": {
        "id": "l3J8sFhBpWL2",
        "colab_type": "text"
      },
      "cell_type": "markdown",
      "source": [
        "This implementation of this operation comes from the idea that the matrix-vector product between the $m\\times n $ matrix $A$ and the $n\\times 1$ vector $x$\n",
        "\n",
        ">$\n",
        "  y= Ax = \\begin{pmatrix}\n",
        "    a_{11}  & a_{12} & \\dots & a_{1n} \\\\\n",
        "    a_{21} & a_{22} & \\dots & a_{2n} \\\\\n",
        "    \\vdots & \\vdots    & \\ddots & \\vdots \\\\\n",
        "    a_{m1}  & a_{m2} & \\dots & a_{mn}\n",
        "  \\end{pmatrix}\\begin{pmatrix}\n",
        "    x_1      \\\\\n",
        "    x_2      \\\\\n",
        "    \\vdots  \\\\\n",
        "    x_n\n",
        "  \\end{pmatrix}\n",
        "$\n",
        "\n",
        "can be written as $m$ inner products between the rows of $A$ and the vector $x$. Naming the $i-$th row as $\\mathbf{a_i}$, the matrix-vector product can be written as\n",
        "\n",
        ">$\n",
        "y= Ax= \\begin{pmatrix}\n",
        "\\mathbf{a_1}\\cdot x \\\\\n",
        "\\mathbf{a_2}\\cdot x \\\\\n",
        "\\vdots \\\\\n",
        "\\mathbf{a_m}\\cdot x\n",
        "\\end{pmatrix}\n",
        "$\n",
        "\n",
        "As we can see, the equation above is exactly the same as the instruction \n",
        "\n",
        "```\n",
        "result= [innerProduct(mtx[i],vect) for i in range(0,len(mtx))]\n",
        "```\n",
        "\n"
      ]
    },
    {
      "metadata": {
        "id": "s2FSq11AtqPW",
        "colab_type": "text"
      },
      "cell_type": "markdown",
      "source": [
        "###3. Matrix-matrix product\n",
        "####Definition\n",
        "Let $A\\in\\mathbb{R}^{m\\times n}$  and $B\\in\\mathbb{R}^{n\\times o}$ be two matrices. The matrix-matrix product between $A$ and $B$ is the matrix $C=AB\\in\\mathbb{R}^{m\\times o}$ where the elements are given by [5]\n",
        "\n",
        ">$\n",
        "c_{ij}= \\displaystyle \\sum_{k=1}^m a_{ik}b_{kj}\n",
        "$\n",
        "\n",
        "As we can see from the equation above, the matrix-matrix product is defined as the product between the rows of $A$ and the columns of $B$.\n",
        "\n",
        "####Implementation\n",
        "One possible implementation of the matrix-matrix product is the following one:"
      ]
    },
    {
      "metadata": {
        "id": "2AaGb_FExm5o",
        "colab_type": "code",
        "colab": {}
      },
      "cell_type": "code",
      "source": [
        "def matrixMatrixProduct(matrA,matrB): \n",
        "  '''\n",
        "  Calculates the product between the matrix matrA and the matrix matrB.\n",
        "  Parameters:\n",
        "  - matrA: m x n matrix\n",
        "  - matrB: n x o matrix\n",
        "  Output:\n",
        "  - matrC: m x o matrix\n",
        "  '''\n",
        "  \n",
        "  # The following function does the \"transposition\" of the input matrix. Even though\n",
        "  # from the theory we do not need the transposition of the matrix, we need the \n",
        "  # transposition in this implementation because in Python matrices are just vectors\n",
        "  # of vectors: this means that it is impossible to select only a column. \n",
        "  def toolMat(mat):\n",
        "    new_mat= []\n",
        "    for j in range(0,len(mat[0])):\n",
        "      row= [mat[i][j] for i in range(0,len(mat))]\n",
        "      new_mat.append(row)\n",
        "    return new_mat\n",
        "  \n",
        "  \n",
        "  if len(toolMat(matrA)) != len(matrB):                                         # check if the matrix-matrix product is doable\n",
        "    print('Error: the number of columns of matrixA must be equal',\n",
        "          ' to the number of rows of matrixB')\n",
        "    sys.exit(1)\n",
        "\n",
        "  new_matrixB= toolMat(matrB)\n",
        "  prod= []\n",
        "  for i in range(0,len(new_matrixB)):\n",
        "    prod.append(matrixVectorProduct(matrA,new_matrixB[i]))                      # do the product between rows and columns\n",
        "\n",
        "  prod= toolMat(prod)                                                           # transpose the result again so that the result has the right dimension\n",
        "  return prod"
      ],
      "execution_count": 0,
      "outputs": []
    },
    {
      "metadata": {
        "id": "YLViiASg-l-i",
        "colab_type": "text"
      },
      "cell_type": "markdown",
      "source": [
        "As we can see from the code above, inside the function  ```matrixMatrixProduct``` there is another function, called ```toolMat```. This function does the transposition of the input matrix: this might surprise us, since in the formula of matrix-matrix product there is not the transpose of the matrix $B$. Although, since in Python matrices are lists of vectors, it is impossible to take an entire column without using a loop. Doing the transposition, we can easily select rows, which were columns before the transposition.\n",
        "\n",
        "After the calculation of the product, we need to transpose again the matrix to get the correct result of the product.\n",
        "\n",
        "\n",
        "\n",
        "\n",
        "\n",
        "\n",
        "\n"
      ]
    },
    {
      "metadata": {
        "id": "NxaEtQAEc_Xr",
        "colab_type": "text"
      },
      "cell_type": "markdown",
      "source": [
        "##Extra assignment\n",
        "In this section, we will understand how to create and use sparse matrices.\n",
        "\n",
        "###Definition\n",
        "A *sparse matrix* is a matrix in which most of the elements are 0. By constrast, if most of the elements are nonzero, the matrix is called *dense matrix* [6].\n",
        "\n",
        "We define *sparsity* of a $m\\times n$ matrix as the ratio between the number of nonzero elements and the total number of elements [6].\n",
        "\n",
        "###Implementation\n",
        "####CRS\n",
        "One way to implement a sparse matrix is to use the *compressed row storage* (or CRS), which consists of an efficient representation of the sparse matrix [7].\n",
        "\n",
        "The CRS format stores a $m\\times n$ matrix with $nnz$ nonzero element in three vectors ($values,col\\_idx,row\\_prt$) [6]:\n",
        "\n",
        "* the vector $values$ contains all the $nnz$ elements of the matrix. The values must be ordered following either the *row-major order* or the *column-major order*. \n",
        "\n",
        "* the vector $col\\_idx$ contains the column indeces of each value in the vector $values$. As the vector $values$ it contains $nnz$ elements.\n",
        "\n",
        "* the vector $row\\_ptr$ points to the row for each nonzero element, and it is defined recursively as:\n",
        " 1. $row\\_ptr[0]=0$\n",
        " 2. $row\\_ptr[i]=row\\_ptr[i-1]+nnz_{row}$,  where $nnz_{row}$ is the number of nonzero elements on the $i-$th row.\n",
        " \n",
        " Thus, the vector $row\\_ptr$ contains $m+1$ elements.\n",
        "\n",
        "\n",
        "\n",
        "**Observation:** In this implementation, I have noticed that a problem occurs when we want to convert a sparse matrix into a dense one. In fact, let us consider the matrices $A$ and $B$ defined as\n",
        "\n",
        ">$\n",
        " A= \\begin{pmatrix}\n",
        "  3 & 2 & 0 & 2 & 0 & 0 \\\\\n",
        "  0 & 2 & 1 & 0 & 0 & 0 \\\\\n",
        "  0 & 0 & 1 & 0 & 0 & 0 \\\\\n",
        "  0 & 0 & 3 & 2 & 0 & 0 \\\\\n",
        "  0 & 0 & 0 & 0 & 1 & 0 \\\\\n",
        "  0 & 0 & 0 & 0 & 2 & 3\n",
        " \\end{pmatrix} \\qquad  B= \\begin{pmatrix}\n",
        "  3 & 2 & 0 & 2 & 0 & 0 & 0 & \\dots & 0\\\\\n",
        "  0 & 2 & 1 & 0 & 0 & 0 & 0 & \\dots & 0\\\\\n",
        "  0 & 0 & 1 & 0 & 0 & 0 & 0 & \\dots & 0\\\\\n",
        "  0 & 0 & 3 & 2 & 0 & 0 & 0 & \\dots & 0\\\\\n",
        "  0 & 0 & 0 & 0 & 1 & 0 & 0 & \\dots & 0\\\\\n",
        "  0 & 0 & 0 & 0 & 2 & 3 & 0 & \\dots & 0\n",
        " \\end{pmatrix}\n",
        "$\n",
        "\n",
        "where $z$ is the number of final columns containg only zero elements. Now, we can look at in detail the CRS for each matrix:\n",
        "* vectors $values$: since both $A$ and $B$ contain the same nonzero values at the same position, $values_A$ and $value_B$ are equal:\n",
        ">$\n",
        "  values_{A}=values_{B}= \\begin{pmatrix}\n",
        "    3 & 2 & 2 & 2 & 1 & 1 & 3 & 2 & 1 & 2 & 3 \\\\\n",
        "  \\end{pmatrix}\n",
        "$\n",
        "\n",
        "* vectors $col\\_idx$: since the vectors $values_{A}$ and $values_{B}$ are equal, also $col\\_idx_{A}$ and $col\\_idx_{B}$ must be equal, otherwise the values would be placed in different columns:\n",
        ">$\n",
        "  col\\_idx_{A}=col\\_idx_{B}= \\begin{pmatrix}\n",
        "    1 & 2 & 4 & 2 & 3 & 3 & 3 & 4 & 5 & 5 & 6\\\\\n",
        "  \\end{pmatrix}\n",
        "$\n",
        "\n",
        "* vectors $row\\_ptr$: in the end, also $row\\_ptr_{A} = row\\_ptr_{B}$ because we did not add any rows at the end of the matrix $A$. Thus, the two vectors must be the same:\n",
        ">$\n",
        "  row\\_ptr_{A} = row\\_ptr_{B} = \\begin{pmatrix}\n",
        "    1 & 4 & 6 & 7 & 9 & 10 & 12\n",
        "  \\end{pmatrix}\n",
        "$\n",
        "\n",
        "As we have just seen, the two matrices $A$ and $B$ have the same CRS representation: this fact can create some problems when we want to convert the matrices from the sparse representation to the dense representation. Indeed, the sparse representation of matrix $B$ would be converted not into $B$, as we could expect, but into $A$ because the information about the final columns with zero elements is not stored in any vectors.\n",
        "\n",
        "In order to avoid this ambiguity, I have modified the vector $col\\_idx$ appending the number $-z$ where $z$ is the number of final columns containing only zero elements. Thus, $col\\_idx_{A}$ and $col\\_idx{B}$ will look like:\n",
        ">$\n",
        "  col\\_idx_{A}= \\begin{pmatrix}\n",
        "    3 & 2 & 2 & 2 & 1 & 1 & 3 & 2 & 1 & 2 & 3 & 0\\\\\n",
        "  \\end{pmatrix}\n",
        "$\n",
        "\n",
        ">$\n",
        "  col\\_idx_{A}= \\begin{pmatrix}\n",
        "    3 & 2 & 2 & 2 & 1 & 1 & 3 & 2 & 1 & 2 & 3 & -z_B\\\\\n",
        "  \\end{pmatrix}\n",
        "$\n",
        "\n",
        "The sign minus is necessary because otherwise it could be confused as an index column instead of the number of final columns with only zero elements.\n",
        " \n",
        "####Matrix-vector product\n",
        "Since we do not have a real matrix but we have a sparse matrix, the matrix-vector product as it has been defined in the section above is to be modified in order to have an efficient matrix-vector product algorithm. \n",
        "\n",
        "The algorithm used for the matrix-vector product is\n",
        "\n",
        "\n",
        "\n",
        "```\n",
        "for i= 1:n do\n",
        "  b_i= 0\n",
        "  for j= row_ptr[i]:row_ptr[i+1]-1 do\n",
        "    b_i += values[j]*x[col_idx[j]]\n",
        "  end\n",
        "end\n",
        "```\n",
        "\n",
        "where ```n``` is the length of the vector $x$ and ```b_i``` is the $i-$th element of the resulting vector [9].\n",
        "\n"
      ]
    },
    {
      "metadata": {
        "id": "BXx1hyoCq4d_",
        "colab_type": "code",
        "colab": {}
      },
      "cell_type": "code",
      "source": [
        "class CRS:\n",
        "\tdef __init__(self, values, col_idx, row_ptr, rankwise= True):\n",
        "\t\t'''\n",
        "\t\tCreates the object of a sparse matrix.\n",
        "\t\tParameters:\n",
        "\t\t- values: contains all the nnz elements of the matrix\n",
        "\t\t- col_idx: contains the column indeces of each value in the vector values. \n",
        "\t\t  The size is nnz+1, with the last element being equal to -(n+1), where n is\n",
        "\t\t  the number of final columns containing all zero elements.\n",
        "\t\t- row_ptr: points to the row for each nonzero element.\n",
        "    - rankwise: flag for vectors starting containing ranks (default) or indeces\n",
        "\t\t'''\n",
        "    \n",
        "\t\tself.values= values\n",
        "\t\tif rankwise:\n",
        "\t\t\tself.col_idx= col_idx\n",
        "\t\t\tself.row_ptr= row_ptr\n",
        "\t\telse:                                                                       # if the vectors contain indices and not ranks\n",
        "\t\t\tself.col_idx= [col_idx[i]-1 for i in range(0,len(col_idx))]\n",
        "\t\t\tself.row_ptr= [row_ptr[i]-1 for i in range(0,len(row_ptr))]\n",
        "\t\t\tif self.col_idx[-1] < 0:                                                  # the last element is the number of final columns with all zeros\n",
        "\t\t\t\tself.col_idx[-1] += 1\n",
        "  \n",
        "  \n",
        "\tdef denseToSparse(matrix):\n",
        "\t\t'''\n",
        "\t\tConverts a dense matrix into a sparse matrix.\n",
        "\t\tParameters:\n",
        "\t\t- matrix: m x n matrix\n",
        "\t\tOutput:\n",
        "\t\t- x: CRS object\n",
        "\t\t'''\n",
        "\t\tvalues= []\n",
        "\t\tcol_idx= []\n",
        "\t\trow_ptr= [0]\n",
        "\t\t\n",
        "\t\tfor i in range(0,len(matrix)):                                              # follow the definition of CRS explained above\n",
        "\t\t\tnnz_counter= 0\n",
        "\t\t\tfor j in range(0,len(matrix[0])):\n",
        "\t\t\t\tif matrix[i][j] != 0:\n",
        "\t\t\t\t\tvalues.append(matrix[i][j])                                           # update the values vector \n",
        "\t\t\t\t\tcol_idx.append(j)                                                     # update the col_idx vector \n",
        "\t\t\t\t\tnnz_counter += 1                                                      # count how many nonzero eleemet there are in the i-th row\n",
        "\t\t\t\t\n",
        "\t\t\trow_ptr.append(row_ptr[i]+nnz_counter)                                    # update the row_ptr vector                      \n",
        "\t\t\n",
        "\t\tcol_idx.append(-(len(matrix[0])-max(col_idx)))                              # append the number of final column with all zeros\n",
        "\t\tx= CRS(values, col_idx, row_ptr)\t\n",
        "\t\treturn x\t\n",
        "\t\t\n",
        "\tdef sparseToDense(self):\n",
        "\t\t'''\n",
        "\t\tConverts a sparse matrix into a dense one.\n",
        "\t\tOutput:\n",
        "\t\t- matrix: an n x m matrix\n",
        "\t\t'''\n",
        "\t\tn= len(self.row_ptr)-1                                                      # the vector row_ptr has size n+1, where n is the number of rows of the dense matrix\n",
        "\t\tm= max(self.col_idx)-min(self.col_idx)                                      # m=  the last column with at least one nonzero element + the number of final columns \n",
        "                                                                                # with all zeros\n",
        "\t\tmatrix= np.zeros((n,m))\n",
        "\t\t\n",
        "\t\tidx= 0\n",
        "\t\tidx_value= 0\n",
        "\t\twhile idx < n:                                                              # update the dense matrix\n",
        "\t\t\tpos1= self.row_ptr[idx]\n",
        "\t\t\tpos2= self.row_ptr[idx+1]\n",
        "\t\t\twhile pos1 < pos2:\n",
        "\t\t\t\tmatrix[idx][self.col_idx[pos1]]= self.values[pos1]\n",
        "\t\t\t\tpos1 += 1\n",
        "\t\t\tidx +=1\n",
        "\n",
        "\t\treturn matrix.tolist()\n",
        "\t\t\n",
        "\tdef sparseMatrixVectorProduct(self,vect):\n",
        "\t\t'''\n",
        "\t\tCalculates the product between the sparse matrix and a vector\n",
        "\t\tParameters:\n",
        "\t\t- vect: vector\n",
        "\t\tOutput:\n",
        "\t\t- prod: matrix-vector product\n",
        "\t\t'''\n",
        "\t\tn= len(vect)\n",
        "\t\t\n",
        "\t\tprod= []\n",
        "\t\tfor i in range(0,n):                                                        # follow the algorithm for the product explained above\n",
        "\t\t\tprod.append(0)\n",
        "\t\t\tfor j in range(self.row_ptr[i],self.row_ptr[i+1]):\n",
        "\t\t\t\tprod[i] += self.values[j]*vect[self.col_idx[j]]\n",
        "        \n",
        "\t\tn= len(self.row_ptr)-len(prod)-1;                                           # add the number of zeros \n",
        "\t\tfor i in range(0,n):\n",
        "\t\t\tprod.append(0)\n",
        "\t\t \n",
        "\t\treturn prod\t\t\n"
      ],
      "execution_count": 0,
      "outputs": []
    },
    {
      "metadata": {
        "id": "SsQLT38gVbn_",
        "colab_type": "text"
      },
      "cell_type": "markdown",
      "source": [
        "# **Results**"
      ]
    },
    {
      "metadata": {
        "id": "RLwlnOzuV-Cd",
        "colab_type": "text"
      },
      "cell_type": "markdown",
      "source": [
        "In this section, we can see the results of the algorithms explained in the previous paragraph in order to verify wether these algorithms work properly or not. It is obviously impossible to test the algorithms with *all* the possible inputs but here we offer just some examples in order to have a general view for  each algorithm."
      ]
    },
    {
      "metadata": {
        "id": "ZDR74HCSA6GT",
        "colab_type": "text"
      },
      "cell_type": "markdown",
      "source": [
        "##Inner product\n",
        "Below there are the results for the inner product between vectors."
      ]
    },
    {
      "metadata": {
        "id": "zaunvM4eBNL2",
        "colab_type": "code",
        "colab": {
          "base_uri": "https://localhost:8080/",
          "height": 34
        },
        "outputId": "8b54f316-5d13-4931-fd13-8ae7229e1326"
      },
      "cell_type": "code",
      "source": [
        "assert innerProduct([1,2],[2,2]) == 6\n",
        "assert innerProduct([-1,1,2],[1,1,5]) == 10\n",
        "assert innerProduct([1,1,1,1,1,1,1],[1,2,3,4,5,6,7]) == 28\n",
        "\n",
        "\n",
        "# linearity\n",
        "vectA= [1,2]\n",
        "vectB= [3,4]\n",
        "vectC= [5,6]\n",
        "alpha= 3\n",
        "beta= -1\n",
        "\n",
        "vectAB= [alpha*vectA[i]+beta*vectB[i] for i in range(0,2)]\n",
        "assert innerProduct(vectAB,vectC) == (alpha*innerProduct(vectA,vectC)+beta*innerProduct(vectB,vectC))\n",
        "\n",
        "# simmetry\n",
        "assert innerProduct([5,-10],[2,3]) == innerProduct([2,3],[5,-10])\n",
        "\n",
        "# non negative\n",
        "assert innerProduct([2,5],[2,5]) == 29\n",
        "\n",
        "print('All the assertion have been completed successfully!')"
      ],
      "execution_count": 7,
      "outputs": [
        {
          "output_type": "stream",
          "text": [
            "All the assertion have been completed successfully!\n"
          ],
          "name": "stdout"
        }
      ]
    },
    {
      "metadata": {
        "id": "3MbqUD32D-gB",
        "colab_type": "text"
      },
      "cell_type": "markdown",
      "source": [
        "As we can see, the implementation for the inner product respects all the properties which definy the inner product.\n",
        "\n",
        "##Matrix-vector product\n",
        "Below there are the results for the product between a $n\\times m$ matrix and a $m\\times 1$ vector."
      ]
    },
    {
      "metadata": {
        "id": "UabsPb8iEnWm",
        "colab_type": "code",
        "colab": {
          "base_uri": "https://localhost:8080/",
          "height": 34
        },
        "outputId": "63aa8fa5-59a8-4c01-9518-4789a2bef189"
      },
      "cell_type": "code",
      "source": [
        "matrix= [[1,2],\n",
        "         [3,4]]\n",
        "\n",
        "vect= [1,2]\n",
        "\n",
        "assert matrixVectorProduct(matrix,vect) == [5,11]\n",
        "\n",
        "matrix= [[10, 12, -3, 8, 9],\n",
        "         [ 1, -8,  0, 0, 1],\n",
        "         [ 2, -1, 10, 5, 0]]\n",
        "\n",
        "vect= [1, -2, 3, -4, 5]\n",
        "\n",
        "assert matrixVectorProduct(matrix,vect) == [-10,22,14]\n",
        "\n",
        "matrix= [[-1,  0,  0],\n",
        "         [ 2, -2,  0],\n",
        "         [10,  0,  0],\n",
        "         [ 0, -1, -1],\n",
        "         [99,-65, 12],\n",
        "         [ 3, -5, -8]]\n",
        "\n",
        "vect= [0, -1, 0.5]\n",
        "\n",
        "assert matrixVectorProduct(matrix,vect) == [0, 2, 0, 0.5, 71, 1]\n",
        "print('All the assertion have been completed successfully!')"
      ],
      "execution_count": 8,
      "outputs": [
        {
          "output_type": "stream",
          "text": [
            "All the assertion have been completed successfully!\n"
          ],
          "name": "stdout"
        }
      ]
    },
    {
      "metadata": {
        "id": "Yczp6Ov9FQSh",
        "colab_type": "text"
      },
      "cell_type": "markdown",
      "source": [
        "##Matrix-matrix product\n",
        "Below there are the results for the product between a $n\\times m$ matrix and a $m\\times o$ matrix."
      ]
    },
    {
      "metadata": {
        "id": "0EAuTt5KFmPZ",
        "colab_type": "code",
        "colab": {
          "base_uri": "https://localhost:8080/",
          "height": 34
        },
        "outputId": "c6a1437c-adf3-4a9a-f514-a5c4820ca351"
      },
      "cell_type": "code",
      "source": [
        "matrixA= [[ 1,  1,  0, -1],\n",
        "          [ 2, -3,  1,  2],\n",
        "          [-2,  4,  2,  6]]\n",
        "\n",
        "matrixB= [[ 0,  3],\n",
        "          [-2, -1],\n",
        "          [ 4,  5],\n",
        "          [-1, -4]]\n",
        "\n",
        "matrixC= [[-1,   6],\n",
        "          [ 8,   6],\n",
        "          [-6, -24]]\n",
        "\n",
        "assert matrixMatrixProduct(matrixA,matrixB) == matrixC\n",
        "\n",
        "mat_A= [[1, 0],\n",
        "\t\t    [0, 1],\n",
        "\t\t    [1, 1]]\n",
        "\n",
        "mat_B= [[1, 1, 0],\n",
        "\t\t    [0, 1, 1]]\n",
        "\n",
        "mat_C= [[1, 1, 0],\n",
        "        [0, 1, 1],\n",
        "        [1, 2, 1]]\n",
        "\n",
        "assert matrixMatrixProduct(mat_A,mat_B) == mat_C\n",
        "\n",
        "mat_A= [[-1,  0,  0],\n",
        "        [ 2, -2,  0],\n",
        "        [10,  0,  0],\n",
        "        [ 0, -1, -1],\n",
        "        [99,-65, 12],\n",
        "        [ 3, -5, -8]]\n",
        "\n",
        "mat_B= [[-1,  2, -3],\n",
        "        [ 2, -4,  5],\n",
        "        [-3,  5, -6]]\n",
        "\n",
        "mat_C= [[   1,  -2,    3],\n",
        "        [  -6,  12,  -16],\n",
        "        [ -10,  20,  -30],\n",
        "        [   1,  -1,    1],\n",
        "        [-265, 518, -694],\n",
        "        [  11, -14,   14]]\n",
        "\n",
        "assert matrixMatrixProduct(mat_A,mat_B) == mat_C\n",
        "\n",
        "print('All the assertion have been completed successfully!')"
      ],
      "execution_count": 9,
      "outputs": [
        {
          "output_type": "stream",
          "text": [
            "All the assertion have been completed successfully!\n"
          ],
          "name": "stdout"
        }
      ]
    },
    {
      "metadata": {
        "id": "r8yThFyOF4gz",
        "colab_type": "text"
      },
      "cell_type": "markdown",
      "source": [
        "##Extra assignment\n",
        "Below there are the results of the tests on the class ```CRS``` defined above.\n",
        "\n"
      ]
    },
    {
      "metadata": {
        "id": "8WPWVXP-GKpD",
        "colab_type": "code",
        "colab": {
          "base_uri": "https://localhost:8080/",
          "height": 294
        },
        "outputId": "0c7231d5-333a-43f2-ff98-1cf14d38b1d9"
      },
      "cell_type": "code",
      "source": [
        "print('--------------TESTING THE CRS CLASS------------')\n",
        "values= [3, 2, 2, 2, 1, 1, 3, 2, 1, 2, 3]\n",
        "col_idx= [1, 2, 4, 2, 3, 3, 3, 4, 5, 5, 6, -1]\n",
        "row_ptr= [1, 4, 6, 7, 9, 10, 12]\n",
        "\n",
        "matrix= [[3,     2,     0,     2,     0,     0],\n",
        "         [0,     2,     1,     0,     0,     0],\n",
        "         [0,     0,     1,     0,     0,     0],\n",
        "         [0,     0,     3,     2,     0,     0],\n",
        "         [0,     0,     0,     0,     1,     0],\n",
        "         [0,     0,     0,     0,     2,     3]]\n",
        "\n",
        "x= CRS(values,col_idx,row_ptr,False)\n",
        "\n",
        "print('x.values= ', x.values)\n",
        "print('x.col_idx= ', x.col_idx)\n",
        "print('x.row_ptr= ', x.row_ptr)\n",
        "\n",
        "assert x.sparseToDense() == matrix\n",
        "\n",
        "print('  ------------------------------------------- ')\n",
        "matrix= [[0, 0, 0, 0],\n",
        "\t\t     [0, 0, 0, 0],\n",
        "\t\t     [0, 0, 1, 0],\n",
        "\t\t     [0, 0, 0, 0]]\n",
        "\t\t \n",
        "print(matrix)\n",
        "\n",
        "x= CRS.denseToSparse(matrix)\n",
        "print('x.values= ', x.values)\n",
        "print('x.col_idx= ', x.col_idx)\n",
        "print('x.row_ptr= ', x.row_ptr)\n",
        "print(x.sparseToDense())\n",
        "\n",
        "print()\n",
        "print('----MATRIX-VECTOR PRODUCT WITH SPARSE MATRIX----')\n",
        "values= [3, 2, 2, 2, 1, 1, 3, 2, 1, 2, 3]\n",
        "col_idx= [1, 2, 4, 2, 3, 3, 3, 4, 5, 5, 6, -1]\n",
        "row_ptr= [1, 4, 6, 7, 9, 10, 12]\n",
        "x= CRS(values,col_idx,row_ptr,False)\n",
        "\n",
        "matrix= [[3,     2,     0,     2,     0,     0],\n",
        "         [0,     2,     1,     0,     0,     0],\n",
        "         [0,     0,     1,     0,     0,     0],\n",
        "         [0,     0,     3,     2,     0,     0],\n",
        "         [0,     0,     0,     0,     1,     0],\n",
        "         [0,     0,     0,     0,     2,     3]]\n",
        "\n",
        "vect= [1, -1, 0, 5, 6, -2]\n",
        "\n",
        "assert x.sparseMatrixVectorProduct(vect) == matrixVectorProduct(matrix,vect)\n",
        "\n",
        "matrix= [[ 0, 12, 5, -9, 0],\n",
        "         [ 0,  0, 0,  0, 0],\n",
        "         [ 0,  0, 0,  0, 1],\n",
        "         [-1,  2, 0,  0, 0],\n",
        "         [ 0,  0, 1,  0, 0],\n",
        "         [ 0,  0, 0,  0, 0]]\n",
        "x= CRS.denseToSparse(matrix)\n",
        "print('x.values= ', x.values)\n",
        "print('x.col_idx= ', x.col_idx)\n",
        "print('x.row_ptr= ', x.row_ptr)\n",
        "\n",
        "vect= [5, -2, 3, 0, 1]\n",
        "assert x.sparseMatrixVectorProduct(vect) == matrixVectorProduct(matrix,vect)\n",
        "print('All the assertion have been completed successfully!')"
      ],
      "execution_count": 10,
      "outputs": [
        {
          "output_type": "stream",
          "text": [
            "--------------TESTING THE CRS CLASS------------\n",
            "x.values=  [3, 2, 2, 2, 1, 1, 3, 2, 1, 2, 3]\n",
            "x.col_idx=  [0, 1, 3, 1, 2, 2, 2, 3, 4, 4, 5, -1]\n",
            "x.row_ptr=  [0, 3, 5, 6, 8, 9, 11]\n",
            "  ------------------------------------------- \n",
            "[[0, 0, 0, 0], [0, 0, 0, 0], [0, 0, 1, 0], [0, 0, 0, 0]]\n",
            "x.values=  [1]\n",
            "x.col_idx=  [2, -2]\n",
            "x.row_ptr=  [0, 0, 0, 1, 1]\n",
            "[[0.0, 0.0, 0.0, 0.0], [0.0, 0.0, 0.0, 0.0], [0.0, 0.0, 1.0, 0.0], [0.0, 0.0, 0.0, 0.0]]\n",
            "\n",
            "----MATRIX-VECTOR PRODUCT WITH SPARSE MATRIX----\n",
            "x.values=  [12, 5, -9, 1, -1, 2, 1]\n",
            "x.col_idx=  [1, 2, 3, 4, 0, 1, 2, -1]\n",
            "x.row_ptr=  [0, 3, 3, 4, 6, 7, 7]\n",
            "All the assertion have been completed successfully!\n"
          ],
          "name": "stdout"
        }
      ]
    },
    {
      "metadata": {
        "id": "_4GLBv0zWr7m",
        "colab_type": "text"
      },
      "cell_type": "markdown",
      "source": [
        "#Discussion"
      ]
    },
    {
      "metadata": {
        "id": "6bcsDSoRXHZe",
        "colab_type": "text"
      },
      "cell_type": "markdown",
      "source": [
        "As shown in the Results section, all the algorithms have given the expected results, without any errors. This means that these functions and classes can be used for solving more complex problems without defining every time specific functions for each specific problem, since the function presented here can be used in all the cases."
      ]
    },
    {
      "metadata": {
        "id": "1vcIILuQYsEA",
        "colab_type": "text"
      },
      "cell_type": "markdown",
      "source": [
        "#References\n"
      ]
    },
    {
      "metadata": {
        "id": "NlJ-Y9KAYt4Z",
        "colab_type": "text"
      },
      "cell_type": "markdown",
      "source": [
        "[1] from Lecture Notes, *Vector spaces*, *chapter 1*, pg. 7\n",
        "\n",
        "[2] from Lecture Notes, *Inner product*, *chapter 1*, pg. 9\n",
        "\n",
        "[3] from Lecture Notes, *The $l_p-$norms*, *chapter 1*, pg. 10\n",
        "\n",
        "[4] from Lecture Notes, *The matrix-vector product*, *chapter 2*, pg. 18\n",
        "\n",
        "[5] from Lecture Notes, *Matrix-matrix product*, *chapter 2*, pg. 19\n",
        "\n",
        "[6] from Wikipedia, *[Sparse Matrix](https://en.wikipedia.org/wiki/Sparse_matrix)*\n",
        "\n",
        "[7] from Lecture Notes, *Sparse matrix data structures*, *chapter 3*, pg. 34"
      ]
    }
  ]
}