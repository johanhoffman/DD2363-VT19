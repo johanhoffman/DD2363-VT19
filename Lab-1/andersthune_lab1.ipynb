{
 "cells": [
  {
   "cell_type": "markdown",
   "metadata": {
    "ein.tags": "worksheet-0",
    "slideshow": {
     "slide_type": "-"
    }
   },
   "source": [
    "**Note:** This notebook is written in Julia, so the cells can't be executed in Google Colab"
   ]
  },
  {
   "cell_type": "markdown",
   "metadata": {
    "colab_type": "text",
    "ein.tags": "worksheet-0",
    "id": "6RgtXlfYO_i7",
    "slideshow": {
     "slide_type": "-"
    }
   },
   "source": [
    "# **Lab 1: Matrix Algorithms**\n",
    "**Anders Ågren Thuné**"
   ]
  },
  {
   "cell_type": "markdown",
   "metadata": {
    "colab_type": "text",
    "ein.tags": "worksheet-0",
    "id": "9x_J5FVuPzbm",
    "slideshow": {
     "slide_type": "-"
    }
   },
   "source": [
    "# **Abstract**"
   ]
  },
  {
   "cell_type": "markdown",
   "metadata": {
    "colab_type": "text",
    "ein.tags": "worksheet-0",
    "id": "6UFTSzW7P8kL",
    "slideshow": {
     "slide_type": "-"
    }
   },
   "source": [
    "Short summary of the lab report. State the objectives, methods used, main results and conlusions."
   ]
  },
  {
   "cell_type": "markdown",
   "metadata": {
    "ein.tags": "worksheet-0",
    "slideshow": {
     "slide_type": "-"
    }
   },
   "source": [
    "This report presents how a number of fundamental matrix and vector operations were\n",
    "implemented in the Julia programming language. In addition to the standard inner\n",
    "product, matrix-vector product and matrix-matrix product, a CRS sparse matrix\n",
    "structure was implemented along with a sparse matrix-vector product. The operations\n",
    "were implemented according to mathematical descriptions and pseudo-code algorithms,\n",
    "and verified using test data to ensure their correctness. All tests succeeded without\n",
    "any significant surprises."
   ]
  },
  {
   "cell_type": "markdown",
   "metadata": {
    "colab_type": "text",
    "ein.tags": "worksheet-0",
    "id": "OkT8J7uOWpT3",
    "slideshow": {
     "slide_type": "-"
    }
   },
   "source": [
    "# **About the code**"
   ]
  },
  {
   "cell_type": "markdown",
   "metadata": {
    "colab_type": "text",
    "ein.tags": "worksheet-0",
    "id": "HmB2noTr1Oyo",
    "slideshow": {
     "slide_type": "-"
    }
   },
   "source": [
    "A short statement on who is the author of the file, and if the code is distributed under a certain license."
   ]
  },
  {
   "cell_type": "code",
   "execution_count": 14,
   "metadata": {
    "autoscroll": false,
    "colab": {
     "base_uri": "https://localhost:8080/",
     "height": 34
    },
    "colab_type": "code",
    "collapsed": false,
    "ein.hycell": false,
    "ein.tags": "worksheet-0",
    "id": "Pdll1Xc9WP0e",
    "outputId": "1e1de3c9-fbe5-46c9-c3de-2986013df3c9",
    "slideshow": {
     "slide_type": "-"
    }
   },
   "outputs": [
    {
     "data": {
      "text/plain": [
       "'KTH Royal Institute of Technology, Stockholm, Sweden.'"
      ]
     },
     "execution_count": 14,
     "metadata": {},
     "output_type": "execute_result"
    }
   ],
   "source": [
    "\"\"\"DD2363 Methods in Scientific Computing, \"\"\"\n",
    "\"\"\"KTH Royal Institute of Technology, Stockholm, Sweden.\"\"\"\n",
    "\n",
    "# Copyright (C) 2019\n",
    "# Anders Ågren Thuné (athune@kth.se)\n",
    "# Johan Hoffman (jhoffman@kth.se)\n",
    "\n",
    "# Code written by Anders Ågren Thuné based on the template by Johan Hoffman.\n",
    "\n",
    "# This file is part of the course DD2363 Methods in Scientific Computing\n",
    "# KTH Royal Institute of Technology, Stockholm, Sweden\n",
    "#\n",
    "# This is free software: you can redistribute it and/or modify\n",
    "# it under the terms of the GNU Lesser General Public License as published by\n",
    "# the Free Software Foundation, either version 3 of the License, or\n",
    "# (at your option) any later version."
   ]
  },
  {
   "cell_type": "markdown",
   "metadata": {
    "colab_type": "text",
    "ein.tags": "worksheet-0",
    "id": "28xLGz8JX3Hh",
    "slideshow": {
     "slide_type": "-"
    }
   },
   "source": [
    "# **Set up environment**"
   ]
  },
  {
   "cell_type": "markdown",
   "metadata": {
    "colab_type": "text",
    "ein.tags": "worksheet-0",
    "id": "D2PYNusD08Wa",
    "slideshow": {
     "slide_type": "-"
    }
   },
   "source": [
    "To have access to the neccessary modules you have to run this cell. If you need additional modules, this is where you add them."
   ]
  },
  {
   "cell_type": "code",
   "execution_count": 33,
   "metadata": {
    "autoscroll": false,
    "colab": null,
    "colab_type": "code",
    "collapsed": false,
    "ein.hycell": false,
    "ein.tags": "worksheet-0",
    "id": "Xw7VlErAX7NS",
    "slideshow": {
     "slide_type": "-"
    }
   },
   "outputs": [],
   "source": [
    "# Load neccessary modules.\n",
    "\n",
    "# No modules necessary for this lab."
   ]
  },
  {
   "cell_type": "markdown",
   "metadata": {
    "colab_type": "text",
    "ein.tags": "worksheet-0",
    "id": "gnO3lhAigLev",
    "slideshow": {
     "slide_type": "-"
    }
   },
   "source": [
    "# **Introduction**"
   ]
  },
  {
   "cell_type": "markdown",
   "metadata": {
    "colab_type": "text",
    "ein.tags": "worksheet-0",
    "id": "l5zMzgPlRAF6",
    "slideshow": {
     "slide_type": "-"
    }
   },
   "source": [
    "Matrix algorithms are central to many methods in scientific computing. Even basic\n",
    "concepts such as matrix multiplication are rich enough to develop a wide range of\n",
    "algorithmic skills. Additionally, structural properties in different classes of\n",
    "matrices can often be utilized to derive more efficient methods (Golub, Van Loan, 2013).\n",
    "\n",
    "In this report, three basic matrix and vector operations are implemented, namely:\n",
    " - The inner product induced by the Euclidean $l_2$-norm in $\\mathbb{R}^n$\n",
    " - Matrix-vector multiplication\n",
    " - Matrix-matrix multiplication\n",
    "\n",
    "Additionally, a Compressed Row Storage (CRS) sparse matrix data structure\n",
    "and a function for matrix-vector multiplication using it are implemented.\n",
    "\n",
    "The implementations are based on the lecture notes *Introduction to Scientific\n",
    "Computing* (Hoffman, 2018), which both provide concise explanations and pseudo-code\n",
    "pseudo-code algorithms to many of the central concepts. The programming language used\n",
    "is Julia, as it's fast, has native support for vector and matrix types and a syntax\n",
    "that lends itself to mathematical expressions."
   ]
  },
  {
   "cell_type": "markdown",
   "metadata": {
    "colab_type": "text",
    "ein.tags": "worksheet-0",
    "id": "WeFO9QMeUOAu",
    "slideshow": {
     "slide_type": "-"
    }
   },
   "source": [
    "# **Methods**"
   ]
  },
  {
   "cell_type": "markdown",
   "metadata": {
    "colab_type": "text",
    "ein.tags": "worksheet-0",
    "id": "zF4iBj5VURZx",
    "slideshow": {
     "slide_type": "-"
    }
   },
   "source": [
    "Describe the methods you used to solve the problem. This may be a combination of text, mathematical formulas (Latex), algorithms (code), data and output."
   ]
  },
  {
   "cell_type": "markdown",
   "metadata": {
    "ein.tags": "worksheet-0",
    "slideshow": {
     "slide_type": "-"
    }
   },
   "source": [
    "Given a norm $\\left\\lVert \\cdot\\right\\rVert$, the induced inner product is defined by\n",
    "$\\left\\lVert x\\right\\rVert = (x,x)^{1/2}$ (Chapter 1.1).\n",
    "The $l_2$-norm is defined by $\\left\\lVert x\\right\\rVert_2 = {\\displaystyle \\Big(\\sum_{i=1}^{n}x_i^2\\Big)^{1/2}}$,\n",
    "giving the induced inner product $(x,y) = {\\displaystyle \\Big(\\sum_{i=1}^{n}x_i\\cdoty_i\\Big)^{1/2}}$\n",
    "Using this, we can define the following function in Julia:"
   ]
  },
  {
   "cell_type": "code",
   "execution_count": null,
   "metadata": {
    "autoscroll": false,
    "collapsed": false,
    "ein.hycell": false,
    "ein.tags": "worksheet-0",
    "slideshow": {
     "slide_type": "-"
    }
   },
   "outputs": [],
   "source": [
    "\"\"\"\n",
    "Calculate the inner product (dot product) of vectors x and y.\n",
    "\"\"\"\n",
    "innerprod(x::Vector, y::Vector) = sum(x[i]*y[i] for i in 1:length(x))"
   ]
  },
  {
   "cell_type": "markdown",
   "metadata": {
    "ein.tags": "worksheet-0",
    "slideshow": {
     "slide_type": "-"
    }
   },
   "source": [
    "The matrix-vector and matrix-matrix products"
   ]
  },
  {
   "cell_type": "code",
   "execution_count": null,
   "metadata": {
    "autoscroll": false,
    "collapsed": false,
    "ein.hycell": false,
    "ein.tags": "worksheet-0",
    "slideshow": {
     "slide_type": "-"
    }
   },
   "outputs": [
    {
     "data": {
      "text/plain": [
       "matmatprod"
      ]
     },
     "execution_count": 26,
     "metadata": {},
     "output_type": "execute_result"
    }
   ],
   "source": [
    "\"\"\"\n",
    "Calculate the matrix-vector product of matrix A and vector y.\n",
    "\"\"\"\n",
    "matvecprod(A::Matrix, x::Vector) = sum(A[:,i]*x[i] for i in 1:length(x))\n",
    "\"\"\"\n",
    "Calculate the matrix-matrix product of matrices A and B.\n",
    "\"\"\"\n",
    "matmatprod(A::Matrix, B::Matrix) = [innerprod(A[i,:],B[:,j]) for i in 1:size(A)[1], j in 1:size(B)[2]]"
   ]
  },
  {
   "cell_type": "code",
   "execution_count": 1,
   "metadata": {
    "autoscroll": false,
    "collapsed": false,
    "ein.hycell": false,
    "ein.tags": "worksheet-0",
    "slideshow": {
     "slide_type": "-"
    }
   },
   "outputs": [
    {
     "data": {
      "text/plain": [
       "spmatvecmul"
      ]
     },
     "execution_count": 1,
     "metadata": {},
     "output_type": "execute_result"
    }
   ],
   "source": [
    "\"\"\"\n",
    "A data structure to store sparse matrices in CRS format\n",
    "\"\"\"\n",
    "struct SpMat\n",
    "    val::Vector\n",
    "    col_idx::Array{Integer}\n",
    "    row_ptr::Array{Integer}\n",
    "end\n",
    "\n",
    "\"\"\"\n",
    "Calculate the matrix-vector product of sparse matrix A and vector x\n",
    "\"\"\"\n",
    "function spmatvecmul(A::SpMat, x::Vector)\n",
    "    n = length(A.row_ptr)-1\n",
    "    b = zeros(n)\n",
    "    for i = 1:n\n",
    "        for j = A.row_ptr[i]:A.row_ptr[i+1]-1\n",
    "            b[i]+=A.val[j]*x[A.col_idx[j]]\n",
    "        end\n",
    "    end\n",
    "    b\n",
    "end"
   ]
  },
  {
   "cell_type": "markdown",
   "metadata": {
    "colab_type": "text",
    "ein.tags": "worksheet-0",
    "id": "SsQLT38gVbn_",
    "slideshow": {
     "slide_type": "-"
    }
   },
   "source": [
    "# **Results**"
   ]
  },
  {
   "cell_type": "markdown",
   "metadata": {
    "colab_type": "text",
    "ein.tags": "worksheet-0",
    "id": "RLwlnOzuV-Cd",
    "slideshow": {
     "slide_type": "-"
    }
   },
   "source": [
    "Present the results. If the result is an algorithm that you have described under the *Methods* section, you can present the data from verification and performance tests in this section. If the result is the output from a computational experiment this is where you present a selection of that data."
   ]
  },
  {
   "cell_type": "code",
   "execution_count": 27,
   "metadata": {
    "autoscroll": false,
    "collapsed": false,
    "ein.hycell": false,
    "ein.tags": "worksheet-0",
    "slideshow": {
     "slide_type": "-"
    }
   },
   "outputs": [
    {
     "data": {
      "text/plain": [
       "2"
      ]
     },
     "execution_count": 27,
     "metadata": {},
     "output_type": "execute_result"
    }
   ],
   "source": [
    "x = [1,1,2]\n",
    "y = [3,1,-1]\n",
    "innerprod(x,y)"
   ]
  },
  {
   "cell_type": "code",
   "execution_count": 28,
   "metadata": {
    "autoscroll": false,
    "collapsed": false,
    "ein.hycell": false,
    "ein.tags": "worksheet-0",
    "slideshow": {
     "slide_type": "-"
    }
   },
   "outputs": [
    {
     "data": {
      "text/plain": [
       "3-element Array{Int64,1}:\n",
       "  1\n",
       " -2\n",
       "  1"
      ]
     },
     "execution_count": 28,
     "metadata": {},
     "output_type": "execute_result"
    }
   ],
   "source": [
    "A = [1 0 0;\n",
    "     0 0 -1;\n",
    "     0 1 0]\n",
    "x = [1,1,2]\n",
    "matvecprod(A,x)"
   ]
  },
  {
   "cell_type": "code",
   "execution_count": 29,
   "metadata": {
    "autoscroll": false,
    "collapsed": false,
    "ein.hycell": false,
    "ein.tags": "worksheet-0",
    "slideshow": {
     "slide_type": "-"
    }
   },
   "outputs": [
    {
     "data": {
      "text/plain": [
       "3×3 Array{Float64,2}:\n",
       " 1.0  0.0           0.0        \n",
       " 0.0  1.0          -2.77556e-16\n",
       " 0.0  2.77556e-16   1.0        "
      ]
     },
     "execution_count": 29,
     "metadata": {},
     "output_type": "execute_result"
    }
   ],
   "source": [
    "A = [1 0 0;\n",
    "     0 cos(pi/4) sin(pi/4);\n",
    "     0 -sin(pi/4) cos(pi/4)]\n",
    "B = [1 0 0;\n",
    "     0 cos(7pi/4) sin(7pi/4);\n",
    "     0 -sin(7pi/4) cos(7pi/4)]\n",
    "matmatprod(A,B)"
   ]
  },
  {
   "cell_type": "code",
   "execution_count": 2,
   "metadata": {
    "autoscroll": false,
    "collapsed": false,
    "ein.hycell": false,
    "ein.tags": "worksheet-0",
    "slideshow": {
     "slide_type": "-"
    }
   },
   "outputs": [
    {
     "name": "stdout",
     "output_type": "stream",
     "text": [
      "A.val: "
     ]
    },
    {
     "name": "stdout",
     "output_type": "stream",
     "text": [
      "[3, 2, 2, 1, 2, 2, 1, 3, 2, 4, 4, 1, 2, 3]\n",
      "A.col_idx: "
     ]
    },
    {
     "name": "stdout",
     "output_type": "stream",
     "text": [
      "Integer[1, 2, 2, 3, 6, 2, 3, 3, 4, 5, 2, 5, 5, 6]\n",
      "A.row_ptr: Integer[1, 3, 6, 8, 11, 13, 15]\n"
     ]
    }
   ],
   "source": [
    "A = SpMat([3,2,2,1,2,2,1,3,2,4,4,1,2,3],\n",
    "          [1,2,2,3,6,2,3,3,4,5,2,5,5,6],\n",
    "          [1,3,6,8,11,13,15])\n",
    "println(\"A.val: \", A.val)\n",
    "println(\"A.col_idx: \", A.col_idx)\n",
    "println(\"A.row_ptr: \", A.row_ptr)"
   ]
  },
  {
   "cell_type": "code",
   "execution_count": 3,
   "metadata": {
    "autoscroll": false,
    "collapsed": false,
    "ein.hycell": false,
    "ein.tags": "worksheet-0",
    "slideshow": {
     "slide_type": "-"
    }
   },
   "outputs": [
    {
     "data": {
      "text/plain": [
       "6-element Array{Float64,1}:\n",
       "  0.0\n",
       "  1.0\n",
       "  0.0\n",
       " -2.0\n",
       " -1.0\n",
       " -0.5"
      ]
     },
     "execution_count": 3,
     "metadata": {},
     "output_type": "execute_result"
    }
   ],
   "source": [
    "x = [0,0,0,1,-1,0.5]\n",
    "spmatvecmul(A,x)"
   ]
  },
  {
   "cell_type": "markdown",
   "metadata": {
    "colab_type": "text",
    "ein.tags": "worksheet-0",
    "id": "_4GLBv0zWr7m",
    "slideshow": {
     "slide_type": "-"
    }
   },
   "source": [
    "# **Discussion**"
   ]
  },
  {
   "cell_type": "markdown",
   "metadata": {
    "colab_type": "text",
    "ein.tags": "worksheet-0",
    "id": "6bcsDSoRXHZe",
    "slideshow": {
     "slide_type": "-"
    }
   },
   "source": [
    "The results show that the algorithms work correctly as far as the test data indicates,\n",
    "which was to be expected considering that they are directly derived from well\n",
    "established mathematical definitions."
   ]
  },
  {
   "cell_type": "markdown",
   "metadata": {
    "ein.tags": "worksheet-0",
    "slideshow": {
     "slide_type": "-"
    }
   },
   "source": [
    "# **References**"
   ]
  },
  {
   "cell_type": "markdown",
   "metadata": {
    "ein.tags": "worksheet-0",
    "slideshow": {
     "slide_type": "-"
    }
   },
   "source": [
    "- Hoffman, J. 2018. *Introduction to Scientific Computing*\n",
    "- Golub, Gene H. and Van Loan, Charles F. 2013. *Matrix Computations*. 4th ed. Baltimore: John Hopkins University Press."
   ]
  }
 ],
 "metadata": {
  "colab": {
   "include_colab_link": true,
   "name": "template-report-lab-X.ipynb",
   "provenance": null,
   "version": "0.3.2"
  },
  "kernelspec": {
   "display_name": "Julia 1.0.3",
   "name": "julia-1.0"
  },
  "name": "andersthune_lab1.ipynb"
 },
 "nbformat": 4,
 "nbformat_minor": 0
}
