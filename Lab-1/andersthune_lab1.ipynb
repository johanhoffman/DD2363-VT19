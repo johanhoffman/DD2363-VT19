{
 "cells": [
  {
   "cell_type": "markdown",
   "metadata": {
    "colab_type": "text",
    "ein.tags": "worksheet-0",
    "id": "6RgtXlfYO_i7",
    "slideshow": {
     "slide_type": "-"
    }
   },
   "source": [
    "# **Lab 1: Matrix Algorithms**\n",
    "**Anders Ågren Thuné**"
   ]
  },
  {
   "cell_type": "markdown",
   "metadata": {
    "colab_type": "text",
    "ein.tags": "worksheet-0",
    "id": "9x_J5FVuPzbm",
    "slideshow": {
     "slide_type": "-"
    }
   },
   "source": [
    "# **Abstract**"
   ]
  },
  {
   "cell_type": "markdown",
   "metadata": {
    "ein.tags": "worksheet-0",
    "slideshow": {
     "slide_type": "-"
    }
   },
   "source": [
    "This report presents how a number of fundamental matrix and vector operations were\n",
    "implemented in the Python programming language. In addition to the standard inner\n",
    "product, matrix-vector product and matrix-matrix product, a CRS sparse matrix\n",
    "structure was implemented along with a sparse matrix-vector product. The operations\n",
    "were implemented according to mathematical descriptions and pseudo-code algorithms,\n",
    "and verified using test data to ensure their correctness. All tests succeeded without\n",
    "any significant surprises."
   ]
  },
  {
   "cell_type": "markdown",
   "metadata": {
    "colab_type": "text",
    "ein.tags": "worksheet-0",
    "id": "OkT8J7uOWpT3",
    "slideshow": {
     "slide_type": "-"
    }
   },
   "source": [
    "# **About the code**"
   ]
  },
  {
   "cell_type": "code",
   "execution_count": 1,
   "metadata": {
    "autoscroll": false,
    "colab": {
     "base_uri": "https://localhost:8080/",
     "height": 34
    },
    "colab_type": "code",
    "collapsed": false,
    "ein.hycell": false,
    "ein.tags": "worksheet-0",
    "id": "Pdll1Xc9WP0e",
    "outputId": "1e1de3c9-fbe5-46c9-c3de-2986013df3c9",
    "slideshow": {
     "slide_type": "-"
    }
   },
   "outputs": [
    {
     "data": {
      "text/plain": [
       "'KTH Royal Institute of Technology, Stockholm, Sweden.'"
      ]
     },
     "execution_count": 1,
     "metadata": {},
     "output_type": "execute_result"
    }
   ],
   "source": [
    "\"\"\"DD2363 Methods in Scientific Computing, \"\"\"\n",
    "\"\"\"KTH Royal Institute of Technology, Stockholm, Sweden.\"\"\"\n",
    "\n",
    "# Copyright (C) 2019\n",
    "# Anders Ågren Thuné (athune@kth.se)\n",
    "# Johan Hoffman (jhoffman@kth.se)\n",
    "\n",
    "# Code written by Anders Ågren Thuné based on the template by Johan Hoffman.\n",
    "\n",
    "# This file is part of the course DD2363 Methods in Scientific Computing\n",
    "# KTH Royal Institute of Technology, Stockholm, Sweden\n",
    "#\n",
    "# This is free software: you can redistribute it and/or modify\n",
    "# it under the terms of the GNU Lesser General Public License as published by\n",
    "# the Free Software Foundation, either version 3 of the License, or\n",
    "# (at your option) any later version."
   ]
  },
  {
   "cell_type": "markdown",
   "metadata": {
    "colab_type": "text",
    "ein.tags": "worksheet-0",
    "id": "28xLGz8JX3Hh",
    "slideshow": {
     "slide_type": "-"
    }
   },
   "source": [
    "# **Set up environment**"
   ]
  },
  {
   "cell_type": "code",
   "execution_count": 2,
   "metadata": {
    "autoscroll": false,
    "colab": null,
    "colab_type": "code",
    "collapsed": false,
    "ein.hycell": false,
    "ein.tags": "worksheet-0",
    "id": "Xw7VlErAX7NS",
    "slideshow": {
     "slide_type": "-"
    }
   },
   "outputs": [],
   "source": [
    "# Load neccessary modules.\n",
    "\n",
    "import numpy as np\n",
    "from numpy import random\n",
    "from math import sin, cos, pi"
   ]
  },
  {
   "cell_type": "markdown",
   "metadata": {
    "colab_type": "text",
    "ein.tags": "worksheet-0",
    "id": "gnO3lhAigLev",
    "slideshow": {
     "slide_type": "-"
    }
   },
   "source": [
    "# **Introduction**"
   ]
  },
  {
   "cell_type": "markdown",
   "metadata": {
    "colab_type": "text",
    "ein.tags": "worksheet-0",
    "id": "l5zMzgPlRAF6",
    "slideshow": {
     "slide_type": "-"
    }
   },
   "source": [
    "Matrix algorithms are central to many methods in scientific computing. Even basic\n",
    "concepts such as matrix multiplication are rich enough to develop a wide range of\n",
    "algorithmic skills. Additionally, structural properties in different classes of\n",
    "matrices can often be utilized to derive more efficient methods\n",
    "(Golub and Van Loan, 2013).\n",
    "\n",
    "In this report, a number of basic matrix and vector operations are implemented.\n",
    "The implementations are based on the lecture notes *Introduction to Scientific\n",
    "Computing* (Hoffman, 2018), which both provide concise explanations and pseudo-code\n",
    "algorithms to many of the central concepts. The programming language used\n",
    "is Python, which has good support for vector and matrix types and a syntax\n",
    "that lends itself to mathematical expressions. The following three standard\n",
    "(dense) matrix operations are implemented based on the following definitions\n",
    "(as described in Chapter 1.1, 2.1 and 2.1 of the lecture notes, respectively):\n",
    "- The inner product $(\\cdot,\\cdot)$ induced by the Euclidean $l_2$-norm in\n",
    "$\\mathbb{R}^n$, defined as $(x,y) = {\\displaystyle \\sum_{i=1}^{n}x_iy_i}$\n",
    "- Matrix-vector multiplication $Ax = b$, defined as\n",
    "$Ax={\\displaystyle\\sum_{j=1}^{n}x_ja_j}$, where $a_j$ is the $j$th column of $a$.\n",
    "- Matrix-matrix multiplication $B = AC$, defined by\n",
    "$b_{ij}= {\\displaystyle \\sum_{k=1}^{m}a_{ik}c_{kj}}$.\n",
    "\n",
    "In addition, a Compressed Row Storage (CRS) sparse matrix data structure\n",
    "and a function for matrix-vector multiplication using it are implemented.\n",
    "In this format, three arrays are used: $val$, storing the nonzero values\n",
    "of the matrix, $col\\_idx$, storing the indices of these values, and $row\\_ptr$,\n",
    "storing which indices in the other two arrays correspond to a new row in the\n",
    "matrix. The matrix-vector multiplication $Ax$ is then performed by iterating over\n",
    "the $row\\_ptr$ indices, multiplying and summing the nonzero values pointed to\n",
    "by $col\\_idx$ with the values of $x$ as described in Chapter 3.2 of the lecture notes."
   ]
  },
  {
   "cell_type": "markdown",
   "metadata": {
    "colab_type": "text",
    "ein.tags": "worksheet-0",
    "id": "WeFO9QMeUOAu",
    "slideshow": {
     "slide_type": "-"
    }
   },
   "source": [
    "# **Methods**"
   ]
  },
  {
   "cell_type": "markdown",
   "metadata": {
    "ein.tags": "worksheet-0",
    "slideshow": {
     "slide_type": "-"
    }
   },
   "source": [
    "The approach I took when writing the implementations was to try to translate the\n",
    "mathematical definitions as directly as possible. Using the function sum, the\n",
    "inner product can be defined in the following way:"
   ]
  },
  {
   "cell_type": "code",
   "execution_count": 3,
   "metadata": {
    "autoscroll": false,
    "collapsed": false,
    "ein.hycell": false,
    "ein.tags": "worksheet-0",
    "slideshow": {
     "slide_type": "-"
    }
   },
   "outputs": [],
   "source": [
    "def innerprod(x, y):\n",
    "    \"\"\"\n",
    "    Calculate the inner product (dot product) of vectors x and y.\n",
    "    \"\"\"\n",
    "    return sum(x[i]*y[i] for i in range(len(x)))"
   ]
  },
  {
   "cell_type": "markdown",
   "metadata": {
    "ein.tags": "worksheet-0",
    "slideshow": {
     "slide_type": "-"
    }
   },
   "source": [
    "The matrix-vector and matrix-matrix products can be calculated in different ways,\n",
    "depending on whether the iteration should be performed row-wise or column-wise first,\n",
    "which Golub and Van Loan (2013) describe in-depth. However, I base my implementations\n",
    "on the definitions given in the introduction.\n",
    "\n",
    "Using Python's indexing syntax, $a_j$ can be written as `A[:,j]`, which can be\n",
    "combined with the function sum for a definition of the matrix-vector product\n",
    "faithful to the original one:"
   ]
  },
  {
   "cell_type": "code",
   "execution_count": 4,
   "metadata": {
    "autoscroll": false,
    "collapsed": false,
    "ein.hycell": false,
    "ein.tags": "worksheet-0",
    "slideshow": {
     "slide_type": "-"
    }
   },
   "outputs": [],
   "source": [
    "def matvecprod(A, x):\n",
    "    \"\"\"\n",
    "    Calculate the matrix-vector product of matrix A and vector y.\n",
    "    \"\"\"\n",
    "    return sum(A[:,j]*x[j] for j in range(len(x)))"
   ]
  },
  {
   "cell_type": "markdown",
   "metadata": {
    "ein.tags": "worksheet-0",
    "slideshow": {
     "slide_type": "-"
    }
   },
   "source": [
    "For the matrix-matrix product, we can observe that\n",
    "${\\displaystyle \\sum_{k=1}^{m}a_{ik}c_{kj}} = (a^T_i,c_j)$\n",
    "(where $a^T_i$ denotes the $i$th row of $A$). Reusing the inner\n",
    "product function along with Python's list comprehension syntax, we get the following\n",
    "definition:"
   ]
  },
  {
   "cell_type": "code",
   "execution_count": 5,
   "metadata": {
    "autoscroll": false,
    "collapsed": false,
    "ein.hycell": false,
    "ein.tags": "worksheet-0",
    "slideshow": {
     "slide_type": "-"
    }
   },
   "outputs": [],
   "source": [
    "def matmatprod(A, B):\n",
    "    \"\"\"\n",
    "    Calculate the matrix-matrix product of matrices A and B.\n",
    "    \"\"\"\n",
    "    return np.array([[innerprod(A[i,:],B[:,j]) for j in range(A.shape[0])] for i in range(B.shape[1])])"
   ]
  },
  {
   "cell_type": "markdown",
   "metadata": {
    "ein.tags": "worksheet-0",
    "slideshow": {
     "slide_type": "-"
    }
   },
   "source": [
    "Finally, a CRS sparse matrix class was implemented. In addition to the three arrays\n",
    "described in the introduction, the shape of the matrix is also stored, as the\n",
    "original format does not necessarily convey the number of columns in the matrix.\n",
    "A method performing matrix-vector multiplication belonging to the class was\n",
    "implemented using Algorithm 1 of Chapter 3.2."
   ]
  },
  {
   "cell_type": "code",
   "execution_count": 6,
   "metadata": {
    "autoscroll": false,
    "collapsed": false,
    "ein.hycell": false,
    "ein.tags": "worksheet-0",
    "slideshow": {
     "slide_type": "-"
    }
   },
   "outputs": [],
   "source": [
    "class SpMat:\n",
    "    \"\"\"\n",
    "    A data structure to store sparse matrices in CRS format\n",
    "    \"\"\"\n",
    "    def __init__(self, val, col_idx, row_ptr, shape):\n",
    "        self.val = val\n",
    "        self.col_idx = col_idx\n",
    "        self.row_ptr = row_ptr\n",
    "        self.shape = shape\n",
    "\n",
    "    def spmatvecmul(self, x):\n",
    "        \"\"\"\n",
    "        Calculate the matrix-vector product of sparse matrix self and vector x\n",
    "        \"\"\"\n",
    "        n = self.shape[0]\n",
    "        b = np.zeros(n)\n",
    "        for i in range(n):\n",
    "            for j in range(self.row_ptr[i],self.row_ptr[i+1]):\n",
    "                b[i]+=self.val[j]*x[self.col_idx[j]]\n",
    "        return b"
   ]
  },
  {
   "cell_type": "markdown",
   "metadata": {
    "colab_type": "text",
    "ein.tags": "worksheet-0",
    "id": "SsQLT38gVbn_",
    "slideshow": {
     "slide_type": "-"
    }
   },
   "source": [
    "# **Results**"
   ]
  },
  {
   "cell_type": "markdown",
   "metadata": {
    "colab_type": "text",
    "ein.tags": "worksheet-0",
    "id": "RLwlnOzuV-Cd",
    "slideshow": {
     "slide_type": "-"
    }
   },
   "source": [
    "The following cells present tests verifying the correctness of the functions written\n",
    "in the section above. First, a test using data verified by hand is performed,\n",
    "then the function is compared to the corresponding function in NumPy on a large set\n",
    "of random data."
   ]
  },
  {
   "cell_type": "markdown",
   "metadata": {
    "ein.tags": "worksheet-0",
    "slideshow": {
     "slide_type": "-"
    }
   },
   "source": [
    "**Inner product**"
   ]
  },
  {
   "cell_type": "markdown",
   "metadata": {
    "ein.tags": "worksheet-0",
    "slideshow": {
     "slide_type": "-"
    }
   },
   "source": [
    "First, I perform a test using vectors $x = (1,1,2)^T$ and $y=(3,1,-1)^T$. According\n",
    "to the formula, the result should be $1\\cdot 3 + 1 \\cdot 2 + 2\\cdot -1 = 2$."
   ]
  },
  {
   "cell_type": "code",
   "execution_count": 7,
   "metadata": {
    "autoscroll": false,
    "collapsed": false,
    "ein.hycell": false,
    "ein.tags": "worksheet-0",
    "slideshow": {
     "slide_type": "-"
    }
   },
   "outputs": [
    {
     "data": {
      "text/plain": [
       "2"
      ]
     },
     "execution_count": 7,
     "metadata": {},
     "output_type": "execute_result"
    }
   ],
   "source": [
    "x = np.array([1,1,2])\n",
    "y = np.array([3,1,-1])\n",
    "innerprod(x,y)"
   ]
  },
  {
   "cell_type": "markdown",
   "metadata": {
    "ein.tags": "worksheet-0",
    "slideshow": {
     "slide_type": "-"
    }
   },
   "source": [
    "The following code tests the function using random data generated by the function\n",
    "`np.random.rand`. The loop compares the result of 1000 function calls, treating the\n",
    "result of innerprod as correct if it is within $10^{-6}$ of the result of `np.vdot`."
   ]
  },
  {
   "cell_type": "code",
   "execution_count": 8,
   "metadata": {
    "autoscroll": false,
    "collapsed": false,
    "ein.hycell": false,
    "ein.tags": "worksheet-0",
    "slideshow": {
     "slide_type": "-"
    }
   },
   "outputs": [
    {
     "name": "stdout",
     "output_type": "stream",
     "text": [
      "1000 / 1000 correct\n"
     ]
    }
   ],
   "source": [
    "correct = 0\n",
    "for i in range(1000):\n",
    "    length = random.randint(100)\n",
    "    x = random.rand(length)\n",
    "    y = random.rand(length)\n",
    "    correct += (abs(np.vdot(x,y)-innerprod(x,y)) < 1e-6)\n",
    "\n",
    "print(correct, \"/ 1000 correct\")"
   ]
  },
  {
   "cell_type": "markdown",
   "metadata": {
    "ein.tags": "worksheet-0",
    "slideshow": {
     "slide_type": "-"
    }
   },
   "source": [
    "**Matrix-vector product**"
   ]
  },
  {
   "cell_type": "markdown",
   "metadata": {
    "ein.tags": "worksheet-0",
    "slideshow": {
     "slide_type": "-"
    }
   },
   "source": [
    "I first perform the following test, where the matrix $A$ is a permutation matrix which\n",
    "also flips the sign of the second component. Therefore, the output when multiplying\n",
    "with the vector $x = (1, 1, 2)^T$ should be $(1, -2, 1)^T$."
   ]
  },
  {
   "cell_type": "code",
   "execution_count": 9,
   "metadata": {
    "autoscroll": false,
    "collapsed": false,
    "ein.hycell": false,
    "ein.tags": "worksheet-0",
    "slideshow": {
     "slide_type": "-"
    }
   },
   "outputs": [
    {
     "data": {
      "text/plain": [
       "array([ 1, -2,  1])"
      ]
     },
     "execution_count": 9,
     "metadata": {},
     "output_type": "execute_result"
    }
   ],
   "source": [
    "A = np.array([[1, 0, 0],\n",
    "              [0, 0, -1],\n",
    "              [0, 1, 0]])\n",
    "x = np.array([1,1,2])\n",
    "matvecprod(A,x)"
   ]
  },
  {
   "cell_type": "markdown",
   "metadata": {
    "ein.tags": "worksheet-0",
    "slideshow": {
     "slide_type": "-"
    }
   },
   "source": [
    "The following code performs 1000 random tests in the same way as above, using\n",
    "`np.linalg.norm` to measure the distance between the two solutions."
   ]
  },
  {
   "cell_type": "code",
   "execution_count": 10,
   "metadata": {
    "autoscroll": false,
    "collapsed": false,
    "ein.hycell": false,
    "ein.tags": "worksheet-0",
    "slideshow": {
     "slide_type": "-"
    }
   },
   "outputs": [
    {
     "name": "stdout",
     "output_type": "stream",
     "text": [
      "1000 / 1000 correct\n"
     ]
    }
   ],
   "source": [
    "correct = 0\n",
    "for i in range(1000):\n",
    "    length = random.randint(100)\n",
    "    x = random.rand(length)\n",
    "    A = random.rand(random.randint(100), length)\n",
    "    correct += (np.linalg.norm(np.matmul(A,x)-matvecprod(A,x)) < 1e-6)\n",
    "\n",
    "print(correct, \"/ 1000 correct\")"
   ]
  },
  {
   "cell_type": "markdown",
   "metadata": {
    "ein.tags": "worksheet-0",
    "slideshow": {
     "slide_type": "-"
    }
   },
   "source": [
    "**Matrix-matrix product**"
   ]
  },
  {
   "cell_type": "markdown",
   "metadata": {
    "ein.tags": "worksheet-0",
    "slideshow": {
     "slide_type": "-"
    }
   },
   "source": [
    "Here, I use two matrices representing rotations in the x-y-plane. A is a clockwise\n",
    "planar rotation of $\\pi/4$, and B is a clockwise planar rotation of $7\\pi/4$. As\n",
    "they make a full $2\\pi$ together, the result when multiplying them should be the\n",
    "identity."
   ]
  },
  {
   "cell_type": "code",
   "execution_count": 11,
   "metadata": {
    "autoscroll": false,
    "collapsed": false,
    "ein.hycell": false,
    "ein.tags": "worksheet-0",
    "slideshow": {
     "slide_type": "-"
    }
   },
   "outputs": [
    {
     "data": {
      "text/plain": [
       "array([[ 1.00000000e+00,  0.00000000e+00,  0.00000000e+00],\n       [ 0.00000000e+00,  1.00000000e+00, -2.22044605e-16],\n       [ 0.00000000e+00,  2.22044605e-16,  1.00000000e+00]])"
      ]
     },
     "execution_count": 11,
     "metadata": {},
     "output_type": "execute_result"
    }
   ],
   "source": [
    "A = np.array([[1, 0, 0],\n",
    "              [0, cos(pi/4), sin(pi/4)],\n",
    "              [0, -sin(pi/4), cos(pi/4)]])\n",
    "B = np.array([[1, 0, 0],\n",
    "              [0, cos(7*pi/4), sin(7*pi/4)],\n",
    "              [0, -sin(7*pi/4), cos(7*pi/4)]])\n",
    "matmatprod(A,B)"
   ]
  },
  {
   "cell_type": "markdown",
   "metadata": {
    "ein.tags": "worksheet-0",
    "slideshow": {
     "slide_type": "-"
    }
   },
   "source": [
    "Again, the same kind of random tests are performed."
   ]
  },
  {
   "cell_type": "code",
   "execution_count": 12,
   "metadata": {
    "autoscroll": false,
    "collapsed": false,
    "ein.hycell": false,
    "ein.tags": "worksheet-0",
    "slideshow": {
     "slide_type": "-"
    }
   },
   "outputs": [
    {
     "name": "stdout",
     "output_type": "stream",
     "text": [
      "1000 / 1000 correct\n"
     ]
    }
   ],
   "source": [
    "correct = 0\n",
    "for i in range(1000):\n",
    "    rows= random.randint(30)\n",
    "    cols= random.randint(30)\n",
    "    A = random.rand(rows, cols)\n",
    "    B = random.rand(cols, rows)\n",
    "    correct += (np.linalg.norm(np.matmul(A,B)-matmatprod(A,B)) < 1e-6)\n",
    "\n",
    "print(correct, \"/ 1000 correct\")"
   ]
  },
  {
   "cell_type": "markdown",
   "metadata": {
    "ein.tags": "worksheet-0",
    "slideshow": {
     "slide_type": "-"
    }
   },
   "source": [
    "**Sparse matrices**"
   ]
  },
  {
   "cell_type": "markdown",
   "metadata": {
    "ein.tags": "worksheet-0",
    "slideshow": {
     "slide_type": "-"
    }
   },
   "source": [
    "To verify that the sparse matrix class works correctly, the example matrix\n",
    "from the lecture notes is constructed, and its attributes printed."
   ]
  },
  {
   "cell_type": "code",
   "execution_count": 13,
   "metadata": {
    "autoscroll": false,
    "collapsed": false,
    "ein.hycell": false,
    "ein.tags": "worksheet-0",
    "slideshow": {
     "slide_type": "-"
    }
   },
   "outputs": [
    {
     "name": "stdout",
     "output_type": "stream",
     "text": [
      "A.val:  [3, 2, 2, 2, 1, 1, 3, 2, 1, 2, 3]\n",
      "A.col_idx:  [0, 1, 3, 1, 2, 2, 2, 3, 4, 4, 5]\n",
      "A.row_ptr:  [0, 3, 5, 6, 8, 9, 11]\n",
      "A.shape:  (6, 6)\n"
     ]
    }
   ],
   "source": [
    "A = SpMat([3,2,2,2,1,1,3,2,1,2,3],\n",
    "          [0,1,3,1,2,2,2,3,4,4,5],\n",
    "          [0,3,5,6,8,9,11],\n",
    "          (6,6))\n",
    "print(\"A.val: \", A.val)\n",
    "print(\"A.col_idx: \", A.col_idx)\n",
    "print(\"A.row_ptr: \", A.row_ptr)\n",
    "print(\"A.shape: \", A.shape)"
   ]
  },
  {
   "cell_type": "markdown",
   "metadata": {
    "ein.tags": "worksheet-0",
    "slideshow": {
     "slide_type": "-"
    }
   },
   "source": [
    "To verify the matrix-vector multiplication method, the same matrix $A$\n",
    "is multiplied with the vector $x = (0,0,0,1,-1,0.5)^T$, which according\n",
    "to calculations by hand should give the output $(2, 0, 0, 2, -1, -0.5)^T$"
   ]
  },
  {
   "cell_type": "code",
   "execution_count": 14,
   "metadata": {
    "autoscroll": false,
    "collapsed": false,
    "ein.hycell": false,
    "ein.tags": "worksheet-0",
    "slideshow": {
     "slide_type": "-"
    }
   },
   "outputs": [
    {
     "data": {
      "text/plain": [
       "array([ 2. ,  0. ,  0. ,  2. , -1. , -0.5])"
      ]
     },
     "execution_count": 14,
     "metadata": {},
     "output_type": "execute_result"
    }
   ],
   "source": [
    "x = [0,0,0,1,-1,0.5]\n",
    "A.spmatvecmul(x)"
   ]
  },
  {
   "cell_type": "markdown",
   "metadata": {
    "ein.tags": "worksheet-0",
    "slideshow": {
     "slide_type": "-"
    }
   },
   "source": [
    "No random tests are performed for this method, as generating random sparse matrices\n",
    "and converting them into the CRS format proved to be nontrivial."
   ]
  },
  {
   "cell_type": "markdown",
   "metadata": {
    "colab_type": "text",
    "ein.tags": "worksheet-0",
    "id": "_4GLBv0zWr7m",
    "slideshow": {
     "slide_type": "-"
    }
   },
   "source": [
    "# **Discussion**"
   ]
  },
  {
   "cell_type": "markdown",
   "metadata": {
    "colab_type": "text",
    "ein.tags": "worksheet-0",
    "id": "6bcsDSoRXHZe",
    "slideshow": {
     "slide_type": "-"
    }
   },
   "source": [
    "The results show that the algorithms work correctly as far as the test data indicates,\n",
    "which was to be expected considering that they are directly derived from well\n",
    "established mathematical definitions."
   ]
  },
  {
   "cell_type": "markdown",
   "metadata": {
    "ein.tags": "worksheet-0",
    "slideshow": {
     "slide_type": "-"
    }
   },
   "source": [
    "# **References**"
   ]
  },
  {
   "cell_type": "markdown",
   "metadata": {
    "ein.tags": "worksheet-0",
    "slideshow": {
     "slide_type": "-"
    }
   },
   "source": [
    "- Hoffman, J. 2018. *Introduction to Scientific Computing*\n",
    "- Golub, Gene H. and Van Loan, Charles F. 2013. *Matrix Computations*. 4th ed. Baltimore: John Hopkins University Press."
   ]
  }
 ],
 "metadata": {
  "colab": {
   "include_colab_link": true,
   "name": "template-report-lab-X.ipynb",
   "provenance": null,
   "version": "0.3.2"
  },
  "kernelspec": {
   "display_name": "Python 3",
   "name": "python3"
  },
  "name": "andersthune_lab1.ipynb"
 },
 "nbformat": 4,
 "nbformat_minor": 0
}
