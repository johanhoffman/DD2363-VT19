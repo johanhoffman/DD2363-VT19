{
  "nbformat": 4,
  "nbformat_minor": 0,
  "metadata": {
    "colab": {
      "name": "jledeus-lab1.ipynb",
      "version": "0.3.2",
      "provenance": [],
      "collapsed_sections": [],
      "include_colab_link": true
    },
    "kernelspec": {
      "name": "python3",
      "display_name": "Python 3"
    }
  },
  "cells": [
    {
      "cell_type": "markdown",
      "metadata": {
        "id": "view-in-github",
        "colab_type": "text"
      },
      "source": [
        "<a href=\"https://colab.research.google.com/github/johanhoffman/DD2363-VT19/blob/jledeus/jledeus_lab1.ipynb\" target=\"_parent\"><img src=\"https://colab.research.google.com/assets/colab-badge.svg\" alt=\"Open In Colab\"/></a>"
      ]
    },
    {
      "metadata": {
        "id": "6RgtXlfYO_i7",
        "colab_type": "text"
      },
      "cell_type": "markdown",
      "source": [
        "# **Lab 1: Matrix algorithms**\n",
        "**Johan Ledéus**"
      ]
    },
    {
      "metadata": {
        "id": "9x_J5FVuPzbm",
        "colab_type": "text"
      },
      "cell_type": "markdown",
      "source": [
        "# **Abstract**"
      ]
    },
    {
      "metadata": {
        "id": "6UFTSzW7P8kL",
        "colab_type": "text"
      },
      "cell_type": "markdown",
      "source": [
        "This is the report and implementation of lab-1. The lab report is on purpose brief and kept short."
      ]
    },
    {
      "metadata": {
        "id": "OkT8J7uOWpT3",
        "colab_type": "text"
      },
      "cell_type": "markdown",
      "source": [
        "#**About the code**"
      ]
    },
    {
      "metadata": {
        "id": "HmB2noTr1Oyo",
        "colab_type": "text"
      },
      "cell_type": "markdown",
      "source": [
        "Homework for DD2363 Methods in Scientific Computing\n"
      ]
    },
    {
      "metadata": {
        "id": "gnO3lhAigLev",
        "colab_type": "text"
      },
      "cell_type": "markdown",
      "source": [
        "# **Mandatory assignments**"
      ]
    },
    {
      "metadata": {
        "id": "NN-457m7p_Hi",
        "colab_type": "text"
      },
      "cell_type": "markdown",
      "source": [
        "#### 1. Function: inner product\n",
        "\n",
        "#####Input: vectors x, y\n",
        "#####Output: inner product (x, y)\n",
        "#####Test: formulate test cases to verify accuracy. "
      ]
    },
    {
      "metadata": {
        "id": "wjRcQrAMvgde",
        "colab_type": "text"
      },
      "cell_type": "markdown",
      "source": [
        "The basic math behind the euclidean inner product follows** (1.5) **in the course literature.\n",
        "\n",
        "$(x,y) = x  \\cdot  y = x_1y_1 + \\dots + x_ny_n $\n",
        "\n",
        "If the input sizes or format vary it will return Invalid input."
      ]
    },
    {
      "metadata": {
        "id": "EX5qOILfqhwb",
        "colab_type": "code",
        "colab": {}
      },
      "cell_type": "code",
      "source": [
        "def inner_product(X,Y):\n",
        "    try:\n",
        "        if len(X) != len(Y):\n",
        "            return \"Invalid input\"\n",
        "        return sum(map((lambda x,y: x*y), X,Y))\n",
        "    except:\n",
        "        return \"Invalid input\""
      ],
      "execution_count": 0,
      "outputs": []
    },
    {
      "metadata": {
        "id": "fFY_WH_9xK1d",
        "colab_type": "code",
        "colab": {
          "base_uri": "https://localhost:8080/",
          "height": 35
        },
        "outputId": "fd82eb9b-abec-4395-d64e-b63945188d1a"
      },
      "cell_type": "code",
      "source": [
        "# Test Cases\n",
        "assert inner_product([1,2,3],[1,1,1]) == 6, print(\"error\")\n",
        "assert inner_product([1,2,3,4],[1,2,3]) == \"Invalid input\", print(\"error\")\n",
        "print(\"Pass\")"
      ],
      "execution_count": 179,
      "outputs": [
        {
          "output_type": "stream",
          "text": [
            "Pass\n"
          ],
          "name": "stdout"
        }
      ]
    },
    {
      "metadata": {
        "id": "qm6HMauWF2ku",
        "colab_type": "text"
      },
      "cell_type": "markdown",
      "source": [
        "#####2. Function: matrix-vector product\n",
        "\n",
        "#####Input: vector x, matrix A\n",
        "#####Output: matrix-vector product Ax\n",
        "#####Test: formulate test cases to verify accuracy."
      ]
    },
    {
      "metadata": {
        "id": "lDix06I8ysq2",
        "colab_type": "text"
      },
      "cell_type": "markdown",
      "source": [
        "After the matrix-vector product the vector $b = (b_i)$ is \n",
        "defined as:\n",
        "$b = Ax = \\sum_{i=1}^{n} x_ia_i$ or definition (2.3) and (2.4) in the course literature."
      ]
    },
    {
      "metadata": {
        "id": "_tiMmXnJGJe3",
        "colab_type": "code",
        "colab": {}
      },
      "cell_type": "code",
      "source": [
        "def matrix_vector_product(x,A):\n",
        "    try:\n",
        "        res = []\n",
        "        for row in A:\n",
        "            if len(row) == len(x):\n",
        "                res.append(sum(map((lambda x,y: x*y), row,x)))\n",
        "            else:\n",
        "                return \"Invalid input\"\n",
        "        return res\n",
        "    except:\n",
        "        return \"Invalid input\""
      ],
      "execution_count": 0,
      "outputs": []
    },
    {
      "metadata": {
        "id": "-Z2T2OZs0L3t",
        "colab_type": "code",
        "colab": {
          "base_uri": "https://localhost:8080/",
          "height": 35
        },
        "outputId": "3a8d2d03-8ed1-4d9a-deb5-00928ecd0db6"
      },
      "cell_type": "code",
      "source": [
        "# Test cases\n",
        "\n",
        "\n",
        "sparse = [[3, 2, 0, 2, 0, 0], [0, 2, 1, 0, 0, 0], [0, 0, 1, 0, 0, 0], \n",
        "      [0, 0, 3, 2, 0, 0], [0, 0, 0, 0, 1, 0], [0, 0, 0, 0, 2, 3]]\n",
        "x = [1,2,3,4,5,6]\n",
        "\n",
        "assert matrix_vector_product(x,sparse) == [15,7,3,17,5,28], print(\"error\")\n",
        "assert matrix_vector_product([-2,1,0], [[1,2,3],[4,5,6],[7,8,9],[10,11,12]]) == [0,-3,-6,-9], print(\"error\")\n",
        "assert matrix_vector_product([2,1,0], [[1,-1,2],[0,-3,1]]) == [1,-3], print(\"error\")\n",
        "assert matrix_vector_product([-2,1,0], [[1,2,3],[4,5,6],[7,8,9,10],[10,11,12]]) == \"Invalid input\", print(\"error\")\n",
        "print(\"Pass\")"
      ],
      "execution_count": 181,
      "outputs": [
        {
          "output_type": "stream",
          "text": [
            "Pass\n"
          ],
          "name": "stdout"
        }
      ]
    },
    {
      "metadata": {
        "id": "pRLY2QK3Gz27",
        "colab_type": "text"
      },
      "cell_type": "markdown",
      "source": [
        "#####3. Function: matrix-matrix product\n",
        "\n",
        "######Input: matrices A, B\n",
        "######Output: matrix-matrix product AB\n",
        "######Test: formulate test cases to verify accuracy."
      ]
    },
    {
      "metadata": {
        "id": "OWj0CbLL24Mp",
        "colab_type": "text"
      },
      "cell_type": "markdown",
      "source": [
        "As stated in chapter 2 the matrix-matrix product is defined as (2.6):\n",
        "\n",
        "$$b_{ij} = \\sum_{k=1}^ma_{ik}c_{kj}$$"
      ]
    },
    {
      "metadata": {
        "id": "1fxsN-5JHB1n",
        "colab_type": "code",
        "colab": {}
      },
      "cell_type": "code",
      "source": [
        "def matrix_matrix_product(A,B):\n",
        "    try:\n",
        "        # Check that all rows of B are equal\n",
        "        dim = len(B[0])\n",
        "        for d in B:\n",
        "            if len(d) != dim:\n",
        "                return \"Invalid input\"\n",
        "\n",
        "        res = []\n",
        "        for row in A:\n",
        "\n",
        "            if len(row) != len(B):\n",
        "                return \"Invalid input\"\n",
        "\n",
        "            row_values = []\n",
        "            for j in range(len(B[0])): # for each row in B\n",
        "                value = 0\n",
        "                for k in range(len(B)): # for each column in B\n",
        "                    value += row[k]*B[k][j]\n",
        "                row_values.append(value)\n",
        "            res.append(row_values)\n",
        "        return res\n",
        "    except:\n",
        "        return \"Invalid input\""
      ],
      "execution_count": 0,
      "outputs": []
    },
    {
      "metadata": {
        "id": "qqBp5gNL3409",
        "colab_type": "code",
        "colab": {
          "base_uri": "https://localhost:8080/",
          "height": 35
        },
        "outputId": "42b895b9-af16-48f0-f45a-bd0f529cce34"
      },
      "cell_type": "code",
      "source": [
        "# Test cases\n",
        "assert matrix_matrix_product([[1,2],[3,4],[5,6]], [[1,2,3],[4,5,6]]) == [[9,12,15],[19,26,33],[29,40,51]], print(\"error\")\n",
        "assert matrix_matrix_product([[1,2,3],[4,5,6]], [[1,2],[3,4],[5,6]]) == [[22,28],[49,64]], print(\"error\")\n",
        "assert matrix_matrix_product([[1,2,3],[4,5,6,7]], [[1,2],[3,4],[5,6]]) == \"Invalid input\", print(\"error\")\n",
        "print(\"Pass\")\n"
      ],
      "execution_count": 183,
      "outputs": [
        {
          "output_type": "stream",
          "text": [
            "Pass\n"
          ],
          "name": "stdout"
        }
      ]
    },
    {
      "metadata": {
        "id": "_wrRRRsgHPvl",
        "colab_type": "text"
      },
      "cell_type": "markdown",
      "source": [
        "# Extra assignment"
      ]
    },
    {
      "metadata": {
        "id": "SceF4cJVHXg_",
        "colab_type": "text"
      },
      "cell_type": "markdown",
      "source": [
        "#####4. Class: mxn sparse matrix\n",
        "\n",
        "#####Input: CRS arrays val, col_idx, row_ptr\n",
        "#####Output: sparse matrix object\n",
        "#####Test: verify by printing class attributes."
      ]
    },
    {
      "metadata": {
        "id": "NCBluV5gV2cg",
        "colab_type": "text"
      },
      "cell_type": "markdown",
      "source": [
        "The Sparse Matrix class assumes that** index starts at one** (same as the litterature and matlab). It is important to state this, otherwise we don't know where the colum id's start at. The sparse_matrix function returns a dense matrix with the given data."
      ]
    },
    {
      "metadata": {
        "id": "8tSlebX-Hi5v",
        "colab_type": "code",
        "colab": {}
      },
      "cell_type": "code",
      "source": [
        "# Assumes same format as course litterature (index starts at 1)\n",
        "class Sparse_Matrix:\n",
        "    def __init__(self, val, col_idx, row_ptr, m = False, n = False):\n",
        "        self.val = val\n",
        "        self.col_idx = col_idx\n",
        "        self.row_ptr = row_ptr\n",
        "       \n",
        "        # if number of rows not provided\n",
        "        self.m = len(row_ptr) - 1 if m == False else int(m)\n",
        "        # if number of columns not provided\n",
        "        self.n = max(col_idx) if n == False else int(n)\n",
        "      \n",
        "    # returns a dense matrix from sparse\n",
        "    def sparse_matrix(self):\n",
        "        res = [[0 for _ in range(self.n)] for _ in range(self.m)]  # Initial matrix with 0\n",
        "        for i in range(len(self.row_ptr)-1):\n",
        "            for j in range(self.row_ptr[i]-1,self.row_ptr[i+1]-1):\n",
        "              res[i][self.col_idx[j]-1] = self.val[j]\n",
        "        return res\n",
        "\n",
        "    def __str__(self):\n",
        "        matrix = self.sparse_matrix()\n",
        "        res = \"\"\n",
        "        for row in matrix:\n",
        "            temp = \"\"\n",
        "            for col in row:\n",
        "                temp += \" \" + str(col)\n",
        "            res += temp.strip() + \"\\n\"\n",
        "        return res"
      ],
      "execution_count": 0,
      "outputs": []
    },
    {
      "metadata": {
        "id": "zcBA-av86JPz",
        "colab_type": "code",
        "colab": {
          "base_uri": "https://localhost:8080/",
          "height": 35
        },
        "outputId": "9b5dc25a-f059-44cb-e25b-d2d746286647"
      },
      "cell_type": "code",
      "source": [
        "# Test cases\n",
        "val = [3, 2, 2, 2, 1, 1, 3, 2, 1, 2, 3]\n",
        "col_idx = [1, 2, 4, 2, 3, 3, 3, 4, 5, 5, 6]\n",
        "row_ptr = [1, 4, 6, 7, 9, 10, 12]\n",
        "sparse = [[3, 2, 0, 2, 0, 0], [0, 2, 1, 0, 0, 0], [0, 0, 1, 0, 0, 0], \n",
        "      [0, 0, 3, 2, 0, 0], [0, 0, 0, 0, 1, 0], [0, 0, 0, 0, 2, 3]]\n",
        "a = Sparse_Matrix(val,col_idx,row_ptr)\n",
        "assert a.val == val, print(\"error\")\n",
        "assert a.col_idx == col_idx, print(\"error\")\n",
        "assert a.row_ptr == row_ptr, print(\"error\")\n",
        "assert a.sparse_matrix() == sparse, print(\"error\")\n",
        "#print(a)\n",
        "\n",
        "val = [5,8,3,6]\n",
        "col_idx = [1,2,3,2]\n",
        "row_ptr = [1,1,3,4,5,5]\n",
        "sparse2 = [[0,0,0,0],[5,8,0,0],[0,0,3,0],[0,6,0,0]]\n",
        "b = Sparse_Matrix(val,col_idx,row_ptr,4,4)\n",
        "\n",
        "assert b.val == val, print(\"error\")\n",
        "assert b.col_idx == col_idx, print(\"error\")\n",
        "assert b.row_ptr == row_ptr, print(\"error\")\n",
        "assert b.sparse_matrix() == sparse2, print(\"error\")\n",
        "\n",
        "val = [10, 20, 30, 40, 50, 60, 70, 80]\n",
        "col_idx = [1, 2, 2, 4, 3, 4, 5, 6]   \n",
        "row_ptr = [1, 3, 5, 8, 9]\n",
        "sparse3 = [[10,20,0,0,0,0],[0,30,0,40,0,0],[0,0,50,60,70,0],[0,0,0,0,0,80]]\n",
        "c = Sparse_Matrix(val,col_idx,row_ptr,False)\n",
        "assert c.val == val, print(\"error\")\n",
        "assert c.col_idx == col_idx, print(\"error\")\n",
        "assert c.row_ptr == row_ptr, print(\"error\")\n",
        "assert c.sparse_matrix() == sparse3, print(\"error\")\n",
        "\n",
        "print(\"Pass\")"
      ],
      "execution_count": 185,
      "outputs": [
        {
          "output_type": "stream",
          "text": [
            "Pass\n"
          ],
          "name": "stdout"
        }
      ]
    },
    {
      "metadata": {
        "id": "NgoP7GxOrMLw",
        "colab_type": "text"
      },
      "cell_type": "markdown",
      "source": [
        "#####5. Function: sparse matrix-vector product\n",
        "\n",
        "#####Input: vector x, sparse matrix A\n",
        "#####Output: matrix-vector product Ax\n",
        "#####Test: verify accuracy against dense matrix-vector product."
      ]
    },
    {
      "metadata": {
        "id": "G6lcX7xjCNJG",
        "colab_type": "text"
      },
      "cell_type": "markdown",
      "source": [
        "This implementation follows the pseudocode in section 3.3. For each row summarize the x vector with column value and the value at the corresponding index."
      ]
    },
    {
      "metadata": {
        "id": "CglAXUF1rVlj",
        "colab_type": "code",
        "colab": {}
      },
      "cell_type": "code",
      "source": [
        "def sparse_matrix_vector_product(x, A):\n",
        "    res = [0 for _ in range(A.m)]\n",
        "    for i in range(A.m):\n",
        "        for j in range(A.row_ptr[i]-1,A.row_ptr[i+1]-1):\n",
        "            res[i] += A.val[j]*x[A.col_idx[j]-1]\n",
        "    return res"
      ],
      "execution_count": 0,
      "outputs": []
    },
    {
      "metadata": {
        "id": "Za_3LUGaCft9",
        "colab_type": "code",
        "colab": {
          "base_uri": "https://localhost:8080/",
          "height": 35
        },
        "outputId": "d49a5725-47be-4ba6-e4dd-7c75841b502c"
      },
      "cell_type": "code",
      "source": [
        "# Test cases against dense matrix-vector product, a,b,c are acquired from section above.\n",
        "x = [1,2,3,4,5,6]\n",
        "y = [-1,1,2,-2]\n",
        "assert sparse_matrix_vector_product(x,a) == matrix_vector_product(x,sparse), print(\"error\")\n",
        "assert sparse_matrix_vector_product(y,b) == matrix_vector_product(y,sparse2), print(\"error\")\n",
        "assert sparse_matrix_vector_product(x,c) == matrix_vector_product(x,sparse3), print(\"error\")\n",
        "print(\"Pass\")"
      ],
      "execution_count": 187,
      "outputs": [
        {
          "output_type": "stream",
          "text": [
            "Pass\n"
          ],
          "name": "stdout"
        }
      ]
    },
    {
      "metadata": {
        "id": "VRpI7C8Fb-Hf",
        "colab_type": "text"
      },
      "cell_type": "markdown",
      "source": [
        "# Discussion\n",
        "\n",
        "The implementation of lab-1 don't use numpy or other libraries that might improve the performance. The most interesting  section of this lab is to compare the implementation of matrix vector product with a sparse/dense matrix. There is a significant improvement in terms of time complexity with the sparse matrix with CRS."
      ]
    }
  ]
}
