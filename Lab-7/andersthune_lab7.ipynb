{
 "cells": [
  {
   "cell_type": "markdown",
   "metadata": {
    "ein.tags": "worksheet-0",
    "slideshow": {
     "slide_type": "-"
    }
   },
   "source": [
    "**Note:** This notebook is written in the Julia language, so the cells\n",
    "  can't be executed in Google Colab. If you want to verify that the\n",
    "  notebook works, I recommend [JuliaBox](https://juliabox.com/) (which\n",
    "  is free and requires no installation) or testing locally. The syntax\n",
    "  is very similar to Python and MATLAB. Note in particular the dot\n",
    "  syntax used to perform elementwise operations ( `f.(x)` applies `f`\n",
    "  to all elements of `x` ), that indices start at 1 and that the last\n",
    "  statement of all functions is returned automatically.\n",
    "\n",
    "**Extra note:** The creators of Julia recently received the Wilkinson\n",
    "  Prize for Numerical Software, a prize also awarded to the creator of\n",
    "  the Triangle mesh generator. Here is a\n",
    "  [talk](https://www.youtube.com/watch?v=OfMP5PTFQk0&feature=youtu.be)\n",
    "  from the event."
   ]
  },
  {
   "cell_type": "markdown",
   "metadata": {
    "colab_type": "text",
    "ein.tags": "worksheet-0",
    "id": "6RgtXlfYO_i7",
    "slideshow": {
     "slide_type": "-"
    }
   },
   "source": [
    "# **Lab 7: Optimization and learning**\n",
    "**Anders Ågren Thuné**"
   ]
  },
  {
   "cell_type": "markdown",
   "metadata": {
    "colab_type": "text",
    "ein.tags": "worksheet-0",
    "id": "9x_J5FVuPzbm",
    "slideshow": {
     "slide_type": "-"
    }
   },
   "source": [
    "# **Abstract**"
   ]
  },
  {
   "cell_type": "markdown",
   "metadata": {
    "colab_type": "text",
    "ein.tags": "worksheet-0",
    "id": "6UFTSzW7P8kL",
    "slideshow": {
     "slide_type": "-"
    }
   },
   "source": []
  },
  {
   "cell_type": "markdown",
   "metadata": {
    "colab_type": "text",
    "ein.tags": "worksheet-0",
    "id": "OkT8J7uOWpT3",
    "slideshow": {
     "slide_type": "-"
    }
   },
   "source": [
    "# **About the code**"
   ]
  },
  {
   "cell_type": "code",
   "execution_count": 1,
   "metadata": {
    "autoscroll": false,
    "colab": {
     "base_uri": "https://localhost:8080/",
     "height": 34
    },
    "colab_type": "code",
    "collapsed": false,
    "ein.hycell": false,
    "ein.tags": "worksheet-0",
    "id": "Pdll1Xc9WP0e",
    "outputId": "1e1de3c9-fbe5-46c9-c3de-2986013df3c9",
    "slideshow": {
     "slide_type": "-"
    }
   },
   "outputs": [
    {
     "data": {
      "text/plain": [
       "\"DD2363 Methods in Scientific Computing,\\nKTH Royal Institute of Technology, Stockholm, Sweden.\\n\""
      ]
     },
     "execution_count": 1,
     "metadata": {},
     "output_type": "execute_result"
    }
   ],
   "source": [
    "\"\"\"\n",
    "DD2363 Methods in Scientific Computing,\n",
    "KTH Royal Institute of Technology, Stockholm, Sweden.\n",
    "\"\"\"\n",
    "\n",
    "# Copyright (C) 2019\n",
    "# Anders Ågren Thuné (athune@kth.se)\n",
    "# Johan Hoffman (jhoffman@kth.se)\n",
    "\n",
    "# Code written by Anders Ågren Thuné based on the template by Johan Hoffman.\n",
    "\n",
    "# This file is part of the course DD2363 Methods in Scientific Computing\n",
    "# KTH Royal Institute of Technology, Stockholm, Sweden\n",
    "#\n",
    "# This is free software: you can redistribute it and/or modify\n",
    "# it under the terms of the GNU Lesser General Public License as published by\n",
    "# the Free Software Foundation, either version 3 of the License, or\n",
    "# (at your option) any later version."
   ]
  },
  {
   "cell_type": "markdown",
   "metadata": {
    "colab_type": "text",
    "ein.tags": "worksheet-0",
    "id": "28xLGz8JX3Hh",
    "slideshow": {
     "slide_type": "-"
    }
   },
   "source": [
    "# **Set up environment**"
   ]
  },
  {
   "cell_type": "code",
   "execution_count": 2,
   "metadata": {
    "autoscroll": false,
    "colab": null,
    "colab_type": "code",
    "collapsed": false,
    "ein.hycell": false,
    "ein.tags": "worksheet-0",
    "id": "Xw7VlErAX7NS",
    "slideshow": {
     "slide_type": "-"
    }
   },
   "outputs": [],
   "source": [
    "using LinearAlgebra\n",
    "using Plots\n",
    "using Random\n",
    "using MLDatasets"
   ]
  },
  {
   "cell_type": "markdown",
   "metadata": {
    "colab_type": "text",
    "ein.tags": "worksheet-0",
    "id": "gnO3lhAigLev",
    "slideshow": {
     "slide_type": "-"
    }
   },
   "source": [
    "# **Introduction**"
   ]
  },
  {
   "cell_type": "markdown",
   "metadata": {
    "colab_type": "text",
    "ein.tags": "worksheet-0",
    "id": "l5zMzgPlRAF6",
    "slideshow": {
     "slide_type": "-"
    }
   },
   "source": [
    "Optimization is the study of finding the optimal value of some domain,\n",
    "typically the maximum or minimum of some function. This is a field\n",
    "with a broad range of applications, not least in the rapidly growing\n",
    "field of machine learning.\n",
    "\n",
    "In order to find the critical points of a function, the derivative or\n",
    "multivariate versions thereof are typically powerful tools, as they\n",
    "indicate the direction to move in the input space to achieve the\n",
    "largest change in the output, the 'steepest slope' in a sense. Two\n",
    "methods making use of this fact to perform unconstrained optimization\n",
    "in $\\mathbb{R}^n$ are the gradient descent method and the Newton\n",
    "method.\n",
    "\n",
    "A neural network is a mathematical model for function approximation\n",
    "vaguely inspired by biological neural networks. While research is\n",
    "advancing rapidly, neural networks first appeared as early as during\n",
    "the 60s. The simplest version of a neural network is called a\n",
    "feedforward neural network, in which output is simply channeled\n",
    "forward through the network with no feedback loops or memory.\n",
    "\n",
    "The gradient descent method is typically used when training artificial\n",
    "neural networks, as it is a relatively cheap way to find minima of a\n",
    "cost function, especially when a stochastic version is used.\n",
    "\n",
    "[Hoffman 2019, Chapter 19, Nielsen 2015, Chapter 1]\n",
    "\n",
    "This report presents how the gradient descent and Newton methods were\n",
    "implemented in the Julia language. In addition, a simple feedforward\n",
    "neural network was implemented and trained using the backpropagation\n",
    "algorithm."
   ]
  },
  {
   "cell_type": "markdown",
   "metadata": {
    "colab_type": "text",
    "ein.tags": "worksheet-0",
    "id": "WeFO9QMeUOAu",
    "slideshow": {
     "slide_type": "-"
    }
   },
   "source": [
    "# **Methods**"
   ]
  },
  {
   "cell_type": "markdown",
   "metadata": {
    "ein.tags": "worksheet-0",
    "slideshow": {
     "slide_type": "-"
    }
   },
   "source": [
    "### **Gradient descent and Newton's method**"
   ]
  },
  {
   "cell_type": "markdown",
   "metadata": {
    "ein.tags": "worksheet-0",
    "slideshow": {
     "slide_type": "-"
    }
   },
   "source": [
    "Gradient descent utilizes the fact that the gradient indicates the\n",
    "direction of steepest ascent to step through the input space to search\n",
    "for an optimum. Newton's method is similar, but while gradient descent\n",
    "uses a step size $\\alpha^{(k)}$ determined somewhat heuristically,\n",
    "Newton's method multiplies the gradient with the inverse Hessian to\n",
    "determine the update (analogous to how Newton's method for nonlinear\n",
    "systems of equations uses the Jacobian), resulting in a somewhat more\n",
    "expensive method, but with a higher order of convergence. Also, as\n",
    "multiplying with the Hessian might result in either a negative or\n",
    "positive update depending on the function, Newton's method will find a\n",
    "_stationary point_, as opposed to a minimum specifically.\n",
    "\n",
    "Gradient descent: $$x^{(k+1)} = x^{(k)} - \\alpha^{(k)}\\nabla\n",
    "f(x^{(k)}),$$ for $\\alpha^{(k)}$ so that $f(x^{(k+1)}) \\leq \\beta\n",
    "f(x^{(k)})$, where $\\beta < 1$ is a fixed parameter.\n",
    "\n",
    "Newton's method: $$x^{(k+1)} = x^{(k)} - (Hf(x^{(k)}))^{-1}\\nabla\n",
    "f(x^{(k)}) $$\n",
    "\n",
    "In order to obtain the $\\alpha$-value for the gradient descent method,\n",
    "I use a heuristic approach, starting with an arbitrarily chosen\n",
    "$\\alpha^{(0)}$. For each step, if the constraint $f(x^{(k+1)}) \\leq\n",
    "\\beta f(x^{(k)})$ is not fulfilled, I nudge $\\alpha^{(k)}$ and adjust\n",
    "$x^{(k+1)}$. The sign of the nudge is set to the sign of $(\\nabla\n",
    "f(x^{(k)}), \\nabla f(x^{(k+1)}))$, as this indicates whether or not\n",
    "$\\nabla f (x^{(k)})$ is aligned with $\\nabla f (x^{(k+1)})$, or in\n",
    "other words, roughly, whether the constraint is not fulfilled because we\n",
    "overshot or undershot the step length."
   ]
  },
  {
   "cell_type": "code",
   "execution_count": 3,
   "metadata": {
    "autoscroll": false,
    "collapsed": false,
    "ein.hycell": false,
    "ein.tags": "worksheet-0",
    "slideshow": {
     "slide_type": "-"
    }
   },
   "outputs": [
    {
     "data": {
      "text/plain": [
       "newton_optimization"
      ]
     },
     "execution_count": 3,
     "metadata": {},
     "output_type": "execute_result"
    }
   ],
   "source": [
    "\"\"\"\n",
    "Calculate J(f)(p), modifying `jac` in place. Reused from lab 5.\n",
    "\"\"\"\n",
    "function filljacobian!(jac, f, p, h = 1e-5)\n",
    "    p1 = p\n",
    "    p2 = copy(p1)\n",
    "    for i in 1:length(p)\n",
    "        p1[i] += h\n",
    "        p2[i] -= h\n",
    "\n",
    "        jac[:,i] .= (f(p1) - f(p2)) / 2h\n",
    "\n",
    "        p1[i] -= h\n",
    "        p2[i] += h\n",
    "    end\n",
    "end\n",
    "\n",
    "\"\"\"\n",
    "Calculate ∇(f)(x), modifying `v` in place.\n",
    "\"\"\"\n",
    "fillgradient!(v, f, p, h = 1e-5) = filljacobian!(v', f, p, h)\n",
    "\n",
    "\"\"\"\n",
    "Use gradient descent to find x* such that ||∇(f)(x*)|| < TOL\n",
    "Use α = `α` initially, refining it if f(x^(k+1)) > βf(x^(k))\n",
    "\"\"\"\n",
    "function gradient_descent(f, β, x⁽⁰⁾, α = 0.1, TOL = 1e-6; maxiter::Int = 2000)\n",
    "    x = copy(x⁽⁰⁾)\n",
    "\n",
    "    ∇f = zeros(length(x))\n",
    "    next_∇f = zeros(length(x))\n",
    "\n",
    "    fillgradient!(∇f, f, x)\n",
    "    prev_f = f(x)\n",
    "\n",
    "    i = 1\n",
    "    while norm(∇f) >= TOL && i < maxiter\n",
    "        @. x -= α * ∇f #@. means \"apply every function pointwise\"\n",
    "        fillgradient!(next_∇f, f, x)\n",
    "        while (new_f = f(x)) > β*prev_f\n",
    "            # nudge alpha and adjust x if we over/undershoot\n",
    "            nudge = 0.2*sign(dot(∇f, next_∇f))\n",
    "            @. x -= nudge * α * ∇f\n",
    "            α *= (1.0 + nudge)\n",
    "            fillgradient!(next_∇f, f, x)\n",
    "        end\n",
    "        ∇f .= next_∇f\n",
    "        prev_f = new_f\n",
    "        i += 1\n",
    "    end\n",
    "    x\n",
    "end\n",
    "\n",
    "\"\"\"\n",
    "Use Newton's method to find x* such that ||∇(f)(x*)|| < TOL\n",
    "\"\"\"\n",
    "function newton_optimization(f, H, x⁽⁰⁾, TOL = 1e-6; maxiter::Int = 2000)\n",
    "    x = copy(x⁽⁰⁾)\n",
    "\n",
    "    ∇f = zeros(length(x))\n",
    "    fillgradient!(∇f, f, x)\n",
    "\n",
    "    i = 1\n",
    "    while norm(∇f) >= TOL && i < maxiter\n",
    "        x .-= H(x) \\ ∇f\n",
    "        fillgradient!(∇f, f, x)\n",
    "        i += 1\n",
    "    end\n",
    "    x\n",
    "end"
   ]
  },
  {
   "cell_type": "markdown",
   "metadata": {
    "ein.tags": "worksheet-0",
    "slideshow": {
     "slide_type": "-"
    }
   },
   "source": [
    "### **Neural networks and back propagation**"
   ]
  },
  {
   "cell_type": "markdown",
   "metadata": {
    "ein.tags": "worksheet-0",
    "slideshow": {
     "slide_type": "-"
    }
   },
   "source": [
    "A feedforward neural network consists of layers of neurons, each of\n",
    "which accepts weighted input from the previous layer and uses an\n",
    "activation function to produce an output which is in turn fed to the\n",
    "following layer. Put mathematically: $$y'_i = a(\\sum_j w_jy_j +\n",
    "b_i),$$ where $y_j$ are the output values of the neurons in the layer\n",
    "previous to $y'_i$, $w_j$ are the corresponding weights, $b_i$ is a\n",
    "bias determining how likely $y'_i$ is to activate and $a$ is an\n",
    "activation function, typically outputting a value in the range\n",
    "$[0,1]$. Expressed in terms of matrices, we have: $$y' = a(Wy +\n",
    "b)$$ A typical activation function is the sigmoid function $\\sigma(x)\n",
    "= \\frac{1}{1+e^{-x}}$, as its output is in the desired range and its\n",
    "derivative is convenient to work with.\n",
    "\n",
    "In order to make the network approximate the desired function, the\n",
    "free parameters $w$ and $b$ need to be selected to minimize the\n",
    "difference between the output of the network and the objective\n",
    "function, thus resulting in an optimization problem. If the error in\n",
    "the output is given by $E(y)$, with $y$ the output of the network for\n",
    "a given input, we can use gradient descent to update the weights and\n",
    "biases of the network to minimize the error. However, this requires\n",
    "the partial derivatives $\\frac{\\delta E}{\\delta w}$ and $\\frac{\\delta\n",
    "E}{\\delta b}$ for all weights and biases in the network.\n",
    "\n",
    "Backward propagation is a recursive algorithm for computing the\n",
    "required partial derivatives. Without delving into the details, the\n",
    "partial derivative $\\frac{\\delta E}{\\delta w_{kj}}$ for a weight\n",
    "between nodes $k$ and $j$ in two consecutive layers is given by\n",
    "$\\frac{\\delta E}{\\delta y_j}\\frac{\\delta y_j}{\\delta x_j}\\frac{\\delta\n",
    "x_j}{\\delta w_{kj}}$, where $x_j$ is the sum of the weighted inputs to\n",
    "node $j$ before the activation function, and $\\frac{\\delta E}{\\delta\n",
    "y_j}$ given recursively by $\\sum_i \\frac{\\delta E}{\\delta y'_i}\\frac{\\delta\n",
    "y'_i}{\\delta x'_i}\\frac{\\delta x'_i}{\\delta y_j}$. Similarly,\n",
    "$\\frac{\\delta E}{\\delta b_{jk}} = \\frac{\\delta E}{\\delta\n",
    "y_j}\\frac{\\delta y_j}{\\delta x_j} \\frac{\\delta x_j}{\\delta\n",
    "w_{kj}}$. Abstractly, the backward propagation algorithm involves\n",
    "three steps: a forward propagating step calculating the output values\n",
    "for each node, a backward propagating step calculating the partial\n",
    "derivatives $\\frac{\\delta E}{\\delta y}$ for each node, and a final\n",
    "local step to update each weight and bias."
   ]
  },
  {
   "cell_type": "code",
   "execution_count": 141,
   "metadata": {
    "autoscroll": false,
    "collapsed": false,
    "ein.hycell": false,
    "ein.tags": "worksheet-0",
    "slideshow": {
     "slide_type": "-"
    }
   },
   "outputs": [
    {
     "data": {
      "text/plain": [
       "backprop!"
      ]
     },
     "execution_count": 141,
     "metadata": {},
     "output_type": "execute_result"
    }
   ],
   "source": [
    "σ(x) = 1.0/(1.0+exp(-x))\n",
    "error_derivative(y, t) = -(t-y)\n",
    "\n",
    "struct FeedforwardNetwork\n",
    "    sizes::Array{Int64}\n",
    "    weights::Array{Array{Float64,2}}\n",
    "    biases::Array{Array{Float64}} \n",
    "end\n",
    "\n",
    "function FeedforwardNetwork(sizes)\n",
    "    #initialiaze weights and biases randomly\n",
    "    weights = [randn(j,i) for (i,j) in zip(sizes[1:end-1],sizes[2:end])]\n",
    "    biases = [randn(i) for i in sizes[2:end]] #input layer has no bias\n",
    "    FeedforwardNetwork(sizes, weights, biases)\n",
    "end\n",
    "\n",
    "\"\"\"\n",
    "Compute the output of network `n` for input `x`.\n",
    "\"\"\"\n",
    "function feedforward(n::FeedforwardNetwork, x)\n",
    "    maxsize = max(n.sizes...)\n",
    "    output = zeros(maxsize)\n",
    "    output[1:n.sizes[1]] .= x\n",
    "\n",
    "    for i in 1:length(n.sizes)-1\n",
    "        W = n.weights[i]; b = n.biases[i]\n",
    "        output[1:n.sizes[i+1]] .= σ.(W*output[1:n.sizes[i]] .+ b)\n",
    "    end\n",
    "\n",
    "    output[1:n.sizes[end]]\n",
    "end\n",
    "\n",
    "struct BackpropStorage #preallocated storage for backpropagation\n",
    "     ∇w::Array{Array{Float64,2}}\n",
    "     ∇b::Array{Array{Float64}}\n",
    "     outputs::Array{Array{Float64}}\n",
    "     deltas::Array{Array{Float64}}\n",
    "end\n",
    "\n",
    "function BackpropStorage(n::FeedforwardNetwork)\n",
    "    ∇w = [zeros(j, i) for (i, j) in zip(n.sizes[1:end-1], n.sizes[2:end])]\n",
    "    ∇b = [zeros(s) for s in n.sizes[2:end]]\n",
    "    deltas = [zeros(s) for s in n.sizes[2:end]]\n",
    "    outputs = [zeros(s) for s in n.sizes]\n",
    "    BackpropStorage(∇w, ∇b, outputs, deltas)\n",
    "end\n",
    "\n",
    "\"\"\"\n",
    "Train the network `n` for `iterations` iterations using single sample\n",
    "stochastic gradient descent. `data` and `targets` should be matrices\n",
    "where each column corresponds to a data sample.\n",
    "\"\"\"\n",
    "function stochastic_gradient_descent(n::FeedforwardNetwork, data, targets, iterations, α)\n",
    "    b = BackpropStorage(n)\n",
    "    for i in 1:iterations\n",
    "        for i in randperm(size(data,2))\n",
    "            backprop!(n, b, data[:,i], targets[:,i], α)\n",
    "        end\n",
    "    end\n",
    "end\n",
    "\n",
    "\"\"\"\n",
    "Use backpropagation to compute the gradient ∇E and update the weights\n",
    "and biases of the network `n`.\n",
    "\"\"\"\n",
    "function backprop!(n::FeedforwardNetwork, b::BackpropStorage, sample, target, α)\n",
    "    nlayers = length(n.sizes)\n",
    "    #perform forward propagation step\n",
    "    b.outputs[1] .= sample\n",
    "    for i in 1:nlayers-1\n",
    "        W = n.weights[i]; bias = n.biases[i]\n",
    "        b.outputs[i+1] .= σ.(W*b.outputs[i] .+ bias)\n",
    "    end\n",
    "\n",
    "    #compute final layer derivatives\n",
    "    @. b.deltas[end] = error_derivative(b.outputs[end], target) * b.outputs[end] * (1.0 - b.outputs[end])\n",
    "    b.∇b[end] .= b.deltas[end]\n",
    "    for row in 1:n.sizes[end]\n",
    "        @. b.∇w[end][row,:] = b.deltas[end][row]*b.outputs[end-1]\n",
    "    end\n",
    "\n",
    "    # backpropagate error\n",
    "    for layer in nlayers-1:-1:2\n",
    "        layer_wb = layer-1 # biases and weights are 1 shorter\n",
    "        for row in 1:n.sizes[layer]\n",
    "            b.deltas[layer_wb][row] = dot(n.weights[layer_wb+1][:,row], b.deltas[layer_wb + 1])\n",
    "        end\n",
    "        @. b.deltas[layer_wb] *= b.outputs[layer]*(1.0 - b.outputs[layer])\n",
    "\n",
    "        b.∇b[layer_wb] .= b.deltas[layer_wb]\n",
    "        for row in 1:n.sizes[layer]\n",
    "            @. b.∇w[layer_wb][row,:] = b.deltas[layer_wb][row]*b.outputs[layer-1]\n",
    "        end\n",
    "    end\n",
    "\n",
    "    #update weights and biases\n",
    "    for i in 1:nlayers-1\n",
    "        @. n.weights[i] -= α * b.∇w[i]\n",
    "        @. n.biases[i] -= α * b.∇b[i]\n",
    "    end\n",
    "end"
   ]
  },
  {
   "cell_type": "markdown",
   "metadata": {
    "ein.tags": "worksheet-0",
    "slideshow": {
     "slide_type": "-"
    }
   },
   "source": [
    "# **Results**"
   ]
  },
  {
   "cell_type": "markdown",
   "metadata": {
    "ein.tags": "worksheet-0",
    "slideshow": {
     "slide_type": "-"
    }
   },
   "source": [
    "This section presents verification and visualization of the implemented methods."
   ]
  },
  {
   "cell_type": "markdown",
   "metadata": {
    "ein.tags": "worksheet-0",
    "slideshow": {
     "slide_type": "-"
    }
   },
   "source": [
    "### **Gradient descent and Newton's method**"
   ]
  },
  {
   "cell_type": "markdown",
   "metadata": {
    "ein.tags": "worksheet-0",
    "slideshow": {
     "slide_type": "-"
    }
   },
   "source": [
    "To test gradient descent and Newton's method, I use the function\n",
    "$f(x, y) = x^2 - sin(x) + cos(y)$ with Hessian $Hf(x) = \\matrix{2 + sin(x) & 0\n",
    "\\\\ 0 & -cos(y)}$. For this function, i use two values for $x^{(0)}$,\n",
    "$(-2, 0.5)$ and $(-2, 2)$, where the first point is closest to a\n",
    "saddle point and the second closest to a minimum."
   ]
  },
  {
   "cell_type": "code",
   "execution_count": 5,
   "metadata": {
    "autoscroll": false,
    "collapsed": false,
    "ein.hycell": false,
    "ein.tags": "worksheet-0",
    "slideshow": {
     "slide_type": "-"
    }
   },
   "outputs": [
    {
     "data": {
      "text/plain": [
       "-3.5:0.0707070707070707:3.5"
      ]
     },
     "execution_count": 5,
     "metadata": {},
     "output_type": "execute_result"
    }
   ],
   "source": [
    "sinusoidal(x) = x[1]^2 - sin(x[1])+cos(x[2])\n",
    "sinusoidalHessian(x) = [2 + sin(x[1]) 0; 0 -cos(x[2])]\n",
    "\n",
    "xgrid = range(-3.5,stop=3.5,length=100)"
   ]
  },
  {
   "cell_type": "markdown",
   "metadata": {
    "ein.tags": "worksheet-0",
    "slideshow": {
     "slide_type": "-"
    }
   },
   "source": [
    "#### **Saddle point**"
   ]
  },
  {
   "cell_type": "code",
   "execution_count": 6,
   "metadata": {
    "autoscroll": false,
    "collapsed": false,
    "ein.hycell": false,
    "ein.tags": "worksheet-0",
    "slideshow": {
     "slide_type": "-"
    }
   },
   "outputs": [
    {
     "data": {
      "image/svg+xml": [
       "<?xml version=\"1.0\" encoding=\"utf-8\"?>\n<svg xmlns=\"http://www.w3.org/2000/svg\" xmlns:xlink=\"http://www.w3.org/1999/xlink\" width=\"600\" height=\"400\" viewBox=\"0 0 2400 1600\">\n<defs>\n  <clipPath id=\"clip8800\">\n    <rect x=\"0\" y=\"0\" width=\"2000\" height=\"2000\"/>\n  </clipPath>\n</defs>\n<defs>\n  <clipPath id=\"clip8801\">\n    <rect x=\"0\" y=\"0\" width=\"2400\" height=\"1600\"/>\n  </clipPath>\n</defs>\n<polygon clip-path=\"url(#clip8801)\" points=\"\n0,1600 2400,1600 2400,0 0,0 \n  \" fill=\"#ffffff\" fill-rule=\"evenodd\" fill-opacity=\"1\"/>\n<defs>\n  <clipPath id=\"clip8802\">\n    <rect x=\"480\" y=\"0\" width=\"1681\" height=\"1600\"/>\n  </clipPath>\n</defs>\n<polygon clip-path=\"url(#clip8801)\" points=\"\n149.361,1503.47 2081.26,1503.47 2081.26,125.984 149.361,125.984 \n  \" fill=\"#ffffff\" fill-rule=\"evenodd\" fill-opacity=\"1\"/>\n<defs>\n  <clipPath id=\"clip8803\">\n    <rect x=\"149\" y=\"125\" width=\"1933\" height=\"1378\"/>\n  </clipPath>\n</defs>\n<polyline clip-path=\"url(#clip8803)\" style=\"stroke:#000000; stroke-width:2; stroke-opacity:0.1; fill:none\" points=\"\n  334.219,1503.47 334.219,125.984 \n  \"/>\n<polyline clip-path=\"url(#clip8803)\" style=\"stroke:#000000; stroke-width:2; stroke-opacity:0.1; fill:none\" points=\"\n  594.583,1503.47 594.583,125.984 \n  \"/>\n<polyline clip-path=\"url(#clip8803)\" style=\"stroke:#000000; stroke-width:2; stroke-opacity:0.1; fill:none\" points=\"\n  854.946,1503.47 854.946,125.984 \n  \"/>\n<polyline clip-path=\"url(#clip8803)\" style=\"stroke:#000000; stroke-width:2; stroke-opacity:0.1; fill:none\" points=\"\n  1115.31,1503.47 1115.31,125.984 \n  \"/>\n<polyline clip-path=\"url(#clip8803)\" style=\"stroke:#000000; stroke-width:2; stroke-opacity:0.1; fill:none\" points=\"\n  1375.67,1503.47 1375.67,125.984 \n  \"/>\n<polyline clip-path=\"url(#clip8803)\" style=\"stroke:#000000; stroke-width:2; stroke-opacity:0.1; fill:none\" points=\"\n  1636.04,1503.47 1636.04,125.984 \n  \"/>\n<polyline clip-path=\"url(#clip8803)\" style=\"stroke:#000000; stroke-width:2; stroke-opacity:0.1; fill:none\" points=\"\n  1896.4,1503.47 1896.4,125.984 \n  \"/>\n<polyline clip-path=\"url(#clip8803)\" style=\"stroke:#000000; stroke-width:2; stroke-opacity:0.1; fill:none\" points=\"\n  149.361,1371.67 2081.26,1371.67 \n  \"/>\n<polyline clip-path=\"url(#clip8803)\" style=\"stroke:#000000; stroke-width:2; stroke-opacity:0.1; fill:none\" points=\"\n  149.361,1186.02 2081.26,1186.02 \n  \"/>\n<polyline clip-path=\"url(#clip8803)\" style=\"stroke:#000000; stroke-width:2; stroke-opacity:0.1; fill:none\" points=\"\n  149.361,1000.38 2081.26,1000.38 \n  \"/>\n<polyline clip-path=\"url(#clip8803)\" style=\"stroke:#000000; stroke-width:2; stroke-opacity:0.1; fill:none\" points=\"\n  149.361,814.729 2081.26,814.729 \n  \"/>\n<polyline clip-path=\"url(#clip8803)\" style=\"stroke:#000000; stroke-width:2; stroke-opacity:0.1; fill:none\" points=\"\n  149.361,629.084 2081.26,629.084 \n  \"/>\n<polyline clip-path=\"url(#clip8803)\" style=\"stroke:#000000; stroke-width:2; stroke-opacity:0.1; fill:none\" points=\"\n  149.361,443.438 2081.26,443.438 \n  \"/>\n<polyline clip-path=\"url(#clip8803)\" style=\"stroke:#000000; stroke-width:2; stroke-opacity:0.1; fill:none\" points=\"\n  149.361,257.793 2081.26,257.793 \n  \"/>\n<polyline clip-path=\"url(#clip8801)\" style=\"stroke:#000000; stroke-width:4; stroke-opacity:1; fill:none\" points=\"\n  149.361,1503.47 2081.26,1503.47 \n  \"/>\n<polyline clip-path=\"url(#clip8801)\" style=\"stroke:#000000; stroke-width:4; stroke-opacity:1; fill:none\" points=\"\n  149.361,1503.47 149.361,125.984 \n  \"/>\n<polyline clip-path=\"url(#clip8801)\" style=\"stroke:#000000; stroke-width:4; stroke-opacity:1; fill:none\" points=\"\n  334.219,1503.47 334.219,1482.81 \n  \"/>\n<polyline clip-path=\"url(#clip8801)\" style=\"stroke:#000000; stroke-width:4; stroke-opacity:1; fill:none\" points=\"\n  594.583,1503.47 594.583,1482.81 \n  \"/>\n<polyline clip-path=\"url(#clip8801)\" style=\"stroke:#000000; stroke-width:4; stroke-opacity:1; fill:none\" points=\"\n  854.946,1503.47 854.946,1482.81 \n  \"/>\n<polyline clip-path=\"url(#clip8801)\" style=\"stroke:#000000; stroke-width:4; stroke-opacity:1; fill:none\" points=\"\n  1115.31,1503.47 1115.31,1482.81 \n  \"/>\n<polyline clip-path=\"url(#clip8801)\" style=\"stroke:#000000; stroke-width:4; stroke-opacity:1; fill:none\" points=\"\n  1375.67,1503.47 1375.67,1482.81 \n  \"/>\n<polyline clip-path=\"url(#clip8801)\" style=\"stroke:#000000; stroke-width:4; stroke-opacity:1; fill:none\" points=\"\n  1636.04,1503.47 1636.04,1482.81 \n  \"/>\n<polyline clip-path=\"url(#clip8801)\" style=\"stroke:#000000; stroke-width:4; stroke-opacity:1; fill:none\" points=\"\n  1896.4,1503.47 1896.4,1482.81 \n  \"/>\n<polyline clip-path=\"url(#clip8801)\" style=\"stroke:#000000; stroke-width:4; stroke-opacity:1; fill:none\" points=\"\n  149.361,1371.67 178.339,1371.67 \n  \"/>\n<polyline clip-path=\"url(#clip8801)\" style=\"stroke:#000000; stroke-width:4; stroke-opacity:1; fill:none\" points=\"\n  149.361,1186.02 178.339,1186.02 \n  \"/>\n<polyline clip-path=\"url(#clip8801)\" style=\"stroke:#000000; stroke-width:4; stroke-opacity:1; fill:none\" points=\"\n  149.361,1000.38 178.339,1000.38 \n  \"/>\n<polyline clip-path=\"url(#clip8801)\" style=\"stroke:#000000; stroke-width:4; stroke-opacity:1; fill:none\" points=\"\n  149.361,814.729 178.339,814.729 \n  \"/>\n<polyline clip-path=\"url(#clip8801)\" style=\"stroke:#000000; stroke-width:4; stroke-opacity:1; fill:none\" points=\"\n  149.361,629.084 178.339,629.084 \n  \"/>\n<polyline clip-path=\"url(#clip8801)\" style=\"stroke:#000000; stroke-width:4; stroke-opacity:1; fill:none\" points=\"\n  149.361,443.438 178.339,443.438 \n  \"/>\n<polyline clip-path=\"url(#clip8801)\" style=\"stroke:#000000; stroke-width:4; stroke-opacity:1; fill:none\" points=\"\n  149.361,257.793 178.339,257.793 \n  \"/>\n<g clip-path=\"url(#clip8801)\">\n<text style=\"fill:#000000; fill-opacity:1; font-family:Arial,Helvetica Neue,Helvetica,sans-serif; font-size:48px; text-anchor:middle;\" transform=\"rotate(0, 334.219, 1557.47)\" x=\"334.219\" y=\"1557.47\">-3</text>\n</g>\n<g clip-path=\"url(#clip8801)\">\n<text style=\"fill:#000000; fill-opacity:1; font-family:Arial,Helvetica Neue,Helvetica,sans-serif; font-size:48px; text-anchor:middle;\" transform=\"rotate(0, 594.583, 1557.47)\" x=\"594.583\" y=\"1557.47\">-2</text>\n</g>\n<g clip-path=\"url(#clip8801)\">\n<text style=\"fill:#000000; fill-opacity:1; font-family:Arial,Helvetica Neue,Helvetica,sans-serif; font-size:48px; text-anchor:middle;\" transform=\"rotate(0, 854.946, 1557.47)\" x=\"854.946\" y=\"1557.47\">-1</text>\n</g>\n<g clip-path=\"url(#clip8801)\">\n<text style=\"fill:#000000; fill-opacity:1; font-family:Arial,Helvetica Neue,Helvetica,sans-serif; font-size:48px; text-anchor:middle;\" transform=\"rotate(0, 1115.31, 1557.47)\" x=\"1115.31\" y=\"1557.47\">0</text>\n</g>\n<g clip-path=\"url(#clip8801)\">\n<text style=\"fill:#000000; fill-opacity:1; font-family:Arial,Helvetica Neue,Helvetica,sans-serif; font-size:48px; text-anchor:middle;\" transform=\"rotate(0, 1375.67, 1557.47)\" x=\"1375.67\" y=\"1557.47\">1</text>\n</g>\n<g clip-path=\"url(#clip8801)\">\n<text style=\"fill:#000000; fill-opacity:1; font-family:Arial,Helvetica Neue,Helvetica,sans-serif; font-size:48px; text-anchor:middle;\" transform=\"rotate(0, 1636.04, 1557.47)\" x=\"1636.04\" y=\"1557.47\">2</text>\n</g>\n<g clip-path=\"url(#clip8801)\">\n<text style=\"fill:#000000; fill-opacity:1; font-family:Arial,Helvetica Neue,Helvetica,sans-serif; font-size:48px; text-anchor:middle;\" transform=\"rotate(0, 1896.4, 1557.47)\" x=\"1896.4\" y=\"1557.47\">3</text>\n</g>\n<g clip-path=\"url(#clip8801)\">\n<text style=\"fill:#000000; fill-opacity:1; font-family:Arial,Helvetica Neue,Helvetica,sans-serif; font-size:48px; text-anchor:end;\" transform=\"rotate(0, 125.361, 1389.17)\" x=\"125.361\" y=\"1389.17\">-3</text>\n</g>\n<g clip-path=\"url(#clip8801)\">\n<text style=\"fill:#000000; fill-opacity:1; font-family:Arial,Helvetica Neue,Helvetica,sans-serif; font-size:48px; text-anchor:end;\" transform=\"rotate(0, 125.361, 1203.52)\" x=\"125.361\" y=\"1203.52\">-2</text>\n</g>\n<g clip-path=\"url(#clip8801)\">\n<text style=\"fill:#000000; fill-opacity:1; font-family:Arial,Helvetica Neue,Helvetica,sans-serif; font-size:48px; text-anchor:end;\" transform=\"rotate(0, 125.361, 1017.88)\" x=\"125.361\" y=\"1017.88\">-1</text>\n</g>\n<g clip-path=\"url(#clip8801)\">\n<text style=\"fill:#000000; fill-opacity:1; font-family:Arial,Helvetica Neue,Helvetica,sans-serif; font-size:48px; text-anchor:end;\" transform=\"rotate(0, 125.361, 832.229)\" x=\"125.361\" y=\"832.229\">0</text>\n</g>\n<g clip-path=\"url(#clip8801)\">\n<text style=\"fill:#000000; fill-opacity:1; font-family:Arial,Helvetica Neue,Helvetica,sans-serif; font-size:48px; text-anchor:end;\" transform=\"rotate(0, 125.361, 646.584)\" x=\"125.361\" y=\"646.584\">1</text>\n</g>\n<g clip-path=\"url(#clip8801)\">\n<text style=\"fill:#000000; fill-opacity:1; font-family:Arial,Helvetica Neue,Helvetica,sans-serif; font-size:48px; text-anchor:end;\" transform=\"rotate(0, 125.361, 460.938)\" x=\"125.361\" y=\"460.938\">2</text>\n</g>\n<g clip-path=\"url(#clip8801)\">\n<text style=\"fill:#000000; fill-opacity:1; font-family:Arial,Helvetica Neue,Helvetica,sans-serif; font-size:48px; text-anchor:end;\" transform=\"rotate(0, 125.361, 275.293)\" x=\"125.361\" y=\"275.293\">3</text>\n</g>\n<g clip-path=\"url(#clip8801)\">\n<image width=\"551\" height=\"99\" xlink:href=\"data:image/png;base64,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\nQRADwTRNiOO4sTABAPh/WR+Zf+XQ2QIAAAAASUVORK5CYII=\n\" transform=\"translate(840, -1)\"/>\n</g>\n<polyline clip-path=\"url(#clip8803)\" style=\"stroke:#fb9c07; stroke-width:4; stroke-opacity:1; fill:none\" points=\"\n  227.729,1464.49 226.725,1451.36 225.936,1438.24 225.364,1425.11 225.014,1411.98 224.887,1398.86 224.983,1385.73 225.303,1372.6 225.844,1359.48 226.604,1346.35 \n  227.578,1333.22 228.763,1320.1 230.152,1306.97 231.739,1293.85 233.514,1280.72 235.47,1267.59 237.597,1254.47 239.884,1241.34 240.856,1236.1 242.36,1228.21 \n  245.003,1215.09 247.773,1201.96 250.656,1188.83 253.638,1175.71 256.704,1162.58 259.266,1151.85 259.855,1149.45 263.13,1136.33 266.443,1123.2 269.777,1110.07 \n  273.116,1096.95 276.443,1083.82 277.675,1078.92 279.799,1070.7 283.141,1057.57 286.421,1044.44 289.621,1031.32 292.726,1018.19 295.72,1005.06 296.085,1003.39 \n  298.656,991.937 301.458,978.81 304.102,965.684 306.575,952.557 308.864,939.431 310.959,926.304 312.847,913.178 314.494,900.262 314.522,900.051 316.012,886.925 \n  317.264,873.799 318.274,860.672 319.036,847.546 319.546,834.419 319.802,821.293 319.802,808.166 319.546,795.04 319.036,781.913 318.274,768.787 317.264,755.66 \n  316.012,742.534 314.522,729.408 314.494,729.197 312.847,716.281 310.959,703.155 308.864,690.028 306.575,676.902 304.102,663.775 301.458,650.649 298.656,637.522 \n  296.085,626.065 295.72,624.396 292.726,611.269 289.621,598.143 286.421,585.016 283.141,571.89 279.799,558.764 277.675,550.539 276.443,545.637 273.116,532.511 \n  269.777,519.384 266.443,506.258 263.13,493.131 259.855,480.005 259.266,477.605 256.704,466.878 253.638,453.752 250.656,440.625 247.773,427.499 245.003,414.373 \n  242.36,401.246 240.856,393.359 239.884,388.12 237.597,374.993 235.47,361.867 233.514,348.74 231.739,335.614 230.152,322.487 228.763,309.361 227.578,296.234 \n  226.604,283.108 225.844,269.981 225.303,256.855 224.983,243.729 224.887,230.602 225.014,217.476 225.364,204.349 225.936,191.223 226.725,178.096 227.729,164.97 \n  \n  \"/>\n<polyline clip-path=\"url(#clip8803)\" style=\"stroke:#f57d15; stroke-width:4; stroke-opacity:1; fill:none\" points=\"\n  276.538,164.97 275.478,178.096 274.644,191.223 274.041,204.349 273.671,217.476 273.537,230.602 273.639,243.729 273.976,256.855 274.547,269.981 275.35,283.108 \n  276.379,296.234 277.63,309.361 277.675,309.766 279.136,322.487 280.857,335.614 282.783,348.74 284.905,361.867 287.212,374.993 289.693,388.12 292.335,401.246 \n  295.125,414.373 296.085,418.68 298.103,427.499 301.229,440.625 304.462,453.752 307.787,466.878 311.185,480.005 314.494,492.573 314.645,493.131 318.235,506.258 \n  321.848,519.384 325.467,532.511 329.072,545.637 332.647,558.764 332.904,559.721 336.259,571.89 339.811,585.016 343.276,598.143 346.638,611.269 349.88,624.396 \n  351.313,630.455 353.03,637.522 356.061,650.649 358.922,663.775 361.597,676.902 364.074,690.028 366.34,703.155 368.383,716.281 369.723,725.992 370.206,729.408 \n  371.817,742.534 373.171,755.66 374.262,768.787 375.086,781.913 375.637,795.04 375.914,808.166 375.914,821.293 375.637,834.419 375.086,847.546 374.262,860.672 \n  373.171,873.799 371.817,886.925 370.206,900.051 369.723,903.467 368.383,913.178 366.34,926.304 364.074,939.431 361.597,952.557 358.922,965.684 356.061,978.81 \n  353.03,991.937 351.313,999.004 349.88,1005.06 346.638,1018.19 343.276,1031.32 339.811,1044.44 336.259,1057.57 332.904,1069.74 332.647,1070.7 329.072,1083.82 \n  325.467,1096.95 321.848,1110.07 318.235,1123.2 314.645,1136.33 314.494,1136.89 311.185,1149.45 307.787,1162.58 304.462,1175.71 301.229,1188.83 298.103,1201.96 \n  296.085,1210.78 295.125,1215.09 292.335,1228.21 289.693,1241.34 287.212,1254.47 284.905,1267.59 282.783,1280.72 280.857,1293.85 279.136,1306.97 277.675,1319.69 \n  277.63,1320.1 276.379,1333.22 275.35,1346.35 274.547,1359.48 273.976,1372.6 273.639,1385.73 273.537,1398.86 273.671,1411.98 274.041,1425.11 274.644,1438.24 \n  275.478,1451.36 276.538,1464.49 \n  \"/>\n<polyline clip-path=\"url(#clip8803)\" style=\"stroke:#e65e2d; stroke-width:4; stroke-opacity:1; fill:none\" points=\"\n  329.175,1464.49 328.026,1451.36 327.123,1438.24 326.469,1425.11 326.068,1411.98 325.923,1398.86 326.033,1385.73 326.399,1372.6 327.018,1359.48 327.887,1346.35 \n  329.002,1333.22 330.358,1320.1 331.947,1306.97 332.904,1300.05 333.785,1293.85 335.871,1280.72 338.169,1267.59 340.667,1254.47 343.354,1241.34 346.215,1228.21 \n  349.236,1215.09 351.313,1206.47 352.431,1201.96 355.813,1188.83 359.311,1175.71 362.908,1162.58 366.585,1149.45 369.723,1138.44 370.34,1136.33 374.22,1123.2 \n  378.126,1110.07 382.037,1096.95 385.934,1083.82 388.133,1076.35 389.84,1070.7 393.749,1057.57 397.583,1044.44 401.325,1031.32 404.955,1018.19 406.542,1012.24 \n  408.504,1005.06 411.942,991.937 415.212,978.81 418.298,965.684 421.183,952.557 423.855,939.431 424.952,933.54 426.332,926.304 428.591,913.178 430.593,900.051 \n  432.327,886.925 433.787,873.799 434.963,860.672 435.85,847.546 436.444,834.419 436.742,821.293 436.742,808.166 436.444,795.04 435.85,781.913 434.963,768.787 \n  433.787,755.66 432.327,742.534 430.593,729.408 428.591,716.281 426.332,703.155 424.952,695.919 423.855,690.028 421.183,676.902 418.298,663.775 415.212,650.649 \n  411.942,637.522 408.504,624.396 406.542,617.219 404.955,611.269 401.325,598.143 397.583,585.016 393.749,571.89 389.84,558.764 388.133,553.107 385.934,545.637 \n  382.037,532.511 378.126,519.384 374.22,506.258 370.34,493.131 369.723,491.021 366.585,480.005 362.908,466.878 359.311,453.752 355.813,440.625 352.431,427.499 \n  351.313,422.986 349.236,414.373 346.215,401.246 343.354,388.12 340.667,374.993 338.169,361.867 335.871,348.74 333.785,335.614 332.904,329.404 331.947,322.487 \n  330.358,309.361 329.002,296.234 327.887,283.108 327.018,269.981 326.399,256.855 326.033,243.729 325.923,230.602 326.068,217.476 326.469,204.349 327.123,191.223 \n  328.026,178.096 329.175,164.97 \n  \"/>\n<polyline clip-path=\"url(#clip8803)\" style=\"stroke:#d24742; stroke-width:4; stroke-opacity:1; fill:none\" points=\"\n  386.045,164.97 384.803,178.096 383.826,191.223 383.12,204.349 382.687,217.476 382.529,230.602 382.649,243.729 383.044,256.855 383.713,269.981 384.653,283.108 \n  385.858,296.234 387.324,309.361 388.133,315.542 389.065,322.487 391.077,335.614 393.329,348.74 395.81,361.867 398.508,374.993 401.409,388.12 404.498,401.246 \n  406.542,409.471 407.791,414.373 411.296,427.499 414.945,440.625 418.718,453.752 422.597,466.878 424.952,474.671 426.603,480.005 430.736,493.131 434.917,506.258 \n  439.125,519.384 443.339,532.511 443.361,532.581 447.639,545.637 451.903,558.764 456.109,571.89 460.236,585.016 461.771,590.02 464.322,598.143 468.323,611.269 \n  472.18,624.396 475.875,637.522 479.39,650.649 480.18,653.778 482.766,663.775 485.941,676.902 488.88,690.028 491.568,703.155 493.993,716.281 496.142,729.408 \n  498.005,742.534 498.59,747.438 499.594,755.66 500.886,768.787 501.86,781.913 502.513,795.04 502.84,808.166 502.84,821.293 502.513,834.419 501.86,847.546 \n  500.886,860.672 499.594,873.799 498.59,882.021 498.005,886.925 496.142,900.051 493.993,913.178 491.568,926.304 488.88,939.431 485.941,952.557 482.766,965.684 \n  480.18,975.681 479.39,978.81 475.875,991.937 472.18,1005.06 468.323,1018.19 464.322,1031.32 461.771,1039.44 460.236,1044.44 456.109,1057.57 451.903,1070.7 \n  447.639,1083.82 443.361,1096.88 443.339,1096.95 439.125,1110.07 434.917,1123.2 430.736,1136.33 426.603,1149.45 424.952,1154.79 422.597,1162.58 418.718,1175.71 \n  414.945,1188.83 411.296,1201.96 407.791,1215.09 406.542,1219.99 404.498,1228.21 401.409,1241.34 398.508,1254.47 395.81,1267.59 393.329,1280.72 391.077,1293.85 \n  389.065,1306.97 388.133,1313.92 387.324,1320.1 385.858,1333.22 384.653,1346.35 383.713,1359.48 383.044,1372.6 382.649,1385.73 382.529,1398.86 382.687,1411.98 \n  383.12,1425.11 383.826,1438.24 384.803,1451.36 386.045,1464.49 \n  \"/>\n<polyline clip-path=\"url(#clip8803)\" style=\"stroke:#ba3655; stroke-width:4; stroke-opacity:1; fill:none\" points=\"\n  447.762,1464.49 446.391,1451.36 445.313,1438.24 444.534,1425.11 444.056,1411.98 443.882,1398.86 444.014,1385.73 444.45,1372.6 445.188,1359.48 446.225,1346.35 \n  447.556,1333.22 449.173,1320.1 451.069,1306.97 453.234,1293.85 455.658,1280.72 458.328,1267.59 461.231,1254.47 461.771,1252.2 464.415,1241.34 467.819,1228.21 \n  471.413,1215.09 475.181,1201.96 479.102,1188.83 480.18,1185.34 483.228,1175.71 487.496,1162.58 491.859,1149.45 496.296,1136.33 498.59,1129.62 500.836,1123.2 \n  505.458,1110.07 510.086,1096.95 514.698,1083.82 517,1077.22 519.323,1070.7 523.935,1057.57 528.461,1044.44 532.878,1031.32 535.409,1023.56 537.202,1018.19 \n  541.426,1005.06 545.473,991.937 549.323,978.81 552.955,965.684 553.819,962.345 556.408,952.557 559.622,939.431 562.563,926.304 565.215,913.178 567.566,900.051 \n  569.603,886.925 571.316,873.799 572.228,865.127 572.707,860.672 573.772,847.546 574.485,834.419 574.842,821.293 574.842,808.166 574.485,795.04 573.772,781.913 \n  572.707,768.787 572.228,764.332 571.316,755.66 569.603,742.534 567.566,729.408 565.215,716.281 562.563,703.155 559.622,690.028 556.408,676.902 553.819,667.114 \n  552.955,663.775 549.323,650.649 545.473,637.522 541.426,624.396 537.202,611.269 535.409,605.898 532.878,598.143 528.461,585.016 523.935,571.89 519.323,558.764 \n  517,552.243 514.698,545.637 510.086,532.511 505.458,519.384 500.836,506.258 498.59,499.839 496.296,493.131 491.859,480.005 487.496,466.878 483.228,453.752 \n  480.18,444.115 479.102,440.625 475.181,427.499 471.413,414.373 467.819,401.246 464.415,388.12 461.771,377.262 461.231,374.993 458.328,361.867 455.658,348.74 \n  453.234,335.614 451.069,322.487 449.173,309.361 447.556,296.234 446.225,283.108 445.188,269.981 444.45,256.855 444.014,243.729 443.882,230.602 444.056,217.476 \n  444.534,204.349 445.313,191.223 446.391,178.096 447.762,164.97 \n  \"/>\n<polyline clip-path=\"url(#clip8803)\" style=\"stroke:#9e2a62; stroke-width:4; stroke-opacity:1; fill:none\" points=\"\n  514.83,164.97 513.36,178.096 512.204,191.223 511.368,204.349 510.856,217.476 510.669,230.602 510.81,243.729 511.278,256.855 512.07,269.981 513.182,283.108 \n  514.609,296.234 516.343,309.361 517,313.6 518.408,322.487 520.782,335.614 523.441,348.74 526.369,361.867 529.553,374.993 532.977,388.12 535.409,396.877 \n  536.65,401.246 540.587,414.373 544.713,427.499 549.008,440.625 553.449,453.752 553.819,454.814 558.109,466.878 562.881,480.005 567.734,493.131 572.228,505.148 \n  572.653,506.258 577.702,519.384 582.758,532.511 587.797,545.637 590.638,553.103 592.839,558.764 597.873,571.89 602.813,585.016 607.632,598.143 609.047,602.115 \n  612.379,611.269 616.986,624.396 621.4,637.522 625.597,650.649 627.457,656.811 629.604,663.775 633.389,676.902 636.893,690.028 640.098,703.155 642.989,716.281 \n  645.551,729.408 645.866,731.274 647.812,742.534 649.72,755.66 651.258,768.787 652.419,781.913 653.195,795.04 653.585,808.166 653.585,821.293 653.195,834.419 \n  652.419,847.546 651.258,860.672 649.72,873.799 647.812,886.925 645.866,898.185 645.551,900.051 642.989,913.178 640.098,926.304 636.893,939.431 633.389,952.557 \n  629.604,965.684 627.457,972.648 625.597,978.81 621.4,991.937 616.986,1005.06 612.379,1018.19 609.047,1027.34 607.632,1031.32 602.813,1044.44 597.873,1057.57 \n  592.839,1070.7 590.638,1076.36 587.797,1083.82 582.758,1096.95 577.702,1110.07 572.653,1123.2 572.228,1124.31 567.734,1136.33 562.881,1149.45 558.109,1162.58 \n  553.819,1174.65 553.449,1175.71 549.008,1188.83 544.713,1201.96 540.587,1215.09 536.65,1228.21 535.409,1232.58 532.977,1241.34 529.553,1254.47 526.369,1267.59 \n  523.441,1280.72 520.782,1293.85 518.408,1306.97 517,1315.86 516.343,1320.1 514.609,1333.22 513.182,1346.35 512.07,1359.48 511.278,1372.6 510.81,1385.73 \n  510.669,1398.86 510.856,1411.98 511.368,1425.11 512.204,1438.24 513.36,1451.36 514.83,1464.49 \n  \"/>\n<polyline clip-path=\"url(#clip8803)\" style=\"stroke:#821f6b; stroke-width:4; stroke-opacity:1; fill:none\" points=\"\n  587.94,1464.49 586.335,1451.36 585.072,1438.24 584.158,1425.11 583.599,1411.98 583.395,1398.86 583.549,1385.73 584.06,1372.6 584.925,1359.48 586.14,1346.35 \n  587.699,1333.22 589.593,1320.1 590.638,1313.93 591.84,1306.97 594.432,1293.85 597.333,1280.72 600.529,1267.59 604.004,1254.47 607.74,1241.34 609.047,1237.03 \n  611.778,1228.21 616.071,1215.09 620.571,1201.96 625.254,1188.83 627.457,1182.86 630.155,1175.71 635.243,1162.58 640.445,1149.45 645.734,1136.33 645.866,1136 \n  651.199,1123.2 656.701,1110.07 662.212,1096.95 664.276,1092.01 667.778,1083.82 673.341,1070.7 678.828,1057.57 682.686,1048.16 684.245,1044.44 689.615,1031.32 \n  694.825,1018.19 699.849,1005.06 701.095,1001.66 704.742,991.937 709.423,978.81 713.84,965.684 717.971,952.557 719.505,947.295 721.849,939.431 725.429,926.304 \n  728.657,913.178 731.519,900.051 733.998,886.925 736.084,873.799 737.765,860.672 737.914,859.124 739.06,847.546 739.929,834.419 740.365,821.293 740.365,808.166 \n  739.929,795.04 739.06,781.913 737.914,770.335 737.765,768.787 736.084,755.66 733.998,742.534 731.519,729.408 728.657,716.281 725.429,703.155 721.849,690.028 \n  719.505,682.164 717.971,676.902 713.84,663.775 709.423,650.649 704.742,637.522 701.095,627.795 699.849,624.396 694.825,611.269 689.615,598.143 684.245,585.016 \n  682.686,581.297 678.828,571.89 673.341,558.764 667.778,545.637 664.276,537.445 662.212,532.511 656.701,519.384 651.199,506.258 645.866,493.455 645.734,493.131 \n  640.445,480.005 635.243,466.878 630.155,453.752 627.457,446.595 625.254,440.625 620.571,427.499 616.071,414.373 611.778,401.246 609.047,392.431 607.74,388.12 \n  604.004,374.993 600.529,361.867 597.333,348.74 594.432,335.614 591.84,322.487 590.638,315.533 589.593,309.361 587.699,296.234 586.14,283.108 584.925,269.981 \n  584.06,256.855 583.549,243.729 583.395,230.602 583.599,217.476 584.158,204.349 585.072,191.223 586.335,178.096 587.94,164.97 \n  \"/>\n<polyline clip-path=\"url(#clip8803)\" style=\"stroke:#63146e; stroke-width:4; stroke-opacity:1; fill:none\" points=\"\n  667.937,164.97 666.149,178.096 664.743,191.223 664.276,197.251 663.738,204.349 663.128,217.476 662.906,230.602 663.074,243.729 663.631,256.855 664.276,265.842 \n  664.58,269.981 665.933,283.108 667.669,296.234 669.779,309.361 672.252,322.487 675.077,335.614 678.239,348.74 681.722,361.867 682.686,365.205 685.572,374.993 \n  689.735,388.12 694.169,401.246 698.85,414.373 701.095,420.378 703.817,427.499 709.04,440.625 714.442,453.752 719.505,465.718 720.007,466.878 725.816,480.005 \n  731.724,493.131 737.7,506.258 737.914,506.726 743.852,519.384 750.019,532.511 756.164,545.637 756.324,545.981 762.403,558.764 768.56,571.89 774.602,585.016 \n  774.733,585.309 780.646,598.143 786.513,611.269 792.17,624.396 793.143,626.752 797.71,637.522 803.004,650.649 807.999,663.775 811.552,673.759 812.703,676.902 \n  817.151,690.028 821.22,703.155 824.89,716.281 828.142,729.408 829.962,737.882 830.991,742.534 833.433,755.66 835.402,768.787 836.887,781.913 837.881,795.04 \n  838.379,808.166 838.379,821.293 837.881,834.419 836.887,847.546 835.402,860.672 833.433,873.799 830.991,886.925 829.962,891.577 828.142,900.051 824.89,913.178 \n  821.22,926.304 817.151,939.431 812.703,952.557 811.552,955.7 807.999,965.684 803.004,978.81 797.71,991.937 793.143,1002.71 792.17,1005.06 786.513,1018.19 \n  780.646,1031.32 774.733,1044.15 774.602,1044.44 768.56,1057.57 762.403,1070.7 756.324,1083.48 756.164,1083.82 750.019,1096.95 743.852,1110.07 737.914,1122.73 \n  737.7,1123.2 731.724,1136.33 725.816,1149.45 720.007,1162.58 719.505,1163.74 714.442,1175.71 709.04,1188.83 703.817,1201.96 701.095,1209.08 698.85,1215.09 \n  694.169,1228.21 689.735,1241.34 685.572,1254.47 682.686,1264.25 681.722,1267.59 678.239,1280.72 675.077,1293.85 672.252,1306.97 669.779,1320.1 667.669,1333.22 \n  665.933,1346.35 664.58,1359.48 664.276,1363.62 663.631,1372.6 663.074,1385.73 662.906,1398.86 663.128,1411.98 663.738,1425.11 664.276,1432.21 664.743,1438.24 \n  666.149,1451.36 667.937,1464.49 \n  \"/>\n<polyline clip-path=\"url(#clip8803)\" style=\"stroke:#470b69; stroke-width:4; stroke-opacity:1; fill:none\" points=\"\n  756.339,1464.49 756.324,1464.39 754.381,1451.36 752.841,1438.24 751.727,1425.11 751.044,1411.98 750.796,1398.86 750.984,1385.73 751.607,1372.6 752.662,1359.48 \n  754.144,1346.35 756.045,1333.22 756.324,1331.64 758.406,1320.1 761.182,1306.97 764.352,1293.85 767.9,1280.72 771.809,1267.59 774.733,1258.56 776.093,1254.47 \n  780.781,1241.34 785.774,1228.21 791.046,1215.09 793.143,1210.1 796.664,1201.96 802.57,1188.83 808.679,1175.71 811.552,1169.7 815.057,1162.58 821.661,1149.45 \n  828.376,1136.33 829.962,1133.26 835.325,1123.2 842.368,1110.07 848.372,1098.9 849.454,1096.95 856.707,1083.82 863.897,1070.7 866.781,1065.36 871.133,1057.57 \n  878.33,1044.44 885.191,1031.62 885.359,1031.32 892.423,1018.19 899.234,1005.06 903.6,996.281 905.846,991.937 912.299,978.81 918.388,965.684 922.01,957.335 \n  924.172,952.557 929.671,939.431 934.702,926.304 939.239,913.178 940.419,909.324 943.393,900.051 947.041,886.925 950.109,873.799 952.583,860.672 954.448,847.546 \n  955.698,834.419 956.324,821.293 956.324,808.166 955.698,795.04 954.448,781.913 952.583,768.787 950.109,755.66 947.041,742.534 943.393,729.408 940.419,720.135 \n  939.239,716.281 934.702,703.155 929.671,690.028 924.172,676.902 922.01,672.124 918.388,663.775 912.299,650.649 905.846,637.522 903.6,633.178 899.234,624.396 \n  892.423,611.269 885.359,598.143 885.191,597.84 878.33,585.016 871.133,571.89 866.781,564.102 863.897,558.764 856.707,545.637 849.454,532.511 848.372,530.558 \n  842.368,519.384 835.325,506.258 829.962,496.197 828.376,493.131 821.661,480.005 815.057,466.878 811.552,459.757 808.679,453.752 802.57,440.625 796.664,427.499 \n  793.143,419.354 791.046,414.373 785.774,401.246 780.781,388.12 776.093,374.993 774.733,370.898 771.809,361.867 767.9,348.74 764.352,335.614 761.182,322.487 \n  758.406,309.361 756.324,297.82 756.045,296.234 754.144,283.108 752.662,269.981 751.607,256.855 750.984,243.729 750.796,230.602 751.044,217.476 751.727,204.349 \n  752.841,191.223 754.381,178.096 756.324,165.072 756.339,164.97 \n  \"/>\n<polyline clip-path=\"url(#clip8803)\" style=\"stroke:#270b52; stroke-width:4; stroke-opacity:1; fill:none\" points=\"\n  856.913,164.97 854.602,178.096 852.785,191.223 851.47,204.349 850.664,217.476 850.371,230.602 850.593,243.729 851.328,256.855 852.573,269.981 854.322,283.108 \n  856.566,296.234 859.293,309.361 862.49,322.487 866.141,335.614 866.781,337.669 870.346,348.74 875.003,361.867 880.066,374.993 885.191,387.35 885.522,388.12 \n  891.533,401.246 897.881,414.373 903.6,425.657 904.571,427.499 911.77,440.625 919.217,453.752 922.01,458.541 927.082,466.878 935.246,480.005 940.419,488.184 \n  943.695,493.131 952.487,506.258 958.829,515.666 961.464,519.384 970.781,532.511 977.239,541.642 980.224,545.637 989.947,558.764 995.648,566.566 999.781,571.89 \n  1009.78,585.016 1014.06,590.771 1019.92,598.143 1030.04,611.269 1032.47,614.527 1040.38,624.396 1050.47,637.522 1050.88,638.084 1060.87,650.649 1069.29,661.86 \n  1070.87,663.775 1081.02,676.902 1087.7,686.232 1090.73,690.028 1100.34,703.155 1106.11,711.893 1109.4,716.281 1118.15,729.408 1124.52,740.436 1125.93,742.534 \n  1133.38,755.66 1139.38,768.787 1142.92,779.073 1144.11,781.913 1147.78,795.04 1149.62,808.166 1149.62,821.293 1147.78,834.419 1144.11,847.546 1142.92,850.386 \n  1139.38,860.672 1133.38,873.799 1125.93,886.925 1124.52,889.023 1118.15,900.051 1109.4,913.178 1106.11,917.566 1100.34,926.304 1090.73,939.431 1087.7,943.227 \n  1081.02,952.557 1070.87,965.684 1069.29,967.599 1060.87,978.81 1050.88,991.375 1050.47,991.937 1040.38,1005.06 1032.47,1014.93 1030.04,1018.19 1019.92,1031.32 \n  1014.06,1038.69 1009.78,1044.44 999.781,1057.57 995.648,1062.89 989.947,1070.7 980.224,1083.82 977.239,1087.82 970.781,1096.95 961.464,1110.07 958.829,1113.79 \n  952.487,1123.2 943.695,1136.33 940.419,1141.27 935.246,1149.45 927.082,1162.58 922.01,1170.92 919.217,1175.71 911.77,1188.83 904.571,1201.96 903.6,1203.8 \n  897.881,1215.09 891.533,1228.21 885.522,1241.34 885.191,1242.11 880.066,1254.47 875.003,1267.59 870.346,1280.72 866.781,1291.79 866.141,1293.85 862.49,1306.97 \n  859.293,1320.1 856.566,1333.22 854.322,1346.35 852.573,1359.48 851.328,1372.6 850.593,1385.73 850.371,1398.86 850.664,1411.98 851.47,1425.11 852.785,1438.24 \n  854.602,1451.36 856.913,1464.49 \n  \"/>\n<polyline clip-path=\"url(#clip8803)\" style=\"stroke:#0d0829; stroke-width:4; stroke-opacity:1; fill:none\" points=\"\n  980.503,1464.49 977.378,1451.36 977.239,1450.62 975.044,1438.24 973.361,1425.11 972.329,1411.98 971.954,1398.86 972.238,1385.73 973.18,1372.6 974.773,1359.48 \n  977.012,1346.35 977.239,1345.31 980.033,1333.22 983.721,1320.1 988.045,1306.97 992.982,1293.85 995.648,1287.51 998.688,1280.72 1005.16,1267.59 1012.19,1254.47 \n  1014.06,1251.23 1020.15,1241.34 1028.77,1228.21 1032.47,1222.88 1038.29,1215.09 1048.57,1201.96 1050.88,1199.13 1060.02,1188.83 1069.29,1178.74 1072.35,1175.71 \n  1085.99,1162.58 1087.7,1160.98 1101.38,1149.45 1106.11,1145.54 1118.78,1136.33 1124.52,1132.2 1139.14,1123.2 1142.92,1120.89 1161.33,1111.59 1165.18,1110.07 \n  1179.74,1104.33 1198.15,1099.15 1211.52,1096.95 1216.56,1096.11 1234.97,1095.29 1253.38,1096.74 1254.4,1096.95 1271.79,1100.51 1290.2,1106.67 1297.51,1110.07 \n  1308.61,1115.26 1321.79,1123.2 1327.02,1126.37 1340.39,1136.33 1345.43,1140.12 1355.84,1149.45 1363.84,1156.74 1369.36,1162.58 1381.49,1175.71 1382.25,1176.55 \n  1391.93,1188.83 1400.66,1200.3 1401.78,1201.96 1410.32,1215.09 1418.47,1228.21 1419.07,1229.23 1425.47,1241.34 1431.98,1254.47 1437.48,1266.38 1437.98,1267.59 \n  1443.04,1280.72 1447.63,1293.85 1451.73,1306.97 1455.32,1320.1 1455.89,1322.54 1458.17,1333.22 1460.47,1346.35 1462.27,1359.48 1463.55,1372.6 1464.3,1385.73 \n  1464.53,1398.86 1464.23,1411.98 1463.4,1425.11 1462.05,1438.24 1460.18,1451.36 1457.81,1464.49 \n  \"/>\n<polyline clip-path=\"url(#clip8803)\" style=\"stroke:#270b52; stroke-width:4; stroke-opacity:1; fill:none\" points=\"\n  1552.22,1464.49 1553.88,1451.36 1555.19,1438.24 1556.13,1425.11 1556.71,1411.98 1556.92,1398.86 1556.76,1385.73 1556.23,1372.6 1555.34,1359.48 1554.08,1346.35 \n  1552.47,1333.22 1550.51,1320.1 1548.22,1306.97 1547.93,1305.57 1545.44,1293.85 1542.32,1280.72 1538.88,1267.59 1535.14,1254.47 1531.11,1241.34 1529.53,1236.48 \n  1526.64,1228.21 1521.81,1215.09 1516.74,1201.96 1511.47,1188.83 1511.12,1187.99 1505.64,1175.71 1499.62,1162.58 1493.46,1149.45 1492.71,1147.87 1486.77,1136.33 \n  1479.93,1123.2 1474.3,1112.44 1472.95,1110.07 1465.47,1096.95 1458.02,1083.82 1455.89,1080.03 1450.15,1070.7 1442.18,1057.57 1437.48,1049.66 1434.06,1044.44 \n  1425.65,1031.32 1419.07,1020.71 1417.33,1018.19 1408.59,1005.06 1400.66,992.638 1400.16,991.937 1391.19,978.81 1382.74,965.684 1382.25,964.874 1373.78,952.557 \n  1365.43,939.431 1363.84,936.705 1356.8,926.304 1348.8,913.178 1345.43,906.947 1341,900.051 1333.68,886.925 1327.53,873.799 1327.02,872.443 1321.56,860.672 \n  1316.96,847.546 1313.89,834.419 1312.34,821.293 1312.34,808.166 1313.89,795.04 1316.96,781.913 1321.56,768.787 1327.02,757.016 1327.53,755.66 1333.68,742.534 \n  1341,729.408 1345.43,722.512 1348.8,716.281 1356.8,703.155 1363.84,692.754 1365.43,690.028 1373.78,676.902 1382.25,664.585 1382.74,663.775 1391.19,650.649 \n  1400.16,637.522 1400.66,636.821 1408.59,624.396 1417.33,611.269 1419.07,608.751 1425.65,598.143 1434.06,585.016 1437.48,579.799 1442.18,571.89 1450.15,558.764 \n  1455.89,549.433 1458.02,545.637 1465.47,532.511 1472.95,519.384 1474.3,517.015 1479.93,506.258 1486.77,493.131 1492.71,481.586 1493.46,480.005 1499.62,466.878 \n  1505.64,453.752 1511.12,441.468 1511.47,440.625 1516.74,427.499 1521.81,414.373 1526.64,401.246 1529.53,392.98 1531.11,388.12 1535.14,374.993 1538.88,361.867 \n  1542.32,348.74 1545.44,335.614 1547.93,323.89 1548.22,322.487 1550.51,309.361 1552.47,296.234 1554.08,283.108 1555.34,269.981 1556.23,256.855 1556.76,243.729 \n  1556.92,230.602 1556.71,217.476 1556.13,204.349 1555.19,191.223 1553.88,178.096 1552.22,164.97 \n  \"/>\n<polyline clip-path=\"url(#clip8803)\" style=\"stroke:#470b69; stroke-width:4; stroke-opacity:1; fill:none\" points=\"\n  1623.52,164.97 1624.86,178.096 1625.92,191.223 1626.68,204.349 1627.15,217.476 1627.32,230.602 1627.19,243.729 1626.76,256.855 1626.04,269.981 1625.03,283.108 \n  1623.73,296.234 1622.14,309.361 1621.57,313.39 1620.22,322.487 1618,335.614 1615.51,348.74 1612.77,361.867 1609.78,374.993 1606.58,388.12 1603.16,401.234 \n  1603.16,401.246 1599.36,414.373 1595.38,427.499 1591.24,440.625 1586.95,453.752 1584.75,460.306 1582.42,466.878 1577.67,480.005 1572.83,493.131 1567.93,506.258 \n  1566.34,510.495 1562.81,519.384 1557.58,532.511 1552.37,545.637 1547.93,556.908 1547.16,558.764 1541.74,571.89 1536.42,585.016 1531.23,598.143 1529.53,602.582 \n  1525.96,611.269 1520.78,624.396 1515.81,637.522 1511.12,650.547 1511.08,650.649 1506.29,663.775 1501.81,676.902 1497.66,690.028 1493.87,703.155 1492.71,707.624 \n  1490.27,716.281 1487,729.408 1484.16,742.534 1481.78,755.66 1479.86,768.787 1478.41,781.913 1477.44,795.04 1476.95,808.166 1476.95,821.293 1477.44,834.419 \n  1478.41,847.546 1479.86,860.672 1481.78,873.799 1484.16,886.925 1487,900.051 1490.27,913.178 1492.71,921.835 1493.87,926.304 1497.66,939.431 1501.81,952.557 \n  1506.29,965.684 1511.08,978.81 1511.12,978.912 1515.81,991.937 1520.78,1005.06 1525.96,1018.19 1529.53,1026.88 1531.23,1031.32 1536.42,1044.44 1541.74,1057.57 \n  1547.16,1070.7 1547.93,1072.55 1552.37,1083.82 1557.58,1096.95 1562.81,1110.07 1566.34,1118.96 1567.93,1123.2 1572.83,1136.33 1577.67,1149.45 1582.42,1162.58 \n  1584.75,1169.15 1586.95,1175.71 1591.24,1188.83 1595.38,1201.96 1599.36,1215.09 1603.16,1228.21 1603.16,1228.23 1606.58,1241.34 1609.78,1254.47 1612.77,1267.59 \n  1615.51,1280.72 1618,1293.85 1620.22,1306.97 1621.57,1316.07 1622.14,1320.1 1623.73,1333.22 1625.03,1346.35 1626.04,1359.48 1626.76,1372.6 1627.19,1385.73 \n  1627.32,1398.86 1627.15,1411.98 1626.68,1425.11 1625.92,1438.24 1624.86,1451.36 1623.52,1464.49 \n  \"/>\n<polyline clip-path=\"url(#clip8803)\" style=\"stroke:#63146e; stroke-width:4; stroke-opacity:1; fill:none\" points=\"\n  1683.33,1464.49 1684.51,1451.36 1685.43,1438.24 1686.1,1425.11 1686.51,1411.98 1686.66,1398.86 1686.55,1385.73 1686.17,1372.6 1685.54,1359.48 1684.65,1346.35 \n  1683.51,1333.22 1682.12,1320.1 1680.49,1306.97 1678.63,1293.85 1676.8,1282.32 1676.54,1280.72 1674.15,1267.59 1671.55,1254.47 1668.76,1241.34 1665.78,1228.21 \n  1662.64,1215.09 1659.35,1201.96 1658.39,1198.29 1655.82,1188.83 1652.11,1175.71 1648.31,1162.58 1644.42,1149.45 1640.46,1136.33 1639.98,1134.76 1636.29,1123.2 \n  1632.08,1110.07 1627.85,1096.95 1623.64,1083.82 1621.57,1077.31 1619.37,1070.7 1615.04,1057.57 1610.81,1044.44 1606.67,1031.32 1603.16,1019.85 1602.63,1018.19 \n  1598.55,1005.06 1594.65,991.937 1590.93,978.81 1587.43,965.684 1584.75,954.961 1584.12,952.557 1580.92,939.431 1577.98,926.304 1575.34,913.178 1573,900.051 \n  1570.97,886.925 1569.26,873.799 1567.88,860.672 1566.84,847.546 1566.34,838.146 1566.14,834.419 1565.77,821.293 1565.77,808.166 1566.14,795.04 1566.34,791.313 \n  1566.84,781.913 1567.88,768.787 1569.26,755.66 1570.97,742.534 1573,729.408 1575.34,716.281 1577.98,703.155 1580.92,690.028 1584.12,676.902 1584.75,674.498 \n  1587.43,663.775 1590.93,650.649 1594.65,637.522 1598.55,624.396 1602.63,611.269 1603.16,609.606 1606.67,598.143 1610.81,585.016 1615.04,571.89 1619.37,558.764 \n  1621.57,552.15 1623.64,545.637 1627.85,532.511 1632.08,519.384 1636.29,506.258 1639.98,494.702 1640.46,493.131 1644.42,480.005 1648.31,466.878 1652.11,453.752 \n  1655.82,440.625 1658.39,431.174 1659.35,427.499 1662.64,414.373 1665.78,401.246 1668.76,388.12 1671.55,374.993 1674.15,361.867 1676.54,348.74 1676.8,347.144 \n  1678.63,335.614 1680.49,322.487 1682.12,309.361 1683.51,296.234 1684.65,283.108 1685.54,269.981 1686.17,256.855 1686.55,243.729 1686.66,230.602 1686.51,217.476 \n  1686.1,204.349 1685.43,191.223 1684.51,178.096 1683.33,164.97 \n  \"/>\n<polyline clip-path=\"url(#clip8803)\" style=\"stroke:#821f6b; stroke-width:4; stroke-opacity:1; fill:none\" points=\"\n  1736.21,164.97 1737.26,178.096 1738.09,191.223 1738.69,204.349 1739.05,217.476 1739.19,230.602 1739.09,243.729 1738.75,256.855 1738.18,269.981 1737.39,283.108 \n  1736.36,296.234 1735.12,309.361 1733.66,322.487 1732.03,335.375 1732,335.614 1730.07,348.74 1727.95,361.867 1725.63,374.993 1723.15,388.12 1720.5,401.246 \n  1717.71,414.373 1714.78,427.499 1713.62,432.502 1711.66,440.625 1708.39,453.752 1705.03,466.878 1701.59,480.005 1698.1,493.131 1695.21,503.839 1694.53,506.258 \n  1690.83,519.384 1687.13,532.511 1683.43,545.637 1679.77,558.764 1676.8,569.562 1676.13,571.89 1672.44,585.016 1668.84,598.143 1665.34,611.269 1661.97,624.396 \n  1658.74,637.522 1658.39,639.029 1655.55,650.649 1652.53,663.775 1649.7,676.902 1647.07,690.028 1644.68,703.155 1642.52,716.281 1640.6,729.408 1639.98,734.278 \n  1638.89,742.534 1637.43,755.66 1636.25,768.787 1635.36,781.913 1634.76,795.04 1634.46,808.166 1634.46,821.293 1634.76,834.419 1635.36,847.546 1636.25,860.672 \n  1637.43,873.799 1638.89,886.925 1639.98,895.181 1640.6,900.051 1642.52,913.178 1644.68,926.304 1647.07,939.431 1649.7,952.557 1652.53,965.684 1655.55,978.81 \n  1658.39,990.43 1658.74,991.937 1661.97,1005.06 1665.34,1018.19 1668.84,1031.32 1672.44,1044.44 1676.13,1057.57 1676.8,1059.9 1679.77,1070.7 1683.43,1083.82 \n  1687.13,1096.95 1690.83,1110.07 1694.53,1123.2 1695.21,1125.62 1698.1,1136.33 1701.59,1149.45 1705.03,1162.58 1708.39,1175.71 1711.66,1188.83 1713.62,1196.96 \n  1714.78,1201.96 1717.71,1215.09 1720.5,1228.21 1723.15,1241.34 1725.63,1254.47 1727.95,1267.59 1730.07,1280.72 1732,1293.85 1732.03,1294.08 1733.66,1306.97 \n  1735.12,1320.1 1736.36,1333.22 1737.39,1346.35 1738.18,1359.48 1738.75,1372.6 1739.09,1385.73 1739.19,1398.86 1739.05,1411.98 1738.69,1425.11 1738.09,1438.24 \n  1737.26,1451.36 1736.21,1464.49 \n  \"/>\n<polyline clip-path=\"url(#clip8803)\" style=\"stroke:#9e2a62; stroke-width:4; stroke-opacity:1; fill:none\" points=\"\n  1784.28,1464.49 1785.26,1451.36 1786.04,1438.24 1786.6,1425.11 1786.95,1411.98 1787.07,1398.86 1786.98,1385.73 1786.66,1372.6 1786.13,1359.48 1785.38,1346.35 \n  1784.42,1333.22 1783.26,1320.1 1781.89,1306.97 1780.33,1293.85 1778.59,1280.72 1776.66,1267.59 1774.57,1254.47 1772.32,1241.34 1769.93,1228.21 1768.85,1222.62 \n  1767.35,1215.09 1764.62,1201.96 1761.77,1188.83 1758.83,1175.71 1755.8,1162.58 1752.7,1149.45 1750.44,1140.02 1749.53,1136.33 1746.23,1123.2 1742.92,1110.07 \n  1739.61,1096.95 1736.3,1083.82 1733.02,1070.7 1732.03,1066.66 1729.71,1057.57 1726.43,1044.44 1723.22,1031.32 1720.11,1018.19 1717.12,1005.06 1714.24,991.937 \n  1713.62,988.947 1711.43,978.81 1708.76,965.684 1706.26,952.557 1703.94,939.431 1701.82,926.304 1699.91,913.178 1698.22,900.051 1696.75,886.925 1695.52,873.799 \n  1695.21,869.78 1694.49,860.672 1693.71,847.546 1693.19,834.419 1692.93,821.293 1692.93,808.166 1693.19,795.04 1693.71,781.913 1694.49,768.787 1695.21,759.679 \n  1695.52,755.66 1696.75,742.534 1698.22,729.408 1699.91,716.281 1701.82,703.155 1703.94,690.028 1706.26,676.902 1708.76,663.775 1711.43,650.649 1713.62,640.512 \n  1714.24,637.522 1717.12,624.396 1720.11,611.269 1723.22,598.143 1726.43,585.016 1729.71,571.89 1732.03,562.795 1733.02,558.764 1736.3,545.637 1739.61,532.511 \n  1742.92,519.384 1746.23,506.258 1749.53,493.131 1750.44,489.443 1752.7,480.005 1755.8,466.878 1758.83,453.752 1761.77,440.625 1764.62,427.499 1767.35,414.373 \n  1768.85,406.843 1769.93,401.246 1772.32,388.12 1774.57,374.993 1776.66,361.867 1778.59,348.74 1780.33,335.614 1781.89,322.487 1783.26,309.361 1784.42,296.234 \n  1785.38,283.108 1786.13,269.981 1786.66,256.855 1786.98,243.729 1787.07,230.602 1786.95,217.476 1786.6,204.349 1786.04,191.223 1785.26,178.096 1784.28,164.97 \n  \n  \"/>\n<polyline clip-path=\"url(#clip8803)\" style=\"stroke:#ba3655; stroke-width:4; stroke-opacity:1; fill:none\" points=\"\n  1828.81,164.97 1829.72,178.096 1830.43,191.223 1830.95,204.349 1831.26,217.476 1831.38,230.602 1831.29,243.729 1831,256.855 1830.51,269.981 1829.83,283.108 \n  1828.95,296.234 1827.88,309.361 1826.62,322.487 1825.19,335.614 1824.08,344.688 1823.57,348.74 1821.75,361.867 1819.78,374.993 1817.66,388.12 1815.4,401.246 \n  1813.01,414.373 1810.51,427.499 1807.91,440.625 1805.67,451.542 1805.2,453.752 1802.35,466.878 1799.44,480.005 1796.48,493.131 1793.49,506.258 1790.47,519.384 \n  1787.46,532.511 1787.26,533.371 1784.36,545.637 1781.29,558.764 1778.26,571.89 1775.29,585.016 1772.39,598.143 1769.57,611.269 1768.85,614.771 1766.8,624.396 \n  1764.11,637.522 1761.56,650.649 1759.15,663.775 1756.9,676.902 1754.82,690.028 1752.91,703.155 1751.19,716.281 1750.44,722.734 1749.64,729.408 1748.27,742.534 \n  1747.12,755.66 1746.2,768.787 1745.5,781.913 1745.03,795.04 1744.8,808.166 1744.8,821.293 1745.03,834.419 1745.5,847.546 1746.2,860.672 1747.12,873.799 \n  1748.27,886.925 1749.64,900.051 1750.44,906.725 1751.19,913.178 1752.91,926.304 1754.82,939.431 1756.9,952.557 1759.15,965.684 1761.56,978.81 1764.11,991.937 \n  1766.8,1005.06 1768.85,1014.69 1769.57,1018.19 1772.39,1031.32 1775.29,1044.44 1778.26,1057.57 1781.29,1070.7 1784.36,1083.82 1787.26,1096.09 1787.46,1096.95 \n  1790.47,1110.07 1793.49,1123.2 1796.48,1136.33 1799.44,1149.45 1802.35,1162.58 1805.2,1175.71 1805.67,1177.92 1807.91,1188.83 1810.51,1201.96 1813.01,1215.09 \n  1815.4,1228.21 1817.66,1241.34 1819.78,1254.47 1821.75,1267.59 1823.57,1280.72 1824.08,1284.77 1825.19,1293.85 1826.62,1306.97 1827.88,1320.1 1828.95,1333.22 \n  1829.83,1346.35 1830.51,1359.48 1831,1372.6 1831.29,1385.73 1831.38,1398.86 1831.26,1411.98 1830.95,1425.11 1830.43,1438.24 1829.72,1451.36 1828.81,1464.49 \n  \n  \"/>\n<polyline clip-path=\"url(#clip8803)\" style=\"stroke:#d24742; stroke-width:4; stroke-opacity:1; fill:none\" points=\"\n  1870.66,1464.49 1871.52,1451.36 1872.2,1438.24 1872.69,1425.11 1873,1411.98 1873.1,1398.86 1873.02,1385.73 1872.75,1372.6 1872.28,1359.48 1871.63,1346.35 \n  1870.79,1333.22 1869.77,1320.1 1868.58,1306.97 1867.21,1293.85 1865.69,1280.72 1864,1267.59 1862.18,1254.47 1860.9,1245.93 1860.19,1241.34 1858.05,1228.21 \n  1855.78,1215.09 1853.41,1201.96 1850.94,1188.83 1848.38,1175.71 1845.75,1162.58 1843.07,1149.45 1842.49,1146.67 1840.28,1136.33 1837.45,1123.2 1834.59,1110.07 \n  1831.74,1096.95 1828.89,1083.82 1826.07,1070.7 1824.08,1061.31 1823.26,1057.57 1820.46,1044.44 1817.72,1031.32 1815.06,1018.19 1812.5,1005.06 1810.05,991.937 \n  1807.72,978.81 1805.67,966.598 1805.51,965.684 1803.39,952.557 1801.43,939.431 1799.64,926.304 1798.02,913.178 1796.59,900.051 1795.34,886.925 1794.3,873.799 \n  1793.46,860.672 1792.82,847.546 1792.39,834.419 1792.18,821.293 1792.18,808.166 1792.39,795.04 1792.82,781.913 1793.46,768.787 1794.3,755.66 1795.34,742.534 \n  1796.59,729.408 1798.02,716.281 1799.64,703.155 1801.43,690.028 1803.39,676.902 1805.51,663.775 1805.67,662.861 1807.72,650.649 1810.05,637.522 1812.5,624.396 \n  1815.06,611.269 1817.72,598.143 1820.46,585.016 1823.26,571.89 1824.08,568.147 1826.07,558.764 1828.89,545.637 1831.74,532.511 1834.59,519.384 1837.45,506.258 \n  1840.28,493.131 1842.49,482.79 1843.07,480.005 1845.75,466.878 1848.38,453.752 1850.94,440.625 1853.41,427.499 1855.78,414.373 1858.05,401.246 1860.19,388.12 \n  1860.9,383.527 1862.18,374.993 1864,361.867 1865.69,348.74 1867.21,335.614 1868.58,322.487 1869.77,309.361 1870.79,296.234 1871.63,283.108 1872.28,269.981 \n  1872.75,256.855 1873.02,243.729 1873.1,230.602 1873,217.476 1872.69,204.349 1872.2,191.223 1871.52,178.096 1870.66,164.97 \n  \"/>\n<polyline clip-path=\"url(#clip8803)\" style=\"stroke:#e65e2d; stroke-width:4; stroke-opacity:1; fill:none\" points=\"\n  1910.41,164.97 1911.24,178.096 1911.89,191.223 1912.36,204.349 1912.65,217.476 1912.75,230.602 1912.67,243.729 1912.41,256.855 1911.97,269.981 1911.34,283.108 \n  1910.54,296.234 1909.56,309.361 1908.42,322.487 1907.12,335.614 1905.66,348.74 1904.05,361.867 1902.3,374.993 1900.42,388.12 1898.41,401.246 1897.72,405.574 \n  1896.27,414.373 1894,427.499 1891.64,440.625 1889.21,453.752 1886.7,466.878 1884.13,480.005 1881.53,493.131 1879.31,504.185 1878.88,506.258 1876.17,519.384 \n  1873.45,532.511 1870.74,545.637 1868.05,558.764 1865.4,571.89 1862.8,585.016 1860.9,594.877 1860.25,598.143 1857.73,611.269 1855.3,624.396 1852.97,637.522 \n  1850.76,650.649 1848.67,663.775 1846.71,676.902 1844.9,690.028 1843.25,703.155 1842.49,709.827 1841.73,716.281 1840.38,729.408 1839.2,742.534 1838.21,755.66 \n  1837.42,768.787 1836.81,781.913 1836.41,795.04 1836.21,808.166 1836.21,821.293 1836.41,834.419 1836.81,847.546 1837.42,860.672 1838.21,873.799 1839.2,886.925 \n  1840.38,900.051 1841.73,913.178 1842.49,919.632 1843.25,926.304 1844.9,939.431 1846.71,952.557 1848.67,965.684 1850.76,978.81 1852.97,991.937 1855.3,1005.06 \n  1857.73,1018.19 1860.25,1031.32 1860.9,1034.58 1862.8,1044.44 1865.4,1057.57 1868.05,1070.7 1870.74,1083.82 1873.45,1096.95 1876.17,1110.07 1878.88,1123.2 \n  1879.31,1125.27 1881.53,1136.33 1884.13,1149.45 1886.7,1162.58 1889.21,1175.71 1891.64,1188.83 1894,1201.96 1896.27,1215.09 1897.72,1223.88 1898.41,1228.21 \n  1900.42,1241.34 1902.3,1254.47 1904.05,1267.59 1905.66,1280.72 1907.12,1293.85 1908.42,1306.97 1909.56,1320.1 1910.54,1333.22 1911.34,1346.35 1911.97,1359.48 \n  1912.41,1372.6 1912.67,1385.73 1912.75,1398.86 1912.65,1411.98 1912.36,1425.11 1911.89,1438.24 1911.24,1451.36 1910.41,1464.49 \n  \"/>\n<polyline clip-path=\"url(#clip8803)\" style=\"stroke:#f57d15; stroke-width:4; stroke-opacity:1; fill:none\" points=\"\n  1948.46,1464.49 1949.25,1451.36 1949.87,1438.24 1950.33,1425.11 1950.6,1411.98 1950.7,1398.86 1950.63,1385.73 1950.37,1372.6 1949.95,1359.48 1949.35,1346.35 \n  1948.58,1333.22 1947.64,1320.1 1946.54,1306.97 1945.29,1293.85 1943.88,1280.72 1942.34,1267.59 1940.66,1254.47 1938.85,1241.34 1936.92,1228.21 1934.89,1215.09 \n  1934.54,1212.9 1932.72,1201.96 1930.46,1188.83 1928.13,1175.71 1925.72,1162.58 1923.26,1149.45 1920.76,1136.33 1918.24,1123.2 1916.13,1112.32 1915.68,1110.07 \n  1913.08,1096.95 1910.49,1083.82 1907.92,1070.7 1905.38,1057.57 1902.9,1044.44 1900.47,1031.32 1898.12,1018.19 1897.72,1015.87 1895.81,1005.06 1893.58,991.937 \n  1891.47,978.81 1889.48,965.684 1887.61,952.557 1885.88,939.431 1884.31,926.304 1882.88,913.178 1881.62,900.051 1880.52,886.925 1879.6,873.799 1879.31,868.548 \n  1878.85,860.672 1878.28,847.546 1877.9,834.419 1877.7,821.293 1877.7,808.166 1877.9,795.04 1878.28,781.913 1878.85,768.787 1879.31,760.911 1879.6,755.66 \n  1880.52,742.534 1881.62,729.408 1882.88,716.281 1884.31,703.155 1885.88,690.028 1887.61,676.902 1889.48,663.775 1891.47,650.649 1893.58,637.522 1895.81,624.396 \n  1897.72,613.588 1898.12,611.269 1900.47,598.143 1902.9,585.016 1905.38,571.89 1907.92,558.764 1910.49,545.637 1913.08,532.511 1915.68,519.384 1916.13,517.137 \n  1918.24,506.258 1920.76,493.131 1923.26,480.005 1925.72,466.878 1928.13,453.752 1930.46,440.625 1932.72,427.499 1934.54,416.557 1934.89,414.373 1936.92,401.246 \n  1938.85,388.12 1940.66,374.993 1942.34,361.867 1943.88,348.74 1945.29,335.614 1946.54,322.487 1947.64,309.361 1948.58,296.234 1949.35,283.108 1949.95,269.981 \n  1950.37,256.855 1950.63,243.729 1950.7,230.602 1950.6,217.476 1950.33,204.349 1949.87,191.223 1949.25,178.096 1948.46,164.97 \n  \"/>\n<polyline clip-path=\"url(#clip8803)\" style=\"stroke:#fb9c07; stroke-width:4; stroke-opacity:1; fill:none\" points=\"\n  1985.08,164.97 1985.85,178.096 1986.45,191.223 1986.89,204.349 1987.15,217.476 1987.25,230.602 1987.18,243.729 1986.93,256.855 1986.52,269.981 1985.94,283.108 \n  1985.2,296.234 1984.29,309.361 1983.24,322.487 1982.03,335.614 1980.67,348.74 1979.18,361.867 1977.56,374.993 1975.81,388.12 1973.95,401.246 1971.99,414.373 \n  1971.35,418.445 1969.91,427.499 1967.73,440.625 1965.48,453.752 1963.17,466.878 1960.8,480.005 1958.39,493.131 1955.96,506.258 1953.51,519.384 1952.95,522.388 \n  1951.02,532.511 1948.53,545.637 1946.06,558.764 1943.62,571.89 1941.23,585.016 1938.9,598.143 1936.64,611.269 1934.54,623.921 1934.46,624.396 1932.32,637.522 \n  1930.3,650.649 1928.39,663.775 1926.6,676.902 1924.94,690.028 1923.43,703.155 1922.06,716.281 1920.85,729.408 1919.8,742.534 1918.92,755.66 1918.21,768.787 \n  1917.67,781.913 1917.31,795.04 1917.13,808.166 1917.13,821.293 1917.31,834.419 1917.67,847.546 1918.21,860.672 1918.92,873.799 1919.8,886.925 1920.85,900.051 \n  1922.06,913.178 1923.43,926.304 1924.94,939.431 1926.6,952.557 1928.39,965.684 1930.3,978.81 1932.32,991.937 1934.46,1005.06 1934.54,1005.54 1936.64,1018.19 \n  1938.9,1031.32 1941.23,1044.44 1943.62,1057.57 1946.06,1070.7 1948.53,1083.82 1951.02,1096.95 1952.95,1107.07 1953.51,1110.07 1955.96,1123.2 1958.39,1136.33 \n  1960.8,1149.45 1963.17,1162.58 1965.48,1175.71 1967.73,1188.83 1969.91,1201.96 1971.35,1211.01 1971.99,1215.09 1973.95,1228.21 1975.81,1241.34 1977.56,1254.47 \n  1979.18,1267.59 1980.67,1280.72 1982.03,1293.85 1983.24,1306.97 1984.29,1320.1 1985.2,1333.22 1985.94,1346.35 1986.52,1359.48 1986.93,1372.6 1987.18,1385.73 \n  1987.25,1398.86 1987.15,1411.98 1986.89,1425.11 1986.45,1438.24 1985.85,1451.36 1985.08,1464.49 \n  \"/>\n<polyline clip-path=\"url(#clip8803)\" style=\"stroke:#fabf26; stroke-width:4; stroke-opacity:1; fill:none\" points=\"\n  2020.53,1464.49 2021.27,1451.36 2021.86,1438.24 2022.28,1425.11 2022.54,1411.98 2022.63,1398.86 2022.56,1385.73 2022.32,1372.6 2021.92,1359.48 2021.36,1346.35 \n  2020.64,1333.22 2019.77,1320.1 2018.74,1306.97 2017.57,1293.85 2016.26,1280.72 2014.81,1267.59 2013.24,1254.47 2011.55,1241.34 2009.75,1228.21 2008.17,1217.31 \n  2007.85,1215.09 2005.82,1201.96 2003.72,1188.83 2001.54,1175.71 1999.3,1162.58 1997.01,1149.45 1994.69,1136.33 1992.33,1123.2 1989.96,1110.07 1989.76,1108.97 \n  1987.56,1096.95 1985.15,1083.82 1982.77,1070.7 1980.42,1057.57 1978.11,1044.44 1975.86,1031.32 1973.68,1018.19 1971.57,1005.06 1971.35,1003.63 1969.53,991.937 \n  1967.57,978.81 1965.73,965.684 1964.01,952.557 1962.42,939.431 1960.96,926.304 1959.64,913.178 1958.48,900.051 1957.47,886.925 1956.62,873.799 1955.93,860.672 \n  1955.41,847.546 1955.07,834.419 1954.89,821.293 1954.89,808.166 1955.07,795.04 1955.41,781.913 1955.93,768.787 1956.62,755.66 1957.47,742.534 1958.48,729.408 \n  1959.64,716.281 1960.96,703.155 1962.42,690.028 1964.01,676.902 1965.73,663.775 1967.57,650.649 1969.53,637.522 1971.35,625.825 1971.57,624.396 1973.68,611.269 \n  1975.86,598.143 1978.11,585.016 1980.42,571.89 1982.77,558.764 1985.15,545.637 1987.56,532.511 1989.76,520.489 1989.96,519.384 1992.33,506.258 1994.69,493.131 \n  1997.01,480.005 1999.3,466.878 2001.54,453.752 2003.72,440.625 2005.82,427.499 2007.85,414.373 2008.17,412.151 2009.75,401.246 2011.55,388.12 2013.24,374.993 \n  2014.81,361.867 2016.26,348.74 2017.57,335.614 2018.74,322.487 2019.77,309.361 2020.64,296.234 2021.36,283.108 2021.92,269.981 2022.32,256.855 2022.56,243.729 \n  2022.63,230.602 2022.54,217.476 2022.28,204.349 2021.86,191.223 2021.27,178.096 2020.53,164.97 \n  \"/>\n<polyline clip-path=\"url(#clip8803)\" style=\"stroke:#f3e258; stroke-width:4; stroke-opacity:1; fill:none\" points=\"\n  2026.58,511.949 2025.26,519.384 2022.93,532.511 2020.6,545.637 2018.29,558.764 2016.01,571.89 2013.78,585.016 2011.6,598.143 2009.49,611.269 2008.17,619.717 \n  2007.44,624.396 2005.45,637.522 2003.57,650.649 2001.78,663.775 2000.12,676.902 1998.58,690.028 1997.17,703.155 1995.9,716.281 1994.77,729.408 1993.79,742.534 \n  1992.97,755.66 1992.31,768.787 1991.81,781.913 1991.47,795.04 1991.31,808.166 1991.31,821.293 1991.47,834.419 1991.81,847.546 1992.31,860.672 1992.97,873.799 \n  1993.79,886.925 1994.77,900.051 1995.9,913.178 1997.17,926.304 1998.58,939.431 2000.12,952.557 2001.78,965.684 2003.57,978.81 2005.45,991.937 2007.44,1005.06 \n  2008.17,1009.74 2009.49,1018.19 2011.6,1031.32 2013.78,1044.44 2016.01,1057.57 2018.29,1070.7 2020.6,1083.82 2022.93,1096.95 2025.26,1110.07 2026.58,1117.51 \n  \n  \"/>\n<polyline clip-path=\"url(#clip8803)\" style=\"stroke:#0d0829; stroke-width:4; stroke-opacity:1; fill:none\" points=\"\n  1457.81,164.97 1460.18,178.096 1462.05,191.223 1463.4,204.349 1464.23,217.476 1464.53,230.602 1464.3,243.729 1463.55,256.855 1462.27,269.981 1460.47,283.108 \n  1458.17,296.234 1455.89,306.921 1455.32,309.361 1451.73,322.487 1447.63,335.614 1443.04,348.74 1437.98,361.867 1437.48,363.075 1431.98,374.993 1425.47,388.12 \n  1419.07,400.229 1418.47,401.246 1410.32,414.373 1401.78,427.499 1400.66,429.163 1391.93,440.625 1382.25,452.909 1381.49,453.752 1369.36,466.878 1363.84,472.72 \n  1355.84,480.005 1345.43,489.336 1340.39,493.131 1327.02,503.09 1321.79,506.258 1308.61,514.198 1297.51,519.384 1290.2,522.793 1271.79,528.947 1254.4,532.511 \n  1253.38,532.719 1234.97,534.17 1216.56,533.344 1211.52,532.511 1198.15,530.309 1179.74,525.13 1165.18,519.384 1161.33,517.865 1142.92,508.569 1139.14,506.258 \n  1124.52,497.257 1118.78,493.131 1106.11,483.919 1101.38,480.005 1087.7,468.483 1085.99,466.878 1072.35,453.752 1069.29,450.724 1060.02,440.625 1050.88,430.326 \n  1048.57,427.499 1038.29,414.373 1032.47,406.582 1028.77,401.246 1020.15,388.12 1014.06,378.231 1012.19,374.993 1005.16,361.867 998.688,348.74 995.648,341.945 \n  992.982,335.614 988.045,322.487 983.721,309.361 980.033,296.234 977.239,284.145 977.012,283.108 974.773,269.981 973.18,256.855 972.238,243.729 971.954,230.602 \n  972.329,217.476 973.361,204.349 975.044,191.223 977.239,178.839 977.378,178.096 980.503,164.97 \n  \"/>\n<polyline clip-path=\"url(#clip8803)\" style=\"stroke:#fabf26; stroke-width:4; stroke-opacity:1; fill:none\" points=\"\n  204.037,443.031 206.343,453.752 209.246,466.878 212.214,480.005 215.231,493.131 218.284,506.258 221.357,519.384 222.447,524.034 224.489,532.511 227.64,545.637 \n  230.764,558.764 233.845,571.89 236.868,585.016 239.818,598.143 240.856,602.904 242.73,611.269 245.567,624.396 248.284,637.522 250.868,650.649 253.306,663.775 \n  255.587,676.902 257.698,690.028 259.266,700.681 259.64,703.155 261.43,716.281 263.016,729.408 264.391,742.534 265.547,755.66 266.479,768.787 267.182,781.913 \n  267.653,795.04 267.888,808.166 267.888,821.293 267.653,834.419 267.182,847.546 266.479,860.672 265.547,873.799 264.391,886.925 263.016,900.051 261.43,913.178 \n  259.64,926.304 259.266,928.778 257.698,939.431 255.587,952.557 253.306,965.684 250.868,978.81 248.284,991.937 245.567,1005.06 242.73,1018.19 240.856,1026.55 \n  239.818,1031.32 236.868,1044.44 233.845,1057.57 230.764,1070.7 227.64,1083.82 224.489,1096.95 222.447,1105.43 221.357,1110.07 218.284,1123.2 215.231,1136.33 \n  212.214,1149.45 209.246,1162.58 206.343,1175.71 204.037,1186.43 \n  \"/>\n<polyline clip-path=\"url(#clip8803)\" style=\"stroke:#f3e258; stroke-width:4; stroke-opacity:1; fill:none\" points=\"\n  204.037,977.006 206.029,965.684 208.188,952.557 210.187,939.431 212.016,926.304 213.665,913.178 215.127,900.051 216.393,886.925 217.459,873.799 218.317,860.672 \n  218.965,847.546 219.399,834.419 219.616,821.293 219.616,808.166 219.399,795.04 218.965,781.913 218.317,768.787 217.459,755.66 216.393,742.534 215.127,729.408 \n  213.665,716.281 212.016,703.155 210.187,690.028 208.188,676.902 206.029,663.775 204.037,652.453 \n  \"/>\n<defs>\n  <clipPath id=\"clip8804\">\n    <rect x=\"2129\" y=\"125\" width=\"73\" height=\"1378\"/>\n  </clipPath>\n</defs>\n<g clip-path=\"url(#clip8804)\">\n<image width=\"72\" height=\"1377\" xlink:href=\"data:image/png;base64,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\n\" transform=\"translate(2129, 126)\"/>\n</g>\n<g clip-path=\"url(#clip8801)\">\n<text style=\"fill:#000000; fill-opacity:1; font-family:Arial,Helvetica Neue,Helvetica,sans-serif; font-size:48px; text-anchor:start;\" transform=\"rotate(0, 2237.26, 1402.68)\" x=\"2237.26\" y=\"1402.68\">0</text>\n</g>\n<g clip-path=\"url(#clip8801)\">\n<text style=\"fill:#000000; fill-opacity:1; font-family:Arial,Helvetica Neue,Helvetica,sans-serif; font-size:48px; text-anchor:start;\" transform=\"rotate(0, 2237.26, 1170.5)\" x=\"2237.26\" y=\"1170.5\">2.5</text>\n</g>\n<g clip-path=\"url(#clip8801)\">\n<text style=\"fill:#000000; fill-opacity:1; font-family:Arial,Helvetica Neue,Helvetica,sans-serif; font-size:48px; text-anchor:start;\" transform=\"rotate(0, 2237.26, 938.33)\" x=\"2237.26\" y=\"938.33\">5.0</text>\n</g>\n<g clip-path=\"url(#clip8801)\">\n<text style=\"fill:#000000; fill-opacity:1; font-family:Arial,Helvetica Neue,Helvetica,sans-serif; font-size:48px; text-anchor:start;\" transform=\"rotate(0, 2237.26, 706.155)\" x=\"2237.26\" y=\"706.155\">7.5</text>\n</g>\n<g clip-path=\"url(#clip8801)\">\n<text style=\"fill:#000000; fill-opacity:1; font-family:Arial,Helvetica Neue,Helvetica,sans-serif; font-size:48px; text-anchor:start;\" transform=\"rotate(0, 2237.26, 473.981)\" x=\"2237.26\" y=\"473.981\">10.0</text>\n</g>\n<g clip-path=\"url(#clip8801)\">\n<text style=\"fill:#000000; fill-opacity:1; font-family:Arial,Helvetica Neue,Helvetica,sans-serif; font-size:48px; text-anchor:start;\" transform=\"rotate(0, 2237.26, 241.807)\" x=\"2237.26\" y=\"241.807\">12.5</text>\n</g>\n<polyline clip-path=\"url(#clip8801)\" style=\"stroke:#000000; stroke-width:4; stroke-opacity:1; fill:none\" points=\"\n  2201.26,1503.47 2201.26,1389.03 2225.26,1389.03 2201.26,1389.03 2201.26,1156.85 2225.26,1156.85 2201.26,1156.85 2201.26,924.679 2225.26,924.679 2201.26,924.679 \n  2201.26,692.504 2225.26,692.504 2201.26,692.504 2201.26,460.33 2225.26,460.33 2201.26,460.33 2201.26,228.156 2225.26,228.156 2201.26,228.156 2201.26,125.984 \n  \n  \"/>\n<polyline clip-path=\"url(#clip8803)\" style=\"stroke:#e26f46; stroke-width:4; stroke-opacity:1; fill:none\" points=\"\n  594.583,721.907 913.826,681.522 1101.67,627.348 1185.71,560.194 1216.72,486.489 1227.29,416.924 1230.8,360.031 1231.96,318.097 1232.34,289.008 1232.46,269.435 \n  1232.5,256.449 1232.52,247.888 1232.52,242.259 1232.52,238.562 1232.52,236.136 1232.52,234.544 1232.52,233.5 1232.52,232.814 1232.52,232.365 1232.52,232.069 \n  1232.52,231.876 1232.52,231.749 1232.52,231.666 1232.52,231.611 1232.52,231.575 1232.52,231.551 1232.52,231.536 1232.52,231.526 1232.52,231.519 1232.52,231.515 \n  1232.52,231.512 1232.52,231.51 1232.52,231.509 1232.52,231.508 1232.52,231.508 1232.52,231.507 1232.52,231.507 1232.52,231.507 1232.52,231.507 1232.52,231.507 \n  \n  \"/>\n<polyline clip-path=\"url(#clip8803)\" style=\"stroke:#3da44d; stroke-width:4; stroke-opacity:1; fill:none\" points=\"\n  594.583,721.907 1232.52,814.729 \n  \"/>\n<g clip-path=\"url(#clip8804)\">\n<image width=\"72\" height=\"1377\" xlink:href=\"data:image/png;base64,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\nhZDv0WLW22sAAAAASUVORK5CYII=\n\" transform=\"translate(2129, 126)\"/>\n</g>\n<g clip-path=\"url(#clip8801)\">\n<text style=\"fill:#000000; fill-opacity:1; font-family:Arial,Helvetica Neue,Helvetica,sans-serif; font-size:48px; text-anchor:start;\" transform=\"rotate(0, 2237.26, 1402.68)\" x=\"2237.26\" y=\"1402.68\">0</text>\n</g>\n<g clip-path=\"url(#clip8801)\">\n<text style=\"fill:#000000; fill-opacity:1; font-family:Arial,Helvetica Neue,Helvetica,sans-serif; font-size:48px; text-anchor:start;\" transform=\"rotate(0, 2237.26, 1170.5)\" x=\"2237.26\" y=\"1170.5\">2.5</text>\n</g>\n<g clip-path=\"url(#clip8801)\">\n<text style=\"fill:#000000; fill-opacity:1; font-family:Arial,Helvetica Neue,Helvetica,sans-serif; font-size:48px; text-anchor:start;\" transform=\"rotate(0, 2237.26, 938.33)\" x=\"2237.26\" y=\"938.33\">5.0</text>\n</g>\n<g clip-path=\"url(#clip8801)\">\n<text style=\"fill:#000000; fill-opacity:1; font-family:Arial,Helvetica Neue,Helvetica,sans-serif; font-size:48px; text-anchor:start;\" transform=\"rotate(0, 2237.26, 706.155)\" x=\"2237.26\" y=\"706.155\">7.5</text>\n</g>\n<g clip-path=\"url(#clip8801)\">\n<text style=\"fill:#000000; fill-opacity:1; font-family:Arial,Helvetica Neue,Helvetica,sans-serif; font-size:48px; text-anchor:start;\" transform=\"rotate(0, 2237.26, 473.981)\" x=\"2237.26\" y=\"473.981\">10.0</text>\n</g>\n<g clip-path=\"url(#clip8801)\">\n<text style=\"fill:#000000; fill-opacity:1; font-family:Arial,Helvetica Neue,Helvetica,sans-serif; font-size:48px; text-anchor:start;\" transform=\"rotate(0, 2237.26, 241.807)\" x=\"2237.26\" y=\"241.807\">12.5</text>\n</g>\n<polyline clip-path=\"url(#clip8801)\" style=\"stroke:#000000; stroke-width:4; stroke-opacity:1; fill:none\" points=\"\n  2201.26,1503.47 2201.26,1389.03 2225.26,1389.03 2201.26,1389.03 2201.26,1156.85 2225.26,1156.85 2201.26,1156.85 2201.26,924.679 2225.26,924.679 2201.26,924.679 \n  2201.26,692.504 2225.26,692.504 2201.26,692.504 2201.26,460.33 2225.26,460.33 2201.26,460.33 2201.26,228.156 2225.26,228.156 2201.26,228.156 2201.26,125.984 \n  \n  \"/>\n<g clip-path=\"url(#clip8801)\">\n<text style=\"fill:#000000; fill-opacity:1; font-family:Arial,Helvetica Neue,Helvetica,sans-serif; font-size:66px; text-anchor:middle;\" transform=\"rotate(-90, 2378.86, 814.729)\" x=\"2378.86\" y=\"814.729\"></text>\n</g>\n<polygon clip-path=\"url(#clip8801)\" points=\"\n1397.43,390.944 2009.26,390.944 2009.26,209.504 1397.43,209.504 \n  \" fill=\"#ffffff\" fill-rule=\"evenodd\" fill-opacity=\"1\"/>\n<polyline clip-path=\"url(#clip8801)\" style=\"stroke:#000000; stroke-width:4; stroke-opacity:1; fill:none\" points=\"\n  1397.43,390.944 2009.26,390.944 2009.26,209.504 1397.43,209.504 1397.43,390.944 \n  \"/>\n<polyline clip-path=\"url(#clip8801)\" style=\"stroke:#e26f46; stroke-width:4; stroke-opacity:1; fill:none\" points=\"\n  1421.43,269.984 1565.43,269.984 \n  \"/>\n<g clip-path=\"url(#clip8801)\">\n<text style=\"fill:#000000; fill-opacity:1; font-family:Arial,Helvetica Neue,Helvetica,sans-serif; font-size:48px; text-anchor:start;\" transform=\"rotate(0, 1589.43, 287.484)\" x=\"1589.43\" y=\"287.484\">Gradient descent</text>\n</g>\n<polyline clip-path=\"url(#clip8801)\" style=\"stroke:#3da44d; stroke-width:4; stroke-opacity:1; fill:none\" points=\"\n  1421.43,330.464 1565.43,330.464 \n  \"/>\n<g clip-path=\"url(#clip8801)\">\n<text style=\"fill:#000000; fill-opacity:1; font-family:Arial,Helvetica Neue,Helvetica,sans-serif; font-size:48px; text-anchor:start;\" transform=\"rotate(0, 1589.43, 347.964)\" x=\"1589.43\" y=\"347.964\">Newton&apos;s method</text>\n</g>\n</svg>\n"
      ]
     },
     "execution_count": 6,
     "metadata": {},
     "output_type": "execute_result"
    }
   ],
   "source": [
    "x⁽⁰⁾ = [-2., 0.5]\n",
    "xs_gradient_descent = [x⁽⁰⁾]\n",
    "x = gradient_descent(sinusoidal, 0.8, xs_gradient_descent[end], maxiter = 5)\n",
    "while x != xs_gradient_descent[end]\n",
    "    push!(xs_gradient_descent, x)\n",
    "    x = gradient_descent(sinusoidal, 0.8, x, maxiter = 5)\n",
    "end\n",
    "xs_newton = [x⁽⁰⁾]\n",
    "x = newton_optimization(sinusoidal, sinusoidalHessian, xs_newton[end], maxiter = 5)\n",
    "while x != xs_newton[end]\n",
    "    push!(xs_newton, x)\n",
    "    x = newton_optimization(sinusoidal, sinusoidalHessian, x, maxiter = 15)\n",
    "end\n",
    "\n",
    "xs_gradient_descent = hcat(xs_gradient_descent...)'\n",
    "xs_newton = hcat(xs_newton...)'\n",
    "\n",
    "contour(xgrid, xgrid, (x,y) -> sinusoidal([x,y]), title = \"\\$x^{(0)} =\n",
    "(-2, 0.5)\\$\")\n",
    "plot!(xs_gradient_descent[:,1], xs_gradient_descent[:,2], label = \"Gradient descent\")\n",
    "plot!(xs_newton[:,1], xs_newton[:,2], label = \"Newton's method\")"
   ]
  },
  {
   "cell_type": "markdown",
   "metadata": {
    "ein.tags": "worksheet-0",
    "slideshow": {
     "slide_type": "-"
    }
   },
   "source": [
    "We see that while the gradient descent function finds a minimum,\n",
    "Newton's method goes for the saddle point, which is closer."
   ]
  },
  {
   "cell_type": "markdown",
   "metadata": {
    "ein.tags": "worksheet-0",
    "slideshow": {
     "slide_type": "-"
    }
   },
   "source": [
    "#### **Minimum**"
   ]
  },
  {
   "cell_type": "code",
   "execution_count": 7,
   "metadata": {
    "autoscroll": false,
    "collapsed": false,
    "ein.hycell": false,
    "ein.tags": "worksheet-0",
    "slideshow": {
     "slide_type": "-"
    }
   },
   "outputs": [
    {
     "data": {
      "image/svg+xml": [
       "<?xml version=\"1.0\" encoding=\"utf-8\"?>\n<svg xmlns=\"http://www.w3.org/2000/svg\" xmlns:xlink=\"http://www.w3.org/1999/xlink\" width=\"600\" height=\"400\" viewBox=\"0 0 2400 1600\">\n<defs>\n  <clipPath id=\"clip9000\">\n    <rect x=\"0\" y=\"0\" width=\"2000\" height=\"2000\"/>\n  </clipPath>\n</defs>\n<defs>\n  <clipPath id=\"clip9001\">\n    <rect x=\"0\" y=\"0\" width=\"2400\" height=\"1600\"/>\n  </clipPath>\n</defs>\n<polygon clip-path=\"url(#clip9001)\" points=\"\n0,1600 2400,1600 2400,0 0,0 \n  \" fill=\"#ffffff\" fill-rule=\"evenodd\" fill-opacity=\"1\"/>\n<defs>\n  <clipPath id=\"clip9002\">\n    <rect x=\"480\" y=\"0\" width=\"1681\" height=\"1600\"/>\n  </clipPath>\n</defs>\n<polygon clip-path=\"url(#clip9001)\" points=\"\n149.361,1503.47 2081.26,1503.47 2081.26,125.984 149.361,125.984 \n  \" fill=\"#ffffff\" fill-rule=\"evenodd\" fill-opacity=\"1\"/>\n<defs>\n  <clipPath id=\"clip9003\">\n    <rect x=\"149\" y=\"125\" width=\"1933\" height=\"1378\"/>\n  </clipPath>\n</defs>\n<polyline clip-path=\"url(#clip9003)\" style=\"stroke:#000000; stroke-width:2; stroke-opacity:0.1; fill:none\" points=\"\n  334.219,1503.47 334.219,125.984 \n  \"/>\n<polyline clip-path=\"url(#clip9003)\" style=\"stroke:#000000; stroke-width:2; stroke-opacity:0.1; fill:none\" points=\"\n  594.583,1503.47 594.583,125.984 \n  \"/>\n<polyline clip-path=\"url(#clip9003)\" style=\"stroke:#000000; stroke-width:2; stroke-opacity:0.1; fill:none\" points=\"\n  854.946,1503.47 854.946,125.984 \n  \"/>\n<polyline clip-path=\"url(#clip9003)\" style=\"stroke:#000000; stroke-width:2; stroke-opacity:0.1; fill:none\" points=\"\n  1115.31,1503.47 1115.31,125.984 \n  \"/>\n<polyline clip-path=\"url(#clip9003)\" style=\"stroke:#000000; stroke-width:2; stroke-opacity:0.1; fill:none\" points=\"\n  1375.67,1503.47 1375.67,125.984 \n  \"/>\n<polyline clip-path=\"url(#clip9003)\" style=\"stroke:#000000; stroke-width:2; stroke-opacity:0.1; fill:none\" points=\"\n  1636.04,1503.47 1636.04,125.984 \n  \"/>\n<polyline clip-path=\"url(#clip9003)\" style=\"stroke:#000000; stroke-width:2; stroke-opacity:0.1; fill:none\" points=\"\n  1896.4,1503.47 1896.4,125.984 \n  \"/>\n<polyline clip-path=\"url(#clip9003)\" style=\"stroke:#000000; stroke-width:2; stroke-opacity:0.1; fill:none\" points=\"\n  149.361,1371.67 2081.26,1371.67 \n  \"/>\n<polyline clip-path=\"url(#clip9003)\" style=\"stroke:#000000; stroke-width:2; stroke-opacity:0.1; fill:none\" points=\"\n  149.361,1186.02 2081.26,1186.02 \n  \"/>\n<polyline clip-path=\"url(#clip9003)\" style=\"stroke:#000000; stroke-width:2; stroke-opacity:0.1; fill:none\" points=\"\n  149.361,1000.38 2081.26,1000.38 \n  \"/>\n<polyline clip-path=\"url(#clip9003)\" style=\"stroke:#000000; stroke-width:2; stroke-opacity:0.1; fill:none\" points=\"\n  149.361,814.729 2081.26,814.729 \n  \"/>\n<polyline clip-path=\"url(#clip9003)\" style=\"stroke:#000000; stroke-width:2; stroke-opacity:0.1; fill:none\" points=\"\n  149.361,629.084 2081.26,629.084 \n  \"/>\n<polyline clip-path=\"url(#clip9003)\" style=\"stroke:#000000; stroke-width:2; stroke-opacity:0.1; fill:none\" points=\"\n  149.361,443.438 2081.26,443.438 \n  \"/>\n<polyline clip-path=\"url(#clip9003)\" style=\"stroke:#000000; stroke-width:2; stroke-opacity:0.1; fill:none\" points=\"\n  149.361,257.793 2081.26,257.793 \n  \"/>\n<polyline clip-path=\"url(#clip9001)\" style=\"stroke:#000000; stroke-width:4; stroke-opacity:1; fill:none\" points=\"\n  149.361,1503.47 2081.26,1503.47 \n  \"/>\n<polyline clip-path=\"url(#clip9001)\" style=\"stroke:#000000; stroke-width:4; stroke-opacity:1; fill:none\" points=\"\n  149.361,1503.47 149.361,125.984 \n  \"/>\n<polyline clip-path=\"url(#clip9001)\" style=\"stroke:#000000; stroke-width:4; stroke-opacity:1; fill:none\" points=\"\n  334.219,1503.47 334.219,1482.81 \n  \"/>\n<polyline clip-path=\"url(#clip9001)\" style=\"stroke:#000000; stroke-width:4; stroke-opacity:1; fill:none\" points=\"\n  594.583,1503.47 594.583,1482.81 \n  \"/>\n<polyline clip-path=\"url(#clip9001)\" style=\"stroke:#000000; stroke-width:4; stroke-opacity:1; fill:none\" points=\"\n  854.946,1503.47 854.946,1482.81 \n  \"/>\n<polyline clip-path=\"url(#clip9001)\" style=\"stroke:#000000; stroke-width:4; stroke-opacity:1; fill:none\" points=\"\n  1115.31,1503.47 1115.31,1482.81 \n  \"/>\n<polyline clip-path=\"url(#clip9001)\" style=\"stroke:#000000; stroke-width:4; stroke-opacity:1; fill:none\" points=\"\n  1375.67,1503.47 1375.67,1482.81 \n  \"/>\n<polyline clip-path=\"url(#clip9001)\" style=\"stroke:#000000; stroke-width:4; stroke-opacity:1; fill:none\" points=\"\n  1636.04,1503.47 1636.04,1482.81 \n  \"/>\n<polyline clip-path=\"url(#clip9001)\" style=\"stroke:#000000; stroke-width:4; stroke-opacity:1; fill:none\" points=\"\n  1896.4,1503.47 1896.4,1482.81 \n  \"/>\n<polyline clip-path=\"url(#clip9001)\" style=\"stroke:#000000; stroke-width:4; stroke-opacity:1; fill:none\" points=\"\n  149.361,1371.67 178.339,1371.67 \n  \"/>\n<polyline clip-path=\"url(#clip9001)\" style=\"stroke:#000000; stroke-width:4; stroke-opacity:1; fill:none\" points=\"\n  149.361,1186.02 178.339,1186.02 \n  \"/>\n<polyline clip-path=\"url(#clip9001)\" style=\"stroke:#000000; stroke-width:4; stroke-opacity:1; fill:none\" points=\"\n  149.361,1000.38 178.339,1000.38 \n  \"/>\n<polyline clip-path=\"url(#clip9001)\" style=\"stroke:#000000; stroke-width:4; stroke-opacity:1; fill:none\" points=\"\n  149.361,814.729 178.339,814.729 \n  \"/>\n<polyline clip-path=\"url(#clip9001)\" style=\"stroke:#000000; stroke-width:4; stroke-opacity:1; fill:none\" points=\"\n  149.361,629.084 178.339,629.084 \n  \"/>\n<polyline clip-path=\"url(#clip9001)\" style=\"stroke:#000000; stroke-width:4; stroke-opacity:1; fill:none\" points=\"\n  149.361,443.438 178.339,443.438 \n  \"/>\n<polyline clip-path=\"url(#clip9001)\" style=\"stroke:#000000; stroke-width:4; stroke-opacity:1; fill:none\" points=\"\n  149.361,257.793 178.339,257.793 \n  \"/>\n<g clip-path=\"url(#clip9001)\">\n<text style=\"fill:#000000; fill-opacity:1; font-family:Arial,Helvetica Neue,Helvetica,sans-serif; font-size:48px; text-anchor:middle;\" transform=\"rotate(0, 334.219, 1557.47)\" x=\"334.219\" y=\"1557.47\">-3</text>\n</g>\n<g clip-path=\"url(#clip9001)\">\n<text style=\"fill:#000000; fill-opacity:1; font-family:Arial,Helvetica Neue,Helvetica,sans-serif; font-size:48px; text-anchor:middle;\" transform=\"rotate(0, 594.583, 1557.47)\" x=\"594.583\" y=\"1557.47\">-2</text>\n</g>\n<g clip-path=\"url(#clip9001)\">\n<text style=\"fill:#000000; fill-opacity:1; font-family:Arial,Helvetica Neue,Helvetica,sans-serif; font-size:48px; text-anchor:middle;\" transform=\"rotate(0, 854.946, 1557.47)\" x=\"854.946\" y=\"1557.47\">-1</text>\n</g>\n<g clip-path=\"url(#clip9001)\">\n<text style=\"fill:#000000; fill-opacity:1; font-family:Arial,Helvetica Neue,Helvetica,sans-serif; font-size:48px; text-anchor:middle;\" transform=\"rotate(0, 1115.31, 1557.47)\" x=\"1115.31\" y=\"1557.47\">0</text>\n</g>\n<g clip-path=\"url(#clip9001)\">\n<text style=\"fill:#000000; fill-opacity:1; font-family:Arial,Helvetica Neue,Helvetica,sans-serif; font-size:48px; text-anchor:middle;\" transform=\"rotate(0, 1375.67, 1557.47)\" x=\"1375.67\" y=\"1557.47\">1</text>\n</g>\n<g clip-path=\"url(#clip9001)\">\n<text style=\"fill:#000000; fill-opacity:1; font-family:Arial,Helvetica Neue,Helvetica,sans-serif; font-size:48px; text-anchor:middle;\" transform=\"rotate(0, 1636.04, 1557.47)\" x=\"1636.04\" y=\"1557.47\">2</text>\n</g>\n<g clip-path=\"url(#clip9001)\">\n<text style=\"fill:#000000; fill-opacity:1; font-family:Arial,Helvetica Neue,Helvetica,sans-serif; font-size:48px; text-anchor:middle;\" transform=\"rotate(0, 1896.4, 1557.47)\" x=\"1896.4\" y=\"1557.47\">3</text>\n</g>\n<g clip-path=\"url(#clip9001)\">\n<text style=\"fill:#000000; fill-opacity:1; font-family:Arial,Helvetica Neue,Helvetica,sans-serif; font-size:48px; text-anchor:end;\" transform=\"rotate(0, 125.361, 1389.17)\" x=\"125.361\" y=\"1389.17\">-3</text>\n</g>\n<g clip-path=\"url(#clip9001)\">\n<text style=\"fill:#000000; fill-opacity:1; font-family:Arial,Helvetica Neue,Helvetica,sans-serif; font-size:48px; text-anchor:end;\" transform=\"rotate(0, 125.361, 1203.52)\" x=\"125.361\" y=\"1203.52\">-2</text>\n</g>\n<g clip-path=\"url(#clip9001)\">\n<text style=\"fill:#000000; fill-opacity:1; font-family:Arial,Helvetica Neue,Helvetica,sans-serif; font-size:48px; text-anchor:end;\" transform=\"rotate(0, 125.361, 1017.88)\" x=\"125.361\" y=\"1017.88\">-1</text>\n</g>\n<g clip-path=\"url(#clip9001)\">\n<text style=\"fill:#000000; fill-opacity:1; font-family:Arial,Helvetica Neue,Helvetica,sans-serif; font-size:48px; text-anchor:end;\" transform=\"rotate(0, 125.361, 832.229)\" x=\"125.361\" y=\"832.229\">0</text>\n</g>\n<g clip-path=\"url(#clip9001)\">\n<text style=\"fill:#000000; fill-opacity:1; font-family:Arial,Helvetica Neue,Helvetica,sans-serif; font-size:48px; text-anchor:end;\" transform=\"rotate(0, 125.361, 646.584)\" x=\"125.361\" y=\"646.584\">1</text>\n</g>\n<g clip-path=\"url(#clip9001)\">\n<text style=\"fill:#000000; fill-opacity:1; font-family:Arial,Helvetica Neue,Helvetica,sans-serif; font-size:48px; text-anchor:end;\" transform=\"rotate(0, 125.361, 460.938)\" x=\"125.361\" y=\"460.938\">2</text>\n</g>\n<g clip-path=\"url(#clip9001)\">\n<text style=\"fill:#000000; fill-opacity:1; font-family:Arial,Helvetica Neue,Helvetica,sans-serif; font-size:48px; text-anchor:end;\" transform=\"rotate(0, 125.361, 275.293)\" x=\"125.361\" y=\"275.293\">3</text>\n</g>\n<g clip-path=\"url(#clip9001)\">\n<image width=\"487\" height=\"99\" xlink:href=\"data:image/png;base64,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\n\" transform=\"translate(872, -1)\"/>\n</g>\n<polyline clip-path=\"url(#clip9003)\" style=\"stroke:#fb9c07; stroke-width:4; stroke-opacity:1; fill:none\" points=\"\n  227.729,1464.49 226.725,1451.36 225.936,1438.24 225.364,1425.11 225.014,1411.98 224.887,1398.86 224.983,1385.73 225.303,1372.6 225.844,1359.48 226.604,1346.35 \n  227.578,1333.22 228.763,1320.1 230.152,1306.97 231.739,1293.85 233.514,1280.72 235.47,1267.59 237.597,1254.47 239.884,1241.34 240.856,1236.1 242.36,1228.21 \n  245.003,1215.09 247.773,1201.96 250.656,1188.83 253.638,1175.71 256.704,1162.58 259.266,1151.85 259.855,1149.45 263.13,1136.33 266.443,1123.2 269.777,1110.07 \n  273.116,1096.95 276.443,1083.82 277.675,1078.92 279.799,1070.7 283.141,1057.57 286.421,1044.44 289.621,1031.32 292.726,1018.19 295.72,1005.06 296.085,1003.39 \n  298.656,991.937 301.458,978.81 304.102,965.684 306.575,952.557 308.864,939.431 310.959,926.304 312.847,913.178 314.494,900.262 314.522,900.051 316.012,886.925 \n  317.264,873.799 318.274,860.672 319.036,847.546 319.546,834.419 319.802,821.293 319.802,808.166 319.546,795.04 319.036,781.913 318.274,768.787 317.264,755.66 \n  316.012,742.534 314.522,729.408 314.494,729.197 312.847,716.281 310.959,703.155 308.864,690.028 306.575,676.902 304.102,663.775 301.458,650.649 298.656,637.522 \n  296.085,626.065 295.72,624.396 292.726,611.269 289.621,598.143 286.421,585.016 283.141,571.89 279.799,558.764 277.675,550.539 276.443,545.637 273.116,532.511 \n  269.777,519.384 266.443,506.258 263.13,493.131 259.855,480.005 259.266,477.605 256.704,466.878 253.638,453.752 250.656,440.625 247.773,427.499 245.003,414.373 \n  242.36,401.246 240.856,393.359 239.884,388.12 237.597,374.993 235.47,361.867 233.514,348.74 231.739,335.614 230.152,322.487 228.763,309.361 227.578,296.234 \n  226.604,283.108 225.844,269.981 225.303,256.855 224.983,243.729 224.887,230.602 225.014,217.476 225.364,204.349 225.936,191.223 226.725,178.096 227.729,164.97 \n  \n  \"/>\n<polyline clip-path=\"url(#clip9003)\" style=\"stroke:#f57d15; stroke-width:4; stroke-opacity:1; fill:none\" points=\"\n  276.538,164.97 275.478,178.096 274.644,191.223 274.041,204.349 273.671,217.476 273.537,230.602 273.639,243.729 273.976,256.855 274.547,269.981 275.35,283.108 \n  276.379,296.234 277.63,309.361 277.675,309.766 279.136,322.487 280.857,335.614 282.783,348.74 284.905,361.867 287.212,374.993 289.693,388.12 292.335,401.246 \n  295.125,414.373 296.085,418.68 298.103,427.499 301.229,440.625 304.462,453.752 307.787,466.878 311.185,480.005 314.494,492.573 314.645,493.131 318.235,506.258 \n  321.848,519.384 325.467,532.511 329.072,545.637 332.647,558.764 332.904,559.721 336.259,571.89 339.811,585.016 343.276,598.143 346.638,611.269 349.88,624.396 \n  351.313,630.455 353.03,637.522 356.061,650.649 358.922,663.775 361.597,676.902 364.074,690.028 366.34,703.155 368.383,716.281 369.723,725.992 370.206,729.408 \n  371.817,742.534 373.171,755.66 374.262,768.787 375.086,781.913 375.637,795.04 375.914,808.166 375.914,821.293 375.637,834.419 375.086,847.546 374.262,860.672 \n  373.171,873.799 371.817,886.925 370.206,900.051 369.723,903.467 368.383,913.178 366.34,926.304 364.074,939.431 361.597,952.557 358.922,965.684 356.061,978.81 \n  353.03,991.937 351.313,999.004 349.88,1005.06 346.638,1018.19 343.276,1031.32 339.811,1044.44 336.259,1057.57 332.904,1069.74 332.647,1070.7 329.072,1083.82 \n  325.467,1096.95 321.848,1110.07 318.235,1123.2 314.645,1136.33 314.494,1136.89 311.185,1149.45 307.787,1162.58 304.462,1175.71 301.229,1188.83 298.103,1201.96 \n  296.085,1210.78 295.125,1215.09 292.335,1228.21 289.693,1241.34 287.212,1254.47 284.905,1267.59 282.783,1280.72 280.857,1293.85 279.136,1306.97 277.675,1319.69 \n  277.63,1320.1 276.379,1333.22 275.35,1346.35 274.547,1359.48 273.976,1372.6 273.639,1385.73 273.537,1398.86 273.671,1411.98 274.041,1425.11 274.644,1438.24 \n  275.478,1451.36 276.538,1464.49 \n  \"/>\n<polyline clip-path=\"url(#clip9003)\" style=\"stroke:#e65e2d; stroke-width:4; stroke-opacity:1; fill:none\" points=\"\n  329.175,1464.49 328.026,1451.36 327.123,1438.24 326.469,1425.11 326.068,1411.98 325.923,1398.86 326.033,1385.73 326.399,1372.6 327.018,1359.48 327.887,1346.35 \n  329.002,1333.22 330.358,1320.1 331.947,1306.97 332.904,1300.05 333.785,1293.85 335.871,1280.72 338.169,1267.59 340.667,1254.47 343.354,1241.34 346.215,1228.21 \n  349.236,1215.09 351.313,1206.47 352.431,1201.96 355.813,1188.83 359.311,1175.71 362.908,1162.58 366.585,1149.45 369.723,1138.44 370.34,1136.33 374.22,1123.2 \n  378.126,1110.07 382.037,1096.95 385.934,1083.82 388.133,1076.35 389.84,1070.7 393.749,1057.57 397.583,1044.44 401.325,1031.32 404.955,1018.19 406.542,1012.24 \n  408.504,1005.06 411.942,991.937 415.212,978.81 418.298,965.684 421.183,952.557 423.855,939.431 424.952,933.54 426.332,926.304 428.591,913.178 430.593,900.051 \n  432.327,886.925 433.787,873.799 434.963,860.672 435.85,847.546 436.444,834.419 436.742,821.293 436.742,808.166 436.444,795.04 435.85,781.913 434.963,768.787 \n  433.787,755.66 432.327,742.534 430.593,729.408 428.591,716.281 426.332,703.155 424.952,695.919 423.855,690.028 421.183,676.902 418.298,663.775 415.212,650.649 \n  411.942,637.522 408.504,624.396 406.542,617.219 404.955,611.269 401.325,598.143 397.583,585.016 393.749,571.89 389.84,558.764 388.133,553.107 385.934,545.637 \n  382.037,532.511 378.126,519.384 374.22,506.258 370.34,493.131 369.723,491.021 366.585,480.005 362.908,466.878 359.311,453.752 355.813,440.625 352.431,427.499 \n  351.313,422.986 349.236,414.373 346.215,401.246 343.354,388.12 340.667,374.993 338.169,361.867 335.871,348.74 333.785,335.614 332.904,329.404 331.947,322.487 \n  330.358,309.361 329.002,296.234 327.887,283.108 327.018,269.981 326.399,256.855 326.033,243.729 325.923,230.602 326.068,217.476 326.469,204.349 327.123,191.223 \n  328.026,178.096 329.175,164.97 \n  \"/>\n<polyline clip-path=\"url(#clip9003)\" style=\"stroke:#d24742; stroke-width:4; stroke-opacity:1; fill:none\" points=\"\n  386.045,164.97 384.803,178.096 383.826,191.223 383.12,204.349 382.687,217.476 382.529,230.602 382.649,243.729 383.044,256.855 383.713,269.981 384.653,283.108 \n  385.858,296.234 387.324,309.361 388.133,315.542 389.065,322.487 391.077,335.614 393.329,348.74 395.81,361.867 398.508,374.993 401.409,388.12 404.498,401.246 \n  406.542,409.471 407.791,414.373 411.296,427.499 414.945,440.625 418.718,453.752 422.597,466.878 424.952,474.671 426.603,480.005 430.736,493.131 434.917,506.258 \n  439.125,519.384 443.339,532.511 443.361,532.581 447.639,545.637 451.903,558.764 456.109,571.89 460.236,585.016 461.771,590.02 464.322,598.143 468.323,611.269 \n  472.18,624.396 475.875,637.522 479.39,650.649 480.18,653.778 482.766,663.775 485.941,676.902 488.88,690.028 491.568,703.155 493.993,716.281 496.142,729.408 \n  498.005,742.534 498.59,747.438 499.594,755.66 500.886,768.787 501.86,781.913 502.513,795.04 502.84,808.166 502.84,821.293 502.513,834.419 501.86,847.546 \n  500.886,860.672 499.594,873.799 498.59,882.021 498.005,886.925 496.142,900.051 493.993,913.178 491.568,926.304 488.88,939.431 485.941,952.557 482.766,965.684 \n  480.18,975.681 479.39,978.81 475.875,991.937 472.18,1005.06 468.323,1018.19 464.322,1031.32 461.771,1039.44 460.236,1044.44 456.109,1057.57 451.903,1070.7 \n  447.639,1083.82 443.361,1096.88 443.339,1096.95 439.125,1110.07 434.917,1123.2 430.736,1136.33 426.603,1149.45 424.952,1154.79 422.597,1162.58 418.718,1175.71 \n  414.945,1188.83 411.296,1201.96 407.791,1215.09 406.542,1219.99 404.498,1228.21 401.409,1241.34 398.508,1254.47 395.81,1267.59 393.329,1280.72 391.077,1293.85 \n  389.065,1306.97 388.133,1313.92 387.324,1320.1 385.858,1333.22 384.653,1346.35 383.713,1359.48 383.044,1372.6 382.649,1385.73 382.529,1398.86 382.687,1411.98 \n  383.12,1425.11 383.826,1438.24 384.803,1451.36 386.045,1464.49 \n  \"/>\n<polyline clip-path=\"url(#clip9003)\" style=\"stroke:#ba3655; stroke-width:4; stroke-opacity:1; fill:none\" points=\"\n  447.762,1464.49 446.391,1451.36 445.313,1438.24 444.534,1425.11 444.056,1411.98 443.882,1398.86 444.014,1385.73 444.45,1372.6 445.188,1359.48 446.225,1346.35 \n  447.556,1333.22 449.173,1320.1 451.069,1306.97 453.234,1293.85 455.658,1280.72 458.328,1267.59 461.231,1254.47 461.771,1252.2 464.415,1241.34 467.819,1228.21 \n  471.413,1215.09 475.181,1201.96 479.102,1188.83 480.18,1185.34 483.228,1175.71 487.496,1162.58 491.859,1149.45 496.296,1136.33 498.59,1129.62 500.836,1123.2 \n  505.458,1110.07 510.086,1096.95 514.698,1083.82 517,1077.22 519.323,1070.7 523.935,1057.57 528.461,1044.44 532.878,1031.32 535.409,1023.56 537.202,1018.19 \n  541.426,1005.06 545.473,991.937 549.323,978.81 552.955,965.684 553.819,962.345 556.408,952.557 559.622,939.431 562.563,926.304 565.215,913.178 567.566,900.051 \n  569.603,886.925 571.316,873.799 572.228,865.127 572.707,860.672 573.772,847.546 574.485,834.419 574.842,821.293 574.842,808.166 574.485,795.04 573.772,781.913 \n  572.707,768.787 572.228,764.332 571.316,755.66 569.603,742.534 567.566,729.408 565.215,716.281 562.563,703.155 559.622,690.028 556.408,676.902 553.819,667.114 \n  552.955,663.775 549.323,650.649 545.473,637.522 541.426,624.396 537.202,611.269 535.409,605.898 532.878,598.143 528.461,585.016 523.935,571.89 519.323,558.764 \n  517,552.243 514.698,545.637 510.086,532.511 505.458,519.384 500.836,506.258 498.59,499.839 496.296,493.131 491.859,480.005 487.496,466.878 483.228,453.752 \n  480.18,444.115 479.102,440.625 475.181,427.499 471.413,414.373 467.819,401.246 464.415,388.12 461.771,377.262 461.231,374.993 458.328,361.867 455.658,348.74 \n  453.234,335.614 451.069,322.487 449.173,309.361 447.556,296.234 446.225,283.108 445.188,269.981 444.45,256.855 444.014,243.729 443.882,230.602 444.056,217.476 \n  444.534,204.349 445.313,191.223 446.391,178.096 447.762,164.97 \n  \"/>\n<polyline clip-path=\"url(#clip9003)\" style=\"stroke:#9e2a62; stroke-width:4; stroke-opacity:1; fill:none\" points=\"\n  514.83,164.97 513.36,178.096 512.204,191.223 511.368,204.349 510.856,217.476 510.669,230.602 510.81,243.729 511.278,256.855 512.07,269.981 513.182,283.108 \n  514.609,296.234 516.343,309.361 517,313.6 518.408,322.487 520.782,335.614 523.441,348.74 526.369,361.867 529.553,374.993 532.977,388.12 535.409,396.877 \n  536.65,401.246 540.587,414.373 544.713,427.499 549.008,440.625 553.449,453.752 553.819,454.814 558.109,466.878 562.881,480.005 567.734,493.131 572.228,505.148 \n  572.653,506.258 577.702,519.384 582.758,532.511 587.797,545.637 590.638,553.103 592.839,558.764 597.873,571.89 602.813,585.016 607.632,598.143 609.047,602.115 \n  612.379,611.269 616.986,624.396 621.4,637.522 625.597,650.649 627.457,656.811 629.604,663.775 633.389,676.902 636.893,690.028 640.098,703.155 642.989,716.281 \n  645.551,729.408 645.866,731.274 647.812,742.534 649.72,755.66 651.258,768.787 652.419,781.913 653.195,795.04 653.585,808.166 653.585,821.293 653.195,834.419 \n  652.419,847.546 651.258,860.672 649.72,873.799 647.812,886.925 645.866,898.185 645.551,900.051 642.989,913.178 640.098,926.304 636.893,939.431 633.389,952.557 \n  629.604,965.684 627.457,972.648 625.597,978.81 621.4,991.937 616.986,1005.06 612.379,1018.19 609.047,1027.34 607.632,1031.32 602.813,1044.44 597.873,1057.57 \n  592.839,1070.7 590.638,1076.36 587.797,1083.82 582.758,1096.95 577.702,1110.07 572.653,1123.2 572.228,1124.31 567.734,1136.33 562.881,1149.45 558.109,1162.58 \n  553.819,1174.65 553.449,1175.71 549.008,1188.83 544.713,1201.96 540.587,1215.09 536.65,1228.21 535.409,1232.58 532.977,1241.34 529.553,1254.47 526.369,1267.59 \n  523.441,1280.72 520.782,1293.85 518.408,1306.97 517,1315.86 516.343,1320.1 514.609,1333.22 513.182,1346.35 512.07,1359.48 511.278,1372.6 510.81,1385.73 \n  510.669,1398.86 510.856,1411.98 511.368,1425.11 512.204,1438.24 513.36,1451.36 514.83,1464.49 \n  \"/>\n<polyline clip-path=\"url(#clip9003)\" style=\"stroke:#821f6b; stroke-width:4; stroke-opacity:1; fill:none\" points=\"\n  587.94,1464.49 586.335,1451.36 585.072,1438.24 584.158,1425.11 583.599,1411.98 583.395,1398.86 583.549,1385.73 584.06,1372.6 584.925,1359.48 586.14,1346.35 \n  587.699,1333.22 589.593,1320.1 590.638,1313.93 591.84,1306.97 594.432,1293.85 597.333,1280.72 600.529,1267.59 604.004,1254.47 607.74,1241.34 609.047,1237.03 \n  611.778,1228.21 616.071,1215.09 620.571,1201.96 625.254,1188.83 627.457,1182.86 630.155,1175.71 635.243,1162.58 640.445,1149.45 645.734,1136.33 645.866,1136 \n  651.199,1123.2 656.701,1110.07 662.212,1096.95 664.276,1092.01 667.778,1083.82 673.341,1070.7 678.828,1057.57 682.686,1048.16 684.245,1044.44 689.615,1031.32 \n  694.825,1018.19 699.849,1005.06 701.095,1001.66 704.742,991.937 709.423,978.81 713.84,965.684 717.971,952.557 719.505,947.295 721.849,939.431 725.429,926.304 \n  728.657,913.178 731.519,900.051 733.998,886.925 736.084,873.799 737.765,860.672 737.914,859.124 739.06,847.546 739.929,834.419 740.365,821.293 740.365,808.166 \n  739.929,795.04 739.06,781.913 737.914,770.335 737.765,768.787 736.084,755.66 733.998,742.534 731.519,729.408 728.657,716.281 725.429,703.155 721.849,690.028 \n  719.505,682.164 717.971,676.902 713.84,663.775 709.423,650.649 704.742,637.522 701.095,627.795 699.849,624.396 694.825,611.269 689.615,598.143 684.245,585.016 \n  682.686,581.297 678.828,571.89 673.341,558.764 667.778,545.637 664.276,537.445 662.212,532.511 656.701,519.384 651.199,506.258 645.866,493.455 645.734,493.131 \n  640.445,480.005 635.243,466.878 630.155,453.752 627.457,446.595 625.254,440.625 620.571,427.499 616.071,414.373 611.778,401.246 609.047,392.431 607.74,388.12 \n  604.004,374.993 600.529,361.867 597.333,348.74 594.432,335.614 591.84,322.487 590.638,315.533 589.593,309.361 587.699,296.234 586.14,283.108 584.925,269.981 \n  584.06,256.855 583.549,243.729 583.395,230.602 583.599,217.476 584.158,204.349 585.072,191.223 586.335,178.096 587.94,164.97 \n  \"/>\n<polyline clip-path=\"url(#clip9003)\" style=\"stroke:#63146e; stroke-width:4; stroke-opacity:1; fill:none\" points=\"\n  667.937,164.97 666.149,178.096 664.743,191.223 664.276,197.251 663.738,204.349 663.128,217.476 662.906,230.602 663.074,243.729 663.631,256.855 664.276,265.842 \n  664.58,269.981 665.933,283.108 667.669,296.234 669.779,309.361 672.252,322.487 675.077,335.614 678.239,348.74 681.722,361.867 682.686,365.205 685.572,374.993 \n  689.735,388.12 694.169,401.246 698.85,414.373 701.095,420.378 703.817,427.499 709.04,440.625 714.442,453.752 719.505,465.718 720.007,466.878 725.816,480.005 \n  731.724,493.131 737.7,506.258 737.914,506.726 743.852,519.384 750.019,532.511 756.164,545.637 756.324,545.981 762.403,558.764 768.56,571.89 774.602,585.016 \n  774.733,585.309 780.646,598.143 786.513,611.269 792.17,624.396 793.143,626.752 797.71,637.522 803.004,650.649 807.999,663.775 811.552,673.759 812.703,676.902 \n  817.151,690.028 821.22,703.155 824.89,716.281 828.142,729.408 829.962,737.882 830.991,742.534 833.433,755.66 835.402,768.787 836.887,781.913 837.881,795.04 \n  838.379,808.166 838.379,821.293 837.881,834.419 836.887,847.546 835.402,860.672 833.433,873.799 830.991,886.925 829.962,891.577 828.142,900.051 824.89,913.178 \n  821.22,926.304 817.151,939.431 812.703,952.557 811.552,955.7 807.999,965.684 803.004,978.81 797.71,991.937 793.143,1002.71 792.17,1005.06 786.513,1018.19 \n  780.646,1031.32 774.733,1044.15 774.602,1044.44 768.56,1057.57 762.403,1070.7 756.324,1083.48 756.164,1083.82 750.019,1096.95 743.852,1110.07 737.914,1122.73 \n  737.7,1123.2 731.724,1136.33 725.816,1149.45 720.007,1162.58 719.505,1163.74 714.442,1175.71 709.04,1188.83 703.817,1201.96 701.095,1209.08 698.85,1215.09 \n  694.169,1228.21 689.735,1241.34 685.572,1254.47 682.686,1264.25 681.722,1267.59 678.239,1280.72 675.077,1293.85 672.252,1306.97 669.779,1320.1 667.669,1333.22 \n  665.933,1346.35 664.58,1359.48 664.276,1363.62 663.631,1372.6 663.074,1385.73 662.906,1398.86 663.128,1411.98 663.738,1425.11 664.276,1432.21 664.743,1438.24 \n  666.149,1451.36 667.937,1464.49 \n  \"/>\n<polyline clip-path=\"url(#clip9003)\" style=\"stroke:#470b69; stroke-width:4; stroke-opacity:1; fill:none\" points=\"\n  756.339,1464.49 756.324,1464.39 754.381,1451.36 752.841,1438.24 751.727,1425.11 751.044,1411.98 750.796,1398.86 750.984,1385.73 751.607,1372.6 752.662,1359.48 \n  754.144,1346.35 756.045,1333.22 756.324,1331.64 758.406,1320.1 761.182,1306.97 764.352,1293.85 767.9,1280.72 771.809,1267.59 774.733,1258.56 776.093,1254.47 \n  780.781,1241.34 785.774,1228.21 791.046,1215.09 793.143,1210.1 796.664,1201.96 802.57,1188.83 808.679,1175.71 811.552,1169.7 815.057,1162.58 821.661,1149.45 \n  828.376,1136.33 829.962,1133.26 835.325,1123.2 842.368,1110.07 848.372,1098.9 849.454,1096.95 856.707,1083.82 863.897,1070.7 866.781,1065.36 871.133,1057.57 \n  878.33,1044.44 885.191,1031.62 885.359,1031.32 892.423,1018.19 899.234,1005.06 903.6,996.281 905.846,991.937 912.299,978.81 918.388,965.684 922.01,957.335 \n  924.172,952.557 929.671,939.431 934.702,926.304 939.239,913.178 940.419,909.324 943.393,900.051 947.041,886.925 950.109,873.799 952.583,860.672 954.448,847.546 \n  955.698,834.419 956.324,821.293 956.324,808.166 955.698,795.04 954.448,781.913 952.583,768.787 950.109,755.66 947.041,742.534 943.393,729.408 940.419,720.135 \n  939.239,716.281 934.702,703.155 929.671,690.028 924.172,676.902 922.01,672.124 918.388,663.775 912.299,650.649 905.846,637.522 903.6,633.178 899.234,624.396 \n  892.423,611.269 885.359,598.143 885.191,597.84 878.33,585.016 871.133,571.89 866.781,564.102 863.897,558.764 856.707,545.637 849.454,532.511 848.372,530.558 \n  842.368,519.384 835.325,506.258 829.962,496.197 828.376,493.131 821.661,480.005 815.057,466.878 811.552,459.757 808.679,453.752 802.57,440.625 796.664,427.499 \n  793.143,419.354 791.046,414.373 785.774,401.246 780.781,388.12 776.093,374.993 774.733,370.898 771.809,361.867 767.9,348.74 764.352,335.614 761.182,322.487 \n  758.406,309.361 756.324,297.82 756.045,296.234 754.144,283.108 752.662,269.981 751.607,256.855 750.984,243.729 750.796,230.602 751.044,217.476 751.727,204.349 \n  752.841,191.223 754.381,178.096 756.324,165.072 756.339,164.97 \n  \"/>\n<polyline clip-path=\"url(#clip9003)\" style=\"stroke:#270b52; stroke-width:4; stroke-opacity:1; fill:none\" points=\"\n  856.913,164.97 854.602,178.096 852.785,191.223 851.47,204.349 850.664,217.476 850.371,230.602 850.593,243.729 851.328,256.855 852.573,269.981 854.322,283.108 \n  856.566,296.234 859.293,309.361 862.49,322.487 866.141,335.614 866.781,337.669 870.346,348.74 875.003,361.867 880.066,374.993 885.191,387.35 885.522,388.12 \n  891.533,401.246 897.881,414.373 903.6,425.657 904.571,427.499 911.77,440.625 919.217,453.752 922.01,458.541 927.082,466.878 935.246,480.005 940.419,488.184 \n  943.695,493.131 952.487,506.258 958.829,515.666 961.464,519.384 970.781,532.511 977.239,541.642 980.224,545.637 989.947,558.764 995.648,566.566 999.781,571.89 \n  1009.78,585.016 1014.06,590.771 1019.92,598.143 1030.04,611.269 1032.47,614.527 1040.38,624.396 1050.47,637.522 1050.88,638.084 1060.87,650.649 1069.29,661.86 \n  1070.87,663.775 1081.02,676.902 1087.7,686.232 1090.73,690.028 1100.34,703.155 1106.11,711.893 1109.4,716.281 1118.15,729.408 1124.52,740.436 1125.93,742.534 \n  1133.38,755.66 1139.38,768.787 1142.92,779.073 1144.11,781.913 1147.78,795.04 1149.62,808.166 1149.62,821.293 1147.78,834.419 1144.11,847.546 1142.92,850.386 \n  1139.38,860.672 1133.38,873.799 1125.93,886.925 1124.52,889.023 1118.15,900.051 1109.4,913.178 1106.11,917.566 1100.34,926.304 1090.73,939.431 1087.7,943.227 \n  1081.02,952.557 1070.87,965.684 1069.29,967.599 1060.87,978.81 1050.88,991.375 1050.47,991.937 1040.38,1005.06 1032.47,1014.93 1030.04,1018.19 1019.92,1031.32 \n  1014.06,1038.69 1009.78,1044.44 999.781,1057.57 995.648,1062.89 989.947,1070.7 980.224,1083.82 977.239,1087.82 970.781,1096.95 961.464,1110.07 958.829,1113.79 \n  952.487,1123.2 943.695,1136.33 940.419,1141.27 935.246,1149.45 927.082,1162.58 922.01,1170.92 919.217,1175.71 911.77,1188.83 904.571,1201.96 903.6,1203.8 \n  897.881,1215.09 891.533,1228.21 885.522,1241.34 885.191,1242.11 880.066,1254.47 875.003,1267.59 870.346,1280.72 866.781,1291.79 866.141,1293.85 862.49,1306.97 \n  859.293,1320.1 856.566,1333.22 854.322,1346.35 852.573,1359.48 851.328,1372.6 850.593,1385.73 850.371,1398.86 850.664,1411.98 851.47,1425.11 852.785,1438.24 \n  854.602,1451.36 856.913,1464.49 \n  \"/>\n<polyline clip-path=\"url(#clip9003)\" style=\"stroke:#0d0829; stroke-width:4; stroke-opacity:1; fill:none\" points=\"\n  980.503,1464.49 977.378,1451.36 977.239,1450.62 975.044,1438.24 973.361,1425.11 972.329,1411.98 971.954,1398.86 972.238,1385.73 973.18,1372.6 974.773,1359.48 \n  977.012,1346.35 977.239,1345.31 980.033,1333.22 983.721,1320.1 988.045,1306.97 992.982,1293.85 995.648,1287.51 998.688,1280.72 1005.16,1267.59 1012.19,1254.47 \n  1014.06,1251.23 1020.15,1241.34 1028.77,1228.21 1032.47,1222.88 1038.29,1215.09 1048.57,1201.96 1050.88,1199.13 1060.02,1188.83 1069.29,1178.74 1072.35,1175.71 \n  1085.99,1162.58 1087.7,1160.98 1101.38,1149.45 1106.11,1145.54 1118.78,1136.33 1124.52,1132.2 1139.14,1123.2 1142.92,1120.89 1161.33,1111.59 1165.18,1110.07 \n  1179.74,1104.33 1198.15,1099.15 1211.52,1096.95 1216.56,1096.11 1234.97,1095.29 1253.38,1096.74 1254.4,1096.95 1271.79,1100.51 1290.2,1106.67 1297.51,1110.07 \n  1308.61,1115.26 1321.79,1123.2 1327.02,1126.37 1340.39,1136.33 1345.43,1140.12 1355.84,1149.45 1363.84,1156.74 1369.36,1162.58 1381.49,1175.71 1382.25,1176.55 \n  1391.93,1188.83 1400.66,1200.3 1401.78,1201.96 1410.32,1215.09 1418.47,1228.21 1419.07,1229.23 1425.47,1241.34 1431.98,1254.47 1437.48,1266.38 1437.98,1267.59 \n  1443.04,1280.72 1447.63,1293.85 1451.73,1306.97 1455.32,1320.1 1455.89,1322.54 1458.17,1333.22 1460.47,1346.35 1462.27,1359.48 1463.55,1372.6 1464.3,1385.73 \n  1464.53,1398.86 1464.23,1411.98 1463.4,1425.11 1462.05,1438.24 1460.18,1451.36 1457.81,1464.49 \n  \"/>\n<polyline clip-path=\"url(#clip9003)\" style=\"stroke:#270b52; stroke-width:4; stroke-opacity:1; fill:none\" points=\"\n  1552.22,1464.49 1553.88,1451.36 1555.19,1438.24 1556.13,1425.11 1556.71,1411.98 1556.92,1398.86 1556.76,1385.73 1556.23,1372.6 1555.34,1359.48 1554.08,1346.35 \n  1552.47,1333.22 1550.51,1320.1 1548.22,1306.97 1547.93,1305.57 1545.44,1293.85 1542.32,1280.72 1538.88,1267.59 1535.14,1254.47 1531.11,1241.34 1529.53,1236.48 \n  1526.64,1228.21 1521.81,1215.09 1516.74,1201.96 1511.47,1188.83 1511.12,1187.99 1505.64,1175.71 1499.62,1162.58 1493.46,1149.45 1492.71,1147.87 1486.77,1136.33 \n  1479.93,1123.2 1474.3,1112.44 1472.95,1110.07 1465.47,1096.95 1458.02,1083.82 1455.89,1080.03 1450.15,1070.7 1442.18,1057.57 1437.48,1049.66 1434.06,1044.44 \n  1425.65,1031.32 1419.07,1020.71 1417.33,1018.19 1408.59,1005.06 1400.66,992.638 1400.16,991.937 1391.19,978.81 1382.74,965.684 1382.25,964.874 1373.78,952.557 \n  1365.43,939.431 1363.84,936.705 1356.8,926.304 1348.8,913.178 1345.43,906.947 1341,900.051 1333.68,886.925 1327.53,873.799 1327.02,872.443 1321.56,860.672 \n  1316.96,847.546 1313.89,834.419 1312.34,821.293 1312.34,808.166 1313.89,795.04 1316.96,781.913 1321.56,768.787 1327.02,757.016 1327.53,755.66 1333.68,742.534 \n  1341,729.408 1345.43,722.512 1348.8,716.281 1356.8,703.155 1363.84,692.754 1365.43,690.028 1373.78,676.902 1382.25,664.585 1382.74,663.775 1391.19,650.649 \n  1400.16,637.522 1400.66,636.821 1408.59,624.396 1417.33,611.269 1419.07,608.751 1425.65,598.143 1434.06,585.016 1437.48,579.799 1442.18,571.89 1450.15,558.764 \n  1455.89,549.433 1458.02,545.637 1465.47,532.511 1472.95,519.384 1474.3,517.015 1479.93,506.258 1486.77,493.131 1492.71,481.586 1493.46,480.005 1499.62,466.878 \n  1505.64,453.752 1511.12,441.468 1511.47,440.625 1516.74,427.499 1521.81,414.373 1526.64,401.246 1529.53,392.98 1531.11,388.12 1535.14,374.993 1538.88,361.867 \n  1542.32,348.74 1545.44,335.614 1547.93,323.89 1548.22,322.487 1550.51,309.361 1552.47,296.234 1554.08,283.108 1555.34,269.981 1556.23,256.855 1556.76,243.729 \n  1556.92,230.602 1556.71,217.476 1556.13,204.349 1555.19,191.223 1553.88,178.096 1552.22,164.97 \n  \"/>\n<polyline clip-path=\"url(#clip9003)\" style=\"stroke:#470b69; stroke-width:4; stroke-opacity:1; fill:none\" points=\"\n  1623.52,164.97 1624.86,178.096 1625.92,191.223 1626.68,204.349 1627.15,217.476 1627.32,230.602 1627.19,243.729 1626.76,256.855 1626.04,269.981 1625.03,283.108 \n  1623.73,296.234 1622.14,309.361 1621.57,313.39 1620.22,322.487 1618,335.614 1615.51,348.74 1612.77,361.867 1609.78,374.993 1606.58,388.12 1603.16,401.234 \n  1603.16,401.246 1599.36,414.373 1595.38,427.499 1591.24,440.625 1586.95,453.752 1584.75,460.306 1582.42,466.878 1577.67,480.005 1572.83,493.131 1567.93,506.258 \n  1566.34,510.495 1562.81,519.384 1557.58,532.511 1552.37,545.637 1547.93,556.908 1547.16,558.764 1541.74,571.89 1536.42,585.016 1531.23,598.143 1529.53,602.582 \n  1525.96,611.269 1520.78,624.396 1515.81,637.522 1511.12,650.547 1511.08,650.649 1506.29,663.775 1501.81,676.902 1497.66,690.028 1493.87,703.155 1492.71,707.624 \n  1490.27,716.281 1487,729.408 1484.16,742.534 1481.78,755.66 1479.86,768.787 1478.41,781.913 1477.44,795.04 1476.95,808.166 1476.95,821.293 1477.44,834.419 \n  1478.41,847.546 1479.86,860.672 1481.78,873.799 1484.16,886.925 1487,900.051 1490.27,913.178 1492.71,921.835 1493.87,926.304 1497.66,939.431 1501.81,952.557 \n  1506.29,965.684 1511.08,978.81 1511.12,978.912 1515.81,991.937 1520.78,1005.06 1525.96,1018.19 1529.53,1026.88 1531.23,1031.32 1536.42,1044.44 1541.74,1057.57 \n  1547.16,1070.7 1547.93,1072.55 1552.37,1083.82 1557.58,1096.95 1562.81,1110.07 1566.34,1118.96 1567.93,1123.2 1572.83,1136.33 1577.67,1149.45 1582.42,1162.58 \n  1584.75,1169.15 1586.95,1175.71 1591.24,1188.83 1595.38,1201.96 1599.36,1215.09 1603.16,1228.21 1603.16,1228.23 1606.58,1241.34 1609.78,1254.47 1612.77,1267.59 \n  1615.51,1280.72 1618,1293.85 1620.22,1306.97 1621.57,1316.07 1622.14,1320.1 1623.73,1333.22 1625.03,1346.35 1626.04,1359.48 1626.76,1372.6 1627.19,1385.73 \n  1627.32,1398.86 1627.15,1411.98 1626.68,1425.11 1625.92,1438.24 1624.86,1451.36 1623.52,1464.49 \n  \"/>\n<polyline clip-path=\"url(#clip9003)\" style=\"stroke:#63146e; stroke-width:4; stroke-opacity:1; fill:none\" points=\"\n  1683.33,1464.49 1684.51,1451.36 1685.43,1438.24 1686.1,1425.11 1686.51,1411.98 1686.66,1398.86 1686.55,1385.73 1686.17,1372.6 1685.54,1359.48 1684.65,1346.35 \n  1683.51,1333.22 1682.12,1320.1 1680.49,1306.97 1678.63,1293.85 1676.8,1282.32 1676.54,1280.72 1674.15,1267.59 1671.55,1254.47 1668.76,1241.34 1665.78,1228.21 \n  1662.64,1215.09 1659.35,1201.96 1658.39,1198.29 1655.82,1188.83 1652.11,1175.71 1648.31,1162.58 1644.42,1149.45 1640.46,1136.33 1639.98,1134.76 1636.29,1123.2 \n  1632.08,1110.07 1627.85,1096.95 1623.64,1083.82 1621.57,1077.31 1619.37,1070.7 1615.04,1057.57 1610.81,1044.44 1606.67,1031.32 1603.16,1019.85 1602.63,1018.19 \n  1598.55,1005.06 1594.65,991.937 1590.93,978.81 1587.43,965.684 1584.75,954.961 1584.12,952.557 1580.92,939.431 1577.98,926.304 1575.34,913.178 1573,900.051 \n  1570.97,886.925 1569.26,873.799 1567.88,860.672 1566.84,847.546 1566.34,838.146 1566.14,834.419 1565.77,821.293 1565.77,808.166 1566.14,795.04 1566.34,791.313 \n  1566.84,781.913 1567.88,768.787 1569.26,755.66 1570.97,742.534 1573,729.408 1575.34,716.281 1577.98,703.155 1580.92,690.028 1584.12,676.902 1584.75,674.498 \n  1587.43,663.775 1590.93,650.649 1594.65,637.522 1598.55,624.396 1602.63,611.269 1603.16,609.606 1606.67,598.143 1610.81,585.016 1615.04,571.89 1619.37,558.764 \n  1621.57,552.15 1623.64,545.637 1627.85,532.511 1632.08,519.384 1636.29,506.258 1639.98,494.702 1640.46,493.131 1644.42,480.005 1648.31,466.878 1652.11,453.752 \n  1655.82,440.625 1658.39,431.174 1659.35,427.499 1662.64,414.373 1665.78,401.246 1668.76,388.12 1671.55,374.993 1674.15,361.867 1676.54,348.74 1676.8,347.144 \n  1678.63,335.614 1680.49,322.487 1682.12,309.361 1683.51,296.234 1684.65,283.108 1685.54,269.981 1686.17,256.855 1686.55,243.729 1686.66,230.602 1686.51,217.476 \n  1686.1,204.349 1685.43,191.223 1684.51,178.096 1683.33,164.97 \n  \"/>\n<polyline clip-path=\"url(#clip9003)\" style=\"stroke:#821f6b; stroke-width:4; stroke-opacity:1; fill:none\" points=\"\n  1736.21,164.97 1737.26,178.096 1738.09,191.223 1738.69,204.349 1739.05,217.476 1739.19,230.602 1739.09,243.729 1738.75,256.855 1738.18,269.981 1737.39,283.108 \n  1736.36,296.234 1735.12,309.361 1733.66,322.487 1732.03,335.375 1732,335.614 1730.07,348.74 1727.95,361.867 1725.63,374.993 1723.15,388.12 1720.5,401.246 \n  1717.71,414.373 1714.78,427.499 1713.62,432.502 1711.66,440.625 1708.39,453.752 1705.03,466.878 1701.59,480.005 1698.1,493.131 1695.21,503.839 1694.53,506.258 \n  1690.83,519.384 1687.13,532.511 1683.43,545.637 1679.77,558.764 1676.8,569.562 1676.13,571.89 1672.44,585.016 1668.84,598.143 1665.34,611.269 1661.97,624.396 \n  1658.74,637.522 1658.39,639.029 1655.55,650.649 1652.53,663.775 1649.7,676.902 1647.07,690.028 1644.68,703.155 1642.52,716.281 1640.6,729.408 1639.98,734.278 \n  1638.89,742.534 1637.43,755.66 1636.25,768.787 1635.36,781.913 1634.76,795.04 1634.46,808.166 1634.46,821.293 1634.76,834.419 1635.36,847.546 1636.25,860.672 \n  1637.43,873.799 1638.89,886.925 1639.98,895.181 1640.6,900.051 1642.52,913.178 1644.68,926.304 1647.07,939.431 1649.7,952.557 1652.53,965.684 1655.55,978.81 \n  1658.39,990.43 1658.74,991.937 1661.97,1005.06 1665.34,1018.19 1668.84,1031.32 1672.44,1044.44 1676.13,1057.57 1676.8,1059.9 1679.77,1070.7 1683.43,1083.82 \n  1687.13,1096.95 1690.83,1110.07 1694.53,1123.2 1695.21,1125.62 1698.1,1136.33 1701.59,1149.45 1705.03,1162.58 1708.39,1175.71 1711.66,1188.83 1713.62,1196.96 \n  1714.78,1201.96 1717.71,1215.09 1720.5,1228.21 1723.15,1241.34 1725.63,1254.47 1727.95,1267.59 1730.07,1280.72 1732,1293.85 1732.03,1294.08 1733.66,1306.97 \n  1735.12,1320.1 1736.36,1333.22 1737.39,1346.35 1738.18,1359.48 1738.75,1372.6 1739.09,1385.73 1739.19,1398.86 1739.05,1411.98 1738.69,1425.11 1738.09,1438.24 \n  1737.26,1451.36 1736.21,1464.49 \n  \"/>\n<polyline clip-path=\"url(#clip9003)\" style=\"stroke:#9e2a62; stroke-width:4; stroke-opacity:1; fill:none\" points=\"\n  1784.28,1464.49 1785.26,1451.36 1786.04,1438.24 1786.6,1425.11 1786.95,1411.98 1787.07,1398.86 1786.98,1385.73 1786.66,1372.6 1786.13,1359.48 1785.38,1346.35 \n  1784.42,1333.22 1783.26,1320.1 1781.89,1306.97 1780.33,1293.85 1778.59,1280.72 1776.66,1267.59 1774.57,1254.47 1772.32,1241.34 1769.93,1228.21 1768.85,1222.62 \n  1767.35,1215.09 1764.62,1201.96 1761.77,1188.83 1758.83,1175.71 1755.8,1162.58 1752.7,1149.45 1750.44,1140.02 1749.53,1136.33 1746.23,1123.2 1742.92,1110.07 \n  1739.61,1096.95 1736.3,1083.82 1733.02,1070.7 1732.03,1066.66 1729.71,1057.57 1726.43,1044.44 1723.22,1031.32 1720.11,1018.19 1717.12,1005.06 1714.24,991.937 \n  1713.62,988.947 1711.43,978.81 1708.76,965.684 1706.26,952.557 1703.94,939.431 1701.82,926.304 1699.91,913.178 1698.22,900.051 1696.75,886.925 1695.52,873.799 \n  1695.21,869.78 1694.49,860.672 1693.71,847.546 1693.19,834.419 1692.93,821.293 1692.93,808.166 1693.19,795.04 1693.71,781.913 1694.49,768.787 1695.21,759.679 \n  1695.52,755.66 1696.75,742.534 1698.22,729.408 1699.91,716.281 1701.82,703.155 1703.94,690.028 1706.26,676.902 1708.76,663.775 1711.43,650.649 1713.62,640.512 \n  1714.24,637.522 1717.12,624.396 1720.11,611.269 1723.22,598.143 1726.43,585.016 1729.71,571.89 1732.03,562.795 1733.02,558.764 1736.3,545.637 1739.61,532.511 \n  1742.92,519.384 1746.23,506.258 1749.53,493.131 1750.44,489.443 1752.7,480.005 1755.8,466.878 1758.83,453.752 1761.77,440.625 1764.62,427.499 1767.35,414.373 \n  1768.85,406.843 1769.93,401.246 1772.32,388.12 1774.57,374.993 1776.66,361.867 1778.59,348.74 1780.33,335.614 1781.89,322.487 1783.26,309.361 1784.42,296.234 \n  1785.38,283.108 1786.13,269.981 1786.66,256.855 1786.98,243.729 1787.07,230.602 1786.95,217.476 1786.6,204.349 1786.04,191.223 1785.26,178.096 1784.28,164.97 \n  \n  \"/>\n<polyline clip-path=\"url(#clip9003)\" style=\"stroke:#ba3655; stroke-width:4; stroke-opacity:1; fill:none\" points=\"\n  1828.81,164.97 1829.72,178.096 1830.43,191.223 1830.95,204.349 1831.26,217.476 1831.38,230.602 1831.29,243.729 1831,256.855 1830.51,269.981 1829.83,283.108 \n  1828.95,296.234 1827.88,309.361 1826.62,322.487 1825.19,335.614 1824.08,344.688 1823.57,348.74 1821.75,361.867 1819.78,374.993 1817.66,388.12 1815.4,401.246 \n  1813.01,414.373 1810.51,427.499 1807.91,440.625 1805.67,451.542 1805.2,453.752 1802.35,466.878 1799.44,480.005 1796.48,493.131 1793.49,506.258 1790.47,519.384 \n  1787.46,532.511 1787.26,533.371 1784.36,545.637 1781.29,558.764 1778.26,571.89 1775.29,585.016 1772.39,598.143 1769.57,611.269 1768.85,614.771 1766.8,624.396 \n  1764.11,637.522 1761.56,650.649 1759.15,663.775 1756.9,676.902 1754.82,690.028 1752.91,703.155 1751.19,716.281 1750.44,722.734 1749.64,729.408 1748.27,742.534 \n  1747.12,755.66 1746.2,768.787 1745.5,781.913 1745.03,795.04 1744.8,808.166 1744.8,821.293 1745.03,834.419 1745.5,847.546 1746.2,860.672 1747.12,873.799 \n  1748.27,886.925 1749.64,900.051 1750.44,906.725 1751.19,913.178 1752.91,926.304 1754.82,939.431 1756.9,952.557 1759.15,965.684 1761.56,978.81 1764.11,991.937 \n  1766.8,1005.06 1768.85,1014.69 1769.57,1018.19 1772.39,1031.32 1775.29,1044.44 1778.26,1057.57 1781.29,1070.7 1784.36,1083.82 1787.26,1096.09 1787.46,1096.95 \n  1790.47,1110.07 1793.49,1123.2 1796.48,1136.33 1799.44,1149.45 1802.35,1162.58 1805.2,1175.71 1805.67,1177.92 1807.91,1188.83 1810.51,1201.96 1813.01,1215.09 \n  1815.4,1228.21 1817.66,1241.34 1819.78,1254.47 1821.75,1267.59 1823.57,1280.72 1824.08,1284.77 1825.19,1293.85 1826.62,1306.97 1827.88,1320.1 1828.95,1333.22 \n  1829.83,1346.35 1830.51,1359.48 1831,1372.6 1831.29,1385.73 1831.38,1398.86 1831.26,1411.98 1830.95,1425.11 1830.43,1438.24 1829.72,1451.36 1828.81,1464.49 \n  \n  \"/>\n<polyline clip-path=\"url(#clip9003)\" style=\"stroke:#d24742; stroke-width:4; stroke-opacity:1; fill:none\" points=\"\n  1870.66,1464.49 1871.52,1451.36 1872.2,1438.24 1872.69,1425.11 1873,1411.98 1873.1,1398.86 1873.02,1385.73 1872.75,1372.6 1872.28,1359.48 1871.63,1346.35 \n  1870.79,1333.22 1869.77,1320.1 1868.58,1306.97 1867.21,1293.85 1865.69,1280.72 1864,1267.59 1862.18,1254.47 1860.9,1245.93 1860.19,1241.34 1858.05,1228.21 \n  1855.78,1215.09 1853.41,1201.96 1850.94,1188.83 1848.38,1175.71 1845.75,1162.58 1843.07,1149.45 1842.49,1146.67 1840.28,1136.33 1837.45,1123.2 1834.59,1110.07 \n  1831.74,1096.95 1828.89,1083.82 1826.07,1070.7 1824.08,1061.31 1823.26,1057.57 1820.46,1044.44 1817.72,1031.32 1815.06,1018.19 1812.5,1005.06 1810.05,991.937 \n  1807.72,978.81 1805.67,966.598 1805.51,965.684 1803.39,952.557 1801.43,939.431 1799.64,926.304 1798.02,913.178 1796.59,900.051 1795.34,886.925 1794.3,873.799 \n  1793.46,860.672 1792.82,847.546 1792.39,834.419 1792.18,821.293 1792.18,808.166 1792.39,795.04 1792.82,781.913 1793.46,768.787 1794.3,755.66 1795.34,742.534 \n  1796.59,729.408 1798.02,716.281 1799.64,703.155 1801.43,690.028 1803.39,676.902 1805.51,663.775 1805.67,662.861 1807.72,650.649 1810.05,637.522 1812.5,624.396 \n  1815.06,611.269 1817.72,598.143 1820.46,585.016 1823.26,571.89 1824.08,568.147 1826.07,558.764 1828.89,545.637 1831.74,532.511 1834.59,519.384 1837.45,506.258 \n  1840.28,493.131 1842.49,482.79 1843.07,480.005 1845.75,466.878 1848.38,453.752 1850.94,440.625 1853.41,427.499 1855.78,414.373 1858.05,401.246 1860.19,388.12 \n  1860.9,383.527 1862.18,374.993 1864,361.867 1865.69,348.74 1867.21,335.614 1868.58,322.487 1869.77,309.361 1870.79,296.234 1871.63,283.108 1872.28,269.981 \n  1872.75,256.855 1873.02,243.729 1873.1,230.602 1873,217.476 1872.69,204.349 1872.2,191.223 1871.52,178.096 1870.66,164.97 \n  \"/>\n<polyline clip-path=\"url(#clip9003)\" style=\"stroke:#e65e2d; stroke-width:4; stroke-opacity:1; fill:none\" points=\"\n  1910.41,164.97 1911.24,178.096 1911.89,191.223 1912.36,204.349 1912.65,217.476 1912.75,230.602 1912.67,243.729 1912.41,256.855 1911.97,269.981 1911.34,283.108 \n  1910.54,296.234 1909.56,309.361 1908.42,322.487 1907.12,335.614 1905.66,348.74 1904.05,361.867 1902.3,374.993 1900.42,388.12 1898.41,401.246 1897.72,405.574 \n  1896.27,414.373 1894,427.499 1891.64,440.625 1889.21,453.752 1886.7,466.878 1884.13,480.005 1881.53,493.131 1879.31,504.185 1878.88,506.258 1876.17,519.384 \n  1873.45,532.511 1870.74,545.637 1868.05,558.764 1865.4,571.89 1862.8,585.016 1860.9,594.877 1860.25,598.143 1857.73,611.269 1855.3,624.396 1852.97,637.522 \n  1850.76,650.649 1848.67,663.775 1846.71,676.902 1844.9,690.028 1843.25,703.155 1842.49,709.827 1841.73,716.281 1840.38,729.408 1839.2,742.534 1838.21,755.66 \n  1837.42,768.787 1836.81,781.913 1836.41,795.04 1836.21,808.166 1836.21,821.293 1836.41,834.419 1836.81,847.546 1837.42,860.672 1838.21,873.799 1839.2,886.925 \n  1840.38,900.051 1841.73,913.178 1842.49,919.632 1843.25,926.304 1844.9,939.431 1846.71,952.557 1848.67,965.684 1850.76,978.81 1852.97,991.937 1855.3,1005.06 \n  1857.73,1018.19 1860.25,1031.32 1860.9,1034.58 1862.8,1044.44 1865.4,1057.57 1868.05,1070.7 1870.74,1083.82 1873.45,1096.95 1876.17,1110.07 1878.88,1123.2 \n  1879.31,1125.27 1881.53,1136.33 1884.13,1149.45 1886.7,1162.58 1889.21,1175.71 1891.64,1188.83 1894,1201.96 1896.27,1215.09 1897.72,1223.88 1898.41,1228.21 \n  1900.42,1241.34 1902.3,1254.47 1904.05,1267.59 1905.66,1280.72 1907.12,1293.85 1908.42,1306.97 1909.56,1320.1 1910.54,1333.22 1911.34,1346.35 1911.97,1359.48 \n  1912.41,1372.6 1912.67,1385.73 1912.75,1398.86 1912.65,1411.98 1912.36,1425.11 1911.89,1438.24 1911.24,1451.36 1910.41,1464.49 \n  \"/>\n<polyline clip-path=\"url(#clip9003)\" style=\"stroke:#f57d15; stroke-width:4; stroke-opacity:1; fill:none\" points=\"\n  1948.46,1464.49 1949.25,1451.36 1949.87,1438.24 1950.33,1425.11 1950.6,1411.98 1950.7,1398.86 1950.63,1385.73 1950.37,1372.6 1949.95,1359.48 1949.35,1346.35 \n  1948.58,1333.22 1947.64,1320.1 1946.54,1306.97 1945.29,1293.85 1943.88,1280.72 1942.34,1267.59 1940.66,1254.47 1938.85,1241.34 1936.92,1228.21 1934.89,1215.09 \n  1934.54,1212.9 1932.72,1201.96 1930.46,1188.83 1928.13,1175.71 1925.72,1162.58 1923.26,1149.45 1920.76,1136.33 1918.24,1123.2 1916.13,1112.32 1915.68,1110.07 \n  1913.08,1096.95 1910.49,1083.82 1907.92,1070.7 1905.38,1057.57 1902.9,1044.44 1900.47,1031.32 1898.12,1018.19 1897.72,1015.87 1895.81,1005.06 1893.58,991.937 \n  1891.47,978.81 1889.48,965.684 1887.61,952.557 1885.88,939.431 1884.31,926.304 1882.88,913.178 1881.62,900.051 1880.52,886.925 1879.6,873.799 1879.31,868.548 \n  1878.85,860.672 1878.28,847.546 1877.9,834.419 1877.7,821.293 1877.7,808.166 1877.9,795.04 1878.28,781.913 1878.85,768.787 1879.31,760.911 1879.6,755.66 \n  1880.52,742.534 1881.62,729.408 1882.88,716.281 1884.31,703.155 1885.88,690.028 1887.61,676.902 1889.48,663.775 1891.47,650.649 1893.58,637.522 1895.81,624.396 \n  1897.72,613.588 1898.12,611.269 1900.47,598.143 1902.9,585.016 1905.38,571.89 1907.92,558.764 1910.49,545.637 1913.08,532.511 1915.68,519.384 1916.13,517.137 \n  1918.24,506.258 1920.76,493.131 1923.26,480.005 1925.72,466.878 1928.13,453.752 1930.46,440.625 1932.72,427.499 1934.54,416.557 1934.89,414.373 1936.92,401.246 \n  1938.85,388.12 1940.66,374.993 1942.34,361.867 1943.88,348.74 1945.29,335.614 1946.54,322.487 1947.64,309.361 1948.58,296.234 1949.35,283.108 1949.95,269.981 \n  1950.37,256.855 1950.63,243.729 1950.7,230.602 1950.6,217.476 1950.33,204.349 1949.87,191.223 1949.25,178.096 1948.46,164.97 \n  \"/>\n<polyline clip-path=\"url(#clip9003)\" style=\"stroke:#fb9c07; stroke-width:4; stroke-opacity:1; fill:none\" points=\"\n  1985.08,164.97 1985.85,178.096 1986.45,191.223 1986.89,204.349 1987.15,217.476 1987.25,230.602 1987.18,243.729 1986.93,256.855 1986.52,269.981 1985.94,283.108 \n  1985.2,296.234 1984.29,309.361 1983.24,322.487 1982.03,335.614 1980.67,348.74 1979.18,361.867 1977.56,374.993 1975.81,388.12 1973.95,401.246 1971.99,414.373 \n  1971.35,418.445 1969.91,427.499 1967.73,440.625 1965.48,453.752 1963.17,466.878 1960.8,480.005 1958.39,493.131 1955.96,506.258 1953.51,519.384 1952.95,522.388 \n  1951.02,532.511 1948.53,545.637 1946.06,558.764 1943.62,571.89 1941.23,585.016 1938.9,598.143 1936.64,611.269 1934.54,623.921 1934.46,624.396 1932.32,637.522 \n  1930.3,650.649 1928.39,663.775 1926.6,676.902 1924.94,690.028 1923.43,703.155 1922.06,716.281 1920.85,729.408 1919.8,742.534 1918.92,755.66 1918.21,768.787 \n  1917.67,781.913 1917.31,795.04 1917.13,808.166 1917.13,821.293 1917.31,834.419 1917.67,847.546 1918.21,860.672 1918.92,873.799 1919.8,886.925 1920.85,900.051 \n  1922.06,913.178 1923.43,926.304 1924.94,939.431 1926.6,952.557 1928.39,965.684 1930.3,978.81 1932.32,991.937 1934.46,1005.06 1934.54,1005.54 1936.64,1018.19 \n  1938.9,1031.32 1941.23,1044.44 1943.62,1057.57 1946.06,1070.7 1948.53,1083.82 1951.02,1096.95 1952.95,1107.07 1953.51,1110.07 1955.96,1123.2 1958.39,1136.33 \n  1960.8,1149.45 1963.17,1162.58 1965.48,1175.71 1967.73,1188.83 1969.91,1201.96 1971.35,1211.01 1971.99,1215.09 1973.95,1228.21 1975.81,1241.34 1977.56,1254.47 \n  1979.18,1267.59 1980.67,1280.72 1982.03,1293.85 1983.24,1306.97 1984.29,1320.1 1985.2,1333.22 1985.94,1346.35 1986.52,1359.48 1986.93,1372.6 1987.18,1385.73 \n  1987.25,1398.86 1987.15,1411.98 1986.89,1425.11 1986.45,1438.24 1985.85,1451.36 1985.08,1464.49 \n  \"/>\n<polyline clip-path=\"url(#clip9003)\" style=\"stroke:#fabf26; stroke-width:4; stroke-opacity:1; fill:none\" points=\"\n  2020.53,1464.49 2021.27,1451.36 2021.86,1438.24 2022.28,1425.11 2022.54,1411.98 2022.63,1398.86 2022.56,1385.73 2022.32,1372.6 2021.92,1359.48 2021.36,1346.35 \n  2020.64,1333.22 2019.77,1320.1 2018.74,1306.97 2017.57,1293.85 2016.26,1280.72 2014.81,1267.59 2013.24,1254.47 2011.55,1241.34 2009.75,1228.21 2008.17,1217.31 \n  2007.85,1215.09 2005.82,1201.96 2003.72,1188.83 2001.54,1175.71 1999.3,1162.58 1997.01,1149.45 1994.69,1136.33 1992.33,1123.2 1989.96,1110.07 1989.76,1108.97 \n  1987.56,1096.95 1985.15,1083.82 1982.77,1070.7 1980.42,1057.57 1978.11,1044.44 1975.86,1031.32 1973.68,1018.19 1971.57,1005.06 1971.35,1003.63 1969.53,991.937 \n  1967.57,978.81 1965.73,965.684 1964.01,952.557 1962.42,939.431 1960.96,926.304 1959.64,913.178 1958.48,900.051 1957.47,886.925 1956.62,873.799 1955.93,860.672 \n  1955.41,847.546 1955.07,834.419 1954.89,821.293 1954.89,808.166 1955.07,795.04 1955.41,781.913 1955.93,768.787 1956.62,755.66 1957.47,742.534 1958.48,729.408 \n  1959.64,716.281 1960.96,703.155 1962.42,690.028 1964.01,676.902 1965.73,663.775 1967.57,650.649 1969.53,637.522 1971.35,625.825 1971.57,624.396 1973.68,611.269 \n  1975.86,598.143 1978.11,585.016 1980.42,571.89 1982.77,558.764 1985.15,545.637 1987.56,532.511 1989.76,520.489 1989.96,519.384 1992.33,506.258 1994.69,493.131 \n  1997.01,480.005 1999.3,466.878 2001.54,453.752 2003.72,440.625 2005.82,427.499 2007.85,414.373 2008.17,412.151 2009.75,401.246 2011.55,388.12 2013.24,374.993 \n  2014.81,361.867 2016.26,348.74 2017.57,335.614 2018.74,322.487 2019.77,309.361 2020.64,296.234 2021.36,283.108 2021.92,269.981 2022.32,256.855 2022.56,243.729 \n  2022.63,230.602 2022.54,217.476 2022.28,204.349 2021.86,191.223 2021.27,178.096 2020.53,164.97 \n  \"/>\n<polyline clip-path=\"url(#clip9003)\" style=\"stroke:#f3e258; stroke-width:4; stroke-opacity:1; fill:none\" points=\"\n  2026.58,511.949 2025.26,519.384 2022.93,532.511 2020.6,545.637 2018.29,558.764 2016.01,571.89 2013.78,585.016 2011.6,598.143 2009.49,611.269 2008.17,619.717 \n  2007.44,624.396 2005.45,637.522 2003.57,650.649 2001.78,663.775 2000.12,676.902 1998.58,690.028 1997.17,703.155 1995.9,716.281 1994.77,729.408 1993.79,742.534 \n  1992.97,755.66 1992.31,768.787 1991.81,781.913 1991.47,795.04 1991.31,808.166 1991.31,821.293 1991.47,834.419 1991.81,847.546 1992.31,860.672 1992.97,873.799 \n  1993.79,886.925 1994.77,900.051 1995.9,913.178 1997.17,926.304 1998.58,939.431 2000.12,952.557 2001.78,965.684 2003.57,978.81 2005.45,991.937 2007.44,1005.06 \n  2008.17,1009.74 2009.49,1018.19 2011.6,1031.32 2013.78,1044.44 2016.01,1057.57 2018.29,1070.7 2020.6,1083.82 2022.93,1096.95 2025.26,1110.07 2026.58,1117.51 \n  \n  \"/>\n<polyline clip-path=\"url(#clip9003)\" style=\"stroke:#0d0829; stroke-width:4; stroke-opacity:1; fill:none\" points=\"\n  1457.81,164.97 1460.18,178.096 1462.05,191.223 1463.4,204.349 1464.23,217.476 1464.53,230.602 1464.3,243.729 1463.55,256.855 1462.27,269.981 1460.47,283.108 \n  1458.17,296.234 1455.89,306.921 1455.32,309.361 1451.73,322.487 1447.63,335.614 1443.04,348.74 1437.98,361.867 1437.48,363.075 1431.98,374.993 1425.47,388.12 \n  1419.07,400.229 1418.47,401.246 1410.32,414.373 1401.78,427.499 1400.66,429.163 1391.93,440.625 1382.25,452.909 1381.49,453.752 1369.36,466.878 1363.84,472.72 \n  1355.84,480.005 1345.43,489.336 1340.39,493.131 1327.02,503.09 1321.79,506.258 1308.61,514.198 1297.51,519.384 1290.2,522.793 1271.79,528.947 1254.4,532.511 \n  1253.38,532.719 1234.97,534.17 1216.56,533.344 1211.52,532.511 1198.15,530.309 1179.74,525.13 1165.18,519.384 1161.33,517.865 1142.92,508.569 1139.14,506.258 \n  1124.52,497.257 1118.78,493.131 1106.11,483.919 1101.38,480.005 1087.7,468.483 1085.99,466.878 1072.35,453.752 1069.29,450.724 1060.02,440.625 1050.88,430.326 \n  1048.57,427.499 1038.29,414.373 1032.47,406.582 1028.77,401.246 1020.15,388.12 1014.06,378.231 1012.19,374.993 1005.16,361.867 998.688,348.74 995.648,341.945 \n  992.982,335.614 988.045,322.487 983.721,309.361 980.033,296.234 977.239,284.145 977.012,283.108 974.773,269.981 973.18,256.855 972.238,243.729 971.954,230.602 \n  972.329,217.476 973.361,204.349 975.044,191.223 977.239,178.839 977.378,178.096 980.503,164.97 \n  \"/>\n<polyline clip-path=\"url(#clip9003)\" style=\"stroke:#fabf26; stroke-width:4; stroke-opacity:1; fill:none\" points=\"\n  204.037,443.031 206.343,453.752 209.246,466.878 212.214,480.005 215.231,493.131 218.284,506.258 221.357,519.384 222.447,524.034 224.489,532.511 227.64,545.637 \n  230.764,558.764 233.845,571.89 236.868,585.016 239.818,598.143 240.856,602.904 242.73,611.269 245.567,624.396 248.284,637.522 250.868,650.649 253.306,663.775 \n  255.587,676.902 257.698,690.028 259.266,700.681 259.64,703.155 261.43,716.281 263.016,729.408 264.391,742.534 265.547,755.66 266.479,768.787 267.182,781.913 \n  267.653,795.04 267.888,808.166 267.888,821.293 267.653,834.419 267.182,847.546 266.479,860.672 265.547,873.799 264.391,886.925 263.016,900.051 261.43,913.178 \n  259.64,926.304 259.266,928.778 257.698,939.431 255.587,952.557 253.306,965.684 250.868,978.81 248.284,991.937 245.567,1005.06 242.73,1018.19 240.856,1026.55 \n  239.818,1031.32 236.868,1044.44 233.845,1057.57 230.764,1070.7 227.64,1083.82 224.489,1096.95 222.447,1105.43 221.357,1110.07 218.284,1123.2 215.231,1136.33 \n  212.214,1149.45 209.246,1162.58 206.343,1175.71 204.037,1186.43 \n  \"/>\n<polyline clip-path=\"url(#clip9003)\" style=\"stroke:#f3e258; stroke-width:4; stroke-opacity:1; fill:none\" points=\"\n  204.037,977.006 206.029,965.684 208.188,952.557 210.187,939.431 212.016,926.304 213.665,913.178 215.127,900.051 216.393,886.925 217.459,873.799 218.317,860.672 \n  218.965,847.546 219.399,834.419 219.616,821.293 219.616,808.166 219.399,795.04 218.965,781.913 218.317,768.787 217.459,755.66 216.393,742.534 215.127,729.408 \n  213.665,716.281 212.016,703.155 210.187,690.028 208.188,676.902 206.029,663.775 204.037,652.453 \n  \"/>\n<defs>\n  <clipPath id=\"clip9004\">\n    <rect x=\"2129\" y=\"125\" width=\"73\" height=\"1378\"/>\n  </clipPath>\n</defs>\n<g clip-path=\"url(#clip9004)\">\n<image width=\"72\" height=\"1377\" xlink:href=\"data:image/png;base64,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\n\" transform=\"translate(2129, 126)\"/>\n</g>\n<g clip-path=\"url(#clip9001)\">\n<text style=\"fill:#000000; fill-opacity:1; font-family:Arial,Helvetica Neue,Helvetica,sans-serif; font-size:48px; text-anchor:start;\" transform=\"rotate(0, 2237.26, 1402.68)\" x=\"2237.26\" y=\"1402.68\">0</text>\n</g>\n<g clip-path=\"url(#clip9001)\">\n<text style=\"fill:#000000; fill-opacity:1; font-family:Arial,Helvetica Neue,Helvetica,sans-serif; font-size:48px; text-anchor:start;\" transform=\"rotate(0, 2237.26, 1170.5)\" x=\"2237.26\" y=\"1170.5\">2.5</text>\n</g>\n<g clip-path=\"url(#clip9001)\">\n<text style=\"fill:#000000; fill-opacity:1; font-family:Arial,Helvetica Neue,Helvetica,sans-serif; font-size:48px; text-anchor:start;\" transform=\"rotate(0, 2237.26, 938.33)\" x=\"2237.26\" y=\"938.33\">5.0</text>\n</g>\n<g clip-path=\"url(#clip9001)\">\n<text style=\"fill:#000000; fill-opacity:1; font-family:Arial,Helvetica Neue,Helvetica,sans-serif; font-size:48px; text-anchor:start;\" transform=\"rotate(0, 2237.26, 706.155)\" x=\"2237.26\" y=\"706.155\">7.5</text>\n</g>\n<g clip-path=\"url(#clip9001)\">\n<text style=\"fill:#000000; fill-opacity:1; font-family:Arial,Helvetica Neue,Helvetica,sans-serif; font-size:48px; text-anchor:start;\" transform=\"rotate(0, 2237.26, 473.981)\" x=\"2237.26\" y=\"473.981\">10.0</text>\n</g>\n<g clip-path=\"url(#clip9001)\">\n<text style=\"fill:#000000; fill-opacity:1; font-family:Arial,Helvetica Neue,Helvetica,sans-serif; font-size:48px; text-anchor:start;\" transform=\"rotate(0, 2237.26, 241.807)\" x=\"2237.26\" y=\"241.807\">12.5</text>\n</g>\n<polyline clip-path=\"url(#clip9001)\" style=\"stroke:#000000; stroke-width:4; stroke-opacity:1; fill:none\" points=\"\n  2201.26,1503.47 2201.26,1389.03 2225.26,1389.03 2201.26,1389.03 2201.26,1156.85 2225.26,1156.85 2201.26,1156.85 2201.26,924.679 2225.26,924.679 2201.26,924.679 \n  2201.26,692.504 2225.26,692.504 2201.26,692.504 2201.26,460.33 2225.26,460.33 2201.26,460.33 2201.26,228.156 2225.26,228.156 2201.26,228.156 2201.26,125.984 \n  \n  \"/>\n<polyline clip-path=\"url(#clip9003)\" style=\"stroke:#e26f46; stroke-width:4; stroke-opacity:1; fill:none\" points=\"\n  594.583,443.438 913.826,380.87 1101.67,333.072 1185.71,299.258 1216.72,276.288 1227.29,260.983 1230.8,250.873 1231.96,244.221 1232.34,239.85 1232.46,236.982 \n  1232.5,235.099 1232.52,233.864 1232.52,233.053 1232.52,232.521 1232.52,232.172 1232.52,231.943 1232.52,231.793 1232.52,231.695 1232.52,231.63 1232.52,231.588 \n  1232.52,231.56 1232.52,231.541 1232.52,231.529 1232.52,231.522 1232.52,231.516 1232.52,231.513 1232.52,231.511 1232.52,231.509 1232.52,231.508 1232.52,231.508 \n  1232.52,231.507 1232.52,231.507 1232.52,231.507 1232.52,231.507 1232.52,231.507 \n  \"/>\n<polyline clip-path=\"url(#clip9003)\" style=\"stroke:#3da44d; stroke-width:4; stroke-opacity:1; fill:none\" points=\"\n  594.583,443.438 1232.52,231.627 1232.52,231.507 \n  \"/>\n<g clip-path=\"url(#clip9004)\">\n<image width=\"72\" height=\"1377\" xlink:href=\"data:image/png;base64,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\nhZDv0WLW22sAAAAASUVORK5CYII=\n\" transform=\"translate(2129, 126)\"/>\n</g>\n<g clip-path=\"url(#clip9001)\">\n<text style=\"fill:#000000; fill-opacity:1; font-family:Arial,Helvetica Neue,Helvetica,sans-serif; font-size:48px; text-anchor:start;\" transform=\"rotate(0, 2237.26, 1402.68)\" x=\"2237.26\" y=\"1402.68\">0</text>\n</g>\n<g clip-path=\"url(#clip9001)\">\n<text style=\"fill:#000000; fill-opacity:1; font-family:Arial,Helvetica Neue,Helvetica,sans-serif; font-size:48px; text-anchor:start;\" transform=\"rotate(0, 2237.26, 1170.5)\" x=\"2237.26\" y=\"1170.5\">2.5</text>\n</g>\n<g clip-path=\"url(#clip9001)\">\n<text style=\"fill:#000000; fill-opacity:1; font-family:Arial,Helvetica Neue,Helvetica,sans-serif; font-size:48px; text-anchor:start;\" transform=\"rotate(0, 2237.26, 938.33)\" x=\"2237.26\" y=\"938.33\">5.0</text>\n</g>\n<g clip-path=\"url(#clip9001)\">\n<text style=\"fill:#000000; fill-opacity:1; font-family:Arial,Helvetica Neue,Helvetica,sans-serif; font-size:48px; text-anchor:start;\" transform=\"rotate(0, 2237.26, 706.155)\" x=\"2237.26\" y=\"706.155\">7.5</text>\n</g>\n<g clip-path=\"url(#clip9001)\">\n<text style=\"fill:#000000; fill-opacity:1; font-family:Arial,Helvetica Neue,Helvetica,sans-serif; font-size:48px; text-anchor:start;\" transform=\"rotate(0, 2237.26, 473.981)\" x=\"2237.26\" y=\"473.981\">10.0</text>\n</g>\n<g clip-path=\"url(#clip9001)\">\n<text style=\"fill:#000000; fill-opacity:1; font-family:Arial,Helvetica Neue,Helvetica,sans-serif; font-size:48px; text-anchor:start;\" transform=\"rotate(0, 2237.26, 241.807)\" x=\"2237.26\" y=\"241.807\">12.5</text>\n</g>\n<polyline clip-path=\"url(#clip9001)\" style=\"stroke:#000000; stroke-width:4; stroke-opacity:1; fill:none\" points=\"\n  2201.26,1503.47 2201.26,1389.03 2225.26,1389.03 2201.26,1389.03 2201.26,1156.85 2225.26,1156.85 2201.26,1156.85 2201.26,924.679 2225.26,924.679 2201.26,924.679 \n  2201.26,692.504 2225.26,692.504 2201.26,692.504 2201.26,460.33 2225.26,460.33 2201.26,460.33 2201.26,228.156 2225.26,228.156 2201.26,228.156 2201.26,125.984 \n  \n  \"/>\n<g clip-path=\"url(#clip9001)\">\n<text style=\"fill:#000000; fill-opacity:1; font-family:Arial,Helvetica Neue,Helvetica,sans-serif; font-size:66px; text-anchor:middle;\" transform=\"rotate(-90, 2378.86, 814.729)\" x=\"2378.86\" y=\"814.729\"></text>\n</g>\n<polygon clip-path=\"url(#clip9001)\" points=\"\n1397.43,390.944 2009.26,390.944 2009.26,209.504 1397.43,209.504 \n  \" fill=\"#ffffff\" fill-rule=\"evenodd\" fill-opacity=\"1\"/>\n<polyline clip-path=\"url(#clip9001)\" style=\"stroke:#000000; stroke-width:4; stroke-opacity:1; fill:none\" points=\"\n  1397.43,390.944 2009.26,390.944 2009.26,209.504 1397.43,209.504 1397.43,390.944 \n  \"/>\n<polyline clip-path=\"url(#clip9001)\" style=\"stroke:#e26f46; stroke-width:4; stroke-opacity:1; fill:none\" points=\"\n  1421.43,269.984 1565.43,269.984 \n  \"/>\n<g clip-path=\"url(#clip9001)\">\n<text style=\"fill:#000000; fill-opacity:1; font-family:Arial,Helvetica Neue,Helvetica,sans-serif; font-size:48px; text-anchor:start;\" transform=\"rotate(0, 1589.43, 287.484)\" x=\"1589.43\" y=\"287.484\">Gradient descent</text>\n</g>\n<polyline clip-path=\"url(#clip9001)\" style=\"stroke:#3da44d; stroke-width:4; stroke-opacity:1; fill:none\" points=\"\n  1421.43,330.464 1565.43,330.464 \n  \"/>\n<g clip-path=\"url(#clip9001)\">\n<text style=\"fill:#000000; fill-opacity:1; font-family:Arial,Helvetica Neue,Helvetica,sans-serif; font-size:48px; text-anchor:start;\" transform=\"rotate(0, 1589.43, 347.964)\" x=\"1589.43\" y=\"347.964\">Newton&apos;s method</text>\n</g>\n</svg>\n"
      ]
     },
     "execution_count": 7,
     "metadata": {},
     "output_type": "execute_result"
    }
   ],
   "source": [
    "x⁽⁰⁾ = [-2., 2]\n",
    "xs_gradient_descent = [x⁽⁰⁾]\n",
    "x = gradient_descent(sinusoidal, 0.8, xs_gradient_descent[end], maxiter = 5)\n",
    "while x != xs_gradient_descent[end]\n",
    "    push!(xs_gradient_descent, x)\n",
    "    x = gradient_descent(sinusoidal, 0.8, x, maxiter = 5)\n",
    "end\n",
    "xs_newton = [x⁽⁰⁾]\n",
    "x = newton_optimization(sinusoidal, sinusoidalHessian, xs_newton[end], maxiter = 5)\n",
    "while x != xs_newton[end]\n",
    "    push!(xs_newton, x)\n",
    "    x = newton_optimization(sinusoidal, sinusoidalHessian, x, maxiter = 15)\n",
    "end\n",
    "\n",
    "xs_gradient_descent = hcat(xs_gradient_descent...)'\n",
    "xs_newton = hcat(xs_newton...)'\n",
    "\n",
    "contour(xgrid, xgrid, (x,y) -> sinusoidal([x,y]), title =\n",
    "\"\\$x^{(0)}=(-2, 2)\\$\")\n",
    "plot!(xs_gradient_descent[:,1], xs_gradient_descent[:,2], label = \"Gradient descent\")\n",
    "plot!(xs_newton[:,1], xs_newton[:,2], label = \"Newton's method\")"
   ]
  },
  {
   "cell_type": "markdown",
   "metadata": {
    "ein.tags": "worksheet-0",
    "slideshow": {
     "slide_type": "-"
    }
   },
   "source": [
    "Here, both methods go for the same critical point, $(~0.450184, \\pi)$,\n",
    "and we clearly see that Newton's method takes the straighter path."
   ]
  },
  {
   "cell_type": "markdown",
   "metadata": {
    "ein.tags": "worksheet-0",
    "slideshow": {
     "slide_type": "-"
    }
   },
   "source": [
    "#### **Convergence**"
   ]
  },
  {
   "cell_type": "code",
   "execution_count": 8,
   "metadata": {
    "autoscroll": false,
    "collapsed": false,
    "ein.hycell": false,
    "ein.tags": "worksheet-0",
    "slideshow": {
     "slide_type": "-"
    }
   },
   "outputs": [
    {
     "name": "stdout",
     "output_type": "stream",
     "text": [
      "Steps required for gradient descent: 35\n",
      "Steps required for newton: 3\n"
     ]
    }
   ],
   "source": [
    "println(\"Steps required for gradient descent: $(size(xs_gradient_descent, 1))\")\n",
    "println(\"Steps required for newton: $(size(xs_newton, 1))\")"
   ]
  },
  {
   "cell_type": "code",
   "execution_count": 9,
   "metadata": {
    "autoscroll": false,
    "collapsed": false,
    "ein.hycell": false,
    "ein.tags": "worksheet-0",
    "slideshow": {
     "slide_type": "-"
    }
   },
   "outputs": [
    {
     "data": {
      "image/svg+xml": [
       "<?xml version=\"1.0\" encoding=\"utf-8\"?>\n<svg xmlns=\"http://www.w3.org/2000/svg\" xmlns:xlink=\"http://www.w3.org/1999/xlink\" width=\"600\" height=\"400\" viewBox=\"0 0 2400 1600\">\n<defs>\n  <clipPath id=\"clip9200\">\n    <rect x=\"0\" y=\"0\" width=\"2000\" height=\"2000\"/>\n  </clipPath>\n</defs>\n<defs>\n  <clipPath id=\"clip9201\">\n    <rect x=\"0\" y=\"0\" width=\"2400\" height=\"1600\"/>\n  </clipPath>\n</defs>\n<polygon clip-path=\"url(#clip9201)\" points=\"\n0,1600 2400,1600 2400,0 0,0 \n  \" fill=\"#ffffff\" fill-rule=\"evenodd\" fill-opacity=\"1\"/>\n<defs>\n  <clipPath id=\"clip9202\">\n    <rect x=\"480\" y=\"0\" width=\"1681\" height=\"1600\"/>\n  </clipPath>\n</defs>\n<polygon clip-path=\"url(#clip9201)\" points=\"\n288.452,1440.48 2321.26,1440.48 2321.26,125.984 288.452,125.984 \n  \" fill=\"#ffffff\" fill-rule=\"evenodd\" fill-opacity=\"1\"/>\n<defs>\n  <clipPath id=\"clip9203\">\n    <rect x=\"288\" y=\"125\" width=\"2034\" height=\"1315\"/>\n  </clipPath>\n</defs>\n<polyline clip-path=\"url(#clip9203)\" style=\"stroke:#000000; stroke-width:2; stroke-opacity:0.1; fill:none\" points=\"\n  289.58,1440.48 289.58,125.984 \n  \"/>\n<polyline clip-path=\"url(#clip9203)\" style=\"stroke:#000000; stroke-width:2; stroke-opacity:0.1; fill:none\" points=\"\n  853.622,1440.48 853.622,125.984 \n  \"/>\n<polyline clip-path=\"url(#clip9203)\" style=\"stroke:#000000; stroke-width:2; stroke-opacity:0.1; fill:none\" points=\"\n  1417.66,1440.48 1417.66,125.984 \n  \"/>\n<polyline clip-path=\"url(#clip9203)\" style=\"stroke:#000000; stroke-width:2; stroke-opacity:0.1; fill:none\" points=\"\n  1981.71,1440.48 1981.71,125.984 \n  \"/>\n<polyline clip-path=\"url(#clip9203)\" style=\"stroke:#000000; stroke-width:2; stroke-opacity:0.1; fill:none\" points=\"\n  288.452,1406.76 2321.26,1406.76 \n  \"/>\n<polyline clip-path=\"url(#clip9203)\" style=\"stroke:#000000; stroke-width:2; stroke-opacity:0.1; fill:none\" points=\"\n  288.452,1213.42 2321.26,1213.42 \n  \"/>\n<polyline clip-path=\"url(#clip9203)\" style=\"stroke:#000000; stroke-width:2; stroke-opacity:0.1; fill:none\" points=\"\n  288.452,1020.07 2321.26,1020.07 \n  \"/>\n<polyline clip-path=\"url(#clip9203)\" style=\"stroke:#000000; stroke-width:2; stroke-opacity:0.1; fill:none\" points=\"\n  288.452,826.724 2321.26,826.724 \n  \"/>\n<polyline clip-path=\"url(#clip9203)\" style=\"stroke:#000000; stroke-width:2; stroke-opacity:0.1; fill:none\" points=\"\n  288.452,633.378 2321.26,633.378 \n  \"/>\n<polyline clip-path=\"url(#clip9203)\" style=\"stroke:#000000; stroke-width:2; stroke-opacity:0.1; fill:none\" points=\"\n  288.452,440.032 2321.26,440.032 \n  \"/>\n<polyline clip-path=\"url(#clip9203)\" style=\"stroke:#000000; stroke-width:2; stroke-opacity:0.1; fill:none\" points=\"\n  288.452,246.685 2321.26,246.685 \n  \"/>\n<polyline clip-path=\"url(#clip9201)\" style=\"stroke:#000000; stroke-width:4; stroke-opacity:1; fill:none\" points=\"\n  288.452,1440.48 2321.26,1440.48 \n  \"/>\n<polyline clip-path=\"url(#clip9201)\" style=\"stroke:#000000; stroke-width:4; stroke-opacity:1; fill:none\" points=\"\n  288.452,1440.48 288.452,125.984 \n  \"/>\n<polyline clip-path=\"url(#clip9201)\" style=\"stroke:#000000; stroke-width:4; stroke-opacity:1; fill:none\" points=\"\n  289.58,1440.48 289.58,1420.77 \n  \"/>\n<polyline clip-path=\"url(#clip9201)\" style=\"stroke:#000000; stroke-width:4; stroke-opacity:1; fill:none\" points=\"\n  853.622,1440.48 853.622,1420.77 \n  \"/>\n<polyline clip-path=\"url(#clip9201)\" style=\"stroke:#000000; stroke-width:4; stroke-opacity:1; fill:none\" points=\"\n  1417.66,1440.48 1417.66,1420.77 \n  \"/>\n<polyline clip-path=\"url(#clip9201)\" style=\"stroke:#000000; stroke-width:4; stroke-opacity:1; fill:none\" points=\"\n  1981.71,1440.48 1981.71,1420.77 \n  \"/>\n<polyline clip-path=\"url(#clip9201)\" style=\"stroke:#000000; stroke-width:4; stroke-opacity:1; fill:none\" points=\"\n  288.452,1406.76 318.944,1406.76 \n  \"/>\n<polyline clip-path=\"url(#clip9201)\" style=\"stroke:#000000; stroke-width:4; stroke-opacity:1; fill:none\" points=\"\n  288.452,1213.42 318.944,1213.42 \n  \"/>\n<polyline clip-path=\"url(#clip9201)\" style=\"stroke:#000000; stroke-width:4; stroke-opacity:1; fill:none\" points=\"\n  288.452,1020.07 318.944,1020.07 \n  \"/>\n<polyline clip-path=\"url(#clip9201)\" style=\"stroke:#000000; stroke-width:4; stroke-opacity:1; fill:none\" points=\"\n  288.452,826.724 318.944,826.724 \n  \"/>\n<polyline clip-path=\"url(#clip9201)\" style=\"stroke:#000000; stroke-width:4; stroke-opacity:1; fill:none\" points=\"\n  288.452,633.378 318.944,633.378 \n  \"/>\n<polyline clip-path=\"url(#clip9201)\" style=\"stroke:#000000; stroke-width:4; stroke-opacity:1; fill:none\" points=\"\n  288.452,440.032 318.944,440.032 \n  \"/>\n<polyline clip-path=\"url(#clip9201)\" style=\"stroke:#000000; stroke-width:4; stroke-opacity:1; fill:none\" points=\"\n  288.452,246.685 318.944,246.685 \n  \"/>\n<g clip-path=\"url(#clip9201)\">\n<text style=\"fill:#000000; fill-opacity:1; font-family:Arial,Helvetica Neue,Helvetica,sans-serif; font-size:48px; text-anchor:middle;\" transform=\"rotate(0, 289.58, 1494.48)\" x=\"289.58\" y=\"1494.48\">0</text>\n</g>\n<g clip-path=\"url(#clip9201)\">\n<text style=\"fill:#000000; fill-opacity:1; font-family:Arial,Helvetica Neue,Helvetica,sans-serif; font-size:48px; text-anchor:middle;\" transform=\"rotate(0, 853.622, 1494.48)\" x=\"853.622\" y=\"1494.48\">10</text>\n</g>\n<g clip-path=\"url(#clip9201)\">\n<text style=\"fill:#000000; fill-opacity:1; font-family:Arial,Helvetica Neue,Helvetica,sans-serif; font-size:48px; text-anchor:middle;\" transform=\"rotate(0, 1417.66, 1494.48)\" x=\"1417.66\" y=\"1494.48\">20</text>\n</g>\n<g clip-path=\"url(#clip9201)\">\n<text style=\"fill:#000000; fill-opacity:1; font-family:Arial,Helvetica Neue,Helvetica,sans-serif; font-size:48px; text-anchor:middle;\" transform=\"rotate(0, 1981.71, 1494.48)\" x=\"1981.71\" y=\"1494.48\">30</text>\n</g>\n<g clip-path=\"url(#clip9201)\">\n<text style=\"fill:#000000; fill-opacity:1; font-family:Arial,Helvetica Neue,Helvetica,sans-serif; font-size:48px; text-anchor:start;\" transform=\"rotate(0, 155.471, 1430.49)\" x=\"155.471\" y=\"1430.49\">10</text>\n</g>\n<g clip-path=\"url(#clip9201)\">\n<text style=\"fill:#000000; fill-opacity:1; font-family:Arial,Helvetica Neue,Helvetica,sans-serif; font-size:38px; text-anchor:start;\" transform=\"rotate(0, 208.996, 1403.08)\" x=\"208.996\" y=\"1403.08\">-</text>\n</g>\n<g clip-path=\"url(#clip9201)\">\n<text style=\"fill:#000000; fill-opacity:1; font-family:Arial,Helvetica Neue,Helvetica,sans-serif; font-size:38px; text-anchor:start;\" transform=\"rotate(0, 231.836, 1403.08)\" x=\"231.836\" y=\"1403.08\">6 </text>\n</g>\n<g clip-path=\"url(#clip9201)\">\n<text style=\"fill:#000000; fill-opacity:1; font-family:Arial,Helvetica Neue,Helvetica,sans-serif; font-size:48px; text-anchor:start;\" transform=\"rotate(0, 155.471, 1237.14)\" x=\"155.471\" y=\"1237.14\">10</text>\n</g>\n<g clip-path=\"url(#clip9201)\">\n<text style=\"fill:#000000; fill-opacity:1; font-family:Arial,Helvetica Neue,Helvetica,sans-serif; font-size:38px; text-anchor:start;\" transform=\"rotate(0, 208.996, 1209.73)\" x=\"208.996\" y=\"1209.73\">-</text>\n</g>\n<g clip-path=\"url(#clip9201)\">\n<text style=\"fill:#000000; fill-opacity:1; font-family:Arial,Helvetica Neue,Helvetica,sans-serif; font-size:38px; text-anchor:start;\" transform=\"rotate(0, 231.836, 1209.73)\" x=\"231.836\" y=\"1209.73\">5 </text>\n</g>\n<g clip-path=\"url(#clip9201)\">\n<text style=\"fill:#000000; fill-opacity:1; font-family:Arial,Helvetica Neue,Helvetica,sans-serif; font-size:48px; text-anchor:start;\" transform=\"rotate(0, 155.471, 1043.8)\" x=\"155.471\" y=\"1043.8\">10</text>\n</g>\n<g clip-path=\"url(#clip9201)\">\n<text style=\"fill:#000000; fill-opacity:1; font-family:Arial,Helvetica Neue,Helvetica,sans-serif; font-size:38px; text-anchor:start;\" transform=\"rotate(0, 208.996, 1016.39)\" x=\"208.996\" y=\"1016.39\">-</text>\n</g>\n<g clip-path=\"url(#clip9201)\">\n<text style=\"fill:#000000; fill-opacity:1; font-family:Arial,Helvetica Neue,Helvetica,sans-serif; font-size:38px; text-anchor:start;\" transform=\"rotate(0, 231.836, 1016.39)\" x=\"231.836\" y=\"1016.39\">4 </text>\n</g>\n<g clip-path=\"url(#clip9201)\">\n<text style=\"fill:#000000; fill-opacity:1; font-family:Arial,Helvetica Neue,Helvetica,sans-serif; font-size:48px; text-anchor:start;\" transform=\"rotate(0, 155.471, 850.452)\" x=\"155.471\" y=\"850.452\">10</text>\n</g>\n<g clip-path=\"url(#clip9201)\">\n<text style=\"fill:#000000; fill-opacity:1; font-family:Arial,Helvetica Neue,Helvetica,sans-serif; font-size:38px; text-anchor:start;\" transform=\"rotate(0, 208.996, 823.041)\" x=\"208.996\" y=\"823.041\">-</text>\n</g>\n<g clip-path=\"url(#clip9201)\">\n<text style=\"fill:#000000; fill-opacity:1; font-family:Arial,Helvetica Neue,Helvetica,sans-serif; font-size:38px; text-anchor:start;\" transform=\"rotate(0, 231.836, 823.041)\" x=\"231.836\" y=\"823.041\">3 </text>\n</g>\n<g clip-path=\"url(#clip9201)\">\n<text style=\"fill:#000000; fill-opacity:1; font-family:Arial,Helvetica Neue,Helvetica,sans-serif; font-size:48px; text-anchor:start;\" transform=\"rotate(0, 155.471, 657.105)\" x=\"155.471\" y=\"657.105\">10</text>\n</g>\n<g clip-path=\"url(#clip9201)\">\n<text style=\"fill:#000000; fill-opacity:1; font-family:Arial,Helvetica Neue,Helvetica,sans-serif; font-size:38px; text-anchor:start;\" transform=\"rotate(0, 208.996, 629.695)\" x=\"208.996\" y=\"629.695\">-</text>\n</g>\n<g clip-path=\"url(#clip9201)\">\n<text style=\"fill:#000000; fill-opacity:1; font-family:Arial,Helvetica Neue,Helvetica,sans-serif; font-size:38px; text-anchor:start;\" transform=\"rotate(0, 231.836, 629.695)\" x=\"231.836\" y=\"629.695\">2 </text>\n</g>\n<g clip-path=\"url(#clip9201)\">\n<text style=\"fill:#000000; fill-opacity:1; font-family:Arial,Helvetica Neue,Helvetica,sans-serif; font-size:48px; text-anchor:start;\" transform=\"rotate(0, 155.471, 463.759)\" x=\"155.471\" y=\"463.759\">10</text>\n</g>\n<g clip-path=\"url(#clip9201)\">\n<text style=\"fill:#000000; fill-opacity:1; font-family:Arial,Helvetica Neue,Helvetica,sans-serif; font-size:38px; text-anchor:start;\" transform=\"rotate(0, 208.996, 436.349)\" x=\"208.996\" y=\"436.349\">-</text>\n</g>\n<g clip-path=\"url(#clip9201)\">\n<text style=\"fill:#000000; fill-opacity:1; font-family:Arial,Helvetica Neue,Helvetica,sans-serif; font-size:38px; text-anchor:start;\" transform=\"rotate(0, 231.836, 436.349)\" x=\"231.836\" y=\"436.349\">1 </text>\n</g>\n<g clip-path=\"url(#clip9201)\">\n<text style=\"fill:#000000; fill-opacity:1; font-family:Arial,Helvetica Neue,Helvetica,sans-serif; font-size:48px; text-anchor:start;\" transform=\"rotate(0, 178.311, 270.413)\" x=\"178.311\" y=\"270.413\">10</text>\n</g>\n<g clip-path=\"url(#clip9201)\">\n<text style=\"fill:#000000; fill-opacity:1; font-family:Arial,Helvetica Neue,Helvetica,sans-serif; font-size:38px; text-anchor:start;\" transform=\"rotate(0, 231.836, 243.003)\" x=\"231.836\" y=\"243.003\">0 </text>\n</g>\n<g clip-path=\"url(#clip9201)\">\n<text style=\"fill:#000000; fill-opacity:1; font-family:Arial,Helvetica Neue,Helvetica,sans-serif; font-size:84px; text-anchor:middle;\" transform=\"rotate(0, 1304.86, 73.2)\" x=\"1304.86\" y=\"73.2\">Gradient descent</text>\n</g>\n<g clip-path=\"url(#clip9201)\">\n<text style=\"fill:#000000; fill-opacity:1; font-family:Arial,Helvetica Neue,Helvetica,sans-serif; font-size:84px; text-anchor:middle;\" transform=\"rotate(0, 1304.86, 163.92)\" x=\"1304.86\" y=\"163.92\">error (y-log)</text>\n</g>\n<g clip-path=\"url(#clip9201)\">\n<text style=\"fill:#000000; fill-opacity:1; font-family:Arial,Helvetica Neue,Helvetica,sans-serif; font-size:66px; text-anchor:middle;\" transform=\"rotate(0, 1304.86, 1590.4)\" x=\"1304.86\" y=\"1590.4\">Steps</text>\n</g>\n<g clip-path=\"url(#clip9201)\">\n<text style=\"fill:#000000; fill-opacity:1; font-family:Arial,Helvetica Neue,Helvetica,sans-serif; font-size:66px; text-anchor:start;\" transform=\"rotate(-90, 58.9248, 1155.95)\" x=\"58.9248\" y=\"1155.95\">Distance to (0.450184, </text>\n</g>\n<g clip-path=\"url(#clip9201)\">\n<text style=\"fill:#000000; fill-opacity:1; font-family:Symbol; font-size:72px; text-anchor:start;\" transform=\"rotate(-90, 58.9248, 471.672)\" x=\"58.9248\" y=\"471.672\">π</text>\n</g>\n<g clip-path=\"url(#clip9201)\">\n<text style=\"fill:#000000; fill-opacity:1; font-family:Arial,Helvetica Neue,Helvetica,sans-serif; font-size:66px; text-anchor:start;\" transform=\"rotate(-90, 58.9248, 432.559)\" x=\"58.9248\" y=\"432.559\">)</text>\n</g>\n<polyline clip-path=\"url(#clip9203)\" style=\"stroke:#009af9; stroke-width:4; stroke-opacity:1; fill:none\" points=\"\n  345.984,163.187 402.389,214.634 458.793,271.64 515.197,322.202 571.601,363.516 628.005,400.544 684.41,436.314 740.814,471.777 797.218,507.175 853.622,542.561 \n  910.027,577.947 966.431,613.334 1022.83,648.722 1079.24,684.109 1135.64,719.498 1192.05,754.886 1248.45,790.274 1304.86,825.662 1361.26,861.05 1417.66,896.438 \n  1474.07,931.826 1530.47,967.214 1586.88,1002.6 1643.28,1037.99 1699.69,1073.38 1756.09,1108.76 1812.49,1144.14 1868.9,1179.52 1925.3,1214.87 1981.71,1250.17 \n  2038.11,1285.35 2094.51,1320.28 2150.92,1354.61 2207.32,1387.64 2263.73,1403.28 \n  \"/>\n<polygon clip-path=\"url(#clip9201)\" points=\"\n1642.72,330.464 2249.26,330.464 2249.26,209.504 1642.72,209.504 \n  \" fill=\"#ffffff\" fill-rule=\"evenodd\" fill-opacity=\"1\"/>\n<polyline clip-path=\"url(#clip9201)\" style=\"stroke:#000000; stroke-width:4; stroke-opacity:1; fill:none\" points=\"\n  1642.72,330.464 2249.26,330.464 2249.26,209.504 1642.72,209.504 1642.72,330.464 \n  \"/>\n<polyline clip-path=\"url(#clip9201)\" style=\"stroke:#009af9; stroke-width:4; stroke-opacity:1; fill:none\" points=\"\n  1666.72,269.984 1810.72,269.984 \n  \"/>\n<g clip-path=\"url(#clip9201)\">\n<text style=\"fill:#000000; fill-opacity:1; font-family:Arial,Helvetica Neue,Helvetica,sans-serif; font-size:48px; text-anchor:start;\" transform=\"rotate(0, 1834.72, 287.484)\" x=\"1834.72\" y=\"287.484\">Gradient descent</text>\n</g>\n</svg>\n"
      ]
     },
     "execution_count": 9,
     "metadata": {},
     "output_type": "execute_result"
    }
   ],
   "source": [
    "plot([norm(xs_gradient_descent[i,:].-[0.450184, π])\n",
    "for i in 1:size(xs_gradient_descent, 1)],\n",
    "yscale = :log10, label = \"Gradient descent\", title = \"Gradient descent\n",
    "error (y-log)\", xlabel = \"Steps\", ylabel = \"Distance to (0.450184, \\\\pi)\")"
   ]
  },
  {
   "cell_type": "code",
   "execution_count": 10,
   "metadata": {
    "autoscroll": false,
    "collapsed": false,
    "ein.hycell": false,
    "ein.tags": "worksheet-0",
    "slideshow": {
     "slide_type": "-"
    }
   },
   "outputs": [
    {
     "data": {
      "image/svg+xml": [
       "<?xml version=\"1.0\" encoding=\"utf-8\"?>\n<svg xmlns=\"http://www.w3.org/2000/svg\" xmlns:xlink=\"http://www.w3.org/1999/xlink\" width=\"600\" height=\"400\" viewBox=\"0 0 2400 1600\">\n<defs>\n  <clipPath id=\"clip9400\">\n    <rect x=\"0\" y=\"0\" width=\"2000\" height=\"2000\"/>\n  </clipPath>\n</defs>\n<defs>\n  <clipPath id=\"clip9401\">\n    <rect x=\"0\" y=\"0\" width=\"2400\" height=\"1600\"/>\n  </clipPath>\n</defs>\n<polygon clip-path=\"url(#clip9401)\" points=\"\n0,1600 2400,1600 2400,0 0,0 \n  \" fill=\"#ffffff\" fill-rule=\"evenodd\" fill-opacity=\"1\"/>\n<defs>\n  <clipPath id=\"clip9402\">\n    <rect x=\"480\" y=\"0\" width=\"1681\" height=\"1600\"/>\n  </clipPath>\n</defs>\n<polygon clip-path=\"url(#clip9401)\" points=\"\n288.452,1440.48 2321.26,1440.48 2321.26,125.984 288.452,125.984 \n  \" fill=\"#ffffff\" fill-rule=\"evenodd\" fill-opacity=\"1\"/>\n<defs>\n  <clipPath id=\"clip9403\">\n    <rect x=\"288\" y=\"125\" width=\"2034\" height=\"1315\"/>\n  </clipPath>\n</defs>\n<polyline clip-path=\"url(#clip9403)\" style=\"stroke:#000000; stroke-width:2; stroke-opacity:0.1; fill:none\" points=\"\n  345.984,1440.48 345.984,125.984 \n  \"/>\n<polyline clip-path=\"url(#clip9403)\" style=\"stroke:#000000; stroke-width:2; stroke-opacity:0.1; fill:none\" points=\"\n  825.42,1440.48 825.42,125.984 \n  \"/>\n<polyline clip-path=\"url(#clip9403)\" style=\"stroke:#000000; stroke-width:2; stroke-opacity:0.1; fill:none\" points=\"\n  1304.86,1440.48 1304.86,125.984 \n  \"/>\n<polyline clip-path=\"url(#clip9403)\" style=\"stroke:#000000; stroke-width:2; stroke-opacity:0.1; fill:none\" points=\"\n  1784.29,1440.48 1784.29,125.984 \n  \"/>\n<polyline clip-path=\"url(#clip9403)\" style=\"stroke:#000000; stroke-width:2; stroke-opacity:0.1; fill:none\" points=\"\n  2263.73,1440.48 2263.73,125.984 \n  \"/>\n<polyline clip-path=\"url(#clip9403)\" style=\"stroke:#000000; stroke-width:2; stroke-opacity:0.1; fill:none\" points=\"\n  288.452,1328.9 2321.26,1328.9 \n  \"/>\n<polyline clip-path=\"url(#clip9403)\" style=\"stroke:#000000; stroke-width:2; stroke-opacity:0.1; fill:none\" points=\"\n  288.452,1147.66 2321.26,1147.66 \n  \"/>\n<polyline clip-path=\"url(#clip9403)\" style=\"stroke:#000000; stroke-width:2; stroke-opacity:0.1; fill:none\" points=\"\n  288.452,966.421 2321.26,966.421 \n  \"/>\n<polyline clip-path=\"url(#clip9403)\" style=\"stroke:#000000; stroke-width:2; stroke-opacity:0.1; fill:none\" points=\"\n  288.452,785.18 2321.26,785.18 \n  \"/>\n<polyline clip-path=\"url(#clip9403)\" style=\"stroke:#000000; stroke-width:2; stroke-opacity:0.1; fill:none\" points=\"\n  288.452,603.939 2321.26,603.939 \n  \"/>\n<polyline clip-path=\"url(#clip9403)\" style=\"stroke:#000000; stroke-width:2; stroke-opacity:0.1; fill:none\" points=\"\n  288.452,422.698 2321.26,422.698 \n  \"/>\n<polyline clip-path=\"url(#clip9403)\" style=\"stroke:#000000; stroke-width:2; stroke-opacity:0.1; fill:none\" points=\"\n  288.452,241.458 2321.26,241.458 \n  \"/>\n<polyline clip-path=\"url(#clip9401)\" style=\"stroke:#000000; stroke-width:4; stroke-opacity:1; fill:none\" points=\"\n  288.452,1440.48 2321.26,1440.48 \n  \"/>\n<polyline clip-path=\"url(#clip9401)\" style=\"stroke:#000000; stroke-width:4; stroke-opacity:1; fill:none\" points=\"\n  288.452,1440.48 288.452,125.984 \n  \"/>\n<polyline clip-path=\"url(#clip9401)\" style=\"stroke:#000000; stroke-width:4; stroke-opacity:1; fill:none\" points=\"\n  345.984,1440.48 345.984,1420.77 \n  \"/>\n<polyline clip-path=\"url(#clip9401)\" style=\"stroke:#000000; stroke-width:4; stroke-opacity:1; fill:none\" points=\"\n  825.42,1440.48 825.42,1420.77 \n  \"/>\n<polyline clip-path=\"url(#clip9401)\" style=\"stroke:#000000; stroke-width:4; stroke-opacity:1; fill:none\" points=\"\n  1304.86,1440.48 1304.86,1420.77 \n  \"/>\n<polyline clip-path=\"url(#clip9401)\" style=\"stroke:#000000; stroke-width:4; stroke-opacity:1; fill:none\" points=\"\n  1784.29,1440.48 1784.29,1420.77 \n  \"/>\n<polyline clip-path=\"url(#clip9401)\" style=\"stroke:#000000; stroke-width:4; stroke-opacity:1; fill:none\" points=\"\n  2263.73,1440.48 2263.73,1420.77 \n  \"/>\n<polyline clip-path=\"url(#clip9401)\" style=\"stroke:#000000; stroke-width:4; stroke-opacity:1; fill:none\" points=\"\n  288.452,1328.9 318.944,1328.9 \n  \"/>\n<polyline clip-path=\"url(#clip9401)\" style=\"stroke:#000000; stroke-width:4; stroke-opacity:1; fill:none\" points=\"\n  288.452,1147.66 318.944,1147.66 \n  \"/>\n<polyline clip-path=\"url(#clip9401)\" style=\"stroke:#000000; stroke-width:4; stroke-opacity:1; fill:none\" points=\"\n  288.452,966.421 318.944,966.421 \n  \"/>\n<polyline clip-path=\"url(#clip9401)\" style=\"stroke:#000000; stroke-width:4; stroke-opacity:1; fill:none\" points=\"\n  288.452,785.18 318.944,785.18 \n  \"/>\n<polyline clip-path=\"url(#clip9401)\" style=\"stroke:#000000; stroke-width:4; stroke-opacity:1; fill:none\" points=\"\n  288.452,603.939 318.944,603.939 \n  \"/>\n<polyline clip-path=\"url(#clip9401)\" style=\"stroke:#000000; stroke-width:4; stroke-opacity:1; fill:none\" points=\"\n  288.452,422.698 318.944,422.698 \n  \"/>\n<polyline clip-path=\"url(#clip9401)\" style=\"stroke:#000000; stroke-width:4; stroke-opacity:1; fill:none\" points=\"\n  288.452,241.458 318.944,241.458 \n  \"/>\n<g clip-path=\"url(#clip9401)\">\n<text style=\"fill:#000000; fill-opacity:1; font-family:Arial,Helvetica Neue,Helvetica,sans-serif; font-size:48px; text-anchor:middle;\" transform=\"rotate(0, 345.984, 1494.48)\" x=\"345.984\" y=\"1494.48\">1.0</text>\n</g>\n<g clip-path=\"url(#clip9401)\">\n<text style=\"fill:#000000; fill-opacity:1; font-family:Arial,Helvetica Neue,Helvetica,sans-serif; font-size:48px; text-anchor:middle;\" transform=\"rotate(0, 825.42, 1494.48)\" x=\"825.42\" y=\"1494.48\">1.5</text>\n</g>\n<g clip-path=\"url(#clip9401)\">\n<text style=\"fill:#000000; fill-opacity:1; font-family:Arial,Helvetica Neue,Helvetica,sans-serif; font-size:48px; text-anchor:middle;\" transform=\"rotate(0, 1304.86, 1494.48)\" x=\"1304.86\" y=\"1494.48\">2.0</text>\n</g>\n<g clip-path=\"url(#clip9401)\">\n<text style=\"fill:#000000; fill-opacity:1; font-family:Arial,Helvetica Neue,Helvetica,sans-serif; font-size:48px; text-anchor:middle;\" transform=\"rotate(0, 1784.29, 1494.48)\" x=\"1784.29\" y=\"1494.48\">2.5</text>\n</g>\n<g clip-path=\"url(#clip9401)\">\n<text style=\"fill:#000000; fill-opacity:1; font-family:Arial,Helvetica Neue,Helvetica,sans-serif; font-size:48px; text-anchor:middle;\" transform=\"rotate(0, 2263.73, 1494.48)\" x=\"2263.73\" y=\"1494.48\">3.0</text>\n</g>\n<g clip-path=\"url(#clip9401)\">\n<text style=\"fill:#000000; fill-opacity:1; font-family:Arial,Helvetica Neue,Helvetica,sans-serif; font-size:48px; text-anchor:start;\" transform=\"rotate(0, 155.471, 1352.63)\" x=\"155.471\" y=\"1352.63\">10</text>\n</g>\n<g clip-path=\"url(#clip9401)\">\n<text style=\"fill:#000000; fill-opacity:1; font-family:Arial,Helvetica Neue,Helvetica,sans-serif; font-size:38px; text-anchor:start;\" transform=\"rotate(0, 208.996, 1325.22)\" x=\"208.996\" y=\"1325.22\">-</text>\n</g>\n<g clip-path=\"url(#clip9401)\">\n<text style=\"fill:#000000; fill-opacity:1; font-family:Arial,Helvetica Neue,Helvetica,sans-serif; font-size:38px; text-anchor:start;\" transform=\"rotate(0, 231.836, 1325.22)\" x=\"231.836\" y=\"1325.22\">6 </text>\n</g>\n<g clip-path=\"url(#clip9401)\">\n<text style=\"fill:#000000; fill-opacity:1; font-family:Arial,Helvetica Neue,Helvetica,sans-serif; font-size:48px; text-anchor:start;\" transform=\"rotate(0, 155.471, 1171.39)\" x=\"155.471\" y=\"1171.39\">10</text>\n</g>\n<g clip-path=\"url(#clip9401)\">\n<text style=\"fill:#000000; fill-opacity:1; font-family:Arial,Helvetica Neue,Helvetica,sans-serif; font-size:38px; text-anchor:start;\" transform=\"rotate(0, 208.996, 1143.98)\" x=\"208.996\" y=\"1143.98\">-</text>\n</g>\n<g clip-path=\"url(#clip9401)\">\n<text style=\"fill:#000000; fill-opacity:1; font-family:Arial,Helvetica Neue,Helvetica,sans-serif; font-size:38px; text-anchor:start;\" transform=\"rotate(0, 231.836, 1143.98)\" x=\"231.836\" y=\"1143.98\">5 </text>\n</g>\n<g clip-path=\"url(#clip9401)\">\n<text style=\"fill:#000000; fill-opacity:1; font-family:Arial,Helvetica Neue,Helvetica,sans-serif; font-size:48px; text-anchor:start;\" transform=\"rotate(0, 155.471, 990.149)\" x=\"155.471\" y=\"990.149\">10</text>\n</g>\n<g clip-path=\"url(#clip9401)\">\n<text style=\"fill:#000000; fill-opacity:1; font-family:Arial,Helvetica Neue,Helvetica,sans-serif; font-size:38px; text-anchor:start;\" transform=\"rotate(0, 208.996, 962.739)\" x=\"208.996\" y=\"962.739\">-</text>\n</g>\n<g clip-path=\"url(#clip9401)\">\n<text style=\"fill:#000000; fill-opacity:1; font-family:Arial,Helvetica Neue,Helvetica,sans-serif; font-size:38px; text-anchor:start;\" transform=\"rotate(0, 231.836, 962.739)\" x=\"231.836\" y=\"962.739\">4 </text>\n</g>\n<g clip-path=\"url(#clip9401)\">\n<text style=\"fill:#000000; fill-opacity:1; font-family:Arial,Helvetica Neue,Helvetica,sans-serif; font-size:48px; text-anchor:start;\" transform=\"rotate(0, 155.471, 808.908)\" x=\"155.471\" y=\"808.908\">10</text>\n</g>\n<g clip-path=\"url(#clip9401)\">\n<text style=\"fill:#000000; fill-opacity:1; font-family:Arial,Helvetica Neue,Helvetica,sans-serif; font-size:38px; text-anchor:start;\" transform=\"rotate(0, 208.996, 781.498)\" x=\"208.996\" y=\"781.498\">-</text>\n</g>\n<g clip-path=\"url(#clip9401)\">\n<text style=\"fill:#000000; fill-opacity:1; font-family:Arial,Helvetica Neue,Helvetica,sans-serif; font-size:38px; text-anchor:start;\" transform=\"rotate(0, 231.836, 781.498)\" x=\"231.836\" y=\"781.498\">3 </text>\n</g>\n<g clip-path=\"url(#clip9401)\">\n<text style=\"fill:#000000; fill-opacity:1; font-family:Arial,Helvetica Neue,Helvetica,sans-serif; font-size:48px; text-anchor:start;\" transform=\"rotate(0, 155.471, 627.667)\" x=\"155.471\" y=\"627.667\">10</text>\n</g>\n<g clip-path=\"url(#clip9401)\">\n<text style=\"fill:#000000; fill-opacity:1; font-family:Arial,Helvetica Neue,Helvetica,sans-serif; font-size:38px; text-anchor:start;\" transform=\"rotate(0, 208.996, 600.257)\" x=\"208.996\" y=\"600.257\">-</text>\n</g>\n<g clip-path=\"url(#clip9401)\">\n<text style=\"fill:#000000; fill-opacity:1; font-family:Arial,Helvetica Neue,Helvetica,sans-serif; font-size:38px; text-anchor:start;\" transform=\"rotate(0, 231.836, 600.257)\" x=\"231.836\" y=\"600.257\">2 </text>\n</g>\n<g clip-path=\"url(#clip9401)\">\n<text style=\"fill:#000000; fill-opacity:1; font-family:Arial,Helvetica Neue,Helvetica,sans-serif; font-size:48px; text-anchor:start;\" transform=\"rotate(0, 155.471, 446.426)\" x=\"155.471\" y=\"446.426\">10</text>\n</g>\n<g clip-path=\"url(#clip9401)\">\n<text style=\"fill:#000000; fill-opacity:1; font-family:Arial,Helvetica Neue,Helvetica,sans-serif; font-size:38px; text-anchor:start;\" transform=\"rotate(0, 208.996, 419.016)\" x=\"208.996\" y=\"419.016\">-</text>\n</g>\n<g clip-path=\"url(#clip9401)\">\n<text style=\"fill:#000000; fill-opacity:1; font-family:Arial,Helvetica Neue,Helvetica,sans-serif; font-size:38px; text-anchor:start;\" transform=\"rotate(0, 231.836, 419.016)\" x=\"231.836\" y=\"419.016\">1 </text>\n</g>\n<g clip-path=\"url(#clip9401)\">\n<text style=\"fill:#000000; fill-opacity:1; font-family:Arial,Helvetica Neue,Helvetica,sans-serif; font-size:48px; text-anchor:start;\" transform=\"rotate(0, 178.311, 265.185)\" x=\"178.311\" y=\"265.185\">10</text>\n</g>\n<g clip-path=\"url(#clip9401)\">\n<text style=\"fill:#000000; fill-opacity:1; font-family:Arial,Helvetica Neue,Helvetica,sans-serif; font-size:38px; text-anchor:start;\" transform=\"rotate(0, 231.836, 237.775)\" x=\"231.836\" y=\"237.775\">0 </text>\n</g>\n<g clip-path=\"url(#clip9401)\">\n<text style=\"fill:#000000; fill-opacity:1; font-family:Arial,Helvetica Neue,Helvetica,sans-serif; font-size:84px; text-anchor:middle;\" transform=\"rotate(0, 1304.86, 73.2)\" x=\"1304.86\" y=\"73.2\">Newton&apos;s method error (y-log)</text>\n</g>\n<g clip-path=\"url(#clip9401)\">\n<text style=\"fill:#000000; fill-opacity:1; font-family:Arial,Helvetica Neue,Helvetica,sans-serif; font-size:66px; text-anchor:middle;\" transform=\"rotate(0, 1304.86, 1590.4)\" x=\"1304.86\" y=\"1590.4\">Steps</text>\n</g>\n<g clip-path=\"url(#clip9401)\">\n<text style=\"fill:#000000; fill-opacity:1; font-family:Arial,Helvetica Neue,Helvetica,sans-serif; font-size:66px; text-anchor:start;\" transform=\"rotate(-90, 58.9248, 1155.95)\" x=\"58.9248\" y=\"1155.95\">Distance to (0.450184, </text>\n</g>\n<g clip-path=\"url(#clip9401)\">\n<text style=\"fill:#000000; fill-opacity:1; font-family:Symbol; font-size:72px; text-anchor:start;\" transform=\"rotate(-90, 58.9248, 471.672)\" x=\"58.9248\" y=\"471.672\">π</text>\n</g>\n<g clip-path=\"url(#clip9401)\">\n<text style=\"fill:#000000; fill-opacity:1; font-family:Arial,Helvetica Neue,Helvetica,sans-serif; font-size:66px; text-anchor:start;\" transform=\"rotate(-90, 58.9248, 432.559)\" x=\"58.9248\" y=\"432.559\">)</text>\n</g>\n<polyline clip-path=\"url(#clip9403)\" style=\"stroke:#009af9; stroke-width:4; stroke-opacity:1; fill:none\" points=\"\n  345.984,163.187 1304.86,819.241 2263.73,1403.28 \n  \"/>\n<polygon clip-path=\"url(#clip9401)\" points=\"\n1637.43,330.464 2249.26,330.464 2249.26,209.504 1637.43,209.504 \n  \" fill=\"#ffffff\" fill-rule=\"evenodd\" fill-opacity=\"1\"/>\n<polyline clip-path=\"url(#clip9401)\" style=\"stroke:#000000; stroke-width:4; stroke-opacity:1; fill:none\" points=\"\n  1637.43,330.464 2249.26,330.464 2249.26,209.504 1637.43,209.504 1637.43,330.464 \n  \"/>\n<polyline clip-path=\"url(#clip9401)\" style=\"stroke:#009af9; stroke-width:4; stroke-opacity:1; fill:none\" points=\"\n  1661.43,269.984 1805.43,269.984 \n  \"/>\n<g clip-path=\"url(#clip9401)\">\n<text style=\"fill:#000000; fill-opacity:1; font-family:Arial,Helvetica Neue,Helvetica,sans-serif; font-size:48px; text-anchor:start;\" transform=\"rotate(0, 1829.43, 287.484)\" x=\"1829.43\" y=\"287.484\">Newton&apos;s method</text>\n</g>\n</svg>\n"
      ]
     },
     "execution_count": 10,
     "metadata": {},
     "output_type": "execute_result"
    }
   ],
   "source": [
    "plot(1:size(xs_newton, 1), [norm(xs_newton[i,:].-[0.450184, π]) for i in 1:size(xs_newton, 1)], yscale = :log10,\n",
    "label = \"Newton's method\", title = \"Newton's method error (y-log)\",\n",
    "xlabel = \"Steps\", ylabel = \"Distance to (0.450184, \\\\pi)\")"
   ]
  },
  {
   "cell_type": "markdown",
   "metadata": {
    "ein.tags": "worksheet-0",
    "slideshow": {
     "slide_type": "-"
    }
   },
   "source": [
    "### **Neural networks and back propagation**"
   ]
  },
  {
   "cell_type": "markdown",
   "metadata": {
    "ein.tags": "worksheet-0",
    "slideshow": {
     "slide_type": "-"
    }
   },
   "source": [
    "In order to test the neural network code, I use the\n",
    "[FashionMNIST](https://github.com/zalandoresearch/fashion-mnist) data\n",
    "set, verifying that the network is able to learn using the data."
   ]
  },
  {
   "cell_type": "code",
   "execution_count": 163,
   "metadata": {
    "autoscroll": false,
    "collapsed": false,
    "ein.hycell": false,
    "ein.tags": "worksheet-0",
    "slideshow": {
     "slide_type": "-"
    }
   },
   "outputs": [
    {
     "data": {
      "text/plain": [
       "evaluate_net (generic function with 1 method)"
      ]
     },
     "execution_count": 163,
     "metadata": {},
     "output_type": "execute_result"
    }
   ],
   "source": [
    "traindata = Float64.(MNIST.convert2features(MNIST.traintensor()))\n",
    "trainlabels = MNIST.trainlabels()\n",
    "\n",
    "(nrdims, nrpoints) = size(traindata)\n",
    "traintargets = zeros(10, nrpoints)\n",
    "for i in 1:length(trainlabels)\n",
    "    traintargets[trainlabels[i]+1, i] = 1\n",
    "end\n",
    "\n",
    "testdata = Float64.(MNIST.convert2features(MNIST.testtensor()))\n",
    "testlabels = MNIST.testlabels();\n",
    "nrtestpoints = size(testdata, 2)\n",
    "\n",
    "function evaluate_net(n::FeedforwardNetwork)\n",
    "     correct = sum((findmax(feedforward(n, testdata[:,i]))[2]-1) == testlabels[i] for i in 1:nrtestpoints)\n",
    "     println(\"Accuracy: $correct / $nrtestpoints\")\n",
    "end"
   ]
  },
  {
   "cell_type": "code",
   "execution_count": 164,
   "metadata": {
    "autoscroll": false,
    "collapsed": false,
    "ein.hycell": false,
    "ein.tags": "worksheet-0",
    "slideshow": {
     "slide_type": "-"
    }
   },
   "outputs": [
    {
     "data": {
      "text/plain": [
       "FeedforwardNetwork([784, 16, 10], Array{Float64,2}[[0.59475 -0.0565387 … -1.2704 0.55486; -0.0824654 -0.351712 … -0.30587 -0.0806427; … ; 1.43514 -0.341432 … 1.59455 0.0161595; 0.537445 0.183777 … 1.39576 -1.3087], [0.365739 1.3875 … -1.99664 -2.18096; 1.13683 -1.07935 … -0.948022 -0.0450257; … ; 0.350789 0.405323 … 0.239551 0.373013; 0.459674 -0.713088 … -0.160606 0.370935]], Array{Float64,N} where N[[2.04058, 1.63217, 1.28409, 0.170149, -0.493538, 0.494444, -0.212782, -1.13923, 0.758898, 0.498692, -0.684472, 1.31882, 0.625236, 1.21759, 0.106608, -0.682535], [1.31059, -0.859345, -0.554729, 0.0866632, 1.15908, -0.40317, 0.543667, -0.504674, 0.0482906, -1.43113]])"
      ]
     },
     "execution_count": 164,
     "metadata": {},
     "output_type": "execute_result"
    }
   ],
   "source": [
    "ffnet = FeedforwardNetwork([nrdims, 16, 10])"
   ]
  },
  {
   "cell_type": "code",
   "execution_count": 170,
   "metadata": {
    "autoscroll": false,
    "collapsed": false,
    "ein.hycell": false,
    "ein.tags": "worksheet-0",
    "slideshow": {
     "slide_type": "-"
    }
   },
   "outputs": [
    {
     "name": "stdout",
     "output_type": "stream",
     "text": [
      "Accuracy: 8962 / 10000\n"
     ]
    }
   ],
   "source": [
    "stochastic_gradient_descent(ffnet, traindata, traintargets, 1, 1.0)\n",
    "evaluate_net(ffnet)"
   ]
  },
  {
   "cell_type": "code",
   "execution_count": 107,
   "metadata": {
    "autoscroll": false,
    "collapsed": false,
    "ein.hycell": false,
    "ein.tags": "worksheet-0",
    "slideshow": {
     "slide_type": "-"
    }
   },
   "outputs": [
    {
     "data": {
      "text/plain": [
       "9.557696263345086"
      ]
     },
     "execution_count": 107,
     "metadata": {},
     "output_type": "execute_result"
    }
   ],
   "source": [
    "norm(traindata[:,1])"
   ]
  },
  {
   "cell_type": "code",
   "execution_count": 125,
   "metadata": {
    "autoscroll": false,
    "collapsed": false,
    "ein.hycell": false,
    "ein.tags": "worksheet-0",
    "slideshow": {
     "slide_type": "-"
    }
   },
   "outputs": [
    {
     "data": {
      "text/plain": [
       "0"
      ]
     },
     "execution_count": 125,
     "metadata": {},
     "output_type": "execute_result"
    }
   ],
   "source": [
    "sum(ffnet.biases[2] .!= 0)"
   ]
  },
  {
   "cell_type": "code",
   "execution_count": 161,
   "metadata": {
    "autoscroll": false,
    "collapsed": false,
    "ein.hycell": false,
    "ein.tags": "worksheet-0",
    "slideshow": {
     "slide_type": "-"
    }
   },
   "outputs": [
    {
     "data": {
      "text/plain": [
       "2"
      ]
     },
     "execution_count": 161,
     "metadata": {},
     "output_type": "execute_result"
    }
   ],
   "source": [
    "findmax(feedforward(ffnet, traindata[:, 300])"
   ]
  },
  {
   "cell_type": "code",
   "execution_count": 41,
   "metadata": {
    "autoscroll": false,
    "collapsed": false,
    "ein.hycell": false,
    "ein.tags": "worksheet-0",
    "slideshow": {
     "slide_type": "-"
    }
   },
   "outputs": [
    {
     "data": {
      "text/plain": [
       "ffs (generic function with 1 method)"
      ]
     },
     "execution_count": 41,
     "metadata": {},
     "output_type": "execute_result"
    }
   ],
   "source": [
    "function ffs(n::FeedforwardNetwork, a)\n",
    "    for (b, w) in zip(n.biases, n.weights)\n",
    "        a = σ.(w*a+b)\n",
    "    end\n",
    "    a\n",
    "end"
   ]
  },
  {
   "cell_type": "code",
   "execution_count": 272,
   "metadata": {
    "autoscroll": false,
    "collapsed": false,
    "ein.hycell": false,
    "ein.tags": "worksheet-0",
    "slideshow": {
     "slide_type": "-"
    }
   },
   "outputs": [
    {
     "data": {
      "text/plain": [
       "12576"
      ]
     },
     "execution_count": 272,
     "metadata": {},
     "output_type": "execute_result"
    }
   ],
   "source": [
    "786*16"
   ]
  },
  {
   "cell_type": "markdown",
   "metadata": {
    "colab_type": "text",
    "ein.tags": "worksheet-0",
    "id": "_4GLBv0zWr7m",
    "slideshow": {
     "slide_type": "-"
    }
   },
   "source": [
    "# **Discussion**"
   ]
  },
  {
   "cell_type": "markdown",
   "metadata": {
    "colab_type": "text",
    "ein.tags": "worksheet-0",
    "id": "6bcsDSoRXHZe",
    "slideshow": {
     "slide_type": "-"
    }
   },
   "source": [
    "Both optimization methods worked as expected. For the example\n",
    "function, the Hessian was easily obtained by hand and Newton's method\n",
    "clearly converged faster than the gradient descent method. However,\n",
    "this could partially be because of an inappropriate choice of initial\n",
    "$\\alpha$-value for the gradient descent method. While testing the\n",
    "gradient descent method, it was also important not to set $\\beta$ too\n",
    "low, as the function would have trouble terminating. This is\n",
    "understandable, as it may not always be possible to achieve the\n",
    "desired decrease in the objective function, especially when close to a\n",
    "minimum. In conclusion, while the gradient descent method does not\n",
    "require the Hessian, it seems to be more sensitive to parameter\n",
    "choices than Newton's method."
   ]
  },
  {
   "cell_type": "markdown",
   "metadata": {
    "ein.tags": "worksheet-0",
    "slideshow": {
     "slide_type": "-"
    }
   },
   "source": [
    "# **References**"
   ]
  },
  {
   "cell_type": "markdown",
   "metadata": {
    "ein.tags": "worksheet-0",
    "slideshow": {
     "slide_type": "-"
    }
   },
   "source": [
    "- Hoffman, Johan. 2019. *Introduction to Scientific Computing*\n",
    "- Nielsen, Michael A. 2015. *Neural Networks and Deep Learning*. Determination Press."
   ]
  }
 ],
 "metadata": {
  "colab": {
   "include_colab_link": true,
   "name": "template-report-lab-X.ipynb",
   "provenance": null,
   "version": "0.3.2"
  },
  "kernelspec": {
   "display_name": "Julia 1.1.0",
   "name": "julia-1.1"
  },
  "language_info": {
   "file_extension": ".jl",
   "mimetype": "application/julia",
   "name": "julia",
   "version": "1.1.0"
  },
  "name": "andersthune_lab7.ipynb"
 },
 "nbformat": 4,
 "nbformat_minor": 1
}
