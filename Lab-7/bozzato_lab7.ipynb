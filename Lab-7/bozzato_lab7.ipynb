{
  "nbformat": 4,
  "nbformat_minor": 0,
  "metadata": {
    "colab": {
      "name": "template-report-lab-X.ipynb",
      "version": "0.3.2",
      "provenance": [],
      "include_colab_link": true
    },
    "kernelspec": {
      "name": "python3",
      "display_name": "Python 3"
    }
  },
  "cells": [
    {
      "cell_type": "markdown",
      "metadata": {
        "id": "view-in-github",
        "colab_type": "text"
      },
      "source": [
        "<a href=\"https://colab.research.google.com/github/johanhoffman/DD2363-VT19/blob/bozzato/Lab-7/bozzato_lab7.ipynb\" target=\"_parent\"><img src=\"https://colab.research.google.com/assets/colab-badge.svg\" alt=\"Open In Colab\"/></a>"
      ]
    },
    {
      "metadata": {
        "id": "6RgtXlfYO_i7",
        "colab_type": "text"
      },
      "cell_type": "markdown",
      "source": [
        "# **Lab 7: Optimization and learning**\n",
        "**Bozzato Federico**"
      ]
    },
    {
      "metadata": {
        "id": "9x_J5FVuPzbm",
        "colab_type": "text"
      },
      "cell_type": "markdown",
      "source": [
        "#Abstract"
      ]
    },
    {
      "metadata": {
        "id": "6UFTSzW7P8kL",
        "colab_type": "text"
      },
      "cell_type": "markdown",
      "source": [
        "Short summary of the lab report. State the objectives, methods used, main results and conlusions. "
      ]
    },
    {
      "metadata": {
        "id": "yJipbXtnjrJZ",
        "colab_type": "text"
      },
      "cell_type": "markdown",
      "source": [
        ""
      ]
    },
    {
      "metadata": {
        "id": "OkT8J7uOWpT3",
        "colab_type": "text"
      },
      "cell_type": "markdown",
      "source": [
        "#About the code"
      ]
    },
    {
      "metadata": {
        "id": "HmB2noTr1Oyo",
        "colab_type": "text"
      },
      "cell_type": "markdown",
      "source": [
        "A short statement on who is the author of the file, and if the code is distributed under a certain license. "
      ]
    },
    {
      "metadata": {
        "id": "Pdll1Xc9WP0e",
        "colab_type": "code",
        "outputId": "86c198fd-ac96-4e1f-dac4-b85c35ff1eca",
        "colab": {
          "base_uri": "https://localhost:8080/",
          "height": 34
        }
      },
      "cell_type": "code",
      "source": [
        "\"\"\"This program is a template for lab reports in the course\"\"\"\n",
        "\"\"\"DD2363 Methods in Scientific Computing, \"\"\"\n",
        "\"\"\"KTH Royal Institute of Technology, Stockholm, Sweden.\"\"\"\n",
        "\n",
        "# Copyright (C) 2019 Johan Hoffman (jhoffman@kth.se)\n",
        "\n",
        "# This file is part of the course DD2363 Methods in Scientific Computing\n",
        "# KTH Royal Institute of Technology, Stockholm, Sweden\n",
        "#\n",
        "# This is free software: you can redistribute it and/or modify\n",
        "# it under the terms of the GNU Lesser General Public License as published by\n",
        "# the Free Software Foundation, either version 3 of the License, or\n",
        "# (at your option) any later version.\n",
        "\n",
        "# This template is maintained by Johan Hoffman\n",
        "# Please report problems to jhoffman@kth.se"
      ],
      "execution_count": 1,
      "outputs": [
        {
          "output_type": "execute_result",
          "data": {
            "text/plain": [
              "'KTH Royal Institute of Technology, Stockholm, Sweden.'"
            ]
          },
          "metadata": {
            "tags": []
          },
          "execution_count": 1
        }
      ]
    },
    {
      "metadata": {
        "id": "28xLGz8JX3Hh",
        "colab_type": "text"
      },
      "cell_type": "markdown",
      "source": [
        "#Set up environment"
      ]
    },
    {
      "metadata": {
        "id": "D2PYNusD08Wa",
        "colab_type": "text"
      },
      "cell_type": "markdown",
      "source": [
        "To have access to the neccessary modules you have to run this cell. If you need additional modules, this is where you add them. "
      ]
    },
    {
      "metadata": {
        "id": "Xw7VlErAX7NS",
        "colab_type": "code",
        "colab": {}
      },
      "cell_type": "code",
      "source": [
        "# Load neccessary modules.\n",
        "from google.colab import files\n",
        "\n",
        "import time\n",
        "\n",
        "import numpy as np\n",
        "from numpy import linalg as la\n",
        "\n",
        "from matplotlib import pyplot as plt"
      ],
      "execution_count": 0,
      "outputs": []
    },
    {
      "metadata": {
        "id": "gnO3lhAigLev",
        "colab_type": "text"
      },
      "cell_type": "markdown",
      "source": [
        "#Introduction"
      ]
    },
    {
      "metadata": {
        "id": "l5zMzgPlRAF6",
        "colab_type": "text"
      },
      "cell_type": "markdown",
      "source": [
        "Give a short description of the problem investigated in the report, and provide some background information so that the reader can understand the context. \n",
        "\n",
        "Briefly describe what method you have chosen to solve the problem, and justify why you selected that method. \n",
        "\n",
        "Here you can express mathematics through Latex syntax, and use hyperlinks for references.\n",
        "\n",
        "[Hyperlink to DD2363 course website.](https://kth.instructure.com/courses/7500)\n",
        "\n",
        "$\n",
        "{\\displaystyle \\frac{\\partial u}{\\partial t}} + u\\cdot \\nabla u +\\nabla p = f, \\quad \\nabla \\cdot u=0$\n",
        "\n"
      ]
    },
    {
      "metadata": {
        "id": "D6GC4dl9Cb20",
        "colab_type": "text"
      },
      "cell_type": "markdown",
      "source": [
        "#Useful tools"
      ]
    },
    {
      "metadata": {
        "id": "DKuTUctsChg5",
        "colab_type": "code",
        "colab": {}
      },
      "cell_type": "code",
      "source": [
        "def gradient(fun, point, h= 0.01):      \n",
        "  if not isinstance(point, np.ndarray):\n",
        "    point= np.array(point)\n",
        "    \n",
        "  if point.shape == () or point.shape[0] == 1:\n",
        "    n= 1\n",
        "    \n",
        "    return (fun(point+h) - fun(point-h)) / (2*h)\n",
        "  \n",
        "  else:\n",
        "    n= point.shape[0]\n",
        "    \n",
        "    g= np.zeros((n,1))\n",
        "\n",
        "    for i in range(n):\n",
        "      p1= [x for x in point]\n",
        "      p2= [x for x in point]\n",
        "      \n",
        "      p1[i]= p1[i] + h\n",
        "      p2[i]= p2[i] - h\n",
        "\n",
        "      g[i]= (fun(p1) - fun(p2)) / (2*h)\n",
        "\n",
        "    return np.around(g, decimals=int(-np.log10(h))).flatten()\n",
        "  \n",
        "  \n",
        "################################################################################\n",
        "  \n",
        "  \n",
        "def hessian(fun, point, h= 0.01):\n",
        "  if not isinstance(point, np.ndarray):\n",
        "    point= np.array(point)\n",
        "    \n",
        "  if point.shape == () or point.shape[0] == 1:\n",
        "    return (fun(point+2*h) - 2*fun(point) + fun(point-2*h))/ (4*h**2)\n",
        "  else:\n",
        "    n= point.shape[0]\n",
        "    \n",
        "    hess= np.zeros((n,n))\n",
        "    for i in range(n):\n",
        "      p1= [x for x in point]\n",
        "      p2= [x for x in point]\n",
        "\n",
        "      p1[i]= p1[i] + h\n",
        "      p2[i]= p2[i] - h\n",
        "\n",
        "      hess[i,:]= (gradient(fun, p1, h) - gradient(fun, p2, h)) / (2*h)\n",
        "      \n",
        "    return hess\n",
        "\n"
      ],
      "execution_count": 0,
      "outputs": []
    },
    {
      "metadata": {
        "id": "WeFO9QMeUOAu",
        "colab_type": "text"
      },
      "cell_type": "markdown",
      "source": [
        "#Methods"
      ]
    },
    {
      "metadata": {
        "id": "zF4iBj5VURZx",
        "colab_type": "text"
      },
      "cell_type": "markdown",
      "source": [
        "Describe the methods you used to solve the problem. This may be a combination of text, mathematical formulas (Latex), algorithms (code), data and output.  "
      ]
    },
    {
      "metadata": {
        "id": "566-c3jDvUZh",
        "colab_type": "text"
      },
      "cell_type": "markdown",
      "source": [
        "##Mandatory assignment"
      ]
    },
    {
      "metadata": {
        "id": "Cl2SlFwAvfnV",
        "colab_type": "text"
      },
      "cell_type": "markdown",
      "source": [
        "###1. Gradient descent method in $R^n$"
      ]
    },
    {
      "metadata": {
        "id": "EjxHXvLMv_hu",
        "colab_type": "code",
        "colab": {}
      },
      "cell_type": "code",
      "source": [
        "def minFinding(fun, x0, tol= 1e-5):\n",
        "\n",
        "  if not isinstance(x0, np.ndarray):\n",
        "    x0= np.array(x0)\n",
        "     \n",
        "  k= 0\n",
        "  x= x0\n",
        "  step= gradient(fun,x)\n",
        "  x_previous= np.zeros_like(x)\n",
        "  residuals= []\n",
        "  residuals.append(la.norm(step))\n",
        "  \n",
        "  while residuals[k] >= tol and k < 1000000:\n",
        "    grad= gradient(fun, x)\n",
        "    grad_previous= gradient(fun, x_previous)\n",
        "    \n",
        "    if k == 0:\n",
        "      alpha= np.inner(x,grad) / la.norm(grad)**2\n",
        "    else:\n",
        "      alpha= np.inner(x-x_previous, grad - grad_previous) / la.norm(grad - grad_previous)**2\n",
        "      \n",
        "    x_previous= x\n",
        "    x= x - alpha * grad\n",
        "    \n",
        "    res= la.norm(gradient(fun,x))\n",
        "    residuals.append(res)\n",
        "    k+= 1\n",
        "    \n",
        "  x= np.around(x, int(abs(np.log10(tol))))\n",
        "  \n",
        "  print('Convergence after {} iterations'.format(k))\n",
        "  return x, np.array(residuals)"
      ],
      "execution_count": 0,
      "outputs": []
    },
    {
      "metadata": {
        "id": "a5I8Gy1SvbZe",
        "colab_type": "text"
      },
      "cell_type": "markdown",
      "source": [
        "##Extra assignment"
      ]
    },
    {
      "metadata": {
        "id": "aDlt3OAwvt2Q",
        "colab_type": "text"
      },
      "cell_type": "markdown",
      "source": [
        "###2. Newton's method in $R^n$"
      ]
    },
    {
      "metadata": {
        "id": "387N54kOwAZ1",
        "colab_type": "code",
        "colab": {}
      },
      "cell_type": "code",
      "source": [
        "def newtonMinFinding(fun, x0, tol= 1e-5):\n",
        "  if not isinstance(x0, np.ndarray):\n",
        "    x0= np.array(x0)\n",
        "    \n",
        "  k= 0\n",
        "  x= x0\n",
        "  step= gradient(fun, x)\n",
        "  \n",
        "  residuals= []\n",
        "  residuals.append(la.norm(step))\n",
        "  while residuals[k] >= tol and k < 1000000:\n",
        "    hess= hessian(fun, x)\n",
        "    if hess.shape == () or hess.shape[0] == 1:\n",
        "      dx= -step / hess\n",
        "    else:\n",
        "      dx= la.lstsq(hess, -step, rcond=None)[0]\n",
        "    \n",
        "    x= x + dx\n",
        "    step= gradient(fun, x)\n",
        "    residuals.append(la.norm(step))\n",
        "    k+= 1\n",
        "  \n",
        "  x= np.around(x, int(abs(np.log10(tol))))\n",
        "  \n",
        "  print('Convergence after {} iterations'.format(k))\n",
        "  return x, np.array(residuals)"
      ],
      "execution_count": 0,
      "outputs": []
    },
    {
      "metadata": {
        "id": "tjVHkUNBv3eO",
        "colab_type": "text"
      },
      "cell_type": "markdown",
      "source": [
        "###3. Augmented Lagrangian method in $R^n$\n",
        "\n",
        "**Input**: objective function f(x), constraints g(x) = c\n",
        "\n",
        "**Output**: stationary point x* such that || dL/dx(x*) || < TOL\n",
        "\n",
        "**Test**: verify accuracy and convergence with respect to exact solution "
      ]
    },
    {
      "metadata": {
        "id": "haoZH-80wBMp",
        "colab_type": "code",
        "colab": {
          "base_uri": "https://localhost:8080/",
          "height": 416
        },
        "outputId": "c67aac57-521f-439c-90ed-79663501e805"
      },
      "cell_type": "code",
      "source": [
        "# http://www.cis.pku.edu.cn/faculty/vision/zlin/Publications/ALM-v5.pdf\n",
        "\n",
        "def augLagrangianMinimization(f, g, x0, tol= 1e-5):\n",
        "  \n",
        "  def augmentedLagrangian(f, g, gamma, n, m):\n",
        "    \n",
        "    lagr= lambda var: f(var[0:n]) - np.inner(var[n:n+m],g(var[0:n])) + gamma/2*la.norm(g(var[0:n]))**2\n",
        "    \n",
        "    return lagr\n",
        "    \n",
        "    \n",
        "  \n",
        "  # f: n -> 1\n",
        "  # g: n -> m\n",
        "  \n",
        "  if not isinstance(x0, np.ndarray):\n",
        "    x0= np.array(x0)\n",
        "  \n",
        "  if x0.shape == () or x0.shape[0] == 1:\n",
        "    n= 1\n",
        "  else:\n",
        "    n= x0.shape[0]\n",
        "    \n",
        "  tmp= g(x0)\n",
        "  if tmp.shape == () or tmp.shape[0] == 1:               # m is the dimension of\n",
        "    m= 1                                                 # lambda vector\n",
        "  else:\n",
        "    m= tmp.shape[0]\n",
        "  \n",
        "  x= np.zeros((n+m,))\n",
        "  x[0:n]= x0\n",
        "  \n",
        "  gamma= 1.1                                           # regularisation parameter\n",
        "                                                       # at 1st step\n",
        "  lagr= augmentedLagrangian(f, g, gamma, n, m)\n",
        "  k= 0\n",
        "  step= gradient(lagr, x)\n",
        "  \n",
        "  residuals= []  \n",
        "  residuals.append(la.norm(g(x[0:n])))\n",
        "  while residuals[k] >= tol and k < 1000:\n",
        "    \n",
        "    hess= hessian(lagr, x)\n",
        "    if hess.shape == () or hess.shape[0] == 1:\n",
        "      dx= -step / hess\n",
        "    else:\n",
        "      dx= la.lstsq(hess, -step, rcond=None)[0]\n",
        "    \n",
        "    #print('Hessian= \\n', hess)\n",
        "    #print(type(x), ' and x.shape= ', x.shape)\n",
        "    #print(type(dx), ' and dx.shape= ', dx.shape)\n",
        "       \n",
        "    x[0:n]= x[0:n] + dx[0:n]\n",
        "    x[n:n+m]= x[n:n+m] + gamma*(g(x[0:n]))\n",
        "    gamma= 1.2*gamma                                   # beta = 1.2                     \n",
        "    \n",
        "    lagr= augmentedLagrangian(f, g, gamma, n, m)\n",
        "    \n",
        "    step= gradient(lagr, x)\n",
        "    residuals.append(la.norm(g(x[0:n])))\n",
        "    k+= 1\n",
        "  \n",
        "  print('Convergence after {} iterations'.format(k))\n",
        "  return x[0:n].flatten(), np.array(residuals)\n",
        "  \n",
        "  \n",
        "f= lambda x: np.array(x[0]**2 - x[1]**2)\n",
        "g= lambda x: np.array(x[0]*x[1] - 5)\n",
        "\n",
        "result, res= augLagrangianMinimization(f, g, [5,5])\n",
        "\n",
        "print(f(result))\n",
        "print(g(result))\n",
        "print(result)\n",
        "\n",
        "plt.figure()\n",
        "plt.plot([x for x in range(0,res.shape[0])], res)\n",
        "plt.show()"
      ],
      "execution_count": 12,
      "outputs": [
        {
          "output_type": "stream",
          "text": [
            "Convergence after 1000 iterations\n",
            "5.789051212995819e-29\n",
            "-5.0\n",
            "[-3.69177996e-14  3.61252462e-14]\n"
          ],
          "name": "stdout"
        },
        {
          "output_type": "display_data",
          "data": {
            "image/png": "[encoded data removed]",
            "text/plain": [
              "<Figure size 576x396 with 1 Axes>"
            ]
          },
          "metadata": {
            "tags": []
          }
        }
      ]
    },
    {
      "metadata": {
        "id": "SsQLT38gVbn_",
        "colab_type": "text"
      },
      "cell_type": "markdown",
      "source": [
        "#Results"
      ]
    },
    {
      "metadata": {
        "id": "RLwlnOzuV-Cd",
        "colab_type": "text"
      },
      "cell_type": "markdown",
      "source": [
        "##1. Gradient descent method in $R^n$\n",
        "\n"
      ]
    },
    {
      "metadata": {
        "id": "SxfA2hLiwddX",
        "colab_type": "code",
        "outputId": "26055bbf-7246-414f-a01e-6e338781b86b",
        "colab": {
          "base_uri": "https://localhost:8080/",
          "height": 782
        }
      },
      "cell_type": "code",
      "source": [
        "f= lambda x: x**4 - 3*x**3 + 2\n",
        "x0= -2\n",
        "x1, res1= minFinding(f, x0, tol= 1e-5)\n",
        "\n",
        "print(x1)\n",
        "plt.figure()\n",
        "plt.plot([x for x in range(0,res1.shape[0])], np.log10(res1))\n",
        "plt.show()\n",
        "\n",
        "print(res1[-1])\n",
        "\n",
        "x2, res2= newtonMinFinding(f, x0, tol= 1e-5)\n",
        "\n",
        "print(x2)\n",
        "plt.figure()\n",
        "plt.plot([x for x in range(0,res2.shape[0])], np.log10(res2))\n",
        "plt.show()\n",
        "\n",
        "print(res2[-1])\n"
      ],
      "execution_count": 7,
      "outputs": [
        {
          "output_type": "stream",
          "text": [
            "Convergence after 648941 iterations\n",
            "2.24997\n"
          ],
          "name": "stdout"
        },
        {
          "output_type": "display_data",
          "data": {
            "image/png": "[encoded data removed]",
            "text/plain": [
              "<Figure size 576x396 with 1 Axes>"
            ]
          },
          "metadata": {
            "tags": []
          }
        },
        {
          "output_type": "stream",
          "text": [
            "1.8281021141319798e-08\n",
            "Convergence after 261 iterations\n",
            "2.24997\n"
          ],
          "name": "stdout"
        },
        {
          "output_type": "display_data",
          "data": {
            "image/png": "[encoded data removed]",
            "text/plain": [
              "<Figure size 576x396 with 1 Axes>"
            ]
          },
          "metadata": {
            "tags": []
          }
        },
        {
          "output_type": "stream",
          "text": [
            "1.354649725726631e-09\n"
          ],
          "name": "stdout"
        }
      ]
    },
    {
      "metadata": {
        "id": "rP-m5tTVVDhY",
        "colab_type": "code",
        "outputId": "b351caa3-9130-4485-88ae-6f0620740907",
        "colab": {
          "base_uri": "https://localhost:8080/",
          "height": 850
        }
      },
      "cell_type": "code",
      "source": [
        "f= lambda x: x[0]**2 + (x[1]-1)**2 \n",
        "x0= [0.6,0.1]\n",
        "x1, res1= minFinding(f, x0, tol= 1e-8)\n",
        "\n",
        "print(x1)\n",
        "plt.figure()\n",
        "plt.plot([x for x in range(0,res1.shape[0])], np.log10(res1))\n",
        "plt.show()\n",
        "\n",
        "print(res1[-1])\n",
        "\n",
        "x2, res2= newtonMinFinding(f, x0, tol= 1e-8)\n",
        "\n",
        "print(x2)\n",
        "plt.figure()\n",
        "plt.plot([x for x in range(0,res2.shape[0])], np.log10(res2))\n",
        "plt.show()\n",
        "\n",
        "print(res2[-1])"
      ],
      "execution_count": 8,
      "outputs": [
        {
          "output_type": "stream",
          "text": [
            "Convergence after 3 iterations\n",
            "[0.00158131 1.00013407]\n"
          ],
          "name": "stdout"
        },
        {
          "output_type": "stream",
          "text": [
            "/usr/local/lib/python3.6/dist-packages/ipykernel_launcher.py:7: RuntimeWarning: divide by zero encountered in log10\n",
            "  import sys\n"
          ],
          "name": "stderr"
        },
        {
          "output_type": "display_data",
          "data": {
            "image/png": "[encoded data removed]",
            "text/plain": [
              "<Figure size 576x396 with 1 Axes>"
            ]
          },
          "metadata": {
            "tags": []
          }
        },
        {
          "output_type": "stream",
          "text": [
            "0.0\n",
            "Convergence after 1 iterations\n",
            "[0. 1.]\n"
          ],
          "name": "stdout"
        },
        {
          "output_type": "stream",
          "text": [
            "/usr/local/lib/python3.6/dist-packages/ipykernel_launcher.py:16: RuntimeWarning: divide by zero encountered in log10\n",
            "  app.launch_new_instance()\n"
          ],
          "name": "stderr"
        },
        {
          "output_type": "display_data",
          "data": {
            "image/png": "[encoded data removed]",
            "text/plain": [
              "<Figure size 576x396 with 1 Axes>"
            ]
          },
          "metadata": {
            "tags": []
          }
        },
        {
          "output_type": "stream",
          "text": [
            "0.0\n"
          ],
          "name": "stdout"
        }
      ]
    },
    {
      "metadata": {
        "id": "Cp_Izazqweap",
        "colab_type": "text"
      },
      "cell_type": "markdown",
      "source": [
        "##2. Newton's method in $R^n$"
      ]
    },
    {
      "metadata": {
        "id": "8lUGwt0iwoJ0",
        "colab_type": "code",
        "colab": {}
      },
      "cell_type": "code",
      "source": [
        ""
      ],
      "execution_count": 0,
      "outputs": []
    },
    {
      "metadata": {
        "id": "7vt0ncFZwooH",
        "colab_type": "text"
      },
      "cell_type": "markdown",
      "source": [
        "##3. Augmented Lagrangian method in $R^n$"
      ]
    },
    {
      "metadata": {
        "id": "XN7xPepwwt7g",
        "colab_type": "code",
        "colab": {}
      },
      "cell_type": "code",
      "source": [
        ""
      ],
      "execution_count": 0,
      "outputs": []
    },
    {
      "metadata": {
        "id": "_4GLBv0zWr7m",
        "colab_type": "text"
      },
      "cell_type": "markdown",
      "source": [
        "#Discussion"
      ]
    },
    {
      "metadata": {
        "id": "6bcsDSoRXHZe",
        "colab_type": "text"
      },
      "cell_type": "markdown",
      "source": [
        "Summarize your results and your conclusions. Were the results expected or surprising. Do your results have implications outside the particular problem investigated in this report? "
      ]
    },
    {
      "metadata": {
        "id": "X_iWU7kNvCxh",
        "colab_type": "text"
      },
      "cell_type": "markdown",
      "source": [
        "#References\n",
        "\n",
        "[1] from Wikipedia, *[Gradient descent](https://en.wikipedia.org/wiki/Gradient_descent)*"
      ]
    }
  ]
}