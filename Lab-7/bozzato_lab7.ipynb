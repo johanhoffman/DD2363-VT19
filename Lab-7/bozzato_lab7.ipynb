{
  "nbformat": 4,
  "nbformat_minor": 0,
  "metadata": {
    "colab": {
      "name": "template-report-lab-X.ipynb",
      "version": "0.3.2",
      "provenance": [],
      "include_colab_link": true
    },
    "kernelspec": {
      "name": "python3",
      "display_name": "Python 3"
    }
  },
  "cells": [
    {
      "cell_type": "markdown",
      "metadata": {
        "id": "view-in-github",
        "colab_type": "text"
      },
      "source": [
        "<a href=\"https://colab.research.google.com/github/johanhoffman/DD2363-VT19/blob/bozzato/Lab-7/bozzato_lab7.ipynb\" target=\"_parent\"><img src=\"https://colab.research.google.com/assets/colab-badge.svg\" alt=\"Open In Colab\"/></a>"
      ]
    },
    {
      "metadata": {
        "id": "6RgtXlfYO_i7",
        "colab_type": "text"
      },
      "cell_type": "markdown",
      "source": [
        "# **Lab 7: Optimization and learning**\n",
        "**Bozzato Federico**"
      ]
    },
    {
      "metadata": {
        "id": "9x_J5FVuPzbm",
        "colab_type": "text"
      },
      "cell_type": "markdown",
      "source": [
        "#Abstract"
      ]
    },
    {
      "metadata": {
        "id": "6UFTSzW7P8kL",
        "colab_type": "text"
      },
      "cell_type": "markdown",
      "source": [
        "Short summary of the lab report. State the objectives, methods used, main results and conlusions. "
      ]
    },
    {
      "metadata": {
        "id": "yJipbXtnjrJZ",
        "colab_type": "text"
      },
      "cell_type": "markdown",
      "source": [
        ""
      ]
    },
    {
      "metadata": {
        "id": "OkT8J7uOWpT3",
        "colab_type": "text"
      },
      "cell_type": "markdown",
      "source": [
        "#About the code"
      ]
    },
    {
      "metadata": {
        "id": "HmB2noTr1Oyo",
        "colab_type": "text"
      },
      "cell_type": "markdown",
      "source": [
        "A short statement on who is the author of the file, and if the code is distributed under a certain license. "
      ]
    },
    {
      "metadata": {
        "id": "Pdll1Xc9WP0e",
        "colab_type": "code",
        "outputId": "81892708-cee2-4f7c-ca0c-cf45f30f02c7",
        "colab": {
          "base_uri": "https://localhost:8080/",
          "height": 34
        }
      },
      "cell_type": "code",
      "source": [
        "\"\"\"This program is a template for lab reports in the course\"\"\"\n",
        "\"\"\"DD2363 Methods in Scientific Computing, \"\"\"\n",
        "\"\"\"KTH Royal Institute of Technology, Stockholm, Sweden.\"\"\"\n",
        "\n",
        "# Copyright (C) 2019 Johan Hoffman (jhoffman@kth.se)\n",
        "\n",
        "# This file is part of the course DD2363 Methods in Scientific Computing\n",
        "# KTH Royal Institute of Technology, Stockholm, Sweden\n",
        "#\n",
        "# This is free software: you can redistribute it and/or modify\n",
        "# it under the terms of the GNU Lesser General Public License as published by\n",
        "# the Free Software Foundation, either version 3 of the License, or\n",
        "# (at your option) any later version.\n",
        "\n",
        "# This template is maintained by Johan Hoffman\n",
        "# Please report problems to jhoffman@kth.se"
      ],
      "execution_count": 40,
      "outputs": [
        {
          "output_type": "execute_result",
          "data": {
            "text/plain": [
              "'KTH Royal Institute of Technology, Stockholm, Sweden.'"
            ]
          },
          "metadata": {
            "tags": []
          },
          "execution_count": 40
        }
      ]
    },
    {
      "metadata": {
        "id": "28xLGz8JX3Hh",
        "colab_type": "text"
      },
      "cell_type": "markdown",
      "source": [
        "#Set up environment"
      ]
    },
    {
      "metadata": {
        "id": "D2PYNusD08Wa",
        "colab_type": "text"
      },
      "cell_type": "markdown",
      "source": [
        "To have access to the neccessary modules you have to run this cell. If you need additional modules, this is where you add them. "
      ]
    },
    {
      "metadata": {
        "id": "Xw7VlErAX7NS",
        "colab_type": "code",
        "colab": {}
      },
      "cell_type": "code",
      "source": [
        "# Load neccessary modules.\n",
        "from google.colab import files\n",
        "\n",
        "import time\n",
        "\n",
        "import numpy as np\n",
        "from numpy import linalg as la\n",
        "\n",
        "from matplotlib import pyplot as plt"
      ],
      "execution_count": 0,
      "outputs": []
    },
    {
      "metadata": {
        "id": "gnO3lhAigLev",
        "colab_type": "text"
      },
      "cell_type": "markdown",
      "source": [
        "#Introduction"
      ]
    },
    {
      "metadata": {
        "id": "l5zMzgPlRAF6",
        "colab_type": "text"
      },
      "cell_type": "markdown",
      "source": [
        "Give a short description of the problem investigated in the report, and provide some background information so that the reader can understand the context. \n",
        "\n",
        "Briefly describe what method you have chosen to solve the problem, and justify why you selected that method. \n",
        "\n",
        "Here you can express mathematics through Latex syntax, and use hyperlinks for references.\n",
        "\n",
        "[Hyperlink to DD2363 course website.](https://kth.instructure.com/courses/7500)\n",
        "\n",
        "$\n",
        "{\\displaystyle \\frac{\\partial u}{\\partial t}} + u\\cdot \\nabla u +\\nabla p = f, \\quad \\nabla \\cdot u=0$\n",
        "\n"
      ]
    },
    {
      "metadata": {
        "id": "D6GC4dl9Cb20",
        "colab_type": "text"
      },
      "cell_type": "markdown",
      "source": [
        "#Useful tools"
      ]
    },
    {
      "metadata": {
        "id": "DKuTUctsChg5",
        "colab_type": "code",
        "colab": {}
      },
      "cell_type": "code",
      "source": [
        "def derivative(fun, point, h=0.01):\n",
        "  '''\n",
        "  Calculates the first order derivative of the function @fun at the point\n",
        "  @point.\n",
        "  Parameters:\n",
        "  - fun: function for which the 1st order derivative is wanted\n",
        "  - point: point where to calculate the derivative\n",
        "  Output:\n",
        "  - derivative: central 1st order derivative\n",
        "  '''\n",
        "  return (fun(point+h) - fun(point-h)) / (2*h)              \n",
        "\n",
        "\n",
        "################################################################################\n",
        "\n",
        "\n",
        "def jacobian(fun,point,h=0.01):\n",
        "  '''\n",
        "  Calculates the Jacobian matrix for the vector function @fun at the point\n",
        "  @point.\n",
        "  Parameters:\n",
        "  - fun: function for which the Jacobian matrix is wanted\n",
        "  - point: point where to calculate the Jacobian\n",
        "  - h (default= 1): incrementation for the derivative\n",
        "  Output:\n",
        "  - jacobian: jacobian matrix of the function @fun\n",
        "  '''\n",
        "  if not isinstance(point, np.ndarray):\n",
        "    point = np.array(point)\n",
        "\n",
        "  n= len(point)\n",
        "\n",
        "  jacobian= np.zeros((n,n))\n",
        "  for i in range(0,n):\n",
        "    pp1= [p for p in point]\n",
        "    pp2= [p for p in point]\n",
        "\n",
        "    pp1[i]= pp1[i] + h\n",
        "    pp2[i]= pp2[i] - h\n",
        "\n",
        "    jacobian[:,i]= ((fun(pp1) - fun(pp2)) / (2*h)).T\n",
        "\n",
        "  return jacobian\n",
        "\n",
        "\n",
        "################################################################################\n",
        "\n",
        "\n",
        "def newtonScalarNLeq(fun, point, der=None, h= 0.1, tol= 1e-5):\n",
        "  '''\n",
        "  Solve the scalar nonlinear equation f(x) = 0, where f(x) is the function @fun.\n",
        "  The method used is Newton's method.\n",
        "  Parameters:\n",
        "  - fun: function \n",
        "  - point: starting guess for the iteration\n",
        "  - der (default = None): derivative of the function @fun, calculated manually. \n",
        "  - h (default = 0.1): dx used in computing the derivative\n",
        "  - tol (default= 1e-5): tolerance to stop the iterations\n",
        "  Output:\n",
        "  - x: point x such that f(x)=0\n",
        "  - residuals: vector containing all the residuals for each iteration\n",
        "  - iter: number of iterations for reaching the convergence\n",
        "  '''\n",
        "  \n",
        "  \n",
        "  if not callable(fun):\n",
        "    print('Error: impossible to continue! Parameter @fun is not callable()')\n",
        "    return None, None\n",
        "    \n",
        "  # loop until convergence is not reached\n",
        "  residuals= []\n",
        "  x= point\n",
        "  res= np.absolute(fun(x))\n",
        "  residuals.append(res)\n",
        "  k= 1\n",
        "  while res >= tol and k < 1000:\n",
        "    alpha = 0\n",
        "    if callable(der):\n",
        "      alpha= der(x)\n",
        "    else:\n",
        "      alpha= derivative(fun, x, h)\n",
        "      \n",
        "    x= x - fun(x)/alpha\n",
        "    res= np.absolute(fun(x))\n",
        "    residuals.append(res)\n",
        "    k+= 1\n",
        "    \n",
        "  return x, np.array(residuals), k\n",
        "\n",
        "\n",
        "################################################################################\n",
        "\n",
        "\n",
        "def newtonNLsystems(fun, initialPoint, J= None, h=0.1, tol= 1e-5):\n",
        "  '''\n",
        "  Solve the vector nonlinear system of equations f(x) = 0, where f(x) is the\n",
        "  vector function @fun.\n",
        "  The method used is Newton's method.\n",
        "  Parameters:\n",
        "  - fun: vector function \n",
        "  - point: starting guess for the iteration\n",
        "  - J (default= None): the Jacobian matrix of the vector function. It improves\n",
        "    algorithm performances.\n",
        "    - h (default = 0.1): dx used in computing the derivative\n",
        "  - tol (default= 1e-5): tolerance to stop the iterations\n",
        "  Output:\n",
        "  - x: point x such that f(x)=0\n",
        "  - residuals: vector containing all the residuals for each iteration\n",
        "  - iter: number of iterations for reaching the convergence\n",
        "  '''\n",
        "  if not callable(fun):\n",
        "    print('Error: impossible to continue! Parameter @fun is not callable()')\n",
        "    return None, None\n",
        "  \n",
        "  if not isinstance(initialPoint, np.ndarray):\n",
        "    intialPoint = np.array(initialPoint)\n",
        "    \n",
        "  x= initialPoint\n",
        "  k = 1\n",
        "  residuals= []\n",
        "  res= la.norm(fun(x))\n",
        "  \n",
        "  residuals.append(res)\n",
        "  while res >= tol and k < 1000:                                      # res= |f(x)|\n",
        "    jac= []\n",
        "    if callable(J):                                      # use J given by the user\n",
        "      jac= J(x)                                          # or calculate it\n",
        "    else:\n",
        "      jac= jacobian(fun,x,h)\n",
        "    \n",
        "\n",
        "    b= - fun(x)\n",
        "    dx, _, _, _ = la.lstsq(jac, b, rcond=None)       # built-in function\n",
        "    x = x + dx\n",
        "    res= la.norm(fun(x))\n",
        "    residuals.append(res)\n",
        "    k+= 1\n",
        "    \n",
        "  return x, np.array(residuals), k"
      ],
      "execution_count": 0,
      "outputs": []
    },
    {
      "metadata": {
        "id": "WeFO9QMeUOAu",
        "colab_type": "text"
      },
      "cell_type": "markdown",
      "source": [
        "#Methods"
      ]
    },
    {
      "metadata": {
        "id": "zF4iBj5VURZx",
        "colab_type": "text"
      },
      "cell_type": "markdown",
      "source": [
        "Describe the methods you used to solve the problem. This may be a combination of text, mathematical formulas (Latex), algorithms (code), data and output.  "
      ]
    },
    {
      "metadata": {
        "id": "566-c3jDvUZh",
        "colab_type": "text"
      },
      "cell_type": "markdown",
      "source": [
        "##Mandatory assignment"
      ]
    },
    {
      "metadata": {
        "id": "Cl2SlFwAvfnV",
        "colab_type": "text"
      },
      "cell_type": "markdown",
      "source": [
        "###1. Gradient descent method in $R^n$"
      ]
    },
    {
      "metadata": {
        "id": "EjxHXvLMv_hu",
        "colab_type": "code",
        "colab": {}
      },
      "cell_type": "code",
      "source": [
        "def minFinding(fun, x0, tol= 1e-3):\n",
        "  \n",
        "  def alphaFinding(fun, x, grad, beta, tol):\n",
        "    #print('x=', x)\n",
        "    #print('fun(x)=', fun(x))\n",
        "    f= lambda y: fun(y) - beta*(fun(x)) + 1\n",
        "    \n",
        "    start= (np.zeros_like(x))\n",
        "    y= solver(f, start, tol= tol)[0]\n",
        "    \n",
        "    alpha= (x - y) / grad\n",
        "    \n",
        "    #print(' > f(y) = {}, y = {}, alpha = {}'.format(beta*fun(x),y,alpha))\n",
        "    \n",
        "    return alpha\n",
        "\n",
        "  \n",
        "  if not isinstance(x0, np.ndarray):\n",
        "    x0= np.array(x0)\n",
        "    \n",
        "  if x0.shape == () or x0.shape[0] == 1:                   # choosing the right\n",
        "    der= derivative                                        # function based on \n",
        "    solver= newtonScalarNLeq\n",
        "  else:                                                    # the dimension of the\n",
        "    der= jacobian                                          # starting point\n",
        "    solver= newtonNLsystems\n",
        "  \n",
        "  print(solver)\n",
        "  k= 0\n",
        "  x= x0\n",
        "  step= der(fun,x)\n",
        "  \n",
        "  residuals= []\n",
        "  residuals.append(la.norm(step))\n",
        "  \n",
        "  while residuals[k] >= tol and k < 1000:\n",
        "    #print('{} iteration'.format(k+1))\n",
        "    alpha= alphaFinding(fun, x, step, 0.5, tol)\n",
        "    x= x - alpha*step\n",
        "    #print(' > x = {}'.format(x))\n",
        "    \n",
        "    step= der(fun,x)\n",
        "    residuals.append(la.norm(step))\n",
        "    k+= 1\n",
        "    \n",
        "  print('Convergence after {} iterations'.format(k))\n",
        "  return x, np.array(residuals)"
      ],
      "execution_count": 0,
      "outputs": []
    },
    {
      "metadata": {
        "id": "a5I8Gy1SvbZe",
        "colab_type": "text"
      },
      "cell_type": "markdown",
      "source": [
        "##Extra assignment"
      ]
    },
    {
      "metadata": {
        "id": "aDlt3OAwvt2Q",
        "colab_type": "text"
      },
      "cell_type": "markdown",
      "source": [
        "###2. Newton's method in $R^n$"
      ]
    },
    {
      "metadata": {
        "id": "387N54kOwAZ1",
        "colab_type": "code",
        "colab": {}
      },
      "cell_type": "code",
      "source": [
        ""
      ],
      "execution_count": 0,
      "outputs": []
    },
    {
      "metadata": {
        "id": "tjVHkUNBv3eO",
        "colab_type": "text"
      },
      "cell_type": "markdown",
      "source": [
        "###3. Augmented Lagrangian method in $R^n$"
      ]
    },
    {
      "metadata": {
        "id": "haoZH-80wBMp",
        "colab_type": "code",
        "colab": {}
      },
      "cell_type": "code",
      "source": [
        ""
      ],
      "execution_count": 0,
      "outputs": []
    },
    {
      "metadata": {
        "id": "SsQLT38gVbn_",
        "colab_type": "text"
      },
      "cell_type": "markdown",
      "source": [
        "#Results"
      ]
    },
    {
      "metadata": {
        "id": "RLwlnOzuV-Cd",
        "colab_type": "text"
      },
      "cell_type": "markdown",
      "source": [
        "##1. Gradient descent method in $R^n$"
      ]
    },
    {
      "metadata": {
        "id": "SxfA2hLiwddX",
        "colab_type": "code",
        "colab": {
          "base_uri": "https://localhost:8080/",
          "height": 416
        },
        "outputId": "60480cfd-f9ef-483e-d1d0-9c4373ff75d5"
      },
      "cell_type": "code",
      "source": [
        "f= lambda x: x**2 + x\n",
        "x0= 0.6\n",
        "x, res= minFinding(f, x0, tol= 1e-2)\n",
        "\n",
        "print(x)\n",
        "plt.figure()\n",
        "plt.plot([x for x in range(0,res.shape[0])], np.log10(res))\n",
        "plt.show()\n",
        "\n",
        "print(res[-1])\n",
        "\n",
        "################################################################################\n",
        "\n"
      ],
      "execution_count": 90,
      "outputs": [
        {
          "output_type": "stream",
          "text": [
            "<function newtonScalarNLeq at 0x7f0006988048>\n",
            "Convergence after 426 iterations\n",
            "-0.5012444441889601\n"
          ],
          "name": "stdout"
        },
        {
          "output_type": "display_data",
          "data": {
            "image/png": "[encoded data removed]",
            "text/plain": [
              "<Figure size 576x396 with 1 Axes>"
            ]
          },
          "metadata": {
            "tags": []
          }
        },
        {
          "output_type": "stream",
          "text": [
            "0.0024888883779203286\n"
          ],
          "name": "stdout"
        }
      ]
    },
    {
      "metadata": {
        "id": "rP-m5tTVVDhY",
        "colab_type": "code",
        "colab": {
          "base_uri": "https://localhost:8080/",
          "height": 878
        },
        "outputId": "57088d8c-98b0-4bd7-9cc5-337411d505ea"
      },
      "cell_type": "code",
      "source": [
        "# TODO: da sistemare\n",
        "\n",
        "f= lambda x: x[0]**2 + x[1]**2\n",
        "x0= [0.6,0.1]\n",
        "x, res= minFinding(f, x0, tol= 1e-2)\n",
        "\n",
        "print(x)\n",
        "plt.figure()\n",
        "plt.plot([x for x in range(0,res.shape[0])], np.log10(res))\n",
        "plt.show()\n",
        "\n",
        "print(res[-1])"
      ],
      "execution_count": 91,
      "outputs": [
        {
          "output_type": "stream",
          "text": [
            "<function newtonNLsystems at 0x7f0006c01620>\n",
            "[0. 0.]\n"
          ],
          "name": "stdout"
        },
        {
          "output_type": "error",
          "ename": "LinAlgError",
          "evalue": "ignored",
          "traceback": [
            "\u001b[0;31m---------------------------------------------------------------------------\u001b[0m",
            "\u001b[0;31mLinAlgError\u001b[0m                               Traceback (most recent call last)",
            "\u001b[0;32m<ipython-input-91-045d034ecd69>\u001b[0m in \u001b[0;36m<module>\u001b[0;34m()\u001b[0m\n\u001b[1;32m      1\u001b[0m \u001b[0mf\u001b[0m\u001b[0;34m=\u001b[0m \u001b[0;32mlambda\u001b[0m \u001b[0mx\u001b[0m\u001b[0;34m:\u001b[0m \u001b[0mx\u001b[0m\u001b[0;34m[\u001b[0m\u001b[0;36m0\u001b[0m\u001b[0;34m]\u001b[0m\u001b[0;34m**\u001b[0m\u001b[0;36m2\u001b[0m \u001b[0;34m+\u001b[0m \u001b[0mx\u001b[0m\u001b[0;34m[\u001b[0m\u001b[0;36m1\u001b[0m\u001b[0;34m]\u001b[0m\u001b[0;34m**\u001b[0m\u001b[0;36m2\u001b[0m\u001b[0;34m\u001b[0m\u001b[0;34m\u001b[0m\u001b[0m\n\u001b[1;32m      2\u001b[0m \u001b[0mx0\u001b[0m\u001b[0;34m=\u001b[0m \u001b[0;34m[\u001b[0m\u001b[0;36m0.6\u001b[0m\u001b[0;34m,\u001b[0m\u001b[0;36m0.1\u001b[0m\u001b[0;34m]\u001b[0m\u001b[0;34m\u001b[0m\u001b[0;34m\u001b[0m\u001b[0m\n\u001b[0;32m----> 3\u001b[0;31m \u001b[0mx\u001b[0m\u001b[0;34m,\u001b[0m \u001b[0mres\u001b[0m\u001b[0;34m=\u001b[0m \u001b[0mminFinding\u001b[0m\u001b[0;34m(\u001b[0m\u001b[0mf\u001b[0m\u001b[0;34m,\u001b[0m \u001b[0mx0\u001b[0m\u001b[0;34m,\u001b[0m \u001b[0mtol\u001b[0m\u001b[0;34m=\u001b[0m \u001b[0;36m1e-2\u001b[0m\u001b[0;34m)\u001b[0m\u001b[0;34m\u001b[0m\u001b[0;34m\u001b[0m\u001b[0m\n\u001b[0m\u001b[1;32m      4\u001b[0m \u001b[0;34m\u001b[0m\u001b[0m\n\u001b[1;32m      5\u001b[0m \u001b[0mprint\u001b[0m\u001b[0;34m(\u001b[0m\u001b[0mx\u001b[0m\u001b[0;34m)\u001b[0m\u001b[0;34m\u001b[0m\u001b[0;34m\u001b[0m\u001b[0m\n",
            "\u001b[0;32m<ipython-input-89-48eb584022df>\u001b[0m in \u001b[0;36mminFinding\u001b[0;34m(fun, x0, tol)\u001b[0m\n\u001b[1;32m     36\u001b[0m   \u001b[0;32mwhile\u001b[0m \u001b[0mresiduals\u001b[0m\u001b[0;34m[\u001b[0m\u001b[0mk\u001b[0m\u001b[0;34m]\u001b[0m \u001b[0;34m>=\u001b[0m \u001b[0mtol\u001b[0m \u001b[0;32mand\u001b[0m \u001b[0mk\u001b[0m \u001b[0;34m<\u001b[0m \u001b[0;36m1000\u001b[0m\u001b[0;34m:\u001b[0m\u001b[0;34m\u001b[0m\u001b[0;34m\u001b[0m\u001b[0m\n\u001b[1;32m     37\u001b[0m     \u001b[0;31m#print('{} iteration'.format(k+1))\u001b[0m\u001b[0;34m\u001b[0m\u001b[0;34m\u001b[0m\u001b[0;34m\u001b[0m\u001b[0m\n\u001b[0;32m---> 38\u001b[0;31m     \u001b[0malpha\u001b[0m\u001b[0;34m=\u001b[0m \u001b[0malphaFinding\u001b[0m\u001b[0;34m(\u001b[0m\u001b[0mfun\u001b[0m\u001b[0;34m,\u001b[0m \u001b[0mx\u001b[0m\u001b[0;34m,\u001b[0m \u001b[0mstep\u001b[0m\u001b[0;34m,\u001b[0m \u001b[0;36m0.5\u001b[0m\u001b[0;34m,\u001b[0m \u001b[0mtol\u001b[0m\u001b[0;34m)\u001b[0m\u001b[0;34m\u001b[0m\u001b[0;34m\u001b[0m\u001b[0m\n\u001b[0m\u001b[1;32m     39\u001b[0m     \u001b[0mx\u001b[0m\u001b[0;34m=\u001b[0m \u001b[0mx\u001b[0m \u001b[0;34m-\u001b[0m \u001b[0malpha\u001b[0m\u001b[0;34m*\u001b[0m\u001b[0mstep\u001b[0m\u001b[0;34m\u001b[0m\u001b[0;34m\u001b[0m\u001b[0m\n\u001b[1;32m     40\u001b[0m     \u001b[0;31m#print(' > x = {}'.format(x))\u001b[0m\u001b[0;34m\u001b[0m\u001b[0;34m\u001b[0m\u001b[0;34m\u001b[0m\u001b[0m\n",
            "\u001b[0;32m<ipython-input-89-48eb584022df>\u001b[0m in \u001b[0;36malphaFinding\u001b[0;34m(fun, x, grad, beta, tol)\u001b[0m\n\u001b[1;32m      7\u001b[0m \u001b[0;34m\u001b[0m\u001b[0m\n\u001b[1;32m      8\u001b[0m     \u001b[0mstart\u001b[0m\u001b[0;34m=\u001b[0m \u001b[0;34m(\u001b[0m\u001b[0mnp\u001b[0m\u001b[0;34m.\u001b[0m\u001b[0mzeros_like\u001b[0m\u001b[0;34m(\u001b[0m\u001b[0mx\u001b[0m\u001b[0;34m)\u001b[0m\u001b[0;34m)\u001b[0m\u001b[0;34m\u001b[0m\u001b[0;34m\u001b[0m\u001b[0m\n\u001b[0;32m----> 9\u001b[0;31m     \u001b[0my\u001b[0m\u001b[0;34m=\u001b[0m \u001b[0msolver\u001b[0m\u001b[0;34m(\u001b[0m\u001b[0mf\u001b[0m\u001b[0;34m,\u001b[0m \u001b[0mstart\u001b[0m\u001b[0;34m,\u001b[0m \u001b[0mtol\u001b[0m\u001b[0;34m=\u001b[0m \u001b[0mtol\u001b[0m\u001b[0;34m)\u001b[0m\u001b[0;34m[\u001b[0m\u001b[0;36m0\u001b[0m\u001b[0;34m]\u001b[0m\u001b[0;34m\u001b[0m\u001b[0;34m\u001b[0m\u001b[0m\n\u001b[0m\u001b[1;32m     10\u001b[0m \u001b[0;34m\u001b[0m\u001b[0m\n\u001b[1;32m     11\u001b[0m     \u001b[0malpha\u001b[0m\u001b[0;34m=\u001b[0m \u001b[0;34m(\u001b[0m\u001b[0mx\u001b[0m \u001b[0;34m-\u001b[0m \u001b[0my\u001b[0m\u001b[0;34m)\u001b[0m \u001b[0;34m/\u001b[0m \u001b[0mgrad\u001b[0m\u001b[0;34m\u001b[0m\u001b[0;34m\u001b[0m\u001b[0m\n",
            "\u001b[0;32m<ipython-input-80-b866860c432c>\u001b[0m in \u001b[0;36mnewtonNLsystems\u001b[0;34m(fun, initialPoint, J, h, tol)\u001b[0m\n\u001b[1;32m    132\u001b[0m \u001b[0;34m\u001b[0m\u001b[0m\n\u001b[1;32m    133\u001b[0m     \u001b[0mb\u001b[0m\u001b[0;34m=\u001b[0m \u001b[0;34m-\u001b[0m \u001b[0mfun\u001b[0m\u001b[0;34m(\u001b[0m\u001b[0mx\u001b[0m\u001b[0;34m)\u001b[0m\u001b[0;34m\u001b[0m\u001b[0;34m\u001b[0m\u001b[0m\n\u001b[0;32m--> 134\u001b[0;31m     \u001b[0mdx\u001b[0m\u001b[0;34m,\u001b[0m \u001b[0m_\u001b[0m\u001b[0;34m,\u001b[0m \u001b[0m_\u001b[0m\u001b[0;34m,\u001b[0m \u001b[0m_\u001b[0m \u001b[0;34m=\u001b[0m \u001b[0mla\u001b[0m\u001b[0;34m.\u001b[0m\u001b[0mlstsq\u001b[0m\u001b[0;34m(\u001b[0m\u001b[0mjac\u001b[0m\u001b[0;34m,\u001b[0m \u001b[0mb\u001b[0m\u001b[0;34m,\u001b[0m \u001b[0mrcond\u001b[0m\u001b[0;34m=\u001b[0m\u001b[0;32mNone\u001b[0m\u001b[0;34m)\u001b[0m       \u001b[0;31m# built-in function\u001b[0m\u001b[0;34m\u001b[0m\u001b[0;34m\u001b[0m\u001b[0m\n\u001b[0m\u001b[1;32m    135\u001b[0m     \u001b[0mx\u001b[0m \u001b[0;34m=\u001b[0m \u001b[0mx\u001b[0m \u001b[0;34m+\u001b[0m \u001b[0mdx\u001b[0m\u001b[0;34m\u001b[0m\u001b[0;34m\u001b[0m\u001b[0m\n\u001b[1;32m    136\u001b[0m     \u001b[0mres\u001b[0m\u001b[0;34m=\u001b[0m \u001b[0mla\u001b[0m\u001b[0;34m.\u001b[0m\u001b[0mnorm\u001b[0m\u001b[0;34m(\u001b[0m\u001b[0mfun\u001b[0m\u001b[0;34m(\u001b[0m\u001b[0mx\u001b[0m\u001b[0;34m)\u001b[0m\u001b[0;34m)\u001b[0m\u001b[0;34m\u001b[0m\u001b[0;34m\u001b[0m\u001b[0m\n",
            "\u001b[0;32m/usr/local/lib/python3.6/dist-packages/numpy/linalg/linalg.py\u001b[0m in \u001b[0;36mlstsq\u001b[0;34m(a, b, rcond)\u001b[0m\n\u001b[1;32m   1975\u001b[0m     \u001b[0;32mif\u001b[0m \u001b[0mis_1d\u001b[0m\u001b[0;34m:\u001b[0m\u001b[0;34m\u001b[0m\u001b[0;34m\u001b[0m\u001b[0m\n\u001b[1;32m   1976\u001b[0m         \u001b[0mb\u001b[0m \u001b[0;34m=\u001b[0m \u001b[0mb\u001b[0m\u001b[0;34m[\u001b[0m\u001b[0;34m:\u001b[0m\u001b[0;34m,\u001b[0m \u001b[0mnewaxis\u001b[0m\u001b[0;34m]\u001b[0m\u001b[0;34m\u001b[0m\u001b[0;34m\u001b[0m\u001b[0m\n\u001b[0;32m-> 1977\u001b[0;31m     \u001b[0m_assertRank2\u001b[0m\u001b[0;34m(\u001b[0m\u001b[0ma\u001b[0m\u001b[0;34m,\u001b[0m \u001b[0mb\u001b[0m\u001b[0;34m)\u001b[0m\u001b[0;34m\u001b[0m\u001b[0;34m\u001b[0m\u001b[0m\n\u001b[0m\u001b[1;32m   1978\u001b[0m     \u001b[0m_assertNoEmpty2d\u001b[0m\u001b[0;34m(\u001b[0m\u001b[0ma\u001b[0m\u001b[0;34m,\u001b[0m \u001b[0mb\u001b[0m\u001b[0;34m)\u001b[0m  \u001b[0;31m# TODO: relax this constraint\u001b[0m\u001b[0;34m\u001b[0m\u001b[0;34m\u001b[0m\u001b[0m\n\u001b[1;32m   1979\u001b[0m     \u001b[0mm\u001b[0m  \u001b[0;34m=\u001b[0m \u001b[0ma\u001b[0m\u001b[0;34m.\u001b[0m\u001b[0mshape\u001b[0m\u001b[0;34m[\u001b[0m\u001b[0;36m0\u001b[0m\u001b[0;34m]\u001b[0m\u001b[0;34m\u001b[0m\u001b[0;34m\u001b[0m\u001b[0m\n",
            "\u001b[0;32m/usr/local/lib/python3.6/dist-packages/numpy/linalg/linalg.py\u001b[0m in \u001b[0;36m_assertRank2\u001b[0;34m(*arrays)\u001b[0m\n\u001b[1;32m    193\u001b[0m         \u001b[0;32mif\u001b[0m \u001b[0ma\u001b[0m\u001b[0;34m.\u001b[0m\u001b[0mndim\u001b[0m \u001b[0;34m!=\u001b[0m \u001b[0;36m2\u001b[0m\u001b[0;34m:\u001b[0m\u001b[0;34m\u001b[0m\u001b[0;34m\u001b[0m\u001b[0m\n\u001b[1;32m    194\u001b[0m             raise LinAlgError('%d-dimensional array given. Array must be '\n\u001b[0;32m--> 195\u001b[0;31m                     'two-dimensional' % a.ndim)\n\u001b[0m\u001b[1;32m    196\u001b[0m \u001b[0;34m\u001b[0m\u001b[0m\n\u001b[1;32m    197\u001b[0m \u001b[0;32mdef\u001b[0m \u001b[0m_assertRankAtLeast2\u001b[0m\u001b[0;34m(\u001b[0m\u001b[0;34m*\u001b[0m\u001b[0marrays\u001b[0m\u001b[0;34m)\u001b[0m\u001b[0;34m:\u001b[0m\u001b[0;34m\u001b[0m\u001b[0;34m\u001b[0m\u001b[0m\n",
            "\u001b[0;31mLinAlgError\u001b[0m: 0-dimensional array given. Array must be two-dimensional"
          ]
        }
      ]
    },
    {
      "metadata": {
        "id": "Cp_Izazqweap",
        "colab_type": "text"
      },
      "cell_type": "markdown",
      "source": [
        "##2. Newton's method in $R^n$"
      ]
    },
    {
      "metadata": {
        "id": "8lUGwt0iwoJ0",
        "colab_type": "code",
        "colab": {}
      },
      "cell_type": "code",
      "source": [
        ""
      ],
      "execution_count": 0,
      "outputs": []
    },
    {
      "metadata": {
        "id": "7vt0ncFZwooH",
        "colab_type": "text"
      },
      "cell_type": "markdown",
      "source": [
        "##3. Augmented Lagrangian method in $R^n$"
      ]
    },
    {
      "metadata": {
        "id": "XN7xPepwwt7g",
        "colab_type": "code",
        "colab": {}
      },
      "cell_type": "code",
      "source": [
        ""
      ],
      "execution_count": 0,
      "outputs": []
    },
    {
      "metadata": {
        "id": "_4GLBv0zWr7m",
        "colab_type": "text"
      },
      "cell_type": "markdown",
      "source": [
        "#Discussion"
      ]
    },
    {
      "metadata": {
        "id": "6bcsDSoRXHZe",
        "colab_type": "text"
      },
      "cell_type": "markdown",
      "source": [
        "Summarize your results and your conclusions. Were the results expected or surprising. Do your results have implications outside the particular problem investigated in this report? "
      ]
    }
  ]
}