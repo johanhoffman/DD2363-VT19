{
  "nbformat": 4,
  "nbformat_minor": 0,
  "metadata": {
    "colab": {
      "name": "template-report-lab-X.ipynb",
      "version": "0.3.2",
      "provenance": [],
      "include_colab_link": true
    },
    "kernelspec": {
      "name": "python3",
      "display_name": "Python 3"
    }
  },
  "cells": [
    {
      "cell_type": "markdown",
      "metadata": {
        "id": "view-in-github",
        "colab_type": "text"
      },
      "source": [
        "<a href=\"https://colab.research.google.com/github/johanhoffman/DD2363-VT19/blob/bozzato/Lab-7/bozzato_lab7.ipynb\" target=\"_parent\"><img src=\"https://colab.research.google.com/assets/colab-badge.svg\" alt=\"Open In Colab\"/></a>"
      ]
    },
    {
      "metadata": {
        "id": "6RgtXlfYO_i7",
        "colab_type": "text"
      },
      "cell_type": "markdown",
      "source": [
        "# **Lab 7: Optimization and learning**\n",
        "**Bozzato Federico**"
      ]
    },
    {
      "metadata": {
        "id": "9x_J5FVuPzbm",
        "colab_type": "text"
      },
      "cell_type": "markdown",
      "source": [
        "#Abstract"
      ]
    },
    {
      "metadata": {
        "id": "6UFTSzW7P8kL",
        "colab_type": "text"
      },
      "cell_type": "markdown",
      "source": [
        "Short summary of the lab report. State the objectives, methods used, main results and conlusions. "
      ]
    },
    {
      "metadata": {
        "id": "yJipbXtnjrJZ",
        "colab_type": "text"
      },
      "cell_type": "markdown",
      "source": [
        ""
      ]
    },
    {
      "metadata": {
        "id": "OkT8J7uOWpT3",
        "colab_type": "text"
      },
      "cell_type": "markdown",
      "source": [
        "#About the code"
      ]
    },
    {
      "metadata": {
        "id": "HmB2noTr1Oyo",
        "colab_type": "text"
      },
      "cell_type": "markdown",
      "source": [
        "A short statement on who is the author of the file, and if the code is distributed under a certain license. "
      ]
    },
    {
      "metadata": {
        "id": "Pdll1Xc9WP0e",
        "colab_type": "code",
        "outputId": "d8f1bec8-3512-4115-ba84-eb4fd6a7394f",
        "colab": {
          "base_uri": "https://localhost:8080/",
          "height": 34
        }
      },
      "cell_type": "code",
      "source": [
        "\"\"\"This program is a template for lab reports in the course\"\"\"\n",
        "\"\"\"DD2363 Methods in Scientific Computing, \"\"\"\n",
        "\"\"\"KTH Royal Institute of Technology, Stockholm, Sweden.\"\"\"\n",
        "\n",
        "# Copyright (C) 2019 Johan Hoffman (jhoffman@kth.se)\n",
        "\n",
        "# This file is part of the course DD2363 Methods in Scientific Computing\n",
        "# KTH Royal Institute of Technology, Stockholm, Sweden\n",
        "#\n",
        "# This is free software: you can redistribute it and/or modify\n",
        "# it under the terms of the GNU Lesser General Public License as published by\n",
        "# the Free Software Foundation, either version 3 of the License, or\n",
        "# (at your option) any later version.\n",
        "\n",
        "# This template is maintained by Johan Hoffman\n",
        "# Please report problems to jhoffman@kth.se"
      ],
      "execution_count": 1,
      "outputs": [
        {
          "output_type": "execute_result",
          "data": {
            "text/plain": [
              "'KTH Royal Institute of Technology, Stockholm, Sweden.'"
            ]
          },
          "metadata": {
            "tags": []
          },
          "execution_count": 1
        }
      ]
    },
    {
      "metadata": {
        "id": "28xLGz8JX3Hh",
        "colab_type": "text"
      },
      "cell_type": "markdown",
      "source": [
        "#Set up environment"
      ]
    },
    {
      "metadata": {
        "id": "D2PYNusD08Wa",
        "colab_type": "text"
      },
      "cell_type": "markdown",
      "source": [
        "To have access to the neccessary modules you have to run this cell. If you need additional modules, this is where you add them. "
      ]
    },
    {
      "metadata": {
        "id": "Xw7VlErAX7NS",
        "colab_type": "code",
        "colab": {}
      },
      "cell_type": "code",
      "source": [
        "# Load neccessary modules.\n",
        "from google.colab import files\n",
        "\n",
        "import time\n",
        "\n",
        "import numpy as np\n",
        "from numpy import linalg as la\n",
        "\n",
        "from matplotlib import pyplot as plt"
      ],
      "execution_count": 0,
      "outputs": []
    },
    {
      "metadata": {
        "id": "gnO3lhAigLev",
        "colab_type": "text"
      },
      "cell_type": "markdown",
      "source": [
        "#Introduction"
      ]
    },
    {
      "metadata": {
        "id": "l5zMzgPlRAF6",
        "colab_type": "text"
      },
      "cell_type": "markdown",
      "source": [
        "Give a short description of the problem investigated in the report, and provide some background information so that the reader can understand the context. \n",
        "\n",
        "Briefly describe what method you have chosen to solve the problem, and justify why you selected that method. \n",
        "\n",
        "Here you can express mathematics through Latex syntax, and use hyperlinks for references.\n",
        "\n",
        "[Hyperlink to DD2363 course website.](https://kth.instructure.com/courses/7500)\n",
        "\n",
        "$\n",
        "{\\displaystyle \\frac{\\partial u}{\\partial t}} + u\\cdot \\nabla u +\\nabla p = f, \\quad \\nabla \\cdot u=0$\n",
        "\n"
      ]
    },
    {
      "metadata": {
        "id": "D6GC4dl9Cb20",
        "colab_type": "text"
      },
      "cell_type": "markdown",
      "source": [
        "#Useful tools"
      ]
    },
    {
      "metadata": {
        "id": "DKuTUctsChg5",
        "colab_type": "code",
        "colab": {}
      },
      "cell_type": "code",
      "source": [
        "def gradient(fun, point, h=0.01):      \n",
        "  if not isinstance(point, np.ndarray):\n",
        "    point= np.array(point)\n",
        "    \n",
        "  if point.shape == () or point.shape[0] == 1:\n",
        "    n= 1\n",
        "    \n",
        "    return (fun(point+h) - fun(point-h)) / (2*h)\n",
        "  \n",
        "  else:\n",
        "    n= point.shape[0]\n",
        "    \n",
        "    g= np.zeros((n,1))\n",
        "\n",
        "    for i in range(n):\n",
        "      p1= [x for x in point]\n",
        "      p2= [x for x in point]\n",
        "      \n",
        "      p1[i]= p1[i] + h\n",
        "      p2[i]= p2[i] - h\n",
        "\n",
        "      g[i]= (fun(p1) - fun(p2)) / (2*h)\n",
        "\n",
        "    return g.flatten()"
      ],
      "execution_count": 0,
      "outputs": []
    },
    {
      "metadata": {
        "id": "WeFO9QMeUOAu",
        "colab_type": "text"
      },
      "cell_type": "markdown",
      "source": [
        "#Methods"
      ]
    },
    {
      "metadata": {
        "id": "zF4iBj5VURZx",
        "colab_type": "text"
      },
      "cell_type": "markdown",
      "source": [
        "Describe the methods you used to solve the problem. This may be a combination of text, mathematical formulas (Latex), algorithms (code), data and output.  "
      ]
    },
    {
      "metadata": {
        "id": "566-c3jDvUZh",
        "colab_type": "text"
      },
      "cell_type": "markdown",
      "source": [
        "##Mandatory assignment"
      ]
    },
    {
      "metadata": {
        "id": "Cl2SlFwAvfnV",
        "colab_type": "text"
      },
      "cell_type": "markdown",
      "source": [
        "###1. Gradient descent method in $R^n$"
      ]
    },
    {
      "metadata": {
        "id": "EjxHXvLMv_hu",
        "colab_type": "code",
        "colab": {}
      },
      "cell_type": "code",
      "source": [
        "def minFinding(fun, x0, tol= 1e-5):\n",
        "\n",
        "  \n",
        "  if not isinstance(x0, np.ndarray):\n",
        "    x0= np.array(x0)\n",
        "     \n",
        "  k= 0\n",
        "  x= x0\n",
        "  step= gradient(fun,x)\n",
        "  x_previous= np.zeros_like(x)\n",
        "  residuals= []\n",
        "  residuals.append(la.norm(step))\n",
        "  \n",
        "  while residuals[k] >= tol and k < 1000000:\n",
        "    grad= gradient(fun, x)\n",
        "    grad_previous= gradient(fun, x_previous)\n",
        "    \n",
        "    if k == 0:\n",
        "      alpha= np.inner(x,grad) / la.norm(grad)**2\n",
        "    else:\n",
        "      alpha= np.inner(x-x_previous, grad - grad_previous) / la.norm(grad - grad_previous)**2\n",
        "      \n",
        "    x_previous= x\n",
        "    x= x - alpha * grad\n",
        "    \n",
        "    res= la.norm(gradient(fun,x))\n",
        "    residuals.append(res)\n",
        "    k+= 1\n",
        "    \n",
        "  x= np.around(x, int(abs(np.log10(tol))))\n",
        "  \n",
        "  print('Convergence after {} iterations'.format(k))\n",
        "  return x, np.array(residuals)"
      ],
      "execution_count": 0,
      "outputs": []
    },
    {
      "metadata": {
        "id": "a5I8Gy1SvbZe",
        "colab_type": "text"
      },
      "cell_type": "markdown",
      "source": [
        "##Extra assignment"
      ]
    },
    {
      "metadata": {
        "id": "aDlt3OAwvt2Q",
        "colab_type": "text"
      },
      "cell_type": "markdown",
      "source": [
        "###2. Newton's method in $R^n$"
      ]
    },
    {
      "metadata": {
        "id": "387N54kOwAZ1",
        "colab_type": "code",
        "colab": {}
      },
      "cell_type": "code",
      "source": [
        ""
      ],
      "execution_count": 0,
      "outputs": []
    },
    {
      "metadata": {
        "id": "tjVHkUNBv3eO",
        "colab_type": "text"
      },
      "cell_type": "markdown",
      "source": [
        "###3. Augmented Lagrangian method in $R^n$"
      ]
    },
    {
      "metadata": {
        "id": "haoZH-80wBMp",
        "colab_type": "code",
        "colab": {}
      },
      "cell_type": "code",
      "source": [
        ""
      ],
      "execution_count": 0,
      "outputs": []
    },
    {
      "metadata": {
        "id": "SsQLT38gVbn_",
        "colab_type": "text"
      },
      "cell_type": "markdown",
      "source": [
        "#Results"
      ]
    },
    {
      "metadata": {
        "id": "RLwlnOzuV-Cd",
        "colab_type": "text"
      },
      "cell_type": "markdown",
      "source": [
        "##1. Gradient descent method in $R^n$"
      ]
    },
    {
      "metadata": {
        "id": "SxfA2hLiwddX",
        "colab_type": "code",
        "outputId": "2efa666b-031e-428f-f68d-7b8fd8ef221f",
        "colab": {
          "base_uri": "https://localhost:8080/",
          "height": 400
        }
      },
      "cell_type": "code",
      "source": [
        "f= lambda x: x**4 - 3*x**3 + 2\n",
        "x0= -2\n",
        "x, res= minFinding(f, x0, tol= 1e-5)\n",
        "\n",
        "print(x)\n",
        "plt.figure()\n",
        "plt.plot([x for x in range(0,res.shape[0])], np.log10(res))\n",
        "plt.show()\n",
        "\n",
        "print(res[-1])"
      ],
      "execution_count": 18,
      "outputs": [
        {
          "output_type": "stream",
          "text": [
            "Convergence after 648941 iterations\n",
            "2.24997\n"
          ],
          "name": "stdout"
        },
        {
          "output_type": "display_data",
          "data": {
            "image/png": "[encoded data removed]",
            "text/plain": [
              "<Figure size 576x396 with 1 Axes>"
            ]
          },
          "metadata": {
            "tags": []
          }
        },
        {
          "output_type": "stream",
          "text": [
            "1.8281021141319798e-08\n"
          ],
          "name": "stdout"
        }
      ]
    },
    {
      "metadata": {
        "id": "rP-m5tTVVDhY",
        "colab_type": "code",
        "outputId": "193503d6-c01d-446e-b852-e65d3149709a",
        "colab": {
          "base_uri": "https://localhost:8080/",
          "height": 399
        }
      },
      "cell_type": "code",
      "source": [
        "# TODO: da sistemare\n",
        "\n",
        "f= lambda x: x[0]**3 + x[1]**2 +x[0]*x[1]\n",
        "x0= [0.6,0.1]\n",
        "x, res= minFinding(f, x0, tol= 1e-15)\n",
        "\n",
        "print(x)\n",
        "plt.figure()\n",
        "plt.plot([x for x in range(0,res.shape[0])], np.log10(res))\n",
        "plt.show()\n",
        "\n",
        "print(res[-1])"
      ],
      "execution_count": 12,
      "outputs": [
        {
          "output_type": "stream",
          "text": [
            "Convergence after 18 iterations\n",
            "[ 0.16646643 -0.08323321]\n"
          ],
          "name": "stdout"
        },
        {
          "output_type": "display_data",
          "data": {
            "image/png": "[encoded data removed]",
            "text/plain": [
              "<Figure size 576x396 with 1 Axes>"
            ]
          },
          "metadata": {
            "tags": []
          }
        },
        {
          "output_type": "stream",
          "text": [
            "1.2266347333466993e-16\n"
          ],
          "name": "stdout"
        }
      ]
    },
    {
      "metadata": {
        "id": "Cp_Izazqweap",
        "colab_type": "text"
      },
      "cell_type": "markdown",
      "source": [
        "##2. Newton's method in $R^n$"
      ]
    },
    {
      "metadata": {
        "id": "8lUGwt0iwoJ0",
        "colab_type": "code",
        "colab": {}
      },
      "cell_type": "code",
      "source": [
        ""
      ],
      "execution_count": 0,
      "outputs": []
    },
    {
      "metadata": {
        "id": "7vt0ncFZwooH",
        "colab_type": "text"
      },
      "cell_type": "markdown",
      "source": [
        "##3. Augmented Lagrangian method in $R^n$"
      ]
    },
    {
      "metadata": {
        "id": "XN7xPepwwt7g",
        "colab_type": "code",
        "colab": {}
      },
      "cell_type": "code",
      "source": [
        ""
      ],
      "execution_count": 0,
      "outputs": []
    },
    {
      "metadata": {
        "id": "_4GLBv0zWr7m",
        "colab_type": "text"
      },
      "cell_type": "markdown",
      "source": [
        "#Discussion"
      ]
    },
    {
      "metadata": {
        "id": "6bcsDSoRXHZe",
        "colab_type": "text"
      },
      "cell_type": "markdown",
      "source": [
        "Summarize your results and your conclusions. Were the results expected or surprising. Do your results have implications outside the particular problem investigated in this report? "
      ]
    },
    {
      "metadata": {
        "id": "X_iWU7kNvCxh",
        "colab_type": "text"
      },
      "cell_type": "markdown",
      "source": [
        "#References\n",
        "\n",
        "[1] from Wikipedia, *[Gradient descent](https://en.wikipedia.org/wiki/Gradient_descent)*"
      ]
    }
  ]
}