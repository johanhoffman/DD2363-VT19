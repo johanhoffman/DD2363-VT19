{
  "nbformat": 4,
  "nbformat_minor": 0,
  "metadata": {
    "colab": {
      "name": "template-report-lab-X.ipynb",
      "version": "0.3.2",
      "provenance": [],
      "toc_visible": true,
      "include_colab_link": true
    },
    "kernelspec": {
      "name": "python3",
      "display_name": "Python 3"
    }
  },
  "cells": [
    {
      "cell_type": "markdown",
      "metadata": {
        "id": "view-in-github",
        "colab_type": "text"
      },
      "source": [
        "<a href=\"https://colab.research.google.com/github/johanhoffman/DD2363-VT19/blob/bozzato/Lab-2/bozzato_lab2.ipynb\" target=\"_parent\"><img src=\"https://colab.research.google.com/assets/colab-badge.svg\" alt=\"Open In Colab\"/></a>"
      ]
    },
    {
      "metadata": {
        "id": "6RgtXlfYO_i7",
        "colab_type": "text"
      },
      "cell_type": "markdown",
      "source": [
        "# **Lab 2: Direct methods**\n",
        "**Bozzato Federico**"
      ]
    },
    {
      "metadata": {
        "id": "9x_J5FVuPzbm",
        "colab_type": "text"
      },
      "cell_type": "markdown",
      "source": [
        "# **Abstract**"
      ]
    },
    {
      "metadata": {
        "id": "6UFTSzW7P8kL",
        "colab_type": "text"
      },
      "cell_type": "markdown",
      "source": [
        "In this lab we will see how these general methods can be used to solve algebraic problems, such as to find the inverse of a matrix or to compute the eigenvalues of a certain matrix, which are theoretically simple to solve but very hard to compute."
      ]
    },
    {
      "metadata": {
        "id": "OkT8J7uOWpT3",
        "colab_type": "text"
      },
      "cell_type": "markdown",
      "source": [
        "#**About the code**"
      ]
    },
    {
      "metadata": {
        "id": "HmB2noTr1Oyo",
        "colab_type": "text"
      },
      "cell_type": "markdown",
      "source": [
        "**Author:** Federico Bozzato "
      ]
    },
    {
      "metadata": {
        "id": "Pdll1Xc9WP0e",
        "colab_type": "code",
        "outputId": "565c6f73-8c4f-4022-9d9c-bf320323036d",
        "colab": {
          "base_uri": "https://localhost:8080/",
          "height": 34
        }
      },
      "cell_type": "code",
      "source": [
        "\"\"\"This program is a template for lab reports in the course\"\"\"\n",
        "\"\"\"DD2363 Methods in Scientific Computing, \"\"\"\n",
        "\"\"\"KTH Royal Institute of Technology, Stockholm, Sweden.\"\"\"\n",
        "\n",
        "# Copyright (C) 2019 Johan Hoffman (jhoffman@kth.se)\n",
        "\n",
        "# This file is part of the course DD2363 Methods in Scientific Computing\n",
        "# KTH Royal Institute of Technology, Stockholm, Sweden\n",
        "#\n",
        "# This is free software: you can redistribute it and/or modify\n",
        "# it under the terms of the GNU Lesser General Public License as published by\n",
        "# the Free Software Foundation, either version 3 of the License, or\n",
        "# (at your option) any later version.\n",
        "\n",
        "# This template is maintained by Johan Hoffman\n",
        "# Please report problems to jhoffman@kth.se"
      ],
      "execution_count": 1,
      "outputs": [
        {
          "output_type": "execute_result",
          "data": {
            "text/plain": [
              "'KTH Royal Institute of Technology, Stockholm, Sweden.'"
            ]
          },
          "metadata": {
            "tags": []
          },
          "execution_count": 1
        }
      ]
    },
    {
      "metadata": {
        "id": "28xLGz8JX3Hh",
        "colab_type": "text"
      },
      "cell_type": "markdown",
      "source": [
        "# **Set up environment**"
      ]
    },
    {
      "metadata": {
        "id": "D2PYNusD08Wa",
        "colab_type": "text"
      },
      "cell_type": "markdown",
      "source": [
        "To have access to the neccessary modules you have to run this cell. If you need additional modules, this is where you add them. "
      ]
    },
    {
      "metadata": {
        "id": "Xw7VlErAX7NS",
        "colab_type": "code",
        "colab": {}
      },
      "cell_type": "code",
      "source": [
        "# Load neccessary modules.\n",
        "from google.colab import files\n",
        "\n",
        "import sys\n",
        "import math\n",
        "import numpy as np\n",
        "from numpy import linalg"
      ],
      "execution_count": 0,
      "outputs": []
    },
    {
      "metadata": {
        "id": "gnO3lhAigLev",
        "colab_type": "text"
      },
      "cell_type": "markdown",
      "source": [
        "# **Introduction**"
      ]
    },
    {
      "metadata": {
        "id": "l5zMzgPlRAF6",
        "colab_type": "text"
      },
      "cell_type": "markdown",
      "source": [
        "Direct methods are general methods for constructing a proof of the existence of a minimizer for a given functional [1]. This kind of methods are widely used to solve several algebraic problems, which may be computationally difficult to implement: for example to find eigenvalues and eigenvectors of an $n\\times n$ matrix with $n \\ge 4$ is a non trivial problem to solve.\n",
        "\n",
        "Even though some of these methods can give us approximate results, for particular types of inputs these methods reach high performances. In fact, in addition to being used to prove the existence of a solution,  direct methods may be used to compute the solution to derised accurancy [1].\n",
        "\n",
        "\n",
        "This report is divided into three parts:\n",
        "\n",
        "1. Methods: in this section, each algorithm is presented and explained, giving also the mathematic definition of the operation the algorithm implements\n",
        "\n",
        "2. Results: in this section, the results of each algorithm are presented.\n",
        "\n",
        "3. Discussion: in this last section, results are discussed."
      ]
    },
    {
      "metadata": {
        "id": "WeFO9QMeUOAu",
        "colab_type": "text"
      },
      "cell_type": "markdown",
      "source": [
        "# **Methods**"
      ]
    },
    {
      "metadata": {
        "id": "zF4iBj5VURZx",
        "colab_type": "text"
      },
      "cell_type": "markdown",
      "source": [
        "This section is divided into two subsection: the mandatory part and the extra assignment."
      ]
    },
    {
      "metadata": {
        "id": "xLMPBDX9zZv4",
        "colab_type": "text"
      },
      "cell_type": "markdown",
      "source": [
        "## Mandatory assignment"
      ]
    },
    {
      "metadata": {
        "id": "4A93KxfLzI_u",
        "colab_type": "text"
      },
      "cell_type": "markdown",
      "source": [
        "###1. QR factorization\n",
        "####Definition\n",
        "QR factorization is a method used to solve a generic equation such as $Ax=b$ where $A$ is an $n\\times n$ matrix, $b$ is an $n\\times 1$ vector and $x$ is the unknown vector. \n",
        "\n",
        "The key idea of QR factorization consists of decomposing an $n\\times n$ matrix $A$ into the product $A=QR$, where $Q$ is an orthogonal matrix (which means $Q^{-1}=Q^{T}$) and $R$ is an upper triangular matrix [2].\n",
        "\n",
        "####Implementation\n",
        "One way to implement QR factorization is to start from Gram-Schmidt algorithm, that orthogonalizes vectors belonging to the same vector space $V$. \n",
        "\n",
        "Given a square matrix $A\\in\\mathbb{R}^{n\\times n}$, with its columns defining the vectors $\\{a_{i}\\}_{i=1}^n$, the new orthogonal vectors are given by [3]\n",
        "\n",
        ">$\n",
        "v_j = a_j - \\displaystyle \\sum_{i=1}^{j-1} \\left(a_j,q_i\\right)q_i \\qquad \\forall j=1,\\dots,n\n",
        "$\n",
        "\n",
        "where\n",
        "\n",
        "* $a_j$ is the $j-$th column of matrix $A$\n",
        "* $q_i$ is the normalized vector $q_j= \\frac{v_i}{||v_i||}$\n",
        "\n",
        "These equations can be rewritten in the following way\n",
        "\n",
        ">$\n",
        "  \\begin{align*}\n",
        "    a_1 &= r_{11}q_1 \\\\\n",
        "    a_2 &= r_{12}q_1 + r_{22}q_2 \\\\\n",
        "           &\\vdots\\\\\n",
        "    a_n &= r_{1n}q_1 + \\dots + r_{nn}q_n\n",
        "  \\end{align*}\n",
        "$\n",
        "\n",
        "where\n",
        "\n",
        "* $r_{ij}=(a_j,q_i)$\n",
        "* $r_{jj}=||a_j-\\sum_{i=1}^{j-1}(a_j,q_i)q_i||$\n",
        "\n",
        "As it is possible to observe, the rewritten equations corresponds to product $A=QR$, where the columns of $Q$ are given by ${q_i}_{i=1}^n$ and $R$ is an uppen triangular matrix.\n",
        "\n",
        "The algorithm implementing the QR factorization is the following one [4]:\n",
        "\n",
        "\n",
        "```\n",
        "for i = 1 to n do\n",
        "  v_i = a_i\n",
        "  r_ii = abs(v_i)\n",
        "  q_i= v_i / r_ii\n",
        "  for j = i+1 to n do\n",
        "    r_ij = transpose(q_i)v_j\n",
        "    v_j = v_i - r_ij*q_i\n",
        "  end\n",
        "end\n",
        "```\n",
        "\n"
      ]
    },
    {
      "metadata": {
        "id": "fTyFbyLsa8mP",
        "colab_type": "code",
        "colab": {}
      },
      "cell_type": "code",
      "source": [
        "def QRfactorization(matrixA):\n",
        "  '''\n",
        "  Calculates the QR factorization of matrixA which must be invertible and \n",
        "  returns the orthogonal matrix Q and the upper triangular matrix R such that\n",
        "  A = QR\n",
        "  Parameters:\n",
        "  - matrixA: square matrix to be factorized\n",
        "  Output:\n",
        "  - Q: orthogonal matrix\n",
        "  - R: upper triangular matrix\n",
        "  '''\n",
        "  \n",
        "  if not isinstance(matrixA,np.ndarray):\n",
        "    matrixA= np.array(matrixA)\n",
        "    \n",
        "  if matrixA.shape[0] != matrixA.shape[1]:\n",
        "    print('Error: only square matrices are allowed!')\n",
        "    sys.exit(1)\n",
        "    \n",
        "  n= matrixA.shape[0]\n",
        "  \n",
        "  v= np.zeros((n,n))\n",
        "  for i in range(0,n):\n",
        "    v[:,i]= matrixA[:,i]\n",
        "    \n",
        "  Q= np.zeros((n,n))\n",
        "  R= np.zeros((n,n))\n",
        "  for i in range(0,n):\n",
        "    r_ii = np.dot(v[:,i],v[:,i])**(0.5)\n",
        "    \n",
        "    R[i,i]= r_ii\n",
        "    q_i= v[:,i]/r_ii\n",
        "    Q[:,i]= q_i\n",
        "    \n",
        "    for j in range(i+1,n):\n",
        "      r_ij= np.dot(q_i,v[:,j])\n",
        "      R[i,j]= r_ij\n",
        "      v[:,j]= v[:,j] - r_ij*q_i\n",
        "  \n",
        "  return Q, R"
      ],
      "execution_count": 0,
      "outputs": []
    },
    {
      "metadata": {
        "id": "WUFjTcGDzPV0",
        "colab_type": "text"
      },
      "cell_type": "markdown",
      "source": [
        "###2. Direct solver $Ax=b$\n",
        "####Definition\n",
        "Let $A$ and $b$ be an $n\\times n$ matrix and $n\\times 1$ vector, respectively. It is possible to solve the system of equations $Ax=b$ by using the QR factorization. In fact, $A$ can be decomposed into the product $A=QR$, where $Q$ is a orthogonal matrix and $R$ is an upper triangular matrix. Thus,\n",
        "\n",
        ">$\n",
        "  Ax= B \\Longrightarrow QRx=b\n",
        "$\n",
        "\n",
        "Since $Q^{-1}= Q^{T}$ because $Q$ is orthogonal, we obtain\n",
        "\n",
        ">$\n",
        "Rx= Q^{T}b\n",
        "$\n",
        "\n",
        "Now, in order to get $x$, we can use the *backward substitution* explained in [5].\n",
        "\n",
        "\n",
        "####Implementation\n",
        "One of the possible implementations is the following one:"
      ]
    },
    {
      "metadata": {
        "id": "Ww_UhniGdomb",
        "colab_type": "code",
        "colab": {}
      },
      "cell_type": "code",
      "source": [
        "def linearSystemSolver(matrixA,b):\n",
        "  '''\n",
        "  Calculates the unknown vector x of the equation Ax=b.\n",
        "  Parameters:\n",
        "  - matrixA: n x n square matrix \n",
        "  - b: n x 1 vector\n",
        "  Output:\n",
        "  - x: n x 1 unknowm vector\n",
        "  '''\n",
        "  \n",
        "  if not isinstance(matrixA,np.ndarray):\n",
        "    matrixA= np.array(matrixA)\n",
        "    \n",
        "  if not isinstance(b,np.ndarray):\n",
        "    b= np.array(b)\n",
        "  \n",
        "  Q, R= QRfactorization(matrixA)\n",
        "  \n",
        "  new_b= np.dot(Q.T,b)\n",
        "  \n",
        "  x= np.zeros((matrixA.shape[1],1))\n",
        "  x[-1]= new_b[-1]/R[-1,-1]\n",
        "  for i in range(matrixA.shape[0]-2,-1,-1):\n",
        "    s= 0\n",
        "    for j in range(i+1,matrixA.shape[1]):\n",
        "      s+= R[i,j]*x[j]\n",
        "    x[i]= (new_b[i]-s)/R[i,i]\n",
        "    \n",
        "  #x= x.tolist()\n",
        "  #x= [np.round(x[i][0],10) for i in range(0,len(x))]\n",
        "  \n",
        "  return x\n",
        "  "
      ],
      "execution_count": 0,
      "outputs": []
    },
    {
      "metadata": {
        "id": "hCl9yBB3zeNX",
        "colab_type": "text"
      },
      "cell_type": "markdown",
      "source": [
        "## Extra assignment"
      ]
    },
    {
      "metadata": {
        "id": "8RqiZaZ-zh4U",
        "colab_type": "text"
      },
      "cell_type": "markdown",
      "source": [
        "###3. Least squares problem $Ax=b$\n",
        "####Definition\n",
        "In the section about the direct solver we explored the algorithm for solving systems of linear equations $Ax=b$ where $A$ is a square $n\\times n$ matrix. Now, let us consider a system of linear equations $Ax=b$ where, instead, $A$ is a $m\\times n$ matrix, with $m>n$ and $b\\in\\mathbb{R}^m$. Since there exists no inverse matrix $A^{-1}$, we cannot use the previous algorithm to solve $Ax=b$ but we have to apply other algorithms.\n",
        "\n",
        "We will examine the general case, where $b\\notin \\text{range}(A)$: for these cases, we say that the system $Ax=b$ is *overdetermined* [6]. Since there exists no exact solution $x$ to the system $Ax=b$, we have to find an approximation of the unknown vector $x$ that solves the system, and one method is called *least squares problem*. \n",
        "\n",
        "Least squares problem consists of minimizing the residual $r= b-Ax \\in\\mathbb{R}^m$, or similarly\n",
        "\n",
        ">$\n",
        "\\displaystyle x=\\arg \\min_{y\\in\\mathbb{R}^n} ||b-Ay||\n",
        "$\n",
        "\n",
        "Since $b\\notin\\text{range}(A)$, looking for $x$ such that minimizes the residual $r=b-Ax$ means that we are seeking a vector $x\\in\\mathbb{R}^n$ such that the Euclidian distance betweem $Ax$ and $b$ is minimal [6]: this is equal to\n",
        "\n",
        ">$\n",
        "A^Tr= 0 \\Longleftrightarrow A^TAx=A^Tb\n",
        "$\n",
        "\n",
        "And thus, $A^TA$ is always symmetric positive-semidefinite matrix because it has only real entries [7]. If $A^TA$ is invertible, the vector $x$ is given by\n",
        "\n",
        ">$\n",
        "  x= \\left(A^TA\\right)^{-1}A^Tb\n",
        "$\n",
        "\n",
        "####Implementation\n",
        "For the implementation of the least squares problem, we start considering the equation\n",
        "\n",
        ">$\n",
        "  A^TAx= A^Tb\n",
        "$\n",
        "\n",
        "where\n",
        "\n",
        "* $D=A^TA\\in\\mathbb{R}^{n\\times n}$\n",
        "* $x\\in\\mathbb{R}^n$\n",
        "* $e=A^Tb\\in\\mathbb{R}^n$\n",
        "\n",
        "Consequently, we can rewrite the equation $A^TAx= A^Tb$ as\n",
        "\n",
        ">$\n",
        "Dx=e\n",
        "$\n",
        "\n",
        "and use the direct solver algorithm presented in the previous section."
      ]
    },
    {
      "metadata": {
        "id": "sBZ-PldThJ3N",
        "colab_type": "code",
        "colab": {}
      },
      "cell_type": "code",
      "source": [
        "def leastSquareProblem(matrixA,b):\n",
        "  '''\n",
        "  Solves the system Ax=b by using least square method.\n",
        "  Parameters:\n",
        "  - matrixA: m x n matrix, with m > n\n",
        "  - b: m x 1 vector\n",
        "  Output:\n",
        "  - x: n x 1 vector\n",
        "  '''\n",
        "  \n",
        "  if not isinstance(matrixA,np.ndarray):\n",
        "    matrixA= np.array(matrixA)\n",
        "    \n",
        "  if matrixA.shape[0] < matrixA.shape[1]:\n",
        "    print('Error: too many unknowns! Impossible to solve the system.')\n",
        "    sys.exit(1)\n",
        "    \n",
        "  D= np.dot(matrixA.T,matrixA)                  # D is defined as above\n",
        "  e= np.dot(matrixA.T,b)                        # e is defined as above\n",
        "  \n",
        "  x= linearSystemSolver(D,e)\n",
        "  \n",
        "  return x"
      ],
      "execution_count": 0,
      "outputs": []
    },
    {
      "metadata": {
        "id": "iCs7mXq8zoaI",
        "colab_type": "text"
      },
      "cell_type": "markdown",
      "source": [
        "###4. QR eigenvalue algorithm\n",
        "####Definition\n",
        "The eigenvalues for a matrix $A\\in\\mathbb{R}^{n\\times n}$ are defined as the solution of the equation\n",
        "\n",
        ">$\n",
        "\\det(A-\\lambda I)=0\n",
        "$\n",
        "\n",
        "which is known as *characteristic equation* for $A$.\n",
        "\n",
        "The eigenvectors $\\{x_i\\}$ associated to the $i-$th eigenvalue $\\lambda_i$ are defined by \n",
        "\n",
        ">$\n",
        "  \\left(A-\\lambda_iI\\right)x=0\n",
        "$\n",
        "\n",
        "\n",
        "####Implementation\n",
        "One way to seek the eigenvalues and their corresponding eigenvectors for a square $n\\times n$ matrix $A$ is to find a matrix $T$ which is similar to $A$ by using similarity transforms. In fact, similar matrices have the same eigenvalues [8,9,10,11].\n",
        "\n",
        "My implementation consists of two parts:\n",
        "\n",
        "#####1. QR algorithm \n",
        "This algorithm [12,13] is based on Schur factorization of a matrix from successive QR factorizations. The output of this algorithm is a matrix $A^{(k)}$ similar to the input matrix $A$ and it is an upper triangular matrix with eigenvalues on the diagonal. The algorithm is the following one:\n",
        "\n",
        "```\n",
        "A_k = A\n",
        "for k = 1, 2, ... do\n",
        "  Q_k,R_k= QRfactorization(A_k)\n",
        "  A_k= R_k * Q_k\n",
        "end\n",
        "```\n",
        "\n",
        "\n",
        "\n",
        "#####2. Rayleigh quotient\n",
        "After estimating the eigenvalues of matrix $A$, we have to compute the eigenvectors associated to each eigenvalue. The aim of using also this algorithm is to obtain more accurate eigenvalue estimates and at the same time to obtain the estimation of the eigenvector associated to each eigenvalue.\n",
        "\n",
        "The Rayleigh quotient is an iterative method, where at $i-$th step the approximation of the eigenvector $v_i$ associated to the eigenvalue $\\lambda_i$ is defined as\n",
        "\n",
        ">$\n",
        "  b_{i}= \\dfrac{(A-\\mu_{i-1}I)^{-1}b_{i-1}}{||(A-\\mu_{i-1}I)^{-1}b_{i-1}||}\n",
        "$\n",
        "\n",
        "where $\\mu_{i-1}$ is the eigenvalue to the Rayleigh quotient of the current iteration equal to\n",
        "\n",
        ">$\n",
        "\\mu_{i-1}=\\dfrac{b_{i-1}^TAb_{i-1}}{b_{i-1}^tb_{i-1}}\n",
        "$\n",
        "\n",
        "As we can see, $(A-\\mu_{i-1}I)^{-1}b_{i-1}$ is the solution of the equation $(A-\\mu_{i-1}I)x=b_{i-1}$ and thus we can use the direct solver in order to calculate $x= (A-\\mu_{i-1}I)^{-1}b_{i-1}$\n",
        "The algorithm is the following one:\n",
        "\n",
        "```\n",
        "b_k = b\n",
        "mu_k = mu\n",
        "for k= 1, 2, ... do\n",
        "  b_k1 = inverse(A-mu_k*I) * b_k\n",
        "  b_k = b_k1 / norm(b_k1)\n",
        "  mu_k = (transpose(b_k) * A * b_k) / (norm(b_k)^2)\n",
        "end\n",
        "```\n",
        "\n",
        "\n",
        "\n"
      ]
    },
    {
      "metadata": {
        "id": "jIyCd-dSiw5E",
        "colab_type": "code",
        "colab": {}
      },
      "cell_type": "code",
      "source": [
        "def eigenvaluesQRalgorithm(matrixA,convergence=1e-8):\n",
        "  '''\n",
        "  Calculates eigenvalues and eigenvectors of the matrixA by using the QR \n",
        "  algorithm.\n",
        "  Parameters:\n",
        "  - matrixA: n x n matrix\n",
        "  - convergence (default = 1e-8): limit under which the algorithm stops the \n",
        "    iterations\n",
        "  Output:\n",
        "  - eigenvalues: eigenvalues of matrixA\n",
        "  - eigenvectors: eigenvectors of matrixA\n",
        "  '''\n",
        "  \n",
        "  if not isinstance(matrixA,np.ndarray):\n",
        "    matrixA= np.array(matrixA)\n",
        "    \n",
        "  # QR algorithm\n",
        "  n= matrixA.shape[0]\n",
        "  A= matrixA\n",
        "  it= 1\n",
        "  Q= []\n",
        "  while it < 2500:\n",
        "    Q_tmp, R= QRfactorization(A)                           # factorization of A\n",
        "    A= np.dot(R,Q_tmp)                                     # A = RQ\n",
        "    if it == 1:\n",
        "      Q= Q_tmp\n",
        "    else:\n",
        "      Q= np.dot(Q,Q_tmp)\n",
        "    \n",
        "    it+= 1\n",
        "    \n",
        "  eigenval= [A[i,i] for i in range(0,n)]\n",
        "  eigenvec= []\n",
        "  \n",
        "  # Rayleigh quotient\n",
        "  for i in range(0,len(eigenval)):                         # do the loop for all\n",
        "                                                           # the eigenvalues\n",
        "      b= Q[:,i]\n",
        "      mu= eigenval[i]\n",
        "      matr= matrixA - mu*np.eye(n)                         # (A-mu*I) as defined\n",
        "                                                           # above\n",
        "      r= np.dot(matrixA,b) - mu*b\n",
        "      r= np.inner(r,r)**(0.5)                              # residual used for \n",
        "                                                           # the convergence\n",
        "      \n",
        "      iterations= 1\n",
        "      while r > convergence and iterations < 1000:\n",
        "        tmp= leastSquareProblem(matr,b)                    # tmp= ||A-mu*b(i-1)||\n",
        "        if math.isnan(np.inner(tmp,tmp)) or np.inner(tmp,tmp) == 0:\n",
        "          break\n",
        "        \n",
        "        b= tmp/(mp.inner(tmp,tmp)**(0.5))                  # normalization\n",
        "        mu= np.dot(np.dot(b.T,matrixA),b)/np.inner(b,b)    # new eigenvalue mu\n",
        "        \n",
        "        r= np.dot(matrixA,b) - mu*b\n",
        "        r= np.inner(r,r)**(0.5)\n",
        "        print('r= ', r)\n",
        "        iterations+= 1\n",
        "      \n",
        "      eigenval[i]= mu\n",
        "      b= b/(np.inner(b,b)**(0.5))\n",
        "      eigenvec.append(b)\n",
        "      \n",
        "  return eigenval, eigenvec"
      ],
      "execution_count": 0,
      "outputs": []
    },
    {
      "metadata": {
        "id": "SsQLT38gVbn_",
        "colab_type": "text"
      },
      "cell_type": "markdown",
      "source": [
        "# **Results**"
      ]
    },
    {
      "metadata": {
        "id": "RLwlnOzuV-Cd",
        "colab_type": "text"
      },
      "cell_type": "markdown",
      "source": [
        "In this section, we can see the results of the algorithms explained in the previous paragraph in order to verify wether these algorithms work properly or not. It is obviously impossible to test the algorithms with all the possible inputs but here we offer just some examples in order to have a general view for each algorithm."
      ]
    },
    {
      "metadata": {
        "id": "sE8Ook3KoLak",
        "colab_type": "text"
      },
      "cell_type": "markdown",
      "source": [
        "## QR factorization\n",
        "Below there are the results for the QR factorization."
      ]
    },
    {
      "metadata": {
        "id": "EsuNb-SRo3zv",
        "colab_type": "code",
        "colab": {
          "base_uri": "https://localhost:8080/",
          "height": 1334
        },
        "outputId": "ccbe7bd6-b7ba-4517-840b-1ed3ee6cc64d"
      },
      "cell_type": "code",
      "source": [
        "def frobeniusNorm(m):\n",
        "  if not isinstance(m,np.ndarray):\n",
        "    m= np.array(m)\n",
        "  new_m= np.dot(m,m.T)\n",
        "  \n",
        "  return np.trace(new_m)**(0.5)\n",
        "\n",
        "\n",
        "count= 0\n",
        "for i in range(2,27):\n",
        "  # creating a random upper triangular matrix\n",
        "  matrix= np.random.randint(1,21,size=(i,i))\n",
        "  matrix= np.triu(matrix)\n",
        "  \n",
        "  Q,R= QRfactorization(matrix)\n",
        "  flag= True\n",
        "  flag= flag and np.array_equal(Q,np.eye(i))\n",
        "  flag= flag and np.array_equal(R,matrix)\n",
        "  if flag:\n",
        "    count += 1\n",
        "    \n",
        "  print('test {}'.format(i-1))\n",
        "  print('|| Q^TQ-I ||= ', frobeniusNorm(np.dot(Q.T,Q)-np.eye(i)))\n",
        "  print('|| QR - A ||= ', frobeniusNorm(np.dot(Q,R)-matrix))\n",
        "  \n",
        "    \n",
        "print(count, '/25 successes')"
      ],
      "execution_count": 33,
      "outputs": [
        {
          "output_type": "stream",
          "text": [
            "test 1\n",
            "|| Q^TQ-I ||=  0.0\n",
            "|| QR - A ||=  0.0\n",
            "test 2\n",
            "|| Q^TQ-I ||=  0.0\n",
            "|| QR - A ||=  0.0\n",
            "test 3\n",
            "|| Q^TQ-I ||=  0.0\n",
            "|| QR - A ||=  0.0\n",
            "test 4\n",
            "|| Q^TQ-I ||=  0.0\n",
            "|| QR - A ||=  0.0\n",
            "test 5\n",
            "|| Q^TQ-I ||=  0.0\n",
            "|| QR - A ||=  0.0\n",
            "test 6\n",
            "|| Q^TQ-I ||=  0.0\n",
            "|| QR - A ||=  0.0\n",
            "test 7\n",
            "|| Q^TQ-I ||=  0.0\n",
            "|| QR - A ||=  0.0\n",
            "test 8\n",
            "|| Q^TQ-I ||=  0.0\n",
            "|| QR - A ||=  0.0\n",
            "test 9\n",
            "|| Q^TQ-I ||=  0.0\n",
            "|| QR - A ||=  0.0\n",
            "test 10\n",
            "|| Q^TQ-I ||=  0.0\n",
            "|| QR - A ||=  0.0\n",
            "test 11\n",
            "|| Q^TQ-I ||=  0.0\n",
            "|| QR - A ||=  0.0\n",
            "test 12\n",
            "|| Q^TQ-I ||=  0.0\n",
            "|| QR - A ||=  0.0\n",
            "test 13\n",
            "|| Q^TQ-I ||=  0.0\n",
            "|| QR - A ||=  0.0\n",
            "test 14\n",
            "|| Q^TQ-I ||=  0.0\n",
            "|| QR - A ||=  0.0\n",
            "test 15\n",
            "|| Q^TQ-I ||=  0.0\n",
            "|| QR - A ||=  0.0\n",
            "test 16\n",
            "|| Q^TQ-I ||=  0.0\n",
            "|| QR - A ||=  0.0\n",
            "test 17\n",
            "|| Q^TQ-I ||=  0.0\n",
            "|| QR - A ||=  0.0\n",
            "test 18\n",
            "|| Q^TQ-I ||=  0.0\n",
            "|| QR - A ||=  0.0\n",
            "test 19\n",
            "|| Q^TQ-I ||=  0.0\n",
            "|| QR - A ||=  0.0\n",
            "test 20\n",
            "|| Q^TQ-I ||=  0.0\n",
            "|| QR - A ||=  0.0\n",
            "test 21\n",
            "|| Q^TQ-I ||=  0.0\n",
            "|| QR - A ||=  0.0\n",
            "test 22\n",
            "|| Q^TQ-I ||=  0.0\n",
            "|| QR - A ||=  0.0\n",
            "test 23\n",
            "|| Q^TQ-I ||=  0.0\n",
            "|| QR - A ||=  0.0\n",
            "test 24\n",
            "|| Q^TQ-I ||=  0.0\n",
            "|| QR - A ||=  0.0\n",
            "test 25\n",
            "|| Q^TQ-I ||=  0.0\n",
            "|| QR - A ||=  0.0\n",
            "25 /25 successes\n"
          ],
          "name": "stdout"
        }
      ]
    },
    {
      "metadata": {
        "id": "HfcL6H26yGBA",
        "colab_type": "text"
      },
      "cell_type": "markdown",
      "source": [
        "As we can see, all the tests are been passed."
      ]
    },
    {
      "metadata": {
        "id": "SmmIHu3ByUBU",
        "colab_type": "text"
      },
      "cell_type": "markdown",
      "source": [
        "## Direct solver $Ax=b$\n",
        "Below there are the results for the direct solver."
      ]
    },
    {
      "metadata": {
        "id": "VNwL0uP2yjV2",
        "colab_type": "code",
        "colab": {
          "base_uri": "https://localhost:8080/",
          "height": 346
        },
        "outputId": "1d84671b-5e38-469d-e70b-9dc844e2a600"
      },
      "cell_type": "code",
      "source": [
        "print('---------TEST 1----------------------')\n",
        "matrix= [[1,  1],\n",
        "         [1, -1]]\n",
        "\n",
        "b= [[5], \n",
        "    [1]]\n",
        "\n",
        "x= linearSystemSolver(matrix,b)\n",
        "x_manual= [[3],\n",
        "           [2]]\n",
        "x_manual= np.array(x_manual)\n",
        "\n",
        "print('x.T=', x.T)\n",
        "print('|| Ax - b || =',np.round(frobeniusNorm(np.dot(matrix,x)-b),10))\n",
        "print('|| x - x_manual ||=',np.round(frobeniusNorm(x-x_manual),10))\n",
        "print()\n",
        "\n",
        "print('---------TEST 2----------------------')\n",
        "matrix= [[ 2, 4, 6],\n",
        "         [ 3, 8, 5],\n",
        "         [-1, 1, 2]]\n",
        "\n",
        "b= [[22],\n",
        "    [27],\n",
        "    [ 2]]\n",
        "b= np.array(b)\n",
        "\n",
        "x= linearSystemSolver(matrix,b)\n",
        "x_manual= [[3],\n",
        "           [1],\n",
        "           [2]]\n",
        "x_manual= np.array(x_manual)\n",
        "\n",
        "print('x.T=', x.T)\n",
        "print('|| Ax - b || =',np.round(frobeniusNorm(np.dot(matrix,x)-b),10))\n",
        "print('|| x - x_manual ||=',np.round(frobeniusNorm(x-x_manual),10))\n",
        "print()\n",
        "\n",
        "print('---------TEST 3----------------------')\n",
        "matrix= [[ 3, -2,  8],\n",
        "         [-2,  2,  1],\n",
        "         [ 1,  2, -3]]\n",
        "\n",
        "b= [[9],\n",
        "    [3],\n",
        "    [8]]\n",
        "b= np.array(b)\n",
        "\n",
        "x= linearSystemSolver(matrix,b)\n",
        "x_manual= [[3],\n",
        "           [4],\n",
        "           [1]]\n",
        "x_manual= np.array(x_manual)\n",
        "\n",
        "print('x.T=', x.T)\n",
        "print('|| Ax - b || =',np.round(frobeniusNorm(np.dot(matrix,x)-b),10))\n",
        "print('|| x - x_manual ||=',np.round(frobeniusNorm(x-x_manual),10))\n",
        "print()\n",
        "\n",
        "print('---------TEST 4----------------------')\n",
        "matrix= [[ 1, -2,  2, -3],\n",
        "         [ 3,  2, -1,  5],\n",
        "         [ 2, -3,  4, -1],\n",
        "         [ 3, -2, -1,  2]]\n",
        "\n",
        "b= [[-7],\n",
        "    [22],\n",
        "    [-3],\n",
        "    [12]]\n",
        "b= np.array(b)\n",
        "\n",
        "x= linearSystemSolver(matrix,b)\n",
        "x_manual= [[ 3],\n",
        "           [ 1],\n",
        "           [-1],\n",
        "           [ 2]]\n",
        "x_manual= np.array(x_manual)\n",
        "\n",
        "print('x.T=', x.T)\n",
        "print('|| Ax - b || =',np.round(frobeniusNorm(np.dot(matrix,x)-b),10))\n",
        "print('|| x - x_manual ||=',np.round(frobeniusNorm(x-x_manual),10))"
      ],
      "execution_count": 66,
      "outputs": [
        {
          "output_type": "stream",
          "text": [
            "---------TEST 1----------------------\n",
            "x.T= [[3. 2.]]\n",
            "|| Ax - b || = 0.0\n",
            "|| x - x_manual ||= 0.0\n",
            "\n",
            "---------TEST 2----------------------\n",
            "x.T= [[3. 1. 2.]]\n",
            "|| Ax - b || = 0.0\n",
            "|| x - x_manual ||= 0.0\n",
            "\n",
            "---------TEST 3----------------------\n",
            "x.T= [[3. 4. 1.]]\n",
            "|| Ax - b || = 0.0\n",
            "|| x - x_manual ||= 0.0\n",
            "\n",
            "---------TEST 4----------------------\n",
            "x.T= [[ 3.  1. -1.  2.]]\n",
            "|| Ax - b || = 0.0\n",
            "|| x - x_manual ||= 0.0\n"
          ],
          "name": "stdout"
        }
      ]
    },
    {
      "metadata": {
        "id": "_H2C93va-TLT",
        "colab_type": "text"
      },
      "cell_type": "markdown",
      "source": [
        "As we can observe, rounding to the 10th decimal place all the residuals are equal to 0. This means that this implementation the results can be considered correct.\n",
        "\n",
        "All the exercise have been taken from [16]."
      ]
    },
    {
      "metadata": {
        "id": "GG1dbxfB_yC-",
        "colab_type": "text"
      },
      "cell_type": "markdown",
      "source": [
        "##Least squares problem\n",
        "Below there are the results for the least squares problem."
      ]
    },
    {
      "metadata": {
        "id": "f64baRlD__3E",
        "colab_type": "code",
        "colab": {
          "base_uri": "https://localhost:8080/",
          "height": 242
        },
        "outputId": "1b75831f-3b31-49d2-dda3-405a8cc1041d"
      },
      "cell_type": "code",
      "source": [
        "def tester(A,x,b):\n",
        "  '''\n",
        "  Tests 100 possible vectors and compare the residuals with the one of the \n",
        "  vector x in input. If all the residuals are greater than the residual of the \n",
        "  vector x in input, the output is True, otherwise is False.\n",
        "  '''\n",
        "  r= frobeniusNorm(np.dot(A,x)-b)\n",
        "  count = 0\n",
        "  for _ in range(0,100):\n",
        "    y= np.random.rand(x.shape[0],x.shape[1])*100\n",
        "    rr= np.dot(A,y) - b\n",
        "    rr = frobeniusNorm(rr)\n",
        "    if r < rr:\n",
        "      count += 1\n",
        "    \n",
        "  if count == 100:\n",
        "    return '|| Ax - b ||= {:.3f} is the lowest residual'.format(r)\n",
        "  else:\n",
        "    return '|| Ax - b ||= {:.3f} is not the lowest residual'.format(r)\n",
        "\n",
        "print('-----------TEST 1--------------------------')\n",
        "matrix = [[1, -1],\n",
        "          [1,  1],\n",
        "          [2,  1]]\n",
        "\n",
        "b= [[2],\n",
        "    [4],\n",
        "    [8]]\n",
        "\n",
        "x= leastSquareProblem(matrix,b)\n",
        "print('x.T=',x.T)\n",
        "print(tester(matrix,x,b))\n",
        "print('Exercise taken from [17]\\n')\n",
        "\n",
        "print('-----------TEST 2--------------------------')\n",
        "matrix= [[ 1,  1,  1],\n",
        "         [-2,  0, -5],\n",
        "         [ 1,  2, -1],\n",
        "         [ 0, -1,  2]]\n",
        "\n",
        "b= [[-1],\n",
        "    [ 3],\n",
        "    [-2],\n",
        "    [ 1]]\n",
        "\n",
        "x= leastSquareProblem(matrix,b)\n",
        "print('x.T=',x.T)\n",
        "print(tester(matrix,x,b),'\\n')\n",
        "\n",
        "print('-----------TEST 3--------------------------')\n",
        "matrix= [[ 4,  0,  1,  0],\n",
        "         [ 0,  2, -1, -2],\n",
        "         [ 1, -1,  4,  0],\n",
        "         [ 0, -2,  0,  4],\n",
        "         [-2,  5,  8, -2],\n",
        "         [ 3, -9,  0,  1]]\n",
        "\n",
        "b= [[-1],\n",
        "    [ 3],\n",
        "    [-2],\n",
        "    [ 1],\n",
        "    [ 0],\n",
        "    [-8]]\n",
        "\n",
        "x= leastSquareProblem(matrix,b)\n",
        "print('x.T=',x.T)\n",
        "print(tester(matrix,x,b),'\\n')"
      ],
      "execution_count": 90,
      "outputs": [
        {
          "output_type": "stream",
          "text": [
            "-----------TEST 1--------------------------\n",
            "x.T= [[3.28571429 1.14285714]]\n",
            "|| Ax - b ||= 0.535 is the lowest residual\n",
            "Exercise taken from [17]\n",
            "\n",
            "-----------TEST 2--------------------------\n",
            "x.T= [[-9.  5.  3.]]\n",
            "|| Ax - b ||= 0.000 is the lowest residual \n",
            "\n",
            "-----------TEST 3--------------------------\n",
            "x.T= [[-0.06225645  0.93071731 -0.4495839   0.51975428]]\n",
            "|| Ax - b ||= 2.083 is the lowest residual \n",
            "\n"
          ],
          "name": "stdout"
        }
      ]
    },
    {
      "metadata": {
        "id": "gqd_0tewQRey",
        "colab_type": "text"
      },
      "cell_type": "markdown",
      "source": [
        "The tests constist of evaluating whether the vector $x$, resulting from ```leastSquareProblem```, is really the vector for which the residual $r= b- Ax$ is minimal. The tests are done by computing the residual with 100 randomly chosen vectors $y$.\n",
        "\n"
      ]
    },
    {
      "metadata": {
        "id": "Jbc7z7d6RS_z",
        "colab_type": "text"
      },
      "cell_type": "markdown",
      "source": [
        "## QR eigenvalue algorithm\n",
        "Below there are the results of tests on the QR eigenvalue algorithm."
      ]
    },
    {
      "metadata": {
        "id": "pWMbcXC8Rd0b",
        "colab_type": "code",
        "colab": {
          "base_uri": "https://localhost:8080/",
          "height": 3702
        },
        "outputId": "ef22ae75-5cd4-44c0-e634-238ac66e5cd2"
      },
      "cell_type": "code",
      "source": [
        "def symmetrize(A):\n",
        "  if not isinstance(A,np.ndarray):\n",
        "    A= np.array(A)\n",
        "    \n",
        "  return A + A.T\n",
        "\n",
        "for i in range(2,27):\n",
        "  print('------------TEST {}-----------------'.format(i-1))\n",
        "  # creating a random matrix\n",
        "  matrix= np.random.randint(0,21,size=(i,i))\n",
        "  matrix= symmetrize(matrix)\n",
        "  \n",
        "  eigval, eigvec= eigenvaluesQRalgorithm(matrix) \n",
        "  \n",
        "  flag= True\n",
        "  for k in range(0,len(eigval)):\n",
        "    d= linalg.det(matrix - eigval[k]*np.eye(i))\n",
        "    print('det(A - mu*I)= ',d)\n",
        "    r= np.dot(matrix,eigvec[k]) - eigval[k]*eigvec[k]\n",
        "    r= sum(r**2)**(0.5)\n",
        "    print('|| Av_i - mu_i v_i ||= ', r)\n",
        "    \n",
        "\n"
      ],
      "execution_count": 105,
      "outputs": [
        {
          "output_type": "stream",
          "text": [
            "------------TEST 1-----------------\n",
            "det(A - mu*I)=  0.0\n",
            "|| Av_i - mu_i v_i ||=  3.552713678800501e-15\n",
            "det(A - mu*I)=  -6.181721801112868e-13\n",
            "|| Av_i - mu_i v_i ||=  1.4210854715202004e-14\n",
            "------------TEST 2-----------------\n",
            "det(A - mu*I)=  8.988785107513152e-11\n",
            "|| Av_i - mu_i v_i ||=  2.5618982671915014e-14\n",
            "det(A - mu*I)=  1.0867962924104848e-11\n",
            "|| Av_i - mu_i v_i ||=  1.5587468005037626e-14\n",
            "det(A - mu*I)=  0.0\n",
            "|| Av_i - mu_i v_i ||=  2.730497355672493e-12\n",
            "------------TEST 3-----------------\n",
            "det(A - mu*I)=  -3.4948240819966532e-09\n",
            "|| Av_i - mu_i v_i ||=  4.322062729257126e-14\n",
            "det(A - mu*I)=  -4.539669443793264e-11\n",
            "|| Av_i - mu_i v_i ||=  1.4033785549772173e-14\n",
            "det(A - mu*I)=  -3.7946857163740626e-11\n",
            "|| Av_i - mu_i v_i ||=  5.052673653147905e-14\n",
            "det(A - mu*I)=  -9.526989814971288e-12\n",
            "|| Av_i - mu_i v_i ||=  1.7161993997026529e-13\n",
            "------------TEST 4-----------------\n",
            "det(A - mu*I)=  2.9732433019252463e-06\n",
            "|| Av_i - mu_i v_i ||=  3.8263897345803626e-14\n",
            "det(A - mu*I)=  -9.632113349819984e-09\n",
            "|| Av_i - mu_i v_i ||=  1.3331259255495774e-13\n",
            "det(A - mu*I)=  9.102954755389098e-09\n",
            "|| Av_i - mu_i v_i ||=  5.218378909990087e-14\n",
            "det(A - mu*I)=  -2.1547683076201674e-07\n",
            "|| Av_i - mu_i v_i ||=  7.035157520792081e-14\n",
            "det(A - mu*I)=  3.3923539323722288e-09\n",
            "|| Av_i - mu_i v_i ||=  5.494605801960651e-14\n",
            "------------TEST 5-----------------\n",
            "det(A - mu*I)=  -0.000492075403167047\n",
            "|| Av_i - mu_i v_i ||=  5.5948190961969225e-14\n",
            "det(A - mu*I)=  1.4790530322347965e-06\n",
            "|| Av_i - mu_i v_i ||=  3.567117379792109e-14\n",
            "det(A - mu*I)=  -2.8874384660088036e-07\n",
            "|| Av_i - mu_i v_i ||=  3.9742611603459e-14\n",
            "det(A - mu*I)=  -1.427767958874496e-07\n",
            "|| Av_i - mu_i v_i ||=  1.7228644831691973e-13\n",
            "det(A - mu*I)=  0.0\n",
            "|| Av_i - mu_i v_i ||=  4.852907424626441e-14\n",
            "det(A - mu*I)=  -1.7708915079504666e-08\n",
            "|| Av_i - mu_i v_i ||=  5.242404100716295e-13\n",
            "------------TEST 6-----------------\n",
            "det(A - mu*I)=  -0.029897374740432976\n",
            "|| Av_i - mu_i v_i ||=  4.973799150320701e-14\n",
            "det(A - mu*I)=  -7.574206930405806e-05\n",
            "|| Av_i - mu_i v_i ||=  4.2780337774645346e-14\n",
            "det(A - mu*I)=  -8.203287201072406e-06\n",
            "|| Av_i - mu_i v_i ||=  5.306447965622957e-14\n",
            "det(A - mu*I)=  -2.211218991302971e-05\n",
            "|| Av_i - mu_i v_i ||=  5.485760149695237e-14\n",
            "det(A - mu*I)=  1.2701151895954342e-06\n",
            "|| Av_i - mu_i v_i ||=  7.30878461131692e-14\n",
            "det(A - mu*I)=  2.2656414545433679e-07\n",
            "|| Av_i - mu_i v_i ||=  7.615069822550087e-14\n",
            "det(A - mu*I)=  -1.881346301169203e-06\n",
            "|| Av_i - mu_i v_i ||=  5.3342028282824164e-14\n",
            "------------TEST 7-----------------\n",
            "det(A - mu*I)=  74.83133011351954\n",
            "|| Av_i - mu_i v_i ||=  7.975822427626031e-14\n",
            "det(A - mu*I)=  -0.05911526509194463\n",
            "|| Av_i - mu_i v_i ||=  8.181854094094753e-14\n",
            "det(A - mu*I)=  -0.0017278635354162149\n",
            "|| Av_i - mu_i v_i ||=  1.7042151257256812e-13\n",
            "det(A - mu*I)=  0.00010193810109544118\n",
            "|| Av_i - mu_i v_i ||=  3.162479591081204e-14\n",
            "det(A - mu*I)=  2.0527935365571996e-05\n",
            "|| Av_i - mu_i v_i ||=  7.49090437401477e-14\n",
            "det(A - mu*I)=  -1.245316013862832e-06\n",
            "|| Av_i - mu_i v_i ||=  2.6319545634322812e-14\n",
            "det(A - mu*I)=  -2.5012018250054426e-06\n",
            "|| Av_i - mu_i v_i ||=  7.987389195015521e-14\n",
            "det(A - mu*I)=  -1.2252691416398003e-05\n",
            "|| Av_i - mu_i v_i ||=  1.121044503680477e-13\n",
            "------------TEST 8-----------------\n",
            "det(A - mu*I)=  -47020.75372708548\n",
            "|| Av_i - mu_i v_i ||=  1.2789769243681803e-13\n",
            "det(A - mu*I)=  3.188474490678699\n",
            "|| Av_i - mu_i v_i ||=  1.8415625090097786e-13\n",
            "det(A - mu*I)=  -0.011534788754895853\n",
            "|| Av_i - mu_i v_i ||=  1.268059393781399e-13\n",
            "det(A - mu*I)=  -0.0032094328664967363\n",
            "|| Av_i - mu_i v_i ||=  4.0507814902240676e-14\n",
            "det(A - mu*I)=  0.060775245760045025\n",
            "|| Av_i - mu_i v_i ||=  7.082709530868261e-14\n",
            "det(A - mu*I)=  -0.0021946393197749374\n",
            "|| Av_i - mu_i v_i ||=  1.3330445591290193e-13\n",
            "det(A - mu*I)=  0.0007975774608154293\n",
            "|| Av_i - mu_i v_i ||=  5.813138782823975e-14\n",
            "det(A - mu*I)=  0.00350725373396258\n",
            "|| Av_i - mu_i v_i ||=  7.36784184237383e-14\n",
            "det(A - mu*I)=  -0.0010989643250976047\n",
            "|| Av_i - mu_i v_i ||=  5.151751291938838e-13\n",
            "------------TEST 9-----------------\n",
            "det(A - mu*I)=  -4758271.06520839\n",
            "|| Av_i - mu_i v_i ||=  7.519677498818824e-14\n",
            "det(A - mu*I)=  25.816921569631866\n",
            "|| Av_i - mu_i v_i ||=  1.7852581768875598e-13\n",
            "det(A - mu*I)=  -2.3111215298028225\n",
            "|| Av_i - mu_i v_i ||=  1.3976698149069685e-13\n",
            "det(A - mu*I)=  0.5909256103126034\n",
            "|| Av_i - mu_i v_i ||=  3.930377676062501e-14\n",
            "det(A - mu*I)=  -0.016027101358465617\n",
            "|| Av_i - mu_i v_i ||=  7.956965880875559e-14\n",
            "det(A - mu*I)=  0.005712487513437541\n",
            "|| Av_i - mu_i v_i ||=  1.8465782579727898e-14\n",
            "det(A - mu*I)=  0.09411354610545383\n",
            "|| Av_i - mu_i v_i ||=  1.3991012897980887e-13\n",
            "det(A - mu*I)=  0.07744724048666693\n",
            "|| Av_i - mu_i v_i ||=  5.21133827258505e-14\n",
            "det(A - mu*I)=  0.039711351711299255\n",
            "|| Av_i - mu_i v_i ||=  9.615909458179122e-14\n",
            "det(A - mu*I)=  0.011624923388236506\n",
            "|| Av_i - mu_i v_i ||=  8.263867005197966e-13\n",
            "------------TEST 10-----------------\n",
            "det(A - mu*I)=  7825839717.787698\n",
            "|| Av_i - mu_i v_i ||=  1.4387393840789703e-13\n",
            "det(A - mu*I)=  -2199.6588827800806\n",
            "|| Av_i - mu_i v_i ||=  1.564957809053422e-13\n",
            "det(A - mu*I)=  454.0893972162346\n",
            "|| Av_i - mu_i v_i ||=  2.001030403962559e-13\n",
            "det(A - mu*I)=  -3384.177733489861\n",
            "|| Av_i - mu_i v_i ||=  1.96450631000383e-13\n",
            "det(A - mu*I)=  -1.6204658122217277\n",
            "|| Av_i - mu_i v_i ||=  5.339849596832824e-14\n",
            "det(A - mu*I)=  -112.54079886334043\n",
            "|| Av_i - mu_i v_i ||=  9.669016394132609e-14\n",
            "det(A - mu*I)=  -36.18468164411513\n",
            "|| Av_i - mu_i v_i ||=  2.138422122468464e-13\n",
            "det(A - mu*I)=  56.493226652433556\n",
            "|| Av_i - mu_i v_i ||=  1.4152213912904448e-13\n",
            "det(A - mu*I)=  64.38347329818548\n",
            "|| Av_i - mu_i v_i ||=  8.58109754761731e-14\n",
            "det(A - mu*I)=  12.863050601524208\n",
            "|| Av_i - mu_i v_i ||=  1.156718800249494e-13\n",
            "det(A - mu*I)=  4.409853318511124\n",
            "|| Av_i - mu_i v_i ||=  5.5897051450937e-14\n",
            "------------TEST 11-----------------\n",
            "det(A - mu*I)=  3671604054181.05\n",
            "|| Av_i - mu_i v_i ||=  1.7082605950479472e-13\n",
            "det(A - mu*I)=  -197925.0471649801\n",
            "|| Av_i - mu_i v_i ||=  9.697122875090717e-14\n",
            "det(A - mu*I)=  0.0\n",
            "|| Av_i - mu_i v_i ||=  1.275914361923491e-13\n",
            "det(A - mu*I)=  -9853.60908767203\n",
            "|| Av_i - mu_i v_i ||=  1.2785169291092945e-13\n",
            "det(A - mu*I)=  5945.110411951498\n",
            "|| Av_i - mu_i v_i ||=  1.1013592870003321e-13\n",
            "det(A - mu*I)=  340.0602524306869\n",
            "|| Av_i - mu_i v_i ||=  7.406779083538461e-14\n",
            "det(A - mu*I)=  -8.88399250268231\n",
            "|| Av_i - mu_i v_i ||=  6.98827852274224e-14\n",
            "det(A - mu*I)=  22.112404917306474\n",
            "|| Av_i - mu_i v_i ||=  2.1048155286529842e-13\n",
            "det(A - mu*I)=  -36.134548244557905\n",
            "|| Av_i - mu_i v_i ||=  1.0981472359061354e-13\n",
            "det(A - mu*I)=  36.53825614853777\n",
            "|| Av_i - mu_i v_i ||=  6.486878843681146e-14\n",
            "det(A - mu*I)=  -281.44694399796293\n",
            "|| Av_i - mu_i v_i ||=  1.210568268126678e-13\n",
            "det(A - mu*I)=  29.368486798619774\n",
            "|| Av_i - mu_i v_i ||=  2.7657662102076814e-13\n",
            "------------TEST 12-----------------\n",
            "det(A - mu*I)=  6487122864139018.0\n",
            "|| Av_i - mu_i v_i ||=  2.1610313646285632e-13\n",
            "det(A - mu*I)=  62663360.55176907\n",
            "|| Av_i - mu_i v_i ||=  1.3522247825733193e-13\n",
            "det(A - mu*I)=  835842.7676264212\n",
            "|| Av_i - mu_i v_i ||=  1.6932761101943693e-13\n",
            "det(A - mu*I)=  -607408.1765666318\n",
            "|| Av_i - mu_i v_i ||=  2.501417738574409e-13\n",
            "det(A - mu*I)=  2394.065484909742\n",
            "|| Av_i - mu_i v_i ||=  2.636940251904823e-13\n",
            "det(A - mu*I)=  -149309.84875466654\n",
            "|| Av_i - mu_i v_i ||=  1.8988254451421308e-13\n",
            "det(A - mu*I)=  -653.1931751004752\n",
            "|| Av_i - mu_i v_i ||=  1.5213267011629255e-13\n",
            "det(A - mu*I)=  8248.02703034823\n",
            "|| Av_i - mu_i v_i ||=  7.74417765181122e-14\n",
            "det(A - mu*I)=  2448.4722610897893\n",
            "|| Av_i - mu_i v_i ||=  8.732186431586978e-14\n",
            "det(A - mu*I)=  -15314.882093843442\n",
            "|| Av_i - mu_i v_i ||=  6.9723616140183875e-12\n",
            "det(A - mu*I)=  -76674.97324246333\n",
            "|| Av_i - mu_i v_i ||=  6.9888945389302675e-12\n",
            "det(A - mu*I)=  -7874.4753656738085\n",
            "|| Av_i - mu_i v_i ||=  7.10727513994403e-14\n",
            "det(A - mu*I)=  1278.025216307636\n",
            "|| Av_i - mu_i v_i ||=  6.361618862432666e-13\n",
            "------------TEST 13-----------------\n"
          ],
          "name": "stdout"
        },
        {
          "output_type": "error",
          "ename": "TypeError",
          "evalue": "ignored",
          "traceback": [
            "\u001b[0;31m---------------------------------------------------------------------------\u001b[0m",
            "\u001b[0;31mTypeError\u001b[0m                                 Traceback (most recent call last)",
            "\u001b[0;32m<ipython-input-105-8a3b611d4e39>\u001b[0m in \u001b[0;36m<module>\u001b[0;34m()\u001b[0m\n\u001b[1;32m     11\u001b[0m   \u001b[0mmatrix\u001b[0m\u001b[0;34m=\u001b[0m \u001b[0msymmetrize\u001b[0m\u001b[0;34m(\u001b[0m\u001b[0mmatrix\u001b[0m\u001b[0;34m)\u001b[0m\u001b[0;34m\u001b[0m\u001b[0;34m\u001b[0m\u001b[0m\n\u001b[1;32m     12\u001b[0m \u001b[0;34m\u001b[0m\u001b[0m\n\u001b[0;32m---> 13\u001b[0;31m   \u001b[0meigval\u001b[0m\u001b[0;34m,\u001b[0m \u001b[0meigvec\u001b[0m\u001b[0;34m=\u001b[0m \u001b[0meigenvaluesQRalgorithm\u001b[0m\u001b[0;34m(\u001b[0m\u001b[0mmatrix\u001b[0m\u001b[0;34m)\u001b[0m\u001b[0;34m\u001b[0m\u001b[0;34m\u001b[0m\u001b[0m\n\u001b[0m\u001b[1;32m     14\u001b[0m \u001b[0;34m\u001b[0m\u001b[0m\n\u001b[1;32m     15\u001b[0m   \u001b[0mflag\u001b[0m\u001b[0;34m=\u001b[0m \u001b[0;32mTrue\u001b[0m\u001b[0;34m\u001b[0m\u001b[0;34m\u001b[0m\u001b[0m\n",
            "\u001b[0;32m<ipython-input-101-312214d5a1b0>\u001b[0m in \u001b[0;36meigenvaluesQRalgorithm\u001b[0;34m(matrixA, convergence)\u001b[0m\n\u001b[1;32m     47\u001b[0m       \u001b[0;32mwhile\u001b[0m \u001b[0mr\u001b[0m \u001b[0;34m>\u001b[0m \u001b[0mconvergence\u001b[0m \u001b[0;32mand\u001b[0m \u001b[0miterations\u001b[0m \u001b[0;34m<\u001b[0m \u001b[0;36m1000\u001b[0m\u001b[0;34m:\u001b[0m\u001b[0;34m\u001b[0m\u001b[0;34m\u001b[0m\u001b[0m\n\u001b[1;32m     48\u001b[0m         \u001b[0mtmp\u001b[0m\u001b[0;34m=\u001b[0m \u001b[0mleastSquareProblem\u001b[0m\u001b[0;34m(\u001b[0m\u001b[0mmatr\u001b[0m\u001b[0;34m,\u001b[0m\u001b[0mb\u001b[0m\u001b[0;34m)\u001b[0m                    \u001b[0;31m# tmp= ||A-mu*b(i-1)||\u001b[0m\u001b[0;34m\u001b[0m\u001b[0;34m\u001b[0m\u001b[0m\n\u001b[0;32m---> 49\u001b[0;31m         \u001b[0;32mif\u001b[0m \u001b[0mmath\u001b[0m\u001b[0;34m.\u001b[0m\u001b[0misnan\u001b[0m\u001b[0;34m(\u001b[0m\u001b[0mnp\u001b[0m\u001b[0;34m.\u001b[0m\u001b[0minner\u001b[0m\u001b[0;34m(\u001b[0m\u001b[0mtmp\u001b[0m\u001b[0;34m,\u001b[0m\u001b[0mtmp\u001b[0m\u001b[0;34m)\u001b[0m\u001b[0;34m)\u001b[0m \u001b[0;32mor\u001b[0m \u001b[0mnp\u001b[0m\u001b[0;34m.\u001b[0m\u001b[0minner\u001b[0m\u001b[0;34m(\u001b[0m\u001b[0mtmp\u001b[0m\u001b[0;34m,\u001b[0m\u001b[0mtmp\u001b[0m\u001b[0;34m)\u001b[0m \u001b[0;34m==\u001b[0m \u001b[0;36m0\u001b[0m\u001b[0;34m:\u001b[0m\u001b[0;34m\u001b[0m\u001b[0;34m\u001b[0m\u001b[0m\n\u001b[0m\u001b[1;32m     50\u001b[0m           \u001b[0;32mbreak\u001b[0m\u001b[0;34m\u001b[0m\u001b[0;34m\u001b[0m\u001b[0m\n\u001b[1;32m     51\u001b[0m \u001b[0;34m\u001b[0m\u001b[0m\n",
            "\u001b[0;31mTypeError\u001b[0m: only size-1 arrays can be converted to Python scalars"
          ]
        }
      ]
    },
    {
      "metadata": {
        "id": "_4GLBv0zWr7m",
        "colab_type": "text"
      },
      "cell_type": "markdown",
      "source": [
        "# **Discussion**"
      ]
    },
    {
      "metadata": {
        "id": "6bcsDSoRXHZe",
        "colab_type": "text"
      },
      "cell_type": "markdown",
      "source": [
        "Summarize your results and your conclusions. Were the results expected or surprising. Do your results have implications outside the particular problem investigated in this report? "
      ]
    },
    {
      "metadata": {
        "id": "1vcIILuQYsEA",
        "colab_type": "text"
      },
      "cell_type": "markdown",
      "source": [
        "# **References**\n",
        "\n",
        "[1] from Wikipedia, *[Direct methods](https://en.wikipedia.org/wiki/Direct_method_in_the_calculus_of_variations)*\n",
        "\n",
        "[2] from Wikipedia, *[QR decomposition](https://en.wikipedia.org/wiki/QR_decomposition)*\n",
        "\n",
        "[3] from Lecture Notes, *Classical Gram-Schmidt orthogonalization, chapter 5*, pg. 69\n",
        "\n",
        "[4] from Lecture Notes, *Modified Gram-Schmidt orthogonalization, chapter 5*, pg. 70\n",
        "\n",
        "[5] from Lecture Notes, *Triangular matrices, chapter 5*, pg. 69\n",
        "\n",
        "[6] from Lecture Notes, *Least square problems, chapter 5*, pg. 74\n",
        "\n",
        "[7] from Wikipedia, *[Transpose](https://en.wikipedia.org/wiki/Transpose)*\n",
        "\n",
        "[8] from Lecture Notes, *Theorem 7, chapter 6*, pg. 80\n",
        "\n",
        "[9] from Lecture Notes, *Theorem 8, chapter 6,* pg. 81\n",
        "\n",
        "[10] from Lecture Notes, *Theorem 9, chapter 6,* pg. 81\n",
        "\n",
        "[11] from Lecture Notes, *Theorem 10, chapter 6*, pg. 81\n",
        "\n",
        "[12] from YouTube, *[QR algorithm for eigenvalues](https://www.youtube.com/watch?v=_neGVEBjLJA)*\n",
        "\n",
        "[13] from Lecture Note, *QR algoritm, chapter 6*, pg. 82\n",
        "\n",
        "[14] from Lecture Note, *Rayleigh quotation, chapter 6*, pg. 83\n",
        "\n",
        "[15] from Wikipedia, *[Rayleigh quotation](https://en.wikipedia.org/wiki/Rayleigh_quotient_iteration)*\n",
        "\n",
        "[16] *[Exercises](http://www.math.tamu.edu/~shatalov/Tan_chpt2.pdf)*\n",
        "\n",
        "[17] *[Exercise](https://s-mat-pcs.oulu.fi/~mpa/matreng/eem5_5-1.htm)*"
      ]
    }
  ]
}