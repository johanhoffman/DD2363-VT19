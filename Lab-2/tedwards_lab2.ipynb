{
  "nbformat": 4,
  "nbformat_minor": 0,
  "metadata": {
    "colab": {
      "name": "template-report-lab-X.ipynb",
      "version": "0.3.2",
      "provenance": [],
      "include_colab_link": true
    },
    "kernelspec": {
      "name": "python3",
      "display_name": "Python 3"
    }
  },
  "cells": [
    {
      "cell_type": "markdown",
      "metadata": {
        "id": "view-in-github",
        "colab_type": "text"
      },
      "source": [
        "<a href=\"https://colab.research.google.com/github/johanhoffman/DD2363-VT19/blob/tobzed/Lab-1/tedwards_lab1.ipynb\" target=\"_parent\"><img src=\"https://colab.research.google.com/assets/colab-badge.svg\" alt=\"Open In Colab\"/></a>"
      ]
    },
    {
      "metadata": {
        "id": "6RgtXlfYO_i7",
        "colab_type": "text"
      },
      "cell_type": "markdown",
      "source": [
        "# **Lab 1: Matrix Algorithms**\n",
        "**Tobias Edwards**"
      ]
    },
    {
      "metadata": {
        "id": "9x_J5FVuPzbm",
        "colab_type": "text"
      },
      "cell_type": "markdown",
      "source": [
        "# **Abstract**"
      ]
    },
    {
      "metadata": {
        "id": "6UFTSzW7P8kL",
        "colab_type": "text"
      },
      "cell_type": "markdown",
      "source": [
        "This first lab was on implementing the following:\n",
        "\n",
        "1.   Inner product for vectors\n",
        "2.   Matrix-vector multiplication\n",
        "3.   Matrix-matrix multiplication\n",
        "4.   BONUS: To implement sparse matrices with CRS and implement sparse matrix vector multiplication\n",
        "\n"
      ]
    },
    {
      "metadata": {
        "id": "OkT8J7uOWpT3",
        "colab_type": "text"
      },
      "cell_type": "markdown",
      "source": [
        "#**About the code**"
      ]
    },
    {
      "metadata": {
        "id": "Pdll1Xc9WP0e",
        "colab_type": "code",
        "colab": {}
      },
      "cell_type": "code",
      "source": [
        "# This code is written for Lab 1 in DD2363 Methods in Scientific Computing\n",
        "# Course given by the Royal Institute of Technology in Stockholm, KTH\n",
        "# Code by Tobias Edwards (tedwards@kth.se), Spring 2019"
      ],
      "execution_count": 0,
      "outputs": []
    },
    {
      "metadata": {
        "id": "28xLGz8JX3Hh",
        "colab_type": "text"
      },
      "cell_type": "markdown",
      "source": [
        "# **Set up environment**"
      ]
    },
    {
      "metadata": {
        "id": "D2PYNusD08Wa",
        "colab_type": "text"
      },
      "cell_type": "markdown",
      "source": [
        "These are the environment variables, make sure to run this code before trying any code below! "
      ]
    },
    {
      "metadata": {
        "id": "Xw7VlErAX7NS",
        "colab_type": "code",
        "colab": {}
      },
      "cell_type": "code",
      "source": [
        "# Load neccessary modules.\n",
        "from google.colab import files\n",
        "\n",
        "import unittest\n",
        "import time\n",
        "import numpy as np\n",
        "\n",
        "from matplotlib import pyplot as plt\n",
        "from matplotlib import tri\n",
        "from matplotlib import axes\n",
        "from mpl_toolkits.mplot3d import Axes3D"
      ],
      "execution_count": 0,
      "outputs": []
    },
    {
      "metadata": {
        "id": "gnO3lhAigLev",
        "colab_type": "text"
      },
      "cell_type": "markdown",
      "source": [
        "# **Introduction**"
      ]
    },
    {
      "metadata": {
        "id": "l5zMzgPlRAF6",
        "colab_type": "text"
      },
      "cell_type": "markdown",
      "source": [
        "Operations on matrices and vectors are widly used in computing and numerical methods. Understanding some of the basic binary operations, such as matrix-vector mulitplication, is a fundamental requirement in order to understand more advanced methods in numerical calculation. Therefore, this lab introduces the reader to how these basic operations can be implemented in a programming language.\n",
        "\n",
        "I have solved the problems using Python and the [numpy](http://www.numpy.org) package in order to utilize the more efficient multidimensional array. I have written unittests in order to test and verify my code. \n",
        "\n"
      ]
    },
    {
      "metadata": {
        "id": "WeFO9QMeUOAu",
        "colab_type": "text"
      },
      "cell_type": "markdown",
      "source": [
        "# **Methods**"
      ]
    },
    {
      "metadata": {
        "id": "zF4iBj5VURZx",
        "colab_type": "text"
      },
      "cell_type": "markdown",
      "source": [
        "The inner product is given by:\n",
        "$\\sum_{i=1}^n x_iy_i$ for two vectors $x,y \\in R^n$.\n",
        "\n",
        "The matrix vector product between a matrix $A \\in R^{m\\times n}$ and vector $x \\in R^n$ results in a vector $y \\in R^{m}$. Each element in $y$ is calculated by $\\sum_{j=1}^n a_{ij}x_j$. Thus the running time for matrix multiplication in my implementation is $O(mn)$.\n",
        "\n",
        "Each element $c_{ij}$ from the result of matrix matrix product for two matrices $A \\in R^{n\\times m}$ and $B \\in R^{m\\times p}$ is given by $\\sum_{k=1}^m a_{ik}b_{kj}$. Thus the time complexity for my implementation of this method is $O(nmp)$. \n",
        "\n",
        "For the sparse matrix representation, Compressed Row Storage was used. This format stores three one dimensional arrays. The value array stores all non-zero elements, the column array stores which column each non-zero element has in the original matrix and the row pointer array stores indices where each index states is a pointer to which element in the value array starts a new row in the original matrix. For details, see [Sparse Matrix](https://en.wikipedia.org/wiki/Sparse_matrix)."
      ]
    },
    {
      "metadata": {
        "id": "SsQLT38gVbn_",
        "colab_type": "text"
      },
      "cell_type": "markdown",
      "source": [
        "# **Results**"
      ]
    },
    {
      "metadata": {
        "id": "lVUkt8CCHLL2",
        "colab_type": "text"
      },
      "cell_type": "markdown",
      "source": [
        "Make sure the environment variables are set up."
      ]
    },
    {
      "metadata": {
        "id": "rR5ZWoLVBlE2",
        "colab_type": "code",
        "colab": {}
      },
      "cell_type": "code",
      "source": [
        "# Here are the methods for the lab\n",
        "\n",
        "def inner_product(x,y):\n",
        "    if x.ndim != 1 or y.ndim != 1 or x.size != y.size: # check that the vectors dimensions are correct\n",
        "        print(\"error in func<inner_product>: incompatible vectors\")\n",
        "        return\n",
        "    res = 0\n",
        "    for i in range(x.size):\n",
        "        res += x[i] * y[i]\n",
        "    return res\n",
        "\n",
        "  \n",
        "def matrix_vec_prod(A,x):\n",
        "    A_shape = A.shape   # matrix A has shape (rows x cols)\n",
        "    if A_shape[1] != x.size or x.ndim != 1:\n",
        "        print (\"error in func<matrix_vec_prod>: incorrect dimensions\")\n",
        "        return\n",
        "    prod = np.zeros( ( A_shape[0] ) )\n",
        "    for r in range(A_shape[0]):\n",
        "        for c in range(A_shape[1]):\n",
        "            prod[r] += A[r][c]*x[c]\n",
        "    return prod\n",
        "\n",
        "  \n",
        "def matrix_matrix_prod(A,B):\n",
        "    if A.shape[1] != B.shape[0]: # if A's cols are not the same in count as B's rows, then AB is undefined\n",
        "        print (\"error in func<matrix_matrix_prod>: incompatible matrix dimensions\")\n",
        "        return\n",
        "    C = np.zeros((A.shape[0],B.shape[1])) # if A is (n x m) and B is (m x p), then C is (n x p)\n",
        "    for i in range(C.shape[0]):\n",
        "        for j in range(C.shape[1]):\n",
        "            for k in range(A.shape[1]):\n",
        "                C[i][j] += A[i][k]*B[k][j]\n",
        "    return C\n",
        "\n",
        "  \n",
        "def SparseMatrix_vec_prod(A,x):\n",
        "    prod = np.zeros( (A.row_ptr.size-1) )\n",
        "    for i in range(A.row_ptr.size-1):\n",
        "        for j in range(A.row_ptr[i],A.row_ptr[i+1]):\n",
        "            prod[i] += A.val[j]*x[A.col_idx[j]]\n",
        "    return prod\n",
        "\n",
        "  \n",
        "class SparseMatrix:\n",
        "    def __init__(self, val, col_idx, row_ptr):\n",
        "        self.val = val\n",
        "        self.col_idx = col_idx\n",
        "        self.row_ptr = row_ptr\n",
        "\n",
        "    def __str__(self): # if x = SparseMatrix, then we can call print x for a string representation of x\n",
        "        mtx_str = \"val array: \" + np.array_str(self.val) + \"\\ncol_idx: \" + np.array_str(self.col_idx) + \"\\nrow_ptr: \" + np.array_str(self.row_ptr)\n",
        "        return mtx_str\n"
      ],
      "execution_count": 0,
      "outputs": []
    },
    {
      "metadata": {
        "id": "7S_fhIWiCwDo",
        "colab_type": "code",
        "colab": {
          "base_uri": "https://localhost:8080/",
          "height": 345
        },
        "outputId": "8f74e273-58e4-4fa4-d104-f57a387034b4"
      },
      "cell_type": "code",
      "source": [
        "\n",
        "# here are the unit tests for lab 1\n",
        "\n",
        "class TestMatrixVectorFunctions(unittest.TestCase):\n",
        "\n",
        "    def test_inner_product(self):\n",
        "        x = np.array([1,2,3,4])\n",
        "        y = np.array([1,2,3,4])\n",
        "        self.assertEquals(inner_product(x,y),np.inner(x,y)) #np.inner(a,b) is numpy's own inner product\n",
        "        z = np.array([0,0,0,0])\n",
        "        self.assertEquals(inner_product(x,z),0) # inner product with the 0-vector gives 0\n",
        "        w = np.array([1,2,3])\n",
        "        self.assertEquals(inner_product(x,w),None) # inner product with incompatibles vectors is undefined\n",
        "\n",
        "    def test_matrix_vec_prod(self):\n",
        "        x = np.array([1,2,3,4])\n",
        "        I = np.array([  [1,0,0,0], # the identity matrix\n",
        "                        [0,1,0,0],\n",
        "                        [0,0,1,0],\n",
        "                        [0,0,0,1]\n",
        "                    ])\n",
        "        self.assertEquals(matrix_vec_prod(I,x).tolist(),x.tolist()) # multiplication Ix should result in the same element x\n",
        "        self.assertEquals(matrix_vec_prod(I,np.array([1,2,3])), None) # multiplication where dimensions betweeen a matrix columns and a vectors rows don't match is undefined\n",
        "\n",
        "        b = np.array([1,2,3])\n",
        "        A = np.array([  [1,20,3],\n",
        "                        [-2,1,4],\n",
        "                        [9,-12,0],\n",
        "                        [1,1,6]\n",
        "                    ])\n",
        "        self.assertEquals(matrix_vec_prod(A,b).tolist(),A.dot(b).tolist()) # A.dot(b) is numpy's matrix vector multiplication \n",
        "        self.assertEquals(matrix_vec_prod(A,x),None)\n",
        "\n",
        "    def test_matrix_matrix_prod(self):\n",
        "        I = np.array([  [1,0,0,0],\n",
        "                        [0,1,0,0],\n",
        "                        [0,0,1,0],\n",
        "                        [0,0,0,1]\n",
        "                    ])\n",
        "        A = np.array([  [1,20,3],\n",
        "                        [-2,1,4],\n",
        "                        [9,-12,0],\n",
        "                        [1,1,6]\n",
        "                    ])\n",
        "        self.assertEquals(matrix_matrix_prod(A,I), None)\n",
        "        B = np.array([  [1,2,3,4],\n",
        "                        [0,2,4,-2],\n",
        "                        [-2,9,6,1],\n",
        "                        [0,4,3,2]\n",
        "                    ])\n",
        "        self.assertEquals(matrix_matrix_prod(B,I).tolist(),matrix_matrix_prod(I,B).tolist()) # for matrix B and indentity I: BI = IB ...\n",
        "        self.assertEquals(matrix_matrix_prod(B,I).tolist(),B.tolist()) # ... and BI = B\n",
        "        self.assertEquals(matrix_matrix_prod(B,A).tolist(),np.matmul(B,A).tolist()) # matmul is numpy's matrix matrixx multiplication\n",
        "        self.assertEquals(matrix_matrix_prod(A,B), None) # BA is defined above but AB is undefined due to incompatible dimensions\n",
        "\n",
        "    def test_SparseMatrix_class(self):\n",
        "        val = np.array([1,2,3,4,5])\n",
        "        col_idx = np.array([0,1,2,3,4])\n",
        "        row_ptr = np.array([0,1,2,3,4,5])\n",
        "        A = SparseMatrix(val,col_idx,row_ptr)\n",
        "        self.assertEquals(A.val.tolist(),val.tolist())\n",
        "        self.assertEquals(A.col_idx.tolist(),col_idx.tolist())\n",
        "        self.assertEquals(A.row_ptr.tolist(),row_ptr.tolist())\n",
        "\n",
        "    def test_SparseMatrix_vec_prod(self):\n",
        "        val = np.array([4,2,3,4,5,-2,6,2])\n",
        "        col_idx = np.array([0,1,1,4,1,2,3,4])\n",
        "        row_ptr = np.array([0,0,2,4,4,8])\n",
        "        A_sparse = SparseMatrix(val,col_idx,row_ptr)\n",
        "        A = np.array([\n",
        "            [0,0,0,0,0],\n",
        "            [4,2,0,0,0],\n",
        "            [0,3,0,0,4],\n",
        "            [0,0,0,0,0],\n",
        "            [0,5,-2,6,2]\n",
        "        ])\n",
        "        I_sparse = SparseMatrix(np.array([1,1,1,1,1]), np.array([0,1,2,3,4]), np.array([0,1,2,3,4,5]))\n",
        "        I = np.array([\n",
        "            [1,0,0,0,0],\n",
        "            [0,1,0,0,0],\n",
        "            [0,0,1,0,0],\n",
        "            [0,0,0,1,0],\n",
        "            [0,0,0,0,1]\n",
        "        ])\n",
        "        x = np.array([-2,3,7,10,1])\n",
        "        print(SparseMatrix_vec_prod(A_sparse,x))\n",
        "        self.assertEquals(SparseMatrix_vec_prod(A_sparse,x).tolist(),A.dot(x).tolist())\n",
        "        self.assertEquals(SparseMatrix_vec_prod(I_sparse,x).tolist(),x.tolist())\n",
        "        \n",
        "unittest.main(argv=[''], verbosity=2, exit=False)\n"
      ],
      "execution_count": 14,
      "outputs": [
        {
          "output_type": "stream",
          "text": [
            "test_SparseMatrix_class (__main__.TestMatrixVectorFunctions) ... /usr/local/lib/python3.6/dist-packages/ipykernel_launcher.py:59: DeprecationWarning: Please use assertEqual instead.\n",
            "ok\n",
            "test_SparseMatrix_vec_prod (__main__.TestMatrixVectorFunctions) ... ok\n",
            "test_inner_product (__main__.TestMatrixVectorFunctions) ... ok\n",
            "test_matrix_matrix_prod (__main__.TestMatrixVectorFunctions) ... ok\n",
            "test_matrix_vec_prod (__main__.TestMatrixVectorFunctions) ... "
          ],
          "name": "stderr"
        },
        {
          "output_type": "stream",
          "text": [
            "[ 0. -2. 13.  0. 63.]\n",
            "error in func<inner_product>: incompatible vectors\n",
            "error in func<matrix_matrix_prod>: incompatible matrix dimensions\n",
            "error in func<matrix_matrix_prod>: incompatible matrix dimensions\n",
            "error in func<matrix_vec_prod>: incorrect dimensions\n",
            "error in func<matrix_vec_prod>: incorrect dimensions\n"
          ],
          "name": "stdout"
        },
        {
          "output_type": "stream",
          "text": [
            "ok\n",
            "\n",
            "----------------------------------------------------------------------\n",
            "Ran 5 tests in 0.013s\n",
            "\n",
            "OK\n"
          ],
          "name": "stderr"
        },
        {
          "output_type": "execute_result",
          "data": {
            "text/plain": [
              "<unittest.main.TestProgram at 0x7fb0f5b3c400>"
            ]
          },
          "metadata": {
            "tags": []
          },
          "execution_count": 14
        }
      ]
    },
    {
      "metadata": {
        "id": "HnnMjSZaH3fN",
        "colab_type": "code",
        "colab": {}
      },
      "cell_type": "code",
      "source": [
        ""
      ],
      "execution_count": 0,
      "outputs": []
    },
    {
      "metadata": {
        "id": "_4GLBv0zWr7m",
        "colab_type": "text"
      },
      "cell_type": "markdown",
      "source": [
        "# **Discussion**"
      ]
    },
    {
      "metadata": {
        "id": "6bcsDSoRXHZe",
        "colab_type": "text"
      },
      "cell_type": "markdown",
      "source": [
        "The lab was straight forward. I had never used numpy previously, so it took a bit of getting use to. More testing could always be recommended to catch special edge cases. I find it somewhat disconcerting that numpy doesn't really differ between row and column vectors in the same way that MatLab does. Though not a real problem, just something to get use to. It would be intersting to implement different sparse matrix models and examine how they perform against each other. "
      ]
    }
  ]
}
