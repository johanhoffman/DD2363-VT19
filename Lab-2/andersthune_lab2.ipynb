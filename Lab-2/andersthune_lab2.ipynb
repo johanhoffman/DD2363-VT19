{
 "cells": [
  {
   "cell_type": "markdown",
   "metadata": {
    "ein.tags": "worksheet-0",
    "slideshow": {
     "slide_type": "-"
    }
   },
   "source": [
    "**Note:** This notebook is written in the Julia language, so the cells can't be\n",
    "  executed in Google Colab. If you want to verify that the notebook works, I\n",
    "  recommend [JuliaBox](https://juliabox.com/) or testing locally. The syntax is\n",
    "  very similar to Python and MATLAB. Note in particular the dot syntax used to\n",
    "  perform elementwise operations (`f.(x)` applies `f` to all elements of `x`),\n",
    "  that indices start at 1 and that the last statement of all functions is returned\n",
    "  automatically."
   ]
  },
  {
   "cell_type": "markdown",
   "metadata": {
    "colab_type": "text",
    "ein.tags": "worksheet-0",
    "id": "6RgtXlfYO_i7",
    "slideshow": {
     "slide_type": "-"
    }
   },
   "source": [
    "# **Lab 2: Direct methods**\n",
    "**Anders Ågren Thuné**"
   ]
  },
  {
   "cell_type": "markdown",
   "metadata": {
    "colab_type": "text",
    "ein.tags": "worksheet-0",
    "id": "9x_J5FVuPzbm",
    "slideshow": {
     "slide_type": "-"
    }
   },
   "source": [
    "# **Abstract**"
   ]
  },
  {
   "cell_type": "markdown",
   "metadata": {
    "colab_type": "text",
    "ein.tags": "worksheet-0",
    "id": "6UFTSzW7P8kL",
    "slideshow": {
     "slide_type": "-"
    }
   },
   "source": [
    "Short summary of the lab report. State the objectives, methods used, main\n",
    "results and conlusions."
   ]
  },
  {
   "cell_type": "markdown",
   "metadata": {
    "colab_type": "text",
    "ein.tags": "worksheet-0",
    "id": "OkT8J7uOWpT3",
    "slideshow": {
     "slide_type": "-"
    }
   },
   "source": [
    "# *About the code**"
   ]
  },
  {
   "cell_type": "markdown",
   "metadata": {
    "colab_type": "text",
    "ein.tags": "worksheet-0",
    "id": "HmB2noTr1Oyo",
    "slideshow": {
     "slide_type": "-"
    }
   },
   "source": [
    "A short statement on who is the author of the file, and if the code is\n",
    "distributed under a certain license."
   ]
  },
  {
   "cell_type": "code",
   "execution_count": 2,
   "metadata": {
    "autoscroll": false,
    "colab": {
     "base_uri": "https://localhost:8080/",
     "height": 34
    },
    "colab_type": "code",
    "collapsed": false,
    "ein.hycell": false,
    "ein.tags": "worksheet-0",
    "id": "Pdll1Xc9WP0e",
    "outputId": "1e1de3c9-fbe5-46c9-c3de-2986013df3c9",
    "slideshow": {
     "slide_type": "-"
    }
   },
   "outputs": [
    {
     "data": {
      "text/plain": [
       "\"DD2363 Methods in Scientific Computing,\\nKTH Royal Institute of Technology, Stockholm, Sweden.\\n\""
      ]
     },
     "execution_count": 2,
     "metadata": {},
     "output_type": "execute_result"
    }
   ],
   "source": [
    "\"\"\"\n",
    "DD2363 Methods in Scientific Computing,\n",
    "KTH Royal Institute of Technology, Stockholm, Sweden.\n",
    "\"\"\"\n",
    "\n",
    "# Copyright (C) 2019\n",
    "# Anders Ågren Thuné (athune@kth.se)\n",
    "# Johan Hoffman (jhoffman@kth.se)\n",
    "\n",
    "# Code written by Anders Ågren Thuné based on the template by Johan Hoffman.\n",
    "\n",
    "# This file is part of the course DD2363 Methods in Scientific Computing\n",
    "# KTH Royal Institute of Technology, Stockholm, Sweden\n",
    "#\n",
    "# This is free software: you can redistribute it and/or modify\n",
    "# it under the terms of the GNU Lesser General Public License as published by\n",
    "# the Free Software Foundation, either version 3 of the License, or\n",
    "# (at your option) any later version."
   ]
  },
  {
   "cell_type": "markdown",
   "metadata": {
    "colab_type": "text",
    "ein.tags": "worksheet-0",
    "id": "28xLGz8JX3Hh",
    "slideshow": {
     "slide_type": "-"
    }
   },
   "source": [
    "# **Set up environment**"
   ]
  },
  {
   "cell_type": "code",
   "execution_count": 3,
   "metadata": {
    "autoscroll": false,
    "colab": null,
    "colab_type": "code",
    "collapsed": false,
    "ein.hycell": false,
    "ein.tags": "worksheet-0",
    "id": "Xw7VlErAX7NS",
    "slideshow": {
     "slide_type": "-"
    }
   },
   "outputs": [],
   "source": [
    "using LinearAlgebra\n",
    "import Base: getproperty"
   ]
  },
  {
   "cell_type": "markdown",
   "metadata": {
    "colab_type": "text",
    "ein.tags": "worksheet-0",
    "id": "gnO3lhAigLev",
    "slideshow": {
     "slide_type": "-"
    }
   },
   "source": [
    "# **Introduction**"
   ]
  },
  {
   "cell_type": "markdown",
   "metadata": {
    "colab_type": "text",
    "ein.tags": "worksheet-0",
    "id": "l5zMzgPlRAF6",
    "slideshow": {
     "slide_type": "-"
    }
   },
   "source": [
    "Systems of linear equations appear frequently in a wide variety of problems. A\n",
    "system of linear equations can be expressed in linear algebra terms as $Ax = b$,\n",
    "which, if solvable, has the solution $x = A^{-1}b$. As such, being able to\n",
    "compute the inverse of a given matrix is a problem of great importance. This is\n",
    "difficult in general, but certain classes of matrices have easily computable\n",
    "inverses; an orthogonal matrix $Q$ has the inverse $Q^T$ and the inverse of a\n",
    "triangular matrix can be computed through back (or forward) substitution.\n",
    "Therefore, a common approach to computing the inverse of a given matrix is to\n",
    "factor it into triangular and orthogonal matrices, which can then be easily\n",
    "inverted. One such factorization is the QR factorization in which any matrix $A$\n",
    "is factored into an orthogonal matrix $Q$ and an upper triangular matrix $R$.\n",
    "The inverse is then given by $A^{-1}=(QR)^{-1}=R^{-1}Q^T$.\n",
    "\n",
    "Even when the system $Ax=b$ is unsolvable (there is no $A^{-1}), the best\n",
    "possible solution can be obtained by projecting $b$ orthogonally onto\n",
    "$range(A)$. This gives the approximated solution $\\hat{x} = (A^TA)^{-1}A^Tb$,\n",
    "where $(A^TA)^{-1}$ is called the *pseudo-inverse* of $A$.\n",
    "\n",
    "The QR factorization can also be used in a wider range of problems. One such\n",
    "problem is eigenvalue computation, where an iterative $QR$-algorithm can be used\n",
    "to obtain a Schur factorization of a symmetric matrix. That is, a factorization\n",
    "$A = QTQ^T$, where $T$ is a triangular matrix with the eigenvalues of $A$ on\n",
    "the diagonal.\n",
    "\n",
    "This report presents how these concepts, described in chapters 5 and 6 of the\n",
    "lecture notes, were used to implement the following:\n",
    "- A function for QR factorization\n",
    "- A direct solver of of $Ax=b$\n",
    "- A solver of the least squares problem $Ax=b$\n",
    "- A function performing the QR eigenvalue algorithm"
   ]
  },
  {
   "cell_type": "markdown",
   "metadata": {
    "colab_type": "text",
    "ein.tags": "worksheet-0",
    "id": "WeFO9QMeUOAu",
    "slideshow": {
     "slide_type": "-"
    }
   },
   "source": [
    "# **Methods**"
   ]
  },
  {
   "cell_type": "markdown",
   "metadata": {
    "ein.tags": "worksheet-0",
    "slideshow": {
     "slide_type": "-"
    }
   },
   "source": [
    "## **QR factorization**"
   ]
  },
  {
   "cell_type": "markdown",
   "metadata": {
    "ein.tags": "worksheet-0",
    "slideshow": {
     "slide_type": "-"
    }
   },
   "source": [
    "The QR factorization for a matrix can be calculated in a number of different\n",
    "ways. The method implemented here is the *Householder QR factorization*, based\n",
    "on Householder reflections. A matrix $P$ of the form $P = I-\\beta vv^T, \\quad\n",
    "\\beta = \\frac{2}{v^Tv}$ is a *Householder reflection*. This is an orthogonal\n",
    "reflector reflecting a given vector $x$ in the hyperplane\n",
    "$\\text{span}\\{v\\}^\\perp. Selecting $v$ = $\\pm \\|x\\|$ gives $Px = \\pm\\|x\\|e_1$,\n",
    "which can be utilized to construct $Q_n\\dots Q_2Q_1A = R$, where each matrix\n",
    "$Q_k$ is constructed to zero the subdiagonal elements of a column of $A$. This\n",
    "is achieved by letting $Q_k = \\begin{matrix} I & 0 \\\\ 0 P \\end{matrix}$, where P\n",
    "is a Householder reflection. When dealing with a Householder QR factorization,\n",
    "it is advantageous not to explicitly form the matrices $Q$ or $Q_k$, but instead\n",
    "utilize that $Q_kA = A - (\\beta v)(v^TA)$ and $AQ_k = A - (A v)(\\beta\n",
    "v)^T$.\n",
    "\n",
    "[Golub & Van Loan 2013: Chapter 5.1-5.2, Hoffman 2019: Chapter 5.2]\n",
    "\n",
    "The following implementation is based on Algorithm 5.2.1 of Golub & Van Loan\n",
    "(2013), and results in a matrix with the upper triangular part of $R$ as its\n",
    "upper triangular part, and the vectors $v_j$ required to construct $Q$ below the\n",
    "diagonal. To be precise, all elements except the first of these vectors are\n",
    "stored, with the implicit assumption that they are normalized such that the\n",
    "first element is always 1. In addition to the function itself, a wrapper\n",
    "struct (analogous to a Python class) is implemented to facilitate easy handling\n",
    "of this format."
   ]
  },
  {
   "cell_type": "code",
   "execution_count": 445,
   "metadata": {
    "autoscroll": false,
    "collapsed": false,
    "ein.hycell": false,
    "ein.tags": "worksheet-0",
    "slideshow": {
     "slide_type": "-"
    }
   },
   "outputs": [
    {
     "data": {
      "text/plain": [
       "QRfactorization"
      ]
     },
     "execution_count": 445,
     "metadata": {},
     "output_type": "execute_result"
    }
   ],
   "source": [
    "\"\"\"\n",
    "A struct for representing the QR factorization of a matrix\n",
    "in a compact way. The constructor computes the factorization\n",
    "using Algorithm 5.2.1 of Golub & Van Loan (2013),\n",
    "modifying the argument in place.\n",
    "\"\"\"\n",
    "mutable struct QRfact{T <: AbstractFloat}\n",
    "    QR :: Matrix{T}\n",
    "    betas :: Vector{T}\n",
    "\n",
    "    function QRfact(A :: Matrix{T}) where T <: AbstractFloat\n",
    "        (m, n) = size(A)\n",
    "        v = zeros(T, m)\n",
    "        betas = zeros(T, n)\n",
    "\n",
    "        for j = 1 : n\n",
    "            v[j:m] .= A[j:m,j]\n",
    "            v[j] += sign(v[j])*norm(v[j:m])\n",
    "            betas[j] = 2v[j]^2/norm(v[j:m])^2\n",
    "            v[j:m] ./= v[j]\n",
    "            for k = j : n\n",
    "                A[j:m,k] .-= betas[j].*v[j:m].*dot(v[j:m],A[j:m,k])\n",
    "            end\n",
    "            if j<m\n",
    "               A[j+1:m,j] .= v[j+1:m]\n",
    "            end\n",
    "        end\n",
    "        new{T}(A, betas)\n",
    "    end\n",
    "end\n",
    "\n",
    "\"\"\"\n",
    "Overloads getproperty to allow easy extraction of Q and R factors.\n",
    "Enables dot syntax, as in the following example:\n",
    "> QR = QRfactorization(A)\n",
    "> Q = QR.q\n",
    "> R = QR.r\n",
    "\"\"\"\n",
    "function getproperty(qr :: QRfact{T}, f :: Symbol) where T\n",
    "    QR = getfield(qr, :QR)\n",
    "    (m, n) = size(QR)\n",
    "    if f == :q\n",
    "        Q = Matrix{T}(I,m,m)\n",
    "        mulQ!(qr,Q)\n",
    "    elseif f == :qt\n",
    "        Qt = Matrix{T}(I,m,m)\n",
    "        mulQ!(qr,Qt,transpose=true)\n",
    "    elseif f == :r\n",
    "        triu(QR)\n",
    "    elseif f == :factors\n",
    "        QR\n",
    "    else\n",
    "        error(\"type $(typeof(qr)) has no field $f\")\n",
    "    end\n",
    "end\n",
    "\n",
    "\"\"\"\n",
    "Multiply the matrix C with the Q factor of a QR factorization.\n",
    "Keywords specify whether to multiply with Q or Q^T, and whether\n",
    "to multiply from the left or from the right. Modifies C in place\n",
    "and returns the result.\n",
    "\"\"\"\n",
    "function mulQ!(qr :: QRfact{T}, C :: VecOrMat{T};\n",
    "               transpose = false, fromright = false) where T\n",
    "    QR = getfield(qr, :QR)\n",
    "    betas = getfield(qr, :betas)\n",
    "    (m,n) = size(QR)\n",
    "    Csize = typeof(C) <: Vector ? (length(C), 1) : size(C)\n",
    "\n",
    "    index_to_match = Int(fromright)+1\n",
    "    if Csize[index_to_match] != m\n",
    "        throw(DomainError((m,Csize[index_to_match]),\n",
    "            \"The matrices' dimensions don't match!\"))\n",
    "    end\n",
    "    iterateForwards = xor(fromright, transpose)\n",
    "    iterRange = iterateForwards ? (1:n) : (n:-1:1)\n",
    "\n",
    "    v = zeros(T, m)\n",
    "    temp = zeros(T,Csize[1])\n",
    "    for j = iterRange\n",
    "        v[j] = one(T)\n",
    "        v[j+1:m] .= QR[j+1:m,j]\n",
    "        if fromright\n",
    "            mul!(temp, C[:,j:m], v[j:m])\n",
    "            for k = j : m\n",
    "                C[:,k] .-= temp .*betas[j].*v[k]\n",
    "            end\n",
    "        else\n",
    "            for k = 1 : Csize[2]\n",
    "                C[j:m,k] .-= betas[j].*v[j:m].*dot(v[j:m],C[j:m,k])\n",
    "            end\n",
    "        end\n",
    "    end\n",
    "    C\n",
    "end\n",
    "\n",
    "\"\"\"\n",
    "Get the QR factorization of A without modifying the original.\n",
    "\"\"\"\n",
    "QRfactorization(A :: Matrix{<:AbstractFloat}) = QRfact(copy(A))"
   ]
  },
  {
   "cell_type": "markdown",
   "metadata": {
    "ein.tags": "worksheet-0",
    "slideshow": {
     "slide_type": "-"
    }
   },
   "source": [
    "## **Direct solver**"
   ]
  },
  {
   "cell_type": "markdown",
   "metadata": {
    "ein.tags": "worksheet-0",
    "slideshow": {
     "slide_type": "-"
    }
   },
   "source": [
    "The solution to the system $Ax=b$ can be obtained as $x = A^{-1}b = R^{-1}Q^Tb$,\n",
    "once $A$ has been factored into $Q$ and $R$. Setting $y$ = $Q^Tb$, the equation\n",
    "to solve is $x = R^{-1}y$. Algorithm 2 of chapter 5 in the notes describes how\n",
    "such a system can be solved, using *back substitution*. In the implementation\n",
    "below, the summation of the original algorithm is replaced by a dot product."
   ]
  },
  {
   "cell_type": "code",
   "execution_count": 466,
   "metadata": {
    "autoscroll": false,
    "collapsed": false,
    "ein.hycell": false,
    "ein.tags": "worksheet-0",
    "slideshow": {
     "slide_type": "-"
    }
   },
   "outputs": [
    {
     "data": {
      "text/plain": [
       "backsubstitute"
      ]
     },
     "execution_count": 466,
     "metadata": {},
     "output_type": "execute_result"
    }
   ],
   "source": [
    "\"\"\"\n",
    "Compute x = U^-1 b through back substitution for any upper triangular matrix U.\n",
    "\"\"\"\n",
    "function backsubstitute(U::Matrix, b::Vector)\n",
    "    m = length(b)\n",
    "    if m != size(U)[1]\n",
    "        throw(DomainError((m,size(U)[1]), \"The dimensions of U and b don't match!\"))\n",
    "    end\n",
    "    x = zeros(m)\n",
    "    x[m] = b[m]/U[m,m]\n",
    "    for j = m-1:-1:1\n",
    "        x[j] = (b[j] - dot(U[j,j+1:m],x[j+1:m]))/U[j,j]\n",
    "    end\n",
    "    x\n",
    "end"
   ]
  },
  {
   "cell_type": "code",
   "execution_count": 467,
   "metadata": {
    "autoscroll": false,
    "collapsed": false,
    "ein.hycell": false,
    "ein.tags": "worksheet-0",
    "slideshow": {
     "slide_type": "-"
    }
   },
   "outputs": [
    {
     "data": {
      "text/plain": [
       "directsolver"
      ]
     },
     "execution_count": 467,
     "metadata": {},
     "output_type": "execute_result"
    }
   ],
   "source": [
    "\"\"\"\n",
    "Compute x = A^-1 b for any invertible matrix A.\n",
    "\"\"\"\n",
    "function directsolver(A::Matrix, b::Vector)\n",
    "    qr = QRfactorization(A)\n",
    "    y = copy(b)\n",
    "    mulQ!(qr,y, transpose=true)\n",
    "    backsubstitute(qr.factors,y)\n",
    "end"
   ]
  },
  {
   "cell_type": "markdown",
   "metadata": {
    "ein.tags": "worksheet-0",
    "slideshow": {
     "slide_type": "-"
    }
   },
   "source": [
    "## **Least squares solver**"
   ]
  },
  {
   "cell_type": "markdown",
   "metadata": {
    "ein.tags": "worksheet-0",
    "slideshow": {
     "slide_type": "-"
    }
   },
   "source": [
    "This is very similar to the above. In order to solve the least squares problem,\n",
    "we solve $x = (A^TA)^{-1}(A^Tb)$, which is an equation solvable directly, as\n",
    "$A^TA$ is a positive definite symmetric matrix for all $A$."
   ]
  },
  {
   "cell_type": "code",
   "execution_count": 468,
   "metadata": {
    "autoscroll": false,
    "collapsed": false,
    "ein.hycell": false,
    "ein.tags": "worksheet-0",
    "slideshow": {
     "slide_type": "-"
    }
   },
   "outputs": [
    {
     "data": {
      "text/plain": [
       "leastsquares"
      ]
     },
     "execution_count": 468,
     "metadata": {},
     "output_type": "execute_result"
    }
   ],
   "source": [
    "\"\"\"\n",
    "Compute the best solution x to Ax = b for a non-invertible matrix A, given by\n",
    "x = (A^T A)^-1 (A^T b)\n",
    "\"\"\"\n",
    "leastsquares(A::Matrix, b::Vector) = directsolver(A'A, A'b)"
   ]
  },
  {
   "cell_type": "markdown",
   "metadata": {
    "ein.tags": "worksheet-0",
    "slideshow": {
     "slide_type": "-"
    }
   },
   "source": [
    "## **QR eigenvalue algorithm**"
   ]
  },
  {
   "cell_type": "markdown",
   "metadata": {
    "ein.tags": "worksheet-0",
    "slideshow": {
     "slide_type": "-"
    }
   },
   "source": [
    "In order to find the eigenvalues of a matrix $A$, an iterative algorithm where\n",
    "$A^{(k)}=R^{(k)}Q^{(k)}, \\quad Q^{(k)}R^{(k)} = A^{(k-1)}$ can be used\n",
    "(algorithm 6 of chapter 6 of the notes). This algorithm corresponds to\n",
    "simultaneous power iteration, which if it converges results in $\\displaystyle\n",
    "\\lim_{k->\\infty}A^{(k)} = QTQ^T$, where $T$ is triangular with the eigenvalues\n",
    "of $A$ on the diagonal. In particular, if $A$ is Hermitian or normal, $T$ is\n",
    "diagonal, meaning the columns of $Q$ are eigenvectors of $A$.\n",
    "\n",
    "In this implementation, it is assumed that the input matrix $A$ is real and\n",
    "symmetric, such that all eigenvalues are real and that $T$ is diagonal. That\n",
    "way, the square sum of the offdiagonal elements can be used as a suitable stopping\n",
    "criterion for the iteration."
   ]
  },
  {
   "cell_type": "code",
   "execution_count": 594,
   "metadata": {
    "autoscroll": false,
    "collapsed": false,
    "ein.hycell": false,
    "ein.tags": "worksheet-0",
    "slideshow": {
     "slide_type": "-"
    }
   },
   "outputs": [
    {
     "data": {
      "text/plain": [
       "qr_evals (generic function with 2 methods)"
      ]
     },
     "execution_count": 594,
     "metadata": {},
     "output_type": "execute_result"
    }
   ],
   "source": [
    "offdiagsquaresum(A::Matrix) = norm(A)^2-sum(A[i,i]^2 for i in 1:min(size(A)...))\n",
    "\n",
    "function qr_evals(A::Matrix{T}, upperbound=1000) where T\n",
    "    (m,n) = size(A)\n",
    "    m != n && throw(DomainError((m,n),\"Matrix not square!\"))\n",
    "    temp = zeros(T,m,m)\n",
    "    Q = Matrix{T}(I,m,m)\n",
    "    A_k = copy(A)\n",
    "    for k = 1:upperbound\n",
    "        temp .= A_k\n",
    "        qr_k = QRfact(temp)\n",
    "        A_k .= qr_k.r\n",
    "        mulQ!(qr_k, Q, fromright=true)\n",
    "        mulQ!(qr_k, A_k, fromright=true)\n",
    "        offdiagsquaresum(A_k) < 1e-6 && break\n",
    "    end\n",
    "    (diag(A_k), Q)\n",
    "end"
   ]
  },
  {
   "cell_type": "markdown",
   "metadata": {
    "colab_type": "text",
    "ein.tags": "worksheet-0",
    "id": "SsQLT38gVbn_",
    "slideshow": {
     "slide_type": "-"
    }
   },
   "source": [
    "# **Results**"
   ]
  },
  {
   "cell_type": "markdown",
   "metadata": {
    "colab_type": "text",
    "ein.tags": "worksheet-0",
    "id": "RLwlnOzuV-Cd",
    "slideshow": {
     "slide_type": "-"
    }
   },
   "source": [
    "Present the results. If the result is an algorithm that you have described under\n",
    "the *Methods* section, you can present the data from verification and\n",
    "performance tests in this section. If the result is the output from a\n",
    "computational experiment this is where you present a selection of that data."
   ]
  },
  {
   "cell_type": "markdown",
   "metadata": {
    "colab_type": "text",
    "ein.tags": "worksheet-0",
    "id": "_4GLBv0zWr7m",
    "slideshow": {
     "slide_type": "-"
    }
   },
   "source": [
    "# **Discussion**"
   ]
  },
  {
   "cell_type": "markdown",
   "metadata": {
    "colab_type": "text",
    "ein.tags": "worksheet-0",
    "id": "6bcsDSoRXHZe",
    "slideshow": {
     "slide_type": "-"
    }
   },
   "source": [
    "Summarize your results and your conclusions. Were the results expected or\n",
    "surprising. Do your results have implications outside the particular problem\n",
    "investigated in this report?"
   ]
  },
  {
   "cell_type": "markdown",
   "metadata": {
    "ein.tags": "worksheet-0",
    "slideshow": {
     "slide_type": "-"
    }
   },
   "source": [
    "# **References**"
   ]
  },
  {
   "cell_type": "markdown",
   "metadata": {
    "ein.tags": "worksheet-0",
    "slideshow": {
     "slide_type": "-"
    }
   },
   "source": [
    "- Hoffman, J. 2019. *Introduction to Scientific Computing*\n",
    "- Golub, Gene H. and Van Loan, Charles F. 2013. *Matrix Computations*. 4th ed. Baltimore: John Hopkins University Press."
   ]
  }
 ],
 "metadata": {
  "colab": {
   "include_colab_link": true,
   "name": "template-report-lab-X.ipynb",
   "provenance": null,
   "version": "0.3.2"
  },
  "kernelspec": {
   "display_name": "Julia 1.1.0",
   "name": "julia-1.1"
  },
  "name": "andersthune_lab2.ipynb"
 },
 "nbformat": 4,
 "nbformat_minor": 0
}
