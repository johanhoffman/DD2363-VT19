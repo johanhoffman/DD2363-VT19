{
 "cells": [
  {
   "cell_type": "markdown",
   "metadata": {
    "ein.tags": "worksheet-0",
    "slideshow": {
     "slide_type": "-"
    }
   },
   "source": [
    "**Note:** This notebook is written in the Julia language, so the cells can't be\n",
    "  executed in Google Colab. If you want to verify that the notebook works, I\n",
    "  recommend [JuliaBox](https://juliabox.com/) or testing locally. The syntax is\n",
    "  very similar to Python and MATLAB. Note in particular the dot syntax used to\n",
    "  perform elementwise operations (`f.(x)` applies `f` to all elements of `x`)\n",
    "  and that indices start at 1."
   ]
  },
  {
   "cell_type": "markdown",
   "metadata": {
    "colab_type": "text",
    "ein.tags": "worksheet-0",
    "id": "6RgtXlfYO_i7",
    "slideshow": {
     "slide_type": "-"
    }
   },
   "source": [
    "# **Lab 2: Direct methods**\n",
    "**Anders Ågren Thuné**"
   ]
  },
  {
   "cell_type": "markdown",
   "metadata": {
    "colab_type": "text",
    "ein.tags": "worksheet-0",
    "id": "9x_J5FVuPzbm",
    "slideshow": {
     "slide_type": "-"
    }
   },
   "source": [
    "# **Abstract**"
   ]
  },
  {
   "cell_type": "markdown",
   "metadata": {
    "colab_type": "text",
    "ein.tags": "worksheet-0",
    "id": "6UFTSzW7P8kL",
    "slideshow": {
     "slide_type": "-"
    }
   },
   "source": [
    "Short summary of the lab report. State the objectives, methods used, main\n",
    "results and conlusions."
   ]
  },
  {
   "cell_type": "markdown",
   "metadata": {
    "colab_type": "text",
    "ein.tags": "worksheet-0",
    "id": "OkT8J7uOWpT3",
    "slideshow": {
     "slide_type": "-"
    }
   },
   "source": [
    "# *About the code**"
   ]
  },
  {
   "cell_type": "markdown",
   "metadata": {
    "colab_type": "text",
    "ein.tags": "worksheet-0",
    "id": "HmB2noTr1Oyo",
    "slideshow": {
     "slide_type": "-"
    }
   },
   "source": [
    "A short statement on who is the author of the file, and if the code is\n",
    "distributed under a certain license."
   ]
  },
  {
   "cell_type": "code",
   "execution_count": 1,
   "metadata": {
    "autoscroll": false,
    "colab": {
     "base_uri": "https://localhost:8080/",
     "height": 34
    },
    "colab_type": "code",
    "collapsed": false,
    "ein.hycell": false,
    "ein.tags": "worksheet-0",
    "id": "Pdll1Xc9WP0e",
    "outputId": "1e1de3c9-fbe5-46c9-c3de-2986013df3c9",
    "slideshow": {
     "slide_type": "-"
    }
   },
   "outputs": [
    {
     "data": {
      "text/plain": [
       "'KTH Royal Institute of Technology, Stockholm, Sweden.'"
      ]
     },
     "execution_count": 1,
     "metadata": {
      "tags": null
     },
     "output_type": "execute_result"
    }
   ],
   "source": [
    "\"\"\"DD2363 Methods in Scientific Computing, \"\"\"\n",
    "\"\"\"KTH Royal Institute of Technology, Stockholm, Sweden.\"\"\"\n",
    "\n",
    "# Copyright (C) 2019\n",
    "# Anders Ågren Thuné (athune@kth.se)\n",
    "# Johan Hoffman (jhoffman@kth.se)\n",
    "\n",
    "# Code written by Anders Ågren Thuné based on the template by Johan Hoffman.\n",
    "\n",
    "# This file is part of the course DD2363 Methods in Scientific Computing\n",
    "# KTH Royal Institute of Technology, Stockholm, Sweden\n",
    "#\n",
    "# This is free software: you can redistribute it and/or modify\n",
    "# it under the terms of the GNU Lesser General Public License as published by\n",
    "# the Free Software Foundation, either version 3 of the License, or\n",
    "# (at your option) any later version."
   ]
  },
  {
   "cell_type": "markdown",
   "metadata": {
    "colab_type": "text",
    "ein.tags": "worksheet-0",
    "id": "28xLGz8JX3Hh",
    "slideshow": {
     "slide_type": "-"
    }
   },
   "source": [
    "# **Set up environment**"
   ]
  },
  {
   "cell_type": "code",
   "execution_count": 11,
   "metadata": {
    "autoscroll": false,
    "colab": null,
    "colab_type": "code",
    "collapsed": false,
    "ein.hycell": false,
    "ein.tags": "worksheet-0",
    "id": "Xw7VlErAX7NS",
    "slideshow": {
     "slide_type": "-"
    }
   },
   "outputs": [],
   "source": [
    "using LinearAlgebra"
   ]
  },
  {
   "cell_type": "markdown",
   "metadata": {
    "colab_type": "text",
    "ein.tags": "worksheet-0",
    "id": "gnO3lhAigLev",
    "slideshow": {
     "slide_type": "-"
    }
   },
   "source": [
    "# **Introduction**"
   ]
  },
  {
   "cell_type": "markdown",
   "metadata": {
    "colab_type": "text",
    "ein.tags": "worksheet-0",
    "id": "l5zMzgPlRAF6",
    "slideshow": {
     "slide_type": "-"
    }
   },
   "source": [
    "Systems of linear equations appear frequently in a wide variety of problems. A\n",
    "system of linear equations can be expressed in linear algebra terms as $Ax = b$,\n",
    "which, if solvable, has the solution $x = A^{-1}b$. As such, being able to\n",
    "compute the inverse of a given matrix is a problem of great importance. This is\n",
    "difficult in general, but certain classes of matrices have easily computable\n",
    "inverses; an orthogonal matrix $Q$ has the inverse $Q^T$ and the inverse of a\n",
    "triangular matrix can be computed through back (or forward) substitution.\n",
    "Therefore, a common approach to computing the inverse of a given matrix is to\n",
    "factor it into triangular and orthogonal matrices, which can then be easily\n",
    "inverted. One such factorization is the QR factorization in which any matrix $A$\n",
    "is factored into an orthogonal matrix $Q$ and an upper triangular matrix $R$.\n",
    "The inverse is then given by $A^{-1}=(QR)^{-1}=R^{-1}Q^T$.\n",
    "\n",
    "Even when the system $Ax=b$ is unsolvable (there is no $A^{-1}), the best\n",
    "possible solution can be obtained by projecting $b$ orthogonally onto\n",
    "$range(A)$. This gives the approximated solution $\\hat{x} = (A^TA)^{-1}A^Tb$,\n",
    "where $(A^TA)^{-1}$ is called the *pseudo-inverse* of $A$.\n",
    "\n",
    "The QR factorization can also be used in a wider range of problems. One such\n",
    "problem is eigenvalue computation, where an iterative $QR$-algorithm can be used\n",
    "to obtain a Schur factorization of a symmetric matrix. That is, a factorization\n",
    "$A = QTQ^T$, where $T$ is a triangular matrix with the eigenvalues of $A$ on\n",
    "the diagonal.\n",
    "\n",
    "This report presents how these concepts, described in chapters 5 and 6 of the\n",
    "lecture notes, were used to implement the following:\n",
    "- A function for QR factorization\n",
    "- A direct solver of of $Ax=b$\n",
    "- A solver of the least squares problem $Ax=b$\n",
    "- A function performing the QR eigenvalue algorithm"
   ]
  },
  {
   "cell_type": "markdown",
   "metadata": {
    "colab_type": "text",
    "ein.tags": "worksheet-0",
    "id": "WeFO9QMeUOAu",
    "slideshow": {
     "slide_type": "-"
    }
   },
   "source": [
    "# **Methods**"
   ]
  },
  {
   "cell_type": "markdown",
   "metadata": {
    "ein.tags": "worksheet-0",
    "slideshow": {
     "slide_type": "-"
    }
   },
   "source": [
    "## **QR factorization**"
   ]
  },
  {
   "cell_type": "markdown",
   "metadata": {
    "ein.tags": "worksheet-0",
    "slideshow": {
     "slide_type": "-"
    }
   },
   "source": [
    "The QR factorization for a matrix can be calculated in a number of different\n",
    "ways. The method implemented here is the *Householder QR factorization*, based\n",
    "on Householder reflections. A matrix $P$ of the form $P = I-\\beta vv^T, \\quad\n",
    "\\beta = \\frac{2}{v^Tv}$ is a *Householder reflection*. This is an orthogonal\n",
    "reflector reflecting a given vector $x$ in the hyperplane\n",
    "$\\text{span}\\{v\\}^\\perp. Selecting $v$ = $\\pm \\|x\\|$ gives $Px = \\pm\\|x\\|e_1$,\n",
    "which can be utilized to construct $Q_n\\dots Q_2Q_1A = R$, where each matrix\n",
    "$Q_k$ is constructed to zero the subdiagonal elements of a column of $A$. This is\n",
    "achieved by letting $Q_k = \\begin{matrix} I & 0 \\\\ 0 P \\end{matrix}$, where P is a\n",
    "Householder reflection.\n",
    "\n",
    "[Golub & Van Loan 2013, Hoffman 2019]\n",
    "\n",
    "The following implementation is based on Algorithm 5.2.1 of Golub & Van Loan\n",
    "(2013), and results in a matrix with the upper triangular part of $R$ as its\n",
    "upper triangular part, and the vectors $v_k$ required to construct $Q$ below the\n",
    "diagonal. To be precise, all elements except the first of these vectors are\n",
    "stored, with the implicit assumption that they are normalized such that the\n",
    "first element is always 1. In addition to the function itself, a small wrapper\n",
    "struct is implemented to facilitate easy handling of this format."
   ]
  },
  {
   "cell_type": "code",
   "execution_count": 52,
   "metadata": {
    "autoscroll": false,
    "collapsed": false,
    "ein.hycell": false,
    "ein.tags": "worksheet-0",
    "slideshow": {
     "slide_type": "-"
    }
   },
   "outputs": [],
   "source": [
    "struct QRfact{T <: AbstractFloat}\n",
    "    QR :: Matrix{T}\n",
    "    betas :: Vector{T}\n",
    "\n",
    "    function QRfact(A :: Matrix{T}) where T <: AbstractFloat\n",
    "        (m, n) = size(A)\n",
    "        v = zeros(T, m)\n",
    "        betas = zeros(T, n)\n",
    "\n",
    "        for j = 1 : n\n",
    "            vj = v[j:m]\n",
    "            vj .= A[j:m,j]\n",
    "            vj[1] += sign(vj[1])*norm(vj)\n",
    "            betas[j] = 2vj[1]^2/norm(vj)^2\n",
    "            vj ./= -vj[1]\n",
    "            for k = j : n\n",
    "                A[j:m,k] .-= betas[j].*vj.*dot(vj,A[j:m,k])\n",
    "            end\n",
    "            if j<m\n",
    "               A[j+1:m,j] .= vj[2:end]\n",
    "            end\n",
    "        end\n",
    "        new{T}(A, betas)\n",
    "    end\n",
    "end"
   ]
  },
  {
   "cell_type": "code",
   "execution_count": 53,
   "metadata": {
    "autoscroll": false,
    "collapsed": false,
    "ein.hycell": false,
    "ein.tags": "worksheet-0",
    "slideshow": {
     "slide_type": "-"
    }
   },
   "outputs": [],
   "source": [
    "test = QRfact([1.0 3 4; 4 6 2; 1 1 3]);"
   ]
  },
  {
   "cell_type": "code",
   "execution_count": 54,
   "metadata": {
    "autoscroll": false,
    "collapsed": false,
    "ein.hycell": false,
    "ein.tags": "worksheet-0",
    "slideshow": {
     "slide_type": "-"
    }
   },
   "outputs": [
    {
     "data": {
      "text/plain": [
       "3×3 Array{Float64,2}:\n -4.24264   -6.59966   -3.53553\n -0.762974   1.56347    2.34521\n -0.190744  -0.287791  -3.31662"
      ]
     },
     "execution_count": 54,
     "metadata": {},
     "output_type": "execute_result"
    }
   ],
   "source": [
    "test.QR"
   ]
  },
  {
   "cell_type": "code",
   "execution_count": 80,
   "metadata": {
    "autoscroll": false,
    "collapsed": false,
    "ein.hycell": false,
    "ein.tags": "worksheet-0",
    "slideshow": {
     "slide_type": "-"
    }
   },
   "outputs": [
    {
     "data": {
      "text/plain": [
       "householder_qr (generic function with 7 methods)"
      ]
     },
     "execution_count": 80,
     "metadata": {},
     "output_type": "execute_result"
    }
   ],
   "source": [
    "function householder_qr(A::Matrix{T}) where T <: AbstractFloat\n",
    "    (m, n) = size(A)\n",
    "    for j = 1 : n\n",
    "        x = A[k:n,k]\n",
    "        vk = x\n",
    "        vk[1]+= sign(x[1])*norm(x)\n",
    "        vk ./= norm(vk)\n",
    "        A[k:n,k:n] .-= 2vk*(vk'A[k:n,k:n])\n",
    "    end\n",
    "    A\n",
    "end"
   ]
  },
  {
   "cell_type": "markdown",
   "metadata": {
    "colab_type": "text",
    "ein.tags": "worksheet-0",
    "id": "SsQLT38gVbn_",
    "slideshow": {
     "slide_type": "-"
    }
   },
   "source": [
    "# **Results**"
   ]
  },
  {
   "cell_type": "markdown",
   "metadata": {
    "colab_type": "text",
    "ein.tags": "worksheet-0",
    "id": "RLwlnOzuV-Cd",
    "slideshow": {
     "slide_type": "-"
    }
   },
   "source": [
    "Present the results. If the result is an algorithm that you have described under\n",
    "the *Methods* section, you can present the data from verification and\n",
    "performance tests in this section. If the result is the output from a\n",
    "computational experiment this is where you present a selection of that data."
   ]
  },
  {
   "cell_type": "markdown",
   "metadata": {
    "colab_type": "text",
    "ein.tags": "worksheet-0",
    "id": "_4GLBv0zWr7m",
    "slideshow": {
     "slide_type": "-"
    }
   },
   "source": [
    "# **Discussion**"
   ]
  },
  {
   "cell_type": "markdown",
   "metadata": {
    "colab_type": "text",
    "ein.tags": "worksheet-0",
    "id": "6bcsDSoRXHZe",
    "slideshow": {
     "slide_type": "-"
    }
   },
   "source": [
    "Summarize your results and your conclusions. Were the results expected or\n",
    "surprising. Do your results have implications outside the particular problem\n",
    "investigated in this report?"
   ]
  },
  {
   "cell_type": "markdown",
   "metadata": {
    "ein.tags": "worksheet-0",
    "slideshow": {
     "slide_type": "-"
    }
   },
   "source": [
    "# **References**"
   ]
  },
  {
   "cell_type": "markdown",
   "metadata": {
    "ein.tags": "worksheet-0",
    "slideshow": {
     "slide_type": "-"
    }
   },
   "source": [
    "- Hoffman, J. 2019. *Introduction to Scientific Computing*\n",
    "- Golub, Gene H. and Van Loan, Charles F. 2013. *Matrix Computations*. 4th ed. Baltimore: John Hopkins University Press."
   ]
  }
 ],
 "metadata": {
  "colab": {
   "include_colab_link": true,
   "name": "template-report-lab-X.ipynb",
   "provenance": null,
   "version": "0.3.2"
  },
  "kernelspec": {
   "display_name": "Julia 1.1.0",
   "name": "julia-1.1"
  },
  "name": "andersthune_lab2.ipynb"
 },
 "nbformat": 4,
 "nbformat_minor": 0
}
