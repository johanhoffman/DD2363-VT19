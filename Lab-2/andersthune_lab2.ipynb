{
 "cells": [
  {
   "cell_type": "markdown",
   "metadata": {
    "ein.tags": "worksheet-0",
    "slideshow": {
     "slide_type": "-"
    }
   },
   "source": [
    "**Note:** This notebook is written in the Julia language, so the cells can't be\n",
    "  executed in Google Colab. If you want to verify that the notebook works, I\n",
    "  recommend [JuliaBox](https://juliabox.com/) or testing locally. The syntax is\n",
    "  very similar to Python and MATLAB. Note in particular the dot syntax used to\n",
    "  perform elementwise operations (`f.(x)` applies `f` to all elements of `x`),\n",
    "  that indices start at 1 and that the last statement of a function is returned\n",
    "  automatically."
   ]
  },
  {
   "cell_type": "markdown",
   "metadata": {
    "colab_type": "text",
    "ein.tags": "worksheet-0",
    "id": "6RgtXlfYO_i7",
    "slideshow": {
     "slide_type": "-"
    }
   },
   "source": [
    "# **Lab 2: Direct methods**\n",
    "**Anders Ågren Thuné**"
   ]
  },
  {
   "cell_type": "markdown",
   "metadata": {
    "colab_type": "text",
    "ein.tags": "worksheet-0",
    "id": "9x_J5FVuPzbm",
    "slideshow": {
     "slide_type": "-"
    }
   },
   "source": [
    "# **Abstract**"
   ]
  },
  {
   "cell_type": "markdown",
   "metadata": {
    "colab_type": "text",
    "ein.tags": "worksheet-0",
    "id": "6UFTSzW7P8kL",
    "slideshow": {
     "slide_type": "-"
    }
   },
   "source": [
    "Short summary of the lab report. State the objectives, methods used, main\n",
    "results and conlusions."
   ]
  },
  {
   "cell_type": "markdown",
   "metadata": {
    "colab_type": "text",
    "ein.tags": "worksheet-0",
    "id": "OkT8J7uOWpT3",
    "slideshow": {
     "slide_type": "-"
    }
   },
   "source": [
    "# *About the code**"
   ]
  },
  {
   "cell_type": "markdown",
   "metadata": {
    "colab_type": "text",
    "ein.tags": "worksheet-0",
    "id": "HmB2noTr1Oyo",
    "slideshow": {
     "slide_type": "-"
    }
   },
   "source": [
    "A short statement on who is the author of the file, and if the code is\n",
    "distributed under a certain license."
   ]
  },
  {
   "cell_type": "code",
   "execution_count": 2,
   "metadata": {
    "autoscroll": false,
    "colab": {
     "base_uri": "https://localhost:8080/",
     "height": 34
    },
    "colab_type": "code",
    "collapsed": false,
    "ein.hycell": false,
    "ein.tags": "worksheet-0",
    "id": "Pdll1Xc9WP0e",
    "outputId": "1e1de3c9-fbe5-46c9-c3de-2986013df3c9",
    "slideshow": {
     "slide_type": "-"
    }
   },
   "outputs": [
    {
     "data": {
      "text/plain": [
       "\"DD2363 Methods in Scientific Computing,\\nKTH Royal Institute of Technology, Stockholm, Sweden.\\n\""
      ]
     },
     "execution_count": 2,
     "metadata": {},
     "output_type": "execute_result"
    }
   ],
   "source": [
    "\"\"\"\n",
    "DD2363 Methods in Scientific Computing,\n",
    "KTH Royal Institute of Technology, Stockholm, Sweden.\n",
    "\"\"\"\n",
    "\n",
    "# Copyright (C) 2019\n",
    "# Anders Ågren Thuné (athune@kth.se)\n",
    "# Johan Hoffman (jhoffman@kth.se)\n",
    "\n",
    "# Code written by Anders Ågren Thuné based on the template by Johan Hoffman.\n",
    "\n",
    "# This file is part of the course DD2363 Methods in Scientific Computing\n",
    "# KTH Royal Institute of Technology, Stockholm, Sweden\n",
    "#\n",
    "# This is free software: you can redistribute it and/or modify\n",
    "# it under the terms of the GNU Lesser General Public License as published by\n",
    "# the Free Software Foundation, either version 3 of the License, or\n",
    "# (at your option) any later version."
   ]
  },
  {
   "cell_type": "markdown",
   "metadata": {
    "colab_type": "text",
    "ein.tags": "worksheet-0",
    "id": "28xLGz8JX3Hh",
    "slideshow": {
     "slide_type": "-"
    }
   },
   "source": [
    "# **Set up environment**"
   ]
  },
  {
   "cell_type": "code",
   "execution_count": 3,
   "metadata": {
    "autoscroll": false,
    "colab": null,
    "colab_type": "code",
    "collapsed": false,
    "ein.hycell": false,
    "ein.tags": "worksheet-0",
    "id": "Xw7VlErAX7NS",
    "slideshow": {
     "slide_type": "-"
    }
   },
   "outputs": [],
   "source": [
    "using LinearAlgebra\n",
    "import Base: getproperty"
   ]
  },
  {
   "cell_type": "markdown",
   "metadata": {
    "colab_type": "text",
    "ein.tags": "worksheet-0",
    "id": "gnO3lhAigLev",
    "slideshow": {
     "slide_type": "-"
    }
   },
   "source": [
    "# **Introduction**"
   ]
  },
  {
   "cell_type": "markdown",
   "metadata": {
    "colab_type": "text",
    "ein.tags": "worksheet-0",
    "id": "l5zMzgPlRAF6",
    "slideshow": {
     "slide_type": "-"
    }
   },
   "source": [
    "Systems of linear equations appear frequently in a wide variety of problems. A\n",
    "system of linear equations can be expressed in linear algebra terms as $Ax = b$,\n",
    "which, if solvable, has the solution $x = A^{-1}b$. As such, being able to\n",
    "compute the inverse of a given matrix is a problem of great importance. This is\n",
    "difficult in general, but certain classes of matrices have easily computable\n",
    "inverses; an orthogonal matrix $Q$ has the inverse $Q^T$ and the inverse of a\n",
    "triangular matrix can be computed through back (or forward) substitution.\n",
    "Therefore, a common approach to computing the inverse of a given matrix is to\n",
    "factor it into triangular and orthogonal matrices, which can then be easily\n",
    "inverted. One such factorization is the QR factorization in which any matrix $A$\n",
    "is factored into an orthogonal matrix $Q$ and an upper triangular matrix $R$.\n",
    "The inverse is then given by $A^{-1}=(QR)^{-1}=R^{-1}Q^T$.\n",
    "\n",
    "Even when the system $Ax=b$ is unsolvable (there is no $A^{-1}), the best\n",
    "possible solution can be obtained by projecting $b$ orthogonally onto\n",
    "$range(A)$. This gives the approximated solution $\\hat{x} = (A^TA)^{-1}A^Tb$,\n",
    "where $(A^TA)^{-1}$ is called the *pseudo-inverse* of $A$.\n",
    "\n",
    "The QR factorization can also be used in a wider range of problems. One such\n",
    "problem is eigenvalue computation, where an iterative $QR$-algorithm can be used\n",
    "to obtain a Schur factorization of a symmetric matrix. That is, a factorization\n",
    "$A = QTQ^T$, where $T$ is a triangular matrix with the eigenvalues of $A$ on\n",
    "the diagonal.\n",
    "\n",
    "This report presents how these concepts, described in chapters 5 and 6 of the\n",
    "lecture notes, were used to implement the following:\n",
    "- A function for QR factorization\n",
    "- A direct solver of of $Ax=b$\n",
    "- A solver of the least squares problem $Ax=b$\n",
    "- A function performing the QR eigenvalue algorithm"
   ]
  },
  {
   "cell_type": "markdown",
   "metadata": {
    "colab_type": "text",
    "ein.tags": "worksheet-0",
    "id": "WeFO9QMeUOAu",
    "slideshow": {
     "slide_type": "-"
    }
   },
   "source": [
    "# **Methods**"
   ]
  },
  {
   "cell_type": "markdown",
   "metadata": {
    "ein.tags": "worksheet-0",
    "slideshow": {
     "slide_type": "-"
    }
   },
   "source": [
    "## **QR factorization**"
   ]
  },
  {
   "cell_type": "markdown",
   "metadata": {
    "ein.tags": "worksheet-0",
    "slideshow": {
     "slide_type": "-"
    }
   },
   "source": [
    "The QR factorization for a matrix can be calculated in a number of different\n",
    "ways. The method implemented here is the *Householder QR factorization*, based\n",
    "on Householder reflections. A matrix $P$ of the form $P = I-\\beta vv^T, \\quad\n",
    "\\beta = \\frac{2}{v^Tv}$ is a *Householder reflection*. This is an orthogonal\n",
    "reflector reflecting a given vector $x$ in the hyperplane\n",
    "$\\text{span}\\{v\\}^\\perp. Selecting $v$ = $\\pm \\|x\\|$ gives $Px = \\pm\\|x\\|e_1$,\n",
    "which can be utilized to construct $Q_n\\dots Q_2Q_1A = R$, where each matrix\n",
    "$Q_k$ is constructed to zero the subdiagonal elements of a column of $A$. This\n",
    "is achieved by letting $Q_k = \\begin{matrix} I & 0 \\\\ 0 P \\end{matrix}$, where P\n",
    "is a Householder reflection. When dealing with a Householder QR factorization,\n",
    "it is advantageous not to explicitly form the matrices $Q$ or $Q_k$, but instead\n",
    "utilize that $Q_kA = A - (\\beta v)(v^TA)$ and $Q_kA = A - (A v)(\\beta\n",
    "v)^T$.\n",
    "\n",
    "[Golub & Van Loan 2013: Chapter 5.1-5.2, Hoffman 2019: Chapter 5.2]\n",
    "\n",
    "The following implementation is based on Algorithm 5.2.1 of Golub & Van Loan\n",
    "(2013), and results in a matrix with the upper triangular part of $R$ as its\n",
    "upper triangular part, and the vectors $v_j$ required to construct $Q$ below the\n",
    "diagonal. To be precise, all elements except the first of these vectors are\n",
    "stored, with the implicit assumption that they are normalized such that the\n",
    "first element is always 1. In addition to the function itself, a wrapper\n",
    "struct (analogous to a Python class) is implemented to facilitate easy handling\n",
    "of this format."
   ]
  },
  {
   "cell_type": "code",
   "execution_count": 445,
   "metadata": {
    "autoscroll": false,
    "collapsed": false,
    "ein.hycell": false,
    "ein.tags": "worksheet-0",
    "slideshow": {
     "slide_type": "-"
    }
   },
   "outputs": [
    {
     "data": {
      "text/plain": [
       "QRfactorization"
      ]
     },
     "execution_count": 445,
     "metadata": {},
     "output_type": "execute_result"
    }
   ],
   "source": [
    "\"\"\"\n",
    "A struct for representing the QR factorization of a matrix\n",
    "in a compact way. The constructor computes the factorization\n",
    "using Algorithm 5.2.1 of Golub & Van Loan (2013),\n",
    "modifying the argument in place.\n",
    "\"\"\"\n",
    "mutable struct QRfact{T <: AbstractFloat}\n",
    "    QR :: Matrix{T}\n",
    "    betas :: Vector{T}\n",
    "\n",
    "    function QRfact(A :: Matrix{T}) where T <: AbstractFloat\n",
    "        (m, n) = size(A)\n",
    "        v = zeros(T, m)\n",
    "        betas = zeros(T, n)\n",
    "\n",
    "        for j = 1 : n\n",
    "            v[j:m] .= A[j:m,j]\n",
    "            v[j] += sign(v[j])*norm(v[j:m])\n",
    "            betas[j] = 2v[j]^2/norm(v[j:m])^2\n",
    "            v[j:m] ./= v[j]\n",
    "            for k = j : n\n",
    "                A[j:m,k] .-= betas[j].*v[j:m].*dot(v[j:m],A[j:m,k])\n",
    "            end\n",
    "            if j<m\n",
    "               A[j+1:m,j] .= v[j+1:m]\n",
    "            end\n",
    "        end\n",
    "        new{T}(A, betas)\n",
    "    end\n",
    "end\n",
    "\n",
    "\"\"\"\n",
    "Overloads getproperty to allow easy extraction of Q and R factors.\n",
    "Enables dot syntax, as in the following example:\n",
    "> QR = QRfactorization(A)\n",
    "> Q = QR.q\n",
    "> R = QR.r\n",
    "\"\"\"\n",
    "function getproperty(qr :: QRfact{T}, f :: Symbol) where T\n",
    "    QR = getfield(qr, :QR)\n",
    "    (m, n) = size(QR)\n",
    "    if f == :q\n",
    "        Q = Matrix{T}(I,m,m)\n",
    "        mulQ!(qr,Q)\n",
    "    elseif f == :qt\n",
    "        Qt = Matrix{T}(I,m,m)\n",
    "        mulQ!(qr,Qt,transpose=true)\n",
    "    elseif f == :r\n",
    "        triu(QR)\n",
    "    elseif f == :factors\n",
    "        QR\n",
    "    else\n",
    "        error(\"type $(typeof(qr)) has no field $f\")\n",
    "    end\n",
    "end\n",
    "\n",
    "\"\"\"\n",
    "Multiply the matrix C with the Q factor of a QR factorization.\n",
    "Keywords specify whether to multiply with Q or Q^T, and whether\n",
    "to multiply from the left or from the right. Modifies C in place\n",
    "and returns the result.\n",
    "\"\"\"\n",
    "function mulQ!(qr :: QRfact{T}, C :: VecOrMat{T};\n",
    "               transpose = false, fromright = false) where T\n",
    "    QR = getfield(qr, :QR)\n",
    "    betas = getfield(qr, :betas)\n",
    "    (m,n) = size(QR)\n",
    "    Csize = typeof(C) <: Vector ? (length(C), 1) : size(C)\n",
    "\n",
    "    index_to_match = Int(fromright)+1\n",
    "    if Csize[index_to_match] != m\n",
    "        throw(DomainError((m,Csize[index_to_match]),\n",
    "            \"The matrices' dimensions don't match!\"))\n",
    "    end\n",
    "    iterateForwards = xor(fromright, transpose)\n",
    "    iterRange = iterateForwards ? (1:n) : (n:-1:1)\n",
    "\n",
    "    v = zeros(T, m)\n",
    "    temp = zeros(T,Csize[1])\n",
    "    for j = iterRange\n",
    "        v[j] = one(T)\n",
    "        v[j+1:m] .= QR[j+1:m,j]\n",
    "        if fromright\n",
    "            mul!(temp, C[:,j:m], v[j:m])\n",
    "            for k = j : m\n",
    "                C[:,k] .-= temp .*betas[j].*v[k]\n",
    "            end\n",
    "        else\n",
    "            for k = 1 : Csize[2]\n",
    "                C[j:m,k] .-= betas[j].*v[j:m].*dot(v[j:m],C[j:m,k])\n",
    "            end\n",
    "        end\n",
    "    end\n",
    "    C\n",
    "end\n",
    "\n",
    "\"\"\"\n",
    "Get the QR factorization of A without modifying the original.\n",
    "\"\"\"\n",
    "QRfactorization(A :: Matrix{<:AbstractFloat}) = QRfact(copy(A))"
   ]
  },
  {
   "cell_type": "markdown",
   "metadata": {
    "ein.tags": "worksheet-0",
    "slideshow": {
     "slide_type": "-"
    }
   },
   "source": [
    "## **Direct solver**"
   ]
  },
  {
   "cell_type": "markdown",
   "metadata": {
    "ein.tags": "worksheet-0",
    "slideshow": {
     "slide_type": "-"
    }
   },
   "source": [
    "The solution to the system $Ax=b$ can be obtained as $x = A^{-1}b = R^{-1}Q^Tb$,\n",
    "once $A$ has been factored into $Q$ and $R$. Setting $y$ = $Q^Tb$, the equation\n",
    "to solve is $x = R^{-1}y$. Algorithm 2 of chapter 5 in the notes describes how\n",
    "such a system can be solved, using *back substitution*. In the implementation\n",
    "below, the summation of the original algorithm is replaced by a dot product."
   ]
  },
  {
   "cell_type": "code",
   "execution_count": 466,
   "metadata": {
    "autoscroll": false,
    "collapsed": false,
    "ein.hycell": false,
    "ein.tags": "worksheet-0",
    "slideshow": {
     "slide_type": "-"
    }
   },
   "outputs": [
    {
     "data": {
      "text/plain": [
       "backsubstitute"
      ]
     },
     "execution_count": 466,
     "metadata": {},
     "output_type": "execute_result"
    }
   ],
   "source": [
    "\"\"\"\n",
    "Compute x = U^-1 b through back substitution for any upper triangular matrix U.\n",
    "\"\"\"\n",
    "function backsubstitute(U::Matrix, b::Vector)\n",
    "    m = length(b)\n",
    "    if m != size(U)[1]\n",
    "        throw(DomainError((m,size(U)[1]), \"The dimensions of U and b don't match!\"))\n",
    "    end\n",
    "    x = zeros(m)\n",
    "    x[m] = b[m]/U[m,m]\n",
    "    for j = m-1:-1:1\n",
    "        x[j] = (b[j] - dot(U[j,j+1:m],x[j+1:m]))/U[j,j]\n",
    "    end\n",
    "    x\n",
    "end"
   ]
  },
  {
   "cell_type": "code",
   "execution_count": 467,
   "metadata": {
    "autoscroll": false,
    "collapsed": false,
    "ein.hycell": false,
    "ein.tags": "worksheet-0",
    "slideshow": {
     "slide_type": "-"
    }
   },
   "outputs": [
    {
     "data": {
      "text/plain": [
       "directsolver"
      ]
     },
     "execution_count": 467,
     "metadata": {},
     "output_type": "execute_result"
    }
   ],
   "source": [
    "\"\"\"\n",
    "Compute x = A^-1 b for any invertible matrix A.\n",
    "\"\"\"\n",
    "function directsolver(A::Matrix, b::Vector)\n",
    "    qr = QRfactorization(A)\n",
    "    y = copy(b)\n",
    "    mulQ!(qr,y, transpose=true)\n",
    "    backsubstitute(qr.factors,y)\n",
    "end"
   ]
  },
  {
   "cell_type": "markdown",
   "metadata": {
    "ein.tags": "worksheet-0",
    "slideshow": {
     "slide_type": "-"
    }
   },
   "source": [
    "## **Least squares solver**"
   ]
  },
  {
   "cell_type": "markdown",
   "metadata": {
    "ein.tags": "worksheet-0",
    "slideshow": {
     "slide_type": "-"
    }
   },
   "source": [
    "This is very similar to the above. In order to solve the least squares problem,\n",
    "we solve $x = (A^TA)^{-1}(A^Tb)$, which is an equation solvable directly, as\n",
    "$A^TA$ is a positive definite symmetric matrix for all $A$."
   ]
  },
  {
   "cell_type": "code",
   "execution_count": 468,
   "metadata": {
    "autoscroll": false,
    "collapsed": false,
    "ein.hycell": false,
    "ein.tags": "worksheet-0",
    "slideshow": {
     "slide_type": "-"
    }
   },
   "outputs": [
    {
     "data": {
      "text/plain": [
       "leastsquares"
      ]
     },
     "execution_count": 468,
     "metadata": {},
     "output_type": "execute_result"
    }
   ],
   "source": [
    "\"\"\"\n",
    "Compute the best solution x to Ax = b for a non-invertible matrix A, given by\n",
    "x = (A^T A)^-1 (A^T b)\n",
    "\"\"\"\n",
    "leastsquares(A::Matrix, b::Vector) = directsolver(A'A, A'b)"
   ]
  },
  {
   "cell_type": "code",
   "execution_count": 469,
   "metadata": {
    "autoscroll": false,
    "collapsed": false,
    "ein.hycell": false,
    "ein.tags": "worksheet-0",
    "slideshow": {
     "slide_type": "-"
    }
   },
   "outputs": [
    {
     "data": {
      "text/plain": [
       "6×3 Array{Float64,2}:\n 0.0322851  0.602584   0.00667616\n 0.952147   0.431032   0.950972  \n 0.385927   0.0360104  0.816445  \n 0.600568   0.379458   0.805187  \n 0.248099   0.886512   0.311007  \n 0.845026   0.0967036  0.0485464 "
      ]
     },
     "execution_count": 469,
     "metadata": {},
     "output_type": "execute_result"
    }
   ],
   "source": [
    "A = rand(6,3)"
   ]
  },
  {
   "cell_type": "code",
   "execution_count": 470,
   "metadata": {
    "autoscroll": false,
    "collapsed": false,
    "ein.hycell": false,
    "ein.tags": "worksheet-0",
    "slideshow": {
     "slide_type": "-"
    }
   },
   "outputs": [
    {
     "data": {
      "text/plain": [
       "6-element Array{Float64,1}:\n 0.7910663988052073 \n 0.279495963495076  \n 0.05642527638757877\n 0.8857219521340596 \n 0.5982403158058058 \n 0.9692496834761894 "
      ]
     },
     "execution_count": 470,
     "metadata": {},
     "output_type": "execute_result"
    }
   ],
   "source": [
    "b = rand(6)"
   ]
  },
  {
   "cell_type": "code",
   "execution_count": 471,
   "metadata": {
    "autoscroll": false,
    "collapsed": false,
    "ein.hycell": false,
    "ein.tags": "worksheet-0",
    "slideshow": {
     "slide_type": "-"
    }
   },
   "outputs": [
    {
     "data": {
      "text/plain": [
       "LinearAlgebra.QRCompactWY{Float64,Array{Float64,2}}\nQ factor:\n6×6 LinearAlgebra.QRCompactWYQ{Float64,Array{Float64,2}}:\n -0.021802   0.572056     0.163965   -0.259826   -0.750748   -0.119415 \n -0.64298    0.00818856  -0.181365   -0.282395    0.188352   -0.662112 \n -0.260614  -0.131558    -0.601829   -0.455626   -0.156478    0.566122 \n -0.405561   0.109787    -0.324557    0.80254    -0.263822    0.0667638\n -0.16754    0.755015     0.0654419  -0.0076105   0.547305    0.313049 \n -0.570642  -0.270697     0.684401   -0.0319328  -0.0852688   0.352698 \nR factor:\n3×3 Array{Float64,2}:\n -1.48083  -0.65727  -1.23074 \n  0.0       1.02832   0.214268\n  0.0       0.0      -0.870489"
      ]
     },
     "execution_count": 471,
     "metadata": {},
     "output_type": "execute_result"
    }
   ],
   "source": [
    "test = qr(A)"
   ]
  },
  {
   "cell_type": "code",
   "execution_count": 472,
   "metadata": {
    "autoscroll": false,
    "collapsed": false,
    "ein.hycell": false,
    "ein.tags": "worksheet-0",
    "slideshow": {
     "slide_type": "-"
    }
   },
   "outputs": [
    {
     "data": {
      "text/plain": [
       "6×3 Array{Float64,2}:\n -1.48083   -0.65727    -1.23074  \n  0.629261   1.02832     0.214268 \n  0.255054   0.205257   -0.870489 \n  0.396907   0.0867496   0.230218 \n  0.163965  -0.489144    0.0634757\n  0.558466   0.436587   -0.452333 "
      ]
     },
     "execution_count": 472,
     "metadata": {},
     "output_type": "execute_result"
    }
   ],
   "source": [
    "f = getfield(test.Q, :factors)"
   ]
  },
  {
   "cell_type": "code",
   "execution_count": 473,
   "metadata": {
    "autoscroll": false,
    "collapsed": false,
    "ein.hycell": false,
    "ein.tags": "worksheet-0",
    "slideshow": {
     "slide_type": "-"
    }
   },
   "outputs": [
    {
     "data": {
      "text/plain": [
       "6×3 Array{Float64,2}:\n -1.48083   -0.65727    -1.23074  \n  0.629261   1.02832     0.214268 \n  0.255054   0.205257   -0.870489 \n  0.396907   0.0867496   0.230218 \n  0.163965  -0.489144    0.0634757\n  0.558466   0.436587   -0.452333 "
      ]
     },
     "execution_count": 473,
     "metadata": {},
     "output_type": "execute_result"
    }
   ],
   "source": [
    "test2 = QRfactorization(A)\n",
    "getfield(test2, :QR)"
   ]
  },
  {
   "cell_type": "code",
   "execution_count": 474,
   "metadata": {
    "autoscroll": false,
    "collapsed": false,
    "ein.hycell": false,
    "ein.tags": "worksheet-0",
    "slideshow": {
     "slide_type": "-"
    }
   },
   "outputs": [
    {
     "data": {
      "text/plain": [
       "6×3 Array{Float64,2}:\n -1.48083  -0.65727  -1.23074 \n  0.0       1.02832   0.214268\n  0.0       0.0      -0.870489\n  0.0       0.0       0.0     \n  0.0       0.0       0.0     \n  0.0       0.0       0.0     "
      ]
     },
     "execution_count": 474,
     "metadata": {},
     "output_type": "execute_result"
    }
   ],
   "source": [
    "r = test2.r"
   ]
  },
  {
   "cell_type": "code",
   "execution_count": 475,
   "metadata": {
    "autoscroll": false,
    "collapsed": false,
    "ein.hycell": false,
    "ein.tags": "worksheet-0",
    "slideshow": {
     "slide_type": "-"
    }
   },
   "outputs": [
    {
     "data": {
      "text/plain": [
       "3"
      ]
     },
     "execution_count": 475,
     "metadata": {},
     "output_type": "execute_result"
    }
   ],
   "source": [
    "r[1]=3"
   ]
  },
  {
   "cell_type": "code",
   "execution_count": 476,
   "metadata": {
    "autoscroll": false,
    "collapsed": false,
    "ein.hycell": false,
    "ein.tags": "worksheet-0",
    "slideshow": {
     "slide_type": "-"
    }
   },
   "outputs": [
    {
     "data": {
      "text/plain": [
       "6×3 Array{Float64,2}:\n -1.48083   -0.65727    -1.23074  \n  0.629261   1.02832     0.214268 \n  0.255054   0.205257   -0.870489 \n  0.396907   0.0867496   0.230218 \n  0.163965  -0.489144    0.0634757\n  0.558466   0.436587   -0.452333 "
      ]
     },
     "execution_count": 476,
     "metadata": {},
     "output_type": "execute_result"
    }
   ],
   "source": [
    "getfield(test2, :QR)"
   ]
  },
  {
   "cell_type": "code",
   "execution_count": 477,
   "metadata": {
    "autoscroll": false,
    "collapsed": false,
    "ein.hycell": false,
    "ein.tags": "worksheet-0",
    "slideshow": {
     "slide_type": "-"
    }
   },
   "outputs": [
    {
     "data": {
      "text/plain": [
       "6×3 Array{Float64,2}:\n 0.0322851  0.602584   0.00667616\n 0.952147   0.431032   0.950972  \n 0.385927   0.0360104  0.816445  \n 0.600568   0.379458   0.805187  \n 0.248099   0.886512   0.311007  \n 0.845026   0.0967036  0.0485464 "
      ]
     },
     "execution_count": 477,
     "metadata": {},
     "output_type": "execute_result"
    }
   ],
   "source": [
    "A"
   ]
  },
  {
   "cell_type": "code",
   "execution_count": 478,
   "metadata": {
    "autoscroll": false,
    "collapsed": false,
    "ein.hycell": false,
    "ein.tags": "worksheet-0",
    "slideshow": {
     "slide_type": "-"
    }
   },
   "outputs": [
    {
     "data": {
      "text/plain": [
       "6×3 Array{Float64,2}:\n -0.0654059  0.602584   0.00667616\n -1.92894    0.431032   0.950972  \n -0.781843   0.0360104  0.816445  \n -1.21668    0.379458   0.805187  \n -0.502619   0.886512   0.311007  \n -1.71193    0.0967036  0.0485464 "
      ]
     },
     "execution_count": 478,
     "metadata": {},
     "output_type": "execute_result"
    }
   ],
   "source": [
    "test2.q*r"
   ]
  },
  {
   "cell_type": "code",
   "execution_count": 479,
   "metadata": {
    "autoscroll": false,
    "collapsed": false,
    "ein.hycell": false,
    "ein.tags": "worksheet-0",
    "slideshow": {
     "slide_type": "-"
    }
   },
   "outputs": [
    {
     "data": {
      "text/plain": [
       "6×3 Array{Float64,2}:\n -1.48083      -0.65727      -1.23074    \n -1.77219e-16   1.02832       0.214268   \n -1.25326e-17   2.63808e-17  -0.870489   \n  7.11934e-17   4.97521e-18   0.0        \n  1.92416e-16   1.1622e-16   -1.38778e-17\n  1.25329e-16  -3.70424e-17   0.0        "
      ]
     },
     "execution_count": 479,
     "metadata": {},
     "output_type": "execute_result"
    }
   ],
   "source": [
    "Ass = copy(A)\n",
    "mulQ!(test2, Ass, transpose=true)\n",
    "Ass"
   ]
  },
  {
   "cell_type": "code",
   "execution_count": 480,
   "metadata": {
    "autoscroll": false,
    "collapsed": false,
    "ein.hycell": false,
    "ein.tags": "worksheet-0",
    "slideshow": {
     "slide_type": "-"
    }
   },
   "outputs": [
    {
     "data": {
      "text/plain": [
       "3×6 Array{Float64,2}:\n 0.585429  0.826954   0.52445   0.645115  0.924462  0.322732 \n 0.679941  0.747981   0.102294  0.176977  0.559523  0.489632 \n 0.246689  0.0551864  0.957945  0.686303  0.301666  0.0920479"
      ]
     },
     "execution_count": 480,
     "metadata": {},
     "output_type": "execute_result"
    }
   ],
   "source": [
    "testerrand = rand(3, 6)"
   ]
  },
  {
   "cell_type": "code",
   "execution_count": 481,
   "metadata": {
    "autoscroll": false,
    "collapsed": false,
    "ein.hycell": false,
    "ein.tags": "worksheet-0",
    "slideshow": {
     "slide_type": "-"
    }
   },
   "outputs": [
    {
     "data": {
      "text/plain": [
       "3×6 Array{Float64,2}:\n -0.353903   -0.686502  -0.832877  -0.0214679  1.16268   -0.184591\n -0.0946776  -0.718398  -0.228166  -0.199733   0.915676  -0.401138\n -0.232526   -0.529837  -0.955862   0.0724491  0.251722   0.484735"
      ]
     },
     "execution_count": 481,
     "metadata": {},
     "output_type": "execute_result"
    }
   ],
   "source": [
    "testerrand * test.Q'"
   ]
  },
  {
   "cell_type": "code",
   "execution_count": 482,
   "metadata": {
    "autoscroll": false,
    "collapsed": false,
    "ein.hycell": false,
    "ein.tags": "worksheet-0",
    "slideshow": {
     "slide_type": "-"
    }
   },
   "outputs": [
    {
     "data": {
      "text/plain": [
       "3×6 Array{Float64,2}:\n -0.353903   -0.686502  -0.832877  -0.0214679  1.16268   -0.184591\n -0.0946776  -0.718398  -0.228166  -0.199733   0.915676  -0.401138\n -0.232526   -0.529837  -0.955862   0.0724491  0.251722   0.484735"
      ]
     },
     "execution_count": 482,
     "metadata": {},
     "output_type": "execute_result"
    }
   ],
   "source": [
    "res = copy(testerrand)\n",
    "mulQ!(test2,res,fromright=true,transpose=true)\n",
    "res"
   ]
  },
  {
   "cell_type": "code",
   "execution_count": 483,
   "metadata": {
    "autoscroll": false,
    "collapsed": false,
    "ein.hycell": false,
    "ein.tags": "worksheet-0",
    "slideshow": {
     "slide_type": "-"
    }
   },
   "outputs": [
    {
     "data": {
      "text/plain": [
       "3-element Array{Float64,1}:\n  0.9003040935948777\n  0.8238704177869213\n -0.5285491649657518"
      ]
     },
     "execution_count": 483,
     "metadata": {},
     "output_type": "execute_result"
    }
   ],
   "source": [
    "A\\b"
   ]
  },
  {
   "cell_type": "code",
   "execution_count": 484,
   "metadata": {
    "autoscroll": false,
    "collapsed": false,
    "ein.hycell": false,
    "ein.tags": "worksheet-0",
    "slideshow": {
     "slide_type": "-"
    }
   },
   "outputs": [
    {
     "data": {
      "text/plain": [
       "3-element Array{Float64,1}:\n  0.9003040935948778\n  0.823870417786922 \n -0.5285491649657525"
      ]
     },
     "execution_count": 484,
     "metadata": {},
     "output_type": "execute_result"
    }
   ],
   "source": [
    "leastsquares(A,b)"
   ]
  },
  {
   "cell_type": "markdown",
   "metadata": {
    "colab_type": "text",
    "ein.tags": "worksheet-0",
    "id": "SsQLT38gVbn_",
    "slideshow": {
     "slide_type": "-"
    }
   },
   "source": [
    "# **Results**"
   ]
  },
  {
   "cell_type": "markdown",
   "metadata": {
    "colab_type": "text",
    "ein.tags": "worksheet-0",
    "id": "RLwlnOzuV-Cd",
    "slideshow": {
     "slide_type": "-"
    }
   },
   "source": [
    "Present the results. If the result is an algorithm that you have described under\n",
    "the *Methods* section, you can present the data from verification and\n",
    "performance tests in this section. If the result is the output from a\n",
    "computational experiment this is where you present a selection of that data."
   ]
  },
  {
   "cell_type": "markdown",
   "metadata": {
    "colab_type": "text",
    "ein.tags": "worksheet-0",
    "id": "_4GLBv0zWr7m",
    "slideshow": {
     "slide_type": "-"
    }
   },
   "source": [
    "# **Discussion**"
   ]
  },
  {
   "cell_type": "markdown",
   "metadata": {
    "colab_type": "text",
    "ein.tags": "worksheet-0",
    "id": "6bcsDSoRXHZe",
    "slideshow": {
     "slide_type": "-"
    }
   },
   "source": [
    "Summarize your results and your conclusions. Were the results expected or\n",
    "surprising. Do your results have implications outside the particular problem\n",
    "investigated in this report?"
   ]
  },
  {
   "cell_type": "markdown",
   "metadata": {
    "ein.tags": "worksheet-0",
    "slideshow": {
     "slide_type": "-"
    }
   },
   "source": [
    "# **References**"
   ]
  },
  {
   "cell_type": "markdown",
   "metadata": {
    "ein.tags": "worksheet-0",
    "slideshow": {
     "slide_type": "-"
    }
   },
   "source": [
    "- Hoffman, J. 2019. *Introduction to Scientific Computing*\n",
    "- Golub, Gene H. and Van Loan, Charles F. 2013. *Matrix Computations*. 4th ed. Baltimore: John Hopkins University Press."
   ]
  }
 ],
 "metadata": {
  "colab": {
   "include_colab_link": true,
   "name": "template-report-lab-X.ipynb",
   "provenance": null,
   "version": "0.3.2"
  },
  "kernelspec": {
   "display_name": "Julia 1.1.0",
   "name": "julia-1.1"
  },
  "name": "andersthune_lab2.ipynb"
 },
 "nbformat": 4,
 "nbformat_minor": 0
}
