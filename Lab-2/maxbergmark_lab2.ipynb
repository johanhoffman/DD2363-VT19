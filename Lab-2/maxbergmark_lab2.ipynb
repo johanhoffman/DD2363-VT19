{
  "nbformat": 4,
  "nbformat_minor": 0,
  "metadata": {
    "colab": {
      "name": "maxbergmark-lab2.ipynb",
      "version": "0.3.2",
      "provenance": [],
      "include_colab_link": true
    },
    "kernelspec": {
      "name": "python3",
      "display_name": "Python 3"
    }
  },
  "cells": [
    {
      "cell_type": "markdown",
      "metadata": {
        "id": "view-in-github",
        "colab_type": "text"
      },
      "source": [
        "<a href=\"https://colab.research.google.com/github/johanhoffman/DD2363-VT19/blob/maxbergmark/Lab-2/maxbergmark_lab2.ipynb\" target=\"_parent\"><img src=\"https://colab.research.google.com/assets/colab-badge.svg\" alt=\"Open In Colab\"/></a>"
      ]
    },
    {
      "metadata": {
        "id": "6RgtXlfYO_i7",
        "colab_type": "text"
      },
      "cell_type": "markdown",
      "source": [
        "# **Lab 2: Direct methods**\n",
        "**Max Bergmark**"
      ]
    },
    {
      "metadata": {
        "id": "9x_J5FVuPzbm",
        "colab_type": "text"
      },
      "cell_type": "markdown",
      "source": [
        "# **Abstract**"
      ]
    },
    {
      "metadata": {
        "id": "6UFTSzW7P8kL",
        "colab_type": "text"
      },
      "cell_type": "markdown",
      "source": [
        "This lab is about implementing QR factorization of matrices, and using the factorization to solve matrix equations "
      ]
    },
    {
      "metadata": {
        "id": "OkT8J7uOWpT3",
        "colab_type": "text"
      },
      "cell_type": "markdown",
      "source": [
        "#**About the code**"
      ]
    },
    {
      "metadata": {
        "id": "HmB2noTr1Oyo",
        "colab_type": "text"
      },
      "cell_type": "markdown",
      "source": [
        "I am the author of the code in its entirety. _Add links here_"
      ]
    },
    {
      "metadata": {
        "id": "28xLGz8JX3Hh",
        "colab_type": "text"
      },
      "cell_type": "markdown",
      "source": [
        "# **Set up environment**"
      ]
    },
    {
      "metadata": {
        "id": "D2PYNusD08Wa",
        "colab_type": "text"
      },
      "cell_type": "markdown",
      "source": [
        "To have access to the neccessary modules you have to run this cell. If you need additional modules, this is where you add them. "
      ]
    },
    {
      "metadata": {
        "id": "Xw7VlErAX7NS",
        "colab_type": "code",
        "colab": {}
      },
      "cell_type": "code",
      "source": [
        "# Load neccessary modules.\n",
        "from google.colab import files\n",
        "\n",
        "import numpy as np"
      ],
      "execution_count": 0,
      "outputs": []
    },
    {
      "metadata": {
        "id": "gnO3lhAigLev",
        "colab_type": "text"
      },
      "cell_type": "markdown",
      "source": [
        "# **Introduction**"
      ]
    },
    {
      "metadata": {
        "id": "WeFO9QMeUOAu",
        "colab_type": "text"
      },
      "cell_type": "markdown",
      "source": [
        "# **Methods**"
      ]
    },
    {
      "metadata": {
        "id": "bfzj-1KwTyX3",
        "colab_type": "text"
      },
      "cell_type": "markdown",
      "source": [
        "## Helper functions\n",
        "\n",
        "To improve readability of the code, I implemented these two helper functions."
      ]
    },
    {
      "metadata": {
        "id": "dxG8aZltT9ZY",
        "colab_type": "code",
        "colab": {}
      },
      "cell_type": "code",
      "source": [
        "# return a normalized version of a vector\n",
        "def normalize(v):\n",
        "    return v / np.linalg.norm(v)\n",
        "  \n",
        "# return the length of a vector\n",
        "def norm(v):\n",
        "    return np.linalg.norm(v)\n",
        "\n",
        "# checks if a matrix is diagonal\n",
        "def is_diagonal(A):\n",
        "    return np.allclose(A, np.diag(np.diag(A)))\n",
        "\n",
        "# checks if a matrix is upper triangular\n",
        "def is_upper_triangular(A):\n",
        "    n = A.shape[0]\n",
        "    for row in range(n):\n",
        "        if not np.isclose(A[row,:row].sum(), 0, atol = 1e-15):\n",
        "            return False\n",
        "    return True"
      ],
      "execution_count": 0,
      "outputs": []
    },
    {
      "metadata": {
        "id": "zF4iBj5VURZx",
        "colab_type": "text"
      },
      "cell_type": "markdown",
      "source": [
        "## 1: QR factorization\n",
        "\n",
        "To get QR factorization working, I implemented a Python version of the pseudo code in Algorithm 3 in section 5.2 (page 70). Since that algorithm gives us both Q and R right away, it was suitable for this task."
      ]
    },
    {
      "metadata": {
        "id": "Kn3b4nDNOVKH",
        "colab_type": "code",
        "colab": {}
      },
      "cell_type": "code",
      "source": [
        "def factorize_qr(A):\n",
        "    n = A.shape[0]\n",
        "    V = A.copy()\n",
        "    Q = np.zeros_like(A, dtype = np.float64)\n",
        "    R = Q.copy()\n",
        "    for i in range(A.shape[0]):\n",
        "        r_ii = norm(V[:,i])\n",
        "        R[i,i] = r_ii\n",
        "        q_i = V[:,i] / r_ii\n",
        "        for j in range(i+1, n):\n",
        "            r_ij = np.dot(q_i, V[:,j])\n",
        "            V[:,j] -= r_ij * q_i\n",
        "            R[i,j] = r_ij\n",
        "        Q[:,i] = q_i\n",
        "    return Q, R\n"
      ],
      "execution_count": 0,
      "outputs": []
    },
    {
      "metadata": {
        "id": "Jd3Ks5H-OnvP",
        "colab_type": "text"
      },
      "cell_type": "markdown",
      "source": [
        "## 2: direct solver $Ax=b$\n",
        "\n",
        "With QR factorization working, it is possible to solve equation systems by using Algorithm 2 in section 5.1 (page 69). Since we can rewrite $A = QR$ with $Q$ orthogonal and $R$ upper triangular, we know that $Ax = QRx = b \\iff Q^{-1}QRx = Q^{-1}b$, but since $Q$ is orthogonal we also know that $Q^{-1} = Q^T$, which gives us the new form $Rx = Q^Tb$. Since $R$ is upper triangular, we are able to solve the system by first solving for $x_n$, and then move upwards along the rows, substituting the values that are already solved. "
      ]
    },
    {
      "metadata": {
        "id": "M5nMlIlXO15k",
        "colab_type": "code",
        "colab": {}
      },
      "cell_type": "code",
      "source": [
        "def solve_QR(A, b):\n",
        "    n = A.shape[0]\n",
        "    Q, R = factorize_qr(A)\n",
        "    b_q = np.dot(Q.T, b)\n",
        "    x = np.zeros_like(b)\n",
        "    for j in range(n-1, -1, -1):\n",
        "        x_sum = np.dot(R[j, j+1:], x[j+1:])\n",
        "        x[j] = (b_q[j] - x_sum) / R[j,j]\n",
        "    return x"
      ],
      "execution_count": 0,
      "outputs": []
    },
    {
      "metadata": {
        "id": "YrG1MdSLQVWZ",
        "colab_type": "text"
      },
      "cell_type": "markdown",
      "source": [
        "## 3: Least squares problem $Ax=b$\n",
        "\n",
        "In order to solve over-determined matrix systems, where there are more equations than there are variables, we transform the equation by multiplying both sides by $A^T$, giving us $A^TAx = A^Tb$. Since $A^TA$ is a square matrix, we can use the same algorithm as we did before."
      ]
    },
    {
      "metadata": {
        "id": "MPgn3vd_Rkmk",
        "colab_type": "code",
        "colab": {}
      },
      "cell_type": "code",
      "source": [
        "def solve_least_squares(A, b):\n",
        "    new_A = np.dot(A.T, A)\n",
        "    new_b = np.dot(A.T, b)\n",
        "    return solve_QR(new_A, new_b)"
      ],
      "execution_count": 0,
      "outputs": []
    },
    {
      "metadata": {
        "id": "NzKmxchwRopv",
        "colab_type": "text"
      },
      "cell_type": "markdown",
      "source": [
        "## 4: QR eigenvalue algorithm\n",
        "\n",
        "The algorithm described for generating eigenvalues and corresponding eigenvectors is the repeated QR factorization to create a Schur factorization. The idea is to repeatedly generate $Q_iR_i = A_i$, and then updating $A$ to be $A_{i+1} = R_iQ_i$. Note the order of the multiplicands. \n",
        "\n",
        "This repeated iteration will converge to a Schur factorization for many matrices, but more importantly it will converge to a diagonalization if the matrix $A$ is symmetric. If it converges to a diagonal matrix, the eigenvalues of the original $A$ matrix can be found along the diagonal of its iterated counterpart. To get the eigenvectors, you should calculate the matrix product $Q_{eig} = \\prod_i Q_i$. The eigenvectors are then found as the column vectors of $Q_{eig}$."
      ]
    },
    {
      "metadata": {
        "id": "PMP-mJDITWB_",
        "colab_type": "code",
        "colab": {}
      },
      "cell_type": "code",
      "source": [
        "def get_eigenvalues(A):\n",
        "    A_c = A.copy()\n",
        "    n = A.shape[0]\n",
        "    pQ = np.eye(n)\n",
        "    while not is_upper_triangular(A_c):\n",
        "    # while not is_diagonal(A_c):\n",
        "        Q, R = factorize_qr(A_c)\n",
        "        pQ = np.dot(pQ, Q)\n",
        "        A_c = np.dot(R, Q)\n",
        "    eigs = np.diag(A_c)\n",
        "    return eigs, pQ"
      ],
      "execution_count": 0,
      "outputs": []
    },
    {
      "metadata": {
        "id": "SsQLT38gVbn_",
        "colab_type": "text"
      },
      "cell_type": "markdown",
      "source": [
        "# **Results**"
      ]
    },
    {
      "metadata": {
        "id": "RLwlnOzuV-Cd",
        "colab_type": "text"
      },
      "cell_type": "markdown",
      "source": [
        "## 1: QR factorization"
      ]
    },
    {
      "metadata": {
        "id": "bHkaEA50Ti0-",
        "colab_type": "code",
        "outputId": "50ec5465-5522-4030-f391-4c2c690449a1",
        "colab": {
          "base_uri": "https://localhost:8080/",
          "height": 34
        }
      },
      "cell_type": "code",
      "source": [
        "def test_QR_decomposition():\n",
        "    n = 5\n",
        "    A = np.random.rand(n, n)\n",
        "    Q, R = factorize_qr(A)\n",
        "    # check that R is upper triangular\n",
        "    for row in range(n):\n",
        "        assert np.isclose(R[row,:row].sum(), 0)\n",
        "    # assert that Q is orthogonal\n",
        "    assert np.allclose(np.dot(Q.T, Q).sum(axis = 1), 1)\n",
        "    # assert that A = Q*R\n",
        "    assert np.allclose(A, np.dot(Q, R))\n",
        "    # assert that Q * Q.T is the identity matrix\n",
        "    assert np.allclose(np.eye(n), np.dot(Q, Q.T))\n",
        "    \n",
        "test_QR_decomposition()\n",
        "print(\"Test passed!\")"
      ],
      "execution_count": 0,
      "outputs": [
        {
          "output_type": "stream",
          "text": [
            "Test passed!\n"
          ],
          "name": "stdout"
        }
      ]
    },
    {
      "metadata": {
        "id": "C0Lvb1bbUJHI",
        "colab_type": "text"
      },
      "cell_type": "markdown",
      "source": [
        "## 2: direct solver $Ax=b$\n"
      ]
    },
    {
      "metadata": {
        "id": "IdOnfvQ9UJ4X",
        "colab_type": "code",
        "outputId": "b98d7aa2-178e-43e8-dff9-58eead235897",
        "colab": {
          "base_uri": "https://localhost:8080/",
          "height": 34
        }
      },
      "cell_type": "code",
      "source": [
        "def test_QR_solve():\n",
        "    A = np.array([[1, 2], [3, 4]], dtype = np.float64)\n",
        "    x = np.array([5, 6])\n",
        "    b = np.dot(A, x)\n",
        "    x_test = solve_QR(A, b)\n",
        "    assert np.allclose(x, x_test)\n",
        "\n",
        "test_QR_solve()\n",
        "print(\"Test passed!\")"
      ],
      "execution_count": 0,
      "outputs": [
        {
          "output_type": "stream",
          "text": [
            "Test passed!\n"
          ],
          "name": "stdout"
        }
      ]
    },
    {
      "metadata": {
        "id": "fMoW-M8OUSu4",
        "colab_type": "text"
      },
      "cell_type": "markdown",
      "source": [
        "## 3: Least squares problem $Ax=b$"
      ]
    },
    {
      "metadata": {
        "id": "jeIy_nqQUTvq",
        "colab_type": "code",
        "outputId": "38419a93-fa38-478e-df67-459b26ed1f71",
        "colab": {
          "base_uri": "https://localhost:8080/",
          "height": 34
        }
      },
      "cell_type": "code",
      "source": [
        "def test_least_squares():\n",
        "    A = np.array([[1, -1], [1, 1], [2, 1]], dtype = np.float64)\n",
        "    b = np.array([2, 4, 8])\n",
        "    x_true = np.array([23/7, 8/7])\n",
        "    x_test = solve_least_squares(A, b)\n",
        "    assert np.allclose(x_true, x_test)\n",
        "    \n",
        "test_least_squares()\n",
        "print(\"Test passed!\")"
      ],
      "execution_count": 0,
      "outputs": [
        {
          "output_type": "stream",
          "text": [
            "Test passed!\n"
          ],
          "name": "stdout"
        }
      ]
    },
    {
      "metadata": {
        "id": "QWVDmlyvUcCi",
        "colab_type": "text"
      },
      "cell_type": "markdown",
      "source": [
        "## 4: QR eigenvalue algorithm"
      ]
    },
    {
      "metadata": {
        "id": "-NWG2QG_Uc9G",
        "colab_type": "code",
        "outputId": "db730e1a-0f6f-44c4-9aec-98b024ca8e5a",
        "colab": {
          "base_uri": "https://localhost:8080/",
          "height": 34
        }
      },
      "cell_type": "code",
      "source": [
        "def test_eigenvalues(A):\n",
        "    eig_val, eig_vec = get_eigenvalues(A)\n",
        "    n = A.shape[0]\n",
        "    for i in range(n):\n",
        "        v0 = eig_val[i] * eig_vec[:,i]\n",
        "        v1 = np.dot(A, eig_vec[:,i])\n",
        "        assert np.allclose(v0, v1)\n",
        "\n",
        "def test_all_eigen():\n",
        "    test_eigenvalues(np.array([[0, -1], [-1, -3]], dtype = np.float64))\n",
        "    # test_eigenvalues(np.array([[1, 2, 0], [-2, 1, 3], [0, -3, 1]], dtype = np.float64))\n",
        "    for n in range(2, 9):\n",
        "        A = np.random.rand(n, n)\n",
        "        test_eigenvalues(A + A.T)\n",
        "        \n",
        "test_all_eigen()\n",
        "print(\"Test passed!\")"
      ],
      "execution_count": 0,
      "outputs": [
        {
          "output_type": "stream",
          "text": [
            "Test passed!\n"
          ],
          "name": "stdout"
        }
      ]
    },
    {
      "metadata": {
        "id": "f7t9JNIdU_tT",
        "colab_type": "text"
      },
      "cell_type": "markdown",
      "source": [
        "## Full test suite\n",
        "\n",
        "Use this to run all tests at once."
      ]
    },
    {
      "metadata": {
        "id": "hayrpMn7VHMJ",
        "colab_type": "code",
        "outputId": "d5309db5-9554-45d6-cbd6-786376e0d9d6",
        "colab": {
          "base_uri": "https://localhost:8080/",
          "height": 34
        }
      },
      "cell_type": "code",
      "source": [
        "def run_test_suite():\n",
        "    test_QR_decomposition()\n",
        "    test_QR_solve()\n",
        "    test_least_squares()\n",
        "    test_all_eigen()\n",
        "\n",
        "run_test_suite()\n",
        "print(\"All tests passed!\")"
      ],
      "execution_count": 0,
      "outputs": [
        {
          "output_type": "stream",
          "text": [
            "All tests passed!\n"
          ],
          "name": "stdout"
        }
      ]
    },
    {
      "metadata": {
        "id": "_4GLBv0zWr7m",
        "colab_type": "text"
      },
      "cell_type": "markdown",
      "source": [
        "# **Discussion**"
      ]
    },
    {
      "metadata": {
        "id": "6bcsDSoRXHZe",
        "colab_type": "text"
      },
      "cell_type": "markdown",
      "source": [
        "Summarize your results and your conclusions. Were the results expected or surprising. Do your results have implications outside the particular problem investigated in this report? "
      ]
    }
  ]
}